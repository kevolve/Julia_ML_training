{
  "cells": [
    {
      "cell_type": "markdown",
      "metadata": {},
      "source": [
        "---\n",
        "title: \"Unit 4 - Parallel and Fast\"\n",
        "engine: julia\n",
        "jupyter: julia-1.11\n",
        "julia:\n",
        "    exeflags: [\"--project=@.\", \"--threads=8\"]\n",
        "    author:\n",
        "        - \"Aapeli Vuorinen\"\n",
        "        - \"Yoni Nazarathy\"\n",
        "---\n",
        "\n",
        "# Introduction & Motivation\n",
        "\n",
        "## Why parallel?\n",
        "\n",
        "For decades, computers got faster mainly because chipmakers squeezed more transistors onto chips and raised their clock speeds—this was Moore’s law. But after the early 2000s, increasing clock speeds hit limits due to heat and power dissipation limits. In order to get more power into machines, CPU manufacturers instead started putting multiple cores on CPUs: identical and somewhat isolated execution units that can do work independently. In essence, it became harder to make CPUs faster so they just put many on one die.\n",
        "\n",
        "GPUs, which were designed for graphics, also became much more powerful and began to be used for general-purpose computing.\n",
        "\n",
        "Now, to speed up programs beyond what a single core can do, we have to use parallel computing across multiple cores, CPUs, GPUs, or even multiple machines working together—this is called distributed computing. See for example the article @sutter2005free.\n",
        "\n",
        "This brings a whole new set of challenges to writing programs: now we can't just write code that runs linearly in the obvious order, instead we have to come up with algorithms that can be run in parallel and speed up execution by performing different parts on different logical computation units. This brings with it a whole new hoarde of bugs, but also incredible time savings and performance throughput improvements, including even the ability to do computation that would not be possible without them (e.g. training LLMs would never be possible on single-threaded CPUs).\n",
        "\n",
        "## Overview\n",
        "\n",
        "Julia is well suited for distributed computing, parallel computing, and GPU use. See the overview of [parallel computing](https://docs.julialang.org/en/v1/manual/parallel-computing/) in the Julia documentation. In this unit we deal with several layers of parallelism for speedup:\n",
        "\n",
        "1. **Multi-threading**: Use multiple CPU threads to run tasks simultaneously within a single process. See the [docs](https://docs.julialang.org/en/v1/manual/multi-threading/).\n",
        "1. **Distributed Computing**: Use multiple processes, possibly on different machines, to work together on larger problems. See the [docs](https://docs.julialang.org/en/v1/manual/distributed-computing/) as well as [Distributed.jl](https://github.com/JuliaLang/Distributed.jl) and [Malt.jl](https://github.com/JuliaPluto/Malt.jl).\n",
        "1. **GPUs**: Harness the massive parallelism of graphics processors for compute-heavy tasks. See [JuliaGPU.org](https://juliagpu.org/).\n",
        "\n",
        "Combinations of 1, 2, and 3 are obviously possible.\n",
        "\n",
        "Note that a related item, also in the Julia documentation is \"Asynchronous 'tasks', or coroutines\". See the [Asynchronous Programming docs](https://docs.julialang.org/en/v1/manual/asynchronous-programming/).\n",
        "\n",
        "We now focus on multi-threading, distributed computing, and GPUs. We then run an example with [Oceananigans.jl](https://github.com/CliMA/Oceananigans.jl) from the [CliMA organization](https://juliapackages.com/u/clima) for ocean simulation. See the recent preprint @wagner2025high.\n",
        "\n",
        "## How do we identify code for parallelisation?\n",
        "\n",
        "Knowing *when* and *where* to apply parallelisation is as crucial as knowing *how*. Not all code benefits from parallelisation, and overheads can even slow things down.\n",
        "\n",
        "* **Look for Independence:**\n",
        "    * **\"Embarrassingly Parallel\" Tasks:** If parts of your computation can run completely independently without needing results from other parts (e.g., each iteration of a `for` loop is self-contained), it's ideal for parallelization.\n",
        "    * **Data Parallelism:** Applying the same operation to different chunks of data.\n",
        "* **Consider Data Access:** access patterns are key to deciding which code does and does not benefit from parallelisation. Here are some things to think about:\n",
        "    * **Shared Memory:** Computations that share large data structures (e.g. pre-baked grids of computation) are great for threading-based parallelism where you can easily share memory. Note that this requires careful synchronization to avoid errors.\n",
        "    * **Distinct Memory:** When computing with independent data, one can often leverage parallelisation such as GPUs. Distributed computing can be useful for problems too large to fit on one machine, where data is segmented across processes. Note that heavy data transfer can *negate* gains.\n",
        "* **Profile code:** to find your code's **hotspots** – the functions or lines that consume the most time. *Don't optimize until you know what's slow!* Sometimes the slow parts are obvious, sometimes not so obvious.\n",
        "* **\"Amdahl's Law\":** Speedup is limited by the *serial* portion of code. If only a small part of code can be parallelized, even with infinite cores, total speedup is limited. Focus on parallelizing the largest possible fraction.\n",
        "\n",
        "\n",
        "## Relevant Julia communities\n",
        "\n",
        "These are great resources for Julia's parallel computing ecosystem:\n",
        "\n",
        "*   [**JuliaParallel Organization**](https://github.com/JuliaParallel): Hosts parallel packages like `Distributed.jl`, `MPI.jl`.\n",
        "*   [**JuliaGPU.org**](https://juliagpu.org/): The hub for Julia's GPU computing, deceloping `CUDA.jl`, `AMDGPU.jl`, etc.\n",
        "\n",
        "## Things we won't cover\n",
        "\n",
        "We will not delve into MPI (Message Passing Interface), but it is implemented in Julia through [MPI.jl](https://juliaparallel.org/MPI.jl/stable/). This is oftentimes used in certain computations on HPC clusters, you might want to check it out. In Julia, this functionality is largely provided by `Distributed.jl`.\n",
        "\n",
        "Because the focus is on numerical computing relevant to AIMS, we won't be discussing `@async` and non-heterogeneous multithreading in detail; we will not talk about in depth about locking and synchronization.\n",
        "\n",
        "We won't be delving into low-level CPU optimizaitons like explicit SIMD vectorization or `LoopVectorization.jl`. Note that Julia (like other LLVM-based languages) is able to utilize SIMD in a number of cases automatically.\n",
        "\n",
        "\n",
        "# Multi-threading\n",
        "\n",
        "This quarto notebook was generated with the command line flag `-t 8` (or `--threads 8`). It means there are 8 threads available. Without this flag, Julia starts up with only 1 thread. If you try in the command line `julia --help` you'll see:\n",
        "\n",
        "``` \n",
        " -t, --threads {auto|N[,auto|M]}\n",
        "                           Enable N[+M] threads; N threads are assigned to the `default`\n",
        "                           threadpool, and if M is specified, M threads are assigned to the\n",
        "                           `interactive` threadpool; `auto` tries to infer a useful\n",
        "                           default number of threads to use but the exact behavior might change\n",
        "                           in the future. Currently sets N to the number of CPUs assigned to\n",
        "                           this Julia process based on the OS-specific affinity assignment\n",
        "                           interface if supported (Linux and Windows) or to the number of CPU\n",
        "                           threads if not supported (MacOS) or if process affinity is not\n",
        "                           configured, and sets M to 1.\n",
        "```\n",
        "\n",
        "The `interactive` threadpool has higher priority and is meant for interactive tasks: such as updating the UI or doing something user facing; whereas `default` is meant for things like background jobs.\n",
        "\n",
        "Let's use the `nthreads` function inside Julia to see how many threads there are:"
      ]
    },
    {
      "cell_type": "code",
      "metadata": {},
      "source": [
        "Threads.nthreads()"
      ],
      "execution_count": null,
      "outputs": []
    },
    {
      "cell_type": "markdown",
      "metadata": {},
      "source": [
        "To help us visualize time of execution, we're going to build a small function, `time_stamp` that computes the number of 10th-seconds since the start of midnight tonight. Remember that there are `86400` seconds in a day, so expect the values of this function to reach almost up to $10^6$. We'll use this as a relative timestamp:"
      ]
    },
    {
      "cell_type": "code",
      "metadata": {},
      "source": [
        "using Dates\n",
        "\n",
        "\"\"\"\n",
        "Returns how many tenths of seconds passed since midnight\n",
        "\"\"\"\n",
        "function time_stamp()\n",
        "    now = Dates.now()\n",
        "    midnight = DateTime(Date(now))  # Today at 00:00:00\n",
        "    return Millisecond(now - midnight).value ÷ 100\n",
        "end;"
      ],
      "execution_count": null,
      "outputs": []
    },
    {
      "cell_type": "markdown",
      "metadata": {},
      "source": [
        "For basic parallelism, one of the best tools we have is the [`Threads.@threads`](https://docs.julialang.org/en/v1/base/multi-threading/#Base.Threads.@threads) macro. Now since we have 8 threads in our system, observe that this loop essentially runs in three batches (since there are 17 tasks, which is more than 16 but fewer than 24)."
      ]
    },
    {
      "cell_type": "code",
      "metadata": {},
      "source": [
        "before_start = time_stamp()\n",
        "Threads.@threads for i in 1:17\n",
        "    println(time_stamp(),\n",
        "            \".\"^(time_stamp()-before_start), # spacing proportional to elapsed time\n",
        "            \" Starting iteration $i\")\n",
        "\n",
        "    sleep(1) # sleep for one second as though \"processing something\"\n",
        "\n",
        "    println(time_stamp(),\n",
        "            \".\"^(time_stamp()-before_start), # spacing proportional to elapsed time\n",
        "             \" Finished sleeping (\\\"processing\\\") on thread $(Threads.threadid())\")\n",
        "end"
      ],
      "execution_count": null,
      "outputs": []
    },
    {
      "cell_type": "markdown",
      "metadata": {},
      "source": [
        "## Example - Mandelbrot Set\n",
        "\n",
        "The simplest class of algorithms to parallelize are called *embarrassingly parallel*: those where we are literally doing isolated computations. They are a good place to start to learn about splitting computation apart in Julia.\n",
        "\n",
        "The *Mandelbrot set* $\\mathcal M\\subseteq\\mathbb{C}$ is the set of numbers $c\\in\\mathbb{C}$ (in the complex plane) where iterating the function $f_c(z)=z^2+c$ does *not* diverge to infinity (where we start iterating with $z=0$). Clearly for example $0+0i\\in\\mathcal M$ but $4+0i\\not\\in\\mathcal M$.\n",
        "\n",
        "More formally we define the Mandelbrot set $\\mathcal M$ as follows. Fix $c\\in\\mathbb{C}$, define $z_0=0$ and set $z_{k+1}=f_c(z_k)=z_k^2+c$. Then $c\\in\\mathcal M$ if and only if $\\limsup_{k\\to\\infty}|z_k|<\\infty$.\n",
        "\n",
        "For example, at $c=-1+0i$, we have the iterates\n",
        "\n",
        "1. $z_0=0$,\n",
        "2. $z_1=0^2-1=1$,\n",
        "3. $z_2=(-1)^2-1=0$,\n",
        "4. we hit a loop, and so clearly $z_k$ is bounded. Therefore $-1\\in\\mathcal{M}$.\n",
        "\n",
        "On the other hand, at $c=3i$, we have the iterates\n",
        "\n",
        "1. $z_0=3i$,\n",
        "2. $z_1=(3i)^2+3i=3i-9$,\n",
        "3. $z_2=(3i-9)^2+3i=72-51i$,\n",
        "4. now it's pretty clear that the values will diverge, so $3i\\not\\in\\mathcal{M}$.\n",
        "\n",
        "Observe that if $|z_n|>2$ at any point, then we are guaranteed that the iterates go to infinity. This helps us simplify our code to compute $\\mathcal M$.\n",
        "\n",
        "We can write a Julia function to compute this as follows:"
      ]
    },
    {
      "cell_type": "code",
      "metadata": {},
      "source": [
        "function mandelbrot_iter(c::Complex, max_iter::Int=50)::Int\n",
        "    # initializes z to the zero element of its type, in this case 0+0i\n",
        "    z = zero(c)\n",
        "    for i in 1:max_iter\n",
        "        z = z*z + c\n",
        "        # abs2 computes the square of the absolute value, saves us a tiny bit by not computing the square root\n",
        "        if abs2(z) > 4\n",
        "            return i\n",
        "        end\n",
        "    end\n",
        "    return max_iter\n",
        "end"
      ],
      "execution_count": null,
      "outputs": []
    },
    {
      "cell_type": "markdown",
      "metadata": {},
      "source": [
        "Here we are outputting the iteration on which the sequence has $|z|>2$, as this will let us make pretty images.\n",
        "\n",
        "We said earlier that $0+0i\\in\\mathcal{M}$,"
      ]
    },
    {
      "cell_type": "code",
      "metadata": {},
      "source": [
        "mandelbrot_iter(0im)"
      ],
      "execution_count": null,
      "outputs": []
    },
    {
      "cell_type": "markdown",
      "metadata": {},
      "source": [
        "And that $-1+0i\\in\\mathcal{M}$,"
      ]
    },
    {
      "cell_type": "code",
      "metadata": {},
      "source": [
        "mandelbrot_iter(-1+0im)"
      ],
      "execution_count": null,
      "outputs": []
    },
    {
      "cell_type": "markdown",
      "metadata": {},
      "source": [
        "And that $3i\\not\\in\\mathcal{M}$,"
      ]
    },
    {
      "cell_type": "code",
      "metadata": {},
      "source": [
        "mandelbrot_iter(3im)"
      ],
      "execution_count": null,
      "outputs": []
    },
    {
      "cell_type": "markdown",
      "metadata": {},
      "source": [
        "Let's now write a function to run it over a grid:"
      ]
    },
    {
      "cell_type": "code",
      "metadata": {},
      "source": [
        "function compute_mandelbrot(\n",
        "    # real (x-axis) values\n",
        "    real_range,\n",
        "    # imaginary (y-axis) values\n",
        "    imag_range;\n",
        "    # max iterations per run\n",
        "    max_iter::Int\n",
        ")::Matrix{Int}\n",
        "  # produce the grid of c values\n",
        "  c_grid = complex.(real_range', imag_range)\n",
        "  # apply mandelbrot_iter to each value of c_grid\n",
        "  return mandelbrot_iter.(c_grid, max_iter)\n",
        "end;"
      ],
      "execution_count": null,
      "outputs": []
    },
    {
      "cell_type": "markdown",
      "metadata": {},
      "source": [
        "Let's define a box that contains most of $\\mathcal M$:"
      ]
    },
    {
      "cell_type": "code",
      "metadata": {},
      "source": [
        "width, height = 1500, 1500\n",
        "\n",
        "real_range_full = LinRange(-2., 0.5, width)\n",
        "imag_range_full = LinRange(-1.25, 1.25, height);"
      ],
      "execution_count": null,
      "outputs": []
    },
    {
      "cell_type": "markdown",
      "metadata": {},
      "source": [
        "And run to see see how fast we go:"
      ]
    },
    {
      "cell_type": "code",
      "metadata": {},
      "source": [
        "using BenchmarkTools\n",
        "\n",
        "@time my_mb = compute_mandelbrot(real_range_full, imag_range_full, max_iter=100);"
      ],
      "execution_count": null,
      "outputs": []
    },
    {
      "cell_type": "markdown",
      "metadata": {},
      "source": [
        "Run it a second time to get a clean time"
      ]
    },
    {
      "cell_type": "code",
      "metadata": {},
      "source": [
        "@time my_mb = compute_mandelbrot(real_range_full, imag_range_full, max_iter=100);"
      ],
      "execution_count": null,
      "outputs": []
    },
    {
      "cell_type": "markdown",
      "metadata": {},
      "source": [
        "On my machine, this takes about 0.155540 seconds.\n",
        "\n",
        "Nice picture:"
      ]
    },
    {
      "cell_type": "code",
      "metadata": {},
      "source": [
        "using Plots\n",
        "\n",
        "heatmap(my_mb, size=(500, 500), axis=false, aspect_ratio=:equal, colorbar_title=\"Iterations until provable divergence\")"
      ],
      "execution_count": null,
      "outputs": []
    },
    {
      "cell_type": "markdown",
      "metadata": {},
      "source": [
        "Zoom in on the top part with some more iterations"
      ]
    },
    {
      "cell_type": "code",
      "metadata": {},
      "source": [
        "real_range_top = LinRange(-.3, .1, width)\n",
        "imag_range_top = LinRange(.6, 1, height)\n",
        "\n",
        "@time my_mb_top = compute_mandelbrot(real_range_top, imag_range_top, max_iter=250);\n",
        "heatmap(my_mb_top, size=(500, 500), axis=false, aspect_ratio=:equal, colorbar_title=\"Iterations until provable divergence\")"
      ],
      "execution_count": null,
      "outputs": []
    },
    {
      "cell_type": "markdown",
      "metadata": {},
      "source": [
        "## Making it faster with threads"
      ]
    },
    {
      "cell_type": "code",
      "metadata": {},
      "source": [
        "function compute_mandelbrot_multithreaded(\n",
        "    # real (x-axis) values\n",
        "    real_range,\n",
        "    # imaginary (y-axis) values\n",
        "    imag_range;\n",
        "    # max iterations per run\n",
        "    max_iter::Int\n",
        ")::Matrix{Int}\n",
        "  # produce the grid of c values\n",
        "  c_grid = complex.(real_range', imag_range)\n",
        "  # output array\n",
        "  out = zeros(Int64, size(c_grid))\n",
        "  # note the @threads annotation\n",
        "  Threads.@threads for i in eachindex(out)\n",
        "    out[i] = mandelbrot_iter(c_grid[i], max_iter)\n",
        "  end\n",
        "  return out\n",
        "end\n",
        "\n",
        "@time mt_mb = compute_mandelbrot_multithreaded(real_range_full, imag_range_full, max_iter=100);"
      ],
      "execution_count": null,
      "outputs": []
    },
    {
      "cell_type": "markdown",
      "metadata": {},
      "source": [
        "Run it a second time to get a clean time"
      ]
    },
    {
      "cell_type": "code",
      "metadata": {},
      "source": [
        "@time mt_mb = compute_mandelbrot_multithreaded(real_range_full, imag_range_full, max_iter=100);"
      ],
      "execution_count": null,
      "outputs": []
    },
    {
      "cell_type": "markdown",
      "metadata": {},
      "source": [
        "On my machine, this takes about 0.046682 seconds, about 3.3x as fast as the original one.\n",
        "\n",
        "### More on `Threads.@threads`\n",
        "\n",
        "The `Threads.@threads` macro allows you to specify different *schedulers* for how to execute loop iterations on different threads. The default scheduler, `:dynamic` assumes loop iterations are approximately uniform.\n",
        "\n",
        "If this is not the case, you are better off using `:greedy` which will greedily pick another iteration when it finishes the last one. This is better for non-uniform iterations.\n",
        "\n",
        "As an example, consider this loop of artifical and highly non-uniform iteration times where with 10% probability it will sleep for a long time:"
      ]
    },
    {
      "cell_type": "code",
      "metadata": {},
      "source": [
        "using Random\n",
        "using BenchmarkTools\n",
        "\n",
        "function do_work()\n",
        "    if rand() < 0.1\n",
        "        sleep(.3)\n",
        "    end\n",
        "end"
      ],
      "execution_count": null,
      "outputs": []
    },
    {
      "cell_type": "markdown",
      "metadata": {},
      "source": [
        "With standard scheduler (`:dynamic`, omitted):"
      ]
    },
    {
      "cell_type": "code",
      "metadata": {},
      "source": [
        "Random.seed!(1974)\n",
        "\n",
        "@btime begin\n",
        "    # same as Threads.@threads :dynamic for _ ∈ 1:200\n",
        "    Threads.@threads for _ ∈ 1:200\n",
        "        do_work()\n",
        "    end\n",
        "end"
      ],
      "execution_count": null,
      "outputs": []
    },
    {
      "cell_type": "markdown",
      "metadata": {},
      "source": [
        "With `:greedy`:"
      ]
    },
    {
      "cell_type": "code",
      "metadata": {},
      "source": [
        "Random.seed!(1974)\n",
        "\n",
        "@btime begin\n",
        "    Threads.@threads :greedy for _ ∈ 1:200\n",
        "        do_work()\n",
        "    end\n",
        "end"
      ],
      "execution_count": null,
      "outputs": []
    },
    {
      "cell_type": "markdown",
      "metadata": {},
      "source": [
        "There is also `:static`. See [the docs](https://docs.julialang.org/en/v1/base/multi-threading/#Base.Threads.@threads).\n",
        "\n",
        "Why not always use `:greedy`? Because of cache coherence and other reasons, `:dynamic` which will do blocks at a time is often faster for uniform iterations.\n",
        "\n",
        "## The shared memory paradigm\n",
        "\n",
        "We just saw how easy it is to use Julia's `@threads` macro. This leverages **shared memory parallelism**:\n",
        "\n",
        "* **One Process, Many Threads:** Multithreading operates within a *single process*. Multiple \"threads of execution\" run concurrently.\n",
        "* **Shared Memory:** Crucially, all threads within that process *share the same memory space*. They can directly read from and write to the same variables and data structures.\n",
        "* **The Power:** This direct access means extremely low communication overhead. It's efficient for tasks where threads frequently interact with common data, like processing a large array.\n",
        "* **The Peril:** But this power comes with a critical challenge: **data consistency**. If multiple threads try to write to the *same memory location simultaneously*, the result is unpredictable and incorrect. This is called a **race condition**.\n",
        "\n",
        "Shared memory is powerful, but managing access to shared data is vital. Let's see an example of what can go wrong.\n",
        "\n",
        "## What can go wrong?\n",
        "\n",
        "Consider this simple function that computes the sum\n",
        "\n",
        "$$\n",
        "\\sum_{n=1}^\\infty\\frac{1}{n^2}\n",
        "$$\n",
        "\n",
        "It's a well known identity that this sum equals $\\pi^2/6$ (but not so easy to prove)."
      ]
    },
    {
      "cell_type": "code",
      "metadata": {},
      "source": [
        "function inverse_squares_simple(arr::Vector{Int64})\n",
        "  sum = 0.\n",
        "  for i in eachindex(arr)\n",
        "    sum += 1/(arr[i]^2)\n",
        "  end\n",
        "  return sum\n",
        "end"
      ],
      "execution_count": null,
      "outputs": []
    },
    {
      "cell_type": "code",
      "metadata": {},
      "source": [
        "using Base.Threads\n",
        "\n",
        "function inverse_squares_buggy_multithreaded(arr::Vector{Int64})\n",
        "  sum = 0.\n",
        "  # Try to use @threads to parallelize the loop over array indices\n",
        "  @threads for i in eachindex(arr)\n",
        "    # Each thread attempts to add to the sum\n",
        "    sum += 1/(arr[i]^2) # <-- This is problematic!\n",
        "  end\n",
        "  return sum\n",
        "end\n",
        "\n",
        "N = 1_000\n",
        "numbers = collect(1:N)\n",
        "true_val = π^2/6\n",
        "naive_sum = inverse_squares_simple(numbers)\n",
        "\n",
        "println(\"True value is $true_val, naive method gives $naive_sum, or around $(round(100*naive_sum/true_val, digits=2))% of true val\")\n",
        "\n",
        "for _ in 1:10\n",
        "    result = inverse_squares_buggy_multithreaded(numbers)\n",
        "    println(\"\\\"sum\\\" is $result, got $(round(100*result/naive_sum, digits=2))% of naive sum $naive_sum\")\n",
        "end"
      ],
      "execution_count": null,
      "outputs": []
    },
    {
      "cell_type": "markdown",
      "metadata": {},
      "source": [
        "The problem is caused by a data race where a thread will read the value of `sum` first, then another thread will read it. Regardless of which order the two threads now write the answer to the piece of memory, the result will be wrong, as at least one summand will be \"lost\".\n",
        "\n",
        "One can get around this by wrapping the shared variable in an \"atomic\" type (atomic means that its updates are \"atoms\", they cannot be broken down into a read and a write that could end up un-synchronized)"
      ]
    },
    {
      "cell_type": "code",
      "metadata": {},
      "source": [
        "function inverse_squares_with_atomic(arr::Vector{Int64})\n",
        "  sum = Atomic{Float64}(0.)\n",
        "  @threads for i in eachindex(arr)\n",
        "    atomic_add!(sum, 1/(arr[i]^2))\n",
        "  end\n",
        "  # The `[]` syntax dereferences the Atomic value.\n",
        "  return sum[]\n",
        "end\n",
        "\n",
        "for _ in 1:10\n",
        "    result = inverse_squares_with_atomic(numbers)\n",
        "    println(\"\\\"sum\\\" is $result, got $(round(100*result/naive_sum, digits=2))% of naive sum $naive_sum\")\n",
        "end"
      ],
      "execution_count": null,
      "outputs": []
    },
    {
      "cell_type": "markdown",
      "metadata": {},
      "source": [
        "But note:"
      ]
    },
    {
      "cell_type": "code",
      "metadata": {},
      "source": [
        "@benchmark inverse_squares_simple(numbers)"
      ],
      "execution_count": null,
      "outputs": []
    },
    {
      "cell_type": "code",
      "metadata": {},
      "source": [
        "@benchmark inverse_squares_buggy_multithreaded(numbers)"
      ],
      "execution_count": null,
      "outputs": []
    },
    {
      "cell_type": "code",
      "metadata": {},
      "source": [
        "@benchmark inverse_squares_with_atomic(numbers)"
      ],
      "execution_count": null,
      "outputs": []
    },
    {
      "cell_type": "markdown",
      "metadata": {},
      "source": [
        "Trying to do it with multithreading in this case made it slower (and broke it!) then fixing it up with atomic made it *even* slower. It's now 40x slower for no benefit.\n",
        "\n",
        "Parallelism can be hard. You have to be careful with various failure modes like race conditions. We won't delve deeper into locking and synchronization pritimives, it's a huge area.\n",
        "\n",
        "## Task-based parallelism with `Threads.@spawn`\n",
        "\n",
        "Instead of simply splitting a loop's iterations, `Threads.@spawn` allows you to launch an individual function call or expression as a separate, lightweight thread (often called a \"task\" or \"goroutine\" in other languages). Julia's runtime then intelligently schedules these tasks to run on available threads in your thread pool.\n",
        "\n",
        "Note that Julia's threads are not true Operating System threads: they are run on Julia's threadpool and scheduled by Julia. (This is why you need to specify the number of `--threads` on startup.)\n",
        "\n",
        "When you use `Threads.@spawn`, it immediately returns a `Task` object. This `Task` object is like a promise that the computation will be done eventually. To get the actual result from the `Task`, you use `fetch()`. If you just want to know when the task is complete without needing its return value, you can use `wait()`."
      ]
    },
    {
      "cell_type": "code",
      "metadata": {},
      "source": [
        "function simulate_work(it)\n",
        "    println(time_stamp(),\n",
        "            \".\"^(time_stamp()-before_start), # spacing proportional to elapsed time\n",
        "            \" Starting iteration $it\")\n",
        "\n",
        "    sleep(1) # sleep for one second as though \"processing something\"\n",
        "\n",
        "    println(time_stamp(),\n",
        "            \".\"^(time_stamp()-before_start), # spacing proportional to elapsed time\n",
        "             \" Finished sleeping (\\\"processing\\\") on thread $(Threads.threadid())\")\n",
        "\n",
        "    return it\n",
        "end\n",
        "\n",
        "tasks = Vector{Task}()\n",
        "\n",
        "before_start = time_stamp()\n",
        "for i in 1:17\n",
        "    push!(tasks, Threads.@spawn simulate_work(i))\n",
        "end\n",
        "\n",
        "println(\"Spawned $(length(tasks)) tasks\")\n",
        "\n",
        "results = [fetch(task) for task in tasks]\n",
        "println(time_stamp(), \".\"^(time_stamp()-before_start) * \" Task return values: $results\")"
      ],
      "execution_count": null,
      "outputs": []
    },
    {
      "cell_type": "markdown",
      "metadata": {},
      "source": [
        "<!-- @efron2021computer -->\n",
        "\n",
        "### `Threads.@spawn` vs. `Threads.@threads`\n",
        "\n",
        "| Feature              | `Threads.@threads`                               | `Threads.@spawn`                                  |\n",
        "| :------------------- | :----------------------------------------------- | :------------------------------------------------ |\n",
        "| **Purpose**          | Loop parallelization (iterating over collections) | Launching individual, independent computations    |\n",
        "| **Control Flow**     | Synchronous (main thread waits for loop to finish) | Asynchronous (main thread continues immediately)  |\n",
        "| **Return Value**     | No direct return from individual iterations      | Returns a `Task` object, which holds the result   |\n",
        "| **Use Case**         | Homogeneous, iterative work                      | Heterogeneous, distinct, or long-running computations |\n",
        "\n",
        "It makes sense ot use `Threads.@spawn` if your ``computation graph'' is heterogeneous, i.e. you depend on inputs/\n",
        "\n",
        "# GPUs\n",
        "\n",
        "## History of GPGPU\n",
        "\n",
        "GPGPU stands for General Purpose GPU computing: originally GPUs were built for and only really good for *accelerating graphical workflows*: texture mapping, shading, rendering polygons and such for gaming and professional applications (CAD, architecture, rendering, etc). They were highly optimized for doing these kinds of computations, which often involved computing small matrix multiplications over and over again. GPU performance was measured in things polygons per second (which is a bit of a nonsensical measure). See @vuduc2013brief.\n",
        "\n",
        "Around the early 2000s, some hackers and researched started coming up with novel ways of using GPUs for non-graphics applications. These worked largely by writing custom *pixel shaders* that were supposed to give graphical programs the ability to write very restrictive, but general code to manipulate fragments of textures and bitmaps. These applications creatively abused the graphics pipelines to do simple parallel computations. For example:\n",
        "\n",
        "* **2001**: Martin Rumpf et al. from University of Duisburg used GPUs to solve FEM calculations (@rumpf2001using)\n",
        "* **2003**: Mark Harris et al. from UNC used GPUs to simulate cloud dynamics (@harris2003simulation);\n",
        "* **2005**: Nico Galoppo et al, from UNC used GPUs to solve linear systems (@galoppo2005lu);\n",
        "* **2004**: Debra Cook et al. from Columbia used GPUs for speeding up cryptography (@cook2006cryptographics); and\n",
        "* **2004**: Ian Buck et al. from Stanford created *Brook*, an early start at programming GPUs, introduced *kernels* directly compiled by a custom compiler for the GPU (@buck2004brook).\n",
        "\n",
        "Buck in particular showed through Brook (during his PhD) that it's possible to implement operations like linear algebra and FFT on GPUs with his methodology. He quickly got hired by NVIDIA and was one of the core individuals who created CUDA.\n",
        "\n",
        "The stats on the number of floating point operations (FLOPs) a GPU could do compared to a CPU made it a very attractive platform for early research. This was directly enabled by the parallelism story on GPUs compared to CPUs -- they were parallel from the beginning. A 2003 article from the magazine *Computer* states \"The new GPUs are very fast. Stanford's Ian Buck calculates that the current GeForce FX 5900’s performance peaks at 20 Gigaflops, the equivalent of a 10-GHz Pentium\", from @macedonia2003gpu (the whole article is a very interesting read).\n",
        "\n",
        "The cryptoanalysis and hacker communities also used GPUs for computing rainbow tables and bruteforcing passwords and hash pre-images^[It's not entirely clear how widespread the use of GPUs was for cracking cryptosystems before the introduction of CUDA (after which it exploded). There were certainly examples and it was a budding technique in the community, but I couldn't find concrete and widely used examples to cite.]. This was exacerbated by the [Crypto Wars](https://en.wikipedia.org/wiki/Crypto_Wars): futile efforts by the United States government to limit the availability strong encryption to the general public and in export products (cryptography is still classified as a dual-use technology and its exports are somewhat restricted). The new availability of highly-parallel hardware combined with new ideas around this time made for practically feasible attacks on widely deployed cryptosystems, such as cracking passwords in networked Microsoft operating systems (e.g. LAN Manager), cracking early WiFi encryption (WEP, and later WPA), and breaking commonly used hashes (such as the abysmal MD5). Cryptography (and laws around cryptography) have come a long way since then.\n",
        "\n",
        "## CUDA.jl\n",
        "\n",
        "Julia makes it *extremely* simple to get stuff running on a GPU with CUDA.jl. Let's see an example"
      ]
    },
    {
      "cell_type": "code",
      "metadata": {},
      "source": [
        "# this might take a moment\n",
        "using CUDA\n",
        "\n",
        "# CUDA.@time is needed to synchronize GPU data to make sure we time everything\n",
        "CUDA.@time cuda_mb = compute_mandelbrot(CuArray(real_range_full), CuArray(imag_range_full), max_iter=100);\n",
        "\n",
        "heatmap(cuda_mb, size=(500, 500), axis=false, aspect_ratio=:equal, colorbar_title=\"Iterations until provable divergence\")"
      ],
      "execution_count": null,
      "outputs": []
    },
    {
      "cell_type": "markdown",
      "metadata": {},
      "source": [
        "Run it a second time to get a clean time"
      ]
    },
    {
      "cell_type": "code",
      "metadata": {},
      "source": [
        "CUDA.@time cuda_mb = compute_mandelbrot(CuArray(real_range_full), CuArray(imag_range_full), max_iter=100);"
      ],
      "execution_count": null,
      "outputs": []
    },
    {
      "cell_type": "markdown",
      "metadata": {},
      "source": [
        "On my machine, this takes about 0.005708 seconds, 27.2x faster than singlethreaded CPU.\n",
        "\n",
        "And the top part:"
      ]
    },
    {
      "cell_type": "code",
      "metadata": {},
      "source": [
        "# the first run is normally slow due to compiling, this run should be much much faster\n",
        "CUDA.@time cuda_mb_top = compute_mandelbrot(CuArray(real_range_top), CuArray(imag_range_top), max_iter=250);\n",
        "\n",
        "heatmap(cuda_mb_top, size=(500, 500), axis=false, aspect_ratio=:equal, colorbar_title=\"Iterations until provable divergence\")"
      ],
      "execution_count": null,
      "outputs": []
    },
    {
      "cell_type": "markdown",
      "metadata": {},
      "source": [
        "## Recap of Mandelbrot timings\n",
        "\n",
        "Execution mode      | Time (msec) | Speedup\n",
        "--------------------|-------------|--------\n",
        "CPU (single thread) | 155.54      | 1x\n",
        "CPU (multithreaded) | 46.68       | 3.3x\n",
        "GPU (CUDA)          | 5.71        | 27.2x\n",
        "\n",
        "## A crash course to modern NVIDIA architectures\n",
        "\n",
        "GPUs are largely fast for two reasons:\n",
        "\n",
        "1. **Massive Parallelism:** instead of having few cores that implement a very powerful and rich instruction set (e.g. 6-32 on CPUs), GPUs have hundreds or thousands of small ``streaming multiprocessors'' (e.g. an NVIDIA RTX 3090 has 10 496 CUDA cores).\n",
        "2. **Massive Memory Bandwidth:** a high end workstation has 50-100 GB/s of memory bandwidth, compared to 1000 GB/s+ on GPUs (old school RTX 3090 has ~900 GB/s, a top of the line H200 has 4800 GB/s).\n",
        "\n",
        "GPUs achieve these incredible stats with a completely different architecture to CPUs.\n",
        "\n",
        "### Single Instruction, Multiple Thread (SIMT)\n",
        "\n",
        "The core of GPU parallelism lies in the **Single Instruction, Multiple Thread (SIMT)** execution model. Unlike CPUs where each core executes independent instructions, a GPU's Streaming Multiprocessor (SM) operates on groups of threads called **warps** (32 threads). All threads within a warp execute the *same instruction* simultaneously, but on *different data*.\n",
        "\n",
        "A CPU has a very sophisticated superscalar pipeline to execute a rich set of instructions one after the other, to allow for expressing a huge generality of programs and executing them simultaneously. A GPU on the other hand is built to run basically the same code on different data extremely efficiently.\n",
        "\n",
        "### Computational model\n",
        "\n",
        "The NVIDIA GPU execution model organizes computation in a hierarchy:\n",
        "\n",
        "1. **Grid:** The entire computation defined by the user. A grid is composed of independent **thread blocks**.\n",
        "2. **Thread Block (Block):** A group of threads that can cooperate via shared memory and synchronization. All threads in a block execute on the same Streaming Multiprocessor (SM, see below). Max 1024 threads/block.\n",
        "3. **Warp:** The fundamental unit of execution on an SM. A warp consists of **32 threads** that execute the same instruction in lock-step (i.e. SIMT). If threads in a warp diverge (e.g., `if-else` statements), execution paths are serialized (run one after the other, e.g. first `if`, then `else`), impacting performance.\n",
        "4. **Streaming Multiprocessor (SM):** The core processing unit of the GPU. An SM contains:\n",
        "  * **CUDA Cores:** For general-purpose scalar/vector operations (FP32, INT32, etc.).\n",
        "  * **Tensor Cores:** Specialized units for matrix operations, particularly for ML.\n",
        "  * **Load/Store Units (LSUs):** For memory access.\n",
        "  * **Special Function Units (SFUs):** For transcendental functions.\n",
        "  * **Shared Memory/L1 Cache:** Fast, on-chip memory accessible by threads within the same block.\n",
        "  * **Warp Schedulers:** Manage and dispatch warps to available execution units. An SM can concurrently execute multiple active warps (up to its resource limits).\n",
        "5. **CUDA Cores / Tensor Cores / LSUs / SFUs:** These are the actual execution units *within* an SM that perform the computations dictated by the warp's instructions.\n",
        "\n",
        "**Hierarchy Flow:**\n",
        "\n",
        "1. A **Grid** is launched onto the GPU.\n",
        "1. The GPU schedules **Thread Blocks** onto available **SMs**. An SM can host multiple blocks concurrently, limited by its resources (registers, shared memory).\n",
        "1. Each **Thread Block** is further divided into **Warps** (32 threads).\n",
        "1. **SMs** fetch and dispatch instructions from active **Warps** to their respective **CUDA Cores, Tensor Cores, LSUs, and SFUs** for execution.\n",
        "\n",
        "This hierarchy allows for massive parallelism by distributing work across many SMs, and within each SM, by executing multiple warps concurrently and leveraging specialized hardware units.\n",
        "\n",
        "\n",
        "### Quick reminder on CPU architecture and memory bandwidth\n",
        "\n",
        "Here is what a CPU cache hierarchy looks like:\n",
        "\n",
        "![Multicore CPU cache hierarchy, from [insidetheiot.com](https://www.insidetheiot.com/cache-in-multicore-systems/)](multicore-cache.png)\n",
        "\n",
        "Consider my main desktop from around 2020, consisting of an AMD Ryzen 5800X, and 64 GB of DDR4 RAM at 3200 MT/s. Here are the specs:\n",
        "\n",
        "* **Cores/SMT threads:** 8/16\n",
        "* **L1 cache:** 64 KB per core (32 KB inst/32 KB data)\n",
        "* **L2 cache:** 512 KB per core\n",
        "* **L3 cache:** 32 MB total\n",
        "* **CPU cache line:** 64 bytes\n",
        "* **RAM:** dual-channel DDR4\n",
        "* **Memory data path width:** 64 bits per channel\n",
        "* **Memory speed:** 3200 MT/s\n",
        "\n",
        "Modern CPUs read memory one cache line at a time: that is, 64 bytes, or 512 bits. When my CPU fetches some data, it first looks in L1 cache, then L2 cache, then L3 cache. If it doesn't find it in any of them, it issues a DDR burst to grab a cache line worth of data.\n",
        "\n",
        "When the CPU issues a DDR read command, the memory module will transfer 64 bits (that's the memory data path per channel) of data at a time from RAM to the CPU. The CPU generally reads one cache line at a time so 64 bytes, which is 8x64 bit reads.\n",
        "\n",
        "With two DDR4 modules (sticks of RAM), in dual-channel mode, we can read twice the bytes. 3200 MT/s means 3200 million transfers per second. This gives $3200*2*64/8$ million bytes per second, or roughly 50 GB/s of sequential read from RAM. **This is the theoretical maximum rate at which we can process large datasets on my PC.**\n",
        "\n",
        "**This is just the max bandwidth.** Random reads will be much slower, a good rule of thumb is a tenth of it. This also does not consider latency. See this:\n",
        "\n",
        "```\n",
        "From <https://gist.github.com/jboner/2841832>\n",
        "\n",
        "Latency Comparison Numbers\n",
        "----------------------------------\n",
        "L1 cache reference                           0.5 ns\n",
        "Branch mispredict                            5   ns\n",
        "L2 cache reference                           7   ns                      14x L1 cache\n",
        "Mutex lock/unlock                           25   ns\n",
        "Main memory reference                      100   ns                      20x L2 cache, 200x L1 cache\n",
        "Compress 1K bytes with Zippy             3,000   ns        3 us\n",
        "Send 1K bytes over 1 Gbps network       10,000   ns       10 us\n",
        "Read 4K randomly from SSD*             150,000   ns      150 us          ~1GB/sec SSD\n",
        "Read 1 MB sequentially from memory     250,000   ns      250 us\n",
        "Round trip within same datacenter      500,000   ns      500 us\n",
        "Read 1 MB sequentially from SSD*     1,000,000   ns    1,000 us    1 ms  ~1GB/sec SSD, 4X memory\n",
        "Disk seek                           10,000,000   ns   10,000 us   10 ms  20x datacenter roundtrip\n",
        "Read 1 MB sequentially from disk    20,000,000   ns   20,000 us   20 ms  80x memory, 20X SSD\n",
        "Send packet CA->Netherlands->CA    150,000,000   ns  150,000 us  150 ms\n",
        "```\n",
        "\n",
        "### GPU memory architecture\n",
        "\n",
        "While our CPU's memory bandwidth of approximately 50 GB/s for sequential reads is impressive for a general-purpose processor, this is peanuts compared to GPUs. Let's consider the NVIDIA RTX 3090, a late 2020 high-end consumer GPU:\n",
        "\n",
        "* **Memory:** 24 GB GDDR6X\n",
        "* **Memory Interface Width:** 384-bit\n",
        "* **Memory Speed (Effective):** 19.5 Gbps (Gigabits per second)\n",
        "\n",
        "This gives a theoretical maximum memory bandwidth of 384/8 bytes at 19.5 Gbps = 936 GB/s. **That's 18.7x the CPU**.\n",
        "\n",
        "### Kernel Functions: The Building Blocks of GPU Computation\n",
        "\n",
        "A \"kernel\" is a function that runs on the GPU. When you launch a kernel, thousands of threads are created, and each thread executes the kernel function on its own piece of data."
      ]
    },
    {
      "cell_type": "code",
      "metadata": {},
      "source": [
        "# First, ensure CUDA is functional and you have a device\n",
        "if !CUDA.functional()\n",
        "    error(\"CUDA is not functional! Do you have an NVIDIA GPU and proper drivers?\")\n",
        "end\n",
        "CUDA.device!(0) # Select GPU 0 (if you have multiple)"
      ],
      "execution_count": null,
      "outputs": []
    },
    {
      "cell_type": "markdown",
      "metadata": {},
      "source": [
        "To write your own kernel, you define a regular Julia function, but it needs to be compatible with GPU execution. You then launch it using the `@cuda` macro. Inside a kernel, you access special functions to determine the current thread's ID and block ID within the grid:\n",
        "\n",
        "* `blockIdx().x`, `blockIdx().y`, `blockIdx().z`: The 1D, 2D, or 3D index of the current thread *block*.\n",
        "* `blockDim().x`, `blockDim().y`, `blockDim().z`: The dimensions (number of threads) of the current thread block.\n",
        "* `threadIdx().x`, `threadIdx().y`, `threadIdx().z`: The 1D, 2D, or 3D index of the current thread *within its block*.\n",
        "* `gridDim().x`, `gridDim().y`, `gridDim().z`: The dimensions (number of blocks) of the grid of thread blocks.\n",
        "\n",
        "From these, you calculate a global unique index for each thread:"
      ]
    },
    {
      "cell_type": "code",
      "metadata": {},
      "source": [
        "# A simple kernel that adds two arrays element-wise\n",
        "function add_kernel!(C, A, B)\n",
        "    # Calculate global linear index for the current thread\n",
        "    # This formula works for 1D arrays or flat 2D/3D arrays\n",
        "    idx = (blockIdx().x - 1) * blockDim().x + threadIdx().x\n",
        "\n",
        "    # Check if the index is within the bounds of the array\n",
        "    # This is crucial as you often launch more threads than elements\n",
        "    if idx <= length(A)\n",
        "        @inbounds C[idx] = A[idx] + B[idx] # @inbounds for performance, assumes bounds checking is handled\n",
        "    end\n",
        "    return\n",
        "end\n",
        "\n",
        "# Host-side function to prepare data and launch the kernel\n",
        "function gpu_add_arrays(A_host, B_host)\n",
        "    # Move input data to the GPU\n",
        "    A_d = CuArray(A_host)\n",
        "    B_d = CuArray(B_host)\n",
        "    # Allocate memory for the result on the GPU\n",
        "    C_d = similar(A_d)\n",
        "\n",
        "    N = length(A_host)\n",
        "    # Determine launch configuration:\n",
        "    # threads_per_block: How many threads in each block (typically 128, 256, 512, 1024)\n",
        "    # blocks_per_grid: How many blocks needed to cover all N elements\n",
        "    threads_per_block = 256\n",
        "    blocks_per_grid = ceil(Int, N / threads_per_block)\n",
        "\n",
        "    # Launch the kernel!\n",
        "    @cuda threads=threads_per_block blocks=blocks_per_grid add_kernel!(C_d, A_d, B_d)\n",
        "\n",
        "    # Synchronize the GPU (wait for all kernel computations to finish)\n",
        "    # This happens implicitly when you transfer data back or if you need results immediately.\n",
        "    # explicit CUDA.synchronize() can be used for timing.\n",
        "\n",
        "    # Move the result back to the CPU (if needed for further CPU processing)\n",
        "    return Array(C_d)\n",
        "end\n",
        "\n",
        "N_gpu_example = 10^7\n",
        "A_h = rand(Float32, N_gpu_example)\n",
        "B_h = rand(Float32, N_gpu_example)\n",
        "\n",
        "println(\"Starting custom GPU kernel array addition...\")\n",
        "@time C_h_gpu_custom = gpu_add_arrays(A_h, B_h)\n",
        "println(\"Custom GPU kernel array addition finished.\")"
      ],
      "execution_count": null,
      "outputs": []
    },
    {
      "cell_type": "markdown",
      "metadata": {},
      "source": [
        "This direct kernel programming gives you maximum control but can be complex.\n",
        "\n",
        "### Broadcast Fusion: The Magic of Element-wise Operations\n",
        "\n",
        "When you perform element-wise operations on `CuArray`s using Julia's broadcasting syntax (e.g., `.+`, `.*`, or the dot syntax `@.`), `CUDA.jl` automatically compiles and launches an optimized GPU kernel for you. This is incredibly efficient because it can fuse multiple operations into a single kernel, minimizing memory access and launch overheads."
      ]
    },
    {
      "cell_type": "code",
      "metadata": {},
      "source": [
        "using CUDA\n",
        "\n",
        "N_implicit = 10^7\n",
        "X_h = rand(Float32, N_implicit)\n",
        "Y_h = rand(Float32, N_implicit)\n",
        "\n",
        "# Move to device once\n",
        "X_d = CuArray(X_h)\n",
        "Y_d = CuArray(Y_h)\n",
        "\n",
        "println(\"\\nStarting GPU implicit kernel operations...\")\n",
        "# Complex broadcast operation - Julia automatically generates an efficient kernel\n",
        "@time Z_d = @. X_d * sin(Y_d^2) + sqrt(X_d)\n",
        "println(\"GPU implicit kernel operations finished.\")\n",
        "\n",
        "# Julia's Base functions often have GPU implementations that work seamlessly\n",
        "@time S_d = CUDA.sum(Z_d) # Optimized GPU reduction\n",
        "println(\"GPU sum finished.\")\n",
        "\n",
        "# If you need the result back on the CPU:\n",
        "Z_h_implicit = Array(Z_d)\n",
        "S_h_implicit = S_d[] # Get the scalar value from the CuArray scalar\n",
        "\n",
        "# Compare with CPU version for timing and correctness\n",
        "println(\"\\nStarting CPU operations for comparison...\")\n",
        "@time Z_h_cpu = @. X_h * sin(Y_h^2) + sqrt(X_h)\n",
        "println(\"CPU element-wise finished.\")\n",
        "@time S_h_cpu = sum(Z_h_cpu)\n",
        "println(\"CPU sum finished.\")\n",
        "\n",
        "println(\"Difference in sum: $(abs(S_h_implicit - S_h_cpu))\")"
      ],
      "execution_count": null,
      "outputs": []
    },
    {
      "cell_type": "markdown",
      "metadata": {},
      "source": [
        "You'll often find that for typical data processing tasks, this implicit kernel generation through broadcasting is all you need, and it performs remarkably well.\n",
        "\n",
        "## Performance Considerations and Best Practices\n",
        "\n",
        "While GPUs are powerful, they are not a magic bullet. To get the most out of them, consider these points:\n",
        "\n",
        "* **Data Transfer Overhead:** Copying data between CPU and GPU is expensive. Avoid frequent transfers. Try to keep data on the GPU for as long as possible, processing it in stages there.\n",
        "* **Kernel Launch Overhead:** There's a small overhead associated with launching each kernel. For very small computations, this overhead can sometimes negate the GPU's advantage. Try to combine multiple small operations into a single larger kernel (which Julia's broadcast fusion often does for you).\n",
        "* **Memory Management:** GPU memory is a finite resource. Be mindful of large allocations. `CUDA.jl` generally manages memory well, but for very large problems, you might need to reuse memory or process data in chunks.\n",
        "* **Algorithm Choice:** Not all algorithms are \"GPU-friendly.\" Algorithms with frequent, unpredictable memory access patterns or high thread divergence (where threads in a warp take different execution paths) will perform poorly. Algorithms that operate uniformly on large datasets (e.g., matrix multiplication, image filters, finite difference methods) are ideal.\n",
        "\n",
        "## Profiling CUDA\n",
        "\n",
        "Once you have your CUDA code running, you'll often want to optimize its performance. Profiling helps you identify bottlenecks in your code. Julia's CUDA.jl package integrates well with NVIDIA's profiling tools.\n",
        "\n",
        "### Basic GPU Profiling\n",
        "\n",
        "For a quick and easy way to see the time spent on individual kernel launches within your Julia code, you can use the built-in `CUDA.@profile` macro. This provides a high-level overview directly in your Julia REPL or output."
      ]
    },
    {
      "cell_type": "code",
      "metadata": {},
      "source": [
        "using CUDA\n",
        "\n",
        "function saxpy_kernel!(Y, A, X)\n",
        "    idx = (blockIdx().x - 1) * blockDim().x + threadIdx().x\n",
        "    if idx <= length(Y)\n",
        "        @inbounds Y[idx] = A * X[idx] + Y[idx]\n",
        "    end\n",
        "    return\n",
        "end\n",
        "\n",
        "N = 10_000_000\n",
        "A_scalar = Float32(2.0)\n",
        "X = CUDA.fill(Float32(1.0), N)\n",
        "Y = CUDA.fill(Float32(3.0), N)\n",
        "\n",
        "# Profile the kernel call\n",
        "CUDA.@profile begin\n",
        "    @cuda threads=256 blocks=cld(N, 256) saxpy_kernel!(Y, A_scalar, X)\n",
        "end"
      ],
      "execution_count": null,
      "outputs": []
    },
    {
      "cell_type": "markdown",
      "metadata": {},
      "source": [
        "This tells you the execution time of the kernel itself on the GPU.\n",
        "\n",
        "For deeper profiling you will want to use [NVIDIA Nsight Systems](https://developer.nvidia.com/nsight-systems).\n",
        "\n",
        "# Distributed computing\n",
        "\n",
        "In this section we briefly investigate [Distributed.jl](https://github.com/JuliaLang/Distributed.jl) for distributed computing.\n",
        "\n",
        "Distributed.jl runs on `workers`: processes running on the current host or on other hosts communicating via the network. Like multithreading, Julia then keeps track of *remote references* to objects that reside on other workers. However, unlike multithreading where data is shared in the same memory space, in distributed computing, data must be explicitly sent between workers. That means that data must also be serialized between processes.\n"
      ]
    },
    {
      "cell_type": "code",
      "metadata": {},
      "source": [
        "using Distributed\n",
        "\n",
        "# Start with a few processes if not already done\n",
        "if nprocs() == 1\n",
        "    # addprocs(3) # Adds 3 workers, total 4 processes\n",
        "end\n",
        "\n",
        "# the beauty of Distributed.jl is that you can run this on multiple machines on a cluster,\n",
        "# e.g. the following would add a process on another machine by SSHing into it\n",
        "# addprocs(\"user@othermachine\")"
      ],
      "execution_count": null,
      "outputs": []
    },
    {
      "cell_type": "markdown",
      "metadata": {},
      "source": [
        "See our workers:"
      ]
    },
    {
      "cell_type": "code",
      "metadata": {},
      "source": [
        "println(workers())"
      ],
      "execution_count": null,
      "outputs": []
    },
    {
      "cell_type": "markdown",
      "metadata": {},
      "source": [
        "We can execute expressions on all workers with `@everywhere`:"
      ]
    },
    {
      "cell_type": "code",
      "metadata": {},
      "source": [
        "# The @everywhere macro runs this on all processes, i.e. it created `remote_task` in all procs\n",
        "@everywhere function remote_task(x)\n",
        "    println(\"Hello from worker $(myid()) with x = $x\")\n",
        "    sleep(x) # Simulate some work\n",
        "    return \"Worker $(myid()) finished task in $x seconds\"\n",
        "end"
      ],
      "execution_count": null,
      "outputs": []
    },
    {
      "cell_type": "markdown",
      "metadata": {},
      "source": [
        "Then spawn tasks on workers with `@spawnat`"
      ]
    },
    {
      "cell_type": "code",
      "metadata": {},
      "source": [
        "# Spawn a task on worker 2\n",
        "f1 = @spawnat 2 remote_task(3)"
      ],
      "execution_count": null,
      "outputs": []
    },
    {
      "cell_type": "code",
      "metadata": {},
      "source": [
        "@everywhere function estimate_pi_hits(num_samples_per_worker)\n",
        "    hits = 0\n",
        "    for _ in 1:num_samples_per_worker\n",
        "        x = rand()\n",
        "        y = rand()\n",
        "        if x^2 + y^2 <= 1.0\n",
        "            hits += 1\n",
        "        end\n",
        "    end\n",
        "    return hits\n",
        "end\n",
        "\n",
        "total_samples = 10^8\n",
        "num_workers = nprocs()\n",
        "samples_per_worker = ceil(Int, total_samples / num_workers)\n",
        "\n",
        "println(\"Starting distributed estimation of pi with $(num_workers) workers...\")\n",
        "\n",
        "@time begin\n",
        "    # The `(+)` specifies a reduction operation: sum the results from each worker\n",
        "    total_hits = @distributed (+) for i in 1:num_workers\n",
        "        # Each worker calculates hits for its share of samples\n",
        "        estimate_pi_hits(samples_per_worker)\n",
        "    end\n",
        "\n",
        "    estimated_pi = 4.0 * total_hits / (samples_per_worker * num_workers)\n",
        "end\n",
        "\n",
        "println(\"Estimated Pi: $estimated_pi\")\n",
        "println(\"Actual Pi: $(π)\")\n",
        "\n",
        "# Clean up workers if they were added programmatically\n",
        "rmprocs(workers())"
      ],
      "execution_count": null,
      "outputs": []
    },
    {
      "cell_type": "markdown",
      "metadata": {},
      "source": [
        "## Things to be aware of\n",
        "\n",
        "* **Memory Isolation:** Each process has its own memory space. This is a double-edged sword, but it prevents accidental data corruption from one part of the code affecting another, which can be a challenge in shared-memory multithreading. It also means you're not limited by the total RAM of a single machine.\n",
        "* **Communication Overhead:** Sending data between processes (especially across a network) is significantly slower than accessing shared memory. This can easily negate any performance gains if your task requires frequent, small data transfers.\n",
        "* **Data Serialization/Deserialization:** Data sent between processes must be converted into a byte stream (serialized) on the sender side and then reconstructed (deserialized) on the receiver side. This adds computational overhead.\n",
        "* **Latency:** It takes time for a message to travel from one process to another, even on the same machine, adds latency that isn't present with shared memory.\n",
        "* **Load Balancing:** Ensuring that work is evenly distributed among workers can be challenging. If one worker gets a disproportionately large or complex task, it can become a bottleneck.\n",
        "\n",
        "## See also\n",
        "\n",
        "* [ClusterManagers.jl](https://github.com/JuliaParallel/ClusterManagers.jl) for various HPC cluster managers for Distributed.jl\n",
        "* [a great blog post](https://juntian.me/programming/A_Deep_Dive_into_Distributed.jl/) by Jun Tian for more in-depth.\n",
        "\n",
        "# Example - Oceananigans\n",
        "\n",
        "Let's explore the [Oceananigans.jl](https://github.com/CliMA/Oceananigans.jl) package and try to run it both on GPU and on CPU.\n",
        "\n",
        "Let's start with a very basic example from their [quick start guide](https://clima.github.io/OceananigansDocumentation/stable/quick_start/):"
      ]
    },
    {
      "cell_type": "code",
      "metadata": {},
      "source": [
        "using Oceananigans\n",
        "using CairoMakie\n",
        "\n",
        "grid = RectilinearGrid(GPU(),\n",
        "                       size = (1024, 1024),\n",
        "                       x = (-π, π),\n",
        "                       y = (-π, π),\n",
        "                       topology = (Periodic, Periodic, Flat))\n",
        "\n",
        "model = NonhydrostaticModel(; grid, advection=WENO(), tracers=:c)\n",
        "\n",
        "δ = 0.5\n",
        "cᵢ(x, y) = exp(-(x^2 + y^2) / 2δ^2)\n",
        "ϵ(x, y) = 2rand() - 1\n",
        "set!(model, u=ϵ, v=ϵ, c=cᵢ)\n",
        "\n",
        "simulation = Simulation(model; Δt=1e-3, stop_time=10)\n",
        "conjure_time_step_wizard!(simulation, cfl=0.2, IterationInterval(10))\n",
        "run!(simulation)\n",
        "\n",
        "u, v, w = model.velocities\n",
        "ζ = Field(∂x(v) - ∂y(u))\n",
        "\n",
        "fig = Figure(size=(1200, 600))\n",
        "axζ = Axis(fig[1, 1], aspect=1, title=\"vorticity\")\n",
        "axc = Axis(fig[1, 2], aspect=1, title=\"tracer\")\n",
        "heatmap!(axζ, ζ, colormap=:balance)\n",
        "heatmap!(axc, model.tracers.c)\n",
        "current_figure()"
      ],
      "execution_count": null,
      "outputs": []
    },
    {
      "cell_type": "markdown",
      "metadata": {},
      "source": [
        "We'll then go through [one of thier examples](https://clima.github.io/OceananigansDocumentation/stable/literated/langmuir_turbulence/).\n",
        "\n",
        "# Additional online resources\n",
        "\n",
        "* An incredible [Parallel Computing and Scientific Machine Learning (SciML): Methods and Applications](https://book.sciml.ai/) course/book by [Chris Rackauckas](https://chrisrackauckas.com/).\n",
        "* A [Julia for high-performance scientific computing](https://enccs.github.io/julia-for-hpc/) course.\n",
        "* Another [High Performance Course](https://github.com/carstenbauer/JuliaHLRS22?tab=readme-ov-file).\n",
        "\n",
        "# Exercises\n",
        "\n",
        "1. Carry out the \"Multithread the computation of π\" exercise [provided here](https://enccs.github.io/julia-for-hpc/multithreading/).\n",
        "1. Carry out the \"Distribute the computation of π\" exercise [provided here](https://enccs.github.io/julia-for-hpc/distributed/).\n",
        "1. Carry out the \"Port `sqrt_sum()` to GPU\" exercise [provided here](https://enccs.github.io/julia-for-hpc/GPU/).\n"
      ]
    }
  ],
  "metadata": {
    "kernelspec": {
      "name": "julia-1.11",
      "language": "julia",
      "display_name": "Julia 1.11.5",
      "path": "/home/aapeli/.local/share/jupyter/kernels/julia-1.11"
    }
  },
  "nbformat": 4,
  "nbformat_minor": 4
}