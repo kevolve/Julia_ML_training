{
 "cells": [
  {
   "cell_type": "markdown",
   "id": "40b916c9-b093-4f0b-b581-fc7ef60a77a1",
   "metadata": {},
   "source": [
    "# Welcome to Unit 1"
   ]
  },
  {
   "cell_type": "code",
   "execution_count": null,
   "id": "4e265d2b-3bc1-46ea-af58-c8c337270ede",
   "metadata": {},
   "outputs": [],
   "source": [
    "# STARTING JUPYTER\n",
    "# using IJulia\n",
    "# notebook(dir=pwd())"
   ]
  },
  {
   "cell_type": "code",
   "execution_count": 1,
   "id": "c7105b1b-85d2-4af8-9203-efedb097afc3",
   "metadata": {},
   "outputs": [
    {
     "data": {
      "text/plain": [
       "2"
      ]
     },
     "execution_count": 1,
     "metadata": {},
     "output_type": "execute_result"
    }
   ],
   "source": [
    "1+1 # my first Julia code SHIFT+ENTER"
   ]
  },
  {
   "cell_type": "code",
   "execution_count": 2,
   "id": "5a5004bb-d219-4845-ad25-34bde1eb9466",
   "metadata": {},
   "outputs": [
    {
     "data": {
      "text/plain": [
       "my_func (generic function with 1 method)"
      ]
     },
     "execution_count": 2,
     "metadata": {},
     "output_type": "execute_result"
    }
   ],
   "source": [
    "function my_func(x)\n",
    "    return x+1\n",
    "end"
   ]
  },
  {
   "cell_type": "code",
   "execution_count": 3,
   "id": "37e6eba2-177c-4ecf-862c-17de0f265955",
   "metadata": {},
   "outputs": [
    {
     "data": {
      "text/plain": [
       "101"
      ]
     },
     "execution_count": 3,
     "metadata": {},
     "output_type": "execute_result"
    }
   ],
   "source": [
    "my_func(100)"
   ]
  },
  {
   "cell_type": "markdown",
   "id": "c986dbbc-9d38-4ed9-bc23-3503079424f6",
   "metadata": {},
   "source": [
    "You can do math:\n",
    "\n",
    "$$\n",
    "\\int_0^t \\frac{1}{x} dx\n",
    "$$"
   ]
  },
  {
   "cell_type": "markdown",
   "id": "a144594c-e7f8-4027-8ece-f5e85cdadc0e",
   "metadata": {},
   "source": [
    "### Jupyter is a bit like \"vim\" because of command mode (ESC), and edit mode"
   ]
  },
  {
   "cell_type": "code",
   "execution_count": 7,
   "id": "62335511-bddf-493b-8dac-6780fc01aa78",
   "metadata": {},
   "outputs": [
    {
     "data": {
      "text/plain": [
       "Dict{Any, Any}()"
      ]
     },
     "execution_count": 7,
     "metadata": {},
     "output_type": "execute_result"
    }
   ],
   "source": [
    "students = Dict()"
   ]
  },
  {
   "cell_type": "code",
   "execution_count": 13,
   "id": "bab8e644-3c63-4a77-beb1-9147e2617017",
   "metadata": {},
   "outputs": [
    {
     "data": {
      "text/plain": [
       "(:working, \"Stats and population genetics, R and C/C++\")"
      ]
     },
     "execution_count": 13,
     "metadata": {},
     "output_type": "execute_result"
    }
   ],
   "source": [
    "students[\"Barbara\"] = (:noJupyter, \"Fortran back in the days and R mostly\") \n",
    "students[\"Sam\"] = (:working, \"modelling\")\n",
    "students[\"Virginie\"] = (:noJupyter, \"oceanographer at AIMS, with MATLAB background\")\n",
    "students[\"Takuya\"] = (:working,\"lead decision support at AIMS\")\n",
    "students[\"Vanessa\"] = (:working,\"Ecological modeller MATLAB\")\n",
    "students[\"Ian\"] = (:working ,\"Stats and population genetics, R and C/C++\")\n",
    "students[\"Maryam\"] = (:working,\"Data science and AI Python/VS-Code\")\n",
    "students[\"Pedro\"] = (:working, \"Decision support use Julia for most of work - background in Physics\")\n",
    "students[\"Juan Carlos\"] = (:working, \"modelling with R and Python\")\n",
    "students[\"James\"] = (:working, \"Data Science Python - underwater sounds\")\n",
    "students[\"Chinenye\"] = (:working, \"Coral modeller R and MATLAB and Python\")\n",
    "students[\"Ryu\"] = (:working, \"Decision support and uses Julia\")\n",
    "students[\"Yuanning\"] = (:working, \"first year PhD student using Julia\")\n",
    "students[\"Kevin\"] = (:working, \"Evolutionary modeller with R and SLiM\")"
   ]
  },
  {
   "cell_type": "code",
   "execution_count": 15,
   "id": "a41cd438-c478-443a-b646-302afe819223",
   "metadata": {},
   "outputs": [
    {
     "data": {
      "text/plain": [
       ":hello"
      ]
     },
     "execution_count": 15,
     "metadata": {},
     "output_type": "execute_result"
    }
   ],
   "source": [
    ":hello"
   ]
  },
  {
   "cell_type": "markdown",
   "id": "3d7e3225-bc5c-478e-847c-c2d875d9c70e",
   "metadata": {},
   "source": [
    "# Some Julia verbs and nouns"
   ]
  },
  {
   "cell_type": "code",
   "execution_count": 16,
   "id": "eb0e938d-66ee-4cca-9909-4366b52c7145",
   "metadata": {},
   "outputs": [
    {
     "data": {
      "text/plain": [
       "5"
      ]
     },
     "execution_count": 16,
     "metadata": {},
     "output_type": "execute_result"
    }
   ],
   "source": [
    "x = 5 # varaible"
   ]
  },
  {
   "cell_type": "code",
   "execution_count": 17,
   "id": "f8685db9-366b-4cc8-9f99-1079baa2d490",
   "metadata": {},
   "outputs": [
    {
     "data": {
      "text/plain": [
       "Int64"
      ]
     },
     "execution_count": 17,
     "metadata": {},
     "output_type": "execute_result"
    }
   ],
   "source": [
    "typeof(x) #typeof function gives us the type of an expression"
   ]
  },
  {
   "cell_type": "code",
   "execution_count": 19,
   "id": "0456dc50-faad-4dba-900c-5029f4db6016",
   "metadata": {},
   "outputs": [
    {
     "data": {
      "text/plain": [
       "Int64"
      ]
     },
     "execution_count": 19,
     "metadata": {},
     "output_type": "execute_result"
    }
   ],
   "source": [
    "Int64 #This is a type"
   ]
  },
  {
   "cell_type": "code",
   "execution_count": 20,
   "id": "5b3c0850-750f-4fc7-9977-688c3aa004ab",
   "metadata": {},
   "outputs": [
    {
     "data": {
      "text/plain": [
       "String"
      ]
     },
     "execution_count": 20,
     "metadata": {},
     "output_type": "execute_result"
    }
   ],
   "source": [
    "String"
   ]
  },
  {
   "cell_type": "code",
   "execution_count": 22,
   "id": "03ffb8da-acad-43ae-b887-ef60c64ce67c",
   "metadata": {},
   "outputs": [
    {
     "data": {
      "text/plain": [
       "false"
      ]
     },
     "execution_count": 22,
     "metadata": {},
     "output_type": "execute_result"
    }
   ],
   "source": [
    "Int64 isa Number # not sure why false"
   ]
  },
  {
   "cell_type": "code",
   "execution_count": 23,
   "id": "a2cf15c1-4bdb-4507-a3bc-ac8e1f48a07c",
   "metadata": {},
   "outputs": [
    {
     "data": {
      "text/plain": [
       "5-element Vector{Int64}:\n",
       "  2\n",
       "  3\n",
       "  4\n",
       "  7\n",
       " -3"
      ]
     },
     "execution_count": 23,
     "metadata": {},
     "output_type": "execute_result"
    }
   ],
   "source": [
    "my_numbers = [2,3,4,7,-3]"
   ]
  },
  {
   "cell_type": "code",
   "execution_count": 24,
   "id": "c61bc17e-c221-4516-8752-4d4256667928",
   "metadata": {},
   "outputs": [
    {
     "data": {
      "text/plain": [
       "Vector{Int64}\u001b[90m (alias for \u001b[39m\u001b[90mArray{Int64, 1}\u001b[39m\u001b[90m)\u001b[39m"
      ]
     },
     "execution_count": 24,
     "metadata": {},
     "output_type": "execute_result"
    }
   ],
   "source": [
    "typeof(my_numbers)"
   ]
  },
  {
   "cell_type": "code",
   "execution_count": 25,
   "id": "436ea7e6-23fc-4acf-81af-3a3db73d180b",
   "metadata": {},
   "outputs": [
    {
     "data": {
      "text/plain": [
       "3-element Vector{Float64}:\n",
       "  1.3\n",
       " -2.0\n",
       "  5.0"
      ]
     },
     "execution_count": 25,
     "metadata": {},
     "output_type": "execute_result"
    }
   ],
   "source": [
    "your_numbers = [1.3, -2,5]"
   ]
  },
  {
   "cell_type": "code",
   "execution_count": 26,
   "id": "69cdd4cf-f82c-46c8-b8b9-d85129e62b3a",
   "metadata": {},
   "outputs": [
    {
     "data": {
      "text/plain": [
       "3-element Vector{Any}:\n",
       "  \"Brisbane\"\n",
       " 2.3\n",
       "  [2, -5]"
      ]
     },
     "execution_count": 26,
     "metadata": {},
     "output_type": "execute_result"
    }
   ],
   "source": [
    "my_other_array = [\"Brisbane\", 2.3, [2,-5]]"
   ]
  },
  {
   "cell_type": "code",
   "execution_count": 27,
   "id": "c05137b1-4cb9-456c-a33f-190db8bdde7d",
   "metadata": {},
   "outputs": [
    {
     "data": {
      "text/plain": [
       "\"Brisbane\""
      ]
     },
     "execution_count": 27,
     "metadata": {},
     "output_type": "execute_result"
    }
   ],
   "source": [
    "my_other_array[1] # Yes Julia is 1 indexed"
   ]
  },
  {
   "cell_type": "code",
   "execution_count": 28,
   "id": "c23d3b84-6b61-45c3-a08f-bb4f57ee1fdb",
   "metadata": {},
   "outputs": [
    {
     "data": {
      "text/plain": [
       "String"
      ]
     },
     "execution_count": 28,
     "metadata": {},
     "output_type": "execute_result"
    }
   ],
   "source": [
    "typeof(my_other_array[1])"
   ]
  },
  {
   "cell_type": "code",
   "execution_count": 29,
   "id": "dc24267e-72fd-42b6-93ca-e4c898787a01",
   "metadata": {},
   "outputs": [
    {
     "data": {
      "text/plain": [
       "2×2 Matrix{Int64}:\n",
       " 1  2\n",
       " 3  4"
      ]
     },
     "execution_count": 29,
     "metadata": {},
     "output_type": "execute_result"
    }
   ],
   "source": [
    "A = [ 1 2; 3 4]"
   ]
  },
  {
   "cell_type": "code",
   "execution_count": 30,
   "id": "b06c4bc3-6a0e-4b97-83b8-482286dd92ad",
   "metadata": {},
   "outputs": [
    {
     "data": {
      "text/plain": [
       "Matrix{Int64}\u001b[90m (alias for \u001b[39m\u001b[90mArray{Int64, 2}\u001b[39m\u001b[90m)\u001b[39m"
      ]
     },
     "execution_count": 30,
     "metadata": {},
     "output_type": "execute_result"
    }
   ],
   "source": [
    "typeof(A)"
   ]
  },
  {
   "cell_type": "code",
   "execution_count": 31,
   "id": "3ec0033b-faf0-4e02-b73b-9ff8e02910bf",
   "metadata": {},
   "outputs": [
    {
     "ename": "LoadError",
     "evalue": "BoundsError: attempt to access 2×2 Matrix{Int64} at index [1, 3]",
     "output_type": "error",
     "traceback": [
      "BoundsError: attempt to access 2×2 Matrix{Int64} at index [1, 3]",
      "",
      "Stacktrace:",
      " [1] throw_boundserror(A::Matrix{Int64}, I::Tuple{Int64, Int64})",
      "   @ Base ./essentials.jl:14",
      " [2] checkbounds",
      "   @ ./abstractarray.jl:699 [inlined]",
      " [3] getindex(::Matrix{Int64}, ::Int64, ::Int64)",
      "   @ Base ./array.jl:929",
      " [4] top-level scope",
      "   @ In[31]:1"
     ]
    }
   ],
   "source": [
    "A[1,3] # will be out of bounds"
   ]
  },
  {
   "cell_type": "code",
   "execution_count": 33,
   "id": "dd967473-4f3a-4c2f-b5ed-520aab39d08c",
   "metadata": {},
   "outputs": [
    {
     "data": {
      "text/plain": [
       "2"
      ]
     },
     "execution_count": 33,
     "metadata": {},
     "output_type": "execute_result"
    }
   ],
   "source": [
    "A[1,2] # getting an element of a matrix"
   ]
  },
  {
   "cell_type": "code",
   "execution_count": 35,
   "id": "b0722498-58c4-46f0-8735-010babaae3c4",
   "metadata": {},
   "outputs": [
    {
     "data": {
      "text/plain": [
       "2×2 Matrix{String}:\n",
       " \"hello\"   \"goodbye\"\n",
       " \"Shalom\"  \"Yalla\""
      ]
     },
     "execution_count": 35,
     "metadata": {},
     "output_type": "execute_result"
    }
   ],
   "source": [
    "A = [\"hello\" \"goodbye\"; \"Shalom\" \"Yalla\"] #redeefined A"
   ]
  },
  {
   "cell_type": "code",
   "execution_count": 37,
   "id": "071257c5-3c82-4bbc-a4c6-d76130f398e3",
   "metadata": {},
   "outputs": [
    {
     "data": {
      "text/plain": [
       "2"
      ]
     },
     "execution_count": 37,
     "metadata": {},
     "output_type": "execute_result"
    }
   ],
   "source": [
    "my_number = BigInt(2)"
   ]
  },
  {
   "cell_type": "code",
   "execution_count": 39,
   "id": "744ff64c-2778-4ec7-a08b-66333563ca4b",
   "metadata": {},
   "outputs": [
    {
     "data": {
      "text/plain": [
       "19950631168807583848837421626835850838234968318861924548520089498529438830221946631919961684036194597899331129423209124271556491349413781117593785932096323957855730046793794526765246551266059895520550086918193311542508608460618104685509074866089624888090489894838009253941633257850621568309473902556912388065225096643874441046759871626985453222868538161694315775629640762836880760732228535091641476183956381458969463899410840960536267821064621427333394036525565649530603142680234969400335934316651459297773279665775606172582031407994198179607378245683762280037302885487251900834464581454650557929601414833921615734588139257095379769119277800826957735674444123062018757836325502728323789270710373802866393031428133241401624195671690574061419654342324638801248856147305207431992259611796250130992860241708340807605932320161268492288496255841312844061536738951487114256315111089745514203313820202931640957596464756010405845841566072044962867016515061920631004186422275908670900574606417856951911456055068251250406007519842261898059237118054444788072906395242548339221982707404473162376760846613033778706039803413197133493654622700563169937455508241780972810983291314403571877524768509857276937926433221599399876886660808368837838027643282775172273657572744784112294389733810861607423253291974813120197604178281965697475898164531258434135959862784130128185406283476649088690521047580882615823961985770122407044330583075869039319604603404973156583208672105913300903752823415539745394397715257455290510212310947321610753474825740775273986348298498340756937955646638621874569499279016572103701364433135817214311791398222983845847334440270964182851005072927748364550578634501100852987812389473928699540834346158807043959118985815145779177143619698728131459483783202081474982171858011389071228250905826817436220577475921417653715687725614904582904992461028630081535583308130101987675856234343538955409175623400844887526162643568648833519463720377293240094456246923254350400678027273837755376406726898636241037491410966718557050759098100246789880178271925953381282421954028302759408448955014676668389697996886241636313376393903373455801407636741877711055384225739499110186468219696581651485130494222369947714763069155468217682876200362777257723781365331611196811280792669481887201298643660768551639860534602297871557517947385246369446923087894265948217008051120322365496288169035739121368338393591756418733850510970271613915439590991598154654417336311656936031122249937969999226781732358023111862644575299135758175008199839236284615249881088960232244362173771618086357015468484058622329792853875623486556440536962622018963571028812361567512543338303270029097668650568557157505516727518899194129711337690149916181315171544007728650573189557450920330185304847113818315407324053319038462084036421763703911550639789000742853672196280903477974533320468368795868580237952218629120080742819551317948157624448298518461509704888027274721574688131594750409732115080498190455803416826949787141316063210686391511681774304792596709376"
      ]
     },
     "execution_count": 39,
     "metadata": {},
     "output_type": "execute_result"
    }
   ],
   "source": [
    "my_number^10000 # ^ is power (in Python **)"
   ]
  },
  {
   "cell_type": "code",
   "execution_count": 40,
   "id": "b916af8a-6c15-4d88-8448-38f2be47ccb5",
   "metadata": {},
   "outputs": [
    {
     "data": {
      "text/plain": [
       "(\"Dash\", \"Pickle\")"
      ]
     },
     "execution_count": 40,
     "metadata": {},
     "output_type": "execute_result"
    }
   ],
   "source": [
    "my_pets = (\"Dash\", \"Pickle\") #Tuple"
   ]
  },
  {
   "cell_type": "code",
   "execution_count": 41,
   "id": "850adfe4-8778-48a7-8d7b-94aad12c75f6",
   "metadata": {},
   "outputs": [
    {
     "ename": "LoadError",
     "evalue": "MethodError: no method matching setindex!(::Tuple{String, String}, ::String, ::Int64)\nThe function `setindex!` exists, but no method is defined for this combination of argument types.",
     "output_type": "error",
     "traceback": [
      "MethodError: no method matching setindex!(::Tuple{String, String}, ::String, ::Int64)\nThe function `setindex!` exists, but no method is defined for this combination of argument types.",
      "",
      "Stacktrace:",
      " [1] top-level scope",
      "   @ In[41]:1"
     ]
    }
   ],
   "source": [
    "my_pets[2] = \"lucky\""
   ]
  },
  {
   "cell_type": "code",
   "execution_count": 42,
   "id": "61c17675-7ca5-48ea-a25a-b4bc3a28c83f",
   "metadata": {},
   "outputs": [
    {
     "data": {
      "text/plain": [
       "Tuple{String, String}"
      ]
     },
     "execution_count": 42,
     "metadata": {},
     "output_type": "execute_result"
    }
   ],
   "source": [
    "typeof(my_pets)"
   ]
  },
  {
   "cell_type": "code",
   "execution_count": 44,
   "id": "8640f89e-7b0f-4f24-bc8f-785f43cf774d",
   "metadata": {},
   "outputs": [
    {
     "data": {
      "text/plain": [
       "Tuple{Symbol, String}"
      ]
     },
     "execution_count": 44,
     "metadata": {},
     "output_type": "execute_result"
    }
   ],
   "source": [
    "students[\"Barbara\"] |> typeof #applying the function typeof in postfix notation "
   ]
  },
  {
   "cell_type": "markdown",
   "id": "31a54e04-ed81-4514-b1f9-b7dfe5204dcf",
   "metadata": {},
   "source": [
    "### A first example from the notes (Section 1)"
   ]
  },
  {
   "cell_type": "code",
   "execution_count": 46,
   "id": "5ce4e1da-87d2-40a2-900c-52200a6f5f24",
   "metadata": {},
   "outputs": [
    {
     "data": {
      "text/plain": [
       "2×2 Matrix{Int64}:\n",
       " 1  2\n",
       " 3  4"
      ]
     },
     "execution_count": 46,
     "metadata": {},
     "output_type": "execute_result"
    }
   ],
   "source": [
    "A = [ 1 2; 3 4]"
   ]
  },
  {
   "cell_type": "code",
   "execution_count": 47,
   "id": "9ce0fae7-d0df-430a-b857-584f47d59ab4",
   "metadata": {},
   "outputs": [
    {
     "ename": "LoadError",
     "evalue": "UndefVarError: `eigvals` not defined in `Main`\nSuggestion: check for spelling errors or missing imports.\nHint: a global variable of this name may be made accessible by importing LinearAlgebra in the current active module Main",
     "output_type": "error",
     "traceback": [
      "UndefVarError: `eigvals` not defined in `Main`\nSuggestion: check for spelling errors or missing imports.\nHint: a global variable of this name may be made accessible by importing LinearAlgebra in the current active module Main",
      "",
      "Stacktrace:",
      " [1] top-level scope",
      "   @ In[47]:1"
     ]
    }
   ],
   "source": [
    "eigvals(A)"
   ]
  },
  {
   "cell_type": "code",
   "execution_count": 48,
   "id": "47c1295c-7de8-4a94-aa73-356b199d9265",
   "metadata": {},
   "outputs": [
    {
     "data": {
      "text/plain": [
       "2-element Vector{Float64}:\n",
       " -0.3722813232690143\n",
       "  5.372281323269014"
      ]
     },
     "execution_count": 48,
     "metadata": {},
     "output_type": "execute_result"
    }
   ],
   "source": [
    "using LinearAlgebra\n",
    "eigvals(A)"
   ]
  },
  {
   "cell_type": "code",
   "execution_count": 49,
   "id": "9a70cd64-769f-4918-bbd3-ebee0ddd8568",
   "metadata": {},
   "outputs": [
    {
     "data": {
      "text/plain": [
       "Module"
      ]
     },
     "execution_count": 49,
     "metadata": {},
     "output_type": "execute_result"
    }
   ],
   "source": [
    "typeof(Random)"
   ]
  },
  {
   "cell_type": "markdown",
   "id": "02da8e0a-6038-43f6-9025-db3182797342",
   "metadata": {},
   "source": [
    "We use `!` on function names (by convention) if the functions are NOT pure."
   ]
  },
  {
   "cell_type": "code",
   "execution_count": 50,
   "id": "0e00abd9-67b2-4e6e-9dcd-10024b493c89",
   "metadata": {},
   "outputs": [
    {
     "name": "stdout",
     "output_type": "stream",
     "text": [
      "hello world\n"
     ]
    }
   ],
   "source": [
    "println(\"hello world\")"
   ]
  },
  {
   "cell_type": "code",
   "execution_count": 45,
   "id": "022fdedb-db2c-4597-99e3-fc642ee55450",
   "metadata": {},
   "outputs": [],
   "source": [
    "using Random #in-built package\n",
    "\n",
    "Random.seed!(0) #set the seed Calls the seed! function from the module Random  DO NOT CONFUSE WITH \".\" for broadcasting\n"
   ]
  },
  {
   "cell_type": "code",
   "execution_count": 51,
   "id": "9b0e57cb-2b07-419a-bb86-58e997e94e87",
   "metadata": {},
   "outputs": [
    {
     "data": {
      "text/plain": [
       "find_max (generic function with 1 method)"
      ]
     },
     "execution_count": 51,
     "metadata": {},
     "output_type": "execute_result"
    }
   ],
   "source": [
    "function find_max(data)\n",
    "\n",
    "end"
   ]
  },
  {
   "cell_type": "code",
   "execution_count": 52,
   "id": "4fd6b5da-c02d-4776-af6b-f5e3f3ba5687",
   "metadata": {},
   "outputs": [
    {
     "data": {
      "text/plain": [
       "find_max (generic function with 2 methods)"
      ]
     },
     "execution_count": 52,
     "metadata": {},
     "output_type": "execute_result"
    }
   ],
   "source": [
    "function find_max(data1, data2)\n",
    "\n",
    "end"
   ]
  },
  {
   "cell_type": "code",
   "execution_count": 67,
   "id": "4fd7a0da-8446-46c9-ac9d-6f85ea2e38e4",
   "metadata": {},
   "outputs": [
    {
     "data": {
      "text/plain": [
       "Nothing"
      ]
     },
     "execution_count": 67,
     "metadata": {},
     "output_type": "execute_result"
    }
   ],
   "source": [
    "typeof(find_max(\"one\", \"two\"))"
   ]
  },
  {
   "cell_type": "code",
   "execution_count": 53,
   "id": "746b5918-3f35-426f-af01-17a56f375b0a",
   "metadata": {},
   "outputs": [],
   "source": [
    "# Multiple Dispatch"
   ]
  },
  {
   "cell_type": "code",
   "execution_count": 54,
   "id": "49512848-0422-4612-9978-00a5e3ef855d",
   "metadata": {},
   "outputs": [
    {
     "data": {
      "text/html": [
       "# 2 methods for generic function <b>find_max</b> from \u001b[36mMain\u001b[39m:<ul><li> find_max(data1, data2) in Main at In[52]:1</li> <li> find_max(data) in Main at In[51]:1</li> </ul>"
      ],
      "text/plain": [
       "# 2 methods for generic function \"find_max\" from \u001b[36mMain\u001b[39m:\n",
       " [1] find_max(\u001b[90mdata1\u001b[39m, \u001b[90mdata2\u001b[39m)\n",
       "\u001b[90m     @\u001b[39m \u001b[90m\u001b[4mIn[52]:1\u001b[24m\u001b[39m\n",
       " [2] find_max(\u001b[90mdata\u001b[39m)\n",
       "\u001b[90m     @\u001b[39m \u001b[90m\u001b[4mIn[51]:1\u001b[24m\u001b[39m"
      ]
     },
     "execution_count": 54,
     "metadata": {},
     "output_type": "execute_result"
    }
   ],
   "source": [
    "methods(find_max)"
   ]
  },
  {
   "cell_type": "code",
   "execution_count": 64,
   "id": "b21bf2ca-34e8-4ee0-a7b8-64ad908b245c",
   "metadata": {},
   "outputs": [
    {
     "data": {
      "text/plain": [
       "true"
      ]
     },
     "execution_count": 64,
     "metadata": {},
     "output_type": "execute_result"
    }
   ],
   "source": [
    "22 ≤ 22 # \\le + [TAB] just like <="
   ]
  },
  {
   "cell_type": "code",
   "execution_count": 65,
   "id": "7960974a-b07a-4b57-87dd-fcd79ed3766b",
   "metadata": {},
   "outputs": [
    {
     "name": "stdout",
     "output_type": "stream",
     "text": [
      "hi\n",
      "people\n"
     ]
    }
   ],
   "source": [
    "println(\"hi\");println(\"people\") #two seperate expressions"
   ]
  },
  {
   "cell_type": "code",
   "execution_count": 71,
   "id": "3fbd84e1-f9aa-4835-8cbc-e2f595ecf478",
   "metadata": {},
   "outputs": [
    {
     "data": {
      "text/plain": [
       "find_max"
      ]
     },
     "execution_count": 71,
     "metadata": {},
     "output_type": "execute_result"
    }
   ],
   "source": [
    "\"\"\"\n",
    "My own function that finds the maximum value of the input `data`.\n",
    "\"\"\"\n",
    "function find_max(data)\n",
    "    max_value = -Inf\n",
    "    for x ∈ data # \\in + [TAB] replaces \"in\" with \"∈\"\n",
    "        if x > max_value # if greater than anything we have seen before\n",
    "            max_value = x #then record the new maximum value\n",
    "        end\n",
    "    end\n",
    "    return max_value #the last expression of the function is the return value \n",
    "end"
   ]
  },
  {
   "cell_type": "code",
   "execution_count": 74,
   "id": "df1c2134-e7be-4611-b749-8a7561f636c2",
   "metadata": {},
   "outputs": [
    {
     "data": {
      "text/plain": [
       "3-element Vector{Int64}:\n",
       " -7077249473871043835\n",
       " -4706236934882226440\n",
       "  -952937191191912539"
      ]
     },
     "execution_count": 74,
     "metadata": {},
     "output_type": "execute_result"
    }
   ],
   "source": [
    "a = rand(Int,3)"
   ]
  },
  {
   "cell_type": "code",
   "execution_count": 75,
   "id": "588928b3-054b-4be1-9a09-6a65cf60a9db",
   "metadata": {},
   "outputs": [
    {
     "data": {
      "text/plain": [
       "2-element Vector{Int64}:\n",
       " -4706236934882226440\n",
       "  -952937191191912539"
      ]
     },
     "execution_count": 75,
     "metadata": {},
     "output_type": "execute_result"
    }
   ],
   "source": [
    "a[2:end]"
   ]
  },
  {
   "cell_type": "code",
   "execution_count": 77,
   "id": "8b8c1b72-ae30-4840-b7ee-49ca4e5ee8b6",
   "metadata": {},
   "outputs": [
    {
     "data": {
      "text/plain": [
       "-7077249473871043835"
      ]
     },
     "execution_count": 77,
     "metadata": {},
     "output_type": "execute_result"
    }
   ],
   "source": [
    "first(a)"
   ]
  },
  {
   "cell_type": "code",
   "execution_count": 78,
   "id": "d3b9b65e-bb2d-44dc-b4a5-4cb6154a22c9",
   "metadata": {},
   "outputs": [
    {
     "data": {
      "text/plain": [
       "find_max_2nd_version (generic function with 1 method)"
      ]
     },
     "execution_count": 78,
     "metadata": {},
     "output_type": "execute_result"
    }
   ],
   "source": [
    "function find_max_2nd_version(data)\n",
    "    max_value = first(1) #Start with first entry\n",
    "    for x ∈ data[2:end]\n",
    "        if x > max_value \n",
    "            max_value = x\n",
    "        end\n",
    "    end\n",
    "    return max_value #the last expression of the function is the return value \n",
    "end"
   ]
  },
  {
   "cell_type": "code",
   "execution_count": 73,
   "id": "359816a2-ea4e-4d95-a673-32038d460827",
   "metadata": {},
   "outputs": [],
   "source": [
    "# -Inf is a floating point number less than any other floating point number"
   ]
  },
  {
   "cell_type": "code",
   "execution_count": 72,
   "id": "c23606bb-643e-4ad3-b165-39b4d1913906",
   "metadata": {},
   "outputs": [
    {
     "data": {
      "text/plain": [
       "2000"
      ]
     },
     "execution_count": 72,
     "metadata": {},
     "output_type": "execute_result"
    }
   ],
   "source": [
    "find_max([10,-100,2000,20,30])"
   ]
  },
  {
   "cell_type": "code",
   "execution_count": 56,
   "id": "826ed0bd-d2b8-4449-aeb4-fce912057097",
   "metadata": {},
   "outputs": [
    {
     "name": "stdout",
     "output_type": "stream",
     "text": [
      "search: \u001b[0m\u001b[1mf\u001b[22m\u001b[0m\u001b[1mi\u001b[22m\u001b[0m\u001b[1mn\u001b[22m\u001b[0m\u001b[1md\u001b[22m\u001b[0m\u001b[1m_\u001b[22m\u001b[0m\u001b[1mm\u001b[22m\u001b[0m\u001b[1ma\u001b[22m\u001b[0m\u001b[1mx\u001b[22m \u001b[0m\u001b[1mf\u001b[22m\u001b[0m\u001b[1mi\u001b[22m\u001b[0m\u001b[1mn\u001b[22m\u001b[0m\u001b[1md\u001b[22mmax \u001b[0m\u001b[1mf\u001b[22m\u001b[0m\u001b[1mi\u001b[22m\u001b[0m\u001b[1mn\u001b[22m\u001b[0m\u001b[1md\u001b[22mmax! minmax \u001b[0m\u001b[1mf\u001b[22m\u001b[0m\u001b[1mi\u001b[22m\u001b[0m\u001b[1mn\u001b[22m\u001b[0m\u001b[1md\u001b[22mmin \u001b[0m\u001b[1mf\u001b[22m\u001b[0m\u001b[1mi\u001b[22m\u001b[0m\u001b[1mn\u001b[22m\u001b[0m\u001b[1md\u001b[22mnext eigmax \u001b[0m\u001b[1mf\u001b[22m\u001b[0m\u001b[1mi\u001b[22m\u001b[0m\u001b[1mn\u001b[22m\u001b[0m\u001b[1md\u001b[22mmin!\n",
      "\n"
     ]
    },
    {
     "data": {
      "text/latex": [
       "My own function that finds the maximum value of the input \\texttt{data}.\n",
       "\n"
      ],
      "text/markdown": [
       "My own function that finds the maximum value of the input `data`.\n"
      ],
      "text/plain": [
       "  My own function that finds the maximum value of the input \u001b[36mdata\u001b[39m."
      ]
     },
     "execution_count": 56,
     "metadata": {},
     "output_type": "execute_result"
    }
   ],
   "source": [
    "? find_max"
   ]
  },
  {
   "cell_type": "code",
   "execution_count": 57,
   "id": "978aa8d8-ccae-479e-ba2a-d9088e22001a",
   "metadata": {},
   "outputs": [
    {
     "data": {
      "text/plain": [
       "Inf"
      ]
     },
     "execution_count": 57,
     "metadata": {},
     "output_type": "execute_result"
    }
   ],
   "source": [
    "Inf"
   ]
  },
  {
   "cell_type": "code",
   "execution_count": 58,
   "id": "61ed78ae-5fb5-464d-93cb-44b64d556f82",
   "metadata": {},
   "outputs": [
    {
     "data": {
      "text/plain": [
       "Float64"
      ]
     },
     "execution_count": 58,
     "metadata": {},
     "output_type": "execute_result"
    }
   ],
   "source": [
    "typeof(Inf)"
   ]
  },
  {
   "cell_type": "code",
   "execution_count": 59,
   "id": "8b7a85b4-1fa8-4a30-9988-8434b9dbfe63",
   "metadata": {},
   "outputs": [
    {
     "name": "stdout",
     "output_type": "stream",
     "text": [
      "1\n",
      "2\n",
      "3\n",
      "4\n",
      "5\n",
      "6\n",
      "7\n",
      "8\n",
      "9\n",
      "10\n"
     ]
    }
   ],
   "source": [
    "for x in 1:10\n",
    "    println(x)\n",
    "end"
   ]
  },
  {
   "cell_type": "code",
   "execution_count": 60,
   "id": "18eb9500-a8be-455d-9f78-4762641afbc5",
   "metadata": {},
   "outputs": [
    {
     "data": {
      "text/plain": [
       "4"
      ]
     },
     "execution_count": 60,
     "metadata": {},
     "output_type": "execute_result"
    }
   ],
   "source": [
    "α = 4 #\\alpha + [TAB]"
   ]
  },
  {
   "cell_type": "code",
   "execution_count": 79,
   "id": "38d1d593-979a-4c3c-ba9e-f9cdf0becf58",
   "metadata": {},
   "outputs": [
    {
     "data": {
      "text/plain": [
       "100-element Vector{Float64}:\n",
       " 0.43819416054144766\n",
       " 0.18260287760553184\n",
       " 0.09059612176609189\n",
       " 0.6591561295784683\n",
       " 0.6741325592701402\n",
       " 0.6580494386521151\n",
       " 0.11180558545391439\n",
       " 0.8601154680600082\n",
       " 0.7893537768757135\n",
       " 0.348792028851862\n",
       " 0.11173693329461376\n",
       " 0.19047768017826705\n",
       " 0.5334363305059847\n",
       " ⋮\n",
       " 0.7332003248146487\n",
       " 0.5263416008686992\n",
       " 0.2584104756853639\n",
       " 0.46616347636286826\n",
       " 0.642794469050299\n",
       " 0.7596929714705984\n",
       " 0.8167572808343498\n",
       " 0.5566542007494301\n",
       " 0.38577740460214593\n",
       " 0.2739334538775453\n",
       " 0.36666925724985033\n",
       " 0.33060213286041207"
      ]
     },
     "execution_count": 79,
     "metadata": {},
     "output_type": "execute_result"
    }
   ],
   "source": [
    "data = rand(100)# create 100 random uniforms(0,1)"
   ]
  },
  {
   "cell_type": "code",
   "execution_count": 81,
   "id": "d2e6b390-dc3e-41a8-9cd6-c9f457f1d50c",
   "metadata": {},
   "outputs": [],
   "source": [
    "using Plots"
   ]
  },
  {
   "cell_type": "code",
   "execution_count": 84,
   "id": "596b1745-2b98-465b-a87a-8d19ea25d9b0",
   "metadata": {},
   "outputs": [
    {
     "data": {
      "image/png": "[encoded data removed]",
      "image/svg+xml": [
       "<?xml version=\"1.0\" encoding=\"utf-8\"?>\n",
       "<svg xmlns=\"http://www.w3.org/2000/svg\" xmlns:xlink=\"http://www.w3.org/1999/xlink\" width=\"600\" height=\"400\" viewBox=\"0 0 2400 1600\">\n",
       "<defs>\n",
       "  <clipPath id=\"clip510\">\n",
       "    <rect x=\"0\" y=\"0\" width=\"2400\" height=\"1600\"/>\n",
       "  </clipPath>\n",
       "</defs>\n",
       "<path clip-path=\"url(#clip510)\" d=\"M0 1600 L2400 1600 L2400 8.88178e-14 L0 8.88178e-14  Z\" fill=\"#ffffff\" fill-rule=\"evenodd\" fill-opacity=\"1\"/>\n",
       "<defs>\n",
       "  <clipPath id=\"clip511\">\n",
       "    <rect x=\"480\" y=\"0\" width=\"1681\" height=\"1600\"/>\n",
       "  </clipPath>\n",
       "</defs>\n",
       "<path clip-path=\"url(#clip510)\" d=\"M156.598 1486.45 L2352.76 1486.45 L2352.76 47.2441 L156.598 47.2441  Z\" fill=\"#ffffff\" fill-rule=\"evenodd\" fill-opacity=\"1\"/>\n",
       "<defs>\n",
       "  <clipPath id=\"clip512\">\n",
       "    <rect x=\"156\" y=\"47\" width=\"2197\" height=\"1440\"/>\n",
       "  </clipPath>\n",
       "</defs>\n",
       "<polyline clip-path=\"url(#clip512)\" style=\"stroke:#000000; stroke-linecap:round; stroke-linejoin:round; stroke-width:2; stroke-opacity:0.1; fill:none\" points=\"197.826,1486.45 197.826,47.2441 \"/>\n",
       "<polyline clip-path=\"url(#clip512)\" style=\"stroke:#000000; stroke-linecap:round; stroke-linejoin:round; stroke-width:2; stroke-opacity:0.1; fill:none\" points=\"721.02,1486.45 721.02,47.2441 \"/>\n",
       "<polyline clip-path=\"url(#clip512)\" style=\"stroke:#000000; stroke-linecap:round; stroke-linejoin:round; stroke-width:2; stroke-opacity:0.1; fill:none\" points=\"1244.21,1486.45 1244.21,47.2441 \"/>\n",
       "<polyline clip-path=\"url(#clip512)\" style=\"stroke:#000000; stroke-linecap:round; stroke-linejoin:round; stroke-width:2; stroke-opacity:0.1; fill:none\" points=\"1767.41,1486.45 1767.41,47.2441 \"/>\n",
       "<polyline clip-path=\"url(#clip512)\" style=\"stroke:#000000; stroke-linecap:round; stroke-linejoin:round; stroke-width:2; stroke-opacity:0.1; fill:none\" points=\"2290.6,1486.45 2290.6,47.2441 \"/>\n",
       "<polyline clip-path=\"url(#clip512)\" style=\"stroke:#000000; stroke-linecap:round; stroke-linejoin:round; stroke-width:2; stroke-opacity:0.1; fill:none\" points=\"156.598,1229 2352.76,1229 \"/>\n",
       "<polyline clip-path=\"url(#clip512)\" style=\"stroke:#000000; stroke-linecap:round; stroke-linejoin:round; stroke-width:2; stroke-opacity:0.1; fill:none\" points=\"156.598,938.998 2352.76,938.998 \"/>\n",
       "<polyline clip-path=\"url(#clip512)\" style=\"stroke:#000000; stroke-linecap:round; stroke-linejoin:round; stroke-width:2; stroke-opacity:0.1; fill:none\" points=\"156.598,648.997 2352.76,648.997 \"/>\n",
       "<polyline clip-path=\"url(#clip512)\" style=\"stroke:#000000; stroke-linecap:round; stroke-linejoin:round; stroke-width:2; stroke-opacity:0.1; fill:none\" points=\"156.598,358.996 2352.76,358.996 \"/>\n",
       "<polyline clip-path=\"url(#clip512)\" style=\"stroke:#000000; stroke-linecap:round; stroke-linejoin:round; stroke-width:2; stroke-opacity:0.1; fill:none\" points=\"156.598,68.9952 2352.76,68.9952 \"/>\n",
       "<polyline clip-path=\"url(#clip510)\" style=\"stroke:#000000; stroke-linecap:round; stroke-linejoin:round; stroke-width:4; stroke-opacity:1; fill:none\" points=\"156.598,1486.45 2352.76,1486.45 \"/>\n",
       "<polyline clip-path=\"url(#clip510)\" style=\"stroke:#000000; stroke-linecap:round; stroke-linejoin:round; stroke-width:4; stroke-opacity:1; fill:none\" points=\"197.826,1486.45 197.826,1467.55 \"/>\n",
       "<polyline clip-path=\"url(#clip510)\" style=\"stroke:#000000; stroke-linecap:round; stroke-linejoin:round; stroke-width:4; stroke-opacity:1; fill:none\" points=\"721.02,1486.45 721.02,1467.55 \"/>\n",
       "<polyline clip-path=\"url(#clip510)\" style=\"stroke:#000000; stroke-linecap:round; stroke-linejoin:round; stroke-width:4; stroke-opacity:1; fill:none\" points=\"1244.21,1486.45 1244.21,1467.55 \"/>\n",
       "<polyline clip-path=\"url(#clip510)\" style=\"stroke:#000000; stroke-linecap:round; stroke-linejoin:round; stroke-width:4; stroke-opacity:1; fill:none\" points=\"1767.41,1486.45 1767.41,1467.55 \"/>\n",
       "<polyline clip-path=\"url(#clip510)\" style=\"stroke:#000000; stroke-linecap:round; stroke-linejoin:round; stroke-width:4; stroke-opacity:1; fill:none\" points=\"2290.6,1486.45 2290.6,1467.55 \"/>\n",
       "<path clip-path=\"url(#clip510)\" d=\"M197.826 1517.37 Q194.215 1517.37 192.386 1520.93 Q190.581 1524.47 190.581 1531.6 Q190.581 1538.71 192.386 1542.27 Q194.215 1545.82 197.826 1545.82 Q201.46 1545.82 203.266 1542.27 Q205.094 1538.71 205.094 1531.6 Q205.094 1524.47 203.266 1520.93 Q201.46 1517.37 197.826 1517.37 M197.826 1513.66 Q203.636 1513.66 206.692 1518.27 Q209.77 1522.85 209.77 1531.6 Q209.77 1540.33 206.692 1544.94 Q203.636 1549.52 197.826 1549.52 Q192.016 1549.52 188.937 1544.94 Q185.882 1540.33 185.882 1531.6 Q185.882 1522.85 188.937 1518.27 Q192.016 1513.66 197.826 1513.66 Z\" fill=\"#000000\" fill-rule=\"nonzero\" fill-opacity=\"1\" /><path clip-path=\"url(#clip510)\" d=\"M700.29 1544.91 L716.61 1544.91 L716.61 1548.85 L694.666 1548.85 L694.666 1544.91 Q697.328 1542.16 701.911 1537.53 Q706.517 1532.88 707.698 1531.53 Q709.943 1529.01 710.823 1527.27 Q711.726 1525.51 711.726 1523.82 Q711.726 1521.07 709.781 1519.33 Q707.86 1517.6 704.758 1517.6 Q702.559 1517.6 700.105 1518.36 Q697.675 1519.13 694.897 1520.68 L694.897 1515.95 Q697.721 1514.82 700.175 1514.24 Q702.628 1513.66 704.665 1513.66 Q710.036 1513.66 713.23 1516.35 Q716.425 1519.03 716.425 1523.52 Q716.425 1525.65 715.614 1527.57 Q714.827 1529.47 712.721 1532.07 Q712.142 1532.74 709.04 1535.95 Q705.939 1539.15 700.29 1544.91 Z\" fill=\"#000000\" fill-rule=\"nonzero\" fill-opacity=\"1\" /><path clip-path=\"url(#clip510)\" d=\"M726.471 1514.29 L744.827 1514.29 L744.827 1518.22 L730.753 1518.22 L730.753 1526.7 Q731.772 1526.35 732.79 1526.19 Q733.809 1526 734.827 1526 Q740.614 1526 743.994 1529.17 Q747.374 1532.34 747.374 1537.76 Q747.374 1543.34 743.901 1546.44 Q740.429 1549.52 734.11 1549.52 Q731.934 1549.52 729.665 1549.15 Q727.42 1548.78 725.013 1548.04 L725.013 1543.34 Q727.096 1544.47 729.318 1545.03 Q731.54 1545.58 734.017 1545.58 Q738.022 1545.58 740.36 1543.48 Q742.698 1541.37 742.698 1537.76 Q742.698 1534.15 740.36 1532.04 Q738.022 1529.94 734.017 1529.94 Q732.142 1529.94 730.267 1530.35 Q728.415 1530.77 726.471 1531.65 L726.471 1514.29 Z\" fill=\"#000000\" fill-rule=\"nonzero\" fill-opacity=\"1\" /><path clip-path=\"url(#clip510)\" d=\"M1218.91 1514.29 L1237.27 1514.29 L1237.27 1518.22 L1223.19 1518.22 L1223.19 1526.7 Q1224.21 1526.35 1225.23 1526.19 Q1226.25 1526 1227.27 1526 Q1233.06 1526 1236.44 1529.17 Q1239.82 1532.34 1239.82 1537.76 Q1239.82 1543.34 1236.34 1546.44 Q1232.87 1549.52 1226.55 1549.52 Q1224.38 1549.52 1222.11 1549.15 Q1219.86 1548.78 1217.45 1548.04 L1217.45 1543.34 Q1219.54 1544.47 1221.76 1545.03 Q1223.98 1545.58 1226.46 1545.58 Q1230.46 1545.58 1232.8 1543.48 Q1235.14 1541.37 1235.14 1537.76 Q1235.14 1534.15 1232.8 1532.04 Q1230.46 1529.94 1226.46 1529.94 Q1224.58 1529.94 1222.71 1530.35 Q1220.86 1530.77 1218.91 1531.65 L1218.91 1514.29 Z\" fill=\"#000000\" fill-rule=\"nonzero\" fill-opacity=\"1\" /><path clip-path=\"url(#clip510)\" d=\"M1259.03 1517.37 Q1255.42 1517.37 1253.59 1520.93 Q1251.78 1524.47 1251.78 1531.6 Q1251.78 1538.71 1253.59 1542.27 Q1255.42 1545.82 1259.03 1545.82 Q1262.66 1545.82 1264.47 1542.27 Q1266.3 1538.71 1266.3 1531.6 Q1266.3 1524.47 1264.47 1520.93 Q1262.66 1517.37 1259.03 1517.37 M1259.03 1513.66 Q1264.84 1513.66 1267.89 1518.27 Q1270.97 1522.85 1270.97 1531.6 Q1270.97 1540.33 1267.89 1544.94 Q1264.84 1549.52 1259.03 1549.52 Q1253.22 1549.52 1250.14 1544.94 Q1247.08 1540.33 1247.08 1531.6 Q1247.08 1522.85 1250.14 1518.27 Q1253.22 1513.66 1259.03 1513.66 Z\" fill=\"#000000\" fill-rule=\"nonzero\" fill-opacity=\"1\" /><path clip-path=\"url(#clip510)\" d=\"M1741.26 1514.29 L1763.48 1514.29 L1763.48 1516.28 L1750.94 1548.85 L1746.05 1548.85 L1757.86 1518.22 L1741.26 1518.22 L1741.26 1514.29 Z\" fill=\"#000000\" fill-rule=\"nonzero\" fill-opacity=\"1\" /><path clip-path=\"url(#clip510)\" d=\"M1772.65 1514.29 L1791.01 1514.29 L1791.01 1518.22 L1776.93 1518.22 L1776.93 1526.7 Q1777.95 1526.35 1778.97 1526.19 Q1779.99 1526 1781.01 1526 Q1786.79 1526 1790.17 1529.17 Q1793.55 1532.34 1793.55 1537.76 Q1793.55 1543.34 1790.08 1546.44 Q1786.61 1549.52 1780.29 1549.52 Q1778.11 1549.52 1775.84 1549.15 Q1773.6 1548.78 1771.19 1548.04 L1771.19 1543.34 Q1773.27 1544.47 1775.5 1545.03 Q1777.72 1545.58 1780.2 1545.58 Q1784.2 1545.58 1786.54 1543.48 Q1788.88 1541.37 1788.88 1537.76 Q1788.88 1534.15 1786.54 1532.04 Q1784.2 1529.94 1780.2 1529.94 Q1778.32 1529.94 1776.45 1530.35 Q1774.59 1530.77 1772.65 1531.65 L1772.65 1514.29 Z\" fill=\"#000000\" fill-rule=\"nonzero\" fill-opacity=\"1\" /><path clip-path=\"url(#clip510)\" d=\"M2250.21 1544.91 L2257.85 1544.91 L2257.85 1518.55 L2249.54 1520.21 L2249.54 1515.95 L2257.8 1514.29 L2262.48 1514.29 L2262.48 1544.91 L2270.11 1544.91 L2270.11 1548.85 L2250.21 1548.85 L2250.21 1544.91 Z\" fill=\"#000000\" fill-rule=\"nonzero\" fill-opacity=\"1\" /><path clip-path=\"url(#clip510)\" d=\"M2289.56 1517.37 Q2285.95 1517.37 2284.12 1520.93 Q2282.31 1524.47 2282.31 1531.6 Q2282.31 1538.71 2284.12 1542.27 Q2285.95 1545.82 2289.56 1545.82 Q2293.19 1545.82 2295 1542.27 Q2296.83 1538.71 2296.83 1531.6 Q2296.83 1524.47 2295 1520.93 Q2293.19 1517.37 2289.56 1517.37 M2289.56 1513.66 Q2295.37 1513.66 2298.42 1518.27 Q2301.5 1522.85 2301.5 1531.6 Q2301.5 1540.33 2298.42 1544.94 Q2295.37 1549.52 2289.56 1549.52 Q2283.75 1549.52 2280.67 1544.94 Q2277.61 1540.33 2277.61 1531.6 Q2277.61 1522.85 2280.67 1518.27 Q2283.75 1513.66 2289.56 1513.66 Z\" fill=\"#000000\" fill-rule=\"nonzero\" fill-opacity=\"1\" /><path clip-path=\"url(#clip510)\" d=\"M2319.72 1517.37 Q2316.11 1517.37 2314.28 1520.93 Q2312.48 1524.47 2312.48 1531.6 Q2312.48 1538.71 2314.28 1542.27 Q2316.11 1545.82 2319.72 1545.82 Q2323.35 1545.82 2325.16 1542.27 Q2326.99 1538.71 2326.99 1531.6 Q2326.99 1524.47 2325.16 1520.93 Q2323.35 1517.37 2319.72 1517.37 M2319.72 1513.66 Q2325.53 1513.66 2328.59 1518.27 Q2331.67 1522.85 2331.67 1531.6 Q2331.67 1540.33 2328.59 1544.94 Q2325.53 1549.52 2319.72 1549.52 Q2313.91 1549.52 2310.83 1544.94 Q2307.78 1540.33 2307.78 1531.6 Q2307.78 1522.85 2310.83 1518.27 Q2313.91 1513.66 2319.72 1513.66 Z\" fill=\"#000000\" fill-rule=\"nonzero\" fill-opacity=\"1\" /><polyline clip-path=\"url(#clip510)\" style=\"stroke:#000000; stroke-linecap:round; stroke-linejoin:round; stroke-width:4; stroke-opacity:1; fill:none\" points=\"156.598,1486.45 156.598,47.2441 \"/>\n",
       "<polyline clip-path=\"url(#clip510)\" style=\"stroke:#000000; stroke-linecap:round; stroke-linejoin:round; stroke-width:4; stroke-opacity:1; fill:none\" points=\"156.598,1229 175.496,1229 \"/>\n",
       "<polyline clip-path=\"url(#clip510)\" style=\"stroke:#000000; stroke-linecap:round; stroke-linejoin:round; stroke-width:4; stroke-opacity:1; fill:none\" points=\"156.598,938.998 175.496,938.998 \"/>\n",
       "<polyline clip-path=\"url(#clip510)\" style=\"stroke:#000000; stroke-linecap:round; stroke-linejoin:round; stroke-width:4; stroke-opacity:1; fill:none\" points=\"156.598,648.997 175.496,648.997 \"/>\n",
       "<polyline clip-path=\"url(#clip510)\" style=\"stroke:#000000; stroke-linecap:round; stroke-linejoin:round; stroke-width:4; stroke-opacity:1; fill:none\" points=\"156.598,358.996 175.496,358.996 \"/>\n",
       "<polyline clip-path=\"url(#clip510)\" style=\"stroke:#000000; stroke-linecap:round; stroke-linejoin:round; stroke-width:4; stroke-opacity:1; fill:none\" points=\"156.598,68.9952 175.496,68.9952 \"/>\n",
       "<path clip-path=\"url(#clip510)\" d=\"M65.0198 1214.8 Q61.4087 1214.8 59.58 1218.36 Q57.7745 1221.9 57.7745 1229.03 Q57.7745 1236.14 59.58 1239.7 Q61.4087 1243.25 65.0198 1243.25 Q68.6541 1243.25 70.4596 1239.7 Q72.2883 1236.14 72.2883 1229.03 Q72.2883 1221.9 70.4596 1218.36 Q68.6541 1214.8 65.0198 1214.8 M65.0198 1211.09 Q70.83 1211.09 73.8855 1215.7 Q76.9642 1220.28 76.9642 1229.03 Q76.9642 1237.76 73.8855 1242.37 Q70.83 1246.95 65.0198 1246.95 Q59.2097 1246.95 56.131 1242.37 Q53.0754 1237.76 53.0754 1229.03 Q53.0754 1220.28 56.131 1215.7 Q59.2097 1211.09 65.0198 1211.09 Z\" fill=\"#000000\" fill-rule=\"nonzero\" fill-opacity=\"1\" /><path clip-path=\"url(#clip510)\" d=\"M85.1818 1240.4 L90.066 1240.4 L90.066 1246.28 L85.1818 1246.28 L85.1818 1240.4 Z\" fill=\"#000000\" fill-rule=\"nonzero\" fill-opacity=\"1\" /><path clip-path=\"url(#clip510)\" d=\"M104.279 1242.34 L120.598 1242.34 L120.598 1246.28 L98.6539 1246.28 L98.6539 1242.34 Q101.316 1239.59 105.899 1234.96 Q110.506 1230.31 111.686 1228.96 Q113.932 1226.44 114.811 1224.7 Q115.714 1222.95 115.714 1221.26 Q115.714 1218.5 113.77 1216.76 Q111.848 1215.03 108.746 1215.03 Q106.547 1215.03 104.094 1215.79 Q101.663 1216.56 98.8854 1218.11 L98.8854 1213.38 Q101.709 1212.25 104.163 1211.67 Q106.617 1211.09 108.654 1211.09 Q114.024 1211.09 117.219 1213.78 Q120.413 1216.46 120.413 1220.95 Q120.413 1223.08 119.603 1225.01 Q118.816 1226.9 116.709 1229.5 Q116.131 1230.17 113.029 1233.38 Q109.927 1236.58 104.279 1242.34 Z\" fill=\"#000000\" fill-rule=\"nonzero\" fill-opacity=\"1\" /><path clip-path=\"url(#clip510)\" d=\"M62.9365 924.796 Q59.3254 924.796 57.4967 928.361 Q55.6912 931.903 55.6912 939.032 Q55.6912 946.139 57.4967 949.703 Q59.3254 953.245 62.9365 953.245 Q66.5707 953.245 68.3763 949.703 Q70.205 946.139 70.205 939.032 Q70.205 931.903 68.3763 928.361 Q66.5707 924.796 62.9365 924.796 M62.9365 921.093 Q68.7467 921.093 71.8022 925.699 Q74.8809 930.282 74.8809 939.032 Q74.8809 947.759 71.8022 952.365 Q68.7467 956.949 62.9365 956.949 Q57.1264 956.949 54.0477 952.365 Q50.9921 947.759 50.9921 939.032 Q50.9921 930.282 54.0477 925.699 Q57.1264 921.093 62.9365 921.093 Z\" fill=\"#000000\" fill-rule=\"nonzero\" fill-opacity=\"1\" /><path clip-path=\"url(#clip510)\" d=\"M83.0984 950.398 L87.9827 950.398 L87.9827 956.278 L83.0984 956.278 L83.0984 950.398 Z\" fill=\"#000000\" fill-rule=\"nonzero\" fill-opacity=\"1\" /><path clip-path=\"url(#clip510)\" d=\"M111.015 925.792 L99.2095 944.241 L111.015 944.241 L111.015 925.792 M109.788 921.718 L115.668 921.718 L115.668 944.241 L120.598 944.241 L120.598 948.129 L115.668 948.129 L115.668 956.278 L111.015 956.278 L111.015 948.129 L95.4132 948.129 L95.4132 943.616 L109.788 921.718 Z\" fill=\"#000000\" fill-rule=\"nonzero\" fill-opacity=\"1\" /><path clip-path=\"url(#clip510)\" d=\"M63.2606 634.795 Q59.6495 634.795 57.8208 638.36 Q56.0152 641.902 56.0152 649.031 Q56.0152 656.138 57.8208 659.703 Q59.6495 663.244 63.2606 663.244 Q66.8948 663.244 68.7004 659.703 Q70.5291 656.138 70.5291 649.031 Q70.5291 641.902 68.7004 638.36 Q66.8948 634.795 63.2606 634.795 M63.2606 631.092 Q69.0707 631.092 72.1263 635.698 Q75.205 640.282 75.205 649.031 Q75.205 657.758 72.1263 662.365 Q69.0707 666.948 63.2606 666.948 Q57.4504 666.948 54.3717 662.365 Q51.3162 657.758 51.3162 649.031 Q51.3162 640.282 54.3717 635.698 Q57.4504 631.092 63.2606 631.092 Z\" fill=\"#000000\" fill-rule=\"nonzero\" fill-opacity=\"1\" /><path clip-path=\"url(#clip510)\" d=\"M83.4225 660.397 L88.3067 660.397 L88.3067 666.277 L83.4225 666.277 L83.4225 660.397 Z\" fill=\"#000000\" fill-rule=\"nonzero\" fill-opacity=\"1\" /><path clip-path=\"url(#clip510)\" d=\"M109.071 647.133 Q105.922 647.133 104.071 649.286 Q102.242 651.439 102.242 655.189 Q102.242 658.916 104.071 661.092 Q105.922 663.244 109.071 663.244 Q112.219 663.244 114.047 661.092 Q115.899 658.916 115.899 655.189 Q115.899 651.439 114.047 649.286 Q112.219 647.133 109.071 647.133 M118.353 632.481 L118.353 636.74 Q116.594 635.907 114.788 635.467 Q113.006 635.027 111.246 635.027 Q106.617 635.027 104.163 638.152 Q101.733 641.277 101.385 647.596 Q102.751 645.582 104.811 644.518 Q106.871 643.43 109.348 643.43 Q114.557 643.43 117.566 646.601 Q120.598 649.749 120.598 655.189 Q120.598 660.513 117.45 663.73 Q114.302 666.948 109.071 666.948 Q103.075 666.948 99.9039 662.365 Q96.7326 657.758 96.7326 649.031 Q96.7326 640.837 100.621 635.976 Q104.51 631.092 111.061 631.092 Q112.82 631.092 114.603 631.439 Q116.408 631.786 118.353 632.481 Z\" fill=\"#000000\" fill-rule=\"nonzero\" fill-opacity=\"1\" /><path clip-path=\"url(#clip510)\" d=\"M63.5152 344.795 Q59.9041 344.795 58.0754 348.359 Q56.2699 351.901 56.2699 359.031 Q56.2699 366.137 58.0754 369.702 Q59.9041 373.244 63.5152 373.244 Q67.1494 373.244 68.955 369.702 Q70.7837 366.137 70.7837 359.031 Q70.7837 351.901 68.955 348.359 Q67.1494 344.795 63.5152 344.795 M63.5152 341.091 Q69.3254 341.091 72.3809 345.697 Q75.4596 350.281 75.4596 359.031 Q75.4596 367.757 72.3809 372.364 Q69.3254 376.947 63.5152 376.947 Q57.7051 376.947 54.6264 372.364 Q51.5708 367.757 51.5708 359.031 Q51.5708 350.281 54.6264 345.697 Q57.7051 341.091 63.5152 341.091 Z\" fill=\"#000000\" fill-rule=\"nonzero\" fill-opacity=\"1\" /><path clip-path=\"url(#clip510)\" d=\"M83.6771 370.396 L88.5614 370.396 L88.5614 376.276 L83.6771 376.276 L83.6771 370.396 Z\" fill=\"#000000\" fill-rule=\"nonzero\" fill-opacity=\"1\" /><path clip-path=\"url(#clip510)\" d=\"M108.746 359.864 Q105.413 359.864 103.492 361.646 Q101.594 363.429 101.594 366.554 Q101.594 369.679 103.492 371.461 Q105.413 373.244 108.746 373.244 Q112.08 373.244 114.001 371.461 Q115.922 369.656 115.922 366.554 Q115.922 363.429 114.001 361.646 Q112.103 359.864 108.746 359.864 M104.071 357.873 Q101.061 357.133 99.3715 355.072 Q97.7048 353.012 97.7048 350.049 Q97.7048 345.906 100.645 343.498 Q103.608 341.091 108.746 341.091 Q113.908 341.091 116.848 343.498 Q119.788 345.906 119.788 350.049 Q119.788 353.012 118.098 355.072 Q116.432 357.133 113.445 357.873 Q116.825 358.66 118.7 360.952 Q120.598 363.244 120.598 366.554 Q120.598 371.577 117.52 374.262 Q114.464 376.947 108.746 376.947 Q103.029 376.947 99.9502 374.262 Q96.8947 371.577 96.8947 366.554 Q96.8947 363.244 98.7928 360.952 Q100.691 358.66 104.071 357.873 M102.358 350.489 Q102.358 353.174 104.024 354.679 Q105.714 356.183 108.746 356.183 Q111.756 356.183 113.445 354.679 Q115.158 353.174 115.158 350.489 Q115.158 347.804 113.445 346.299 Q111.756 344.795 108.746 344.795 Q105.714 344.795 104.024 346.299 Q102.358 347.804 102.358 350.489 Z\" fill=\"#000000\" fill-rule=\"nonzero\" fill-opacity=\"1\" /><path clip-path=\"url(#clip510)\" d=\"M54.2328 82.34 L61.8717 82.34 L61.8717 55.9744 L53.5616 57.6411 L53.5616 53.3819 L61.8254 51.7152 L66.5013 51.7152 L66.5013 82.34 L74.1402 82.34 L74.1402 86.2752 L54.2328 86.2752 L54.2328 82.34 Z\" fill=\"#000000\" fill-rule=\"nonzero\" fill-opacity=\"1\" /><path clip-path=\"url(#clip510)\" d=\"M83.5845 80.3956 L88.4688 80.3956 L88.4688 86.2752 L83.5845 86.2752 L83.5845 80.3956 Z\" fill=\"#000000\" fill-rule=\"nonzero\" fill-opacity=\"1\" /><path clip-path=\"url(#clip510)\" d=\"M108.654 54.7939 Q105.043 54.7939 103.214 58.3587 Q101.409 61.9003 101.409 69.0299 Q101.409 76.1364 103.214 79.7012 Q105.043 83.2428 108.654 83.2428 Q112.288 83.2428 114.094 79.7012 Q115.922 76.1364 115.922 69.0299 Q115.922 61.9003 114.094 58.3587 Q112.288 54.7939 108.654 54.7939 M108.654 51.0902 Q114.464 51.0902 117.52 55.6967 Q120.598 60.28 120.598 69.0299 Q120.598 77.7567 117.52 82.3632 Q114.464 86.9465 108.654 86.9465 Q102.844 86.9465 99.765 82.3632 Q96.7095 77.7567 96.7095 69.0299 Q96.7095 60.28 99.765 55.6967 Q102.844 51.0902 108.654 51.0902 Z\" fill=\"#000000\" fill-rule=\"nonzero\" fill-opacity=\"1\" /><circle clip-path=\"url(#clip512)\" cx=\"218.754\" cy=\"883.616\" r=\"14.4\" fill=\"#009af9\" fill-rule=\"evenodd\" fill-opacity=\"1\" stroke=\"#000000\" stroke-opacity=\"1\" stroke-width=\"3.2\"/>\n",
       "<circle clip-path=\"url(#clip512)\" cx=\"239.681\" cy=\"1254.22\" r=\"14.4\" fill=\"#009af9\" fill-rule=\"evenodd\" fill-opacity=\"1\" stroke=\"#000000\" stroke-opacity=\"1\" stroke-width=\"3.2\"/>\n",
       "<circle clip-path=\"url(#clip512)\" cx=\"260.609\" cy=\"1387.63\" r=\"14.4\" fill=\"#009af9\" fill-rule=\"evenodd\" fill-opacity=\"1\" stroke=\"#000000\" stroke-opacity=\"1\" stroke-width=\"3.2\"/>\n",
       "<circle clip-path=\"url(#clip512)\" cx=\"281.537\" cy=\"563.22\" r=\"14.4\" fill=\"#009af9\" fill-rule=\"evenodd\" fill-opacity=\"1\" stroke=\"#000000\" stroke-opacity=\"1\" stroke-width=\"3.2\"/>\n",
       "<circle clip-path=\"url(#clip512)\" cx=\"302.465\" cy=\"541.504\" r=\"14.4\" fill=\"#009af9\" fill-rule=\"evenodd\" fill-opacity=\"1\" stroke=\"#000000\" stroke-opacity=\"1\" stroke-width=\"3.2\"/>\n",
       "<circle clip-path=\"url(#clip512)\" cx=\"323.392\" cy=\"564.825\" r=\"14.4\" fill=\"#009af9\" fill-rule=\"evenodd\" fill-opacity=\"1\" stroke=\"#000000\" stroke-opacity=\"1\" stroke-width=\"3.2\"/>\n",
       "<circle clip-path=\"url(#clip512)\" cx=\"344.32\" cy=\"1356.88\" r=\"14.4\" fill=\"#009af9\" fill-rule=\"evenodd\" fill-opacity=\"1\" stroke=\"#000000\" stroke-opacity=\"1\" stroke-width=\"3.2\"/>\n",
       "<circle clip-path=\"url(#clip512)\" cx=\"365.248\" cy=\"271.828\" r=\"14.4\" fill=\"#009af9\" fill-rule=\"evenodd\" fill-opacity=\"1\" stroke=\"#000000\" stroke-opacity=\"1\" stroke-width=\"3.2\"/>\n",
       "<circle clip-path=\"url(#clip512)\" cx=\"386.176\" cy=\"374.433\" r=\"14.4\" fill=\"#009af9\" fill-rule=\"evenodd\" fill-opacity=\"1\" stroke=\"#000000\" stroke-opacity=\"1\" stroke-width=\"3.2\"/>\n",
       "<circle clip-path=\"url(#clip512)\" cx=\"407.103\" cy=\"1013.25\" r=\"14.4\" fill=\"#009af9\" fill-rule=\"evenodd\" fill-opacity=\"1\" stroke=\"#000000\" stroke-opacity=\"1\" stroke-width=\"3.2\"/>\n",
       "<circle clip-path=\"url(#clip512)\" cx=\"428.031\" cy=\"1356.98\" r=\"14.4\" fill=\"#009af9\" fill-rule=\"evenodd\" fill-opacity=\"1\" stroke=\"#000000\" stroke-opacity=\"1\" stroke-width=\"3.2\"/>\n",
       "<circle clip-path=\"url(#clip512)\" cx=\"448.959\" cy=\"1242.81\" r=\"14.4\" fill=\"#009af9\" fill-rule=\"evenodd\" fill-opacity=\"1\" stroke=\"#000000\" stroke-opacity=\"1\" stroke-width=\"3.2\"/>\n",
       "<circle clip-path=\"url(#clip512)\" cx=\"469.887\" cy=\"745.514\" r=\"14.4\" fill=\"#009af9\" fill-rule=\"evenodd\" fill-opacity=\"1\" stroke=\"#000000\" stroke-opacity=\"1\" stroke-width=\"3.2\"/>\n",
       "<circle clip-path=\"url(#clip512)\" cx=\"490.814\" cy=\"832.579\" r=\"14.4\" fill=\"#009af9\" fill-rule=\"evenodd\" fill-opacity=\"1\" stroke=\"#000000\" stroke-opacity=\"1\" stroke-width=\"3.2\"/>\n",
       "<circle clip-path=\"url(#clip512)\" cx=\"511.742\" cy=\"890.133\" r=\"14.4\" fill=\"#009af9\" fill-rule=\"evenodd\" fill-opacity=\"1\" stroke=\"#000000\" stroke-opacity=\"1\" stroke-width=\"3.2\"/>\n",
       "<circle clip-path=\"url(#clip512)\" cx=\"532.67\" cy=\"745.278\" r=\"14.4\" fill=\"#009af9\" fill-rule=\"evenodd\" fill-opacity=\"1\" stroke=\"#000000\" stroke-opacity=\"1\" stroke-width=\"3.2\"/>\n",
       "<circle clip-path=\"url(#clip512)\" cx=\"553.598\" cy=\"561.822\" r=\"14.4\" fill=\"#009af9\" fill-rule=\"evenodd\" fill-opacity=\"1\" stroke=\"#000000\" stroke-opacity=\"1\" stroke-width=\"3.2\"/>\n",
       "<circle clip-path=\"url(#clip512)\" cx=\"574.525\" cy=\"918.836\" r=\"14.4\" fill=\"#009af9\" fill-rule=\"evenodd\" fill-opacity=\"1\" stroke=\"#000000\" stroke-opacity=\"1\" stroke-width=\"3.2\"/>\n",
       "<circle clip-path=\"url(#clip512)\" cx=\"595.453\" cy=\"653.908\" r=\"14.4\" fill=\"#009af9\" fill-rule=\"evenodd\" fill-opacity=\"1\" stroke=\"#000000\" stroke-opacity=\"1\" stroke-width=\"3.2\"/>\n",
       "<circle clip-path=\"url(#clip512)\" cx=\"616.381\" cy=\"695.111\" r=\"14.4\" fill=\"#009af9\" fill-rule=\"evenodd\" fill-opacity=\"1\" stroke=\"#000000\" stroke-opacity=\"1\" stroke-width=\"3.2\"/>\n",
       "<circle clip-path=\"url(#clip512)\" cx=\"637.309\" cy=\"279.752\" r=\"14.4\" fill=\"#009af9\" fill-rule=\"evenodd\" fill-opacity=\"1\" stroke=\"#000000\" stroke-opacity=\"1\" stroke-width=\"3.2\"/>\n",
       "<circle clip-path=\"url(#clip512)\" cx=\"658.236\" cy=\"111.765\" r=\"14.4\" fill=\"#009af9\" fill-rule=\"evenodd\" fill-opacity=\"1\" stroke=\"#000000\" stroke-opacity=\"1\" stroke-width=\"3.2\"/>\n",
       "<circle clip-path=\"url(#clip512)\" cx=\"679.164\" cy=\"1044.85\" r=\"14.4\" fill=\"#009af9\" fill-rule=\"evenodd\" fill-opacity=\"1\" stroke=\"#000000\" stroke-opacity=\"1\" stroke-width=\"3.2\"/>\n",
       "<circle clip-path=\"url(#clip512)\" cx=\"700.092\" cy=\"1202.63\" r=\"14.4\" fill=\"#009af9\" fill-rule=\"evenodd\" fill-opacity=\"1\" stroke=\"#000000\" stroke-opacity=\"1\" stroke-width=\"3.2\"/>\n",
       "<circle clip-path=\"url(#clip512)\" cx=\"721.02\" cy=\"1351.32\" r=\"14.4\" fill=\"#009af9\" fill-rule=\"evenodd\" fill-opacity=\"1\" stroke=\"#000000\" stroke-opacity=\"1\" stroke-width=\"3.2\"/>\n",
       "<circle clip-path=\"url(#clip512)\" cx=\"741.947\" cy=\"553.83\" r=\"14.4\" fill=\"#009af9\" fill-rule=\"evenodd\" fill-opacity=\"1\" stroke=\"#000000\" stroke-opacity=\"1\" stroke-width=\"3.2\"/>\n",
       "<circle clip-path=\"url(#clip512)\" cx=\"762.875\" cy=\"223.954\" r=\"14.4\" fill=\"#009af9\" fill-rule=\"evenodd\" fill-opacity=\"1\" stroke=\"#000000\" stroke-opacity=\"1\" stroke-width=\"3.2\"/>\n",
       "<circle clip-path=\"url(#clip512)\" cx=\"783.803\" cy=\"1041.84\" r=\"14.4\" fill=\"#009af9\" fill-rule=\"evenodd\" fill-opacity=\"1\" stroke=\"#000000\" stroke-opacity=\"1\" stroke-width=\"3.2\"/>\n",
       "<circle clip-path=\"url(#clip512)\" cx=\"804.731\" cy=\"1383.63\" r=\"14.4\" fill=\"#009af9\" fill-rule=\"evenodd\" fill-opacity=\"1\" stroke=\"#000000\" stroke-opacity=\"1\" stroke-width=\"3.2\"/>\n",
       "<circle clip-path=\"url(#clip512)\" cx=\"825.658\" cy=\"653.987\" r=\"14.4\" fill=\"#009af9\" fill-rule=\"evenodd\" fill-opacity=\"1\" stroke=\"#000000\" stroke-opacity=\"1\" stroke-width=\"3.2\"/>\n",
       "<circle clip-path=\"url(#clip512)\" cx=\"846.586\" cy=\"603.707\" r=\"14.4\" fill=\"#009af9\" fill-rule=\"evenodd\" fill-opacity=\"1\" stroke=\"#000000\" stroke-opacity=\"1\" stroke-width=\"3.2\"/>\n",
       "<circle clip-path=\"url(#clip512)\" cx=\"867.514\" cy=\"754.723\" r=\"14.4\" fill=\"#009af9\" fill-rule=\"evenodd\" fill-opacity=\"1\" stroke=\"#000000\" stroke-opacity=\"1\" stroke-width=\"3.2\"/>\n",
       "<circle clip-path=\"url(#clip512)\" cx=\"888.442\" cy=\"797.198\" r=\"14.4\" fill=\"#009af9\" fill-rule=\"evenodd\" fill-opacity=\"1\" stroke=\"#000000\" stroke-opacity=\"1\" stroke-width=\"3.2\"/>\n",
       "<circle clip-path=\"url(#clip512)\" cx=\"909.369\" cy=\"1071.66\" r=\"14.4\" fill=\"#009af9\" fill-rule=\"evenodd\" fill-opacity=\"1\" stroke=\"#000000\" stroke-opacity=\"1\" stroke-width=\"3.2\"/>\n",
       "<circle clip-path=\"url(#clip512)\" cx=\"930.297\" cy=\"1209.22\" r=\"14.4\" fill=\"#009af9\" fill-rule=\"evenodd\" fill-opacity=\"1\" stroke=\"#000000\" stroke-opacity=\"1\" stroke-width=\"3.2\"/>\n",
       "<circle clip-path=\"url(#clip512)\" cx=\"951.225\" cy=\"1312.03\" r=\"14.4\" fill=\"#009af9\" fill-rule=\"evenodd\" fill-opacity=\"1\" stroke=\"#000000\" stroke-opacity=\"1\" stroke-width=\"3.2\"/>\n",
       "<circle clip-path=\"url(#clip512)\" cx=\"972.152\" cy=\"1403.77\" r=\"14.4\" fill=\"#009af9\" fill-rule=\"evenodd\" fill-opacity=\"1\" stroke=\"#000000\" stroke-opacity=\"1\" stroke-width=\"3.2\"/>\n",
       "<circle clip-path=\"url(#clip512)\" cx=\"993.08\" cy=\"1084.34\" r=\"14.4\" fill=\"#009af9\" fill-rule=\"evenodd\" fill-opacity=\"1\" stroke=\"#000000\" stroke-opacity=\"1\" stroke-width=\"3.2\"/>\n",
       "<circle clip-path=\"url(#clip512)\" cx=\"1014.01\" cy=\"542.01\" r=\"14.4\" fill=\"#009af9\" fill-rule=\"evenodd\" fill-opacity=\"1\" stroke=\"#000000\" stroke-opacity=\"1\" stroke-width=\"3.2\"/>\n",
       "<circle clip-path=\"url(#clip512)\" cx=\"1034.94\" cy=\"530.014\" r=\"14.4\" fill=\"#009af9\" fill-rule=\"evenodd\" fill-opacity=\"1\" stroke=\"#000000\" stroke-opacity=\"1\" stroke-width=\"3.2\"/>\n",
       "<circle clip-path=\"url(#clip512)\" cx=\"1055.86\" cy=\"404.464\" r=\"14.4\" fill=\"#009af9\" fill-rule=\"evenodd\" fill-opacity=\"1\" stroke=\"#000000\" stroke-opacity=\"1\" stroke-width=\"3.2\"/>\n",
       "<circle clip-path=\"url(#clip512)\" cx=\"1076.79\" cy=\"641.316\" r=\"14.4\" fill=\"#009af9\" fill-rule=\"evenodd\" fill-opacity=\"1\" stroke=\"#000000\" stroke-opacity=\"1\" stroke-width=\"3.2\"/>\n",
       "<circle clip-path=\"url(#clip512)\" cx=\"1097.72\" cy=\"497.875\" r=\"14.4\" fill=\"#009af9\" fill-rule=\"evenodd\" fill-opacity=\"1\" stroke=\"#000000\" stroke-opacity=\"1\" stroke-width=\"3.2\"/>\n",
       "<circle clip-path=\"url(#clip512)\" cx=\"1118.65\" cy=\"277.227\" r=\"14.4\" fill=\"#009af9\" fill-rule=\"evenodd\" fill-opacity=\"1\" stroke=\"#000000\" stroke-opacity=\"1\" stroke-width=\"3.2\"/>\n",
       "<circle clip-path=\"url(#clip512)\" cx=\"1139.57\" cy=\"1354.48\" r=\"14.4\" fill=\"#009af9\" fill-rule=\"evenodd\" fill-opacity=\"1\" stroke=\"#000000\" stroke-opacity=\"1\" stroke-width=\"3.2\"/>\n",
       "<circle clip-path=\"url(#clip512)\" cx=\"1160.5\" cy=\"472.999\" r=\"14.4\" fill=\"#009af9\" fill-rule=\"evenodd\" fill-opacity=\"1\" stroke=\"#000000\" stroke-opacity=\"1\" stroke-width=\"3.2\"/>\n",
       "<circle clip-path=\"url(#clip512)\" cx=\"1181.43\" cy=\"1128.92\" r=\"14.4\" fill=\"#009af9\" fill-rule=\"evenodd\" fill-opacity=\"1\" stroke=\"#000000\" stroke-opacity=\"1\" stroke-width=\"3.2\"/>\n",
       "<circle clip-path=\"url(#clip512)\" cx=\"1202.36\" cy=\"150.835\" r=\"14.4\" fill=\"#009af9\" fill-rule=\"evenodd\" fill-opacity=\"1\" stroke=\"#000000\" stroke-opacity=\"1\" stroke-width=\"3.2\"/>\n",
       "<circle clip-path=\"url(#clip512)\" cx=\"1223.29\" cy=\"872.643\" r=\"14.4\" fill=\"#009af9\" fill-rule=\"evenodd\" fill-opacity=\"1\" stroke=\"#000000\" stroke-opacity=\"1\" stroke-width=\"3.2\"/>\n",
       "<circle clip-path=\"url(#clip512)\" cx=\"1244.21\" cy=\"1150.44\" r=\"14.4\" fill=\"#009af9\" fill-rule=\"evenodd\" fill-opacity=\"1\" stroke=\"#000000\" stroke-opacity=\"1\" stroke-width=\"3.2\"/>\n",
       "<circle clip-path=\"url(#clip512)\" cx=\"1265.14\" cy=\"435.204\" r=\"14.4\" fill=\"#009af9\" fill-rule=\"evenodd\" fill-opacity=\"1\" stroke=\"#000000\" stroke-opacity=\"1\" stroke-width=\"3.2\"/>\n",
       "<circle clip-path=\"url(#clip512)\" cx=\"1286.07\" cy=\"465.255\" r=\"14.4\" fill=\"#009af9\" fill-rule=\"evenodd\" fill-opacity=\"1\" stroke=\"#000000\" stroke-opacity=\"1\" stroke-width=\"3.2\"/>\n",
       "<circle clip-path=\"url(#clip512)\" cx=\"1307\" cy=\"549.299\" r=\"14.4\" fill=\"#009af9\" fill-rule=\"evenodd\" fill-opacity=\"1\" stroke=\"#000000\" stroke-opacity=\"1\" stroke-width=\"3.2\"/>\n",
       "<circle clip-path=\"url(#clip512)\" cx=\"1327.92\" cy=\"289.108\" r=\"14.4\" fill=\"#009af9\" fill-rule=\"evenodd\" fill-opacity=\"1\" stroke=\"#000000\" stroke-opacity=\"1\" stroke-width=\"3.2\"/>\n",
       "<circle clip-path=\"url(#clip512)\" cx=\"1348.85\" cy=\"518.506\" r=\"14.4\" fill=\"#009af9\" fill-rule=\"evenodd\" fill-opacity=\"1\" stroke=\"#000000\" stroke-opacity=\"1\" stroke-width=\"3.2\"/>\n",
       "<circle clip-path=\"url(#clip512)\" cx=\"1369.78\" cy=\"130.243\" r=\"14.4\" fill=\"#009af9\" fill-rule=\"evenodd\" fill-opacity=\"1\" stroke=\"#000000\" stroke-opacity=\"1\" stroke-width=\"3.2\"/>\n",
       "<circle clip-path=\"url(#clip512)\" cx=\"1390.71\" cy=\"87.9763\" r=\"14.4\" fill=\"#009af9\" fill-rule=\"evenodd\" fill-opacity=\"1\" stroke=\"#000000\" stroke-opacity=\"1\" stroke-width=\"3.2\"/>\n",
       "<circle clip-path=\"url(#clip512)\" cx=\"1411.64\" cy=\"689.363\" r=\"14.4\" fill=\"#009af9\" fill-rule=\"evenodd\" fill-opacity=\"1\" stroke=\"#000000\" stroke-opacity=\"1\" stroke-width=\"3.2\"/>\n",
       "<circle clip-path=\"url(#clip512)\" cx=\"1432.56\" cy=\"1379.17\" r=\"14.4\" fill=\"#009af9\" fill-rule=\"evenodd\" fill-opacity=\"1\" stroke=\"#000000\" stroke-opacity=\"1\" stroke-width=\"3.2\"/>\n",
       "<circle clip-path=\"url(#clip512)\" cx=\"1453.49\" cy=\"335.545\" r=\"14.4\" fill=\"#009af9\" fill-rule=\"evenodd\" fill-opacity=\"1\" stroke=\"#000000\" stroke-opacity=\"1\" stroke-width=\"3.2\"/>\n",
       "<circle clip-path=\"url(#clip512)\" cx=\"1474.42\" cy=\"1445.72\" r=\"14.4\" fill=\"#009af9\" fill-rule=\"evenodd\" fill-opacity=\"1\" stroke=\"#000000\" stroke-opacity=\"1\" stroke-width=\"3.2\"/>\n",
       "<circle clip-path=\"url(#clip512)\" cx=\"1495.35\" cy=\"553.616\" r=\"14.4\" fill=\"#009af9\" fill-rule=\"evenodd\" fill-opacity=\"1\" stroke=\"#000000\" stroke-opacity=\"1\" stroke-width=\"3.2\"/>\n",
       "<circle clip-path=\"url(#clip512)\" cx=\"1516.27\" cy=\"921.346\" r=\"14.4\" fill=\"#009af9\" fill-rule=\"evenodd\" fill-opacity=\"1\" stroke=\"#000000\" stroke-opacity=\"1\" stroke-width=\"3.2\"/>\n",
       "<circle clip-path=\"url(#clip512)\" cx=\"1537.2\" cy=\"909.792\" r=\"14.4\" fill=\"#009af9\" fill-rule=\"evenodd\" fill-opacity=\"1\" stroke=\"#000000\" stroke-opacity=\"1\" stroke-width=\"3.2\"/>\n",
       "<circle clip-path=\"url(#clip512)\" cx=\"1558.13\" cy=\"1416.09\" r=\"14.4\" fill=\"#009af9\" fill-rule=\"evenodd\" fill-opacity=\"1\" stroke=\"#000000\" stroke-opacity=\"1\" stroke-width=\"3.2\"/>\n",
       "<circle clip-path=\"url(#clip512)\" cx=\"1579.06\" cy=\"1357.95\" r=\"14.4\" fill=\"#009af9\" fill-rule=\"evenodd\" fill-opacity=\"1\" stroke=\"#000000\" stroke-opacity=\"1\" stroke-width=\"3.2\"/>\n",
       "<circle clip-path=\"url(#clip512)\" cx=\"1599.98\" cy=\"185.091\" r=\"14.4\" fill=\"#009af9\" fill-rule=\"evenodd\" fill-opacity=\"1\" stroke=\"#000000\" stroke-opacity=\"1\" stroke-width=\"3.2\"/>\n",
       "<circle clip-path=\"url(#clip512)\" cx=\"1620.91\" cy=\"920.108\" r=\"14.4\" fill=\"#009af9\" fill-rule=\"evenodd\" fill-opacity=\"1\" stroke=\"#000000\" stroke-opacity=\"1\" stroke-width=\"3.2\"/>\n",
       "<circle clip-path=\"url(#clip512)\" cx=\"1641.84\" cy=\"816.757\" r=\"14.4\" fill=\"#009af9\" fill-rule=\"evenodd\" fill-opacity=\"1\" stroke=\"#000000\" stroke-opacity=\"1\" stroke-width=\"3.2\"/>\n",
       "<circle clip-path=\"url(#clip512)\" cx=\"1662.77\" cy=\"605.7\" r=\"14.4\" fill=\"#009af9\" fill-rule=\"evenodd\" fill-opacity=\"1\" stroke=\"#000000\" stroke-opacity=\"1\" stroke-width=\"3.2\"/>\n",
       "<circle clip-path=\"url(#clip512)\" cx=\"1683.7\" cy=\"1404.14\" r=\"14.4\" fill=\"#009af9\" fill-rule=\"evenodd\" fill-opacity=\"1\" stroke=\"#000000\" stroke-opacity=\"1\" stroke-width=\"3.2\"/>\n",
       "<circle clip-path=\"url(#clip512)\" cx=\"1704.62\" cy=\"1056.36\" r=\"14.4\" fill=\"#009af9\" fill-rule=\"evenodd\" fill-opacity=\"1\" stroke=\"#000000\" stroke-opacity=\"1\" stroke-width=\"3.2\"/>\n",
       "<circle clip-path=\"url(#clip512)\" cx=\"1725.55\" cy=\"1101.47\" r=\"14.4\" fill=\"#009af9\" fill-rule=\"evenodd\" fill-opacity=\"1\" stroke=\"#000000\" stroke-opacity=\"1\" stroke-width=\"3.2\"/>\n",
       "<circle clip-path=\"url(#clip512)\" cx=\"1746.48\" cy=\"110.475\" r=\"14.4\" fill=\"#009af9\" fill-rule=\"evenodd\" fill-opacity=\"1\" stroke=\"#000000\" stroke-opacity=\"1\" stroke-width=\"3.2\"/>\n",
       "<circle clip-path=\"url(#clip512)\" cx=\"1767.41\" cy=\"1080.73\" r=\"14.4\" fill=\"#009af9\" fill-rule=\"evenodd\" fill-opacity=\"1\" stroke=\"#000000\" stroke-opacity=\"1\" stroke-width=\"3.2\"/>\n",
       "<circle clip-path=\"url(#clip512)\" cx=\"1788.33\" cy=\"351.999\" r=\"14.4\" fill=\"#009af9\" fill-rule=\"evenodd\" fill-opacity=\"1\" stroke=\"#000000\" stroke-opacity=\"1\" stroke-width=\"3.2\"/>\n",
       "<circle clip-path=\"url(#clip512)\" cx=\"1809.26\" cy=\"143.849\" r=\"14.4\" fill=\"#009af9\" fill-rule=\"evenodd\" fill-opacity=\"1\" stroke=\"#000000\" stroke-opacity=\"1\" stroke-width=\"3.2\"/>\n",
       "<circle clip-path=\"url(#clip512)\" cx=\"1830.19\" cy=\"1280.82\" r=\"14.4\" fill=\"#009af9\" fill-rule=\"evenodd\" fill-opacity=\"1\" stroke=\"#000000\" stroke-opacity=\"1\" stroke-width=\"3.2\"/>\n",
       "<circle clip-path=\"url(#clip512)\" cx=\"1851.12\" cy=\"1165.49\" r=\"14.4\" fill=\"#009af9\" fill-rule=\"evenodd\" fill-opacity=\"1\" stroke=\"#000000\" stroke-opacity=\"1\" stroke-width=\"3.2\"/>\n",
       "<circle clip-path=\"url(#clip512)\" cx=\"1872.05\" cy=\"1238.26\" r=\"14.4\" fill=\"#009af9\" fill-rule=\"evenodd\" fill-opacity=\"1\" stroke=\"#000000\" stroke-opacity=\"1\" stroke-width=\"3.2\"/>\n",
       "<circle clip-path=\"url(#clip512)\" cx=\"1892.97\" cy=\"653.55\" r=\"14.4\" fill=\"#009af9\" fill-rule=\"evenodd\" fill-opacity=\"1\" stroke=\"#000000\" stroke-opacity=\"1\" stroke-width=\"3.2\"/>\n",
       "<circle clip-path=\"url(#clip512)\" cx=\"1913.9\" cy=\"1402.62\" r=\"14.4\" fill=\"#009af9\" fill-rule=\"evenodd\" fill-opacity=\"1\" stroke=\"#000000\" stroke-opacity=\"1\" stroke-width=\"3.2\"/>\n",
       "<circle clip-path=\"url(#clip512)\" cx=\"1934.83\" cy=\"737.594\" r=\"14.4\" fill=\"#009af9\" fill-rule=\"evenodd\" fill-opacity=\"1\" stroke=\"#000000\" stroke-opacity=\"1\" stroke-width=\"3.2\"/>\n",
       "<circle clip-path=\"url(#clip512)\" cx=\"1955.76\" cy=\"299.817\" r=\"14.4\" fill=\"#009af9\" fill-rule=\"evenodd\" fill-opacity=\"1\" stroke=\"#000000\" stroke-opacity=\"1\" stroke-width=\"3.2\"/>\n",
       "<circle clip-path=\"url(#clip512)\" cx=\"1976.68\" cy=\"358.533\" r=\"14.4\" fill=\"#009af9\" fill-rule=\"evenodd\" fill-opacity=\"1\" stroke=\"#000000\" stroke-opacity=\"1\" stroke-width=\"3.2\"/>\n",
       "<circle clip-path=\"url(#clip512)\" cx=\"1997.61\" cy=\"553.472\" r=\"14.4\" fill=\"#009af9\" fill-rule=\"evenodd\" fill-opacity=\"1\" stroke=\"#000000\" stroke-opacity=\"1\" stroke-width=\"3.2\"/>\n",
       "<circle clip-path=\"url(#clip512)\" cx=\"2018.54\" cy=\"722.693\" r=\"14.4\" fill=\"#009af9\" fill-rule=\"evenodd\" fill-opacity=\"1\" stroke=\"#000000\" stroke-opacity=\"1\" stroke-width=\"3.2\"/>\n",
       "<circle clip-path=\"url(#clip512)\" cx=\"2039.47\" cy=\"1281.63\" r=\"14.4\" fill=\"#009af9\" fill-rule=\"evenodd\" fill-opacity=\"1\" stroke=\"#000000\" stroke-opacity=\"1\" stroke-width=\"3.2\"/>\n",
       "<circle clip-path=\"url(#clip512)\" cx=\"2060.4\" cy=\"455.856\" r=\"14.4\" fill=\"#009af9\" fill-rule=\"evenodd\" fill-opacity=\"1\" stroke=\"#000000\" stroke-opacity=\"1\" stroke-width=\"3.2\"/>\n",
       "<circle clip-path=\"url(#clip512)\" cx=\"2081.32\" cy=\"755.802\" r=\"14.4\" fill=\"#009af9\" fill-rule=\"evenodd\" fill-opacity=\"1\" stroke=\"#000000\" stroke-opacity=\"1\" stroke-width=\"3.2\"/>\n",
       "<circle clip-path=\"url(#clip512)\" cx=\"2102.25\" cy=\"1144.3\" r=\"14.4\" fill=\"#009af9\" fill-rule=\"evenodd\" fill-opacity=\"1\" stroke=\"#000000\" stroke-opacity=\"1\" stroke-width=\"3.2\"/>\n",
       "<circle clip-path=\"url(#clip512)\" cx=\"2123.18\" cy=\"843.06\" r=\"14.4\" fill=\"#009af9\" fill-rule=\"evenodd\" fill-opacity=\"1\" stroke=\"#000000\" stroke-opacity=\"1\" stroke-width=\"3.2\"/>\n",
       "<circle clip-path=\"url(#clip512)\" cx=\"2144.11\" cy=\"586.945\" r=\"14.4\" fill=\"#009af9\" fill-rule=\"evenodd\" fill-opacity=\"1\" stroke=\"#000000\" stroke-opacity=\"1\" stroke-width=\"3.2\"/>\n",
       "<circle clip-path=\"url(#clip512)\" cx=\"2165.03\" cy=\"417.441\" r=\"14.4\" fill=\"#009af9\" fill-rule=\"evenodd\" fill-opacity=\"1\" stroke=\"#000000\" stroke-opacity=\"1\" stroke-width=\"3.2\"/>\n",
       "<circle clip-path=\"url(#clip512)\" cx=\"2185.96\" cy=\"334.698\" r=\"14.4\" fill=\"#009af9\" fill-rule=\"evenodd\" fill-opacity=\"1\" stroke=\"#000000\" stroke-opacity=\"1\" stroke-width=\"3.2\"/>\n",
       "<circle clip-path=\"url(#clip512)\" cx=\"2206.89\" cy=\"711.848\" r=\"14.4\" fill=\"#009af9\" fill-rule=\"evenodd\" fill-opacity=\"1\" stroke=\"#000000\" stroke-opacity=\"1\" stroke-width=\"3.2\"/>\n",
       "<circle clip-path=\"url(#clip512)\" cx=\"2227.82\" cy=\"959.62\" r=\"14.4\" fill=\"#009af9\" fill-rule=\"evenodd\" fill-opacity=\"1\" stroke=\"#000000\" stroke-opacity=\"1\" stroke-width=\"3.2\"/>\n",
       "<circle clip-path=\"url(#clip512)\" cx=\"2248.75\" cy=\"1121.79\" r=\"14.4\" fill=\"#009af9\" fill-rule=\"evenodd\" fill-opacity=\"1\" stroke=\"#000000\" stroke-opacity=\"1\" stroke-width=\"3.2\"/>\n",
       "<circle clip-path=\"url(#clip512)\" cx=\"2269.67\" cy=\"987.327\" r=\"14.4\" fill=\"#009af9\" fill-rule=\"evenodd\" fill-opacity=\"1\" stroke=\"#000000\" stroke-opacity=\"1\" stroke-width=\"3.2\"/>\n",
       "<circle clip-path=\"url(#clip512)\" cx=\"2290.6\" cy=\"1039.62\" r=\"14.4\" fill=\"#009af9\" fill-rule=\"evenodd\" fill-opacity=\"1\" stroke=\"#000000\" stroke-opacity=\"1\" stroke-width=\"3.2\"/>\n",
       "</svg>\n"
      ],
      "text/html": [
       "<?xml version=\"1.0\" encoding=\"utf-8\"?>\n",
       "<svg xmlns=\"http://www.w3.org/2000/svg\" xmlns:xlink=\"http://www.w3.org/1999/xlink\" width=\"600\" height=\"400\" viewBox=\"0 0 2400 1600\">\n",
       "<defs>\n",
       "  <clipPath id=\"clip560\">\n",
       "    <rect x=\"0\" y=\"0\" width=\"2400\" height=\"1600\"/>\n",
       "  </clipPath>\n",
       "</defs>\n",
       "<path clip-path=\"url(#clip560)\" d=\"M0 1600 L2400 1600 L2400 8.88178e-14 L0 8.88178e-14  Z\" fill=\"#ffffff\" fill-rule=\"evenodd\" fill-opacity=\"1\"/>\n",
       "<defs>\n",
       "  <clipPath id=\"clip561\">\n",
       "    <rect x=\"480\" y=\"0\" width=\"1681\" height=\"1600\"/>\n",
       "  </clipPath>\n",
       "</defs>\n",
       "<path clip-path=\"url(#clip560)\" d=\"M156.598 1486.45 L2352.76 1486.45 L2352.76 47.2441 L156.598 47.2441  Z\" fill=\"#ffffff\" fill-rule=\"evenodd\" fill-opacity=\"1\"/>\n",
       "<defs>\n",
       "  <clipPath id=\"clip562\">\n",
       "    <rect x=\"156\" y=\"47\" width=\"2197\" height=\"1440\"/>\n",
       "  </clipPath>\n",
       "</defs>\n",
       "<polyline clip-path=\"url(#clip562)\" style=\"stroke:#000000; stroke-linecap:round; stroke-linejoin:round; stroke-width:2; stroke-opacity:0.1; fill:none\" points=\"197.826,1486.45 197.826,47.2441 \"/>\n",
       "<polyline clip-path=\"url(#clip562)\" style=\"stroke:#000000; stroke-linecap:round; stroke-linejoin:round; stroke-width:2; stroke-opacity:0.1; fill:none\" points=\"721.02,1486.45 721.02,47.2441 \"/>\n",
       "<polyline clip-path=\"url(#clip562)\" style=\"stroke:#000000; stroke-linecap:round; stroke-linejoin:round; stroke-width:2; stroke-opacity:0.1; fill:none\" points=\"1244.21,1486.45 1244.21,47.2441 \"/>\n",
       "<polyline clip-path=\"url(#clip562)\" style=\"stroke:#000000; stroke-linecap:round; stroke-linejoin:round; stroke-width:2; stroke-opacity:0.1; fill:none\" points=\"1767.41,1486.45 1767.41,47.2441 \"/>\n",
       "<polyline clip-path=\"url(#clip562)\" style=\"stroke:#000000; stroke-linecap:round; stroke-linejoin:round; stroke-width:2; stroke-opacity:0.1; fill:none\" points=\"2290.6,1486.45 2290.6,47.2441 \"/>\n",
       "<polyline clip-path=\"url(#clip562)\" style=\"stroke:#000000; stroke-linecap:round; stroke-linejoin:round; stroke-width:2; stroke-opacity:0.1; fill:none\" points=\"156.598,1229 2352.76,1229 \"/>\n",
       "<polyline clip-path=\"url(#clip562)\" style=\"stroke:#000000; stroke-linecap:round; stroke-linejoin:round; stroke-width:2; stroke-opacity:0.1; fill:none\" points=\"156.598,938.998 2352.76,938.998 \"/>\n",
       "<polyline clip-path=\"url(#clip562)\" style=\"stroke:#000000; stroke-linecap:round; stroke-linejoin:round; stroke-width:2; stroke-opacity:0.1; fill:none\" points=\"156.598,648.997 2352.76,648.997 \"/>\n",
       "<polyline clip-path=\"url(#clip562)\" style=\"stroke:#000000; stroke-linecap:round; stroke-linejoin:round; stroke-width:2; stroke-opacity:0.1; fill:none\" points=\"156.598,358.996 2352.76,358.996 \"/>\n",
       "<polyline clip-path=\"url(#clip562)\" style=\"stroke:#000000; stroke-linecap:round; stroke-linejoin:round; stroke-width:2; stroke-opacity:0.1; fill:none\" points=\"156.598,68.9952 2352.76,68.9952 \"/>\n",
       "<polyline clip-path=\"url(#clip560)\" style=\"stroke:#000000; stroke-linecap:round; stroke-linejoin:round; stroke-width:4; stroke-opacity:1; fill:none\" points=\"156.598,1486.45 2352.76,1486.45 \"/>\n",
       "<polyline clip-path=\"url(#clip560)\" style=\"stroke:#000000; stroke-linecap:round; stroke-linejoin:round; stroke-width:4; stroke-opacity:1; fill:none\" points=\"197.826,1486.45 197.826,1467.55 \"/>\n",
       "<polyline clip-path=\"url(#clip560)\" style=\"stroke:#000000; stroke-linecap:round; stroke-linejoin:round; stroke-width:4; stroke-opacity:1; fill:none\" points=\"721.02,1486.45 721.02,1467.55 \"/>\n",
       "<polyline clip-path=\"url(#clip560)\" style=\"stroke:#000000; stroke-linecap:round; stroke-linejoin:round; stroke-width:4; stroke-opacity:1; fill:none\" points=\"1244.21,1486.45 1244.21,1467.55 \"/>\n",
       "<polyline clip-path=\"url(#clip560)\" style=\"stroke:#000000; stroke-linecap:round; stroke-linejoin:round; stroke-width:4; stroke-opacity:1; fill:none\" points=\"1767.41,1486.45 1767.41,1467.55 \"/>\n",
       "<polyline clip-path=\"url(#clip560)\" style=\"stroke:#000000; stroke-linecap:round; stroke-linejoin:round; stroke-width:4; stroke-opacity:1; fill:none\" points=\"2290.6,1486.45 2290.6,1467.55 \"/>\n",
       "<path clip-path=\"url(#clip560)\" d=\"M197.826 1517.37 Q194.215 1517.37 192.386 1520.93 Q190.581 1524.47 190.581 1531.6 Q190.581 1538.71 192.386 1542.27 Q194.215 1545.82 197.826 1545.82 Q201.46 1545.82 203.266 1542.27 Q205.094 1538.71 205.094 1531.6 Q205.094 1524.47 203.266 1520.93 Q201.46 1517.37 197.826 1517.37 M197.826 1513.66 Q203.636 1513.66 206.692 1518.27 Q209.77 1522.85 209.77 1531.6 Q209.77 1540.33 206.692 1544.94 Q203.636 1549.52 197.826 1549.52 Q192.016 1549.52 188.937 1544.94 Q185.882 1540.33 185.882 1531.6 Q185.882 1522.85 188.937 1518.27 Q192.016 1513.66 197.826 1513.66 Z\" fill=\"#000000\" fill-rule=\"nonzero\" fill-opacity=\"1\" /><path clip-path=\"url(#clip560)\" d=\"M700.29 1544.91 L716.61 1544.91 L716.61 1548.85 L694.666 1548.85 L694.666 1544.91 Q697.328 1542.16 701.911 1537.53 Q706.517 1532.88 707.698 1531.53 Q709.943 1529.01 710.823 1527.27 Q711.726 1525.51 711.726 1523.82 Q711.726 1521.07 709.781 1519.33 Q707.86 1517.6 704.758 1517.6 Q702.559 1517.6 700.105 1518.36 Q697.675 1519.13 694.897 1520.68 L694.897 1515.95 Q697.721 1514.82 700.175 1514.24 Q702.628 1513.66 704.665 1513.66 Q710.036 1513.66 713.23 1516.35 Q716.425 1519.03 716.425 1523.52 Q716.425 1525.65 715.614 1527.57 Q714.827 1529.47 712.721 1532.07 Q712.142 1532.74 709.04 1535.95 Q705.939 1539.15 700.29 1544.91 Z\" fill=\"#000000\" fill-rule=\"nonzero\" fill-opacity=\"1\" /><path clip-path=\"url(#clip560)\" d=\"M726.471 1514.29 L744.827 1514.29 L744.827 1518.22 L730.753 1518.22 L730.753 1526.7 Q731.772 1526.35 732.79 1526.19 Q733.809 1526 734.827 1526 Q740.614 1526 743.994 1529.17 Q747.374 1532.34 747.374 1537.76 Q747.374 1543.34 743.901 1546.44 Q740.429 1549.52 734.11 1549.52 Q731.934 1549.52 729.665 1549.15 Q727.42 1548.78 725.013 1548.04 L725.013 1543.34 Q727.096 1544.47 729.318 1545.03 Q731.54 1545.58 734.017 1545.58 Q738.022 1545.58 740.36 1543.48 Q742.698 1541.37 742.698 1537.76 Q742.698 1534.15 740.36 1532.04 Q738.022 1529.94 734.017 1529.94 Q732.142 1529.94 730.267 1530.35 Q728.415 1530.77 726.471 1531.65 L726.471 1514.29 Z\" fill=\"#000000\" fill-rule=\"nonzero\" fill-opacity=\"1\" /><path clip-path=\"url(#clip560)\" d=\"M1218.91 1514.29 L1237.27 1514.29 L1237.27 1518.22 L1223.19 1518.22 L1223.19 1526.7 Q1224.21 1526.35 1225.23 1526.19 Q1226.25 1526 1227.27 1526 Q1233.06 1526 1236.44 1529.17 Q1239.82 1532.34 1239.82 1537.76 Q1239.82 1543.34 1236.34 1546.44 Q1232.87 1549.52 1226.55 1549.52 Q1224.38 1549.52 1222.11 1549.15 Q1219.86 1548.78 1217.45 1548.04 L1217.45 1543.34 Q1219.54 1544.47 1221.76 1545.03 Q1223.98 1545.58 1226.46 1545.58 Q1230.46 1545.58 1232.8 1543.48 Q1235.14 1541.37 1235.14 1537.76 Q1235.14 1534.15 1232.8 1532.04 Q1230.46 1529.94 1226.46 1529.94 Q1224.58 1529.94 1222.71 1530.35 Q1220.86 1530.77 1218.91 1531.65 L1218.91 1514.29 Z\" fill=\"#000000\" fill-rule=\"nonzero\" fill-opacity=\"1\" /><path clip-path=\"url(#clip560)\" d=\"M1259.03 1517.37 Q1255.42 1517.37 1253.59 1520.93 Q1251.78 1524.47 1251.78 1531.6 Q1251.78 1538.71 1253.59 1542.27 Q1255.42 1545.82 1259.03 1545.82 Q1262.66 1545.82 1264.47 1542.27 Q1266.3 1538.71 1266.3 1531.6 Q1266.3 1524.47 1264.47 1520.93 Q1262.66 1517.37 1259.03 1517.37 M1259.03 1513.66 Q1264.84 1513.66 1267.89 1518.27 Q1270.97 1522.85 1270.97 1531.6 Q1270.97 1540.33 1267.89 1544.94 Q1264.84 1549.52 1259.03 1549.52 Q1253.22 1549.52 1250.14 1544.94 Q1247.08 1540.33 1247.08 1531.6 Q1247.08 1522.85 1250.14 1518.27 Q1253.22 1513.66 1259.03 1513.66 Z\" fill=\"#000000\" fill-rule=\"nonzero\" fill-opacity=\"1\" /><path clip-path=\"url(#clip560)\" d=\"M1741.26 1514.29 L1763.48 1514.29 L1763.48 1516.28 L1750.94 1548.85 L1746.05 1548.85 L1757.86 1518.22 L1741.26 1518.22 L1741.26 1514.29 Z\" fill=\"#000000\" fill-rule=\"nonzero\" fill-opacity=\"1\" /><path clip-path=\"url(#clip560)\" d=\"M1772.65 1514.29 L1791.01 1514.29 L1791.01 1518.22 L1776.93 1518.22 L1776.93 1526.7 Q1777.95 1526.35 1778.97 1526.19 Q1779.99 1526 1781.01 1526 Q1786.79 1526 1790.17 1529.17 Q1793.55 1532.34 1793.55 1537.76 Q1793.55 1543.34 1790.08 1546.44 Q1786.61 1549.52 1780.29 1549.52 Q1778.11 1549.52 1775.84 1549.15 Q1773.6 1548.78 1771.19 1548.04 L1771.19 1543.34 Q1773.27 1544.47 1775.5 1545.03 Q1777.72 1545.58 1780.2 1545.58 Q1784.2 1545.58 1786.54 1543.48 Q1788.88 1541.37 1788.88 1537.76 Q1788.88 1534.15 1786.54 1532.04 Q1784.2 1529.94 1780.2 1529.94 Q1778.32 1529.94 1776.45 1530.35 Q1774.59 1530.77 1772.65 1531.65 L1772.65 1514.29 Z\" fill=\"#000000\" fill-rule=\"nonzero\" fill-opacity=\"1\" /><path clip-path=\"url(#clip560)\" d=\"M2250.21 1544.91 L2257.85 1544.91 L2257.85 1518.55 L2249.54 1520.21 L2249.54 1515.95 L2257.8 1514.29 L2262.48 1514.29 L2262.48 1544.91 L2270.11 1544.91 L2270.11 1548.85 L2250.21 1548.85 L2250.21 1544.91 Z\" fill=\"#000000\" fill-rule=\"nonzero\" fill-opacity=\"1\" /><path clip-path=\"url(#clip560)\" d=\"M2289.56 1517.37 Q2285.95 1517.37 2284.12 1520.93 Q2282.31 1524.47 2282.31 1531.6 Q2282.31 1538.71 2284.12 1542.27 Q2285.95 1545.82 2289.56 1545.82 Q2293.19 1545.82 2295 1542.27 Q2296.83 1538.71 2296.83 1531.6 Q2296.83 1524.47 2295 1520.93 Q2293.19 1517.37 2289.56 1517.37 M2289.56 1513.66 Q2295.37 1513.66 2298.42 1518.27 Q2301.5 1522.85 2301.5 1531.6 Q2301.5 1540.33 2298.42 1544.94 Q2295.37 1549.52 2289.56 1549.52 Q2283.75 1549.52 2280.67 1544.94 Q2277.61 1540.33 2277.61 1531.6 Q2277.61 1522.85 2280.67 1518.27 Q2283.75 1513.66 2289.56 1513.66 Z\" fill=\"#000000\" fill-rule=\"nonzero\" fill-opacity=\"1\" /><path clip-path=\"url(#clip560)\" d=\"M2319.72 1517.37 Q2316.11 1517.37 2314.28 1520.93 Q2312.48 1524.47 2312.48 1531.6 Q2312.48 1538.71 2314.28 1542.27 Q2316.11 1545.82 2319.72 1545.82 Q2323.35 1545.82 2325.16 1542.27 Q2326.99 1538.71 2326.99 1531.6 Q2326.99 1524.47 2325.16 1520.93 Q2323.35 1517.37 2319.72 1517.37 M2319.72 1513.66 Q2325.53 1513.66 2328.59 1518.27 Q2331.67 1522.85 2331.67 1531.6 Q2331.67 1540.33 2328.59 1544.94 Q2325.53 1549.52 2319.72 1549.52 Q2313.91 1549.52 2310.83 1544.94 Q2307.78 1540.33 2307.78 1531.6 Q2307.78 1522.85 2310.83 1518.27 Q2313.91 1513.66 2319.72 1513.66 Z\" fill=\"#000000\" fill-rule=\"nonzero\" fill-opacity=\"1\" /><polyline clip-path=\"url(#clip560)\" style=\"stroke:#000000; stroke-linecap:round; stroke-linejoin:round; stroke-width:4; stroke-opacity:1; fill:none\" points=\"156.598,1486.45 156.598,47.2441 \"/>\n",
       "<polyline clip-path=\"url(#clip560)\" style=\"stroke:#000000; stroke-linecap:round; stroke-linejoin:round; stroke-width:4; stroke-opacity:1; fill:none\" points=\"156.598,1229 175.496,1229 \"/>\n",
       "<polyline clip-path=\"url(#clip560)\" style=\"stroke:#000000; stroke-linecap:round; stroke-linejoin:round; stroke-width:4; stroke-opacity:1; fill:none\" points=\"156.598,938.998 175.496,938.998 \"/>\n",
       "<polyline clip-path=\"url(#clip560)\" style=\"stroke:#000000; stroke-linecap:round; stroke-linejoin:round; stroke-width:4; stroke-opacity:1; fill:none\" points=\"156.598,648.997 175.496,648.997 \"/>\n",
       "<polyline clip-path=\"url(#clip560)\" style=\"stroke:#000000; stroke-linecap:round; stroke-linejoin:round; stroke-width:4; stroke-opacity:1; fill:none\" points=\"156.598,358.996 175.496,358.996 \"/>\n",
       "<polyline clip-path=\"url(#clip560)\" style=\"stroke:#000000; stroke-linecap:round; stroke-linejoin:round; stroke-width:4; stroke-opacity:1; fill:none\" points=\"156.598,68.9952 175.496,68.9952 \"/>\n",
       "<path clip-path=\"url(#clip560)\" d=\"M65.0198 1214.8 Q61.4087 1214.8 59.58 1218.36 Q57.7745 1221.9 57.7745 1229.03 Q57.7745 1236.14 59.58 1239.7 Q61.4087 1243.25 65.0198 1243.25 Q68.6541 1243.25 70.4596 1239.7 Q72.2883 1236.14 72.2883 1229.03 Q72.2883 1221.9 70.4596 1218.36 Q68.6541 1214.8 65.0198 1214.8 M65.0198 1211.09 Q70.83 1211.09 73.8855 1215.7 Q76.9642 1220.28 76.9642 1229.03 Q76.9642 1237.76 73.8855 1242.37 Q70.83 1246.95 65.0198 1246.95 Q59.2097 1246.95 56.131 1242.37 Q53.0754 1237.76 53.0754 1229.03 Q53.0754 1220.28 56.131 1215.7 Q59.2097 1211.09 65.0198 1211.09 Z\" fill=\"#000000\" fill-rule=\"nonzero\" fill-opacity=\"1\" /><path clip-path=\"url(#clip560)\" d=\"M85.1818 1240.4 L90.066 1240.4 L90.066 1246.28 L85.1818 1246.28 L85.1818 1240.4 Z\" fill=\"#000000\" fill-rule=\"nonzero\" fill-opacity=\"1\" /><path clip-path=\"url(#clip560)\" d=\"M104.279 1242.34 L120.598 1242.34 L120.598 1246.28 L98.6539 1246.28 L98.6539 1242.34 Q101.316 1239.59 105.899 1234.96 Q110.506 1230.31 111.686 1228.96 Q113.932 1226.44 114.811 1224.7 Q115.714 1222.95 115.714 1221.26 Q115.714 1218.5 113.77 1216.76 Q111.848 1215.03 108.746 1215.03 Q106.547 1215.03 104.094 1215.79 Q101.663 1216.56 98.8854 1218.11 L98.8854 1213.38 Q101.709 1212.25 104.163 1211.67 Q106.617 1211.09 108.654 1211.09 Q114.024 1211.09 117.219 1213.78 Q120.413 1216.46 120.413 1220.95 Q120.413 1223.08 119.603 1225.01 Q118.816 1226.9 116.709 1229.5 Q116.131 1230.17 113.029 1233.38 Q109.927 1236.58 104.279 1242.34 Z\" fill=\"#000000\" fill-rule=\"nonzero\" fill-opacity=\"1\" /><path clip-path=\"url(#clip560)\" d=\"M62.9365 924.796 Q59.3254 924.796 57.4967 928.361 Q55.6912 931.903 55.6912 939.032 Q55.6912 946.139 57.4967 949.703 Q59.3254 953.245 62.9365 953.245 Q66.5707 953.245 68.3763 949.703 Q70.205 946.139 70.205 939.032 Q70.205 931.903 68.3763 928.361 Q66.5707 924.796 62.9365 924.796 M62.9365 921.093 Q68.7467 921.093 71.8022 925.699 Q74.8809 930.282 74.8809 939.032 Q74.8809 947.759 71.8022 952.365 Q68.7467 956.949 62.9365 956.949 Q57.1264 956.949 54.0477 952.365 Q50.9921 947.759 50.9921 939.032 Q50.9921 930.282 54.0477 925.699 Q57.1264 921.093 62.9365 921.093 Z\" fill=\"#000000\" fill-rule=\"nonzero\" fill-opacity=\"1\" /><path clip-path=\"url(#clip560)\" d=\"M83.0984 950.398 L87.9827 950.398 L87.9827 956.278 L83.0984 956.278 L83.0984 950.398 Z\" fill=\"#000000\" fill-rule=\"nonzero\" fill-opacity=\"1\" /><path clip-path=\"url(#clip560)\" d=\"M111.015 925.792 L99.2095 944.241 L111.015 944.241 L111.015 925.792 M109.788 921.718 L115.668 921.718 L115.668 944.241 L120.598 944.241 L120.598 948.129 L115.668 948.129 L115.668 956.278 L111.015 956.278 L111.015 948.129 L95.4132 948.129 L95.4132 943.616 L109.788 921.718 Z\" fill=\"#000000\" fill-rule=\"nonzero\" fill-opacity=\"1\" /><path clip-path=\"url(#clip560)\" d=\"M63.2606 634.795 Q59.6495 634.795 57.8208 638.36 Q56.0152 641.902 56.0152 649.031 Q56.0152 656.138 57.8208 659.703 Q59.6495 663.244 63.2606 663.244 Q66.8948 663.244 68.7004 659.703 Q70.5291 656.138 70.5291 649.031 Q70.5291 641.902 68.7004 638.36 Q66.8948 634.795 63.2606 634.795 M63.2606 631.092 Q69.0707 631.092 72.1263 635.698 Q75.205 640.282 75.205 649.031 Q75.205 657.758 72.1263 662.365 Q69.0707 666.948 63.2606 666.948 Q57.4504 666.948 54.3717 662.365 Q51.3162 657.758 51.3162 649.031 Q51.3162 640.282 54.3717 635.698 Q57.4504 631.092 63.2606 631.092 Z\" fill=\"#000000\" fill-rule=\"nonzero\" fill-opacity=\"1\" /><path clip-path=\"url(#clip560)\" d=\"M83.4225 660.397 L88.3067 660.397 L88.3067 666.277 L83.4225 666.277 L83.4225 660.397 Z\" fill=\"#000000\" fill-rule=\"nonzero\" fill-opacity=\"1\" /><path clip-path=\"url(#clip560)\" d=\"M109.071 647.133 Q105.922 647.133 104.071 649.286 Q102.242 651.439 102.242 655.189 Q102.242 658.916 104.071 661.092 Q105.922 663.244 109.071 663.244 Q112.219 663.244 114.047 661.092 Q115.899 658.916 115.899 655.189 Q115.899 651.439 114.047 649.286 Q112.219 647.133 109.071 647.133 M118.353 632.481 L118.353 636.74 Q116.594 635.907 114.788 635.467 Q113.006 635.027 111.246 635.027 Q106.617 635.027 104.163 638.152 Q101.733 641.277 101.385 647.596 Q102.751 645.582 104.811 644.518 Q106.871 643.43 109.348 643.43 Q114.557 643.43 117.566 646.601 Q120.598 649.749 120.598 655.189 Q120.598 660.513 117.45 663.73 Q114.302 666.948 109.071 666.948 Q103.075 666.948 99.9039 662.365 Q96.7326 657.758 96.7326 649.031 Q96.7326 640.837 100.621 635.976 Q104.51 631.092 111.061 631.092 Q112.82 631.092 114.603 631.439 Q116.408 631.786 118.353 632.481 Z\" fill=\"#000000\" fill-rule=\"nonzero\" fill-opacity=\"1\" /><path clip-path=\"url(#clip560)\" d=\"M63.5152 344.795 Q59.9041 344.795 58.0754 348.359 Q56.2699 351.901 56.2699 359.031 Q56.2699 366.137 58.0754 369.702 Q59.9041 373.244 63.5152 373.244 Q67.1494 373.244 68.955 369.702 Q70.7837 366.137 70.7837 359.031 Q70.7837 351.901 68.955 348.359 Q67.1494 344.795 63.5152 344.795 M63.5152 341.091 Q69.3254 341.091 72.3809 345.697 Q75.4596 350.281 75.4596 359.031 Q75.4596 367.757 72.3809 372.364 Q69.3254 376.947 63.5152 376.947 Q57.7051 376.947 54.6264 372.364 Q51.5708 367.757 51.5708 359.031 Q51.5708 350.281 54.6264 345.697 Q57.7051 341.091 63.5152 341.091 Z\" fill=\"#000000\" fill-rule=\"nonzero\" fill-opacity=\"1\" /><path clip-path=\"url(#clip560)\" d=\"M83.6771 370.396 L88.5614 370.396 L88.5614 376.276 L83.6771 376.276 L83.6771 370.396 Z\" fill=\"#000000\" fill-rule=\"nonzero\" fill-opacity=\"1\" /><path clip-path=\"url(#clip560)\" d=\"M108.746 359.864 Q105.413 359.864 103.492 361.646 Q101.594 363.429 101.594 366.554 Q101.594 369.679 103.492 371.461 Q105.413 373.244 108.746 373.244 Q112.08 373.244 114.001 371.461 Q115.922 369.656 115.922 366.554 Q115.922 363.429 114.001 361.646 Q112.103 359.864 108.746 359.864 M104.071 357.873 Q101.061 357.133 99.3715 355.072 Q97.7048 353.012 97.7048 350.049 Q97.7048 345.906 100.645 343.498 Q103.608 341.091 108.746 341.091 Q113.908 341.091 116.848 343.498 Q119.788 345.906 119.788 350.049 Q119.788 353.012 118.098 355.072 Q116.432 357.133 113.445 357.873 Q116.825 358.66 118.7 360.952 Q120.598 363.244 120.598 366.554 Q120.598 371.577 117.52 374.262 Q114.464 376.947 108.746 376.947 Q103.029 376.947 99.9502 374.262 Q96.8947 371.577 96.8947 366.554 Q96.8947 363.244 98.7928 360.952 Q100.691 358.66 104.071 357.873 M102.358 350.489 Q102.358 353.174 104.024 354.679 Q105.714 356.183 108.746 356.183 Q111.756 356.183 113.445 354.679 Q115.158 353.174 115.158 350.489 Q115.158 347.804 113.445 346.299 Q111.756 344.795 108.746 344.795 Q105.714 344.795 104.024 346.299 Q102.358 347.804 102.358 350.489 Z\" fill=\"#000000\" fill-rule=\"nonzero\" fill-opacity=\"1\" /><path clip-path=\"url(#clip560)\" d=\"M54.2328 82.34 L61.8717 82.34 L61.8717 55.9744 L53.5616 57.6411 L53.5616 53.3819 L61.8254 51.7152 L66.5013 51.7152 L66.5013 82.34 L74.1402 82.34 L74.1402 86.2752 L54.2328 86.2752 L54.2328 82.34 Z\" fill=\"#000000\" fill-rule=\"nonzero\" fill-opacity=\"1\" /><path clip-path=\"url(#clip560)\" d=\"M83.5845 80.3956 L88.4688 80.3956 L88.4688 86.2752 L83.5845 86.2752 L83.5845 80.3956 Z\" fill=\"#000000\" fill-rule=\"nonzero\" fill-opacity=\"1\" /><path clip-path=\"url(#clip560)\" d=\"M108.654 54.7939 Q105.043 54.7939 103.214 58.3587 Q101.409 61.9003 101.409 69.0299 Q101.409 76.1364 103.214 79.7012 Q105.043 83.2428 108.654 83.2428 Q112.288 83.2428 114.094 79.7012 Q115.922 76.1364 115.922 69.0299 Q115.922 61.9003 114.094 58.3587 Q112.288 54.7939 108.654 54.7939 M108.654 51.0902 Q114.464 51.0902 117.52 55.6967 Q120.598 60.28 120.598 69.0299 Q120.598 77.7567 117.52 82.3632 Q114.464 86.9465 108.654 86.9465 Q102.844 86.9465 99.765 82.3632 Q96.7095 77.7567 96.7095 69.0299 Q96.7095 60.28 99.765 55.6967 Q102.844 51.0902 108.654 51.0902 Z\" fill=\"#000000\" fill-rule=\"nonzero\" fill-opacity=\"1\" /><circle clip-path=\"url(#clip562)\" cx=\"218.754\" cy=\"883.616\" r=\"14.4\" fill=\"#009af9\" fill-rule=\"evenodd\" fill-opacity=\"1\" stroke=\"#000000\" stroke-opacity=\"1\" stroke-width=\"3.2\"/>\n",
       "<circle clip-path=\"url(#clip562)\" cx=\"239.681\" cy=\"1254.22\" r=\"14.4\" fill=\"#009af9\" fill-rule=\"evenodd\" fill-opacity=\"1\" stroke=\"#000000\" stroke-opacity=\"1\" stroke-width=\"3.2\"/>\n",
       "<circle clip-path=\"url(#clip562)\" cx=\"260.609\" cy=\"1387.63\" r=\"14.4\" fill=\"#009af9\" fill-rule=\"evenodd\" fill-opacity=\"1\" stroke=\"#000000\" stroke-opacity=\"1\" stroke-width=\"3.2\"/>\n",
       "<circle clip-path=\"url(#clip562)\" cx=\"281.537\" cy=\"563.22\" r=\"14.4\" fill=\"#009af9\" fill-rule=\"evenodd\" fill-opacity=\"1\" stroke=\"#000000\" stroke-opacity=\"1\" stroke-width=\"3.2\"/>\n",
       "<circle clip-path=\"url(#clip562)\" cx=\"302.465\" cy=\"541.504\" r=\"14.4\" fill=\"#009af9\" fill-rule=\"evenodd\" fill-opacity=\"1\" stroke=\"#000000\" stroke-opacity=\"1\" stroke-width=\"3.2\"/>\n",
       "<circle clip-path=\"url(#clip562)\" cx=\"323.392\" cy=\"564.825\" r=\"14.4\" fill=\"#009af9\" fill-rule=\"evenodd\" fill-opacity=\"1\" stroke=\"#000000\" stroke-opacity=\"1\" stroke-width=\"3.2\"/>\n",
       "<circle clip-path=\"url(#clip562)\" cx=\"344.32\" cy=\"1356.88\" r=\"14.4\" fill=\"#009af9\" fill-rule=\"evenodd\" fill-opacity=\"1\" stroke=\"#000000\" stroke-opacity=\"1\" stroke-width=\"3.2\"/>\n",
       "<circle clip-path=\"url(#clip562)\" cx=\"365.248\" cy=\"271.828\" r=\"14.4\" fill=\"#009af9\" fill-rule=\"evenodd\" fill-opacity=\"1\" stroke=\"#000000\" stroke-opacity=\"1\" stroke-width=\"3.2\"/>\n",
       "<circle clip-path=\"url(#clip562)\" cx=\"386.176\" cy=\"374.433\" r=\"14.4\" fill=\"#009af9\" fill-rule=\"evenodd\" fill-opacity=\"1\" stroke=\"#000000\" stroke-opacity=\"1\" stroke-width=\"3.2\"/>\n",
       "<circle clip-path=\"url(#clip562)\" cx=\"407.103\" cy=\"1013.25\" r=\"14.4\" fill=\"#009af9\" fill-rule=\"evenodd\" fill-opacity=\"1\" stroke=\"#000000\" stroke-opacity=\"1\" stroke-width=\"3.2\"/>\n",
       "<circle clip-path=\"url(#clip562)\" cx=\"428.031\" cy=\"1356.98\" r=\"14.4\" fill=\"#009af9\" fill-rule=\"evenodd\" fill-opacity=\"1\" stroke=\"#000000\" stroke-opacity=\"1\" stroke-width=\"3.2\"/>\n",
       "<circle clip-path=\"url(#clip562)\" cx=\"448.959\" cy=\"1242.81\" r=\"14.4\" fill=\"#009af9\" fill-rule=\"evenodd\" fill-opacity=\"1\" stroke=\"#000000\" stroke-opacity=\"1\" stroke-width=\"3.2\"/>\n",
       "<circle clip-path=\"url(#clip562)\" cx=\"469.887\" cy=\"745.514\" r=\"14.4\" fill=\"#009af9\" fill-rule=\"evenodd\" fill-opacity=\"1\" stroke=\"#000000\" stroke-opacity=\"1\" stroke-width=\"3.2\"/>\n",
       "<circle clip-path=\"url(#clip562)\" cx=\"490.814\" cy=\"832.579\" r=\"14.4\" fill=\"#009af9\" fill-rule=\"evenodd\" fill-opacity=\"1\" stroke=\"#000000\" stroke-opacity=\"1\" stroke-width=\"3.2\"/>\n",
       "<circle clip-path=\"url(#clip562)\" cx=\"511.742\" cy=\"890.133\" r=\"14.4\" fill=\"#009af9\" fill-rule=\"evenodd\" fill-opacity=\"1\" stroke=\"#000000\" stroke-opacity=\"1\" stroke-width=\"3.2\"/>\n",
       "<circle clip-path=\"url(#clip562)\" cx=\"532.67\" cy=\"745.278\" r=\"14.4\" fill=\"#009af9\" fill-rule=\"evenodd\" fill-opacity=\"1\" stroke=\"#000000\" stroke-opacity=\"1\" stroke-width=\"3.2\"/>\n",
       "<circle clip-path=\"url(#clip562)\" cx=\"553.598\" cy=\"561.822\" r=\"14.4\" fill=\"#009af9\" fill-rule=\"evenodd\" fill-opacity=\"1\" stroke=\"#000000\" stroke-opacity=\"1\" stroke-width=\"3.2\"/>\n",
       "<circle clip-path=\"url(#clip562)\" cx=\"574.525\" cy=\"918.836\" r=\"14.4\" fill=\"#009af9\" fill-rule=\"evenodd\" fill-opacity=\"1\" stroke=\"#000000\" stroke-opacity=\"1\" stroke-width=\"3.2\"/>\n",
       "<circle clip-path=\"url(#clip562)\" cx=\"595.453\" cy=\"653.908\" r=\"14.4\" fill=\"#009af9\" fill-rule=\"evenodd\" fill-opacity=\"1\" stroke=\"#000000\" stroke-opacity=\"1\" stroke-width=\"3.2\"/>\n",
       "<circle clip-path=\"url(#clip562)\" cx=\"616.381\" cy=\"695.111\" r=\"14.4\" fill=\"#009af9\" fill-rule=\"evenodd\" fill-opacity=\"1\" stroke=\"#000000\" stroke-opacity=\"1\" stroke-width=\"3.2\"/>\n",
       "<circle clip-path=\"url(#clip562)\" cx=\"637.309\" cy=\"279.752\" r=\"14.4\" fill=\"#009af9\" fill-rule=\"evenodd\" fill-opacity=\"1\" stroke=\"#000000\" stroke-opacity=\"1\" stroke-width=\"3.2\"/>\n",
       "<circle clip-path=\"url(#clip562)\" cx=\"658.236\" cy=\"111.765\" r=\"14.4\" fill=\"#009af9\" fill-rule=\"evenodd\" fill-opacity=\"1\" stroke=\"#000000\" stroke-opacity=\"1\" stroke-width=\"3.2\"/>\n",
       "<circle clip-path=\"url(#clip562)\" cx=\"679.164\" cy=\"1044.85\" r=\"14.4\" fill=\"#009af9\" fill-rule=\"evenodd\" fill-opacity=\"1\" stroke=\"#000000\" stroke-opacity=\"1\" stroke-width=\"3.2\"/>\n",
       "<circle clip-path=\"url(#clip562)\" cx=\"700.092\" cy=\"1202.63\" r=\"14.4\" fill=\"#009af9\" fill-rule=\"evenodd\" fill-opacity=\"1\" stroke=\"#000000\" stroke-opacity=\"1\" stroke-width=\"3.2\"/>\n",
       "<circle clip-path=\"url(#clip562)\" cx=\"721.02\" cy=\"1351.32\" r=\"14.4\" fill=\"#009af9\" fill-rule=\"evenodd\" fill-opacity=\"1\" stroke=\"#000000\" stroke-opacity=\"1\" stroke-width=\"3.2\"/>\n",
       "<circle clip-path=\"url(#clip562)\" cx=\"741.947\" cy=\"553.83\" r=\"14.4\" fill=\"#009af9\" fill-rule=\"evenodd\" fill-opacity=\"1\" stroke=\"#000000\" stroke-opacity=\"1\" stroke-width=\"3.2\"/>\n",
       "<circle clip-path=\"url(#clip562)\" cx=\"762.875\" cy=\"223.954\" r=\"14.4\" fill=\"#009af9\" fill-rule=\"evenodd\" fill-opacity=\"1\" stroke=\"#000000\" stroke-opacity=\"1\" stroke-width=\"3.2\"/>\n",
       "<circle clip-path=\"url(#clip562)\" cx=\"783.803\" cy=\"1041.84\" r=\"14.4\" fill=\"#009af9\" fill-rule=\"evenodd\" fill-opacity=\"1\" stroke=\"#000000\" stroke-opacity=\"1\" stroke-width=\"3.2\"/>\n",
       "<circle clip-path=\"url(#clip562)\" cx=\"804.731\" cy=\"1383.63\" r=\"14.4\" fill=\"#009af9\" fill-rule=\"evenodd\" fill-opacity=\"1\" stroke=\"#000000\" stroke-opacity=\"1\" stroke-width=\"3.2\"/>\n",
       "<circle clip-path=\"url(#clip562)\" cx=\"825.658\" cy=\"653.987\" r=\"14.4\" fill=\"#009af9\" fill-rule=\"evenodd\" fill-opacity=\"1\" stroke=\"#000000\" stroke-opacity=\"1\" stroke-width=\"3.2\"/>\n",
       "<circle clip-path=\"url(#clip562)\" cx=\"846.586\" cy=\"603.707\" r=\"14.4\" fill=\"#009af9\" fill-rule=\"evenodd\" fill-opacity=\"1\" stroke=\"#000000\" stroke-opacity=\"1\" stroke-width=\"3.2\"/>\n",
       "<circle clip-path=\"url(#clip562)\" cx=\"867.514\" cy=\"754.723\" r=\"14.4\" fill=\"#009af9\" fill-rule=\"evenodd\" fill-opacity=\"1\" stroke=\"#000000\" stroke-opacity=\"1\" stroke-width=\"3.2\"/>\n",
       "<circle clip-path=\"url(#clip562)\" cx=\"888.442\" cy=\"797.198\" r=\"14.4\" fill=\"#009af9\" fill-rule=\"evenodd\" fill-opacity=\"1\" stroke=\"#000000\" stroke-opacity=\"1\" stroke-width=\"3.2\"/>\n",
       "<circle clip-path=\"url(#clip562)\" cx=\"909.369\" cy=\"1071.66\" r=\"14.4\" fill=\"#009af9\" fill-rule=\"evenodd\" fill-opacity=\"1\" stroke=\"#000000\" stroke-opacity=\"1\" stroke-width=\"3.2\"/>\n",
       "<circle clip-path=\"url(#clip562)\" cx=\"930.297\" cy=\"1209.22\" r=\"14.4\" fill=\"#009af9\" fill-rule=\"evenodd\" fill-opacity=\"1\" stroke=\"#000000\" stroke-opacity=\"1\" stroke-width=\"3.2\"/>\n",
       "<circle clip-path=\"url(#clip562)\" cx=\"951.225\" cy=\"1312.03\" r=\"14.4\" fill=\"#009af9\" fill-rule=\"evenodd\" fill-opacity=\"1\" stroke=\"#000000\" stroke-opacity=\"1\" stroke-width=\"3.2\"/>\n",
       "<circle clip-path=\"url(#clip562)\" cx=\"972.152\" cy=\"1403.77\" r=\"14.4\" fill=\"#009af9\" fill-rule=\"evenodd\" fill-opacity=\"1\" stroke=\"#000000\" stroke-opacity=\"1\" stroke-width=\"3.2\"/>\n",
       "<circle clip-path=\"url(#clip562)\" cx=\"993.08\" cy=\"1084.34\" r=\"14.4\" fill=\"#009af9\" fill-rule=\"evenodd\" fill-opacity=\"1\" stroke=\"#000000\" stroke-opacity=\"1\" stroke-width=\"3.2\"/>\n",
       "<circle clip-path=\"url(#clip562)\" cx=\"1014.01\" cy=\"542.01\" r=\"14.4\" fill=\"#009af9\" fill-rule=\"evenodd\" fill-opacity=\"1\" stroke=\"#000000\" stroke-opacity=\"1\" stroke-width=\"3.2\"/>\n",
       "<circle clip-path=\"url(#clip562)\" cx=\"1034.94\" cy=\"530.014\" r=\"14.4\" fill=\"#009af9\" fill-rule=\"evenodd\" fill-opacity=\"1\" stroke=\"#000000\" stroke-opacity=\"1\" stroke-width=\"3.2\"/>\n",
       "<circle clip-path=\"url(#clip562)\" cx=\"1055.86\" cy=\"404.464\" r=\"14.4\" fill=\"#009af9\" fill-rule=\"evenodd\" fill-opacity=\"1\" stroke=\"#000000\" stroke-opacity=\"1\" stroke-width=\"3.2\"/>\n",
       "<circle clip-path=\"url(#clip562)\" cx=\"1076.79\" cy=\"641.316\" r=\"14.4\" fill=\"#009af9\" fill-rule=\"evenodd\" fill-opacity=\"1\" stroke=\"#000000\" stroke-opacity=\"1\" stroke-width=\"3.2\"/>\n",
       "<circle clip-path=\"url(#clip562)\" cx=\"1097.72\" cy=\"497.875\" r=\"14.4\" fill=\"#009af9\" fill-rule=\"evenodd\" fill-opacity=\"1\" stroke=\"#000000\" stroke-opacity=\"1\" stroke-width=\"3.2\"/>\n",
       "<circle clip-path=\"url(#clip562)\" cx=\"1118.65\" cy=\"277.227\" r=\"14.4\" fill=\"#009af9\" fill-rule=\"evenodd\" fill-opacity=\"1\" stroke=\"#000000\" stroke-opacity=\"1\" stroke-width=\"3.2\"/>\n",
       "<circle clip-path=\"url(#clip562)\" cx=\"1139.57\" cy=\"1354.48\" r=\"14.4\" fill=\"#009af9\" fill-rule=\"evenodd\" fill-opacity=\"1\" stroke=\"#000000\" stroke-opacity=\"1\" stroke-width=\"3.2\"/>\n",
       "<circle clip-path=\"url(#clip562)\" cx=\"1160.5\" cy=\"472.999\" r=\"14.4\" fill=\"#009af9\" fill-rule=\"evenodd\" fill-opacity=\"1\" stroke=\"#000000\" stroke-opacity=\"1\" stroke-width=\"3.2\"/>\n",
       "<circle clip-path=\"url(#clip562)\" cx=\"1181.43\" cy=\"1128.92\" r=\"14.4\" fill=\"#009af9\" fill-rule=\"evenodd\" fill-opacity=\"1\" stroke=\"#000000\" stroke-opacity=\"1\" stroke-width=\"3.2\"/>\n",
       "<circle clip-path=\"url(#clip562)\" cx=\"1202.36\" cy=\"150.835\" r=\"14.4\" fill=\"#009af9\" fill-rule=\"evenodd\" fill-opacity=\"1\" stroke=\"#000000\" stroke-opacity=\"1\" stroke-width=\"3.2\"/>\n",
       "<circle clip-path=\"url(#clip562)\" cx=\"1223.29\" cy=\"872.643\" r=\"14.4\" fill=\"#009af9\" fill-rule=\"evenodd\" fill-opacity=\"1\" stroke=\"#000000\" stroke-opacity=\"1\" stroke-width=\"3.2\"/>\n",
       "<circle clip-path=\"url(#clip562)\" cx=\"1244.21\" cy=\"1150.44\" r=\"14.4\" fill=\"#009af9\" fill-rule=\"evenodd\" fill-opacity=\"1\" stroke=\"#000000\" stroke-opacity=\"1\" stroke-width=\"3.2\"/>\n",
       "<circle clip-path=\"url(#clip562)\" cx=\"1265.14\" cy=\"435.204\" r=\"14.4\" fill=\"#009af9\" fill-rule=\"evenodd\" fill-opacity=\"1\" stroke=\"#000000\" stroke-opacity=\"1\" stroke-width=\"3.2\"/>\n",
       "<circle clip-path=\"url(#clip562)\" cx=\"1286.07\" cy=\"465.255\" r=\"14.4\" fill=\"#009af9\" fill-rule=\"evenodd\" fill-opacity=\"1\" stroke=\"#000000\" stroke-opacity=\"1\" stroke-width=\"3.2\"/>\n",
       "<circle clip-path=\"url(#clip562)\" cx=\"1307\" cy=\"549.299\" r=\"14.4\" fill=\"#009af9\" fill-rule=\"evenodd\" fill-opacity=\"1\" stroke=\"#000000\" stroke-opacity=\"1\" stroke-width=\"3.2\"/>\n",
       "<circle clip-path=\"url(#clip562)\" cx=\"1327.92\" cy=\"289.108\" r=\"14.4\" fill=\"#009af9\" fill-rule=\"evenodd\" fill-opacity=\"1\" stroke=\"#000000\" stroke-opacity=\"1\" stroke-width=\"3.2\"/>\n",
       "<circle clip-path=\"url(#clip562)\" cx=\"1348.85\" cy=\"518.506\" r=\"14.4\" fill=\"#009af9\" fill-rule=\"evenodd\" fill-opacity=\"1\" stroke=\"#000000\" stroke-opacity=\"1\" stroke-width=\"3.2\"/>\n",
       "<circle clip-path=\"url(#clip562)\" cx=\"1369.78\" cy=\"130.243\" r=\"14.4\" fill=\"#009af9\" fill-rule=\"evenodd\" fill-opacity=\"1\" stroke=\"#000000\" stroke-opacity=\"1\" stroke-width=\"3.2\"/>\n",
       "<circle clip-path=\"url(#clip562)\" cx=\"1390.71\" cy=\"87.9763\" r=\"14.4\" fill=\"#009af9\" fill-rule=\"evenodd\" fill-opacity=\"1\" stroke=\"#000000\" stroke-opacity=\"1\" stroke-width=\"3.2\"/>\n",
       "<circle clip-path=\"url(#clip562)\" cx=\"1411.64\" cy=\"689.363\" r=\"14.4\" fill=\"#009af9\" fill-rule=\"evenodd\" fill-opacity=\"1\" stroke=\"#000000\" stroke-opacity=\"1\" stroke-width=\"3.2\"/>\n",
       "<circle clip-path=\"url(#clip562)\" cx=\"1432.56\" cy=\"1379.17\" r=\"14.4\" fill=\"#009af9\" fill-rule=\"evenodd\" fill-opacity=\"1\" stroke=\"#000000\" stroke-opacity=\"1\" stroke-width=\"3.2\"/>\n",
       "<circle clip-path=\"url(#clip562)\" cx=\"1453.49\" cy=\"335.545\" r=\"14.4\" fill=\"#009af9\" fill-rule=\"evenodd\" fill-opacity=\"1\" stroke=\"#000000\" stroke-opacity=\"1\" stroke-width=\"3.2\"/>\n",
       "<circle clip-path=\"url(#clip562)\" cx=\"1474.42\" cy=\"1445.72\" r=\"14.4\" fill=\"#009af9\" fill-rule=\"evenodd\" fill-opacity=\"1\" stroke=\"#000000\" stroke-opacity=\"1\" stroke-width=\"3.2\"/>\n",
       "<circle clip-path=\"url(#clip562)\" cx=\"1495.35\" cy=\"553.616\" r=\"14.4\" fill=\"#009af9\" fill-rule=\"evenodd\" fill-opacity=\"1\" stroke=\"#000000\" stroke-opacity=\"1\" stroke-width=\"3.2\"/>\n",
       "<circle clip-path=\"url(#clip562)\" cx=\"1516.27\" cy=\"921.346\" r=\"14.4\" fill=\"#009af9\" fill-rule=\"evenodd\" fill-opacity=\"1\" stroke=\"#000000\" stroke-opacity=\"1\" stroke-width=\"3.2\"/>\n",
       "<circle clip-path=\"url(#clip562)\" cx=\"1537.2\" cy=\"909.792\" r=\"14.4\" fill=\"#009af9\" fill-rule=\"evenodd\" fill-opacity=\"1\" stroke=\"#000000\" stroke-opacity=\"1\" stroke-width=\"3.2\"/>\n",
       "<circle clip-path=\"url(#clip562)\" cx=\"1558.13\" cy=\"1416.09\" r=\"14.4\" fill=\"#009af9\" fill-rule=\"evenodd\" fill-opacity=\"1\" stroke=\"#000000\" stroke-opacity=\"1\" stroke-width=\"3.2\"/>\n",
       "<circle clip-path=\"url(#clip562)\" cx=\"1579.06\" cy=\"1357.95\" r=\"14.4\" fill=\"#009af9\" fill-rule=\"evenodd\" fill-opacity=\"1\" stroke=\"#000000\" stroke-opacity=\"1\" stroke-width=\"3.2\"/>\n",
       "<circle clip-path=\"url(#clip562)\" cx=\"1599.98\" cy=\"185.091\" r=\"14.4\" fill=\"#009af9\" fill-rule=\"evenodd\" fill-opacity=\"1\" stroke=\"#000000\" stroke-opacity=\"1\" stroke-width=\"3.2\"/>\n",
       "<circle clip-path=\"url(#clip562)\" cx=\"1620.91\" cy=\"920.108\" r=\"14.4\" fill=\"#009af9\" fill-rule=\"evenodd\" fill-opacity=\"1\" stroke=\"#000000\" stroke-opacity=\"1\" stroke-width=\"3.2\"/>\n",
       "<circle clip-path=\"url(#clip562)\" cx=\"1641.84\" cy=\"816.757\" r=\"14.4\" fill=\"#009af9\" fill-rule=\"evenodd\" fill-opacity=\"1\" stroke=\"#000000\" stroke-opacity=\"1\" stroke-width=\"3.2\"/>\n",
       "<circle clip-path=\"url(#clip562)\" cx=\"1662.77\" cy=\"605.7\" r=\"14.4\" fill=\"#009af9\" fill-rule=\"evenodd\" fill-opacity=\"1\" stroke=\"#000000\" stroke-opacity=\"1\" stroke-width=\"3.2\"/>\n",
       "<circle clip-path=\"url(#clip562)\" cx=\"1683.7\" cy=\"1404.14\" r=\"14.4\" fill=\"#009af9\" fill-rule=\"evenodd\" fill-opacity=\"1\" stroke=\"#000000\" stroke-opacity=\"1\" stroke-width=\"3.2\"/>\n",
       "<circle clip-path=\"url(#clip562)\" cx=\"1704.62\" cy=\"1056.36\" r=\"14.4\" fill=\"#009af9\" fill-rule=\"evenodd\" fill-opacity=\"1\" stroke=\"#000000\" stroke-opacity=\"1\" stroke-width=\"3.2\"/>\n",
       "<circle clip-path=\"url(#clip562)\" cx=\"1725.55\" cy=\"1101.47\" r=\"14.4\" fill=\"#009af9\" fill-rule=\"evenodd\" fill-opacity=\"1\" stroke=\"#000000\" stroke-opacity=\"1\" stroke-width=\"3.2\"/>\n",
       "<circle clip-path=\"url(#clip562)\" cx=\"1746.48\" cy=\"110.475\" r=\"14.4\" fill=\"#009af9\" fill-rule=\"evenodd\" fill-opacity=\"1\" stroke=\"#000000\" stroke-opacity=\"1\" stroke-width=\"3.2\"/>\n",
       "<circle clip-path=\"url(#clip562)\" cx=\"1767.41\" cy=\"1080.73\" r=\"14.4\" fill=\"#009af9\" fill-rule=\"evenodd\" fill-opacity=\"1\" stroke=\"#000000\" stroke-opacity=\"1\" stroke-width=\"3.2\"/>\n",
       "<circle clip-path=\"url(#clip562)\" cx=\"1788.33\" cy=\"351.999\" r=\"14.4\" fill=\"#009af9\" fill-rule=\"evenodd\" fill-opacity=\"1\" stroke=\"#000000\" stroke-opacity=\"1\" stroke-width=\"3.2\"/>\n",
       "<circle clip-path=\"url(#clip562)\" cx=\"1809.26\" cy=\"143.849\" r=\"14.4\" fill=\"#009af9\" fill-rule=\"evenodd\" fill-opacity=\"1\" stroke=\"#000000\" stroke-opacity=\"1\" stroke-width=\"3.2\"/>\n",
       "<circle clip-path=\"url(#clip562)\" cx=\"1830.19\" cy=\"1280.82\" r=\"14.4\" fill=\"#009af9\" fill-rule=\"evenodd\" fill-opacity=\"1\" stroke=\"#000000\" stroke-opacity=\"1\" stroke-width=\"3.2\"/>\n",
       "<circle clip-path=\"url(#clip562)\" cx=\"1851.12\" cy=\"1165.49\" r=\"14.4\" fill=\"#009af9\" fill-rule=\"evenodd\" fill-opacity=\"1\" stroke=\"#000000\" stroke-opacity=\"1\" stroke-width=\"3.2\"/>\n",
       "<circle clip-path=\"url(#clip562)\" cx=\"1872.05\" cy=\"1238.26\" r=\"14.4\" fill=\"#009af9\" fill-rule=\"evenodd\" fill-opacity=\"1\" stroke=\"#000000\" stroke-opacity=\"1\" stroke-width=\"3.2\"/>\n",
       "<circle clip-path=\"url(#clip562)\" cx=\"1892.97\" cy=\"653.55\" r=\"14.4\" fill=\"#009af9\" fill-rule=\"evenodd\" fill-opacity=\"1\" stroke=\"#000000\" stroke-opacity=\"1\" stroke-width=\"3.2\"/>\n",
       "<circle clip-path=\"url(#clip562)\" cx=\"1913.9\" cy=\"1402.62\" r=\"14.4\" fill=\"#009af9\" fill-rule=\"evenodd\" fill-opacity=\"1\" stroke=\"#000000\" stroke-opacity=\"1\" stroke-width=\"3.2\"/>\n",
       "<circle clip-path=\"url(#clip562)\" cx=\"1934.83\" cy=\"737.594\" r=\"14.4\" fill=\"#009af9\" fill-rule=\"evenodd\" fill-opacity=\"1\" stroke=\"#000000\" stroke-opacity=\"1\" stroke-width=\"3.2\"/>\n",
       "<circle clip-path=\"url(#clip562)\" cx=\"1955.76\" cy=\"299.817\" r=\"14.4\" fill=\"#009af9\" fill-rule=\"evenodd\" fill-opacity=\"1\" stroke=\"#000000\" stroke-opacity=\"1\" stroke-width=\"3.2\"/>\n",
       "<circle clip-path=\"url(#clip562)\" cx=\"1976.68\" cy=\"358.533\" r=\"14.4\" fill=\"#009af9\" fill-rule=\"evenodd\" fill-opacity=\"1\" stroke=\"#000000\" stroke-opacity=\"1\" stroke-width=\"3.2\"/>\n",
       "<circle clip-path=\"url(#clip562)\" cx=\"1997.61\" cy=\"553.472\" r=\"14.4\" fill=\"#009af9\" fill-rule=\"evenodd\" fill-opacity=\"1\" stroke=\"#000000\" stroke-opacity=\"1\" stroke-width=\"3.2\"/>\n",
       "<circle clip-path=\"url(#clip562)\" cx=\"2018.54\" cy=\"722.693\" r=\"14.4\" fill=\"#009af9\" fill-rule=\"evenodd\" fill-opacity=\"1\" stroke=\"#000000\" stroke-opacity=\"1\" stroke-width=\"3.2\"/>\n",
       "<circle clip-path=\"url(#clip562)\" cx=\"2039.47\" cy=\"1281.63\" r=\"14.4\" fill=\"#009af9\" fill-rule=\"evenodd\" fill-opacity=\"1\" stroke=\"#000000\" stroke-opacity=\"1\" stroke-width=\"3.2\"/>\n",
       "<circle clip-path=\"url(#clip562)\" cx=\"2060.4\" cy=\"455.856\" r=\"14.4\" fill=\"#009af9\" fill-rule=\"evenodd\" fill-opacity=\"1\" stroke=\"#000000\" stroke-opacity=\"1\" stroke-width=\"3.2\"/>\n",
       "<circle clip-path=\"url(#clip562)\" cx=\"2081.32\" cy=\"755.802\" r=\"14.4\" fill=\"#009af9\" fill-rule=\"evenodd\" fill-opacity=\"1\" stroke=\"#000000\" stroke-opacity=\"1\" stroke-width=\"3.2\"/>\n",
       "<circle clip-path=\"url(#clip562)\" cx=\"2102.25\" cy=\"1144.3\" r=\"14.4\" fill=\"#009af9\" fill-rule=\"evenodd\" fill-opacity=\"1\" stroke=\"#000000\" stroke-opacity=\"1\" stroke-width=\"3.2\"/>\n",
       "<circle clip-path=\"url(#clip562)\" cx=\"2123.18\" cy=\"843.06\" r=\"14.4\" fill=\"#009af9\" fill-rule=\"evenodd\" fill-opacity=\"1\" stroke=\"#000000\" stroke-opacity=\"1\" stroke-width=\"3.2\"/>\n",
       "<circle clip-path=\"url(#clip562)\" cx=\"2144.11\" cy=\"586.945\" r=\"14.4\" fill=\"#009af9\" fill-rule=\"evenodd\" fill-opacity=\"1\" stroke=\"#000000\" stroke-opacity=\"1\" stroke-width=\"3.2\"/>\n",
       "<circle clip-path=\"url(#clip562)\" cx=\"2165.03\" cy=\"417.441\" r=\"14.4\" fill=\"#009af9\" fill-rule=\"evenodd\" fill-opacity=\"1\" stroke=\"#000000\" stroke-opacity=\"1\" stroke-width=\"3.2\"/>\n",
       "<circle clip-path=\"url(#clip562)\" cx=\"2185.96\" cy=\"334.698\" r=\"14.4\" fill=\"#009af9\" fill-rule=\"evenodd\" fill-opacity=\"1\" stroke=\"#000000\" stroke-opacity=\"1\" stroke-width=\"3.2\"/>\n",
       "<circle clip-path=\"url(#clip562)\" cx=\"2206.89\" cy=\"711.848\" r=\"14.4\" fill=\"#009af9\" fill-rule=\"evenodd\" fill-opacity=\"1\" stroke=\"#000000\" stroke-opacity=\"1\" stroke-width=\"3.2\"/>\n",
       "<circle clip-path=\"url(#clip562)\" cx=\"2227.82\" cy=\"959.62\" r=\"14.4\" fill=\"#009af9\" fill-rule=\"evenodd\" fill-opacity=\"1\" stroke=\"#000000\" stroke-opacity=\"1\" stroke-width=\"3.2\"/>\n",
       "<circle clip-path=\"url(#clip562)\" cx=\"2248.75\" cy=\"1121.79\" r=\"14.4\" fill=\"#009af9\" fill-rule=\"evenodd\" fill-opacity=\"1\" stroke=\"#000000\" stroke-opacity=\"1\" stroke-width=\"3.2\"/>\n",
       "<circle clip-path=\"url(#clip562)\" cx=\"2269.67\" cy=\"987.327\" r=\"14.4\" fill=\"#009af9\" fill-rule=\"evenodd\" fill-opacity=\"1\" stroke=\"#000000\" stroke-opacity=\"1\" stroke-width=\"3.2\"/>\n",
       "<circle clip-path=\"url(#clip562)\" cx=\"2290.6\" cy=\"1039.62\" r=\"14.4\" fill=\"#009af9\" fill-rule=\"evenodd\" fill-opacity=\"1\" stroke=\"#000000\" stroke-opacity=\"1\" stroke-width=\"3.2\"/>\n",
       "</svg>\n"
      ]
     },
     "execution_count": 84,
     "metadata": {},
     "output_type": "execute_result"
    }
   ],
   "source": [
    "scatter(data, label=false)"
   ]
  },
  {
   "cell_type": "code",
   "execution_count": 85,
   "id": "393f655a-c46f-470b-bf24-64d703bb2526",
   "metadata": {},
   "outputs": [
    {
     "data": {
      "image/png": "[encoded data removed]",
      "image/svg+xml": [
       "<?xml version=\"1.0\" encoding=\"utf-8\"?>\n",
       "<svg xmlns=\"http://www.w3.org/2000/svg\" xmlns:xlink=\"http://www.w3.org/1999/xlink\" width=\"600\" height=\"400\" viewBox=\"0 0 2400 1600\">\n",
       "<defs>\n",
       "  <clipPath id=\"clip600\">\n",
       "    <rect x=\"0\" y=\"0\" width=\"2400\" height=\"1600\"/>\n",
       "  </clipPath>\n",
       "</defs>\n",
       "<path clip-path=\"url(#clip600)\" d=\"M0 1600 L2400 1600 L2400 8.88178e-14 L0 8.88178e-14  Z\" fill=\"#ffffff\" fill-rule=\"evenodd\" fill-opacity=\"1\"/>\n",
       "<defs>\n",
       "  <clipPath id=\"clip601\">\n",
       "    <rect x=\"480\" y=\"0\" width=\"1681\" height=\"1600\"/>\n",
       "  </clipPath>\n",
       "</defs>\n",
       "<path clip-path=\"url(#clip600)\" d=\"M140.696 1486.45 L2352.76 1486.45 L2352.76 47.2441 L140.696 47.2441  Z\" fill=\"#ffffff\" fill-rule=\"evenodd\" fill-opacity=\"1\"/>\n",
       "<defs>\n",
       "  <clipPath id=\"clip602\">\n",
       "    <rect x=\"140\" y=\"47\" width=\"2213\" height=\"1440\"/>\n",
       "  </clipPath>\n",
       "</defs>\n",
       "<polyline clip-path=\"url(#clip602)\" style=\"stroke:#000000; stroke-linecap:round; stroke-linejoin:round; stroke-width:2; stroke-opacity:0.1; fill:none\" points=\"262.363,1486.45 262.363,47.2441 \"/>\n",
       "<polyline clip-path=\"url(#clip602)\" style=\"stroke:#000000; stroke-linecap:round; stroke-linejoin:round; stroke-width:2; stroke-opacity:0.1; fill:none\" points=\"754.544,1486.45 754.544,47.2441 \"/>\n",
       "<polyline clip-path=\"url(#clip602)\" style=\"stroke:#000000; stroke-linecap:round; stroke-linejoin:round; stroke-width:2; stroke-opacity:0.1; fill:none\" points=\"1246.73,1486.45 1246.73,47.2441 \"/>\n",
       "<polyline clip-path=\"url(#clip602)\" style=\"stroke:#000000; stroke-linecap:round; stroke-linejoin:round; stroke-width:2; stroke-opacity:0.1; fill:none\" points=\"1738.91,1486.45 1738.91,47.2441 \"/>\n",
       "<polyline clip-path=\"url(#clip602)\" style=\"stroke:#000000; stroke-linecap:round; stroke-linejoin:round; stroke-width:2; stroke-opacity:0.1; fill:none\" points=\"2231.09,1486.45 2231.09,47.2441 \"/>\n",
       "<polyline clip-path=\"url(#clip602)\" style=\"stroke:#000000; stroke-linecap:round; stroke-linejoin:round; stroke-width:2; stroke-opacity:0.1; fill:none\" points=\"140.696,1486.45 2352.76,1486.45 \"/>\n",
       "<polyline clip-path=\"url(#clip602)\" style=\"stroke:#000000; stroke-linecap:round; stroke-linejoin:round; stroke-width:2; stroke-opacity:0.1; fill:none\" points=\"140.696,1173.58 2352.76,1173.58 \"/>\n",
       "<polyline clip-path=\"url(#clip602)\" style=\"stroke:#000000; stroke-linecap:round; stroke-linejoin:round; stroke-width:2; stroke-opacity:0.1; fill:none\" points=\"140.696,860.707 2352.76,860.707 \"/>\n",
       "<polyline clip-path=\"url(#clip602)\" style=\"stroke:#000000; stroke-linecap:round; stroke-linejoin:round; stroke-width:2; stroke-opacity:0.1; fill:none\" points=\"140.696,547.837 2352.76,547.837 \"/>\n",
       "<polyline clip-path=\"url(#clip602)\" style=\"stroke:#000000; stroke-linecap:round; stroke-linejoin:round; stroke-width:2; stroke-opacity:0.1; fill:none\" points=\"140.696,234.966 2352.76,234.966 \"/>\n",
       "<polyline clip-path=\"url(#clip600)\" style=\"stroke:#000000; stroke-linecap:round; stroke-linejoin:round; stroke-width:4; stroke-opacity:1; fill:none\" points=\"140.696,1486.45 2352.76,1486.45 \"/>\n",
       "<polyline clip-path=\"url(#clip600)\" style=\"stroke:#000000; stroke-linecap:round; stroke-linejoin:round; stroke-width:4; stroke-opacity:1; fill:none\" points=\"262.363,1486.45 262.363,1467.55 \"/>\n",
       "<polyline clip-path=\"url(#clip600)\" style=\"stroke:#000000; stroke-linecap:round; stroke-linejoin:round; stroke-width:4; stroke-opacity:1; fill:none\" points=\"754.544,1486.45 754.544,1467.55 \"/>\n",
       "<polyline clip-path=\"url(#clip600)\" style=\"stroke:#000000; stroke-linecap:round; stroke-linejoin:round; stroke-width:4; stroke-opacity:1; fill:none\" points=\"1246.73,1486.45 1246.73,1467.55 \"/>\n",
       "<polyline clip-path=\"url(#clip600)\" style=\"stroke:#000000; stroke-linecap:round; stroke-linejoin:round; stroke-width:4; stroke-opacity:1; fill:none\" points=\"1738.91,1486.45 1738.91,1467.55 \"/>\n",
       "<polyline clip-path=\"url(#clip600)\" style=\"stroke:#000000; stroke-linecap:round; stroke-linejoin:round; stroke-width:4; stroke-opacity:1; fill:none\" points=\"2231.09,1486.45 2231.09,1467.55 \"/>\n",
       "<path clip-path=\"url(#clip600)\" d=\"M224.666 1517.37 Q221.055 1517.37 219.226 1520.93 Q217.421 1524.47 217.421 1531.6 Q217.421 1538.71 219.226 1542.27 Q221.055 1545.82 224.666 1545.82 Q228.3 1545.82 230.106 1542.27 Q231.935 1538.71 231.935 1531.6 Q231.935 1524.47 230.106 1520.93 Q228.3 1517.37 224.666 1517.37 M224.666 1513.66 Q230.476 1513.66 233.532 1518.27 Q236.611 1522.85 236.611 1531.6 Q236.611 1540.33 233.532 1544.94 Q230.476 1549.52 224.666 1549.52 Q218.856 1549.52 215.777 1544.94 Q212.722 1540.33 212.722 1531.6 Q212.722 1522.85 215.777 1518.27 Q218.856 1513.66 224.666 1513.66 Z\" fill=\"#000000\" fill-rule=\"nonzero\" fill-opacity=\"1\" /><path clip-path=\"url(#clip600)\" d=\"M244.828 1542.97 L249.712 1542.97 L249.712 1548.85 L244.828 1548.85 L244.828 1542.97 Z\" fill=\"#000000\" fill-rule=\"nonzero\" fill-opacity=\"1\" /><path clip-path=\"url(#clip600)\" d=\"M269.897 1517.37 Q266.286 1517.37 264.458 1520.93 Q262.652 1524.47 262.652 1531.6 Q262.652 1538.71 264.458 1542.27 Q266.286 1545.82 269.897 1545.82 Q273.532 1545.82 275.337 1542.27 Q277.166 1538.71 277.166 1531.6 Q277.166 1524.47 275.337 1520.93 Q273.532 1517.37 269.897 1517.37 M269.897 1513.66 Q275.708 1513.66 278.763 1518.27 Q281.842 1522.85 281.842 1531.6 Q281.842 1540.33 278.763 1544.94 Q275.708 1549.52 269.897 1549.52 Q264.087 1549.52 261.009 1544.94 Q257.953 1540.33 257.953 1531.6 Q257.953 1522.85 261.009 1518.27 Q264.087 1513.66 269.897 1513.66 Z\" fill=\"#000000\" fill-rule=\"nonzero\" fill-opacity=\"1\" /><path clip-path=\"url(#clip600)\" d=\"M300.059 1517.37 Q296.448 1517.37 294.62 1520.93 Q292.814 1524.47 292.814 1531.6 Q292.814 1538.71 294.62 1542.27 Q296.448 1545.82 300.059 1545.82 Q303.694 1545.82 305.499 1542.27 Q307.328 1538.71 307.328 1531.6 Q307.328 1524.47 305.499 1520.93 Q303.694 1517.37 300.059 1517.37 M300.059 1513.66 Q305.87 1513.66 308.925 1518.27 Q312.004 1522.85 312.004 1531.6 Q312.004 1540.33 308.925 1544.94 Q305.87 1549.52 300.059 1549.52 Q294.249 1549.52 291.171 1544.94 Q288.115 1540.33 288.115 1531.6 Q288.115 1522.85 291.171 1518.27 Q294.249 1513.66 300.059 1513.66 Z\" fill=\"#000000\" fill-rule=\"nonzero\" fill-opacity=\"1\" /><path clip-path=\"url(#clip600)\" d=\"M717.345 1517.37 Q713.734 1517.37 711.906 1520.93 Q710.1 1524.47 710.1 1531.6 Q710.1 1538.71 711.906 1542.27 Q713.734 1545.82 717.345 1545.82 Q720.98 1545.82 722.785 1542.27 Q724.614 1538.71 724.614 1531.6 Q724.614 1524.47 722.785 1520.93 Q720.98 1517.37 717.345 1517.37 M717.345 1513.66 Q723.156 1513.66 726.211 1518.27 Q729.29 1522.85 729.29 1531.6 Q729.29 1540.33 726.211 1544.94 Q723.156 1549.52 717.345 1549.52 Q711.535 1549.52 708.457 1544.94 Q705.401 1540.33 705.401 1531.6 Q705.401 1522.85 708.457 1518.27 Q711.535 1513.66 717.345 1513.66 Z\" fill=\"#000000\" fill-rule=\"nonzero\" fill-opacity=\"1\" /><path clip-path=\"url(#clip600)\" d=\"M737.507 1542.97 L742.392 1542.97 L742.392 1548.85 L737.507 1548.85 L737.507 1542.97 Z\" fill=\"#000000\" fill-rule=\"nonzero\" fill-opacity=\"1\" /><path clip-path=\"url(#clip600)\" d=\"M756.604 1544.91 L772.924 1544.91 L772.924 1548.85 L750.979 1548.85 L750.979 1544.91 Q753.641 1542.16 758.225 1537.53 Q762.831 1532.88 764.012 1531.53 Q766.257 1529.01 767.137 1527.27 Q768.04 1525.51 768.04 1523.82 Q768.04 1521.07 766.095 1519.33 Q764.174 1517.6 761.072 1517.6 Q758.873 1517.6 756.419 1518.36 Q753.989 1519.13 751.211 1520.68 L751.211 1515.95 Q754.035 1514.82 756.489 1514.24 Q758.942 1513.66 760.979 1513.66 Q766.35 1513.66 769.544 1516.35 Q772.739 1519.03 772.739 1523.52 Q772.739 1525.65 771.928 1527.57 Q771.141 1529.47 769.035 1532.07 Q768.456 1532.74 765.354 1535.95 Q762.253 1539.15 756.604 1544.91 Z\" fill=\"#000000\" fill-rule=\"nonzero\" fill-opacity=\"1\" /><path clip-path=\"url(#clip600)\" d=\"M782.785 1514.29 L801.141 1514.29 L801.141 1518.22 L787.067 1518.22 L787.067 1526.7 Q788.086 1526.35 789.104 1526.19 Q790.123 1526 791.141 1526 Q796.928 1526 800.308 1529.17 Q803.688 1532.34 803.688 1537.76 Q803.688 1543.34 800.215 1546.44 Q796.743 1549.52 790.424 1549.52 Q788.248 1549.52 785.979 1549.15 Q783.734 1548.78 781.327 1548.04 L781.327 1543.34 Q783.41 1544.47 785.632 1545.03 Q787.854 1545.58 790.331 1545.58 Q794.336 1545.58 796.674 1543.48 Q799.012 1541.37 799.012 1537.76 Q799.012 1534.15 796.674 1532.04 Q794.336 1529.94 790.331 1529.94 Q788.456 1529.94 786.581 1530.35 Q784.729 1530.77 782.785 1531.65 L782.785 1514.29 Z\" fill=\"#000000\" fill-rule=\"nonzero\" fill-opacity=\"1\" /><path clip-path=\"url(#clip600)\" d=\"M1209.03 1517.37 Q1205.42 1517.37 1203.59 1520.93 Q1201.78 1524.47 1201.78 1531.6 Q1201.78 1538.71 1203.59 1542.27 Q1205.42 1545.82 1209.03 1545.82 Q1212.66 1545.82 1214.47 1542.27 Q1216.3 1538.71 1216.3 1531.6 Q1216.3 1524.47 1214.47 1520.93 Q1212.66 1517.37 1209.03 1517.37 M1209.03 1513.66 Q1214.84 1513.66 1217.89 1518.27 Q1220.97 1522.85 1220.97 1531.6 Q1220.97 1540.33 1217.89 1544.94 Q1214.84 1549.52 1209.03 1549.52 Q1203.22 1549.52 1200.14 1544.94 Q1197.08 1540.33 1197.08 1531.6 Q1197.08 1522.85 1200.14 1518.27 Q1203.22 1513.66 1209.03 1513.66 Z\" fill=\"#000000\" fill-rule=\"nonzero\" fill-opacity=\"1\" /><path clip-path=\"url(#clip600)\" d=\"M1229.19 1542.97 L1234.08 1542.97 L1234.08 1548.85 L1229.19 1548.85 L1229.19 1542.97 Z\" fill=\"#000000\" fill-rule=\"nonzero\" fill-opacity=\"1\" /><path clip-path=\"url(#clip600)\" d=\"M1244.31 1514.29 L1262.66 1514.29 L1262.66 1518.22 L1248.59 1518.22 L1248.59 1526.7 Q1249.61 1526.35 1250.63 1526.19 Q1251.64 1526 1252.66 1526 Q1258.45 1526 1261.83 1529.17 Q1265.21 1532.34 1265.21 1537.76 Q1265.21 1543.34 1261.74 1546.44 Q1258.27 1549.52 1251.95 1549.52 Q1249.77 1549.52 1247.5 1549.15 Q1245.26 1548.78 1242.85 1548.04 L1242.85 1543.34 Q1244.93 1544.47 1247.15 1545.03 Q1249.38 1545.58 1251.85 1545.58 Q1255.86 1545.58 1258.2 1543.48 Q1260.53 1541.37 1260.53 1537.76 Q1260.53 1534.15 1258.2 1532.04 Q1255.86 1529.94 1251.85 1529.94 Q1249.98 1529.94 1248.1 1530.35 Q1246.25 1530.77 1244.31 1531.65 L1244.31 1514.29 Z\" fill=\"#000000\" fill-rule=\"nonzero\" fill-opacity=\"1\" /><path clip-path=\"url(#clip600)\" d=\"M1284.42 1517.37 Q1280.81 1517.37 1278.98 1520.93 Q1277.18 1524.47 1277.18 1531.6 Q1277.18 1538.71 1278.98 1542.27 Q1280.81 1545.82 1284.42 1545.82 Q1288.06 1545.82 1289.86 1542.27 Q1291.69 1538.71 1291.69 1531.6 Q1291.69 1524.47 1289.86 1520.93 Q1288.06 1517.37 1284.42 1517.37 M1284.42 1513.66 Q1290.23 1513.66 1293.29 1518.27 Q1296.37 1522.85 1296.37 1531.6 Q1296.37 1540.33 1293.29 1544.94 Q1290.23 1549.52 1284.42 1549.52 Q1278.61 1549.52 1275.53 1544.94 Q1272.48 1540.33 1272.48 1531.6 Q1272.48 1522.85 1275.53 1518.27 Q1278.61 1513.66 1284.42 1513.66 Z\" fill=\"#000000\" fill-rule=\"nonzero\" fill-opacity=\"1\" /><path clip-path=\"url(#clip600)\" d=\"M1701.71 1517.37 Q1698.1 1517.37 1696.27 1520.93 Q1694.46 1524.47 1694.46 1531.6 Q1694.46 1538.71 1696.27 1542.27 Q1698.1 1545.82 1701.71 1545.82 Q1705.34 1545.82 1707.15 1542.27 Q1708.98 1538.71 1708.98 1531.6 Q1708.98 1524.47 1707.15 1520.93 Q1705.34 1517.37 1701.71 1517.37 M1701.71 1513.66 Q1707.52 1513.66 1710.57 1518.27 Q1713.65 1522.85 1713.65 1531.6 Q1713.65 1540.33 1710.57 1544.94 Q1707.52 1549.52 1701.71 1549.52 Q1695.9 1549.52 1692.82 1544.94 Q1689.76 1540.33 1689.76 1531.6 Q1689.76 1522.85 1692.82 1518.27 Q1695.9 1513.66 1701.71 1513.66 Z\" fill=\"#000000\" fill-rule=\"nonzero\" fill-opacity=\"1\" /><path clip-path=\"url(#clip600)\" d=\"M1721.87 1542.97 L1726.75 1542.97 L1726.75 1548.85 L1721.87 1548.85 L1721.87 1542.97 Z\" fill=\"#000000\" fill-rule=\"nonzero\" fill-opacity=\"1\" /><path clip-path=\"url(#clip600)\" d=\"M1735.76 1514.29 L1757.98 1514.29 L1757.98 1516.28 L1745.43 1548.85 L1740.55 1548.85 L1752.36 1518.22 L1735.76 1518.22 L1735.76 1514.29 Z\" fill=\"#000000\" fill-rule=\"nonzero\" fill-opacity=\"1\" /><path clip-path=\"url(#clip600)\" d=\"M1767.15 1514.29 L1785.5 1514.29 L1785.5 1518.22 L1771.43 1518.22 L1771.43 1526.7 Q1772.45 1526.35 1773.47 1526.19 Q1774.49 1526 1775.5 1526 Q1781.29 1526 1784.67 1529.17 Q1788.05 1532.34 1788.05 1537.76 Q1788.05 1543.34 1784.58 1546.44 Q1781.11 1549.52 1774.79 1549.52 Q1772.61 1549.52 1770.34 1549.15 Q1768.1 1548.78 1765.69 1548.04 L1765.69 1543.34 Q1767.77 1544.47 1769.99 1545.03 Q1772.22 1545.58 1774.69 1545.58 Q1778.7 1545.58 1781.04 1543.48 Q1783.37 1541.37 1783.37 1537.76 Q1783.37 1534.15 1781.04 1532.04 Q1778.7 1529.94 1774.69 1529.94 Q1772.82 1529.94 1770.94 1530.35 Q1769.09 1530.77 1767.15 1531.65 L1767.15 1514.29 Z\" fill=\"#000000\" fill-rule=\"nonzero\" fill-opacity=\"1\" /><path clip-path=\"url(#clip600)\" d=\"M2183.16 1544.91 L2190.8 1544.91 L2190.8 1518.55 L2182.49 1520.21 L2182.49 1515.95 L2190.75 1514.29 L2195.43 1514.29 L2195.43 1544.91 L2203.07 1544.91 L2203.07 1548.85 L2183.16 1548.85 L2183.16 1544.91 Z\" fill=\"#000000\" fill-rule=\"nonzero\" fill-opacity=\"1\" /><path clip-path=\"url(#clip600)\" d=\"M2212.51 1542.97 L2217.4 1542.97 L2217.4 1548.85 L2212.51 1548.85 L2212.51 1542.97 Z\" fill=\"#000000\" fill-rule=\"nonzero\" fill-opacity=\"1\" /><path clip-path=\"url(#clip600)\" d=\"M2237.58 1517.37 Q2233.97 1517.37 2232.14 1520.93 Q2230.34 1524.47 2230.34 1531.6 Q2230.34 1538.71 2232.14 1542.27 Q2233.97 1545.82 2237.58 1545.82 Q2241.22 1545.82 2243.02 1542.27 Q2244.85 1538.71 2244.85 1531.6 Q2244.85 1524.47 2243.02 1520.93 Q2241.22 1517.37 2237.58 1517.37 M2237.58 1513.66 Q2243.39 1513.66 2246.45 1518.27 Q2249.53 1522.85 2249.53 1531.6 Q2249.53 1540.33 2246.45 1544.94 Q2243.39 1549.52 2237.58 1549.52 Q2231.77 1549.52 2228.69 1544.94 Q2225.64 1540.33 2225.64 1531.6 Q2225.64 1522.85 2228.69 1518.27 Q2231.77 1513.66 2237.58 1513.66 Z\" fill=\"#000000\" fill-rule=\"nonzero\" fill-opacity=\"1\" /><path clip-path=\"url(#clip600)\" d=\"M2267.74 1517.37 Q2264.13 1517.37 2262.3 1520.93 Q2260.5 1524.47 2260.5 1531.6 Q2260.5 1538.71 2262.3 1542.27 Q2264.13 1545.82 2267.74 1545.82 Q2271.38 1545.82 2273.18 1542.27 Q2275.01 1538.71 2275.01 1531.6 Q2275.01 1524.47 2273.18 1520.93 Q2271.38 1517.37 2267.74 1517.37 M2267.74 1513.66 Q2273.55 1513.66 2276.61 1518.27 Q2279.69 1522.85 2279.69 1531.6 Q2279.69 1540.33 2276.61 1544.94 Q2273.55 1549.52 2267.74 1549.52 Q2261.93 1549.52 2258.85 1544.94 Q2255.8 1540.33 2255.8 1531.6 Q2255.8 1522.85 2258.85 1518.27 Q2261.93 1513.66 2267.74 1513.66 Z\" fill=\"#000000\" fill-rule=\"nonzero\" fill-opacity=\"1\" /><polyline clip-path=\"url(#clip600)\" style=\"stroke:#000000; stroke-linecap:round; stroke-linejoin:round; stroke-width:4; stroke-opacity:1; fill:none\" points=\"140.696,1486.45 140.696,47.2441 \"/>\n",
       "<polyline clip-path=\"url(#clip600)\" style=\"stroke:#000000; stroke-linecap:round; stroke-linejoin:round; stroke-width:4; stroke-opacity:1; fill:none\" points=\"140.696,1486.45 159.593,1486.45 \"/>\n",
       "<polyline clip-path=\"url(#clip600)\" style=\"stroke:#000000; stroke-linecap:round; stroke-linejoin:round; stroke-width:4; stroke-opacity:1; fill:none\" points=\"140.696,1173.58 159.593,1173.58 \"/>\n",
       "<polyline clip-path=\"url(#clip600)\" style=\"stroke:#000000; stroke-linecap:round; stroke-linejoin:round; stroke-width:4; stroke-opacity:1; fill:none\" points=\"140.696,860.707 159.593,860.707 \"/>\n",
       "<polyline clip-path=\"url(#clip600)\" style=\"stroke:#000000; stroke-linecap:round; stroke-linejoin:round; stroke-width:4; stroke-opacity:1; fill:none\" points=\"140.696,547.837 159.593,547.837 \"/>\n",
       "<polyline clip-path=\"url(#clip600)\" style=\"stroke:#000000; stroke-linecap:round; stroke-linejoin:round; stroke-width:4; stroke-opacity:1; fill:none\" points=\"140.696,234.966 159.593,234.966 \"/>\n",
       "<path clip-path=\"url(#clip600)\" d=\"M92.7512 1472.25 Q89.1401 1472.25 87.3114 1475.81 Q85.5058 1479.35 85.5058 1486.48 Q85.5058 1493.59 87.3114 1497.15 Q89.1401 1500.7 92.7512 1500.7 Q96.3854 1500.7 98.1909 1497.15 Q100.02 1493.59 100.02 1486.48 Q100.02 1479.35 98.1909 1475.81 Q96.3854 1472.25 92.7512 1472.25 M92.7512 1468.54 Q98.5613 1468.54 101.617 1473.15 Q104.696 1477.73 104.696 1486.48 Q104.696 1495.21 101.617 1499.82 Q98.5613 1504.4 92.7512 1504.4 Q86.941 1504.4 83.8623 1499.82 Q80.8068 1495.21 80.8068 1486.48 Q80.8068 1477.73 83.8623 1473.15 Q86.941 1468.54 92.7512 1468.54 Z\" fill=\"#000000\" fill-rule=\"nonzero\" fill-opacity=\"1\" /><path clip-path=\"url(#clip600)\" d=\"M83.7929 1156.3 L102.149 1156.3 L102.149 1160.23 L88.0753 1160.23 L88.0753 1168.7 Q89.0938 1168.36 90.1123 1168.2 Q91.1308 1168.01 92.1493 1168.01 Q97.9363 1168.01 101.316 1171.18 Q104.696 1174.35 104.696 1179.77 Q104.696 1185.35 101.223 1188.45 Q97.7511 1191.53 91.4317 1191.53 Q89.2558 1191.53 86.9873 1191.16 Q84.7419 1190.79 82.3346 1190.05 L82.3346 1185.35 Q84.4179 1186.48 86.6401 1187.04 Q88.8623 1187.59 91.3391 1187.59 Q95.3437 1187.59 97.6817 1185.49 Q100.02 1183.38 100.02 1179.77 Q100.02 1176.16 97.6817 1174.05 Q95.3437 1171.95 91.3391 1171.95 Q89.4641 1171.95 87.5892 1172.36 Q85.7373 1172.78 83.7929 1173.66 L83.7929 1156.3 Z\" fill=\"#000000\" fill-rule=\"nonzero\" fill-opacity=\"1\" /><path clip-path=\"url(#clip600)\" d=\"M53.3995 874.052 L61.0384 874.052 L61.0384 847.686 L52.7282 849.353 L52.7282 845.094 L60.9921 843.427 L65.668 843.427 L65.668 874.052 L73.3068 874.052 L73.3068 877.987 L53.3995 877.987 L53.3995 874.052 Z\" fill=\"#000000\" fill-rule=\"nonzero\" fill-opacity=\"1\" /><path clip-path=\"url(#clip600)\" d=\"M92.7512 846.506 Q89.1401 846.506 87.3114 850.071 Q85.5058 853.612 85.5058 860.742 Q85.5058 867.848 87.3114 871.413 Q89.1401 874.955 92.7512 874.955 Q96.3854 874.955 98.1909 871.413 Q100.02 867.848 100.02 860.742 Q100.02 853.612 98.1909 850.071 Q96.3854 846.506 92.7512 846.506 M92.7512 842.802 Q98.5613 842.802 101.617 847.409 Q104.696 851.992 104.696 860.742 Q104.696 869.469 101.617 874.075 Q98.5613 878.658 92.7512 878.658 Q86.941 878.658 83.8623 874.075 Q80.8068 869.469 80.8068 860.742 Q80.8068 851.992 83.8623 847.409 Q86.941 842.802 92.7512 842.802 Z\" fill=\"#000000\" fill-rule=\"nonzero\" fill-opacity=\"1\" /><path clip-path=\"url(#clip600)\" d=\"M54.3949 561.182 L62.0337 561.182 L62.0337 534.816 L53.7236 536.483 L53.7236 532.223 L61.9874 530.557 L66.6633 530.557 L66.6633 561.182 L74.3022 561.182 L74.3022 565.117 L54.3949 565.117 L54.3949 561.182 Z\" fill=\"#000000\" fill-rule=\"nonzero\" fill-opacity=\"1\" /><path clip-path=\"url(#clip600)\" d=\"M83.7929 530.557 L102.149 530.557 L102.149 534.492 L88.0753 534.492 L88.0753 542.964 Q89.0938 542.617 90.1123 542.455 Q91.1308 542.27 92.1493 542.27 Q97.9363 542.27 101.316 545.441 Q104.696 548.612 104.696 554.029 Q104.696 559.607 101.223 562.709 Q97.7511 565.788 91.4317 565.788 Q89.2558 565.788 86.9873 565.418 Q84.7419 565.047 82.3346 564.307 L82.3346 559.607 Q84.4179 560.742 86.6401 561.297 Q88.8623 561.853 91.3391 561.853 Q95.3437 561.853 97.6817 559.746 Q100.02 557.64 100.02 554.029 Q100.02 550.418 97.6817 548.311 Q95.3437 546.205 91.3391 546.205 Q89.4641 546.205 87.5892 546.621 Q85.7373 547.038 83.7929 547.918 L83.7929 530.557 Z\" fill=\"#000000\" fill-rule=\"nonzero\" fill-opacity=\"1\" /><path clip-path=\"url(#clip600)\" d=\"M56.6171 248.311 L72.9365 248.311 L72.9365 252.246 L50.9921 252.246 L50.9921 248.311 Q53.6541 245.557 58.2375 240.927 Q62.8439 236.274 64.0245 234.932 Q66.2698 232.408 67.1494 230.672 Q68.0522 228.913 68.0522 227.223 Q68.0522 224.469 66.1078 222.733 Q64.1865 220.996 61.0847 220.996 Q58.8856 220.996 56.4319 221.76 Q54.0014 222.524 51.2236 224.075 L51.2236 219.353 Q54.0477 218.219 56.5014 217.64 Q58.955 217.061 60.9921 217.061 Q66.3624 217.061 69.5568 219.747 Q72.7513 222.432 72.7513 226.922 Q72.7513 229.052 71.9411 230.973 Q71.1541 232.871 69.0476 235.464 Q68.4689 236.135 65.367 239.353 Q62.2652 242.547 56.6171 248.311 Z\" fill=\"#000000\" fill-rule=\"nonzero\" fill-opacity=\"1\" /><path clip-path=\"url(#clip600)\" d=\"M92.7512 220.765 Q89.1401 220.765 87.3114 224.33 Q85.5058 227.871 85.5058 235.001 Q85.5058 242.107 87.3114 245.672 Q89.1401 249.214 92.7512 249.214 Q96.3854 249.214 98.1909 245.672 Q100.02 242.107 100.02 235.001 Q100.02 227.871 98.1909 224.33 Q96.3854 220.765 92.7512 220.765 M92.7512 217.061 Q98.5613 217.061 101.617 221.668 Q104.696 226.251 104.696 235.001 Q104.696 243.728 101.617 248.334 Q98.5613 252.918 92.7512 252.918 Q86.941 252.918 83.8623 248.334 Q80.8068 243.728 80.8068 235.001 Q80.8068 226.251 83.8623 221.668 Q86.941 217.061 92.7512 217.061 Z\" fill=\"#000000\" fill-rule=\"nonzero\" fill-opacity=\"1\" /><path clip-path=\"url(#clip602)\" d=\"M262.363 297.54 L262.363 1486.45 L656.108 1486.45 L656.108 297.54 L262.363 297.54 L262.363 297.54  Z\" fill=\"#009af9\" fill-rule=\"evenodd\" fill-opacity=\"1\"/>\n",
       "<polyline clip-path=\"url(#clip602)\" style=\"stroke:#000000; stroke-linecap:round; stroke-linejoin:round; stroke-width:4; stroke-opacity:1; fill:none\" points=\"262.363,297.54 262.363,1486.45 656.108,1486.45 656.108,297.54 262.363,297.54 \"/>\n",
       "<path clip-path=\"url(#clip602)\" d=\"M656.108 360.114 L656.108 1486.45 L1049.85 1486.45 L1049.85 360.114 L656.108 360.114 L656.108 360.114  Z\" fill=\"#009af9\" fill-rule=\"evenodd\" fill-opacity=\"1\"/>\n",
       "<polyline clip-path=\"url(#clip602)\" style=\"stroke:#000000; stroke-linecap:round; stroke-linejoin:round; stroke-width:4; stroke-opacity:1; fill:none\" points=\"656.108,360.114 656.108,1486.45 1049.85,1486.45 1049.85,360.114 656.108,360.114 \"/>\n",
       "<path clip-path=\"url(#clip602)\" d=\"M1049.85 47.2441 L1049.85 1486.45 L1443.6 1486.45 L1443.6 47.2441 L1049.85 47.2441 L1049.85 47.2441  Z\" fill=\"#009af9\" fill-rule=\"evenodd\" fill-opacity=\"1\"/>\n",
       "<polyline clip-path=\"url(#clip602)\" style=\"stroke:#000000; stroke-linecap:round; stroke-linejoin:round; stroke-width:4; stroke-opacity:1; fill:none\" points=\"1049.85,47.2441 1049.85,1486.45 1443.6,1486.45 1443.6,47.2441 1049.85,47.2441 \"/>\n",
       "<path clip-path=\"url(#clip602)\" d=\"M1443.6 47.2441 L1443.6 1486.45 L1837.34 1486.45 L1837.34 47.2441 L1443.6 47.2441 L1443.6 47.2441  Z\" fill=\"#009af9\" fill-rule=\"evenodd\" fill-opacity=\"1\"/>\n",
       "<polyline clip-path=\"url(#clip602)\" style=\"stroke:#000000; stroke-linecap:round; stroke-linejoin:round; stroke-width:4; stroke-opacity:1; fill:none\" points=\"1443.6,47.2441 1443.6,1486.45 1837.34,1486.45 1837.34,47.2441 1443.6,47.2441 \"/>\n",
       "<path clip-path=\"url(#clip602)\" d=\"M1837.34 422.689 L1837.34 1486.45 L2231.09 1486.45 L2231.09 422.689 L1837.34 422.689 L1837.34 422.689  Z\" fill=\"#009af9\" fill-rule=\"evenodd\" fill-opacity=\"1\"/>\n",
       "<polyline clip-path=\"url(#clip602)\" style=\"stroke:#000000; stroke-linecap:round; stroke-linejoin:round; stroke-width:4; stroke-opacity:1; fill:none\" points=\"1837.34,422.689 1837.34,1486.45 2231.09,1486.45 2231.09,422.689 1837.34,422.689 \"/>\n",
       "<circle clip-path=\"url(#clip602)\" style=\"fill:#009af9; stroke:none; fill-opacity:0\" cx=\"459.235\" cy=\"297.54\" r=\"2\"/>\n",
       "<circle clip-path=\"url(#clip602)\" style=\"fill:#009af9; stroke:none; fill-opacity:0\" cx=\"852.981\" cy=\"360.114\" r=\"2\"/>\n",
       "<circle clip-path=\"url(#clip602)\" style=\"fill:#009af9; stroke:none; fill-opacity:0\" cx=\"1246.73\" cy=\"47.2441\" r=\"2\"/>\n",
       "<circle clip-path=\"url(#clip602)\" style=\"fill:#009af9; stroke:none; fill-opacity:0\" cx=\"1640.47\" cy=\"47.2441\" r=\"2\"/>\n",
       "<circle clip-path=\"url(#clip602)\" style=\"fill:#009af9; stroke:none; fill-opacity:0\" cx=\"2034.22\" cy=\"422.689\" r=\"2\"/>\n",
       "</svg>\n"
      ],
      "text/html": [
       "<?xml version=\"1.0\" encoding=\"utf-8\"?>\n",
       "<svg xmlns=\"http://www.w3.org/2000/svg\" xmlns:xlink=\"http://www.w3.org/1999/xlink\" width=\"600\" height=\"400\" viewBox=\"0 0 2400 1600\">\n",
       "<defs>\n",
       "  <clipPath id=\"clip650\">\n",
       "    <rect x=\"0\" y=\"0\" width=\"2400\" height=\"1600\"/>\n",
       "  </clipPath>\n",
       "</defs>\n",
       "<path clip-path=\"url(#clip650)\" d=\"M0 1600 L2400 1600 L2400 8.88178e-14 L0 8.88178e-14  Z\" fill=\"#ffffff\" fill-rule=\"evenodd\" fill-opacity=\"1\"/>\n",
       "<defs>\n",
       "  <clipPath id=\"clip651\">\n",
       "    <rect x=\"480\" y=\"0\" width=\"1681\" height=\"1600\"/>\n",
       "  </clipPath>\n",
       "</defs>\n",
       "<path clip-path=\"url(#clip650)\" d=\"M140.696 1486.45 L2352.76 1486.45 L2352.76 47.2441 L140.696 47.2441  Z\" fill=\"#ffffff\" fill-rule=\"evenodd\" fill-opacity=\"1\"/>\n",
       "<defs>\n",
       "  <clipPath id=\"clip652\">\n",
       "    <rect x=\"140\" y=\"47\" width=\"2213\" height=\"1440\"/>\n",
       "  </clipPath>\n",
       "</defs>\n",
       "<polyline clip-path=\"url(#clip652)\" style=\"stroke:#000000; stroke-linecap:round; stroke-linejoin:round; stroke-width:2; stroke-opacity:0.1; fill:none\" points=\"262.363,1486.45 262.363,47.2441 \"/>\n",
       "<polyline clip-path=\"url(#clip652)\" style=\"stroke:#000000; stroke-linecap:round; stroke-linejoin:round; stroke-width:2; stroke-opacity:0.1; fill:none\" points=\"754.544,1486.45 754.544,47.2441 \"/>\n",
       "<polyline clip-path=\"url(#clip652)\" style=\"stroke:#000000; stroke-linecap:round; stroke-linejoin:round; stroke-width:2; stroke-opacity:0.1; fill:none\" points=\"1246.73,1486.45 1246.73,47.2441 \"/>\n",
       "<polyline clip-path=\"url(#clip652)\" style=\"stroke:#000000; stroke-linecap:round; stroke-linejoin:round; stroke-width:2; stroke-opacity:0.1; fill:none\" points=\"1738.91,1486.45 1738.91,47.2441 \"/>\n",
       "<polyline clip-path=\"url(#clip652)\" style=\"stroke:#000000; stroke-linecap:round; stroke-linejoin:round; stroke-width:2; stroke-opacity:0.1; fill:none\" points=\"2231.09,1486.45 2231.09,47.2441 \"/>\n",
       "<polyline clip-path=\"url(#clip652)\" style=\"stroke:#000000; stroke-linecap:round; stroke-linejoin:round; stroke-width:2; stroke-opacity:0.1; fill:none\" points=\"140.696,1486.45 2352.76,1486.45 \"/>\n",
       "<polyline clip-path=\"url(#clip652)\" style=\"stroke:#000000; stroke-linecap:round; stroke-linejoin:round; stroke-width:2; stroke-opacity:0.1; fill:none\" points=\"140.696,1173.58 2352.76,1173.58 \"/>\n",
       "<polyline clip-path=\"url(#clip652)\" style=\"stroke:#000000; stroke-linecap:round; stroke-linejoin:round; stroke-width:2; stroke-opacity:0.1; fill:none\" points=\"140.696,860.707 2352.76,860.707 \"/>\n",
       "<polyline clip-path=\"url(#clip652)\" style=\"stroke:#000000; stroke-linecap:round; stroke-linejoin:round; stroke-width:2; stroke-opacity:0.1; fill:none\" points=\"140.696,547.837 2352.76,547.837 \"/>\n",
       "<polyline clip-path=\"url(#clip652)\" style=\"stroke:#000000; stroke-linecap:round; stroke-linejoin:round; stroke-width:2; stroke-opacity:0.1; fill:none\" points=\"140.696,234.966 2352.76,234.966 \"/>\n",
       "<polyline clip-path=\"url(#clip650)\" style=\"stroke:#000000; stroke-linecap:round; stroke-linejoin:round; stroke-width:4; stroke-opacity:1; fill:none\" points=\"140.696,1486.45 2352.76,1486.45 \"/>\n",
       "<polyline clip-path=\"url(#clip650)\" style=\"stroke:#000000; stroke-linecap:round; stroke-linejoin:round; stroke-width:4; stroke-opacity:1; fill:none\" points=\"262.363,1486.45 262.363,1467.55 \"/>\n",
       "<polyline clip-path=\"url(#clip650)\" style=\"stroke:#000000; stroke-linecap:round; stroke-linejoin:round; stroke-width:4; stroke-opacity:1; fill:none\" points=\"754.544,1486.45 754.544,1467.55 \"/>\n",
       "<polyline clip-path=\"url(#clip650)\" style=\"stroke:#000000; stroke-linecap:round; stroke-linejoin:round; stroke-width:4; stroke-opacity:1; fill:none\" points=\"1246.73,1486.45 1246.73,1467.55 \"/>\n",
       "<polyline clip-path=\"url(#clip650)\" style=\"stroke:#000000; stroke-linecap:round; stroke-linejoin:round; stroke-width:4; stroke-opacity:1; fill:none\" points=\"1738.91,1486.45 1738.91,1467.55 \"/>\n",
       "<polyline clip-path=\"url(#clip650)\" style=\"stroke:#000000; stroke-linecap:round; stroke-linejoin:round; stroke-width:4; stroke-opacity:1; fill:none\" points=\"2231.09,1486.45 2231.09,1467.55 \"/>\n",
       "<path clip-path=\"url(#clip650)\" d=\"M224.666 1517.37 Q221.055 1517.37 219.226 1520.93 Q217.421 1524.47 217.421 1531.6 Q217.421 1538.71 219.226 1542.27 Q221.055 1545.82 224.666 1545.82 Q228.3 1545.82 230.106 1542.27 Q231.935 1538.71 231.935 1531.6 Q231.935 1524.47 230.106 1520.93 Q228.3 1517.37 224.666 1517.37 M224.666 1513.66 Q230.476 1513.66 233.532 1518.27 Q236.611 1522.85 236.611 1531.6 Q236.611 1540.33 233.532 1544.94 Q230.476 1549.52 224.666 1549.52 Q218.856 1549.52 215.777 1544.94 Q212.722 1540.33 212.722 1531.6 Q212.722 1522.85 215.777 1518.27 Q218.856 1513.66 224.666 1513.66 Z\" fill=\"#000000\" fill-rule=\"nonzero\" fill-opacity=\"1\" /><path clip-path=\"url(#clip650)\" d=\"M244.828 1542.97 L249.712 1542.97 L249.712 1548.85 L244.828 1548.85 L244.828 1542.97 Z\" fill=\"#000000\" fill-rule=\"nonzero\" fill-opacity=\"1\" /><path clip-path=\"url(#clip650)\" d=\"M269.897 1517.37 Q266.286 1517.37 264.458 1520.93 Q262.652 1524.47 262.652 1531.6 Q262.652 1538.71 264.458 1542.27 Q266.286 1545.82 269.897 1545.82 Q273.532 1545.82 275.337 1542.27 Q277.166 1538.71 277.166 1531.6 Q277.166 1524.47 275.337 1520.93 Q273.532 1517.37 269.897 1517.37 M269.897 1513.66 Q275.708 1513.66 278.763 1518.27 Q281.842 1522.85 281.842 1531.6 Q281.842 1540.33 278.763 1544.94 Q275.708 1549.52 269.897 1549.52 Q264.087 1549.52 261.009 1544.94 Q257.953 1540.33 257.953 1531.6 Q257.953 1522.85 261.009 1518.27 Q264.087 1513.66 269.897 1513.66 Z\" fill=\"#000000\" fill-rule=\"nonzero\" fill-opacity=\"1\" /><path clip-path=\"url(#clip650)\" d=\"M300.059 1517.37 Q296.448 1517.37 294.62 1520.93 Q292.814 1524.47 292.814 1531.6 Q292.814 1538.71 294.62 1542.27 Q296.448 1545.82 300.059 1545.82 Q303.694 1545.82 305.499 1542.27 Q307.328 1538.71 307.328 1531.6 Q307.328 1524.47 305.499 1520.93 Q303.694 1517.37 300.059 1517.37 M300.059 1513.66 Q305.87 1513.66 308.925 1518.27 Q312.004 1522.85 312.004 1531.6 Q312.004 1540.33 308.925 1544.94 Q305.87 1549.52 300.059 1549.52 Q294.249 1549.52 291.171 1544.94 Q288.115 1540.33 288.115 1531.6 Q288.115 1522.85 291.171 1518.27 Q294.249 1513.66 300.059 1513.66 Z\" fill=\"#000000\" fill-rule=\"nonzero\" fill-opacity=\"1\" /><path clip-path=\"url(#clip650)\" d=\"M717.345 1517.37 Q713.734 1517.37 711.906 1520.93 Q710.1 1524.47 710.1 1531.6 Q710.1 1538.71 711.906 1542.27 Q713.734 1545.82 717.345 1545.82 Q720.98 1545.82 722.785 1542.27 Q724.614 1538.71 724.614 1531.6 Q724.614 1524.47 722.785 1520.93 Q720.98 1517.37 717.345 1517.37 M717.345 1513.66 Q723.156 1513.66 726.211 1518.27 Q729.29 1522.85 729.29 1531.6 Q729.29 1540.33 726.211 1544.94 Q723.156 1549.52 717.345 1549.52 Q711.535 1549.52 708.457 1544.94 Q705.401 1540.33 705.401 1531.6 Q705.401 1522.85 708.457 1518.27 Q711.535 1513.66 717.345 1513.66 Z\" fill=\"#000000\" fill-rule=\"nonzero\" fill-opacity=\"1\" /><path clip-path=\"url(#clip650)\" d=\"M737.507 1542.97 L742.392 1542.97 L742.392 1548.85 L737.507 1548.85 L737.507 1542.97 Z\" fill=\"#000000\" fill-rule=\"nonzero\" fill-opacity=\"1\" /><path clip-path=\"url(#clip650)\" d=\"M756.604 1544.91 L772.924 1544.91 L772.924 1548.85 L750.979 1548.85 L750.979 1544.91 Q753.641 1542.16 758.225 1537.53 Q762.831 1532.88 764.012 1531.53 Q766.257 1529.01 767.137 1527.27 Q768.04 1525.51 768.04 1523.82 Q768.04 1521.07 766.095 1519.33 Q764.174 1517.6 761.072 1517.6 Q758.873 1517.6 756.419 1518.36 Q753.989 1519.13 751.211 1520.68 L751.211 1515.95 Q754.035 1514.82 756.489 1514.24 Q758.942 1513.66 760.979 1513.66 Q766.35 1513.66 769.544 1516.35 Q772.739 1519.03 772.739 1523.52 Q772.739 1525.65 771.928 1527.57 Q771.141 1529.47 769.035 1532.07 Q768.456 1532.74 765.354 1535.95 Q762.253 1539.15 756.604 1544.91 Z\" fill=\"#000000\" fill-rule=\"nonzero\" fill-opacity=\"1\" /><path clip-path=\"url(#clip650)\" d=\"M782.785 1514.29 L801.141 1514.29 L801.141 1518.22 L787.067 1518.22 L787.067 1526.7 Q788.086 1526.35 789.104 1526.19 Q790.123 1526 791.141 1526 Q796.928 1526 800.308 1529.17 Q803.688 1532.34 803.688 1537.76 Q803.688 1543.34 800.215 1546.44 Q796.743 1549.52 790.424 1549.52 Q788.248 1549.52 785.979 1549.15 Q783.734 1548.78 781.327 1548.04 L781.327 1543.34 Q783.41 1544.47 785.632 1545.03 Q787.854 1545.58 790.331 1545.58 Q794.336 1545.58 796.674 1543.48 Q799.012 1541.37 799.012 1537.76 Q799.012 1534.15 796.674 1532.04 Q794.336 1529.94 790.331 1529.94 Q788.456 1529.94 786.581 1530.35 Q784.729 1530.77 782.785 1531.65 L782.785 1514.29 Z\" fill=\"#000000\" fill-rule=\"nonzero\" fill-opacity=\"1\" /><path clip-path=\"url(#clip650)\" d=\"M1209.03 1517.37 Q1205.42 1517.37 1203.59 1520.93 Q1201.78 1524.47 1201.78 1531.6 Q1201.78 1538.71 1203.59 1542.27 Q1205.42 1545.82 1209.03 1545.82 Q1212.66 1545.82 1214.47 1542.27 Q1216.3 1538.71 1216.3 1531.6 Q1216.3 1524.47 1214.47 1520.93 Q1212.66 1517.37 1209.03 1517.37 M1209.03 1513.66 Q1214.84 1513.66 1217.89 1518.27 Q1220.97 1522.85 1220.97 1531.6 Q1220.97 1540.33 1217.89 1544.94 Q1214.84 1549.52 1209.03 1549.52 Q1203.22 1549.52 1200.14 1544.94 Q1197.08 1540.33 1197.08 1531.6 Q1197.08 1522.85 1200.14 1518.27 Q1203.22 1513.66 1209.03 1513.66 Z\" fill=\"#000000\" fill-rule=\"nonzero\" fill-opacity=\"1\" /><path clip-path=\"url(#clip650)\" d=\"M1229.19 1542.97 L1234.08 1542.97 L1234.08 1548.85 L1229.19 1548.85 L1229.19 1542.97 Z\" fill=\"#000000\" fill-rule=\"nonzero\" fill-opacity=\"1\" /><path clip-path=\"url(#clip650)\" d=\"M1244.31 1514.29 L1262.66 1514.29 L1262.66 1518.22 L1248.59 1518.22 L1248.59 1526.7 Q1249.61 1526.35 1250.63 1526.19 Q1251.64 1526 1252.66 1526 Q1258.45 1526 1261.83 1529.17 Q1265.21 1532.34 1265.21 1537.76 Q1265.21 1543.34 1261.74 1546.44 Q1258.27 1549.52 1251.95 1549.52 Q1249.77 1549.52 1247.5 1549.15 Q1245.26 1548.78 1242.85 1548.04 L1242.85 1543.34 Q1244.93 1544.47 1247.15 1545.03 Q1249.38 1545.58 1251.85 1545.58 Q1255.86 1545.58 1258.2 1543.48 Q1260.53 1541.37 1260.53 1537.76 Q1260.53 1534.15 1258.2 1532.04 Q1255.86 1529.94 1251.85 1529.94 Q1249.98 1529.94 1248.1 1530.35 Q1246.25 1530.77 1244.31 1531.65 L1244.31 1514.29 Z\" fill=\"#000000\" fill-rule=\"nonzero\" fill-opacity=\"1\" /><path clip-path=\"url(#clip650)\" d=\"M1284.42 1517.37 Q1280.81 1517.37 1278.98 1520.93 Q1277.18 1524.47 1277.18 1531.6 Q1277.18 1538.71 1278.98 1542.27 Q1280.81 1545.82 1284.42 1545.82 Q1288.06 1545.82 1289.86 1542.27 Q1291.69 1538.71 1291.69 1531.6 Q1291.69 1524.47 1289.86 1520.93 Q1288.06 1517.37 1284.42 1517.37 M1284.42 1513.66 Q1290.23 1513.66 1293.29 1518.27 Q1296.37 1522.85 1296.37 1531.6 Q1296.37 1540.33 1293.29 1544.94 Q1290.23 1549.52 1284.42 1549.52 Q1278.61 1549.52 1275.53 1544.94 Q1272.48 1540.33 1272.48 1531.6 Q1272.48 1522.85 1275.53 1518.27 Q1278.61 1513.66 1284.42 1513.66 Z\" fill=\"#000000\" fill-rule=\"nonzero\" fill-opacity=\"1\" /><path clip-path=\"url(#clip650)\" d=\"M1701.71 1517.37 Q1698.1 1517.37 1696.27 1520.93 Q1694.46 1524.47 1694.46 1531.6 Q1694.46 1538.71 1696.27 1542.27 Q1698.1 1545.82 1701.71 1545.82 Q1705.34 1545.82 1707.15 1542.27 Q1708.98 1538.71 1708.98 1531.6 Q1708.98 1524.47 1707.15 1520.93 Q1705.34 1517.37 1701.71 1517.37 M1701.71 1513.66 Q1707.52 1513.66 1710.57 1518.27 Q1713.65 1522.85 1713.65 1531.6 Q1713.65 1540.33 1710.57 1544.94 Q1707.52 1549.52 1701.71 1549.52 Q1695.9 1549.52 1692.82 1544.94 Q1689.76 1540.33 1689.76 1531.6 Q1689.76 1522.85 1692.82 1518.27 Q1695.9 1513.66 1701.71 1513.66 Z\" fill=\"#000000\" fill-rule=\"nonzero\" fill-opacity=\"1\" /><path clip-path=\"url(#clip650)\" d=\"M1721.87 1542.97 L1726.75 1542.97 L1726.75 1548.85 L1721.87 1548.85 L1721.87 1542.97 Z\" fill=\"#000000\" fill-rule=\"nonzero\" fill-opacity=\"1\" /><path clip-path=\"url(#clip650)\" d=\"M1735.76 1514.29 L1757.98 1514.29 L1757.98 1516.28 L1745.43 1548.85 L1740.55 1548.85 L1752.36 1518.22 L1735.76 1518.22 L1735.76 1514.29 Z\" fill=\"#000000\" fill-rule=\"nonzero\" fill-opacity=\"1\" /><path clip-path=\"url(#clip650)\" d=\"M1767.15 1514.29 L1785.5 1514.29 L1785.5 1518.22 L1771.43 1518.22 L1771.43 1526.7 Q1772.45 1526.35 1773.47 1526.19 Q1774.49 1526 1775.5 1526 Q1781.29 1526 1784.67 1529.17 Q1788.05 1532.34 1788.05 1537.76 Q1788.05 1543.34 1784.58 1546.44 Q1781.11 1549.52 1774.79 1549.52 Q1772.61 1549.52 1770.34 1549.15 Q1768.1 1548.78 1765.69 1548.04 L1765.69 1543.34 Q1767.77 1544.47 1769.99 1545.03 Q1772.22 1545.58 1774.69 1545.58 Q1778.7 1545.58 1781.04 1543.48 Q1783.37 1541.37 1783.37 1537.76 Q1783.37 1534.15 1781.04 1532.04 Q1778.7 1529.94 1774.69 1529.94 Q1772.82 1529.94 1770.94 1530.35 Q1769.09 1530.77 1767.15 1531.65 L1767.15 1514.29 Z\" fill=\"#000000\" fill-rule=\"nonzero\" fill-opacity=\"1\" /><path clip-path=\"url(#clip650)\" d=\"M2183.16 1544.91 L2190.8 1544.91 L2190.8 1518.55 L2182.49 1520.21 L2182.49 1515.95 L2190.75 1514.29 L2195.43 1514.29 L2195.43 1544.91 L2203.07 1544.91 L2203.07 1548.85 L2183.16 1548.85 L2183.16 1544.91 Z\" fill=\"#000000\" fill-rule=\"nonzero\" fill-opacity=\"1\" /><path clip-path=\"url(#clip650)\" d=\"M2212.51 1542.97 L2217.4 1542.97 L2217.4 1548.85 L2212.51 1548.85 L2212.51 1542.97 Z\" fill=\"#000000\" fill-rule=\"nonzero\" fill-opacity=\"1\" /><path clip-path=\"url(#clip650)\" d=\"M2237.58 1517.37 Q2233.97 1517.37 2232.14 1520.93 Q2230.34 1524.47 2230.34 1531.6 Q2230.34 1538.71 2232.14 1542.27 Q2233.97 1545.82 2237.58 1545.82 Q2241.22 1545.82 2243.02 1542.27 Q2244.85 1538.71 2244.85 1531.6 Q2244.85 1524.47 2243.02 1520.93 Q2241.22 1517.37 2237.58 1517.37 M2237.58 1513.66 Q2243.39 1513.66 2246.45 1518.27 Q2249.53 1522.85 2249.53 1531.6 Q2249.53 1540.33 2246.45 1544.94 Q2243.39 1549.52 2237.58 1549.52 Q2231.77 1549.52 2228.69 1544.94 Q2225.64 1540.33 2225.64 1531.6 Q2225.64 1522.85 2228.69 1518.27 Q2231.77 1513.66 2237.58 1513.66 Z\" fill=\"#000000\" fill-rule=\"nonzero\" fill-opacity=\"1\" /><path clip-path=\"url(#clip650)\" d=\"M2267.74 1517.37 Q2264.13 1517.37 2262.3 1520.93 Q2260.5 1524.47 2260.5 1531.6 Q2260.5 1538.71 2262.3 1542.27 Q2264.13 1545.82 2267.74 1545.82 Q2271.38 1545.82 2273.18 1542.27 Q2275.01 1538.71 2275.01 1531.6 Q2275.01 1524.47 2273.18 1520.93 Q2271.38 1517.37 2267.74 1517.37 M2267.74 1513.66 Q2273.55 1513.66 2276.61 1518.27 Q2279.69 1522.85 2279.69 1531.6 Q2279.69 1540.33 2276.61 1544.94 Q2273.55 1549.52 2267.74 1549.52 Q2261.93 1549.52 2258.85 1544.94 Q2255.8 1540.33 2255.8 1531.6 Q2255.8 1522.85 2258.85 1518.27 Q2261.93 1513.66 2267.74 1513.66 Z\" fill=\"#000000\" fill-rule=\"nonzero\" fill-opacity=\"1\" /><polyline clip-path=\"url(#clip650)\" style=\"stroke:#000000; stroke-linecap:round; stroke-linejoin:round; stroke-width:4; stroke-opacity:1; fill:none\" points=\"140.696,1486.45 140.696,47.2441 \"/>\n",
       "<polyline clip-path=\"url(#clip650)\" style=\"stroke:#000000; stroke-linecap:round; stroke-linejoin:round; stroke-width:4; stroke-opacity:1; fill:none\" points=\"140.696,1486.45 159.593,1486.45 \"/>\n",
       "<polyline clip-path=\"url(#clip650)\" style=\"stroke:#000000; stroke-linecap:round; stroke-linejoin:round; stroke-width:4; stroke-opacity:1; fill:none\" points=\"140.696,1173.58 159.593,1173.58 \"/>\n",
       "<polyline clip-path=\"url(#clip650)\" style=\"stroke:#000000; stroke-linecap:round; stroke-linejoin:round; stroke-width:4; stroke-opacity:1; fill:none\" points=\"140.696,860.707 159.593,860.707 \"/>\n",
       "<polyline clip-path=\"url(#clip650)\" style=\"stroke:#000000; stroke-linecap:round; stroke-linejoin:round; stroke-width:4; stroke-opacity:1; fill:none\" points=\"140.696,547.837 159.593,547.837 \"/>\n",
       "<polyline clip-path=\"url(#clip650)\" style=\"stroke:#000000; stroke-linecap:round; stroke-linejoin:round; stroke-width:4; stroke-opacity:1; fill:none\" points=\"140.696,234.966 159.593,234.966 \"/>\n",
       "<path clip-path=\"url(#clip650)\" d=\"M92.7512 1472.25 Q89.1401 1472.25 87.3114 1475.81 Q85.5058 1479.35 85.5058 1486.48 Q85.5058 1493.59 87.3114 1497.15 Q89.1401 1500.7 92.7512 1500.7 Q96.3854 1500.7 98.1909 1497.15 Q100.02 1493.59 100.02 1486.48 Q100.02 1479.35 98.1909 1475.81 Q96.3854 1472.25 92.7512 1472.25 M92.7512 1468.54 Q98.5613 1468.54 101.617 1473.15 Q104.696 1477.73 104.696 1486.48 Q104.696 1495.21 101.617 1499.82 Q98.5613 1504.4 92.7512 1504.4 Q86.941 1504.4 83.8623 1499.82 Q80.8068 1495.21 80.8068 1486.48 Q80.8068 1477.73 83.8623 1473.15 Q86.941 1468.54 92.7512 1468.54 Z\" fill=\"#000000\" fill-rule=\"nonzero\" fill-opacity=\"1\" /><path clip-path=\"url(#clip650)\" d=\"M83.7929 1156.3 L102.149 1156.3 L102.149 1160.23 L88.0753 1160.23 L88.0753 1168.7 Q89.0938 1168.36 90.1123 1168.2 Q91.1308 1168.01 92.1493 1168.01 Q97.9363 1168.01 101.316 1171.18 Q104.696 1174.35 104.696 1179.77 Q104.696 1185.35 101.223 1188.45 Q97.7511 1191.53 91.4317 1191.53 Q89.2558 1191.53 86.9873 1191.16 Q84.7419 1190.79 82.3346 1190.05 L82.3346 1185.35 Q84.4179 1186.48 86.6401 1187.04 Q88.8623 1187.59 91.3391 1187.59 Q95.3437 1187.59 97.6817 1185.49 Q100.02 1183.38 100.02 1179.77 Q100.02 1176.16 97.6817 1174.05 Q95.3437 1171.95 91.3391 1171.95 Q89.4641 1171.95 87.5892 1172.36 Q85.7373 1172.78 83.7929 1173.66 L83.7929 1156.3 Z\" fill=\"#000000\" fill-rule=\"nonzero\" fill-opacity=\"1\" /><path clip-path=\"url(#clip650)\" d=\"M53.3995 874.052 L61.0384 874.052 L61.0384 847.686 L52.7282 849.353 L52.7282 845.094 L60.9921 843.427 L65.668 843.427 L65.668 874.052 L73.3068 874.052 L73.3068 877.987 L53.3995 877.987 L53.3995 874.052 Z\" fill=\"#000000\" fill-rule=\"nonzero\" fill-opacity=\"1\" /><path clip-path=\"url(#clip650)\" d=\"M92.7512 846.506 Q89.1401 846.506 87.3114 850.071 Q85.5058 853.612 85.5058 860.742 Q85.5058 867.848 87.3114 871.413 Q89.1401 874.955 92.7512 874.955 Q96.3854 874.955 98.1909 871.413 Q100.02 867.848 100.02 860.742 Q100.02 853.612 98.1909 850.071 Q96.3854 846.506 92.7512 846.506 M92.7512 842.802 Q98.5613 842.802 101.617 847.409 Q104.696 851.992 104.696 860.742 Q104.696 869.469 101.617 874.075 Q98.5613 878.658 92.7512 878.658 Q86.941 878.658 83.8623 874.075 Q80.8068 869.469 80.8068 860.742 Q80.8068 851.992 83.8623 847.409 Q86.941 842.802 92.7512 842.802 Z\" fill=\"#000000\" fill-rule=\"nonzero\" fill-opacity=\"1\" /><path clip-path=\"url(#clip650)\" d=\"M54.3949 561.182 L62.0337 561.182 L62.0337 534.816 L53.7236 536.483 L53.7236 532.223 L61.9874 530.557 L66.6633 530.557 L66.6633 561.182 L74.3022 561.182 L74.3022 565.117 L54.3949 565.117 L54.3949 561.182 Z\" fill=\"#000000\" fill-rule=\"nonzero\" fill-opacity=\"1\" /><path clip-path=\"url(#clip650)\" d=\"M83.7929 530.557 L102.149 530.557 L102.149 534.492 L88.0753 534.492 L88.0753 542.964 Q89.0938 542.617 90.1123 542.455 Q91.1308 542.27 92.1493 542.27 Q97.9363 542.27 101.316 545.441 Q104.696 548.612 104.696 554.029 Q104.696 559.607 101.223 562.709 Q97.7511 565.788 91.4317 565.788 Q89.2558 565.788 86.9873 565.418 Q84.7419 565.047 82.3346 564.307 L82.3346 559.607 Q84.4179 560.742 86.6401 561.297 Q88.8623 561.853 91.3391 561.853 Q95.3437 561.853 97.6817 559.746 Q100.02 557.64 100.02 554.029 Q100.02 550.418 97.6817 548.311 Q95.3437 546.205 91.3391 546.205 Q89.4641 546.205 87.5892 546.621 Q85.7373 547.038 83.7929 547.918 L83.7929 530.557 Z\" fill=\"#000000\" fill-rule=\"nonzero\" fill-opacity=\"1\" /><path clip-path=\"url(#clip650)\" d=\"M56.6171 248.311 L72.9365 248.311 L72.9365 252.246 L50.9921 252.246 L50.9921 248.311 Q53.6541 245.557 58.2375 240.927 Q62.8439 236.274 64.0245 234.932 Q66.2698 232.408 67.1494 230.672 Q68.0522 228.913 68.0522 227.223 Q68.0522 224.469 66.1078 222.733 Q64.1865 220.996 61.0847 220.996 Q58.8856 220.996 56.4319 221.76 Q54.0014 222.524 51.2236 224.075 L51.2236 219.353 Q54.0477 218.219 56.5014 217.64 Q58.955 217.061 60.9921 217.061 Q66.3624 217.061 69.5568 219.747 Q72.7513 222.432 72.7513 226.922 Q72.7513 229.052 71.9411 230.973 Q71.1541 232.871 69.0476 235.464 Q68.4689 236.135 65.367 239.353 Q62.2652 242.547 56.6171 248.311 Z\" fill=\"#000000\" fill-rule=\"nonzero\" fill-opacity=\"1\" /><path clip-path=\"url(#clip650)\" d=\"M92.7512 220.765 Q89.1401 220.765 87.3114 224.33 Q85.5058 227.871 85.5058 235.001 Q85.5058 242.107 87.3114 245.672 Q89.1401 249.214 92.7512 249.214 Q96.3854 249.214 98.1909 245.672 Q100.02 242.107 100.02 235.001 Q100.02 227.871 98.1909 224.33 Q96.3854 220.765 92.7512 220.765 M92.7512 217.061 Q98.5613 217.061 101.617 221.668 Q104.696 226.251 104.696 235.001 Q104.696 243.728 101.617 248.334 Q98.5613 252.918 92.7512 252.918 Q86.941 252.918 83.8623 248.334 Q80.8068 243.728 80.8068 235.001 Q80.8068 226.251 83.8623 221.668 Q86.941 217.061 92.7512 217.061 Z\" fill=\"#000000\" fill-rule=\"nonzero\" fill-opacity=\"1\" /><path clip-path=\"url(#clip652)\" d=\"M262.363 297.54 L262.363 1486.45 L656.108 1486.45 L656.108 297.54 L262.363 297.54 L262.363 297.54  Z\" fill=\"#009af9\" fill-rule=\"evenodd\" fill-opacity=\"1\"/>\n",
       "<polyline clip-path=\"url(#clip652)\" style=\"stroke:#000000; stroke-linecap:round; stroke-linejoin:round; stroke-width:4; stroke-opacity:1; fill:none\" points=\"262.363,297.54 262.363,1486.45 656.108,1486.45 656.108,297.54 262.363,297.54 \"/>\n",
       "<path clip-path=\"url(#clip652)\" d=\"M656.108 360.114 L656.108 1486.45 L1049.85 1486.45 L1049.85 360.114 L656.108 360.114 L656.108 360.114  Z\" fill=\"#009af9\" fill-rule=\"evenodd\" fill-opacity=\"1\"/>\n",
       "<polyline clip-path=\"url(#clip652)\" style=\"stroke:#000000; stroke-linecap:round; stroke-linejoin:round; stroke-width:4; stroke-opacity:1; fill:none\" points=\"656.108,360.114 656.108,1486.45 1049.85,1486.45 1049.85,360.114 656.108,360.114 \"/>\n",
       "<path clip-path=\"url(#clip652)\" d=\"M1049.85 47.2441 L1049.85 1486.45 L1443.6 1486.45 L1443.6 47.2441 L1049.85 47.2441 L1049.85 47.2441  Z\" fill=\"#009af9\" fill-rule=\"evenodd\" fill-opacity=\"1\"/>\n",
       "<polyline clip-path=\"url(#clip652)\" style=\"stroke:#000000; stroke-linecap:round; stroke-linejoin:round; stroke-width:4; stroke-opacity:1; fill:none\" points=\"1049.85,47.2441 1049.85,1486.45 1443.6,1486.45 1443.6,47.2441 1049.85,47.2441 \"/>\n",
       "<path clip-path=\"url(#clip652)\" d=\"M1443.6 47.2441 L1443.6 1486.45 L1837.34 1486.45 L1837.34 47.2441 L1443.6 47.2441 L1443.6 47.2441  Z\" fill=\"#009af9\" fill-rule=\"evenodd\" fill-opacity=\"1\"/>\n",
       "<polyline clip-path=\"url(#clip652)\" style=\"stroke:#000000; stroke-linecap:round; stroke-linejoin:round; stroke-width:4; stroke-opacity:1; fill:none\" points=\"1443.6,47.2441 1443.6,1486.45 1837.34,1486.45 1837.34,47.2441 1443.6,47.2441 \"/>\n",
       "<path clip-path=\"url(#clip652)\" d=\"M1837.34 422.689 L1837.34 1486.45 L2231.09 1486.45 L2231.09 422.689 L1837.34 422.689 L1837.34 422.689  Z\" fill=\"#009af9\" fill-rule=\"evenodd\" fill-opacity=\"1\"/>\n",
       "<polyline clip-path=\"url(#clip652)\" style=\"stroke:#000000; stroke-linecap:round; stroke-linejoin:round; stroke-width:4; stroke-opacity:1; fill:none\" points=\"1837.34,422.689 1837.34,1486.45 2231.09,1486.45 2231.09,422.689 1837.34,422.689 \"/>\n",
       "<circle clip-path=\"url(#clip652)\" style=\"fill:#009af9; stroke:none; fill-opacity:0\" cx=\"459.235\" cy=\"297.54\" r=\"2\"/>\n",
       "<circle clip-path=\"url(#clip652)\" style=\"fill:#009af9; stroke:none; fill-opacity:0\" cx=\"852.981\" cy=\"360.114\" r=\"2\"/>\n",
       "<circle clip-path=\"url(#clip652)\" style=\"fill:#009af9; stroke:none; fill-opacity:0\" cx=\"1246.73\" cy=\"47.2441\" r=\"2\"/>\n",
       "<circle clip-path=\"url(#clip652)\" style=\"fill:#009af9; stroke:none; fill-opacity:0\" cx=\"1640.47\" cy=\"47.2441\" r=\"2\"/>\n",
       "<circle clip-path=\"url(#clip652)\" style=\"fill:#009af9; stroke:none; fill-opacity:0\" cx=\"2034.22\" cy=\"422.689\" r=\"2\"/>\n",
       "</svg>\n"
      ]
     },
     "execution_count": 85,
     "metadata": {},
     "output_type": "execute_result"
    }
   ],
   "source": [
    "histogram(data, label=false)"
   ]
  },
  {
   "cell_type": "code",
   "execution_count": 86,
   "id": "8ee12ac7-f317-481d-87e5-3c9983c82157",
   "metadata": {},
   "outputs": [
    {
     "data": {
      "text/plain": [
       "0.9869096344568467"
      ]
     },
     "execution_count": 86,
     "metadata": {},
     "output_type": "execute_result"
    }
   ],
   "source": [
    "find_max(data)"
   ]
  },
  {
   "cell_type": "code",
   "execution_count": 87,
   "id": "30538ad5-ad6d-484d-8b95-98bfa33eba1f",
   "metadata": {},
   "outputs": [
    {
     "data": {
      "text/plain": [
       "1.3"
      ]
     },
     "execution_count": 87,
     "metadata": {},
     "output_type": "execute_result"
    }
   ],
   "source": [
    "data[55] = 1.3"
   ]
  },
  {
   "cell_type": "code",
   "execution_count": 88,
   "id": "28c8db02-0074-4139-96b4-18d5930e7a84",
   "metadata": {},
   "outputs": [
    {
     "data": {
      "text/plain": [
       "1.3"
      ]
     },
     "execution_count": 88,
     "metadata": {},
     "output_type": "execute_result"
    }
   ],
   "source": [
    "find_max(data)"
   ]
  },
  {
   "cell_type": "code",
   "execution_count": 89,
   "id": "2f819413-0bf0-413b-87cc-3d45d0bc16ec",
   "metadata": {},
   "outputs": [
    {
     "data": {
      "text/plain": [
       "1.3"
      ]
     },
     "execution_count": 89,
     "metadata": {},
     "output_type": "execute_result"
    }
   ],
   "source": [
    "maximum(data)"
   ]
  },
  {
   "cell_type": "code",
   "execution_count": 90,
   "id": "c1afc9f5-fa77-4ab4-8bc4-9b5f03b017b1",
   "metadata": {},
   "outputs": [
    {
     "data": {
      "text/html": [
       "# 11 methods for generic function <b>maximum</b> from \u001b[90mBase\u001b[39m:<ul><li> maximum(s::<b>BitSet</b>) in Base at <a href=\"https://github.com/JuliaLang/julia/tree/760b2e5b7396f9cc0da5efce0cadd5d1974c4069/base/bitset.jl#L424\" target=\"_blank\">bitset.jl:424</a></li> <li> maximum(r::<b>AbstractUnitRange</b>) in Base at <a href=\"https://github.com/JuliaLang/julia/tree/760b2e5b7396f9cc0da5efce0cadd5d1974c4069/base/range.jl#L851\" target=\"_blank\">range.jl:851</a></li> <li> maximum(r::<b>AbstractRange</b>) in Base at <a href=\"https://github.com/JuliaLang/julia/tree/760b2e5b7396f9cc0da5efce0cadd5d1974c4069/base/range.jl#L853\" target=\"_blank\">range.jl:853</a></li> <li> maximum(D::<b>Diagonal{T, V} where V<:AbstractVector{T}</b>)<i> where T<:Number</i> in LinearAlgebra at <a href=\"file:///Users/julia/.julia/scratchspaces/a66863c6-20e8-4ff4-8a62-49f30b1f605e/agent-cache/default-honeycrisp-HL2F7YQ3XH.0/build/default-honeycrisp-HL2F7YQ3XH-0/julialang/julia-release-1-dot-11/usr/share/julia/stdlib/v1.11/LinearAlgebra/src/diagonal.jl\" target=\"_blank\">/Users/uqjnazar/.julia/juliaup/julia-1.11.5+0.aarch64.apple.darwin14/share/julia/stdlib/v1.11/LinearAlgebra/src/diagonal.jl:170</a></li> <li> maximum(ecdf::<b>StatsBase.ECDF</b>) in StatsBase at <a href=\"file:///Users/uqjnazar/.julia/packages/StatsBase/xgoZ5/src/empirical.jl\" target=\"_blank\">/Users/uqjnazar/.julia/packages/StatsBase/xgoZ5/src/empirical.jl:66</a></li> <li> maximum(B::<b>BitArray</b>) in Base at <a href=\"https://github.com/JuliaLang/julia/tree/760b2e5b7396f9cc0da5efce0cadd5d1974c4069/base/bitarray.jl#L1746\" target=\"_blank\">bitarray.jl:1746</a></li> <li> maximum(a::<b>AbstractArray</b>; <i>dims, kw...</i>) in Base at <a href=\"https://github.com/JuliaLang/julia/tree/760b2e5b7396f9cc0da5efce0cadd5d1974c4069/base/reducedim.jl#L982\" target=\"_blank\">reducedim.jl:982</a></li> <li> maximum(h::<b>DataStructures.BinaryMinMaxHeap</b>) in DataStructures at <a href=\"file:///Users/uqjnazar/.julia/packages/DataStructures/IrAJn/src/heaps/minmax_heap.jl\" target=\"_blank\">/Users/uqjnazar/.julia/packages/DataStructures/IrAJn/src/heaps/minmax_heap.jl:261</a></li> <li> maximum(f, a::<b>AbstractArray</b>; <i>dims, kw...</i>) in Base at <a href=\"https://github.com/JuliaLang/julia/tree/760b2e5b7396f9cc0da5efce0cadd5d1974c4069/base/reducedim.jl#L983\" target=\"_blank\">reducedim.jl:983</a></li> <li> maximum(f, a; <i>kw...</i>) in Base at <a href=\"https://github.com/JuliaLang/julia/tree/760b2e5b7396f9cc0da5efce0cadd5d1974c4069/base/reduce.jl#L702\" target=\"_blank\">reduce.jl:702</a></li> <li> maximum(a; <i>kw...</i>) in Base at <a href=\"https://github.com/JuliaLang/julia/tree/760b2e5b7396f9cc0da5efce0cadd5d1974c4069/base/reduce.jl#L761\" target=\"_blank\">reduce.jl:761</a></li> </ul>"
      ],
      "text/plain": [
       "# 11 methods for generic function \"maximum\" from \u001b[90mBase\u001b[39m:\n",
       "  [1] maximum(\u001b[90ms\u001b[39m::\u001b[1mBitSet\u001b[22m)\n",
       "\u001b[90m     @\u001b[39m \u001b[90m\u001b[4mbitset.jl:424\u001b[24m\u001b[39m\n",
       "  [2] maximum(\u001b[90mr\u001b[39m::\u001b[1mAbstractUnitRange\u001b[22m)\n",
       "\u001b[90m     @\u001b[39m \u001b[90m\u001b[4mrange.jl:851\u001b[24m\u001b[39m\n",
       "  [3] maximum(\u001b[90mr\u001b[39m::\u001b[1mAbstractRange\u001b[22m)\n",
       "\u001b[90m     @\u001b[39m \u001b[90m\u001b[4mrange.jl:853\u001b[24m\u001b[39m\n",
       "  [4] maximum(\u001b[90mD\u001b[39m::\u001b[1mDiagonal\u001b[22m\u001b[0m{T, V} where V<:AbstractVector{T}) where T<:Number\n",
       "\u001b[90m     @\u001b[39m \u001b[32mLinearAlgebra\u001b[39m \u001b[90m~/.julia/juliaup/julia-1.11.5+0.aarch64.apple.darwin14/share/julia/stdlib/v1.11/LinearAlgebra/src/\u001b[39m\u001b[90m\u001b[4mdiagonal.jl:170\u001b[24m\u001b[39m\n",
       "  [5] maximum(\u001b[90mecdf\u001b[39m::\u001b[1mStatsBase.ECDF\u001b[22m)\n",
       "\u001b[90m     @\u001b[39m \u001b[33mStatsBase\u001b[39m \u001b[90m~/.julia/packages/StatsBase/xgoZ5/src/\u001b[39m\u001b[90m\u001b[4mempirical.jl:66\u001b[24m\u001b[39m\n",
       "  [6] maximum(\u001b[90mB\u001b[39m::\u001b[1mBitArray\u001b[22m)\n",
       "\u001b[90m     @\u001b[39m \u001b[90m\u001b[4mbitarray.jl:1746\u001b[24m\u001b[39m\n",
       "  [7] maximum(\u001b[90ma\u001b[39m::\u001b[1mAbstractArray\u001b[22m; dims, kw...)\n",
       "\u001b[90m     @\u001b[39m \u001b[90m\u001b[4mreducedim.jl:982\u001b[24m\u001b[39m\n",
       "  [8] maximum(\u001b[90mh\u001b[39m::\u001b[1mDataStructures.BinaryMinMaxHeap\u001b[22m)\n",
       "\u001b[90m     @\u001b[39m \u001b[35mDataStructures\u001b[39m \u001b[90m~/.julia/packages/DataStructures/IrAJn/src/heaps/\u001b[39m\u001b[90m\u001b[4mminmax_heap.jl:261\u001b[24m\u001b[39m\n",
       "  [9] maximum(\u001b[90mf\u001b[39m, \u001b[90ma\u001b[39m::\u001b[1mAbstractArray\u001b[22m; dims, kw...)\n",
       "\u001b[90m     @\u001b[39m \u001b[90m\u001b[4mreducedim.jl:983\u001b[24m\u001b[39m\n",
       " [10] maximum(\u001b[90mf\u001b[39m, \u001b[90ma\u001b[39m; kw...)\n",
       "\u001b[90m     @\u001b[39m \u001b[90m\u001b[4mreduce.jl:702\u001b[24m\u001b[39m\n",
       " [11] maximum(\u001b[90ma\u001b[39m; kw...)\n",
       "\u001b[90m     @\u001b[39m \u001b[90m\u001b[4mreduce.jl:761\u001b[24m\u001b[39m"
      ]
     },
     "execution_count": 90,
     "metadata": {},
     "output_type": "execute_result"
    }
   ],
   "source": [
    "methods(maximum)"
   ]
  },
  {
   "cell_type": "code",
   "execution_count": 91,
   "id": "426d7f6a-8917-47d0-9cb5-0d07905a0c82",
   "metadata": {},
   "outputs": [
    {
     "data": {
      "text/html": [
       "maximum(a::<b>AbstractArray</b>; <i>dims, kw...</i>) in Base at <a href=\"https://github.com/JuliaLang/julia/tree/760b2e5b7396f9cc0da5efce0cadd5d1974c4069/base/reducedim.jl#L982\" target=\"_blank\">reducedim.jl:982</a>"
      ],
      "text/plain": [
       "maximum(\u001b[90ma\u001b[39m::\u001b[1mAbstractArray\u001b[22m; dims, kw...)\n",
       "\u001b[90m     @\u001b[39m \u001b[90mBase\u001b[39m \u001b[90m\u001b[4mreducedim.jl:982\u001b[24m\u001b[39m"
      ]
     },
     "execution_count": 91,
     "metadata": {},
     "output_type": "execute_result"
    }
   ],
   "source": [
    "@which maximum(data) # @ in Julia is a MACRO"
   ]
  },
  {
   "cell_type": "code",
   "execution_count": 92,
   "id": "ab59cc32-2be5-4359-8ead-c95fbb7bf967",
   "metadata": {},
   "outputs": [
    {
     "data": {
      "text/plain": [
       "6"
      ]
     },
     "execution_count": 92,
     "metadata": {},
     "output_type": "execute_result"
    }
   ],
   "source": [
    "maximum(length, [\"Julion\", \"Julia\", \"Jule\"])"
   ]
  },
  {
   "cell_type": "code",
   "execution_count": 93,
   "id": "e96251d9-1e30-43e6-b6bc-284ee97ffba9",
   "metadata": {},
   "outputs": [
    {
     "data": {
      "text/plain": [
       "6"
      ]
     },
     "execution_count": 93,
     "metadata": {},
     "output_type": "execute_result"
    }
   ],
   "source": [
    "sum([1,2,3])"
   ]
  },
  {
   "cell_type": "code",
   "execution_count": 94,
   "id": "cef52f20-ee20-4d81-85ba-526565b5f3ab",
   "metadata": {},
   "outputs": [
    {
     "data": {
      "text/plain": [
       "4.146264369941973"
      ]
     },
     "execution_count": 94,
     "metadata": {},
     "output_type": "execute_result"
    }
   ],
   "source": [
    "sum(sqrt,[1,2,3])"
   ]
  },
  {
   "cell_type": "code",
   "execution_count": 95,
   "id": "0d35a716-f9ca-41a4-8b22-357231a16566",
   "metadata": {},
   "outputs": [
    {
     "data": {
      "text/html": [
       "sum(a::<b>AbstractArray</b>; <i>dims, kw...</i>) in Base at <a href=\"https://github.com/JuliaLang/julia/tree/760b2e5b7396f9cc0da5efce0cadd5d1974c4069/base/reducedim.jl#L982\" target=\"_blank\">reducedim.jl:982</a>"
      ],
      "text/plain": [
       "sum(\u001b[90ma\u001b[39m::\u001b[1mAbstractArray\u001b[22m; dims, kw...)\n",
       "\u001b[90m     @\u001b[39m \u001b[90mBase\u001b[39m \u001b[90m\u001b[4mreducedim.jl:982\u001b[24m\u001b[39m"
      ]
     },
     "execution_count": 95,
     "metadata": {},
     "output_type": "execute_result"
    }
   ],
   "source": [
    "@which sum([1,2,3])"
   ]
  },
  {
   "cell_type": "code",
   "execution_count": 96,
   "id": "0618baca-033c-43d2-a714-b246b28f288f",
   "metadata": {},
   "outputs": [
    {
     "data": {
      "text/html": [
       "sum(f, a::<b>AbstractArray</b>; <i>dims, kw...</i>) in Base at <a href=\"https://github.com/JuliaLang/julia/tree/760b2e5b7396f9cc0da5efce0cadd5d1974c4069/base/reducedim.jl#L983\" target=\"_blank\">reducedim.jl:983</a>"
      ],
      "text/plain": [
       "sum(\u001b[90mf\u001b[39m, \u001b[90ma\u001b[39m::\u001b[1mAbstractArray\u001b[22m; dims, kw...)\n",
       "\u001b[90m     @\u001b[39m \u001b[90mBase\u001b[39m \u001b[90m\u001b[4mreducedim.jl:983\u001b[24m\u001b[39m"
      ]
     },
     "execution_count": 96,
     "metadata": {},
     "output_type": "execute_result"
    }
   ],
   "source": [
    "@which sum(sqrt,[1,2,3])"
   ]
  },
  {
   "cell_type": "code",
   "execution_count": 97,
   "id": "cdc7bb6b-a219-4b73-a78d-31482c61fbe4",
   "metadata": {},
   "outputs": [
    {
     "data": {
      "text/plain": [
       "(2, 3)"
      ]
     },
     "execution_count": 97,
     "metadata": {},
     "output_type": "execute_result"
    }
   ],
   "source": [
    "(2,3) #this is a tuple"
   ]
  },
  {
   "cell_type": "code",
   "execution_count": 98,
   "id": "04c14966-4998-4611-b889-875de8e1aa78",
   "metadata": {},
   "outputs": [
    {
     "data": {
      "text/plain": [
       "my_fun (generic function with 1 method)"
      ]
     },
     "execution_count": 98,
     "metadata": {},
     "output_type": "execute_result"
    }
   ],
   "source": [
    "function my_fun()\n",
    "    return 2,3\n",
    "end"
   ]
  },
  {
   "cell_type": "code",
   "execution_count": 100,
   "id": "0c3d048a-bbc2-4cad-a953-9f4ec41b375d",
   "metadata": {},
   "outputs": [
    {
     "data": {
      "text/plain": [
       "true"
      ]
     },
     "execution_count": 100,
     "metadata": {},
     "output_type": "execute_result"
    }
   ],
   "source": [
    "my_fun() == (2,3)"
   ]
  },
  {
   "cell_type": "code",
   "execution_count": 101,
   "id": "96f4d321-ab03-42d4-a8e1-7415cd453bba",
   "metadata": {},
   "outputs": [
    {
     "data": {
      "text/plain": [
       "Int64"
      ]
     },
     "execution_count": 101,
     "metadata": {},
     "output_type": "execute_result"
    }
   ],
   "source": [
    "typeof(1)"
   ]
  },
  {
   "cell_type": "code",
   "execution_count": 102,
   "id": "9e61c71b-337f-4788-9457-0abbefb9de2f",
   "metadata": {},
   "outputs": [
    {
     "data": {
      "text/plain": [
       "Float64"
      ]
     },
     "execution_count": 102,
     "metadata": {},
     "output_type": "execute_result"
    }
   ],
   "source": [
    "typeof(1.0)"
   ]
  },
  {
   "cell_type": "code",
   "execution_count": 103,
   "id": "1d313537-2dbf-4d22-b640-78106ec4b476",
   "metadata": {},
   "outputs": [
    {
     "data": {
      "text/plain": [
       "true"
      ]
     },
     "execution_count": 103,
     "metadata": {},
     "output_type": "execute_result"
    }
   ],
   "source": [
    "1 == 1.0"
   ]
  },
  {
   "cell_type": "code",
   "execution_count": 104,
   "id": "3c4dbc3c-1d78-4be1-81f1-5ab8b7944b67",
   "metadata": {},
   "outputs": [
    {
     "data": {
      "text/plain": [
       "false"
      ]
     },
     "execution_count": 104,
     "metadata": {},
     "output_type": "execute_result"
    }
   ],
   "source": [
    "1 === 1.0"
   ]
  },
  {
   "cell_type": "code",
   "execution_count": 105,
   "id": "03d7f702-ec35-4f38-b727-272feac5411c",
   "metadata": {},
   "outputs": [
    {
     "ename": "LoadError",
     "evalue": "syntax: invalid assignment location \"1\" around In[105]:1",
     "output_type": "error",
     "traceback": [
      "syntax: invalid assignment location \"1\" around In[105]:1",
      "",
      "Stacktrace:",
      " [1] top-level scope",
      "   @ In[105]:1"
     ]
    }
   ],
   "source": [
    "1 = 1.0 # <- "
   ]
  },
  {
   "cell_type": "markdown",
   "id": "d0e77175-2367-4f4f-bd13-1167a3cb3c63",
   "metadata": {},
   "source": [
    "Functions can be defined in one line (where appropriate)"
   ]
  },
  {
   "cell_type": "code",
   "execution_count": 106,
   "id": "fae6c878-e76a-415d-aa10-e3ee9946aeae",
   "metadata": {},
   "outputs": [
    {
     "data": {
      "text/plain": [
       "f (generic function with 1 method)"
      ]
     },
     "execution_count": 106,
     "metadata": {},
     "output_type": "execute_result"
    }
   ],
   "source": [
    "f(x) = x^2"
   ]
  },
  {
   "cell_type": "code",
   "execution_count": 107,
   "id": "89179cfa-46f7-433c-afef-3af2526698d7",
   "metadata": {},
   "outputs": [
    {
     "data": {
      "text/plain": [
       "f (generic function with 1 method)"
      ]
     },
     "execution_count": 107,
     "metadata": {},
     "output_type": "execute_result"
    }
   ],
   "source": [
    "function f(x)\n",
    "    return x^2\n",
    "end"
   ]
  },
  {
   "cell_type": "code",
   "execution_count": 108,
   "id": "ef149a0b-35a7-4f3d-9a01-85a58764f6de",
   "metadata": {},
   "outputs": [
    {
     "data": {
      "text/plain": [
       "#1 (generic function with 1 method)"
      ]
     },
     "execution_count": 108,
     "metadata": {},
     "output_type": "execute_result"
    }
   ],
   "source": [
    "(x)->x^2 #This is an annoymous function (Lambda function in Python)"
   ]
  },
  {
   "cell_type": "code",
   "execution_count": 109,
   "id": "7be6569e-0dcd-496c-9352-15ab9ecead88",
   "metadata": {},
   "outputs": [
    {
     "data": {
      "text/plain": [
       "h (generic function with 1 method)"
      ]
     },
     "execution_count": 109,
     "metadata": {},
     "output_type": "execute_result"
    }
   ],
   "source": [
    "h(n) = sum([1/i for i in 1:n])"
   ]
  },
  {
   "cell_type": "code",
   "execution_count": 114,
   "id": "71a340da-3306-4ad6-afd4-0e5a07073229",
   "metadata": {},
   "outputs": [
    {
     "data": {
      "text/plain": [
       "2.9289682539682538"
      ]
     },
     "execution_count": 114,
     "metadata": {},
     "output_type": "execute_result"
    }
   ],
   "source": [
    "h(10)"
   ]
  },
  {
   "cell_type": "code",
   "execution_count": 115,
   "id": "934d5b01-c45a-4ea7-b54b-b908e3e25cb1",
   "metadata": {},
   "outputs": [
    {
     "data": {
      "text/plain": [
       "2.8289682539682537"
      ]
     },
     "execution_count": 115,
     "metadata": {},
     "output_type": "execute_result"
    }
   ],
   "source": [
    "h(9)"
   ]
  },
  {
   "cell_type": "code",
   "execution_count": 116,
   "id": "54904dba-bc06-4eeb-99fa-a1c3df4251e7",
   "metadata": {},
   "outputs": [
    {
     "data": {
      "text/plain": [
       "1.0"
      ]
     },
     "execution_count": 116,
     "metadata": {},
     "output_type": "execute_result"
    }
   ],
   "source": [
    "log(exp(1)) # just doing this so you see it is the natural log"
   ]
  },
  {
   "cell_type": "code",
   "execution_count": 117,
   "id": "8ff058b6-d92d-460c-aec1-c607e3f6bdf5",
   "metadata": {},
   "outputs": [
    {
     "data": {
      "text/plain": [
       "1.0"
      ]
     },
     "execution_count": 117,
     "metadata": {},
     "output_type": "execute_result"
    }
   ],
   "source": [
    "log10(10)"
   ]
  },
  {
   "cell_type": "code",
   "execution_count": 118,
   "id": "f4d0a642-e341-4090-9aa4-c0f80f1bc73c",
   "metadata": {},
   "outputs": [
    {
     "data": {
      "text/plain": [
       "1.0"
      ]
     },
     "execution_count": 118,
     "metadata": {},
     "output_type": "execute_result"
    }
   ],
   "source": [
    "log2(2)"
   ]
  },
  {
   "cell_type": "code",
   "execution_count": 119,
   "id": "2b0c9279-3f22-41da-ad06-65c3e50aa331",
   "metadata": {},
   "outputs": [
    {
     "data": {
      "text/plain": [
       "γ = 0.5772156649015..."
      ]
     },
     "execution_count": 119,
     "metadata": {},
     "output_type": "execute_result"
    }
   ],
   "source": [
    "MathConstants.γ"
   ]
  },
  {
   "cell_type": "code",
   "execution_count": 120,
   "id": "8ea3b4bc-5834-48c0-a111-09f22fac20d9",
   "metadata": {},
   "outputs": [
    {
     "data": {
      "text/plain": [
       "Irrational{:γ}"
      ]
     },
     "execution_count": 120,
     "metadata": {},
     "output_type": "execute_result"
    }
   ],
   "source": [
    "typeof(MathConstants.γ)"
   ]
  },
  {
   "cell_type": "code",
   "execution_count": 121,
   "id": "6f31598c-000b-4cf0-9b5e-6694891b1f8e",
   "metadata": {},
   "outputs": [
    {
     "data": {
      "text/plain": [
       "Irrational{:π}"
      ]
     },
     "execution_count": 121,
     "metadata": {},
     "output_type": "execute_result"
    }
   ],
   "source": [
    "typeof(π)"
   ]
  },
  {
   "cell_type": "code",
   "execution_count": 122,
   "id": "dd895b30-2683-4616-97d6-608a0c099de9",
   "metadata": {},
   "outputs": [
    {
     "data": {
      "text/plain": [
       "π = 3.1415926535897..."
      ]
     },
     "execution_count": 122,
     "metadata": {},
     "output_type": "execute_result"
    }
   ],
   "source": [
    "π"
   ]
  },
  {
   "cell_type": "code",
   "execution_count": 124,
   "id": "5b189981-27fa-4d27-a5d3-4a2e8390fe61",
   "metadata": {},
   "outputs": [
    {
     "data": {
      "text/plain": [
       "3.141592653589793"
      ]
     },
     "execution_count": 124,
     "metadata": {},
     "output_type": "execute_result"
    }
   ],
   "source": [
    "Float64(π)"
   ]
  },
  {
   "cell_type": "code",
   "execution_count": 126,
   "id": "9e74a8b9-1e61-4fbf-af87-777f052c06e7",
   "metadata": {},
   "outputs": [
    {
     "name": "stdout",
     "output_type": "stream",
     "text": [
      "3.14\n"
     ]
    }
   ],
   "source": [
    "Float16(π) |> println"
   ]
  },
  {
   "cell_type": "code",
   "execution_count": 129,
   "id": "778116a2-5dfb-41db-9293-d2231aa1131f",
   "metadata": {},
   "outputs": [
    {
     "data": {
      "text/plain": [
       "22//7"
      ]
     },
     "execution_count": 129,
     "metadata": {},
     "output_type": "execute_result"
    }
   ],
   "source": [
    "22//7  #rational type DO NOT confuse with Python's integer divisiobn"
   ]
  },
  {
   "cell_type": "code",
   "execution_count": 130,
   "id": "900d33b6-2d12-4b23-b9ca-8378decdb7f6",
   "metadata": {},
   "outputs": [
    {
     "data": {
      "text/plain": [
       "Rational{Int64}"
      ]
     },
     "execution_count": 130,
     "metadata": {},
     "output_type": "execute_result"
    }
   ],
   "source": [
    "typeof(22//7)"
   ]
  },
  {
   "cell_type": "code",
   "execution_count": 131,
   "id": "f1723994-7fd4-48c3-a32f-21cbf39d2a13",
   "metadata": {},
   "outputs": [
    {
     "data": {
      "text/plain": [
       "h_approx (generic function with 1 method)"
      ]
     },
     "execution_count": 131,
     "metadata": {},
     "output_type": "execute_result"
    }
   ],
   "source": [
    "h_approx(n) = log(n) + MathConstants.γ"
   ]
  },
  {
   "cell_type": "code",
   "execution_count": 132,
   "id": "49b78f77-7c84-468e-91b6-e5799aacdd37",
   "metadata": {},
   "outputs": [
    {
     "data": {
      "text/plain": [
       "(2.8798007578955787, 2.9289682539682538)"
      ]
     },
     "execution_count": 132,
     "metadata": {},
     "output_type": "execute_result"
    }
   ],
   "source": [
    "h_approx(10), h(10)"
   ]
  },
  {
   "cell_type": "code",
   "execution_count": 138,
   "id": "4e4a6e11-f2b2-4b98-8db0-e1b0b0a4c9b2",
   "metadata": {},
   "outputs": [
    {
     "data": {
      "image/png": "[encoded data removed]",
      "image/svg+xml": [
       "<?xml version=\"1.0\" encoding=\"utf-8\"?>\n",
       "<svg xmlns=\"http://www.w3.org/2000/svg\" xmlns:xlink=\"http://www.w3.org/1999/xlink\" width=\"600\" height=\"400\" viewBox=\"0 0 2400 1600\">\n",
       "<defs>\n",
       "  <clipPath id=\"clip960\">\n",
       "    <rect x=\"0\" y=\"0\" width=\"2400\" height=\"1600\"/>\n",
       "  </clipPath>\n",
       "</defs>\n",
       "<path clip-path=\"url(#clip960)\" d=\"M0 1600 L2400 1600 L2400 8.88178e-14 L0 8.88178e-14  Z\" fill=\"#ffffff\" fill-rule=\"evenodd\" fill-opacity=\"1\"/>\n",
       "<defs>\n",
       "  <clipPath id=\"clip961\">\n",
       "    <rect x=\"480\" y=\"0\" width=\"1681\" height=\"1600\"/>\n",
       "  </clipPath>\n",
       "</defs>\n",
       "<path clip-path=\"url(#clip960)\" d=\"M219.866 1423.18 L2352.76 1423.18 L2352.76 47.2441 L219.866 47.2441  Z\" fill=\"#ffffff\" fill-rule=\"evenodd\" fill-opacity=\"1\"/>\n",
       "<defs>\n",
       "  <clipPath id=\"clip962\">\n",
       "    <rect x=\"219\" y=\"47\" width=\"2134\" height=\"1377\"/>\n",
       "  </clipPath>\n",
       "</defs>\n",
       "<polyline clip-path=\"url(#clip962)\" style=\"stroke:#000000; stroke-linecap:round; stroke-linejoin:round; stroke-width:2; stroke-opacity:0.1; fill:none\" points=\"259.906,1423.18 259.906,47.2441 \"/>\n",
       "<polyline clip-path=\"url(#clip962)\" style=\"stroke:#000000; stroke-linecap:round; stroke-linejoin:round; stroke-width:2; stroke-opacity:0.1; fill:none\" points=\"768.027,1423.18 768.027,47.2441 \"/>\n",
       "<polyline clip-path=\"url(#clip962)\" style=\"stroke:#000000; stroke-linecap:round; stroke-linejoin:round; stroke-width:2; stroke-opacity:0.1; fill:none\" points=\"1276.15,1423.18 1276.15,47.2441 \"/>\n",
       "<polyline clip-path=\"url(#clip962)\" style=\"stroke:#000000; stroke-linecap:round; stroke-linejoin:round; stroke-width:2; stroke-opacity:0.1; fill:none\" points=\"1784.27,1423.18 1784.27,47.2441 \"/>\n",
       "<polyline clip-path=\"url(#clip962)\" style=\"stroke:#000000; stroke-linecap:round; stroke-linejoin:round; stroke-width:2; stroke-opacity:0.1; fill:none\" points=\"2292.39,1423.18 2292.39,47.2441 \"/>\n",
       "<polyline clip-path=\"url(#clip962)\" style=\"stroke:#000000; stroke-linecap:round; stroke-linejoin:round; stroke-width:2; stroke-opacity:0.1; fill:none\" points=\"219.866,1399.75 2352.76,1399.75 \"/>\n",
       "<polyline clip-path=\"url(#clip962)\" style=\"stroke:#000000; stroke-linecap:round; stroke-linejoin:round; stroke-width:2; stroke-opacity:0.1; fill:none\" points=\"219.866,1089.05 2352.76,1089.05 \"/>\n",
       "<polyline clip-path=\"url(#clip962)\" style=\"stroke:#000000; stroke-linecap:round; stroke-linejoin:round; stroke-width:2; stroke-opacity:0.1; fill:none\" points=\"219.866,778.361 2352.76,778.361 \"/>\n",
       "<polyline clip-path=\"url(#clip962)\" style=\"stroke:#000000; stroke-linecap:round; stroke-linejoin:round; stroke-width:2; stroke-opacity:0.1; fill:none\" points=\"219.866,467.668 2352.76,467.668 \"/>\n",
       "<polyline clip-path=\"url(#clip962)\" style=\"stroke:#000000; stroke-linecap:round; stroke-linejoin:round; stroke-width:2; stroke-opacity:0.1; fill:none\" points=\"219.866,156.975 2352.76,156.975 \"/>\n",
       "<polyline clip-path=\"url(#clip960)\" style=\"stroke:#000000; stroke-linecap:round; stroke-linejoin:round; stroke-width:4; stroke-opacity:1; fill:none\" points=\"219.866,1423.18 2352.76,1423.18 \"/>\n",
       "<polyline clip-path=\"url(#clip960)\" style=\"stroke:#000000; stroke-linecap:round; stroke-linejoin:round; stroke-width:4; stroke-opacity:1; fill:none\" points=\"259.906,1423.18 259.906,1404.28 \"/>\n",
       "<polyline clip-path=\"url(#clip960)\" style=\"stroke:#000000; stroke-linecap:round; stroke-linejoin:round; stroke-width:4; stroke-opacity:1; fill:none\" points=\"768.027,1423.18 768.027,1404.28 \"/>\n",
       "<polyline clip-path=\"url(#clip960)\" style=\"stroke:#000000; stroke-linecap:round; stroke-linejoin:round; stroke-width:4; stroke-opacity:1; fill:none\" points=\"1276.15,1423.18 1276.15,1404.28 \"/>\n",
       "<polyline clip-path=\"url(#clip960)\" style=\"stroke:#000000; stroke-linecap:round; stroke-linejoin:round; stroke-width:4; stroke-opacity:1; fill:none\" points=\"1784.27,1423.18 1784.27,1404.28 \"/>\n",
       "<polyline clip-path=\"url(#clip960)\" style=\"stroke:#000000; stroke-linecap:round; stroke-linejoin:round; stroke-width:4; stroke-opacity:1; fill:none\" points=\"2292.39,1423.18 2292.39,1404.28 \"/>\n",
       "<path clip-path=\"url(#clip960)\" d=\"M259.906 1454.1 Q256.295 1454.1 254.466 1457.66 Q252.661 1461.2 252.661 1468.33 Q252.661 1475.44 254.466 1479.01 Q256.295 1482.55 259.906 1482.55 Q263.54 1482.55 265.346 1479.01 Q267.175 1475.44 267.175 1468.33 Q267.175 1461.2 265.346 1457.66 Q263.54 1454.1 259.906 1454.1 M259.906 1450.39 Q265.716 1450.39 268.772 1455 Q271.851 1459.58 271.851 1468.33 Q271.851 1477.06 268.772 1481.67 Q265.716 1486.25 259.906 1486.25 Q254.096 1486.25 251.017 1481.67 Q247.962 1477.06 247.962 1468.33 Q247.962 1459.58 251.017 1455 Q254.096 1450.39 259.906 1450.39 Z\" fill=\"#000000\" fill-rule=\"nonzero\" fill-opacity=\"1\" /><path clip-path=\"url(#clip960)\" d=\"M747.298 1481.64 L763.618 1481.64 L763.618 1485.58 L741.673 1485.58 L741.673 1481.64 Q744.335 1478.89 748.919 1474.26 Q753.525 1469.61 754.706 1468.27 Q756.951 1465.74 757.831 1464.01 Q758.734 1462.25 758.734 1460.56 Q758.734 1457.8 756.789 1456.07 Q754.868 1454.33 751.766 1454.33 Q749.567 1454.33 747.113 1455.09 Q744.683 1455.86 741.905 1457.41 L741.905 1452.69 Q744.729 1451.55 747.183 1450.97 Q749.636 1450.39 751.673 1450.39 Q757.044 1450.39 760.238 1453.08 Q763.433 1455.77 763.433 1460.26 Q763.433 1462.39 762.622 1464.31 Q761.835 1466.2 759.729 1468.8 Q759.15 1469.47 756.048 1472.69 Q752.947 1475.88 747.298 1481.64 Z\" fill=\"#000000\" fill-rule=\"nonzero\" fill-opacity=\"1\" /><path clip-path=\"url(#clip960)\" d=\"M773.479 1451.02 L791.835 1451.02 L791.835 1454.96 L777.761 1454.96 L777.761 1463.43 Q778.78 1463.08 779.798 1462.92 Q780.817 1462.73 781.835 1462.73 Q787.622 1462.73 791.002 1465.9 Q794.381 1469.08 794.381 1474.49 Q794.381 1480.07 790.909 1483.17 Q787.437 1486.25 781.118 1486.25 Q778.942 1486.25 776.673 1485.88 Q774.428 1485.51 772.02 1484.77 L772.02 1480.07 Q774.104 1481.2 776.326 1481.76 Q778.548 1482.32 781.025 1482.32 Q785.03 1482.32 787.368 1480.21 Q789.706 1478.1 789.706 1474.49 Q789.706 1470.88 787.368 1468.77 Q785.03 1466.67 781.025 1466.67 Q779.15 1466.67 777.275 1467.08 Q775.423 1467.5 773.479 1468.38 L773.479 1451.02 Z\" fill=\"#000000\" fill-rule=\"nonzero\" fill-opacity=\"1\" /><path clip-path=\"url(#clip960)\" d=\"M1250.85 1451.02 L1269.2 1451.02 L1269.2 1454.96 L1255.13 1454.96 L1255.13 1463.43 Q1256.15 1463.08 1257.17 1462.92 Q1258.19 1462.73 1259.2 1462.73 Q1264.99 1462.73 1268.37 1465.9 Q1271.75 1469.08 1271.75 1474.49 Q1271.75 1480.07 1268.28 1483.17 Q1264.81 1486.25 1258.49 1486.25 Q1256.31 1486.25 1254.04 1485.88 Q1251.8 1485.51 1249.39 1484.77 L1249.39 1480.07 Q1251.47 1481.2 1253.7 1481.76 Q1255.92 1482.32 1258.39 1482.32 Q1262.4 1482.32 1264.74 1480.21 Q1267.07 1478.1 1267.07 1474.49 Q1267.07 1470.88 1264.74 1468.77 Q1262.4 1466.67 1258.39 1466.67 Q1256.52 1466.67 1254.64 1467.08 Q1252.79 1467.5 1250.85 1468.38 L1250.85 1451.02 Z\" fill=\"#000000\" fill-rule=\"nonzero\" fill-opacity=\"1\" /><path clip-path=\"url(#clip960)\" d=\"M1290.96 1454.1 Q1287.35 1454.1 1285.52 1457.66 Q1283.72 1461.2 1283.72 1468.33 Q1283.72 1475.44 1285.52 1479.01 Q1287.35 1482.55 1290.96 1482.55 Q1294.6 1482.55 1296.4 1479.01 Q1298.23 1475.44 1298.23 1468.33 Q1298.23 1461.2 1296.4 1457.66 Q1294.6 1454.1 1290.96 1454.1 M1290.96 1450.39 Q1296.77 1450.39 1299.83 1455 Q1302.91 1459.58 1302.91 1468.33 Q1302.91 1477.06 1299.83 1481.67 Q1296.77 1486.25 1290.96 1486.25 Q1285.15 1486.25 1282.07 1481.67 Q1279.02 1477.06 1279.02 1468.33 Q1279.02 1459.58 1282.07 1455 Q1285.15 1450.39 1290.96 1450.39 Z\" fill=\"#000000\" fill-rule=\"nonzero\" fill-opacity=\"1\" /><path clip-path=\"url(#clip960)\" d=\"M1758.12 1451.02 L1780.35 1451.02 L1780.35 1453.01 L1767.8 1485.58 L1762.92 1485.58 L1774.72 1454.96 L1758.12 1454.96 L1758.12 1451.02 Z\" fill=\"#000000\" fill-rule=\"nonzero\" fill-opacity=\"1\" /><path clip-path=\"url(#clip960)\" d=\"M1789.51 1451.02 L1807.87 1451.02 L1807.87 1454.96 L1793.8 1454.96 L1793.8 1463.43 Q1794.81 1463.08 1795.83 1462.92 Q1796.85 1462.73 1797.87 1462.73 Q1803.66 1462.73 1807.04 1465.9 Q1810.42 1469.08 1810.42 1474.49 Q1810.42 1480.07 1806.94 1483.17 Q1803.47 1486.25 1797.15 1486.25 Q1794.98 1486.25 1792.71 1485.88 Q1790.46 1485.51 1788.05 1484.77 L1788.05 1480.07 Q1790.14 1481.2 1792.36 1481.76 Q1794.58 1482.32 1797.06 1482.32 Q1801.06 1482.32 1803.4 1480.21 Q1805.74 1478.1 1805.74 1474.49 Q1805.74 1470.88 1803.4 1468.77 Q1801.06 1466.67 1797.06 1466.67 Q1795.18 1466.67 1793.31 1467.08 Q1791.46 1467.5 1789.51 1468.38 L1789.51 1451.02 Z\" fill=\"#000000\" fill-rule=\"nonzero\" fill-opacity=\"1\" /><path clip-path=\"url(#clip960)\" d=\"M2252 1481.64 L2259.64 1481.64 L2259.64 1455.28 L2251.33 1456.95 L2251.33 1452.69 L2259.59 1451.02 L2264.27 1451.02 L2264.27 1481.64 L2271.91 1481.64 L2271.91 1485.58 L2252 1485.58 L2252 1481.64 Z\" fill=\"#000000\" fill-rule=\"nonzero\" fill-opacity=\"1\" /><path clip-path=\"url(#clip960)\" d=\"M2291.35 1454.1 Q2287.74 1454.1 2285.91 1457.66 Q2284.1 1461.2 2284.1 1468.33 Q2284.1 1475.44 2285.91 1479.01 Q2287.74 1482.55 2291.35 1482.55 Q2294.98 1482.55 2296.79 1479.01 Q2298.62 1475.44 2298.62 1468.33 Q2298.62 1461.2 2296.79 1457.66 Q2294.98 1454.1 2291.35 1454.1 M2291.35 1450.39 Q2297.16 1450.39 2300.22 1455 Q2303.29 1459.58 2303.29 1468.33 Q2303.29 1477.06 2300.22 1481.67 Q2297.16 1486.25 2291.35 1486.25 Q2285.54 1486.25 2282.46 1481.67 Q2279.41 1477.06 2279.41 1468.33 Q2279.41 1459.58 2282.46 1455 Q2285.54 1450.39 2291.35 1450.39 Z\" fill=\"#000000\" fill-rule=\"nonzero\" fill-opacity=\"1\" /><path clip-path=\"url(#clip960)\" d=\"M2321.51 1454.1 Q2317.9 1454.1 2316.07 1457.66 Q2314.27 1461.2 2314.27 1468.33 Q2314.27 1475.44 2316.07 1479.01 Q2317.9 1482.55 2321.51 1482.55 Q2325.15 1482.55 2326.95 1479.01 Q2328.78 1475.44 2328.78 1468.33 Q2328.78 1461.2 2326.95 1457.66 Q2325.15 1454.1 2321.51 1454.1 M2321.51 1450.39 Q2327.32 1450.39 2330.38 1455 Q2333.46 1459.58 2333.46 1468.33 Q2333.46 1477.06 2330.38 1481.67 Q2327.32 1486.25 2321.51 1486.25 Q2315.7 1486.25 2312.62 1481.67 Q2309.57 1477.06 2309.57 1468.33 Q2309.57 1459.58 2312.62 1455 Q2315.7 1450.39 2321.51 1450.39 Z\" fill=\"#000000\" fill-rule=\"nonzero\" fill-opacity=\"1\" /><path clip-path=\"url(#clip960)\" d=\"M1301.24 1546.53 L1301.24 1568.04 L1295.38 1568.04 L1295.38 1546.72 Q1295.38 1541.66 1293.41 1539.14 Q1291.44 1536.63 1287.49 1536.63 Q1282.75 1536.63 1280.01 1539.65 Q1277.27 1542.68 1277.27 1547.9 L1277.27 1568.04 L1271.38 1568.04 L1271.38 1532.4 L1277.27 1532.4 L1277.27 1537.93 Q1279.37 1534.72 1282.21 1533.13 Q1285.07 1531.54 1288.79 1531.54 Q1294.94 1531.54 1298.09 1535.36 Q1301.24 1539.14 1301.24 1546.53 Z\" fill=\"#000000\" fill-rule=\"nonzero\" fill-opacity=\"1\" /><polyline clip-path=\"url(#clip960)\" style=\"stroke:#000000; stroke-linecap:round; stroke-linejoin:round; stroke-width:4; stroke-opacity:1; fill:none\" points=\"219.866,1423.18 219.866,47.2441 \"/>\n",
       "<polyline clip-path=\"url(#clip960)\" style=\"stroke:#000000; stroke-linecap:round; stroke-linejoin:round; stroke-width:4; stroke-opacity:1; fill:none\" points=\"219.866,1399.75 238.764,1399.75 \"/>\n",
       "<polyline clip-path=\"url(#clip960)\" style=\"stroke:#000000; stroke-linecap:round; stroke-linejoin:round; stroke-width:4; stroke-opacity:1; fill:none\" points=\"219.866,1089.05 238.764,1089.05 \"/>\n",
       "<polyline clip-path=\"url(#clip960)\" style=\"stroke:#000000; stroke-linecap:round; stroke-linejoin:round; stroke-width:4; stroke-opacity:1; fill:none\" points=\"219.866,778.361 238.764,778.361 \"/>\n",
       "<polyline clip-path=\"url(#clip960)\" style=\"stroke:#000000; stroke-linecap:round; stroke-linejoin:round; stroke-width:4; stroke-opacity:1; fill:none\" points=\"219.866,467.668 238.764,467.668 \"/>\n",
       "<polyline clip-path=\"url(#clip960)\" style=\"stroke:#000000; stroke-linecap:round; stroke-linejoin:round; stroke-width:4; stroke-opacity:1; fill:none\" points=\"219.866,156.975 238.764,156.975 \"/>\n",
       "<path clip-path=\"url(#clip960)\" d=\"M126.691 1385.55 Q123.08 1385.55 121.251 1389.11 Q119.445 1392.65 119.445 1399.78 Q119.445 1406.89 121.251 1410.45 Q123.08 1413.99 126.691 1413.99 Q130.325 1413.99 132.13 1410.45 Q133.959 1406.89 133.959 1399.78 Q133.959 1392.65 132.13 1389.11 Q130.325 1385.55 126.691 1385.55 M126.691 1381.84 Q132.501 1381.84 135.556 1386.45 Q138.635 1391.03 138.635 1399.78 Q138.635 1408.51 135.556 1413.12 Q132.501 1417.7 126.691 1417.7 Q120.88 1417.7 117.802 1413.12 Q114.746 1408.51 114.746 1399.78 Q114.746 1391.03 117.802 1386.45 Q120.88 1381.84 126.691 1381.84 Z\" fill=\"#000000\" fill-rule=\"nonzero\" fill-opacity=\"1\" /><path clip-path=\"url(#clip960)\" d=\"M146.853 1411.15 L151.737 1411.15 L151.737 1417.03 L146.853 1417.03 L146.853 1411.15 Z\" fill=\"#000000\" fill-rule=\"nonzero\" fill-opacity=\"1\" /><path clip-path=\"url(#clip960)\" d=\"M171.922 1385.55 Q168.311 1385.55 166.482 1389.11 Q164.677 1392.65 164.677 1399.78 Q164.677 1406.89 166.482 1410.45 Q168.311 1413.99 171.922 1413.99 Q175.556 1413.99 177.362 1410.45 Q179.19 1406.89 179.19 1399.78 Q179.19 1392.65 177.362 1389.11 Q175.556 1385.55 171.922 1385.55 M171.922 1381.84 Q177.732 1381.84 180.788 1386.45 Q183.866 1391.03 183.866 1399.78 Q183.866 1408.51 180.788 1413.12 Q177.732 1417.7 171.922 1417.7 Q166.112 1417.7 163.033 1413.12 Q159.978 1408.51 159.978 1399.78 Q159.978 1391.03 163.033 1386.45 Q166.112 1381.84 171.922 1381.84 Z\" fill=\"#000000\" fill-rule=\"nonzero\" fill-opacity=\"1\" /><path clip-path=\"url(#clip960)\" d=\"M127.917 1074.85 Q124.306 1074.85 122.478 1078.42 Q120.672 1081.96 120.672 1089.09 Q120.672 1096.2 122.478 1099.76 Q124.306 1103.3 127.917 1103.3 Q131.552 1103.3 133.357 1099.76 Q135.186 1096.2 135.186 1089.09 Q135.186 1081.96 133.357 1078.42 Q131.552 1074.85 127.917 1074.85 M127.917 1071.15 Q133.728 1071.15 136.783 1075.76 Q139.862 1080.34 139.862 1089.09 Q139.862 1097.82 136.783 1102.42 Q133.728 1107.01 127.917 1107.01 Q122.107 1107.01 119.029 1102.42 Q115.973 1097.82 115.973 1089.09 Q115.973 1080.34 119.029 1075.76 Q122.107 1071.15 127.917 1071.15 Z\" fill=\"#000000\" fill-rule=\"nonzero\" fill-opacity=\"1\" /><path clip-path=\"url(#clip960)\" d=\"M148.079 1100.45 L152.964 1100.45 L152.964 1106.33 L148.079 1106.33 L148.079 1100.45 Z\" fill=\"#000000\" fill-rule=\"nonzero\" fill-opacity=\"1\" /><path clip-path=\"url(#clip960)\" d=\"M163.959 1102.4 L171.598 1102.4 L171.598 1076.03 L163.288 1077.7 L163.288 1073.44 L171.552 1071.77 L176.227 1071.77 L176.227 1102.4 L183.866 1102.4 L183.866 1106.33 L163.959 1106.33 L163.959 1102.4 Z\" fill=\"#000000\" fill-rule=\"nonzero\" fill-opacity=\"1\" /><path clip-path=\"url(#clip960)\" d=\"M128.288 764.16 Q124.677 764.16 122.848 767.724 Q121.043 771.266 121.043 778.396 Q121.043 785.502 122.848 789.067 Q124.677 792.609 128.288 792.609 Q131.922 792.609 133.728 789.067 Q135.556 785.502 135.556 778.396 Q135.556 771.266 133.728 767.724 Q131.922 764.16 128.288 764.16 M128.288 760.456 Q134.098 760.456 137.154 765.062 Q140.232 769.646 140.232 778.396 Q140.232 787.123 137.154 791.729 Q134.098 796.312 128.288 796.312 Q122.478 796.312 119.399 791.729 Q116.343 787.123 116.343 778.396 Q116.343 769.646 119.399 765.062 Q122.478 760.456 128.288 760.456 Z\" fill=\"#000000\" fill-rule=\"nonzero\" fill-opacity=\"1\" /><path clip-path=\"url(#clip960)\" d=\"M148.45 789.761 L153.334 789.761 L153.334 795.641 L148.45 795.641 L148.45 789.761 Z\" fill=\"#000000\" fill-rule=\"nonzero\" fill-opacity=\"1\" /><path clip-path=\"url(#clip960)\" d=\"M167.547 791.706 L183.866 791.706 L183.866 795.641 L161.922 795.641 L161.922 791.706 Q164.584 788.951 169.167 784.322 Q173.774 779.669 174.954 778.326 Q177.2 775.803 178.079 774.067 Q178.982 772.308 178.982 770.618 Q178.982 767.863 177.038 766.127 Q175.116 764.391 172.014 764.391 Q169.815 764.391 167.362 765.155 Q164.931 765.919 162.153 767.47 L162.153 762.748 Q164.977 761.613 167.431 761.035 Q169.885 760.456 171.922 760.456 Q177.292 760.456 180.487 763.141 Q183.681 765.826 183.681 770.317 Q183.681 772.447 182.871 774.368 Q182.084 776.266 179.977 778.859 Q179.399 779.53 176.297 782.748 Q173.195 785.942 167.547 791.706 Z\" fill=\"#000000\" fill-rule=\"nonzero\" fill-opacity=\"1\" /><path clip-path=\"url(#clip960)\" d=\"M127.339 453.467 Q123.728 453.467 121.899 457.031 Q120.093 460.573 120.093 467.703 Q120.093 474.809 121.899 478.374 Q123.728 481.916 127.339 481.916 Q130.973 481.916 132.779 478.374 Q134.607 474.809 134.607 467.703 Q134.607 460.573 132.779 457.031 Q130.973 453.467 127.339 453.467 M127.339 449.763 Q133.149 449.763 136.204 454.369 Q139.283 458.953 139.283 467.703 Q139.283 476.43 136.204 481.036 Q133.149 485.619 127.339 485.619 Q121.529 485.619 118.45 481.036 Q115.394 476.43 115.394 467.703 Q115.394 458.953 118.45 454.369 Q121.529 449.763 127.339 449.763 Z\" fill=\"#000000\" fill-rule=\"nonzero\" fill-opacity=\"1\" /><path clip-path=\"url(#clip960)\" d=\"M147.501 479.068 L152.385 479.068 L152.385 484.948 L147.501 484.948 L147.501 479.068 Z\" fill=\"#000000\" fill-rule=\"nonzero\" fill-opacity=\"1\" /><path clip-path=\"url(#clip960)\" d=\"M176.737 466.314 Q180.093 467.031 181.968 469.3 Q183.866 471.568 183.866 474.902 Q183.866 480.017 180.348 482.818 Q176.829 485.619 170.348 485.619 Q168.172 485.619 165.857 485.179 Q163.565 484.763 161.112 483.906 L161.112 479.392 Q163.056 480.527 165.371 481.105 Q167.686 481.684 170.209 481.684 Q174.607 481.684 176.899 479.948 Q179.214 478.212 179.214 474.902 Q179.214 471.846 177.061 470.133 Q174.931 468.397 171.112 468.397 L167.084 468.397 L167.084 464.555 L171.297 464.555 Q174.746 464.555 176.575 463.189 Q178.403 461.8 178.403 459.207 Q178.403 456.545 176.505 455.133 Q174.63 453.698 171.112 453.698 Q169.19 453.698 166.991 454.115 Q164.792 454.532 162.153 455.411 L162.153 451.244 Q164.815 450.504 167.13 450.133 Q169.468 449.763 171.528 449.763 Q176.852 449.763 179.954 452.194 Q183.056 454.601 183.056 458.721 Q183.056 461.592 181.413 463.582 Q179.769 465.55 176.737 466.314 Z\" fill=\"#000000\" fill-rule=\"nonzero\" fill-opacity=\"1\" /><path clip-path=\"url(#clip960)\" d=\"M126.205 142.774 Q122.593 142.774 120.765 146.338 Q118.959 149.88 118.959 157.01 Q118.959 164.116 120.765 167.681 Q122.593 171.223 126.205 171.223 Q129.839 171.223 131.644 167.681 Q133.473 164.116 133.473 157.01 Q133.473 149.88 131.644 146.338 Q129.839 142.774 126.205 142.774 M126.205 139.07 Q132.015 139.07 135.07 143.676 Q138.149 148.26 138.149 157.01 Q138.149 165.737 135.07 170.343 Q132.015 174.926 126.205 174.926 Q120.394 174.926 117.316 170.343 Q114.26 165.737 114.26 157.01 Q114.26 148.26 117.316 143.676 Q120.394 139.07 126.205 139.07 Z\" fill=\"#000000\" fill-rule=\"nonzero\" fill-opacity=\"1\" /><path clip-path=\"url(#clip960)\" d=\"M146.366 168.375 L151.251 168.375 L151.251 174.255 L146.366 174.255 L146.366 168.375 Z\" fill=\"#000000\" fill-rule=\"nonzero\" fill-opacity=\"1\" /><path clip-path=\"url(#clip960)\" d=\"M174.283 143.769 L162.477 162.218 L174.283 162.218 L174.283 143.769 M173.056 139.695 L178.936 139.695 L178.936 162.218 L183.866 162.218 L183.866 166.107 L178.936 166.107 L178.936 174.255 L174.283 174.255 L174.283 166.107 L158.681 166.107 L158.681 161.593 L173.056 139.695 Z\" fill=\"#000000\" fill-rule=\"nonzero\" fill-opacity=\"1\" /><path clip-path=\"url(#clip960)\" d=\"M46.0847 861.73 Q46.0847 868.828 47.7079 871.565 Q49.3312 874.303 53.2461 874.303 Q56.3653 874.303 58.2114 872.266 Q60.0256 870.197 60.0256 866.664 Q60.0256 861.794 56.5881 858.866 Q53.1188 855.906 47.3897 855.906 L46.0847 855.906 L46.0847 861.73 M43.6657 850.049 L64.0042 850.049 L64.0042 855.906 L58.5933 855.906 Q61.8398 857.911 63.3994 860.903 Q64.9272 863.895 64.9272 868.223 Q64.9272 873.698 61.8716 876.944 Q58.7843 880.159 53.6281 880.159 Q47.6125 880.159 44.5569 876.149 Q41.5014 872.106 41.5014 864.118 L41.5014 855.906 L40.9285 855.906 Q36.8862 855.906 34.6901 858.579 Q32.4621 861.221 32.4621 866.027 Q32.4621 869.083 33.1941 871.979 Q33.9262 874.876 35.3903 877.549 L29.9795 877.549 Q28.7381 874.334 28.1334 871.311 Q27.4968 868.287 27.4968 865.422 Q27.4968 857.688 31.5072 853.869 Q35.5176 850.049 43.6657 850.049 Z\" fill=\"#000000\" fill-rule=\"nonzero\" fill-opacity=\"1\" /><path clip-path=\"url(#clip960)\" d=\"M46.212 812.396 Q39.7508 812.396 36.0905 815.07 Q32.3984 817.712 32.3984 822.358 Q32.3984 827.005 36.0905 829.679 Q39.7508 832.321 46.212 832.321 Q52.6732 832.321 56.3653 829.679 Q60.0256 827.005 60.0256 822.358 Q60.0256 817.712 56.3653 815.07 Q52.6732 812.396 46.212 812.396 M33.7671 832.321 Q30.5842 830.475 29.0564 827.674 Q27.4968 824.841 27.4968 820.926 Q27.4968 814.433 32.6531 810.391 Q37.8093 806.317 46.212 806.317 Q54.6147 806.317 59.771 810.391 Q64.9272 814.433 64.9272 820.926 Q64.9272 824.841 63.3994 827.674 Q61.8398 830.475 58.657 832.321 L64.0042 832.321 L64.0042 838.209 L14.479 838.209 L14.479 832.321 L33.7671 832.321 Z\" fill=\"#000000\" fill-rule=\"nonzero\" fill-opacity=\"1\" /><path clip-path=\"url(#clip960)\" d=\"M29.4065 773.884 L34.9447 773.884 Q33.6716 776.366 33.035 779.04 Q32.3984 781.713 32.3984 784.578 Q32.3984 788.939 33.7352 791.135 Q35.072 793.299 37.7456 793.299 Q39.7826 793.299 40.9603 791.739 Q42.1061 790.18 43.1565 785.469 L43.6021 783.464 Q44.9389 777.226 47.3897 774.616 Q49.8086 771.974 54.1691 771.974 Q59.1344 771.974 62.0308 775.921 Q64.9272 779.836 64.9272 786.711 Q64.9272 789.575 64.3543 792.694 Q63.8132 795.782 62.6992 799.219 L56.6518 799.219 Q58.3387 795.973 59.198 792.822 Q60.0256 789.671 60.0256 786.583 Q60.0256 782.446 58.6251 780.218 Q57.1929 777.99 54.6147 777.99 Q52.2276 777.99 50.9545 779.613 Q49.6813 781.204 48.5037 786.647 L48.0262 788.684 Q46.8804 794.127 44.5251 796.546 Q42.138 798.965 38.0002 798.965 Q32.9713 798.965 30.2341 795.4 Q27.4968 791.835 27.4968 785.278 Q27.4968 782.032 27.9743 779.167 Q28.4517 776.303 29.4065 773.884 Z\" fill=\"#000000\" fill-rule=\"nonzero\" fill-opacity=\"1\" /><path clip-path=\"url(#clip960)\" d=\"M44.7161 711.436 L47.5806 711.436 L47.5806 738.363 Q53.6281 737.981 56.8109 734.735 Q59.9619 731.456 59.9619 725.632 Q59.9619 722.258 59.1344 719.107 Q58.3069 715.924 56.6518 712.805 L62.1899 712.805 Q63.5267 715.956 64.227 719.266 Q64.9272 722.576 64.9272 725.982 Q64.9272 734.512 59.9619 739.509 Q54.9967 744.474 46.5303 744.474 Q37.7774 744.474 32.6531 739.763 Q27.4968 735.021 27.4968 727 Q27.4968 719.807 32.1438 715.637 Q36.7589 711.436 44.7161 711.436 M42.9973 717.293 Q38.1912 717.356 35.3266 719.998 Q32.4621 722.608 32.4621 726.937 Q32.4621 731.838 35.2312 734.798 Q38.0002 737.726 43.0292 738.172 L42.9973 717.293 Z\" fill=\"#000000\" fill-rule=\"nonzero\" fill-opacity=\"1\" /><path clip-path=\"url(#clip960)\" d=\"M33.8307 681.167 Q33.2578 682.154 33.0032 683.331 Q32.7167 684.477 32.7167 685.878 Q32.7167 690.843 35.9632 693.517 Q39.1779 696.158 45.2253 696.158 L64.0042 696.158 L64.0042 702.047 L28.3562 702.047 L28.3562 696.158 L33.8944 696.158 Q30.6479 694.312 29.0883 691.352 Q27.4968 688.392 27.4968 684.159 Q27.4968 683.554 27.5923 682.822 Q27.656 682.09 27.8151 681.199 L33.8307 681.167 Z\" fill=\"#000000\" fill-rule=\"nonzero\" fill-opacity=\"1\" /><path clip-path=\"url(#clip960)\" d=\"M33.8307 655.513 Q33.2578 656.5 33.0032 657.678 Q32.7167 658.823 32.7167 660.224 Q32.7167 665.189 35.9632 667.863 Q39.1779 670.505 45.2253 670.505 L64.0042 670.505 L64.0042 676.393 L28.3562 676.393 L28.3562 670.505 L33.8944 670.505 Q30.6479 668.659 29.0883 665.698 Q27.4968 662.738 27.4968 658.505 Q27.4968 657.9 27.5923 657.168 Q27.656 656.436 27.8151 655.545 L33.8307 655.513 Z\" fill=\"#000000\" fill-rule=\"nonzero\" fill-opacity=\"1\" /><path clip-path=\"url(#clip960)\" d=\"M32.4621 636.989 Q32.4621 641.7 36.1542 644.437 Q39.8145 647.174 46.212 647.174 Q52.6095 647.174 56.3017 644.469 Q59.9619 641.732 59.9619 636.989 Q59.9619 632.31 56.2698 629.573 Q52.5777 626.836 46.212 626.836 Q39.8781 626.836 36.186 629.573 Q32.4621 632.31 32.4621 636.989 M27.4968 636.989 Q27.4968 629.35 32.4621 624.99 Q37.4273 620.629 46.212 620.629 Q54.9649 620.629 59.9619 624.99 Q64.9272 629.35 64.9272 636.989 Q64.9272 644.66 59.9619 649.02 Q54.9649 653.349 46.212 653.349 Q37.4273 653.349 32.4621 649.02 Q27.4968 644.66 27.4968 636.989 Z\" fill=\"#000000\" fill-rule=\"nonzero\" fill-opacity=\"1\" /><path clip-path=\"url(#clip960)\" d=\"M33.8307 590.265 Q33.2578 591.252 33.0032 592.429 Q32.7167 593.575 32.7167 594.975 Q32.7167 599.941 35.9632 602.614 Q39.1779 605.256 45.2253 605.256 L64.0042 605.256 L64.0042 611.144 L28.3562 611.144 L28.3562 605.256 L33.8944 605.256 Q30.6479 603.41 29.0883 600.45 Q27.4968 597.49 27.4968 593.257 Q27.4968 592.652 27.5923 591.92 Q27.656 591.188 27.8151 590.297 L33.8307 590.265 Z\" fill=\"#000000\" fill-rule=\"nonzero\" fill-opacity=\"1\" /><polyline clip-path=\"url(#clip962)\" style=\"stroke:#009af9; stroke-linecap:round; stroke-linejoin:round; stroke-width:4; stroke-opacity:1; fill:none\" points=\"280.231,86.1857 300.556,686.28 320.881,910.389 341.206,1027.46 361.53,1099.37 381.855,1148.01 402.18,1183.1 422.505,1209.6 442.83,1230.33 463.155,1246.99 483.48,1260.66 503.804,1272.09 524.129,1281.78 544.454,1290.11 564.779,1297.33 585.104,1303.67 605.429,1309.26 625.753,1314.24 646.078,1318.7 666.403,1322.72 686.728,1326.36 707.053,1329.67 727.378,1332.69 747.703,1335.47 768.027,1338.02 788.352,1340.38 808.677,1342.57 829.002,1344.6 849.327,1346.49 869.652,1348.25 889.977,1349.9 910.301,1351.45 930.626,1352.91 950.951,1354.28 971.276,1355.57 991.601,1356.79 1011.93,1357.95 1032.25,1359.05 1052.58,1360.08 1072.9,1361.07 1093.23,1362.01 1113.55,1362.91 1133.87,1363.76 1154.2,1364.57 1174.52,1365.35 1194.85,1366.1 1215.17,1366.81 1235.5,1367.5 1255.82,1368.15 1276.15,1368.78 1296.47,1369.39 1316.8,1369.97 1337.12,1370.53 1357.45,1371.07 1377.77,1371.59 1398.1,1372.09 1418.42,1372.57 1438.75,1373.04 1459.07,1373.49 1479.4,1373.93 1499.72,1374.35 1520.05,1374.76 1540.37,1375.15 1560.7,1375.54 1581.02,1375.91 1601.35,1376.27 1621.67,1376.62 1642,1376.96 1662.32,1377.29 1682.65,1377.61 1702.97,1377.92 1723.3,1378.22 1743.62,1378.52 1763.95,1378.8 1784.27,1379.08 1804.59,1379.35 1824.92,1379.62 1845.24,1379.87 1865.57,1380.12 1885.89,1380.37 1906.22,1380.61 1926.54,1380.84 1946.87,1381.07 1967.19,1381.29 1987.52,1381.51 2007.84,1381.72 2028.17,1381.93 2048.49,1382.13 2068.82,1382.33 2089.14,1382.52 2109.47,1382.71 2129.79,1382.89 2150.12,1383.07 2170.44,1383.25 2190.77,1383.42 2211.09,1383.59 2231.42,1383.76 2251.74,1383.92 2272.07,1384.08 2292.39,1384.24 \"/>\n",
       "</svg>\n"
      ],
      "text/html": [
       "<?xml version=\"1.0\" encoding=\"utf-8\"?>\n",
       "<svg xmlns=\"http://www.w3.org/2000/svg\" xmlns:xlink=\"http://www.w3.org/1999/xlink\" width=\"600\" height=\"400\" viewBox=\"0 0 2400 1600\">\n",
       "<defs>\n",
       "  <clipPath id=\"clip010\">\n",
       "    <rect x=\"0\" y=\"0\" width=\"2400\" height=\"1600\"/>\n",
       "  </clipPath>\n",
       "</defs>\n",
       "<path clip-path=\"url(#clip010)\" d=\"M0 1600 L2400 1600 L2400 8.88178e-14 L0 8.88178e-14  Z\" fill=\"#ffffff\" fill-rule=\"evenodd\" fill-opacity=\"1\"/>\n",
       "<defs>\n",
       "  <clipPath id=\"clip011\">\n",
       "    <rect x=\"480\" y=\"0\" width=\"1681\" height=\"1600\"/>\n",
       "  </clipPath>\n",
       "</defs>\n",
       "<path clip-path=\"url(#clip010)\" d=\"M219.866 1423.18 L2352.76 1423.18 L2352.76 47.2441 L219.866 47.2441  Z\" fill=\"#ffffff\" fill-rule=\"evenodd\" fill-opacity=\"1\"/>\n",
       "<defs>\n",
       "  <clipPath id=\"clip012\">\n",
       "    <rect x=\"219\" y=\"47\" width=\"2134\" height=\"1377\"/>\n",
       "  </clipPath>\n",
       "</defs>\n",
       "<polyline clip-path=\"url(#clip012)\" style=\"stroke:#000000; stroke-linecap:round; stroke-linejoin:round; stroke-width:2; stroke-opacity:0.1; fill:none\" points=\"259.906,1423.18 259.906,47.2441 \"/>\n",
       "<polyline clip-path=\"url(#clip012)\" style=\"stroke:#000000; stroke-linecap:round; stroke-linejoin:round; stroke-width:2; stroke-opacity:0.1; fill:none\" points=\"768.027,1423.18 768.027,47.2441 \"/>\n",
       "<polyline clip-path=\"url(#clip012)\" style=\"stroke:#000000; stroke-linecap:round; stroke-linejoin:round; stroke-width:2; stroke-opacity:0.1; fill:none\" points=\"1276.15,1423.18 1276.15,47.2441 \"/>\n",
       "<polyline clip-path=\"url(#clip012)\" style=\"stroke:#000000; stroke-linecap:round; stroke-linejoin:round; stroke-width:2; stroke-opacity:0.1; fill:none\" points=\"1784.27,1423.18 1784.27,47.2441 \"/>\n",
       "<polyline clip-path=\"url(#clip012)\" style=\"stroke:#000000; stroke-linecap:round; stroke-linejoin:round; stroke-width:2; stroke-opacity:0.1; fill:none\" points=\"2292.39,1423.18 2292.39,47.2441 \"/>\n",
       "<polyline clip-path=\"url(#clip012)\" style=\"stroke:#000000; stroke-linecap:round; stroke-linejoin:round; stroke-width:2; stroke-opacity:0.1; fill:none\" points=\"219.866,1399.75 2352.76,1399.75 \"/>\n",
       "<polyline clip-path=\"url(#clip012)\" style=\"stroke:#000000; stroke-linecap:round; stroke-linejoin:round; stroke-width:2; stroke-opacity:0.1; fill:none\" points=\"219.866,1089.05 2352.76,1089.05 \"/>\n",
       "<polyline clip-path=\"url(#clip012)\" style=\"stroke:#000000; stroke-linecap:round; stroke-linejoin:round; stroke-width:2; stroke-opacity:0.1; fill:none\" points=\"219.866,778.361 2352.76,778.361 \"/>\n",
       "<polyline clip-path=\"url(#clip012)\" style=\"stroke:#000000; stroke-linecap:round; stroke-linejoin:round; stroke-width:2; stroke-opacity:0.1; fill:none\" points=\"219.866,467.668 2352.76,467.668 \"/>\n",
       "<polyline clip-path=\"url(#clip012)\" style=\"stroke:#000000; stroke-linecap:round; stroke-linejoin:round; stroke-width:2; stroke-opacity:0.1; fill:none\" points=\"219.866,156.975 2352.76,156.975 \"/>\n",
       "<polyline clip-path=\"url(#clip010)\" style=\"stroke:#000000; stroke-linecap:round; stroke-linejoin:round; stroke-width:4; stroke-opacity:1; fill:none\" points=\"219.866,1423.18 2352.76,1423.18 \"/>\n",
       "<polyline clip-path=\"url(#clip010)\" style=\"stroke:#000000; stroke-linecap:round; stroke-linejoin:round; stroke-width:4; stroke-opacity:1; fill:none\" points=\"259.906,1423.18 259.906,1404.28 \"/>\n",
       "<polyline clip-path=\"url(#clip010)\" style=\"stroke:#000000; stroke-linecap:round; stroke-linejoin:round; stroke-width:4; stroke-opacity:1; fill:none\" points=\"768.027,1423.18 768.027,1404.28 \"/>\n",
       "<polyline clip-path=\"url(#clip010)\" style=\"stroke:#000000; stroke-linecap:round; stroke-linejoin:round; stroke-width:4; stroke-opacity:1; fill:none\" points=\"1276.15,1423.18 1276.15,1404.28 \"/>\n",
       "<polyline clip-path=\"url(#clip010)\" style=\"stroke:#000000; stroke-linecap:round; stroke-linejoin:round; stroke-width:4; stroke-opacity:1; fill:none\" points=\"1784.27,1423.18 1784.27,1404.28 \"/>\n",
       "<polyline clip-path=\"url(#clip010)\" style=\"stroke:#000000; stroke-linecap:round; stroke-linejoin:round; stroke-width:4; stroke-opacity:1; fill:none\" points=\"2292.39,1423.18 2292.39,1404.28 \"/>\n",
       "<path clip-path=\"url(#clip010)\" d=\"M259.906 1454.1 Q256.295 1454.1 254.466 1457.66 Q252.661 1461.2 252.661 1468.33 Q252.661 1475.44 254.466 1479.01 Q256.295 1482.55 259.906 1482.55 Q263.54 1482.55 265.346 1479.01 Q267.175 1475.44 267.175 1468.33 Q267.175 1461.2 265.346 1457.66 Q263.54 1454.1 259.906 1454.1 M259.906 1450.39 Q265.716 1450.39 268.772 1455 Q271.851 1459.58 271.851 1468.33 Q271.851 1477.06 268.772 1481.67 Q265.716 1486.25 259.906 1486.25 Q254.096 1486.25 251.017 1481.67 Q247.962 1477.06 247.962 1468.33 Q247.962 1459.58 251.017 1455 Q254.096 1450.39 259.906 1450.39 Z\" fill=\"#000000\" fill-rule=\"nonzero\" fill-opacity=\"1\" /><path clip-path=\"url(#clip010)\" d=\"M747.298 1481.64 L763.618 1481.64 L763.618 1485.58 L741.673 1485.58 L741.673 1481.64 Q744.335 1478.89 748.919 1474.26 Q753.525 1469.61 754.706 1468.27 Q756.951 1465.74 757.831 1464.01 Q758.734 1462.25 758.734 1460.56 Q758.734 1457.8 756.789 1456.07 Q754.868 1454.33 751.766 1454.33 Q749.567 1454.33 747.113 1455.09 Q744.683 1455.86 741.905 1457.41 L741.905 1452.69 Q744.729 1451.55 747.183 1450.97 Q749.636 1450.39 751.673 1450.39 Q757.044 1450.39 760.238 1453.08 Q763.433 1455.77 763.433 1460.26 Q763.433 1462.39 762.622 1464.31 Q761.835 1466.2 759.729 1468.8 Q759.15 1469.47 756.048 1472.69 Q752.947 1475.88 747.298 1481.64 Z\" fill=\"#000000\" fill-rule=\"nonzero\" fill-opacity=\"1\" /><path clip-path=\"url(#clip010)\" d=\"M773.479 1451.02 L791.835 1451.02 L791.835 1454.96 L777.761 1454.96 L777.761 1463.43 Q778.78 1463.08 779.798 1462.92 Q780.817 1462.73 781.835 1462.73 Q787.622 1462.73 791.002 1465.9 Q794.381 1469.08 794.381 1474.49 Q794.381 1480.07 790.909 1483.17 Q787.437 1486.25 781.118 1486.25 Q778.942 1486.25 776.673 1485.88 Q774.428 1485.51 772.02 1484.77 L772.02 1480.07 Q774.104 1481.2 776.326 1481.76 Q778.548 1482.32 781.025 1482.32 Q785.03 1482.32 787.368 1480.21 Q789.706 1478.1 789.706 1474.49 Q789.706 1470.88 787.368 1468.77 Q785.03 1466.67 781.025 1466.67 Q779.15 1466.67 777.275 1467.08 Q775.423 1467.5 773.479 1468.38 L773.479 1451.02 Z\" fill=\"#000000\" fill-rule=\"nonzero\" fill-opacity=\"1\" /><path clip-path=\"url(#clip010)\" d=\"M1250.85 1451.02 L1269.2 1451.02 L1269.2 1454.96 L1255.13 1454.96 L1255.13 1463.43 Q1256.15 1463.08 1257.17 1462.92 Q1258.19 1462.73 1259.2 1462.73 Q1264.99 1462.73 1268.37 1465.9 Q1271.75 1469.08 1271.75 1474.49 Q1271.75 1480.07 1268.28 1483.17 Q1264.81 1486.25 1258.49 1486.25 Q1256.31 1486.25 1254.04 1485.88 Q1251.8 1485.51 1249.39 1484.77 L1249.39 1480.07 Q1251.47 1481.2 1253.7 1481.76 Q1255.92 1482.32 1258.39 1482.32 Q1262.4 1482.32 1264.74 1480.21 Q1267.07 1478.1 1267.07 1474.49 Q1267.07 1470.88 1264.74 1468.77 Q1262.4 1466.67 1258.39 1466.67 Q1256.52 1466.67 1254.64 1467.08 Q1252.79 1467.5 1250.85 1468.38 L1250.85 1451.02 Z\" fill=\"#000000\" fill-rule=\"nonzero\" fill-opacity=\"1\" /><path clip-path=\"url(#clip010)\" d=\"M1290.96 1454.1 Q1287.35 1454.1 1285.52 1457.66 Q1283.72 1461.2 1283.72 1468.33 Q1283.72 1475.44 1285.52 1479.01 Q1287.35 1482.55 1290.96 1482.55 Q1294.6 1482.55 1296.4 1479.01 Q1298.23 1475.44 1298.23 1468.33 Q1298.23 1461.2 1296.4 1457.66 Q1294.6 1454.1 1290.96 1454.1 M1290.96 1450.39 Q1296.77 1450.39 1299.83 1455 Q1302.91 1459.58 1302.91 1468.33 Q1302.91 1477.06 1299.83 1481.67 Q1296.77 1486.25 1290.96 1486.25 Q1285.15 1486.25 1282.07 1481.67 Q1279.02 1477.06 1279.02 1468.33 Q1279.02 1459.58 1282.07 1455 Q1285.15 1450.39 1290.96 1450.39 Z\" fill=\"#000000\" fill-rule=\"nonzero\" fill-opacity=\"1\" /><path clip-path=\"url(#clip010)\" d=\"M1758.12 1451.02 L1780.35 1451.02 L1780.35 1453.01 L1767.8 1485.58 L1762.92 1485.58 L1774.72 1454.96 L1758.12 1454.96 L1758.12 1451.02 Z\" fill=\"#000000\" fill-rule=\"nonzero\" fill-opacity=\"1\" /><path clip-path=\"url(#clip010)\" d=\"M1789.51 1451.02 L1807.87 1451.02 L1807.87 1454.96 L1793.8 1454.96 L1793.8 1463.43 Q1794.81 1463.08 1795.83 1462.92 Q1796.85 1462.73 1797.87 1462.73 Q1803.66 1462.73 1807.04 1465.9 Q1810.42 1469.08 1810.42 1474.49 Q1810.42 1480.07 1806.94 1483.17 Q1803.47 1486.25 1797.15 1486.25 Q1794.98 1486.25 1792.71 1485.88 Q1790.46 1485.51 1788.05 1484.77 L1788.05 1480.07 Q1790.14 1481.2 1792.36 1481.76 Q1794.58 1482.32 1797.06 1482.32 Q1801.06 1482.32 1803.4 1480.21 Q1805.74 1478.1 1805.74 1474.49 Q1805.74 1470.88 1803.4 1468.77 Q1801.06 1466.67 1797.06 1466.67 Q1795.18 1466.67 1793.31 1467.08 Q1791.46 1467.5 1789.51 1468.38 L1789.51 1451.02 Z\" fill=\"#000000\" fill-rule=\"nonzero\" fill-opacity=\"1\" /><path clip-path=\"url(#clip010)\" d=\"M2252 1481.64 L2259.64 1481.64 L2259.64 1455.28 L2251.33 1456.95 L2251.33 1452.69 L2259.59 1451.02 L2264.27 1451.02 L2264.27 1481.64 L2271.91 1481.64 L2271.91 1485.58 L2252 1485.58 L2252 1481.64 Z\" fill=\"#000000\" fill-rule=\"nonzero\" fill-opacity=\"1\" /><path clip-path=\"url(#clip010)\" d=\"M2291.35 1454.1 Q2287.74 1454.1 2285.91 1457.66 Q2284.1 1461.2 2284.1 1468.33 Q2284.1 1475.44 2285.91 1479.01 Q2287.74 1482.55 2291.35 1482.55 Q2294.98 1482.55 2296.79 1479.01 Q2298.62 1475.44 2298.62 1468.33 Q2298.62 1461.2 2296.79 1457.66 Q2294.98 1454.1 2291.35 1454.1 M2291.35 1450.39 Q2297.16 1450.39 2300.22 1455 Q2303.29 1459.58 2303.29 1468.33 Q2303.29 1477.06 2300.22 1481.67 Q2297.16 1486.25 2291.35 1486.25 Q2285.54 1486.25 2282.46 1481.67 Q2279.41 1477.06 2279.41 1468.33 Q2279.41 1459.58 2282.46 1455 Q2285.54 1450.39 2291.35 1450.39 Z\" fill=\"#000000\" fill-rule=\"nonzero\" fill-opacity=\"1\" /><path clip-path=\"url(#clip010)\" d=\"M2321.51 1454.1 Q2317.9 1454.1 2316.07 1457.66 Q2314.27 1461.2 2314.27 1468.33 Q2314.27 1475.44 2316.07 1479.01 Q2317.9 1482.55 2321.51 1482.55 Q2325.15 1482.55 2326.95 1479.01 Q2328.78 1475.44 2328.78 1468.33 Q2328.78 1461.2 2326.95 1457.66 Q2325.15 1454.1 2321.51 1454.1 M2321.51 1450.39 Q2327.32 1450.39 2330.38 1455 Q2333.46 1459.58 2333.46 1468.33 Q2333.46 1477.06 2330.38 1481.67 Q2327.32 1486.25 2321.51 1486.25 Q2315.7 1486.25 2312.62 1481.67 Q2309.57 1477.06 2309.57 1468.33 Q2309.57 1459.58 2312.62 1455 Q2315.7 1450.39 2321.51 1450.39 Z\" fill=\"#000000\" fill-rule=\"nonzero\" fill-opacity=\"1\" /><path clip-path=\"url(#clip010)\" d=\"M1301.24 1546.53 L1301.24 1568.04 L1295.38 1568.04 L1295.38 1546.72 Q1295.38 1541.66 1293.41 1539.14 Q1291.44 1536.63 1287.49 1536.63 Q1282.75 1536.63 1280.01 1539.65 Q1277.27 1542.68 1277.27 1547.9 L1277.27 1568.04 L1271.38 1568.04 L1271.38 1532.4 L1277.27 1532.4 L1277.27 1537.93 Q1279.37 1534.72 1282.21 1533.13 Q1285.07 1531.54 1288.79 1531.54 Q1294.94 1531.54 1298.09 1535.36 Q1301.24 1539.14 1301.24 1546.53 Z\" fill=\"#000000\" fill-rule=\"nonzero\" fill-opacity=\"1\" /><polyline clip-path=\"url(#clip010)\" style=\"stroke:#000000; stroke-linecap:round; stroke-linejoin:round; stroke-width:4; stroke-opacity:1; fill:none\" points=\"219.866,1423.18 219.866,47.2441 \"/>\n",
       "<polyline clip-path=\"url(#clip010)\" style=\"stroke:#000000; stroke-linecap:round; stroke-linejoin:round; stroke-width:4; stroke-opacity:1; fill:none\" points=\"219.866,1399.75 238.764,1399.75 \"/>\n",
       "<polyline clip-path=\"url(#clip010)\" style=\"stroke:#000000; stroke-linecap:round; stroke-linejoin:round; stroke-width:4; stroke-opacity:1; fill:none\" points=\"219.866,1089.05 238.764,1089.05 \"/>\n",
       "<polyline clip-path=\"url(#clip010)\" style=\"stroke:#000000; stroke-linecap:round; stroke-linejoin:round; stroke-width:4; stroke-opacity:1; fill:none\" points=\"219.866,778.361 238.764,778.361 \"/>\n",
       "<polyline clip-path=\"url(#clip010)\" style=\"stroke:#000000; stroke-linecap:round; stroke-linejoin:round; stroke-width:4; stroke-opacity:1; fill:none\" points=\"219.866,467.668 238.764,467.668 \"/>\n",
       "<polyline clip-path=\"url(#clip010)\" style=\"stroke:#000000; stroke-linecap:round; stroke-linejoin:round; stroke-width:4; stroke-opacity:1; fill:none\" points=\"219.866,156.975 238.764,156.975 \"/>\n",
       "<path clip-path=\"url(#clip010)\" d=\"M126.691 1385.55 Q123.08 1385.55 121.251 1389.11 Q119.445 1392.65 119.445 1399.78 Q119.445 1406.89 121.251 1410.45 Q123.08 1413.99 126.691 1413.99 Q130.325 1413.99 132.13 1410.45 Q133.959 1406.89 133.959 1399.78 Q133.959 1392.65 132.13 1389.11 Q130.325 1385.55 126.691 1385.55 M126.691 1381.84 Q132.501 1381.84 135.556 1386.45 Q138.635 1391.03 138.635 1399.78 Q138.635 1408.51 135.556 1413.12 Q132.501 1417.7 126.691 1417.7 Q120.88 1417.7 117.802 1413.12 Q114.746 1408.51 114.746 1399.78 Q114.746 1391.03 117.802 1386.45 Q120.88 1381.84 126.691 1381.84 Z\" fill=\"#000000\" fill-rule=\"nonzero\" fill-opacity=\"1\" /><path clip-path=\"url(#clip010)\" d=\"M146.853 1411.15 L151.737 1411.15 L151.737 1417.03 L146.853 1417.03 L146.853 1411.15 Z\" fill=\"#000000\" fill-rule=\"nonzero\" fill-opacity=\"1\" /><path clip-path=\"url(#clip010)\" d=\"M171.922 1385.55 Q168.311 1385.55 166.482 1389.11 Q164.677 1392.65 164.677 1399.78 Q164.677 1406.89 166.482 1410.45 Q168.311 1413.99 171.922 1413.99 Q175.556 1413.99 177.362 1410.45 Q179.19 1406.89 179.19 1399.78 Q179.19 1392.65 177.362 1389.11 Q175.556 1385.55 171.922 1385.55 M171.922 1381.84 Q177.732 1381.84 180.788 1386.45 Q183.866 1391.03 183.866 1399.78 Q183.866 1408.51 180.788 1413.12 Q177.732 1417.7 171.922 1417.7 Q166.112 1417.7 163.033 1413.12 Q159.978 1408.51 159.978 1399.78 Q159.978 1391.03 163.033 1386.45 Q166.112 1381.84 171.922 1381.84 Z\" fill=\"#000000\" fill-rule=\"nonzero\" fill-opacity=\"1\" /><path clip-path=\"url(#clip010)\" d=\"M127.917 1074.85 Q124.306 1074.85 122.478 1078.42 Q120.672 1081.96 120.672 1089.09 Q120.672 1096.2 122.478 1099.76 Q124.306 1103.3 127.917 1103.3 Q131.552 1103.3 133.357 1099.76 Q135.186 1096.2 135.186 1089.09 Q135.186 1081.96 133.357 1078.42 Q131.552 1074.85 127.917 1074.85 M127.917 1071.15 Q133.728 1071.15 136.783 1075.76 Q139.862 1080.34 139.862 1089.09 Q139.862 1097.82 136.783 1102.42 Q133.728 1107.01 127.917 1107.01 Q122.107 1107.01 119.029 1102.42 Q115.973 1097.82 115.973 1089.09 Q115.973 1080.34 119.029 1075.76 Q122.107 1071.15 127.917 1071.15 Z\" fill=\"#000000\" fill-rule=\"nonzero\" fill-opacity=\"1\" /><path clip-path=\"url(#clip010)\" d=\"M148.079 1100.45 L152.964 1100.45 L152.964 1106.33 L148.079 1106.33 L148.079 1100.45 Z\" fill=\"#000000\" fill-rule=\"nonzero\" fill-opacity=\"1\" /><path clip-path=\"url(#clip010)\" d=\"M163.959 1102.4 L171.598 1102.4 L171.598 1076.03 L163.288 1077.7 L163.288 1073.44 L171.552 1071.77 L176.227 1071.77 L176.227 1102.4 L183.866 1102.4 L183.866 1106.33 L163.959 1106.33 L163.959 1102.4 Z\" fill=\"#000000\" fill-rule=\"nonzero\" fill-opacity=\"1\" /><path clip-path=\"url(#clip010)\" d=\"M128.288 764.16 Q124.677 764.16 122.848 767.724 Q121.043 771.266 121.043 778.396 Q121.043 785.502 122.848 789.067 Q124.677 792.609 128.288 792.609 Q131.922 792.609 133.728 789.067 Q135.556 785.502 135.556 778.396 Q135.556 771.266 133.728 767.724 Q131.922 764.16 128.288 764.16 M128.288 760.456 Q134.098 760.456 137.154 765.062 Q140.232 769.646 140.232 778.396 Q140.232 787.123 137.154 791.729 Q134.098 796.312 128.288 796.312 Q122.478 796.312 119.399 791.729 Q116.343 787.123 116.343 778.396 Q116.343 769.646 119.399 765.062 Q122.478 760.456 128.288 760.456 Z\" fill=\"#000000\" fill-rule=\"nonzero\" fill-opacity=\"1\" /><path clip-path=\"url(#clip010)\" d=\"M148.45 789.761 L153.334 789.761 L153.334 795.641 L148.45 795.641 L148.45 789.761 Z\" fill=\"#000000\" fill-rule=\"nonzero\" fill-opacity=\"1\" /><path clip-path=\"url(#clip010)\" d=\"M167.547 791.706 L183.866 791.706 L183.866 795.641 L161.922 795.641 L161.922 791.706 Q164.584 788.951 169.167 784.322 Q173.774 779.669 174.954 778.326 Q177.2 775.803 178.079 774.067 Q178.982 772.308 178.982 770.618 Q178.982 767.863 177.038 766.127 Q175.116 764.391 172.014 764.391 Q169.815 764.391 167.362 765.155 Q164.931 765.919 162.153 767.47 L162.153 762.748 Q164.977 761.613 167.431 761.035 Q169.885 760.456 171.922 760.456 Q177.292 760.456 180.487 763.141 Q183.681 765.826 183.681 770.317 Q183.681 772.447 182.871 774.368 Q182.084 776.266 179.977 778.859 Q179.399 779.53 176.297 782.748 Q173.195 785.942 167.547 791.706 Z\" fill=\"#000000\" fill-rule=\"nonzero\" fill-opacity=\"1\" /><path clip-path=\"url(#clip010)\" d=\"M127.339 453.467 Q123.728 453.467 121.899 457.031 Q120.093 460.573 120.093 467.703 Q120.093 474.809 121.899 478.374 Q123.728 481.916 127.339 481.916 Q130.973 481.916 132.779 478.374 Q134.607 474.809 134.607 467.703 Q134.607 460.573 132.779 457.031 Q130.973 453.467 127.339 453.467 M127.339 449.763 Q133.149 449.763 136.204 454.369 Q139.283 458.953 139.283 467.703 Q139.283 476.43 136.204 481.036 Q133.149 485.619 127.339 485.619 Q121.529 485.619 118.45 481.036 Q115.394 476.43 115.394 467.703 Q115.394 458.953 118.45 454.369 Q121.529 449.763 127.339 449.763 Z\" fill=\"#000000\" fill-rule=\"nonzero\" fill-opacity=\"1\" /><path clip-path=\"url(#clip010)\" d=\"M147.501 479.068 L152.385 479.068 L152.385 484.948 L147.501 484.948 L147.501 479.068 Z\" fill=\"#000000\" fill-rule=\"nonzero\" fill-opacity=\"1\" /><path clip-path=\"url(#clip010)\" d=\"M176.737 466.314 Q180.093 467.031 181.968 469.3 Q183.866 471.568 183.866 474.902 Q183.866 480.017 180.348 482.818 Q176.829 485.619 170.348 485.619 Q168.172 485.619 165.857 485.179 Q163.565 484.763 161.112 483.906 L161.112 479.392 Q163.056 480.527 165.371 481.105 Q167.686 481.684 170.209 481.684 Q174.607 481.684 176.899 479.948 Q179.214 478.212 179.214 474.902 Q179.214 471.846 177.061 470.133 Q174.931 468.397 171.112 468.397 L167.084 468.397 L167.084 464.555 L171.297 464.555 Q174.746 464.555 176.575 463.189 Q178.403 461.8 178.403 459.207 Q178.403 456.545 176.505 455.133 Q174.63 453.698 171.112 453.698 Q169.19 453.698 166.991 454.115 Q164.792 454.532 162.153 455.411 L162.153 451.244 Q164.815 450.504 167.13 450.133 Q169.468 449.763 171.528 449.763 Q176.852 449.763 179.954 452.194 Q183.056 454.601 183.056 458.721 Q183.056 461.592 181.413 463.582 Q179.769 465.55 176.737 466.314 Z\" fill=\"#000000\" fill-rule=\"nonzero\" fill-opacity=\"1\" /><path clip-path=\"url(#clip010)\" d=\"M126.205 142.774 Q122.593 142.774 120.765 146.338 Q118.959 149.88 118.959 157.01 Q118.959 164.116 120.765 167.681 Q122.593 171.223 126.205 171.223 Q129.839 171.223 131.644 167.681 Q133.473 164.116 133.473 157.01 Q133.473 149.88 131.644 146.338 Q129.839 142.774 126.205 142.774 M126.205 139.07 Q132.015 139.07 135.07 143.676 Q138.149 148.26 138.149 157.01 Q138.149 165.737 135.07 170.343 Q132.015 174.926 126.205 174.926 Q120.394 174.926 117.316 170.343 Q114.26 165.737 114.26 157.01 Q114.26 148.26 117.316 143.676 Q120.394 139.07 126.205 139.07 Z\" fill=\"#000000\" fill-rule=\"nonzero\" fill-opacity=\"1\" /><path clip-path=\"url(#clip010)\" d=\"M146.366 168.375 L151.251 168.375 L151.251 174.255 L146.366 174.255 L146.366 168.375 Z\" fill=\"#000000\" fill-rule=\"nonzero\" fill-opacity=\"1\" /><path clip-path=\"url(#clip010)\" d=\"M174.283 143.769 L162.477 162.218 L174.283 162.218 L174.283 143.769 M173.056 139.695 L178.936 139.695 L178.936 162.218 L183.866 162.218 L183.866 166.107 L178.936 166.107 L178.936 174.255 L174.283 174.255 L174.283 166.107 L158.681 166.107 L158.681 161.593 L173.056 139.695 Z\" fill=\"#000000\" fill-rule=\"nonzero\" fill-opacity=\"1\" /><path clip-path=\"url(#clip010)\" d=\"M46.0847 861.73 Q46.0847 868.828 47.7079 871.565 Q49.3312 874.303 53.2461 874.303 Q56.3653 874.303 58.2114 872.266 Q60.0256 870.197 60.0256 866.664 Q60.0256 861.794 56.5881 858.866 Q53.1188 855.906 47.3897 855.906 L46.0847 855.906 L46.0847 861.73 M43.6657 850.049 L64.0042 850.049 L64.0042 855.906 L58.5933 855.906 Q61.8398 857.911 63.3994 860.903 Q64.9272 863.895 64.9272 868.223 Q64.9272 873.698 61.8716 876.944 Q58.7843 880.159 53.6281 880.159 Q47.6125 880.159 44.5569 876.149 Q41.5014 872.106 41.5014 864.118 L41.5014 855.906 L40.9285 855.906 Q36.8862 855.906 34.6901 858.579 Q32.4621 861.221 32.4621 866.027 Q32.4621 869.083 33.1941 871.979 Q33.9262 874.876 35.3903 877.549 L29.9795 877.549 Q28.7381 874.334 28.1334 871.311 Q27.4968 868.287 27.4968 865.422 Q27.4968 857.688 31.5072 853.869 Q35.5176 850.049 43.6657 850.049 Z\" fill=\"#000000\" fill-rule=\"nonzero\" fill-opacity=\"1\" /><path clip-path=\"url(#clip010)\" d=\"M46.212 812.396 Q39.7508 812.396 36.0905 815.07 Q32.3984 817.712 32.3984 822.358 Q32.3984 827.005 36.0905 829.679 Q39.7508 832.321 46.212 832.321 Q52.6732 832.321 56.3653 829.679 Q60.0256 827.005 60.0256 822.358 Q60.0256 817.712 56.3653 815.07 Q52.6732 812.396 46.212 812.396 M33.7671 832.321 Q30.5842 830.475 29.0564 827.674 Q27.4968 824.841 27.4968 820.926 Q27.4968 814.433 32.6531 810.391 Q37.8093 806.317 46.212 806.317 Q54.6147 806.317 59.771 810.391 Q64.9272 814.433 64.9272 820.926 Q64.9272 824.841 63.3994 827.674 Q61.8398 830.475 58.657 832.321 L64.0042 832.321 L64.0042 838.209 L14.479 838.209 L14.479 832.321 L33.7671 832.321 Z\" fill=\"#000000\" fill-rule=\"nonzero\" fill-opacity=\"1\" /><path clip-path=\"url(#clip010)\" d=\"M29.4065 773.884 L34.9447 773.884 Q33.6716 776.366 33.035 779.04 Q32.3984 781.713 32.3984 784.578 Q32.3984 788.939 33.7352 791.135 Q35.072 793.299 37.7456 793.299 Q39.7826 793.299 40.9603 791.739 Q42.1061 790.18 43.1565 785.469 L43.6021 783.464 Q44.9389 777.226 47.3897 774.616 Q49.8086 771.974 54.1691 771.974 Q59.1344 771.974 62.0308 775.921 Q64.9272 779.836 64.9272 786.711 Q64.9272 789.575 64.3543 792.694 Q63.8132 795.782 62.6992 799.219 L56.6518 799.219 Q58.3387 795.973 59.198 792.822 Q60.0256 789.671 60.0256 786.583 Q60.0256 782.446 58.6251 780.218 Q57.1929 777.99 54.6147 777.99 Q52.2276 777.99 50.9545 779.613 Q49.6813 781.204 48.5037 786.647 L48.0262 788.684 Q46.8804 794.127 44.5251 796.546 Q42.138 798.965 38.0002 798.965 Q32.9713 798.965 30.2341 795.4 Q27.4968 791.835 27.4968 785.278 Q27.4968 782.032 27.9743 779.167 Q28.4517 776.303 29.4065 773.884 Z\" fill=\"#000000\" fill-rule=\"nonzero\" fill-opacity=\"1\" /><path clip-path=\"url(#clip010)\" d=\"M44.7161 711.436 L47.5806 711.436 L47.5806 738.363 Q53.6281 737.981 56.8109 734.735 Q59.9619 731.456 59.9619 725.632 Q59.9619 722.258 59.1344 719.107 Q58.3069 715.924 56.6518 712.805 L62.1899 712.805 Q63.5267 715.956 64.227 719.266 Q64.9272 722.576 64.9272 725.982 Q64.9272 734.512 59.9619 739.509 Q54.9967 744.474 46.5303 744.474 Q37.7774 744.474 32.6531 739.763 Q27.4968 735.021 27.4968 727 Q27.4968 719.807 32.1438 715.637 Q36.7589 711.436 44.7161 711.436 M42.9973 717.293 Q38.1912 717.356 35.3266 719.998 Q32.4621 722.608 32.4621 726.937 Q32.4621 731.838 35.2312 734.798 Q38.0002 737.726 43.0292 738.172 L42.9973 717.293 Z\" fill=\"#000000\" fill-rule=\"nonzero\" fill-opacity=\"1\" /><path clip-path=\"url(#clip010)\" d=\"M33.8307 681.167 Q33.2578 682.154 33.0032 683.331 Q32.7167 684.477 32.7167 685.878 Q32.7167 690.843 35.9632 693.517 Q39.1779 696.158 45.2253 696.158 L64.0042 696.158 L64.0042 702.047 L28.3562 702.047 L28.3562 696.158 L33.8944 696.158 Q30.6479 694.312 29.0883 691.352 Q27.4968 688.392 27.4968 684.159 Q27.4968 683.554 27.5923 682.822 Q27.656 682.09 27.8151 681.199 L33.8307 681.167 Z\" fill=\"#000000\" fill-rule=\"nonzero\" fill-opacity=\"1\" /><path clip-path=\"url(#clip010)\" d=\"M33.8307 655.513 Q33.2578 656.5 33.0032 657.678 Q32.7167 658.823 32.7167 660.224 Q32.7167 665.189 35.9632 667.863 Q39.1779 670.505 45.2253 670.505 L64.0042 670.505 L64.0042 676.393 L28.3562 676.393 L28.3562 670.505 L33.8944 670.505 Q30.6479 668.659 29.0883 665.698 Q27.4968 662.738 27.4968 658.505 Q27.4968 657.9 27.5923 657.168 Q27.656 656.436 27.8151 655.545 L33.8307 655.513 Z\" fill=\"#000000\" fill-rule=\"nonzero\" fill-opacity=\"1\" /><path clip-path=\"url(#clip010)\" d=\"M32.4621 636.989 Q32.4621 641.7 36.1542 644.437 Q39.8145 647.174 46.212 647.174 Q52.6095 647.174 56.3017 644.469 Q59.9619 641.732 59.9619 636.989 Q59.9619 632.31 56.2698 629.573 Q52.5777 626.836 46.212 626.836 Q39.8781 626.836 36.186 629.573 Q32.4621 632.31 32.4621 636.989 M27.4968 636.989 Q27.4968 629.35 32.4621 624.99 Q37.4273 620.629 46.212 620.629 Q54.9649 620.629 59.9619 624.99 Q64.9272 629.35 64.9272 636.989 Q64.9272 644.66 59.9619 649.02 Q54.9649 653.349 46.212 653.349 Q37.4273 653.349 32.4621 649.02 Q27.4968 644.66 27.4968 636.989 Z\" fill=\"#000000\" fill-rule=\"nonzero\" fill-opacity=\"1\" /><path clip-path=\"url(#clip010)\" d=\"M33.8307 590.265 Q33.2578 591.252 33.0032 592.429 Q32.7167 593.575 32.7167 594.975 Q32.7167 599.941 35.9632 602.614 Q39.1779 605.256 45.2253 605.256 L64.0042 605.256 L64.0042 611.144 L28.3562 611.144 L28.3562 605.256 L33.8944 605.256 Q30.6479 603.41 29.0883 600.45 Q27.4968 597.49 27.4968 593.257 Q27.4968 592.652 27.5923 591.92 Q27.656 591.188 27.8151 590.297 L33.8307 590.265 Z\" fill=\"#000000\" fill-rule=\"nonzero\" fill-opacity=\"1\" /><polyline clip-path=\"url(#clip012)\" style=\"stroke:#009af9; stroke-linecap:round; stroke-linejoin:round; stroke-width:4; stroke-opacity:1; fill:none\" points=\"280.231,86.1857 300.556,686.28 320.881,910.389 341.206,1027.46 361.53,1099.37 381.855,1148.01 402.18,1183.1 422.505,1209.6 442.83,1230.33 463.155,1246.99 483.48,1260.66 503.804,1272.09 524.129,1281.78 544.454,1290.11 564.779,1297.33 585.104,1303.67 605.429,1309.26 625.753,1314.24 646.078,1318.7 666.403,1322.72 686.728,1326.36 707.053,1329.67 727.378,1332.69 747.703,1335.47 768.027,1338.02 788.352,1340.38 808.677,1342.57 829.002,1344.6 849.327,1346.49 869.652,1348.25 889.977,1349.9 910.301,1351.45 930.626,1352.91 950.951,1354.28 971.276,1355.57 991.601,1356.79 1011.93,1357.95 1032.25,1359.05 1052.58,1360.08 1072.9,1361.07 1093.23,1362.01 1113.55,1362.91 1133.87,1363.76 1154.2,1364.57 1174.52,1365.35 1194.85,1366.1 1215.17,1366.81 1235.5,1367.5 1255.82,1368.15 1276.15,1368.78 1296.47,1369.39 1316.8,1369.97 1337.12,1370.53 1357.45,1371.07 1377.77,1371.59 1398.1,1372.09 1418.42,1372.57 1438.75,1373.04 1459.07,1373.49 1479.4,1373.93 1499.72,1374.35 1520.05,1374.76 1540.37,1375.15 1560.7,1375.54 1581.02,1375.91 1601.35,1376.27 1621.67,1376.62 1642,1376.96 1662.32,1377.29 1682.65,1377.61 1702.97,1377.92 1723.3,1378.22 1743.62,1378.52 1763.95,1378.8 1784.27,1379.08 1804.59,1379.35 1824.92,1379.62 1845.24,1379.87 1865.57,1380.12 1885.89,1380.37 1906.22,1380.61 1926.54,1380.84 1946.87,1381.07 1967.19,1381.29 1987.52,1381.51 2007.84,1381.72 2028.17,1381.93 2048.49,1382.13 2068.82,1382.33 2089.14,1382.52 2109.47,1382.71 2129.79,1382.89 2150.12,1383.07 2170.44,1383.25 2190.77,1383.42 2211.09,1383.59 2231.42,1383.76 2251.74,1383.92 2272.07,1384.08 2292.39,1384.24 \"/>\n",
       "</svg>\n"
      ]
     },
     "execution_count": 138,
     "metadata": {},
     "output_type": "execute_result"
    }
   ],
   "source": [
    "plot([abs(h_approx(n) - h(n)) for n in 1:100], xlabel = \"n\", ylabel = \"abs error\", label=false)"
   ]
  },
  {
   "cell_type": "code",
   "execution_count": 139,
   "id": "57053487-f946-4793-aac5-579c394dbdb8",
   "metadata": {},
   "outputs": [
    {
     "data": {
      "text/html": [
       "kwcall(::<b>NamedTuple</b>, ::<b>typeof(plot)</b>, args...) in Plots at <a href=\"file:///Users/uqjnazar/.julia/packages/Plots/MR7sb/src/plot.jl\" target=\"_blank\">/Users/uqjnazar/.julia/packages/Plots/MR7sb/src/plot.jl:93</a>"
      ],
      "text/plain": [
       "kwcall(::\u001b[1mNamedTuple\u001b[22m, ::\u001b[1mtypeof(plot)\u001b[22m, \u001b[90margs...\u001b[39m)\n",
       "\u001b[90m     @\u001b[39m \u001b[90mPlots\u001b[39m \u001b[90m~/.julia/packages/Plots/MR7sb/src/\u001b[39m\u001b[90m\u001b[4mplot.jl:93\u001b[24m\u001b[39m"
      ]
     },
     "execution_count": 139,
     "metadata": {},
     "output_type": "execute_result"
    }
   ],
   "source": [
    "@which plot([abs(h_approx(n) - h(n)) for n in 1:100], xlabel = \"n\", ylabel = \"abs error\", label=false)"
   ]
  },
  {
   "cell_type": "code",
   "execution_count": 140,
   "id": "4d6b2969-b7f6-456f-9ed9-c20b4ae46b3a",
   "metadata": {},
   "outputs": [
    {
     "data": {
      "text/html": [
       "kwcall(::<b>NamedTuple</b>, ::<b>typeof(plot)</b>, args...) in Plots at <a href=\"file:///Users/uqjnazar/.julia/packages/Plots/MR7sb/src/plot.jl\" target=\"_blank\">/Users/uqjnazar/.julia/packages/Plots/MR7sb/src/plot.jl:93</a>"
      ],
      "text/plain": [
       "kwcall(::\u001b[1mNamedTuple\u001b[22m, ::\u001b[1mtypeof(plot)\u001b[22m, \u001b[90margs...\u001b[39m)\n",
       "\u001b[90m     @\u001b[39m \u001b[90mPlots\u001b[39m \u001b[90m~/.julia/packages/Plots/MR7sb/src/\u001b[39m\u001b[90m\u001b[4mplot.jl:93\u001b[24m\u001b[39m"
      ]
     },
     "execution_count": 140,
     "metadata": {},
     "output_type": "execute_result"
    }
   ],
   "source": [
    "@which plot( 1:100, \n",
    "            [abs(h_approx(n) - h(n)) for n in 1:100], \n",
    "            xlabel = \"n\", ylabel = \"abs error\", label=false)"
   ]
  },
  {
   "cell_type": "code",
   "execution_count": 142,
   "id": "c992dc28-972f-4606-8146-25d18d2c6099",
   "metadata": {},
   "outputs": [
    {
     "data": {
      "image/png": "[encoded data removed]",
      "image/svg+xml": [
       "<?xml version=\"1.0\" encoding=\"utf-8\"?>\n",
       "<svg xmlns=\"http://www.w3.org/2000/svg\" xmlns:xlink=\"http://www.w3.org/1999/xlink\" width=\"600\" height=\"400\" viewBox=\"0 0 2400 1600\">\n",
       "<defs>\n",
       "  <clipPath id=\"clip140\">\n",
       "    <rect x=\"0\" y=\"0\" width=\"2400\" height=\"1600\"/>\n",
       "  </clipPath>\n",
       "</defs>\n",
       "<path clip-path=\"url(#clip140)\" d=\"M0 1600 L2400 1600 L2400 8.88178e-14 L0 8.88178e-14  Z\" fill=\"#ffffff\" fill-rule=\"evenodd\" fill-opacity=\"1\"/>\n",
       "<defs>\n",
       "  <clipPath id=\"clip141\">\n",
       "    <rect x=\"480\" y=\"0\" width=\"1681\" height=\"1600\"/>\n",
       "  </clipPath>\n",
       "</defs>\n",
       "<path clip-path=\"url(#clip140)\" d=\"M219.866 1423.18 L2352.76 1423.18 L2352.76 47.2441 L219.866 47.2441  Z\" fill=\"#ffffff\" fill-rule=\"evenodd\" fill-opacity=\"1\"/>\n",
       "<defs>\n",
       "  <clipPath id=\"clip142\">\n",
       "    <rect x=\"219\" y=\"47\" width=\"2134\" height=\"1377\"/>\n",
       "  </clipPath>\n",
       "</defs>\n",
       "<polyline clip-path=\"url(#clip142)\" style=\"stroke:#000000; stroke-linecap:round; stroke-linejoin:round; stroke-width:2; stroke-opacity:0.1; fill:none\" points=\"259.906,1423.18 259.906,47.2441 \"/>\n",
       "<polyline clip-path=\"url(#clip142)\" style=\"stroke:#000000; stroke-linecap:round; stroke-linejoin:round; stroke-width:2; stroke-opacity:0.1; fill:none\" points=\"768.027,1423.18 768.027,47.2441 \"/>\n",
       "<polyline clip-path=\"url(#clip142)\" style=\"stroke:#000000; stroke-linecap:round; stroke-linejoin:round; stroke-width:2; stroke-opacity:0.1; fill:none\" points=\"1276.15,1423.18 1276.15,47.2441 \"/>\n",
       "<polyline clip-path=\"url(#clip142)\" style=\"stroke:#000000; stroke-linecap:round; stroke-linejoin:round; stroke-width:2; stroke-opacity:0.1; fill:none\" points=\"1784.27,1423.18 1784.27,47.2441 \"/>\n",
       "<polyline clip-path=\"url(#clip142)\" style=\"stroke:#000000; stroke-linecap:round; stroke-linejoin:round; stroke-width:2; stroke-opacity:0.1; fill:none\" points=\"2292.39,1423.18 2292.39,47.2441 \"/>\n",
       "<polyline clip-path=\"url(#clip142)\" style=\"stroke:#000000; stroke-linecap:round; stroke-linejoin:round; stroke-width:2; stroke-opacity:0.1; fill:none\" points=\"219.866,1399.75 2352.76,1399.75 \"/>\n",
       "<polyline clip-path=\"url(#clip142)\" style=\"stroke:#000000; stroke-linecap:round; stroke-linejoin:round; stroke-width:2; stroke-opacity:0.1; fill:none\" points=\"219.866,1089.05 2352.76,1089.05 \"/>\n",
       "<polyline clip-path=\"url(#clip142)\" style=\"stroke:#000000; stroke-linecap:round; stroke-linejoin:round; stroke-width:2; stroke-opacity:0.1; fill:none\" points=\"219.866,778.361 2352.76,778.361 \"/>\n",
       "<polyline clip-path=\"url(#clip142)\" style=\"stroke:#000000; stroke-linecap:round; stroke-linejoin:round; stroke-width:2; stroke-opacity:0.1; fill:none\" points=\"219.866,467.668 2352.76,467.668 \"/>\n",
       "<polyline clip-path=\"url(#clip142)\" style=\"stroke:#000000; stroke-linecap:round; stroke-linejoin:round; stroke-width:2; stroke-opacity:0.1; fill:none\" points=\"219.866,156.975 2352.76,156.975 \"/>\n",
       "<polyline clip-path=\"url(#clip140)\" style=\"stroke:#000000; stroke-linecap:round; stroke-linejoin:round; stroke-width:4; stroke-opacity:1; fill:none\" points=\"219.866,1423.18 2352.76,1423.18 \"/>\n",
       "<polyline clip-path=\"url(#clip140)\" style=\"stroke:#000000; stroke-linecap:round; stroke-linejoin:round; stroke-width:4; stroke-opacity:1; fill:none\" points=\"259.906,1423.18 259.906,1404.28 \"/>\n",
       "<polyline clip-path=\"url(#clip140)\" style=\"stroke:#000000; stroke-linecap:round; stroke-linejoin:round; stroke-width:4; stroke-opacity:1; fill:none\" points=\"768.027,1423.18 768.027,1404.28 \"/>\n",
       "<polyline clip-path=\"url(#clip140)\" style=\"stroke:#000000; stroke-linecap:round; stroke-linejoin:round; stroke-width:4; stroke-opacity:1; fill:none\" points=\"1276.15,1423.18 1276.15,1404.28 \"/>\n",
       "<polyline clip-path=\"url(#clip140)\" style=\"stroke:#000000; stroke-linecap:round; stroke-linejoin:round; stroke-width:4; stroke-opacity:1; fill:none\" points=\"1784.27,1423.18 1784.27,1404.28 \"/>\n",
       "<polyline clip-path=\"url(#clip140)\" style=\"stroke:#000000; stroke-linecap:round; stroke-linejoin:round; stroke-width:4; stroke-opacity:1; fill:none\" points=\"2292.39,1423.18 2292.39,1404.28 \"/>\n",
       "<path clip-path=\"url(#clip140)\" d=\"M219.513 1481.64 L227.152 1481.64 L227.152 1455.28 L218.842 1456.95 L218.842 1452.69 L227.105 1451.02 L231.781 1451.02 L231.781 1481.64 L239.42 1481.64 L239.42 1485.58 L219.513 1485.58 L219.513 1481.64 Z\" fill=\"#000000\" fill-rule=\"nonzero\" fill-opacity=\"1\" /><path clip-path=\"url(#clip140)\" d=\"M258.865 1454.1 Q255.253 1454.1 253.425 1457.66 Q251.619 1461.2 251.619 1468.33 Q251.619 1475.44 253.425 1479.01 Q255.253 1482.55 258.865 1482.55 Q262.499 1482.55 264.304 1479.01 Q266.133 1475.44 266.133 1468.33 Q266.133 1461.2 264.304 1457.66 Q262.499 1454.1 258.865 1454.1 M258.865 1450.39 Q264.675 1450.39 267.73 1455 Q270.809 1459.58 270.809 1468.33 Q270.809 1477.06 267.73 1481.67 Q264.675 1486.25 258.865 1486.25 Q253.054 1486.25 249.976 1481.67 Q246.92 1477.06 246.92 1468.33 Q246.92 1459.58 249.976 1455 Q253.054 1450.39 258.865 1450.39 Z\" fill=\"#000000\" fill-rule=\"nonzero\" fill-opacity=\"1\" /><path clip-path=\"url(#clip140)\" d=\"M289.026 1454.1 Q285.415 1454.1 283.587 1457.66 Q281.781 1461.2 281.781 1468.33 Q281.781 1475.44 283.587 1479.01 Q285.415 1482.55 289.026 1482.55 Q292.661 1482.55 294.466 1479.01 Q296.295 1475.44 296.295 1468.33 Q296.295 1461.2 294.466 1457.66 Q292.661 1454.1 289.026 1454.1 M289.026 1450.39 Q294.837 1450.39 297.892 1455 Q300.971 1459.58 300.971 1468.33 Q300.971 1477.06 297.892 1481.67 Q294.837 1486.25 289.026 1486.25 Q283.216 1486.25 280.138 1481.67 Q277.082 1477.06 277.082 1468.33 Q277.082 1459.58 280.138 1455 Q283.216 1450.39 289.026 1450.39 Z\" fill=\"#000000\" fill-rule=\"nonzero\" fill-opacity=\"1\" /><path clip-path=\"url(#clip140)\" d=\"M728.132 1481.64 L735.771 1481.64 L735.771 1455.28 L727.461 1456.95 L727.461 1452.69 L735.724 1451.02 L740.4 1451.02 L740.4 1481.64 L748.039 1481.64 L748.039 1485.58 L728.132 1485.58 L728.132 1481.64 Z\" fill=\"#000000\" fill-rule=\"nonzero\" fill-opacity=\"1\" /><path clip-path=\"url(#clip140)\" d=\"M761.511 1481.64 L777.831 1481.64 L777.831 1485.58 L755.886 1485.58 L755.886 1481.64 Q758.548 1478.89 763.132 1474.26 Q767.738 1469.61 768.919 1468.27 Q771.164 1465.74 772.044 1464.01 Q772.946 1462.25 772.946 1460.56 Q772.946 1457.8 771.002 1456.07 Q769.081 1454.33 765.979 1454.33 Q763.78 1454.33 761.326 1455.09 Q758.896 1455.86 756.118 1457.41 L756.118 1452.69 Q758.942 1451.55 761.396 1450.97 Q763.849 1450.39 765.886 1450.39 Q771.257 1450.39 774.451 1453.08 Q777.645 1455.77 777.645 1460.26 Q777.645 1462.39 776.835 1464.31 Q776.048 1466.2 773.942 1468.8 Q773.363 1469.47 770.261 1472.69 Q767.159 1475.88 761.511 1481.64 Z\" fill=\"#000000\" fill-rule=\"nonzero\" fill-opacity=\"1\" /><path clip-path=\"url(#clip140)\" d=\"M787.692 1451.02 L806.048 1451.02 L806.048 1454.96 L791.974 1454.96 L791.974 1463.43 Q792.993 1463.08 794.011 1462.92 Q795.03 1462.73 796.048 1462.73 Q801.835 1462.73 805.215 1465.9 Q808.594 1469.08 808.594 1474.49 Q808.594 1480.07 805.122 1483.17 Q801.65 1486.25 795.331 1486.25 Q793.155 1486.25 790.886 1485.88 Q788.641 1485.51 786.233 1484.77 L786.233 1480.07 Q788.317 1481.2 790.539 1481.76 Q792.761 1482.32 795.238 1482.32 Q799.243 1482.32 801.581 1480.21 Q803.918 1478.1 803.918 1474.49 Q803.918 1470.88 801.581 1468.77 Q799.243 1466.67 795.238 1466.67 Q793.363 1466.67 791.488 1467.08 Q789.636 1467.5 787.692 1468.38 L787.692 1451.02 Z\" fill=\"#000000\" fill-rule=\"nonzero\" fill-opacity=\"1\" /><path clip-path=\"url(#clip140)\" d=\"M1235.76 1481.64 L1243.39 1481.64 L1243.39 1455.28 L1235.08 1456.95 L1235.08 1452.69 L1243.35 1451.02 L1248.02 1451.02 L1248.02 1481.64 L1255.66 1481.64 L1255.66 1485.58 L1235.76 1485.58 L1235.76 1481.64 Z\" fill=\"#000000\" fill-rule=\"nonzero\" fill-opacity=\"1\" /><path clip-path=\"url(#clip140)\" d=\"M1265.15 1451.02 L1283.51 1451.02 L1283.51 1454.96 L1269.44 1454.96 L1269.44 1463.43 Q1270.45 1463.08 1271.47 1462.92 Q1272.49 1462.73 1273.51 1462.73 Q1279.3 1462.73 1282.68 1465.9 Q1286.06 1469.08 1286.06 1474.49 Q1286.06 1480.07 1282.58 1483.17 Q1279.11 1486.25 1272.79 1486.25 Q1270.62 1486.25 1268.35 1485.88 Q1266.1 1485.51 1263.7 1484.77 L1263.7 1480.07 Q1265.78 1481.2 1268 1481.76 Q1270.22 1482.32 1272.7 1482.32 Q1276.7 1482.32 1279.04 1480.21 Q1281.38 1478.1 1281.38 1474.49 Q1281.38 1470.88 1279.04 1468.77 Q1276.7 1466.67 1272.7 1466.67 Q1270.82 1466.67 1268.95 1467.08 Q1267.1 1467.5 1265.15 1468.38 L1265.15 1451.02 Z\" fill=\"#000000\" fill-rule=\"nonzero\" fill-opacity=\"1\" /><path clip-path=\"url(#clip140)\" d=\"M1305.27 1454.1 Q1301.66 1454.1 1299.83 1457.66 Q1298.02 1461.2 1298.02 1468.33 Q1298.02 1475.44 1299.83 1479.01 Q1301.66 1482.55 1305.27 1482.55 Q1308.9 1482.55 1310.71 1479.01 Q1312.54 1475.44 1312.54 1468.33 Q1312.54 1461.2 1310.71 1457.66 Q1308.9 1454.1 1305.27 1454.1 M1305.27 1450.39 Q1311.08 1450.39 1314.13 1455 Q1317.21 1459.58 1317.21 1468.33 Q1317.21 1477.06 1314.13 1481.67 Q1311.08 1486.25 1305.27 1486.25 Q1299.46 1486.25 1296.38 1481.67 Q1293.32 1477.06 1293.32 1468.33 Q1293.32 1459.58 1296.38 1455 Q1299.46 1450.39 1305.27 1450.39 Z\" fill=\"#000000\" fill-rule=\"nonzero\" fill-opacity=\"1\" /><path clip-path=\"url(#clip140)\" d=\"M1744.37 1481.64 L1752.01 1481.64 L1752.01 1455.28 L1743.7 1456.95 L1743.7 1452.69 L1751.97 1451.02 L1756.64 1451.02 L1756.64 1481.64 L1764.28 1481.64 L1764.28 1485.58 L1744.37 1485.58 L1744.37 1481.64 Z\" fill=\"#000000\" fill-rule=\"nonzero\" fill-opacity=\"1\" /><path clip-path=\"url(#clip140)\" d=\"M1772.55 1451.02 L1794.77 1451.02 L1794.77 1453.01 L1782.22 1485.58 L1777.34 1485.58 L1789.14 1454.96 L1772.55 1454.96 L1772.55 1451.02 Z\" fill=\"#000000\" fill-rule=\"nonzero\" fill-opacity=\"1\" /><path clip-path=\"url(#clip140)\" d=\"M1803.93 1451.02 L1822.29 1451.02 L1822.29 1454.96 L1808.22 1454.96 L1808.22 1463.43 Q1809.24 1463.08 1810.25 1462.92 Q1811.27 1462.73 1812.29 1462.73 Q1818.08 1462.73 1821.46 1465.9 Q1824.84 1469.08 1824.84 1474.49 Q1824.84 1480.07 1821.36 1483.17 Q1817.89 1486.25 1811.57 1486.25 Q1809.4 1486.25 1807.13 1485.88 Q1804.88 1485.51 1802.48 1484.77 L1802.48 1480.07 Q1804.56 1481.2 1806.78 1481.76 Q1809 1482.32 1811.48 1482.32 Q1815.48 1482.32 1817.82 1480.21 Q1820.16 1478.1 1820.16 1474.49 Q1820.16 1470.88 1817.82 1468.77 Q1815.48 1466.67 1811.48 1466.67 Q1809.61 1466.67 1807.73 1467.08 Q1805.88 1467.5 1803.93 1468.38 L1803.93 1451.02 Z\" fill=\"#000000\" fill-rule=\"nonzero\" fill-opacity=\"1\" /><path clip-path=\"url(#clip140)\" d=\"M2256.08 1481.64 L2272.4 1481.64 L2272.4 1485.58 L2250.46 1485.58 L2250.46 1481.64 Q2253.12 1478.89 2257.7 1474.26 Q2262.31 1469.61 2263.49 1468.27 Q2265.74 1465.74 2266.62 1464.01 Q2267.52 1462.25 2267.52 1460.56 Q2267.52 1457.8 2265.57 1456.07 Q2263.65 1454.33 2260.55 1454.33 Q2258.35 1454.33 2255.9 1455.09 Q2253.47 1455.86 2250.69 1457.41 L2250.69 1452.69 Q2253.51 1451.55 2255.97 1450.97 Q2258.42 1450.39 2260.46 1450.39 Q2265.83 1450.39 2269.02 1453.08 Q2272.22 1455.77 2272.22 1460.26 Q2272.22 1462.39 2271.41 1464.31 Q2270.62 1466.2 2268.51 1468.8 Q2267.94 1469.47 2264.83 1472.69 Q2261.73 1475.88 2256.08 1481.64 Z\" fill=\"#000000\" fill-rule=\"nonzero\" fill-opacity=\"1\" /><path clip-path=\"url(#clip140)\" d=\"M2292.22 1454.1 Q2288.61 1454.1 2286.78 1457.66 Q2284.97 1461.2 2284.97 1468.33 Q2284.97 1475.44 2286.78 1479.01 Q2288.61 1482.55 2292.22 1482.55 Q2295.85 1482.55 2297.66 1479.01 Q2299.49 1475.44 2299.49 1468.33 Q2299.49 1461.2 2297.66 1457.66 Q2295.85 1454.1 2292.22 1454.1 M2292.22 1450.39 Q2298.03 1450.39 2301.08 1455 Q2304.16 1459.58 2304.16 1468.33 Q2304.16 1477.06 2301.08 1481.67 Q2298.03 1486.25 2292.22 1486.25 Q2286.41 1486.25 2283.33 1481.67 Q2280.27 1477.06 2280.27 1468.33 Q2280.27 1459.58 2283.33 1455 Q2286.41 1450.39 2292.22 1450.39 Z\" fill=\"#000000\" fill-rule=\"nonzero\" fill-opacity=\"1\" /><path clip-path=\"url(#clip140)\" d=\"M2322.38 1454.1 Q2318.77 1454.1 2316.94 1457.66 Q2315.13 1461.2 2315.13 1468.33 Q2315.13 1475.44 2316.94 1479.01 Q2318.77 1482.55 2322.38 1482.55 Q2326.01 1482.55 2327.82 1479.01 Q2329.65 1475.44 2329.65 1468.33 Q2329.65 1461.2 2327.82 1457.66 Q2326.01 1454.1 2322.38 1454.1 M2322.38 1450.39 Q2328.19 1450.39 2331.25 1455 Q2334.32 1459.58 2334.32 1468.33 Q2334.32 1477.06 2331.25 1481.67 Q2328.19 1486.25 2322.38 1486.25 Q2316.57 1486.25 2313.49 1481.67 Q2310.43 1477.06 2310.43 1468.33 Q2310.43 1459.58 2313.49 1455 Q2316.57 1450.39 2322.38 1450.39 Z\" fill=\"#000000\" fill-rule=\"nonzero\" fill-opacity=\"1\" /><path clip-path=\"url(#clip140)\" d=\"M1301.24 1546.53 L1301.24 1568.04 L1295.38 1568.04 L1295.38 1546.72 Q1295.38 1541.66 1293.41 1539.14 Q1291.44 1536.63 1287.49 1536.63 Q1282.75 1536.63 1280.01 1539.65 Q1277.27 1542.68 1277.27 1547.9 L1277.27 1568.04 L1271.38 1568.04 L1271.38 1532.4 L1277.27 1532.4 L1277.27 1537.93 Q1279.37 1534.72 1282.21 1533.13 Q1285.07 1531.54 1288.79 1531.54 Q1294.94 1531.54 1298.09 1535.36 Q1301.24 1539.14 1301.24 1546.53 Z\" fill=\"#000000\" fill-rule=\"nonzero\" fill-opacity=\"1\" /><polyline clip-path=\"url(#clip140)\" style=\"stroke:#000000; stroke-linecap:round; stroke-linejoin:round; stroke-width:4; stroke-opacity:1; fill:none\" points=\"219.866,1423.18 219.866,47.2441 \"/>\n",
       "<polyline clip-path=\"url(#clip140)\" style=\"stroke:#000000; stroke-linecap:round; stroke-linejoin:round; stroke-width:4; stroke-opacity:1; fill:none\" points=\"219.866,1399.75 238.764,1399.75 \"/>\n",
       "<polyline clip-path=\"url(#clip140)\" style=\"stroke:#000000; stroke-linecap:round; stroke-linejoin:round; stroke-width:4; stroke-opacity:1; fill:none\" points=\"219.866,1089.05 238.764,1089.05 \"/>\n",
       "<polyline clip-path=\"url(#clip140)\" style=\"stroke:#000000; stroke-linecap:round; stroke-linejoin:round; stroke-width:4; stroke-opacity:1; fill:none\" points=\"219.866,778.361 238.764,778.361 \"/>\n",
       "<polyline clip-path=\"url(#clip140)\" style=\"stroke:#000000; stroke-linecap:round; stroke-linejoin:round; stroke-width:4; stroke-opacity:1; fill:none\" points=\"219.866,467.668 238.764,467.668 \"/>\n",
       "<polyline clip-path=\"url(#clip140)\" style=\"stroke:#000000; stroke-linecap:round; stroke-linejoin:round; stroke-width:4; stroke-opacity:1; fill:none\" points=\"219.866,156.975 238.764,156.975 \"/>\n",
       "<path clip-path=\"url(#clip140)\" d=\"M126.691 1385.55 Q123.08 1385.55 121.251 1389.11 Q119.445 1392.65 119.445 1399.78 Q119.445 1406.89 121.251 1410.45 Q123.08 1413.99 126.691 1413.99 Q130.325 1413.99 132.13 1410.45 Q133.959 1406.89 133.959 1399.78 Q133.959 1392.65 132.13 1389.11 Q130.325 1385.55 126.691 1385.55 M126.691 1381.84 Q132.501 1381.84 135.556 1386.45 Q138.635 1391.03 138.635 1399.78 Q138.635 1408.51 135.556 1413.12 Q132.501 1417.7 126.691 1417.7 Q120.88 1417.7 117.802 1413.12 Q114.746 1408.51 114.746 1399.78 Q114.746 1391.03 117.802 1386.45 Q120.88 1381.84 126.691 1381.84 Z\" fill=\"#000000\" fill-rule=\"nonzero\" fill-opacity=\"1\" /><path clip-path=\"url(#clip140)\" d=\"M146.853 1411.15 L151.737 1411.15 L151.737 1417.03 L146.853 1417.03 L146.853 1411.15 Z\" fill=\"#000000\" fill-rule=\"nonzero\" fill-opacity=\"1\" /><path clip-path=\"url(#clip140)\" d=\"M171.922 1385.55 Q168.311 1385.55 166.482 1389.11 Q164.677 1392.65 164.677 1399.78 Q164.677 1406.89 166.482 1410.45 Q168.311 1413.99 171.922 1413.99 Q175.556 1413.99 177.362 1410.45 Q179.19 1406.89 179.19 1399.78 Q179.19 1392.65 177.362 1389.11 Q175.556 1385.55 171.922 1385.55 M171.922 1381.84 Q177.732 1381.84 180.788 1386.45 Q183.866 1391.03 183.866 1399.78 Q183.866 1408.51 180.788 1413.12 Q177.732 1417.7 171.922 1417.7 Q166.112 1417.7 163.033 1413.12 Q159.978 1408.51 159.978 1399.78 Q159.978 1391.03 163.033 1386.45 Q166.112 1381.84 171.922 1381.84 Z\" fill=\"#000000\" fill-rule=\"nonzero\" fill-opacity=\"1\" /><path clip-path=\"url(#clip140)\" d=\"M127.917 1074.85 Q124.306 1074.85 122.478 1078.42 Q120.672 1081.96 120.672 1089.09 Q120.672 1096.2 122.478 1099.76 Q124.306 1103.3 127.917 1103.3 Q131.552 1103.3 133.357 1099.76 Q135.186 1096.2 135.186 1089.09 Q135.186 1081.96 133.357 1078.42 Q131.552 1074.85 127.917 1074.85 M127.917 1071.15 Q133.728 1071.15 136.783 1075.76 Q139.862 1080.34 139.862 1089.09 Q139.862 1097.82 136.783 1102.42 Q133.728 1107.01 127.917 1107.01 Q122.107 1107.01 119.029 1102.42 Q115.973 1097.82 115.973 1089.09 Q115.973 1080.34 119.029 1075.76 Q122.107 1071.15 127.917 1071.15 Z\" fill=\"#000000\" fill-rule=\"nonzero\" fill-opacity=\"1\" /><path clip-path=\"url(#clip140)\" d=\"M148.079 1100.45 L152.964 1100.45 L152.964 1106.33 L148.079 1106.33 L148.079 1100.45 Z\" fill=\"#000000\" fill-rule=\"nonzero\" fill-opacity=\"1\" /><path clip-path=\"url(#clip140)\" d=\"M163.959 1102.4 L171.598 1102.4 L171.598 1076.03 L163.288 1077.7 L163.288 1073.44 L171.552 1071.77 L176.227 1071.77 L176.227 1102.4 L183.866 1102.4 L183.866 1106.33 L163.959 1106.33 L163.959 1102.4 Z\" fill=\"#000000\" fill-rule=\"nonzero\" fill-opacity=\"1\" /><path clip-path=\"url(#clip140)\" d=\"M128.288 764.16 Q124.677 764.16 122.848 767.724 Q121.043 771.266 121.043 778.396 Q121.043 785.502 122.848 789.067 Q124.677 792.609 128.288 792.609 Q131.922 792.609 133.728 789.067 Q135.556 785.502 135.556 778.396 Q135.556 771.266 133.728 767.724 Q131.922 764.16 128.288 764.16 M128.288 760.456 Q134.098 760.456 137.154 765.062 Q140.232 769.646 140.232 778.396 Q140.232 787.123 137.154 791.729 Q134.098 796.312 128.288 796.312 Q122.478 796.312 119.399 791.729 Q116.343 787.123 116.343 778.396 Q116.343 769.646 119.399 765.062 Q122.478 760.456 128.288 760.456 Z\" fill=\"#000000\" fill-rule=\"nonzero\" fill-opacity=\"1\" /><path clip-path=\"url(#clip140)\" d=\"M148.45 789.761 L153.334 789.761 L153.334 795.641 L148.45 795.641 L148.45 789.761 Z\" fill=\"#000000\" fill-rule=\"nonzero\" fill-opacity=\"1\" /><path clip-path=\"url(#clip140)\" d=\"M167.547 791.706 L183.866 791.706 L183.866 795.641 L161.922 795.641 L161.922 791.706 Q164.584 788.951 169.167 784.322 Q173.774 779.669 174.954 778.326 Q177.2 775.803 178.079 774.067 Q178.982 772.308 178.982 770.618 Q178.982 767.863 177.038 766.127 Q175.116 764.391 172.014 764.391 Q169.815 764.391 167.362 765.155 Q164.931 765.919 162.153 767.47 L162.153 762.748 Q164.977 761.613 167.431 761.035 Q169.885 760.456 171.922 760.456 Q177.292 760.456 180.487 763.141 Q183.681 765.826 183.681 770.317 Q183.681 772.447 182.871 774.368 Q182.084 776.266 179.977 778.859 Q179.399 779.53 176.297 782.748 Q173.195 785.942 167.547 791.706 Z\" fill=\"#000000\" fill-rule=\"nonzero\" fill-opacity=\"1\" /><path clip-path=\"url(#clip140)\" d=\"M127.339 453.467 Q123.728 453.467 121.899 457.031 Q120.093 460.573 120.093 467.703 Q120.093 474.809 121.899 478.374 Q123.728 481.916 127.339 481.916 Q130.973 481.916 132.779 478.374 Q134.607 474.809 134.607 467.703 Q134.607 460.573 132.779 457.031 Q130.973 453.467 127.339 453.467 M127.339 449.763 Q133.149 449.763 136.204 454.369 Q139.283 458.953 139.283 467.703 Q139.283 476.43 136.204 481.036 Q133.149 485.619 127.339 485.619 Q121.529 485.619 118.45 481.036 Q115.394 476.43 115.394 467.703 Q115.394 458.953 118.45 454.369 Q121.529 449.763 127.339 449.763 Z\" fill=\"#000000\" fill-rule=\"nonzero\" fill-opacity=\"1\" /><path clip-path=\"url(#clip140)\" d=\"M147.501 479.068 L152.385 479.068 L152.385 484.948 L147.501 484.948 L147.501 479.068 Z\" fill=\"#000000\" fill-rule=\"nonzero\" fill-opacity=\"1\" /><path clip-path=\"url(#clip140)\" d=\"M176.737 466.314 Q180.093 467.031 181.968 469.3 Q183.866 471.568 183.866 474.902 Q183.866 480.017 180.348 482.818 Q176.829 485.619 170.348 485.619 Q168.172 485.619 165.857 485.179 Q163.565 484.763 161.112 483.906 L161.112 479.392 Q163.056 480.527 165.371 481.105 Q167.686 481.684 170.209 481.684 Q174.607 481.684 176.899 479.948 Q179.214 478.212 179.214 474.902 Q179.214 471.846 177.061 470.133 Q174.931 468.397 171.112 468.397 L167.084 468.397 L167.084 464.555 L171.297 464.555 Q174.746 464.555 176.575 463.189 Q178.403 461.8 178.403 459.207 Q178.403 456.545 176.505 455.133 Q174.63 453.698 171.112 453.698 Q169.19 453.698 166.991 454.115 Q164.792 454.532 162.153 455.411 L162.153 451.244 Q164.815 450.504 167.13 450.133 Q169.468 449.763 171.528 449.763 Q176.852 449.763 179.954 452.194 Q183.056 454.601 183.056 458.721 Q183.056 461.592 181.413 463.582 Q179.769 465.55 176.737 466.314 Z\" fill=\"#000000\" fill-rule=\"nonzero\" fill-opacity=\"1\" /><path clip-path=\"url(#clip140)\" d=\"M126.205 142.774 Q122.593 142.774 120.765 146.338 Q118.959 149.88 118.959 157.01 Q118.959 164.116 120.765 167.681 Q122.593 171.223 126.205 171.223 Q129.839 171.223 131.644 167.681 Q133.473 164.116 133.473 157.01 Q133.473 149.88 131.644 146.338 Q129.839 142.774 126.205 142.774 M126.205 139.07 Q132.015 139.07 135.07 143.676 Q138.149 148.26 138.149 157.01 Q138.149 165.737 135.07 170.343 Q132.015 174.926 126.205 174.926 Q120.394 174.926 117.316 170.343 Q114.26 165.737 114.26 157.01 Q114.26 148.26 117.316 143.676 Q120.394 139.07 126.205 139.07 Z\" fill=\"#000000\" fill-rule=\"nonzero\" fill-opacity=\"1\" /><path clip-path=\"url(#clip140)\" d=\"M146.366 168.375 L151.251 168.375 L151.251 174.255 L146.366 174.255 L146.366 168.375 Z\" fill=\"#000000\" fill-rule=\"nonzero\" fill-opacity=\"1\" /><path clip-path=\"url(#clip140)\" d=\"M174.283 143.769 L162.477 162.218 L174.283 162.218 L174.283 143.769 M173.056 139.695 L178.936 139.695 L178.936 162.218 L183.866 162.218 L183.866 166.107 L178.936 166.107 L178.936 174.255 L174.283 174.255 L174.283 166.107 L158.681 166.107 L158.681 161.593 L173.056 139.695 Z\" fill=\"#000000\" fill-rule=\"nonzero\" fill-opacity=\"1\" /><path clip-path=\"url(#clip140)\" d=\"M46.0847 861.73 Q46.0847 868.828 47.7079 871.565 Q49.3312 874.303 53.2461 874.303 Q56.3653 874.303 58.2114 872.266 Q60.0256 870.197 60.0256 866.664 Q60.0256 861.794 56.5881 858.866 Q53.1188 855.906 47.3897 855.906 L46.0847 855.906 L46.0847 861.73 M43.6657 850.049 L64.0042 850.049 L64.0042 855.906 L58.5933 855.906 Q61.8398 857.911 63.3994 860.903 Q64.9272 863.895 64.9272 868.223 Q64.9272 873.698 61.8716 876.944 Q58.7843 880.159 53.6281 880.159 Q47.6125 880.159 44.5569 876.149 Q41.5014 872.106 41.5014 864.118 L41.5014 855.906 L40.9285 855.906 Q36.8862 855.906 34.6901 858.579 Q32.4621 861.221 32.4621 866.027 Q32.4621 869.083 33.1941 871.979 Q33.9262 874.876 35.3903 877.549 L29.9795 877.549 Q28.7381 874.334 28.1334 871.311 Q27.4968 868.287 27.4968 865.422 Q27.4968 857.688 31.5072 853.869 Q35.5176 850.049 43.6657 850.049 Z\" fill=\"#000000\" fill-rule=\"nonzero\" fill-opacity=\"1\" /><path clip-path=\"url(#clip140)\" d=\"M46.212 812.396 Q39.7508 812.396 36.0905 815.07 Q32.3984 817.712 32.3984 822.358 Q32.3984 827.005 36.0905 829.679 Q39.7508 832.321 46.212 832.321 Q52.6732 832.321 56.3653 829.679 Q60.0256 827.005 60.0256 822.358 Q60.0256 817.712 56.3653 815.07 Q52.6732 812.396 46.212 812.396 M33.7671 832.321 Q30.5842 830.475 29.0564 827.674 Q27.4968 824.841 27.4968 820.926 Q27.4968 814.433 32.6531 810.391 Q37.8093 806.317 46.212 806.317 Q54.6147 806.317 59.771 810.391 Q64.9272 814.433 64.9272 820.926 Q64.9272 824.841 63.3994 827.674 Q61.8398 830.475 58.657 832.321 L64.0042 832.321 L64.0042 838.209 L14.479 838.209 L14.479 832.321 L33.7671 832.321 Z\" fill=\"#000000\" fill-rule=\"nonzero\" fill-opacity=\"1\" /><path clip-path=\"url(#clip140)\" d=\"M29.4065 773.884 L34.9447 773.884 Q33.6716 776.366 33.035 779.04 Q32.3984 781.713 32.3984 784.578 Q32.3984 788.939 33.7352 791.135 Q35.072 793.299 37.7456 793.299 Q39.7826 793.299 40.9603 791.739 Q42.1061 790.18 43.1565 785.469 L43.6021 783.464 Q44.9389 777.226 47.3897 774.616 Q49.8086 771.974 54.1691 771.974 Q59.1344 771.974 62.0308 775.921 Q64.9272 779.836 64.9272 786.711 Q64.9272 789.575 64.3543 792.694 Q63.8132 795.782 62.6992 799.219 L56.6518 799.219 Q58.3387 795.973 59.198 792.822 Q60.0256 789.671 60.0256 786.583 Q60.0256 782.446 58.6251 780.218 Q57.1929 777.99 54.6147 777.99 Q52.2276 777.99 50.9545 779.613 Q49.6813 781.204 48.5037 786.647 L48.0262 788.684 Q46.8804 794.127 44.5251 796.546 Q42.138 798.965 38.0002 798.965 Q32.9713 798.965 30.2341 795.4 Q27.4968 791.835 27.4968 785.278 Q27.4968 782.032 27.9743 779.167 Q28.4517 776.303 29.4065 773.884 Z\" fill=\"#000000\" fill-rule=\"nonzero\" fill-opacity=\"1\" /><path clip-path=\"url(#clip140)\" d=\"M44.7161 711.436 L47.5806 711.436 L47.5806 738.363 Q53.6281 737.981 56.8109 734.735 Q59.9619 731.456 59.9619 725.632 Q59.9619 722.258 59.1344 719.107 Q58.3069 715.924 56.6518 712.805 L62.1899 712.805 Q63.5267 715.956 64.227 719.266 Q64.9272 722.576 64.9272 725.982 Q64.9272 734.512 59.9619 739.509 Q54.9967 744.474 46.5303 744.474 Q37.7774 744.474 32.6531 739.763 Q27.4968 735.021 27.4968 727 Q27.4968 719.807 32.1438 715.637 Q36.7589 711.436 44.7161 711.436 M42.9973 717.293 Q38.1912 717.356 35.3266 719.998 Q32.4621 722.608 32.4621 726.937 Q32.4621 731.838 35.2312 734.798 Q38.0002 737.726 43.0292 738.172 L42.9973 717.293 Z\" fill=\"#000000\" fill-rule=\"nonzero\" fill-opacity=\"1\" /><path clip-path=\"url(#clip140)\" d=\"M33.8307 681.167 Q33.2578 682.154 33.0032 683.331 Q32.7167 684.477 32.7167 685.878 Q32.7167 690.843 35.9632 693.517 Q39.1779 696.158 45.2253 696.158 L64.0042 696.158 L64.0042 702.047 L28.3562 702.047 L28.3562 696.158 L33.8944 696.158 Q30.6479 694.312 29.0883 691.352 Q27.4968 688.392 27.4968 684.159 Q27.4968 683.554 27.5923 682.822 Q27.656 682.09 27.8151 681.199 L33.8307 681.167 Z\" fill=\"#000000\" fill-rule=\"nonzero\" fill-opacity=\"1\" /><path clip-path=\"url(#clip140)\" d=\"M33.8307 655.513 Q33.2578 656.5 33.0032 657.678 Q32.7167 658.823 32.7167 660.224 Q32.7167 665.189 35.9632 667.863 Q39.1779 670.505 45.2253 670.505 L64.0042 670.505 L64.0042 676.393 L28.3562 676.393 L28.3562 670.505 L33.8944 670.505 Q30.6479 668.659 29.0883 665.698 Q27.4968 662.738 27.4968 658.505 Q27.4968 657.9 27.5923 657.168 Q27.656 656.436 27.8151 655.545 L33.8307 655.513 Z\" fill=\"#000000\" fill-rule=\"nonzero\" fill-opacity=\"1\" /><path clip-path=\"url(#clip140)\" d=\"M32.4621 636.989 Q32.4621 641.7 36.1542 644.437 Q39.8145 647.174 46.212 647.174 Q52.6095 647.174 56.3017 644.469 Q59.9619 641.732 59.9619 636.989 Q59.9619 632.31 56.2698 629.573 Q52.5777 626.836 46.212 626.836 Q39.8781 626.836 36.186 629.573 Q32.4621 632.31 32.4621 636.989 M27.4968 636.989 Q27.4968 629.35 32.4621 624.99 Q37.4273 620.629 46.212 620.629 Q54.9649 620.629 59.9619 624.99 Q64.9272 629.35 64.9272 636.989 Q64.9272 644.66 59.9619 649.02 Q54.9649 653.349 46.212 653.349 Q37.4273 653.349 32.4621 649.02 Q27.4968 644.66 27.4968 636.989 Z\" fill=\"#000000\" fill-rule=\"nonzero\" fill-opacity=\"1\" /><path clip-path=\"url(#clip140)\" d=\"M33.8307 590.265 Q33.2578 591.252 33.0032 592.429 Q32.7167 593.575 32.7167 594.975 Q32.7167 599.941 35.9632 602.614 Q39.1779 605.256 45.2253 605.256 L64.0042 605.256 L64.0042 611.144 L28.3562 611.144 L28.3562 605.256 L33.8944 605.256 Q30.6479 603.41 29.0883 600.45 Q27.4968 597.49 27.4968 593.257 Q27.4968 592.652 27.5923 591.92 Q27.656 591.188 27.8151 590.297 L33.8307 590.265 Z\" fill=\"#000000\" fill-rule=\"nonzero\" fill-opacity=\"1\" /><polyline clip-path=\"url(#clip142)\" style=\"stroke:#009af9; stroke-linecap:round; stroke-linejoin:round; stroke-width:4; stroke-opacity:1; fill:none\" points=\"280.231,86.1857 300.556,686.28 320.881,910.389 341.206,1027.46 361.53,1099.37 381.855,1148.01 402.18,1183.1 422.505,1209.6 442.83,1230.33 463.155,1246.99 483.48,1260.66 503.804,1272.09 524.129,1281.78 544.454,1290.11 564.779,1297.33 585.104,1303.67 605.429,1309.26 625.753,1314.24 646.078,1318.7 666.403,1322.72 686.728,1326.36 707.053,1329.67 727.378,1332.69 747.703,1335.47 768.027,1338.02 788.352,1340.38 808.677,1342.57 829.002,1344.6 849.327,1346.49 869.652,1348.25 889.977,1349.9 910.301,1351.45 930.626,1352.91 950.951,1354.28 971.276,1355.57 991.601,1356.79 1011.93,1357.95 1032.25,1359.05 1052.58,1360.08 1072.9,1361.07 1093.23,1362.01 1113.55,1362.91 1133.87,1363.76 1154.2,1364.57 1174.52,1365.35 1194.85,1366.1 1215.17,1366.81 1235.5,1367.5 1255.82,1368.15 1276.15,1368.78 1296.47,1369.39 1316.8,1369.97 1337.12,1370.53 1357.45,1371.07 1377.77,1371.59 1398.1,1372.09 1418.42,1372.57 1438.75,1373.04 1459.07,1373.49 1479.4,1373.93 1499.72,1374.35 1520.05,1374.76 1540.37,1375.15 1560.7,1375.54 1581.02,1375.91 1601.35,1376.27 1621.67,1376.62 1642,1376.96 1662.32,1377.29 1682.65,1377.61 1702.97,1377.92 1723.3,1378.22 1743.62,1378.52 1763.95,1378.8 1784.27,1379.08 1804.59,1379.35 1824.92,1379.62 1845.24,1379.87 1865.57,1380.12 1885.89,1380.37 1906.22,1380.61 1926.54,1380.84 1946.87,1381.07 1967.19,1381.29 1987.52,1381.51 2007.84,1381.72 2028.17,1381.93 2048.49,1382.13 2068.82,1382.33 2089.14,1382.52 2109.47,1382.71 2129.79,1382.89 2150.12,1383.07 2170.44,1383.25 2190.77,1383.42 2211.09,1383.59 2231.42,1383.76 2251.74,1383.92 2272.07,1384.08 2292.39,1384.24 \"/>\n",
       "</svg>\n"
      ],
      "text/html": [
       "<?xml version=\"1.0\" encoding=\"utf-8\"?>\n",
       "<svg xmlns=\"http://www.w3.org/2000/svg\" xmlns:xlink=\"http://www.w3.org/1999/xlink\" width=\"600\" height=\"400\" viewBox=\"0 0 2400 1600\">\n",
       "<defs>\n",
       "  <clipPath id=\"clip190\">\n",
       "    <rect x=\"0\" y=\"0\" width=\"2400\" height=\"1600\"/>\n",
       "  </clipPath>\n",
       "</defs>\n",
       "<path clip-path=\"url(#clip190)\" d=\"M0 1600 L2400 1600 L2400 8.88178e-14 L0 8.88178e-14  Z\" fill=\"#ffffff\" fill-rule=\"evenodd\" fill-opacity=\"1\"/>\n",
       "<defs>\n",
       "  <clipPath id=\"clip191\">\n",
       "    <rect x=\"480\" y=\"0\" width=\"1681\" height=\"1600\"/>\n",
       "  </clipPath>\n",
       "</defs>\n",
       "<path clip-path=\"url(#clip190)\" d=\"M219.866 1423.18 L2352.76 1423.18 L2352.76 47.2441 L219.866 47.2441  Z\" fill=\"#ffffff\" fill-rule=\"evenodd\" fill-opacity=\"1\"/>\n",
       "<defs>\n",
       "  <clipPath id=\"clip192\">\n",
       "    <rect x=\"219\" y=\"47\" width=\"2134\" height=\"1377\"/>\n",
       "  </clipPath>\n",
       "</defs>\n",
       "<polyline clip-path=\"url(#clip192)\" style=\"stroke:#000000; stroke-linecap:round; stroke-linejoin:round; stroke-width:2; stroke-opacity:0.1; fill:none\" points=\"259.906,1423.18 259.906,47.2441 \"/>\n",
       "<polyline clip-path=\"url(#clip192)\" style=\"stroke:#000000; stroke-linecap:round; stroke-linejoin:round; stroke-width:2; stroke-opacity:0.1; fill:none\" points=\"768.027,1423.18 768.027,47.2441 \"/>\n",
       "<polyline clip-path=\"url(#clip192)\" style=\"stroke:#000000; stroke-linecap:round; stroke-linejoin:round; stroke-width:2; stroke-opacity:0.1; fill:none\" points=\"1276.15,1423.18 1276.15,47.2441 \"/>\n",
       "<polyline clip-path=\"url(#clip192)\" style=\"stroke:#000000; stroke-linecap:round; stroke-linejoin:round; stroke-width:2; stroke-opacity:0.1; fill:none\" points=\"1784.27,1423.18 1784.27,47.2441 \"/>\n",
       "<polyline clip-path=\"url(#clip192)\" style=\"stroke:#000000; stroke-linecap:round; stroke-linejoin:round; stroke-width:2; stroke-opacity:0.1; fill:none\" points=\"2292.39,1423.18 2292.39,47.2441 \"/>\n",
       "<polyline clip-path=\"url(#clip192)\" style=\"stroke:#000000; stroke-linecap:round; stroke-linejoin:round; stroke-width:2; stroke-opacity:0.1; fill:none\" points=\"219.866,1399.75 2352.76,1399.75 \"/>\n",
       "<polyline clip-path=\"url(#clip192)\" style=\"stroke:#000000; stroke-linecap:round; stroke-linejoin:round; stroke-width:2; stroke-opacity:0.1; fill:none\" points=\"219.866,1089.05 2352.76,1089.05 \"/>\n",
       "<polyline clip-path=\"url(#clip192)\" style=\"stroke:#000000; stroke-linecap:round; stroke-linejoin:round; stroke-width:2; stroke-opacity:0.1; fill:none\" points=\"219.866,778.361 2352.76,778.361 \"/>\n",
       "<polyline clip-path=\"url(#clip192)\" style=\"stroke:#000000; stroke-linecap:round; stroke-linejoin:round; stroke-width:2; stroke-opacity:0.1; fill:none\" points=\"219.866,467.668 2352.76,467.668 \"/>\n",
       "<polyline clip-path=\"url(#clip192)\" style=\"stroke:#000000; stroke-linecap:round; stroke-linejoin:round; stroke-width:2; stroke-opacity:0.1; fill:none\" points=\"219.866,156.975 2352.76,156.975 \"/>\n",
       "<polyline clip-path=\"url(#clip190)\" style=\"stroke:#000000; stroke-linecap:round; stroke-linejoin:round; stroke-width:4; stroke-opacity:1; fill:none\" points=\"219.866,1423.18 2352.76,1423.18 \"/>\n",
       "<polyline clip-path=\"url(#clip190)\" style=\"stroke:#000000; stroke-linecap:round; stroke-linejoin:round; stroke-width:4; stroke-opacity:1; fill:none\" points=\"259.906,1423.18 259.906,1404.28 \"/>\n",
       "<polyline clip-path=\"url(#clip190)\" style=\"stroke:#000000; stroke-linecap:round; stroke-linejoin:round; stroke-width:4; stroke-opacity:1; fill:none\" points=\"768.027,1423.18 768.027,1404.28 \"/>\n",
       "<polyline clip-path=\"url(#clip190)\" style=\"stroke:#000000; stroke-linecap:round; stroke-linejoin:round; stroke-width:4; stroke-opacity:1; fill:none\" points=\"1276.15,1423.18 1276.15,1404.28 \"/>\n",
       "<polyline clip-path=\"url(#clip190)\" style=\"stroke:#000000; stroke-linecap:round; stroke-linejoin:round; stroke-width:4; stroke-opacity:1; fill:none\" points=\"1784.27,1423.18 1784.27,1404.28 \"/>\n",
       "<polyline clip-path=\"url(#clip190)\" style=\"stroke:#000000; stroke-linecap:round; stroke-linejoin:round; stroke-width:4; stroke-opacity:1; fill:none\" points=\"2292.39,1423.18 2292.39,1404.28 \"/>\n",
       "<path clip-path=\"url(#clip190)\" d=\"M219.513 1481.64 L227.152 1481.64 L227.152 1455.28 L218.842 1456.95 L218.842 1452.69 L227.105 1451.02 L231.781 1451.02 L231.781 1481.64 L239.42 1481.64 L239.42 1485.58 L219.513 1485.58 L219.513 1481.64 Z\" fill=\"#000000\" fill-rule=\"nonzero\" fill-opacity=\"1\" /><path clip-path=\"url(#clip190)\" d=\"M258.865 1454.1 Q255.253 1454.1 253.425 1457.66 Q251.619 1461.2 251.619 1468.33 Q251.619 1475.44 253.425 1479.01 Q255.253 1482.55 258.865 1482.55 Q262.499 1482.55 264.304 1479.01 Q266.133 1475.44 266.133 1468.33 Q266.133 1461.2 264.304 1457.66 Q262.499 1454.1 258.865 1454.1 M258.865 1450.39 Q264.675 1450.39 267.73 1455 Q270.809 1459.58 270.809 1468.33 Q270.809 1477.06 267.73 1481.67 Q264.675 1486.25 258.865 1486.25 Q253.054 1486.25 249.976 1481.67 Q246.92 1477.06 246.92 1468.33 Q246.92 1459.58 249.976 1455 Q253.054 1450.39 258.865 1450.39 Z\" fill=\"#000000\" fill-rule=\"nonzero\" fill-opacity=\"1\" /><path clip-path=\"url(#clip190)\" d=\"M289.026 1454.1 Q285.415 1454.1 283.587 1457.66 Q281.781 1461.2 281.781 1468.33 Q281.781 1475.44 283.587 1479.01 Q285.415 1482.55 289.026 1482.55 Q292.661 1482.55 294.466 1479.01 Q296.295 1475.44 296.295 1468.33 Q296.295 1461.2 294.466 1457.66 Q292.661 1454.1 289.026 1454.1 M289.026 1450.39 Q294.837 1450.39 297.892 1455 Q300.971 1459.58 300.971 1468.33 Q300.971 1477.06 297.892 1481.67 Q294.837 1486.25 289.026 1486.25 Q283.216 1486.25 280.138 1481.67 Q277.082 1477.06 277.082 1468.33 Q277.082 1459.58 280.138 1455 Q283.216 1450.39 289.026 1450.39 Z\" fill=\"#000000\" fill-rule=\"nonzero\" fill-opacity=\"1\" /><path clip-path=\"url(#clip190)\" d=\"M728.132 1481.64 L735.771 1481.64 L735.771 1455.28 L727.461 1456.95 L727.461 1452.69 L735.724 1451.02 L740.4 1451.02 L740.4 1481.64 L748.039 1481.64 L748.039 1485.58 L728.132 1485.58 L728.132 1481.64 Z\" fill=\"#000000\" fill-rule=\"nonzero\" fill-opacity=\"1\" /><path clip-path=\"url(#clip190)\" d=\"M761.511 1481.64 L777.831 1481.64 L777.831 1485.58 L755.886 1485.58 L755.886 1481.64 Q758.548 1478.89 763.132 1474.26 Q767.738 1469.61 768.919 1468.27 Q771.164 1465.74 772.044 1464.01 Q772.946 1462.25 772.946 1460.56 Q772.946 1457.8 771.002 1456.07 Q769.081 1454.33 765.979 1454.33 Q763.78 1454.33 761.326 1455.09 Q758.896 1455.86 756.118 1457.41 L756.118 1452.69 Q758.942 1451.55 761.396 1450.97 Q763.849 1450.39 765.886 1450.39 Q771.257 1450.39 774.451 1453.08 Q777.645 1455.77 777.645 1460.26 Q777.645 1462.39 776.835 1464.31 Q776.048 1466.2 773.942 1468.8 Q773.363 1469.47 770.261 1472.69 Q767.159 1475.88 761.511 1481.64 Z\" fill=\"#000000\" fill-rule=\"nonzero\" fill-opacity=\"1\" /><path clip-path=\"url(#clip190)\" d=\"M787.692 1451.02 L806.048 1451.02 L806.048 1454.96 L791.974 1454.96 L791.974 1463.43 Q792.993 1463.08 794.011 1462.92 Q795.03 1462.73 796.048 1462.73 Q801.835 1462.73 805.215 1465.9 Q808.594 1469.08 808.594 1474.49 Q808.594 1480.07 805.122 1483.17 Q801.65 1486.25 795.331 1486.25 Q793.155 1486.25 790.886 1485.88 Q788.641 1485.51 786.233 1484.77 L786.233 1480.07 Q788.317 1481.2 790.539 1481.76 Q792.761 1482.32 795.238 1482.32 Q799.243 1482.32 801.581 1480.21 Q803.918 1478.1 803.918 1474.49 Q803.918 1470.88 801.581 1468.77 Q799.243 1466.67 795.238 1466.67 Q793.363 1466.67 791.488 1467.08 Q789.636 1467.5 787.692 1468.38 L787.692 1451.02 Z\" fill=\"#000000\" fill-rule=\"nonzero\" fill-opacity=\"1\" /><path clip-path=\"url(#clip190)\" d=\"M1235.76 1481.64 L1243.39 1481.64 L1243.39 1455.28 L1235.08 1456.95 L1235.08 1452.69 L1243.35 1451.02 L1248.02 1451.02 L1248.02 1481.64 L1255.66 1481.64 L1255.66 1485.58 L1235.76 1485.58 L1235.76 1481.64 Z\" fill=\"#000000\" fill-rule=\"nonzero\" fill-opacity=\"1\" /><path clip-path=\"url(#clip190)\" d=\"M1265.15 1451.02 L1283.51 1451.02 L1283.51 1454.96 L1269.44 1454.96 L1269.44 1463.43 Q1270.45 1463.08 1271.47 1462.92 Q1272.49 1462.73 1273.51 1462.73 Q1279.3 1462.73 1282.68 1465.9 Q1286.06 1469.08 1286.06 1474.49 Q1286.06 1480.07 1282.58 1483.17 Q1279.11 1486.25 1272.79 1486.25 Q1270.62 1486.25 1268.35 1485.88 Q1266.1 1485.51 1263.7 1484.77 L1263.7 1480.07 Q1265.78 1481.2 1268 1481.76 Q1270.22 1482.32 1272.7 1482.32 Q1276.7 1482.32 1279.04 1480.21 Q1281.38 1478.1 1281.38 1474.49 Q1281.38 1470.88 1279.04 1468.77 Q1276.7 1466.67 1272.7 1466.67 Q1270.82 1466.67 1268.95 1467.08 Q1267.1 1467.5 1265.15 1468.38 L1265.15 1451.02 Z\" fill=\"#000000\" fill-rule=\"nonzero\" fill-opacity=\"1\" /><path clip-path=\"url(#clip190)\" d=\"M1305.27 1454.1 Q1301.66 1454.1 1299.83 1457.66 Q1298.02 1461.2 1298.02 1468.33 Q1298.02 1475.44 1299.83 1479.01 Q1301.66 1482.55 1305.27 1482.55 Q1308.9 1482.55 1310.71 1479.01 Q1312.54 1475.44 1312.54 1468.33 Q1312.54 1461.2 1310.71 1457.66 Q1308.9 1454.1 1305.27 1454.1 M1305.27 1450.39 Q1311.08 1450.39 1314.13 1455 Q1317.21 1459.58 1317.21 1468.33 Q1317.21 1477.06 1314.13 1481.67 Q1311.08 1486.25 1305.27 1486.25 Q1299.46 1486.25 1296.38 1481.67 Q1293.32 1477.06 1293.32 1468.33 Q1293.32 1459.58 1296.38 1455 Q1299.46 1450.39 1305.27 1450.39 Z\" fill=\"#000000\" fill-rule=\"nonzero\" fill-opacity=\"1\" /><path clip-path=\"url(#clip190)\" d=\"M1744.37 1481.64 L1752.01 1481.64 L1752.01 1455.28 L1743.7 1456.95 L1743.7 1452.69 L1751.97 1451.02 L1756.64 1451.02 L1756.64 1481.64 L1764.28 1481.64 L1764.28 1485.58 L1744.37 1485.58 L1744.37 1481.64 Z\" fill=\"#000000\" fill-rule=\"nonzero\" fill-opacity=\"1\" /><path clip-path=\"url(#clip190)\" d=\"M1772.55 1451.02 L1794.77 1451.02 L1794.77 1453.01 L1782.22 1485.58 L1777.34 1485.58 L1789.14 1454.96 L1772.55 1454.96 L1772.55 1451.02 Z\" fill=\"#000000\" fill-rule=\"nonzero\" fill-opacity=\"1\" /><path clip-path=\"url(#clip190)\" d=\"M1803.93 1451.02 L1822.29 1451.02 L1822.29 1454.96 L1808.22 1454.96 L1808.22 1463.43 Q1809.24 1463.08 1810.25 1462.92 Q1811.27 1462.73 1812.29 1462.73 Q1818.08 1462.73 1821.46 1465.9 Q1824.84 1469.08 1824.84 1474.49 Q1824.84 1480.07 1821.36 1483.17 Q1817.89 1486.25 1811.57 1486.25 Q1809.4 1486.25 1807.13 1485.88 Q1804.88 1485.51 1802.48 1484.77 L1802.48 1480.07 Q1804.56 1481.2 1806.78 1481.76 Q1809 1482.32 1811.48 1482.32 Q1815.48 1482.32 1817.82 1480.21 Q1820.16 1478.1 1820.16 1474.49 Q1820.16 1470.88 1817.82 1468.77 Q1815.48 1466.67 1811.48 1466.67 Q1809.61 1466.67 1807.73 1467.08 Q1805.88 1467.5 1803.93 1468.38 L1803.93 1451.02 Z\" fill=\"#000000\" fill-rule=\"nonzero\" fill-opacity=\"1\" /><path clip-path=\"url(#clip190)\" d=\"M2256.08 1481.64 L2272.4 1481.64 L2272.4 1485.58 L2250.46 1485.58 L2250.46 1481.64 Q2253.12 1478.89 2257.7 1474.26 Q2262.31 1469.61 2263.49 1468.27 Q2265.74 1465.74 2266.62 1464.01 Q2267.52 1462.25 2267.52 1460.56 Q2267.52 1457.8 2265.57 1456.07 Q2263.65 1454.33 2260.55 1454.33 Q2258.35 1454.33 2255.9 1455.09 Q2253.47 1455.86 2250.69 1457.41 L2250.69 1452.69 Q2253.51 1451.55 2255.97 1450.97 Q2258.42 1450.39 2260.46 1450.39 Q2265.83 1450.39 2269.02 1453.08 Q2272.22 1455.77 2272.22 1460.26 Q2272.22 1462.39 2271.41 1464.31 Q2270.62 1466.2 2268.51 1468.8 Q2267.94 1469.47 2264.83 1472.69 Q2261.73 1475.88 2256.08 1481.64 Z\" fill=\"#000000\" fill-rule=\"nonzero\" fill-opacity=\"1\" /><path clip-path=\"url(#clip190)\" d=\"M2292.22 1454.1 Q2288.61 1454.1 2286.78 1457.66 Q2284.97 1461.2 2284.97 1468.33 Q2284.97 1475.44 2286.78 1479.01 Q2288.61 1482.55 2292.22 1482.55 Q2295.85 1482.55 2297.66 1479.01 Q2299.49 1475.44 2299.49 1468.33 Q2299.49 1461.2 2297.66 1457.66 Q2295.85 1454.1 2292.22 1454.1 M2292.22 1450.39 Q2298.03 1450.39 2301.08 1455 Q2304.16 1459.58 2304.16 1468.33 Q2304.16 1477.06 2301.08 1481.67 Q2298.03 1486.25 2292.22 1486.25 Q2286.41 1486.25 2283.33 1481.67 Q2280.27 1477.06 2280.27 1468.33 Q2280.27 1459.58 2283.33 1455 Q2286.41 1450.39 2292.22 1450.39 Z\" fill=\"#000000\" fill-rule=\"nonzero\" fill-opacity=\"1\" /><path clip-path=\"url(#clip190)\" d=\"M2322.38 1454.1 Q2318.77 1454.1 2316.94 1457.66 Q2315.13 1461.2 2315.13 1468.33 Q2315.13 1475.44 2316.94 1479.01 Q2318.77 1482.55 2322.38 1482.55 Q2326.01 1482.55 2327.82 1479.01 Q2329.65 1475.44 2329.65 1468.33 Q2329.65 1461.2 2327.82 1457.66 Q2326.01 1454.1 2322.38 1454.1 M2322.38 1450.39 Q2328.19 1450.39 2331.25 1455 Q2334.32 1459.58 2334.32 1468.33 Q2334.32 1477.06 2331.25 1481.67 Q2328.19 1486.25 2322.38 1486.25 Q2316.57 1486.25 2313.49 1481.67 Q2310.43 1477.06 2310.43 1468.33 Q2310.43 1459.58 2313.49 1455 Q2316.57 1450.39 2322.38 1450.39 Z\" fill=\"#000000\" fill-rule=\"nonzero\" fill-opacity=\"1\" /><path clip-path=\"url(#clip190)\" d=\"M1301.24 1546.53 L1301.24 1568.04 L1295.38 1568.04 L1295.38 1546.72 Q1295.38 1541.66 1293.41 1539.14 Q1291.44 1536.63 1287.49 1536.63 Q1282.75 1536.63 1280.01 1539.65 Q1277.27 1542.68 1277.27 1547.9 L1277.27 1568.04 L1271.38 1568.04 L1271.38 1532.4 L1277.27 1532.4 L1277.27 1537.93 Q1279.37 1534.72 1282.21 1533.13 Q1285.07 1531.54 1288.79 1531.54 Q1294.94 1531.54 1298.09 1535.36 Q1301.24 1539.14 1301.24 1546.53 Z\" fill=\"#000000\" fill-rule=\"nonzero\" fill-opacity=\"1\" /><polyline clip-path=\"url(#clip190)\" style=\"stroke:#000000; stroke-linecap:round; stroke-linejoin:round; stroke-width:4; stroke-opacity:1; fill:none\" points=\"219.866,1423.18 219.866,47.2441 \"/>\n",
       "<polyline clip-path=\"url(#clip190)\" style=\"stroke:#000000; stroke-linecap:round; stroke-linejoin:round; stroke-width:4; stroke-opacity:1; fill:none\" points=\"219.866,1399.75 238.764,1399.75 \"/>\n",
       "<polyline clip-path=\"url(#clip190)\" style=\"stroke:#000000; stroke-linecap:round; stroke-linejoin:round; stroke-width:4; stroke-opacity:1; fill:none\" points=\"219.866,1089.05 238.764,1089.05 \"/>\n",
       "<polyline clip-path=\"url(#clip190)\" style=\"stroke:#000000; stroke-linecap:round; stroke-linejoin:round; stroke-width:4; stroke-opacity:1; fill:none\" points=\"219.866,778.361 238.764,778.361 \"/>\n",
       "<polyline clip-path=\"url(#clip190)\" style=\"stroke:#000000; stroke-linecap:round; stroke-linejoin:round; stroke-width:4; stroke-opacity:1; fill:none\" points=\"219.866,467.668 238.764,467.668 \"/>\n",
       "<polyline clip-path=\"url(#clip190)\" style=\"stroke:#000000; stroke-linecap:round; stroke-linejoin:round; stroke-width:4; stroke-opacity:1; fill:none\" points=\"219.866,156.975 238.764,156.975 \"/>\n",
       "<path clip-path=\"url(#clip190)\" d=\"M126.691 1385.55 Q123.08 1385.55 121.251 1389.11 Q119.445 1392.65 119.445 1399.78 Q119.445 1406.89 121.251 1410.45 Q123.08 1413.99 126.691 1413.99 Q130.325 1413.99 132.13 1410.45 Q133.959 1406.89 133.959 1399.78 Q133.959 1392.65 132.13 1389.11 Q130.325 1385.55 126.691 1385.55 M126.691 1381.84 Q132.501 1381.84 135.556 1386.45 Q138.635 1391.03 138.635 1399.78 Q138.635 1408.51 135.556 1413.12 Q132.501 1417.7 126.691 1417.7 Q120.88 1417.7 117.802 1413.12 Q114.746 1408.51 114.746 1399.78 Q114.746 1391.03 117.802 1386.45 Q120.88 1381.84 126.691 1381.84 Z\" fill=\"#000000\" fill-rule=\"nonzero\" fill-opacity=\"1\" /><path clip-path=\"url(#clip190)\" d=\"M146.853 1411.15 L151.737 1411.15 L151.737 1417.03 L146.853 1417.03 L146.853 1411.15 Z\" fill=\"#000000\" fill-rule=\"nonzero\" fill-opacity=\"1\" /><path clip-path=\"url(#clip190)\" d=\"M171.922 1385.55 Q168.311 1385.55 166.482 1389.11 Q164.677 1392.65 164.677 1399.78 Q164.677 1406.89 166.482 1410.45 Q168.311 1413.99 171.922 1413.99 Q175.556 1413.99 177.362 1410.45 Q179.19 1406.89 179.19 1399.78 Q179.19 1392.65 177.362 1389.11 Q175.556 1385.55 171.922 1385.55 M171.922 1381.84 Q177.732 1381.84 180.788 1386.45 Q183.866 1391.03 183.866 1399.78 Q183.866 1408.51 180.788 1413.12 Q177.732 1417.7 171.922 1417.7 Q166.112 1417.7 163.033 1413.12 Q159.978 1408.51 159.978 1399.78 Q159.978 1391.03 163.033 1386.45 Q166.112 1381.84 171.922 1381.84 Z\" fill=\"#000000\" fill-rule=\"nonzero\" fill-opacity=\"1\" /><path clip-path=\"url(#clip190)\" d=\"M127.917 1074.85 Q124.306 1074.85 122.478 1078.42 Q120.672 1081.96 120.672 1089.09 Q120.672 1096.2 122.478 1099.76 Q124.306 1103.3 127.917 1103.3 Q131.552 1103.3 133.357 1099.76 Q135.186 1096.2 135.186 1089.09 Q135.186 1081.96 133.357 1078.42 Q131.552 1074.85 127.917 1074.85 M127.917 1071.15 Q133.728 1071.15 136.783 1075.76 Q139.862 1080.34 139.862 1089.09 Q139.862 1097.82 136.783 1102.42 Q133.728 1107.01 127.917 1107.01 Q122.107 1107.01 119.029 1102.42 Q115.973 1097.82 115.973 1089.09 Q115.973 1080.34 119.029 1075.76 Q122.107 1071.15 127.917 1071.15 Z\" fill=\"#000000\" fill-rule=\"nonzero\" fill-opacity=\"1\" /><path clip-path=\"url(#clip190)\" d=\"M148.079 1100.45 L152.964 1100.45 L152.964 1106.33 L148.079 1106.33 L148.079 1100.45 Z\" fill=\"#000000\" fill-rule=\"nonzero\" fill-opacity=\"1\" /><path clip-path=\"url(#clip190)\" d=\"M163.959 1102.4 L171.598 1102.4 L171.598 1076.03 L163.288 1077.7 L163.288 1073.44 L171.552 1071.77 L176.227 1071.77 L176.227 1102.4 L183.866 1102.4 L183.866 1106.33 L163.959 1106.33 L163.959 1102.4 Z\" fill=\"#000000\" fill-rule=\"nonzero\" fill-opacity=\"1\" /><path clip-path=\"url(#clip190)\" d=\"M128.288 764.16 Q124.677 764.16 122.848 767.724 Q121.043 771.266 121.043 778.396 Q121.043 785.502 122.848 789.067 Q124.677 792.609 128.288 792.609 Q131.922 792.609 133.728 789.067 Q135.556 785.502 135.556 778.396 Q135.556 771.266 133.728 767.724 Q131.922 764.16 128.288 764.16 M128.288 760.456 Q134.098 760.456 137.154 765.062 Q140.232 769.646 140.232 778.396 Q140.232 787.123 137.154 791.729 Q134.098 796.312 128.288 796.312 Q122.478 796.312 119.399 791.729 Q116.343 787.123 116.343 778.396 Q116.343 769.646 119.399 765.062 Q122.478 760.456 128.288 760.456 Z\" fill=\"#000000\" fill-rule=\"nonzero\" fill-opacity=\"1\" /><path clip-path=\"url(#clip190)\" d=\"M148.45 789.761 L153.334 789.761 L153.334 795.641 L148.45 795.641 L148.45 789.761 Z\" fill=\"#000000\" fill-rule=\"nonzero\" fill-opacity=\"1\" /><path clip-path=\"url(#clip190)\" d=\"M167.547 791.706 L183.866 791.706 L183.866 795.641 L161.922 795.641 L161.922 791.706 Q164.584 788.951 169.167 784.322 Q173.774 779.669 174.954 778.326 Q177.2 775.803 178.079 774.067 Q178.982 772.308 178.982 770.618 Q178.982 767.863 177.038 766.127 Q175.116 764.391 172.014 764.391 Q169.815 764.391 167.362 765.155 Q164.931 765.919 162.153 767.47 L162.153 762.748 Q164.977 761.613 167.431 761.035 Q169.885 760.456 171.922 760.456 Q177.292 760.456 180.487 763.141 Q183.681 765.826 183.681 770.317 Q183.681 772.447 182.871 774.368 Q182.084 776.266 179.977 778.859 Q179.399 779.53 176.297 782.748 Q173.195 785.942 167.547 791.706 Z\" fill=\"#000000\" fill-rule=\"nonzero\" fill-opacity=\"1\" /><path clip-path=\"url(#clip190)\" d=\"M127.339 453.467 Q123.728 453.467 121.899 457.031 Q120.093 460.573 120.093 467.703 Q120.093 474.809 121.899 478.374 Q123.728 481.916 127.339 481.916 Q130.973 481.916 132.779 478.374 Q134.607 474.809 134.607 467.703 Q134.607 460.573 132.779 457.031 Q130.973 453.467 127.339 453.467 M127.339 449.763 Q133.149 449.763 136.204 454.369 Q139.283 458.953 139.283 467.703 Q139.283 476.43 136.204 481.036 Q133.149 485.619 127.339 485.619 Q121.529 485.619 118.45 481.036 Q115.394 476.43 115.394 467.703 Q115.394 458.953 118.45 454.369 Q121.529 449.763 127.339 449.763 Z\" fill=\"#000000\" fill-rule=\"nonzero\" fill-opacity=\"1\" /><path clip-path=\"url(#clip190)\" d=\"M147.501 479.068 L152.385 479.068 L152.385 484.948 L147.501 484.948 L147.501 479.068 Z\" fill=\"#000000\" fill-rule=\"nonzero\" fill-opacity=\"1\" /><path clip-path=\"url(#clip190)\" d=\"M176.737 466.314 Q180.093 467.031 181.968 469.3 Q183.866 471.568 183.866 474.902 Q183.866 480.017 180.348 482.818 Q176.829 485.619 170.348 485.619 Q168.172 485.619 165.857 485.179 Q163.565 484.763 161.112 483.906 L161.112 479.392 Q163.056 480.527 165.371 481.105 Q167.686 481.684 170.209 481.684 Q174.607 481.684 176.899 479.948 Q179.214 478.212 179.214 474.902 Q179.214 471.846 177.061 470.133 Q174.931 468.397 171.112 468.397 L167.084 468.397 L167.084 464.555 L171.297 464.555 Q174.746 464.555 176.575 463.189 Q178.403 461.8 178.403 459.207 Q178.403 456.545 176.505 455.133 Q174.63 453.698 171.112 453.698 Q169.19 453.698 166.991 454.115 Q164.792 454.532 162.153 455.411 L162.153 451.244 Q164.815 450.504 167.13 450.133 Q169.468 449.763 171.528 449.763 Q176.852 449.763 179.954 452.194 Q183.056 454.601 183.056 458.721 Q183.056 461.592 181.413 463.582 Q179.769 465.55 176.737 466.314 Z\" fill=\"#000000\" fill-rule=\"nonzero\" fill-opacity=\"1\" /><path clip-path=\"url(#clip190)\" d=\"M126.205 142.774 Q122.593 142.774 120.765 146.338 Q118.959 149.88 118.959 157.01 Q118.959 164.116 120.765 167.681 Q122.593 171.223 126.205 171.223 Q129.839 171.223 131.644 167.681 Q133.473 164.116 133.473 157.01 Q133.473 149.88 131.644 146.338 Q129.839 142.774 126.205 142.774 M126.205 139.07 Q132.015 139.07 135.07 143.676 Q138.149 148.26 138.149 157.01 Q138.149 165.737 135.07 170.343 Q132.015 174.926 126.205 174.926 Q120.394 174.926 117.316 170.343 Q114.26 165.737 114.26 157.01 Q114.26 148.26 117.316 143.676 Q120.394 139.07 126.205 139.07 Z\" fill=\"#000000\" fill-rule=\"nonzero\" fill-opacity=\"1\" /><path clip-path=\"url(#clip190)\" d=\"M146.366 168.375 L151.251 168.375 L151.251 174.255 L146.366 174.255 L146.366 168.375 Z\" fill=\"#000000\" fill-rule=\"nonzero\" fill-opacity=\"1\" /><path clip-path=\"url(#clip190)\" d=\"M174.283 143.769 L162.477 162.218 L174.283 162.218 L174.283 143.769 M173.056 139.695 L178.936 139.695 L178.936 162.218 L183.866 162.218 L183.866 166.107 L178.936 166.107 L178.936 174.255 L174.283 174.255 L174.283 166.107 L158.681 166.107 L158.681 161.593 L173.056 139.695 Z\" fill=\"#000000\" fill-rule=\"nonzero\" fill-opacity=\"1\" /><path clip-path=\"url(#clip190)\" d=\"M46.0847 861.73 Q46.0847 868.828 47.7079 871.565 Q49.3312 874.303 53.2461 874.303 Q56.3653 874.303 58.2114 872.266 Q60.0256 870.197 60.0256 866.664 Q60.0256 861.794 56.5881 858.866 Q53.1188 855.906 47.3897 855.906 L46.0847 855.906 L46.0847 861.73 M43.6657 850.049 L64.0042 850.049 L64.0042 855.906 L58.5933 855.906 Q61.8398 857.911 63.3994 860.903 Q64.9272 863.895 64.9272 868.223 Q64.9272 873.698 61.8716 876.944 Q58.7843 880.159 53.6281 880.159 Q47.6125 880.159 44.5569 876.149 Q41.5014 872.106 41.5014 864.118 L41.5014 855.906 L40.9285 855.906 Q36.8862 855.906 34.6901 858.579 Q32.4621 861.221 32.4621 866.027 Q32.4621 869.083 33.1941 871.979 Q33.9262 874.876 35.3903 877.549 L29.9795 877.549 Q28.7381 874.334 28.1334 871.311 Q27.4968 868.287 27.4968 865.422 Q27.4968 857.688 31.5072 853.869 Q35.5176 850.049 43.6657 850.049 Z\" fill=\"#000000\" fill-rule=\"nonzero\" fill-opacity=\"1\" /><path clip-path=\"url(#clip190)\" d=\"M46.212 812.396 Q39.7508 812.396 36.0905 815.07 Q32.3984 817.712 32.3984 822.358 Q32.3984 827.005 36.0905 829.679 Q39.7508 832.321 46.212 832.321 Q52.6732 832.321 56.3653 829.679 Q60.0256 827.005 60.0256 822.358 Q60.0256 817.712 56.3653 815.07 Q52.6732 812.396 46.212 812.396 M33.7671 832.321 Q30.5842 830.475 29.0564 827.674 Q27.4968 824.841 27.4968 820.926 Q27.4968 814.433 32.6531 810.391 Q37.8093 806.317 46.212 806.317 Q54.6147 806.317 59.771 810.391 Q64.9272 814.433 64.9272 820.926 Q64.9272 824.841 63.3994 827.674 Q61.8398 830.475 58.657 832.321 L64.0042 832.321 L64.0042 838.209 L14.479 838.209 L14.479 832.321 L33.7671 832.321 Z\" fill=\"#000000\" fill-rule=\"nonzero\" fill-opacity=\"1\" /><path clip-path=\"url(#clip190)\" d=\"M29.4065 773.884 L34.9447 773.884 Q33.6716 776.366 33.035 779.04 Q32.3984 781.713 32.3984 784.578 Q32.3984 788.939 33.7352 791.135 Q35.072 793.299 37.7456 793.299 Q39.7826 793.299 40.9603 791.739 Q42.1061 790.18 43.1565 785.469 L43.6021 783.464 Q44.9389 777.226 47.3897 774.616 Q49.8086 771.974 54.1691 771.974 Q59.1344 771.974 62.0308 775.921 Q64.9272 779.836 64.9272 786.711 Q64.9272 789.575 64.3543 792.694 Q63.8132 795.782 62.6992 799.219 L56.6518 799.219 Q58.3387 795.973 59.198 792.822 Q60.0256 789.671 60.0256 786.583 Q60.0256 782.446 58.6251 780.218 Q57.1929 777.99 54.6147 777.99 Q52.2276 777.99 50.9545 779.613 Q49.6813 781.204 48.5037 786.647 L48.0262 788.684 Q46.8804 794.127 44.5251 796.546 Q42.138 798.965 38.0002 798.965 Q32.9713 798.965 30.2341 795.4 Q27.4968 791.835 27.4968 785.278 Q27.4968 782.032 27.9743 779.167 Q28.4517 776.303 29.4065 773.884 Z\" fill=\"#000000\" fill-rule=\"nonzero\" fill-opacity=\"1\" /><path clip-path=\"url(#clip190)\" d=\"M44.7161 711.436 L47.5806 711.436 L47.5806 738.363 Q53.6281 737.981 56.8109 734.735 Q59.9619 731.456 59.9619 725.632 Q59.9619 722.258 59.1344 719.107 Q58.3069 715.924 56.6518 712.805 L62.1899 712.805 Q63.5267 715.956 64.227 719.266 Q64.9272 722.576 64.9272 725.982 Q64.9272 734.512 59.9619 739.509 Q54.9967 744.474 46.5303 744.474 Q37.7774 744.474 32.6531 739.763 Q27.4968 735.021 27.4968 727 Q27.4968 719.807 32.1438 715.637 Q36.7589 711.436 44.7161 711.436 M42.9973 717.293 Q38.1912 717.356 35.3266 719.998 Q32.4621 722.608 32.4621 726.937 Q32.4621 731.838 35.2312 734.798 Q38.0002 737.726 43.0292 738.172 L42.9973 717.293 Z\" fill=\"#000000\" fill-rule=\"nonzero\" fill-opacity=\"1\" /><path clip-path=\"url(#clip190)\" d=\"M33.8307 681.167 Q33.2578 682.154 33.0032 683.331 Q32.7167 684.477 32.7167 685.878 Q32.7167 690.843 35.9632 693.517 Q39.1779 696.158 45.2253 696.158 L64.0042 696.158 L64.0042 702.047 L28.3562 702.047 L28.3562 696.158 L33.8944 696.158 Q30.6479 694.312 29.0883 691.352 Q27.4968 688.392 27.4968 684.159 Q27.4968 683.554 27.5923 682.822 Q27.656 682.09 27.8151 681.199 L33.8307 681.167 Z\" fill=\"#000000\" fill-rule=\"nonzero\" fill-opacity=\"1\" /><path clip-path=\"url(#clip190)\" d=\"M33.8307 655.513 Q33.2578 656.5 33.0032 657.678 Q32.7167 658.823 32.7167 660.224 Q32.7167 665.189 35.9632 667.863 Q39.1779 670.505 45.2253 670.505 L64.0042 670.505 L64.0042 676.393 L28.3562 676.393 L28.3562 670.505 L33.8944 670.505 Q30.6479 668.659 29.0883 665.698 Q27.4968 662.738 27.4968 658.505 Q27.4968 657.9 27.5923 657.168 Q27.656 656.436 27.8151 655.545 L33.8307 655.513 Z\" fill=\"#000000\" fill-rule=\"nonzero\" fill-opacity=\"1\" /><path clip-path=\"url(#clip190)\" d=\"M32.4621 636.989 Q32.4621 641.7 36.1542 644.437 Q39.8145 647.174 46.212 647.174 Q52.6095 647.174 56.3017 644.469 Q59.9619 641.732 59.9619 636.989 Q59.9619 632.31 56.2698 629.573 Q52.5777 626.836 46.212 626.836 Q39.8781 626.836 36.186 629.573 Q32.4621 632.31 32.4621 636.989 M27.4968 636.989 Q27.4968 629.35 32.4621 624.99 Q37.4273 620.629 46.212 620.629 Q54.9649 620.629 59.9619 624.99 Q64.9272 629.35 64.9272 636.989 Q64.9272 644.66 59.9619 649.02 Q54.9649 653.349 46.212 653.349 Q37.4273 653.349 32.4621 649.02 Q27.4968 644.66 27.4968 636.989 Z\" fill=\"#000000\" fill-rule=\"nonzero\" fill-opacity=\"1\" /><path clip-path=\"url(#clip190)\" d=\"M33.8307 590.265 Q33.2578 591.252 33.0032 592.429 Q32.7167 593.575 32.7167 594.975 Q32.7167 599.941 35.9632 602.614 Q39.1779 605.256 45.2253 605.256 L64.0042 605.256 L64.0042 611.144 L28.3562 611.144 L28.3562 605.256 L33.8944 605.256 Q30.6479 603.41 29.0883 600.45 Q27.4968 597.49 27.4968 593.257 Q27.4968 592.652 27.5923 591.92 Q27.656 591.188 27.8151 590.297 L33.8307 590.265 Z\" fill=\"#000000\" fill-rule=\"nonzero\" fill-opacity=\"1\" /><polyline clip-path=\"url(#clip192)\" style=\"stroke:#009af9; stroke-linecap:round; stroke-linejoin:round; stroke-width:4; stroke-opacity:1; fill:none\" points=\"280.231,86.1857 300.556,686.28 320.881,910.389 341.206,1027.46 361.53,1099.37 381.855,1148.01 402.18,1183.1 422.505,1209.6 442.83,1230.33 463.155,1246.99 483.48,1260.66 503.804,1272.09 524.129,1281.78 544.454,1290.11 564.779,1297.33 585.104,1303.67 605.429,1309.26 625.753,1314.24 646.078,1318.7 666.403,1322.72 686.728,1326.36 707.053,1329.67 727.378,1332.69 747.703,1335.47 768.027,1338.02 788.352,1340.38 808.677,1342.57 829.002,1344.6 849.327,1346.49 869.652,1348.25 889.977,1349.9 910.301,1351.45 930.626,1352.91 950.951,1354.28 971.276,1355.57 991.601,1356.79 1011.93,1357.95 1032.25,1359.05 1052.58,1360.08 1072.9,1361.07 1093.23,1362.01 1113.55,1362.91 1133.87,1363.76 1154.2,1364.57 1174.52,1365.35 1194.85,1366.1 1215.17,1366.81 1235.5,1367.5 1255.82,1368.15 1276.15,1368.78 1296.47,1369.39 1316.8,1369.97 1337.12,1370.53 1357.45,1371.07 1377.77,1371.59 1398.1,1372.09 1418.42,1372.57 1438.75,1373.04 1459.07,1373.49 1479.4,1373.93 1499.72,1374.35 1520.05,1374.76 1540.37,1375.15 1560.7,1375.54 1581.02,1375.91 1601.35,1376.27 1621.67,1376.62 1642,1376.96 1662.32,1377.29 1682.65,1377.61 1702.97,1377.92 1723.3,1378.22 1743.62,1378.52 1763.95,1378.8 1784.27,1379.08 1804.59,1379.35 1824.92,1379.62 1845.24,1379.87 1865.57,1380.12 1885.89,1380.37 1906.22,1380.61 1926.54,1380.84 1946.87,1381.07 1967.19,1381.29 1987.52,1381.51 2007.84,1381.72 2028.17,1381.93 2048.49,1382.13 2068.82,1382.33 2089.14,1382.52 2109.47,1382.71 2129.79,1382.89 2150.12,1383.07 2170.44,1383.25 2190.77,1383.42 2211.09,1383.59 2231.42,1383.76 2251.74,1383.92 2272.07,1384.08 2292.39,1384.24 \"/>\n",
       "</svg>\n"
      ]
     },
     "execution_count": 142,
     "metadata": {},
     "output_type": "execute_result"
    }
   ],
   "source": [
    "plot( 101:200, \n",
    "            [abs(h_approx(n) - h(n)) for n in 1:100], \n",
    "            xlabel = \"n\", ylabel = \"abs error\", label=false)"
   ]
  },
  {
   "cell_type": "code",
   "execution_count": null,
   "id": "79a0271a-c2e1-4aa9-9d19-55d7be400c51",
   "metadata": {},
   "outputs": [],
   "source": []
  }
 ],
 "metadata": {
  "kernelspec": {
   "display_name": "Julia 1.11.5",
   "language": "julia",
   "name": "julia-1.11"
  },
  "language_info": {
   "file_extension": ".jl",
   "mimetype": "application/julia",
   "name": "julia",
   "version": "1.11.5"
  }
 },
 "nbformat": 4,
 "nbformat_minor": 5
}
