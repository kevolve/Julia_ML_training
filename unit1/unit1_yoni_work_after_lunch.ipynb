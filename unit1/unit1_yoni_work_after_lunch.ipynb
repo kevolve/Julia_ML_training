{
 "cells": [
  {
   "cell_type": "markdown",
   "id": "2be0fe5f-7b7e-429a-b9a1-5088137c3e05",
   "metadata": {},
   "source": [
    "# Continuing with Unit 1"
   ]
  },
  {
   "cell_type": "code",
   "execution_count": 1,
   "id": "b5c570ed-48ad-4448-b9b4-711dd2db809f",
   "metadata": {},
   "outputs": [],
   "source": [
    "cd(\"/Users/uqjnazar/git/Julia_ML_training/unit1\")"
   ]
  },
  {
   "cell_type": "code",
   "execution_count": 2,
   "id": "3101cea4-35cb-426d-a704-8fab9aa04a7c",
   "metadata": {},
   "outputs": [
    {
     "data": {
      "text/plain": [
       "\"/Users/uqjnazar/git/Julia_ML_training/unit1\""
      ]
     },
     "execution_count": 2,
     "metadata": {},
     "output_type": "execute_result"
    }
   ],
   "source": [
    "pwd() # this is the current directory"
   ]
  },
  {
   "cell_type": "code",
   "execution_count": 3,
   "id": "af92193c-e53d-4ec6-ba35-dd62549a10f7",
   "metadata": {},
   "outputs": [
    {
     "data": {
      "text/plain": [
       "\"/Users/uqjnazar/git/Julia_ML_training/unit1\""
      ]
     },
     "execution_count": 3,
     "metadata": {},
     "output_type": "execute_result"
    }
   ],
   "source": [
    "@__DIR__"
   ]
  },
  {
   "cell_type": "code",
   "execution_count": 4,
   "id": "c9eb1731-3e69-4284-8a9c-8b4002c4513c",
   "metadata": {},
   "outputs": [
    {
     "name": "stderr",
     "output_type": "stream",
     "text": [
      "\u001b[32m\u001b[1m  Activating\u001b[22m\u001b[39m project at `~/git/Julia_ML_training/unit1`\n"
     ]
    }
   ],
   "source": [
    "using Pkg\n",
    "Pkg.activate(@__DIR__)"
   ]
  },
  {
   "cell_type": "code",
   "execution_count": 5,
   "id": "f4c75b0b-18a1-4ab8-ba5d-f39d9d5f77d7",
   "metadata": {},
   "outputs": [
    {
     "name": "stdout",
     "output_type": "stream",
     "text": [
      "\u001b[32m\u001b[1mStatus\u001b[22m\u001b[39m `~/git/Julia_ML_training/unit1/Project.toml`\n",
      "  \u001b[90m[336ed68f] \u001b[39mCSV v0.10.15\n",
      "  \u001b[90m[a93c6f00] \u001b[39mDataFrames v1.7.0\n",
      "\u001b[32m⌃\u001b[39m \u001b[90m[31c24e10] \u001b[39mDistributions v0.25.119\n",
      "  \u001b[90m[f6369f11] \u001b[39mForwardDiff v1.0.1\n",
      "\u001b[32m⌃\u001b[39m \u001b[90m[7073ff75] \u001b[39mIJulia v1.27.0\n",
      "  \u001b[90m[91a5bcdd] \u001b[39mPlots v1.40.13\n",
      "\u001b[32m⌃\u001b[39m \u001b[90m[c3e4b0f8] \u001b[39mPluto v0.20.8\n",
      "  \u001b[90m[6099a3de] \u001b[39mPythonCall v0.9.25\n",
      "  \u001b[90m[1fd47b50] \u001b[39mQuadGK v2.11.2\n",
      "  \u001b[90m[6f49c342] \u001b[39mRCall v0.14.8\n",
      "  \u001b[90m[f2b01f46] \u001b[39mRoots v2.2.7\n",
      "  \u001b[90m[276daf66] \u001b[39mSpecialFunctions v2.5.1\n",
      "\u001b[36m\u001b[1mInfo\u001b[22m\u001b[39m Packages marked with \u001b[32m⌃\u001b[39m have new versions available and may be upgradable.\n"
     ]
    }
   ],
   "source": [
    "Pkg.status()"
   ]
  },
  {
   "cell_type": "markdown",
   "id": "cdfa8bca-8718-425c-8cbd-a80047b4d270",
   "metadata": {},
   "source": [
    "# Something we had before lunch was `isa`"
   ]
  },
  {
   "cell_type": "code",
   "execution_count": 40,
   "id": "85f1cc09-5874-426b-af26-f56f3d074106",
   "metadata": {},
   "outputs": [
    {
     "data": {
      "text/plain": [
       "false"
      ]
     },
     "execution_count": 40,
     "metadata": {},
     "output_type": "execute_result"
    }
   ],
   "source": [
    "Int64 isa Number # Shocked Yoni before the break..."
   ]
  },
  {
   "cell_type": "code",
   "execution_count": 37,
   "id": "517cb83a-fc57-4a74-b979-3e8fed27272b",
   "metadata": {},
   "outputs": [
    {
     "name": "stdout",
     "output_type": "stream",
     "text": [
      "search: \u001b[0m\u001b[1mi\u001b[22m\u001b[0m\u001b[1ms\u001b[22m\u001b[0m\u001b[1ma\u001b[22m \u001b[0m\u001b[1mi\u001b[22m\u001b[0m\u001b[1ms\u001b[22mn\u001b[0m\u001b[1ma\u001b[22mn \u001b[0m\u001b[1mi\u001b[22mmag \u001b[0m\u001b[1mi\u001b[22m\u001b[0m\u001b[1ms\u001b[22mp\u001b[0m\u001b[1ma\u001b[22mth \u001b[0m\u001b[1mi\u001b[22m\u001b[0m\u001b[1ms\u001b[22mre\u001b[0m\u001b[1ma\u001b[22ml\n",
      "\n"
     ]
    },
    {
     "data": {
      "text/latex": [
       "\\begin{verbatim}\n",
       "isa(x, type) -> Bool\n",
       "\\end{verbatim}\n",
       "Determine whether \\texttt{x} is of the given \\texttt{type}. Can also be used as an infix operator, e.g. \\texttt{x isa type}.\n",
       "\n",
       "\\section{Examples}\n",
       "\\begin{verbatim}\n",
       "julia> isa(1, Int)\n",
       "true\n",
       "\n",
       "julia> isa(1, Matrix)\n",
       "false\n",
       "\n",
       "julia> isa(1, Char)\n",
       "false\n",
       "\n",
       "julia> isa(1, Number)\n",
       "true\n",
       "\n",
       "julia> 1 isa Number\n",
       "true\n",
       "\\end{verbatim}\n"
      ],
      "text/markdown": [
       "```\n",
       "isa(x, type) -> Bool\n",
       "```\n",
       "\n",
       "Determine whether `x` is of the given `type`. Can also be used as an infix operator, e.g. `x isa type`.\n",
       "\n",
       "# Examples\n",
       "\n",
       "```jldoctest\n",
       "julia> isa(1, Int)\n",
       "true\n",
       "\n",
       "julia> isa(1, Matrix)\n",
       "false\n",
       "\n",
       "julia> isa(1, Char)\n",
       "false\n",
       "\n",
       "julia> isa(1, Number)\n",
       "true\n",
       "\n",
       "julia> 1 isa Number\n",
       "true\n",
       "```\n"
      ],
      "text/plain": [
       "\u001b[36m  isa(x, type) -> Bool\u001b[39m\n",
       "\n",
       "  Determine whether \u001b[36mx\u001b[39m is of the given \u001b[36mtype\u001b[39m. Can also be used as an infix\n",
       "  operator, e.g. \u001b[36mx isa type\u001b[39m.\n",
       "\n",
       "\u001b[1m  Examples\u001b[22m\n",
       "\u001b[1m  ≡≡≡≡≡≡≡≡\u001b[22m\n",
       "\n",
       "\u001b[36m  julia> isa(1, Int)\u001b[39m\n",
       "\u001b[36m  true\u001b[39m\n",
       "\u001b[36m  \u001b[39m\n",
       "\u001b[36m  julia> isa(1, Matrix)\u001b[39m\n",
       "\u001b[36m  false\u001b[39m\n",
       "\u001b[36m  \u001b[39m\n",
       "\u001b[36m  julia> isa(1, Char)\u001b[39m\n",
       "\u001b[36m  false\u001b[39m\n",
       "\u001b[36m  \u001b[39m\n",
       "\u001b[36m  julia> isa(1, Number)\u001b[39m\n",
       "\u001b[36m  true\u001b[39m\n",
       "\u001b[36m  \u001b[39m\n",
       "\u001b[36m  julia> 1 isa Number\u001b[39m\n",
       "\u001b[36m  true\u001b[39m"
      ]
     },
     "execution_count": 37,
     "metadata": {},
     "output_type": "execute_result"
    }
   ],
   "source": [
    "?isa"
   ]
  },
  {
   "cell_type": "code",
   "execution_count": 38,
   "id": "73d22fdb-2cce-4955-9cda-f742d0a6a732",
   "metadata": {},
   "outputs": [
    {
     "data": {
      "text/plain": [
       "true"
      ]
     },
     "execution_count": 38,
     "metadata": {},
     "output_type": "execute_result"
    }
   ],
   "source": [
    "isa(1, Int64)"
   ]
  },
  {
   "cell_type": "code",
   "execution_count": 39,
   "id": "bc0a46b1-8ce0-4a21-9e86-86a1b6c8bf3d",
   "metadata": {},
   "outputs": [
    {
     "data": {
      "text/plain": [
       "true"
      ]
     },
     "execution_count": 39,
     "metadata": {},
     "output_type": "execute_result"
    }
   ],
   "source": [
    "1 isa Int64"
   ]
  },
  {
   "cell_type": "code",
   "execution_count": 41,
   "id": "91f2561b-73f7-43e7-9b91-5fed1ef40afb",
   "metadata": {},
   "outputs": [
    {
     "data": {
      "text/plain": [
       "DataType"
      ]
     },
     "execution_count": 41,
     "metadata": {},
     "output_type": "execute_result"
    }
   ],
   "source": [
    "typeof(Int64)"
   ]
  },
  {
   "cell_type": "code",
   "execution_count": 42,
   "id": "fc87bcf3-20c7-4404-8bbe-375fa7cdacba",
   "metadata": {},
   "outputs": [
    {
     "data": {
      "text/plain": [
       "true"
      ]
     },
     "execution_count": 42,
     "metadata": {},
     "output_type": "execute_result"
    }
   ],
   "source": [
    "\"hello\" isa String"
   ]
  },
  {
   "cell_type": "code",
   "execution_count": 45,
   "id": "924cdacb-6abd-4416-8fb3-d373d701a55c",
   "metadata": {},
   "outputs": [
    {
     "data": {
      "text/plain": [
       "true"
      ]
     },
     "execution_count": 45,
     "metadata": {},
     "output_type": "execute_result"
    }
   ],
   "source": [
    "'c' isa Char  #Single charcters in Julia are in ' ' (single quotes)"
   ]
  },
  {
   "cell_type": "code",
   "execution_count": 46,
   "id": "3fd0e8fe-6216-4c16-81c9-09d25ee94083",
   "metadata": {},
   "outputs": [
    {
     "data": {
      "text/plain": [
       "false"
      ]
     },
     "execution_count": 46,
     "metadata": {},
     "output_type": "execute_result"
    }
   ],
   "source": [
    "\"c\" isa Char"
   ]
  },
  {
   "cell_type": "code",
   "execution_count": 47,
   "id": "b0cd05cd-5d9d-4496-8bc6-b71da599d349",
   "metadata": {},
   "outputs": [
    {
     "name": "stdout",
     "output_type": "stream",
     "text": [
      "search: \u001b[0m\u001b[1ms\u001b[22m\u001b[0m\u001b[1mu\u001b[22m\u001b[0m\u001b[1mb\u001b[22m\u001b[0m\u001b[1mt\u001b[22m\u001b[0m\u001b[1my\u001b[22m\u001b[0m\u001b[1mp\u001b[22m\u001b[0m\u001b[1me\u001b[22m\u001b[0m\u001b[1ms\u001b[22m \u001b[0m\u001b[1ms\u001b[22m\u001b[0m\u001b[1mu\u001b[22mpertypes \u001b[0m\u001b[1ms\u001b[22m\u001b[0m\u001b[1mu\u001b[22mpertype oftype keytype eltype fieldtype\u001b[0m\u001b[1ms\u001b[22m valtype\n",
      "\n"
     ]
    },
    {
     "data": {
      "text/latex": [
       "\\begin{verbatim}\n",
       "subtypes(T::DataType)\n",
       "\\end{verbatim}\n",
       "Return a list of immediate subtypes of DataType \\texttt{T}. Note that all currently loaded subtypes are included, including those not visible in the current module.\n",
       "\n",
       "See also \\href{@ref}{\\texttt{supertype}}, \\href{@ref}{\\texttt{supertypes}}, \\href{@ref}{\\texttt{methodswith}}.\n",
       "\n",
       "\\section{Examples}\n",
       "\\begin{verbatim}\n",
       "julia> subtypes(Integer)\n",
       "3-element Vector{Any}:\n",
       " Bool\n",
       " Signed\n",
       " Unsigned\n",
       "\\end{verbatim}\n"
      ],
      "text/markdown": [
       "```\n",
       "subtypes(T::DataType)\n",
       "```\n",
       "\n",
       "Return a list of immediate subtypes of DataType `T`. Note that all currently loaded subtypes are included, including those not visible in the current module.\n",
       "\n",
       "See also [`supertype`](@ref), [`supertypes`](@ref), [`methodswith`](@ref).\n",
       "\n",
       "# Examples\n",
       "\n",
       "```jldoctest\n",
       "julia> subtypes(Integer)\n",
       "3-element Vector{Any}:\n",
       " Bool\n",
       " Signed\n",
       " Unsigned\n",
       "```\n"
      ],
      "text/plain": [
       "\u001b[36m  subtypes(T::DataType)\u001b[39m\n",
       "\n",
       "  Return a list of immediate subtypes of DataType \u001b[36mT\u001b[39m. Note that all currently\n",
       "  loaded subtypes are included, including those not visible in the current\n",
       "  module.\n",
       "\n",
       "  See also \u001b[36msupertype\u001b[39m, \u001b[36msupertypes\u001b[39m, \u001b[36mmethodswith\u001b[39m.\n",
       "\n",
       "\u001b[1m  Examples\u001b[22m\n",
       "\u001b[1m  ≡≡≡≡≡≡≡≡\u001b[22m\n",
       "\n",
       "\u001b[36m  julia> subtypes(Integer)\u001b[39m\n",
       "\u001b[36m  3-element Vector{Any}:\u001b[39m\n",
       "\u001b[36m   Bool\u001b[39m\n",
       "\u001b[36m   Signed\u001b[39m\n",
       "\u001b[36m   Unsigned\u001b[39m"
      ]
     },
     "execution_count": 47,
     "metadata": {},
     "output_type": "execute_result"
    }
   ],
   "source": [
    "? subtypes"
   ]
  },
  {
   "cell_type": "code",
   "execution_count": 48,
   "id": "8806f1b2-819d-42c1-bd14-90cc7dd6b584",
   "metadata": {},
   "outputs": [
    {
     "data": {
      "text/plain": [
       "3-element Vector{Any}:\n",
       " Base.MultiplicativeInverses.MultiplicativeInverse\n",
       " Complex\n",
       " Real"
      ]
     },
     "execution_count": 48,
     "metadata": {},
     "output_type": "execute_result"
    }
   ],
   "source": [
    "subtypes(Number)"
   ]
  },
  {
   "cell_type": "code",
   "execution_count": 49,
   "id": "8ce98bb5-3eaa-43f8-abf6-39a573d835df",
   "metadata": {},
   "outputs": [
    {
     "data": {
      "text/plain": [
       "4-element Vector{Any}:\n",
       " AbstractFloat\n",
       " AbstractIrrational\n",
       " Integer\n",
       " Rational"
      ]
     },
     "execution_count": 49,
     "metadata": {},
     "output_type": "execute_result"
    }
   ],
   "source": [
    "subtypes(Real)"
   ]
  },
  {
   "cell_type": "code",
   "execution_count": 50,
   "id": "1cb3a1c9-bd42-4360-a84d-12ea37bdb9ca",
   "metadata": {},
   "outputs": [
    {
     "data": {
      "text/plain": [
       "true"
      ]
     },
     "execution_count": 50,
     "metadata": {},
     "output_type": "execute_result"
    }
   ],
   "source": [
    "isabstracttype(Integer)"
   ]
  },
  {
   "cell_type": "code",
   "execution_count": 51,
   "id": "541fb71d-5512-4bb4-909d-850f5d001e47",
   "metadata": {},
   "outputs": [],
   "source": [
    "# You will never have a variable x that is an \"Integer\""
   ]
  },
  {
   "cell_type": "code",
   "execution_count": 6,
   "id": "a5d443af-fb17-4c2a-9b33-2656a14521ed",
   "metadata": {},
   "outputs": [
    {
     "data": {
      "text/plain": [
       "exactly_half (generic function with 1 method)"
      ]
     },
     "execution_count": 6,
     "metadata": {},
     "output_type": "execute_result"
    }
   ],
   "source": [
    "function exactly_half(x::Integer)\n",
    "    return x ÷ 2 #\\div ÷ is like the div() function, it is division without remainder (in Python //)\n",
    "end"
   ]
  },
  {
   "cell_type": "code",
   "execution_count": 7,
   "id": "2deddf6f-79f7-4856-9fe3-49006768c8e3",
   "metadata": {},
   "outputs": [
    {
     "data": {
      "text/html": [
       "# 1 method for generic function <b>exactly_half</b> from \u001b[35mMain\u001b[39m:<ul><li> exactly_half(x::<b>Integer</b>) in Main at In[6]:1</li> </ul>"
      ],
      "text/plain": [
       "# 1 method for generic function \"exactly_half\" from \u001b[35mMain\u001b[39m:\n",
       " [1] exactly_half(\u001b[90mx\u001b[39m::\u001b[1mInteger\u001b[22m)\n",
       "\u001b[90m     @\u001b[39m \u001b[90m\u001b[4mIn[6]:1\u001b[24m\u001b[39m"
      ]
     },
     "execution_count": 7,
     "metadata": {},
     "output_type": "execute_result"
    }
   ],
   "source": [
    "methods(exactly_half)"
   ]
  },
  {
   "cell_type": "code",
   "execution_count": 8,
   "id": "09e58acc-27b9-47e1-abf5-10944d03f1d7",
   "metadata": {},
   "outputs": [
    {
     "ename": "LoadError",
     "evalue": "MethodError: no method matching exactly_half(::Float64)\nThe function `exactly_half` exists, but no method is defined for this combination of argument types.\n\n\u001b[0mClosest candidates are:\n\u001b[0m  exactly_half(\u001b[91m::Integer\u001b[39m)\n\u001b[0m\u001b[90m   @\u001b[39m \u001b[35mMain\u001b[39m \u001b[90m\u001b[4mIn[6]:1\u001b[24m\u001b[39m\n",
     "output_type": "error",
     "traceback": [
      "MethodError: no method matching exactly_half(::Float64)\nThe function `exactly_half` exists, but no method is defined for this combination of argument types.\n\n\u001b[0mClosest candidates are:\n\u001b[0m  exactly_half(\u001b[91m::Integer\u001b[39m)\n\u001b[0m\u001b[90m   @\u001b[39m \u001b[35mMain\u001b[39m \u001b[90m\u001b[4mIn[6]:1\u001b[24m\u001b[39m\n",
      "",
      "Stacktrace:",
      " [1] top-level scope",
      "   @ In[8]:1"
     ]
    }
   ],
   "source": [
    "exactly_half(7.5)"
   ]
  },
  {
   "cell_type": "code",
   "execution_count": 9,
   "id": "55a6e504-9c66-4d90-a81a-1ae3632b3eae",
   "metadata": {},
   "outputs": [
    {
     "data": {
      "text/plain": [
       "3"
      ]
     },
     "execution_count": 9,
     "metadata": {},
     "output_type": "execute_result"
    }
   ],
   "source": [
    "exactly_half(7)"
   ]
  },
  {
   "cell_type": "code",
   "execution_count": 10,
   "id": "fa15181f-0321-482d-86f5-e6fca49eb938",
   "metadata": {},
   "outputs": [
    {
     "data": {
      "text/plain": [
       "true"
      ]
     },
     "execution_count": 10,
     "metadata": {},
     "output_type": "execute_result"
    }
   ],
   "source": [
    "7 isa Integer"
   ]
  },
  {
   "cell_type": "code",
   "execution_count": 11,
   "id": "8d5aee6c-3867-4173-8237-a77d129cf3fa",
   "metadata": {},
   "outputs": [
    {
     "data": {
      "text/plain": [
       "0x07"
      ]
     },
     "execution_count": 11,
     "metadata": {},
     "output_type": "execute_result"
    }
   ],
   "source": [
    "UInt8(7)"
   ]
  },
  {
   "cell_type": "code",
   "execution_count": 12,
   "id": "e5ba11cc-f4f8-489f-ba9c-f766608f910c",
   "metadata": {},
   "outputs": [
    {
     "data": {
      "text/plain": [
       "0x0000000000000003"
      ]
     },
     "execution_count": 12,
     "metadata": {},
     "output_type": "execute_result"
    }
   ],
   "source": [
    "exactly_half(UInt8(7))"
   ]
  },
  {
   "cell_type": "code",
   "execution_count": 13,
   "id": "2468675e-273e-4b16-ad5b-a0bfa6a8179b",
   "metadata": {},
   "outputs": [
    {
     "data": {
      "text/plain": [
       "UInt64"
      ]
     },
     "execution_count": 13,
     "metadata": {},
     "output_type": "execute_result"
    }
   ],
   "source": [
    "typeof(ans) #ans is the last return value"
   ]
  },
  {
   "cell_type": "markdown",
   "id": "a5c2f6de-0b35-479e-ae8f-1e223e73a7a5",
   "metadata": {},
   "source": [
    "## Unit 1 [Section 6](https://open-aims.github.io/Julia_ML_training/unit1/unit_1.html#story-computing-square-roots-multiple-dispatch-types-llvm)"
   ]
  },
  {
   "cell_type": "code",
   "execution_count": 14,
   "id": "966d9d11-ed64-4f7d-a4b8-bc2067e6e642",
   "metadata": {},
   "outputs": [
    {
     "name": "stdout",
     "output_type": "stream",
     "text": [
      "search: \u001b[0m\u001b[1ms\u001b[22m\u001b[0m\u001b[1mq\u001b[22m\u001b[0m\u001b[1mr\u001b[22m\u001b[0m\u001b[1mt\u001b[22m i\u001b[0m\u001b[1ms\u001b[22m\u001b[0m\u001b[1mq\u001b[22m\u001b[0m\u001b[1mr\u001b[22m\u001b[0m\u001b[1mt\u001b[22m \u001b[0m\u001b[1ms\u001b[22mort \u001b[0m\u001b[1ms\u001b[22mort! C\u001b[0m\u001b[1ms\u001b[22mhort \u001b[0m\u001b[1ms\u001b[22mprint cbrt \u001b[0m\u001b[1ms\u001b[22mtruct \u001b[0m\u001b[1ms\u001b[22mtat\n",
      "\n"
     ]
    },
    {
     "data": {
      "text/latex": [
       "\\begin{verbatim}\n",
       "sqrt(x)\n",
       "\\end{verbatim}\n",
       "Return $\\sqrt{x}$.\n",
       "\n",
       "Throws \\href{@ref}{\\texttt{DomainError}} for negative \\href{@ref}{\\texttt{Real}} arguments. Use complex negative arguments instead. Note that \\texttt{sqrt} has a branch cut along the negative real axis.\n",
       "\n",
       "The prefix operator \\texttt{√} is equivalent to \\texttt{sqrt}.\n",
       "\n",
       "See also: \\href{@ref}{\\texttt{hypot}}.\n",
       "\n",
       "\\section{Examples}\n",
       "\\begin{verbatim}\n",
       "julia> sqrt(big(81))\n",
       "9.0\n",
       "\n",
       "julia> sqrt(big(-81))\n",
       "ERROR: DomainError with -81.0:\n",
       "NaN result for non-NaN input.\n",
       "Stacktrace:\n",
       " [1] sqrt(::BigFloat) at ./mpfr.jl:501\n",
       "[...]\n",
       "\n",
       "julia> sqrt(big(complex(-81)))\n",
       "0.0 + 9.0im\n",
       "\n",
       "julia> sqrt(-81 - 0.0im)  # -0.0im is below the branch cut\n",
       "0.0 - 9.0im\n",
       "\n",
       "julia> .√(1:4)\n",
       "4-element Vector{Float64}:\n",
       " 1.0\n",
       " 1.4142135623730951\n",
       " 1.7320508075688772\n",
       " 2.0\n",
       "\\end{verbatim}\n",
       "\\rule{\\textwidth}{1pt}\n",
       "\\begin{verbatim}\n",
       "sqrt(A::AbstractMatrix)\n",
       "\\end{verbatim}\n",
       "If \\texttt{A} has no negative real eigenvalues, compute the principal matrix square root of \\texttt{A}, that is the unique matrix $X$ with eigenvalues having positive real part such that $X^2 = A$. Otherwise, a nonprincipal square root is returned.\n",
       "\n",
       "If \\texttt{A} is real-symmetric or Hermitian, its eigendecomposition (\\href{@ref}{\\texttt{eigen}}) is used to compute the square root.   For such matrices, eigenvalues λ that appear to be slightly negative due to roundoff errors are treated as if they were zero. More precisely, matrices with all eigenvalues \\texttt{≥ -rtol*(max |λ|)} are treated as semidefinite (yielding a Hermitian square root), with negative eigenvalues taken to be zero. \\texttt{rtol} is a keyword argument to \\texttt{sqrt} (in the Hermitian/real-symmetric case only) that defaults to machine precision scaled by \\texttt{size(A,1)}.\n",
       "\n",
       "Otherwise, the square root is determined by means of the Björck-Hammarling method \\footnotemark[BH83], which computes the complex Schur form (\\href{@ref}{\\texttt{schur}}) and then the complex square root of the triangular factor. If a real square root exists, then an extension of this method \\footnotemark[H87] that computes the real Schur form and then the real square root of the quasi-triangular factor is instead used.\n",
       "\n",
       "\\footnotetext[BH83]{Åke Björck and Sven Hammarling, \"A Schur method for the square root of a matrix\", Linear Algebra and its Applications, 52-53, 1983, 127-140. \\href{https://doi.org/10.1016/0024-3795(83)80010-X}{doi:10.1016/0024-3795(83)80010-X}\n",
       "\n",
       "}\n",
       "\\footnotetext[H87]{Nicholas J. Higham, \"Computing real square roots of a real matrix\", Linear Algebra and its Applications, 88-89, 1987, 405-430. \\href{https://doi.org/10.1016/0024-3795(87)90118-2}{doi:10.1016/0024-3795(87)90118-2}\n",
       "\n",
       "}\n",
       "\\section{Examples}\n",
       "\\begin{verbatim}\n",
       "julia> A = [4 0; 0 4]\n",
       "2×2 Matrix{Int64}:\n",
       " 4  0\n",
       " 0  4\n",
       "\n",
       "julia> sqrt(A)\n",
       "2×2 Matrix{Float64}:\n",
       " 2.0  0.0\n",
       " 0.0  2.0\n",
       "\\end{verbatim}\n"
      ],
      "text/markdown": [
       "```\n",
       "sqrt(x)\n",
       "```\n",
       "\n",
       "Return $\\sqrt{x}$.\n",
       "\n",
       "Throws [`DomainError`](@ref) for negative [`Real`](@ref) arguments. Use complex negative arguments instead. Note that `sqrt` has a branch cut along the negative real axis.\n",
       "\n",
       "The prefix operator `√` is equivalent to `sqrt`.\n",
       "\n",
       "See also: [`hypot`](@ref).\n",
       "\n",
       "# Examples\n",
       "\n",
       "```jldoctest; filter = r\"Stacktrace:(\\n \\[[0-9]+\\].*)*\"\n",
       "julia> sqrt(big(81))\n",
       "9.0\n",
       "\n",
       "julia> sqrt(big(-81))\n",
       "ERROR: DomainError with -81.0:\n",
       "NaN result for non-NaN input.\n",
       "Stacktrace:\n",
       " [1] sqrt(::BigFloat) at ./mpfr.jl:501\n",
       "[...]\n",
       "\n",
       "julia> sqrt(big(complex(-81)))\n",
       "0.0 + 9.0im\n",
       "\n",
       "julia> sqrt(-81 - 0.0im)  # -0.0im is below the branch cut\n",
       "0.0 - 9.0im\n",
       "\n",
       "julia> .√(1:4)\n",
       "4-element Vector{Float64}:\n",
       " 1.0\n",
       " 1.4142135623730951\n",
       " 1.7320508075688772\n",
       " 2.0\n",
       "```\n",
       "\n",
       "---\n",
       "\n",
       "```\n",
       "sqrt(A::AbstractMatrix)\n",
       "```\n",
       "\n",
       "If `A` has no negative real eigenvalues, compute the principal matrix square root of `A`, that is the unique matrix $X$ with eigenvalues having positive real part such that $X^2 = A$. Otherwise, a nonprincipal square root is returned.\n",
       "\n",
       "If `A` is real-symmetric or Hermitian, its eigendecomposition ([`eigen`](@ref)) is used to compute the square root.   For such matrices, eigenvalues λ that appear to be slightly negative due to roundoff errors are treated as if they were zero. More precisely, matrices with all eigenvalues `≥ -rtol*(max |λ|)` are treated as semidefinite (yielding a Hermitian square root), with negative eigenvalues taken to be zero. `rtol` is a keyword argument to `sqrt` (in the Hermitian/real-symmetric case only) that defaults to machine precision scaled by `size(A,1)`.\n",
       "\n",
       "Otherwise, the square root is determined by means of the Björck-Hammarling method [^BH83], which computes the complex Schur form ([`schur`](@ref)) and then the complex square root of the triangular factor. If a real square root exists, then an extension of this method [^H87] that computes the real Schur form and then the real square root of the quasi-triangular factor is instead used.\n",
       "\n",
       "[^BH83]: Åke Björck and Sven Hammarling, \"A Schur method for the square root of a matrix\", Linear Algebra and its Applications, 52-53, 1983, 127-140. [doi:10.1016/0024-3795(83)80010-X](https://doi.org/10.1016/0024-3795(83)80010-X)\n",
       "\n",
       "[^H87]: Nicholas J. Higham, \"Computing real square roots of a real matrix\", Linear Algebra and its Applications, 88-89, 1987, 405-430. [doi:10.1016/0024-3795(87)90118-2](https://doi.org/10.1016/0024-3795(87)90118-2)\n",
       "\n",
       "# Examples\n",
       "\n",
       "```jldoctest\n",
       "julia> A = [4 0; 0 4]\n",
       "2×2 Matrix{Int64}:\n",
       " 4  0\n",
       " 0  4\n",
       "\n",
       "julia> sqrt(A)\n",
       "2×2 Matrix{Float64}:\n",
       " 2.0  0.0\n",
       " 0.0  2.0\n",
       "```\n"
      ],
      "text/plain": [
       "\u001b[36m  sqrt(x)\u001b[39m\n",
       "\n",
       "  Return \u001b[35m\\sqrt{x}\u001b[39m.\n",
       "\n",
       "  Throws \u001b[36mDomainError\u001b[39m for negative \u001b[36mReal\u001b[39m arguments. Use complex negative\n",
       "  arguments instead. Note that \u001b[36msqrt\u001b[39m has a branch cut along the negative real\n",
       "  axis.\n",
       "\n",
       "  The prefix operator \u001b[36m√\u001b[39m is equivalent to \u001b[36msqrt\u001b[39m.\n",
       "\n",
       "  See also: \u001b[36mhypot\u001b[39m.\n",
       "\n",
       "\u001b[1m  Examples\u001b[22m\n",
       "\u001b[1m  ≡≡≡≡≡≡≡≡\u001b[22m\n",
       "\n",
       "\u001b[36m  julia> sqrt(big(81))\u001b[39m\n",
       "\u001b[36m  9.0\u001b[39m\n",
       "\u001b[36m  \u001b[39m\n",
       "\u001b[36m  julia> sqrt(big(-81))\u001b[39m\n",
       "\u001b[36m  ERROR: DomainError with -81.0:\u001b[39m\n",
       "\u001b[36m  NaN result for non-NaN input.\u001b[39m\n",
       "\u001b[36m  Stacktrace:\u001b[39m\n",
       "\u001b[36m   [1] sqrt(::BigFloat) at ./mpfr.jl:501\u001b[39m\n",
       "\u001b[36m  [...]\u001b[39m\n",
       "\u001b[36m  \u001b[39m\n",
       "\u001b[36m  julia> sqrt(big(complex(-81)))\u001b[39m\n",
       "\u001b[36m  0.0 + 9.0im\u001b[39m\n",
       "\u001b[36m  \u001b[39m\n",
       "\u001b[36m  julia> sqrt(-81 - 0.0im)  # -0.0im is below the branch cut\u001b[39m\n",
       "\u001b[36m  0.0 - 9.0im\u001b[39m\n",
       "\u001b[36m  \u001b[39m\n",
       "\u001b[36m  julia> .√(1:4)\u001b[39m\n",
       "\u001b[36m  4-element Vector{Float64}:\u001b[39m\n",
       "\u001b[36m   1.0\u001b[39m\n",
       "\u001b[36m   1.4142135623730951\u001b[39m\n",
       "\u001b[36m   1.7320508075688772\u001b[39m\n",
       "\u001b[36m   2.0\u001b[39m\n",
       "\n",
       "  ────────────────────────────────────────────────────────────────────────────\n",
       "\n",
       "\u001b[36m  sqrt(A::AbstractMatrix)\u001b[39m\n",
       "\n",
       "  If \u001b[36mA\u001b[39m has no negative real eigenvalues, compute the principal matrix square\n",
       "  root of \u001b[36mA\u001b[39m, that is the unique matrix \u001b[35mX\u001b[39m with eigenvalues having positive real\n",
       "  part such that \u001b[35mX^2 = A\u001b[39m. Otherwise, a nonprincipal square root is returned.\n",
       "\n",
       "  If \u001b[36mA\u001b[39m is real-symmetric or Hermitian, its eigendecomposition (\u001b[36meigen\u001b[39m) is used\n",
       "  to compute the square root. For such matrices, eigenvalues λ that appear to\n",
       "  be slightly negative due to roundoff errors are treated as if they were\n",
       "  zero. More precisely, matrices with all eigenvalues \u001b[36m≥ -rtol*(max |λ|)\u001b[39m are\n",
       "  treated as semidefinite (yielding a Hermitian square root), with negative\n",
       "  eigenvalues taken to be zero. \u001b[36mrtol\u001b[39m is a keyword argument to \u001b[36msqrt\u001b[39m (in the\n",
       "  Hermitian/real-symmetric case only) that defaults to machine precision\n",
       "  scaled by \u001b[36msize(A,1)\u001b[39m.\n",
       "\n",
       "  Otherwise, the square root is determined by means of the Björck-Hammarling\n",
       "  method \u001b[1m[^BH83]\u001b[22m, which computes the complex Schur form (\u001b[36mschur\u001b[39m) and then the\n",
       "  complex square root of the triangular factor. If a real square root exists,\n",
       "  then an extension of this method \u001b[1m[^H87]\u001b[22m that computes the real Schur form\n",
       "  and then the real square root of the quasi-triangular factor is instead\n",
       "  used.\n",
       "\n",
       "  │ \u001b[0m\u001b[1m[^BH83]\u001b[22m\n",
       "  │\n",
       "  │  Åke Björck and Sven Hammarling, \"A Schur method for the square\n",
       "  │  root of a matrix\", Linear Algebra and its Applications, 52-53,\n",
       "  │  1983, 127-140. doi:10.1016/0024-3795(83)80010-X\n",
       "  │  (https://doi.org/10.1016/0024-3795(83)80010-X)\n",
       "\n",
       "  │ \u001b[0m\u001b[1m[^H87]\u001b[22m\n",
       "  │\n",
       "  │  Nicholas J. Higham, \"Computing real square roots of a real\n",
       "  │  matrix\", Linear Algebra and its Applications, 88-89, 1987,\n",
       "  │  405-430. doi:10.1016/0024-3795(87)90118-2\n",
       "  │  (https://doi.org/10.1016/0024-3795(87)90118-2)\n",
       "\n",
       "\u001b[1m  Examples\u001b[22m\n",
       "\u001b[1m  ≡≡≡≡≡≡≡≡\u001b[22m\n",
       "\n",
       "\u001b[36m  julia> A = [4 0; 0 4]\u001b[39m\n",
       "\u001b[36m  2×2 Matrix{Int64}:\u001b[39m\n",
       "\u001b[36m   4  0\u001b[39m\n",
       "\u001b[36m   0  4\u001b[39m\n",
       "\u001b[36m  \u001b[39m\n",
       "\u001b[36m  julia> sqrt(A)\u001b[39m\n",
       "\u001b[36m  2×2 Matrix{Float64}:\u001b[39m\n",
       "\u001b[36m   2.0  0.0\u001b[39m\n",
       "\u001b[36m   0.0  2.0\u001b[39m"
      ]
     },
     "execution_count": 14,
     "metadata": {},
     "output_type": "execute_result"
    }
   ],
   "source": [
    "? sqrt"
   ]
  },
  {
   "cell_type": "code",
   "execution_count": 15,
   "id": "d60beb8a-b5fd-4667-8e68-4531b31f0635",
   "metadata": {},
   "outputs": [
    {
     "data": {
      "text/plain": [
       "2.449489742783178"
      ]
     },
     "execution_count": 15,
     "metadata": {},
     "output_type": "execute_result"
    }
   ],
   "source": [
    "sqrt(6)"
   ]
  },
  {
   "cell_type": "code",
   "execution_count": 16,
   "id": "4ffd354f-0454-42fd-987d-acf1bd1acdcb",
   "metadata": {},
   "outputs": [
    {
     "data": {
      "text/plain": [
       "2.0"
      ]
     },
     "execution_count": 16,
     "metadata": {},
     "output_type": "execute_result"
    }
   ],
   "source": [
    "sqrt(4)"
   ]
  },
  {
   "cell_type": "code",
   "execution_count": 17,
   "id": "0b89e941-71ef-4eb0-8b11-71a4de975236",
   "metadata": {},
   "outputs": [
    {
     "data": {
      "text/plain": [
       "2.449489742783178"
      ]
     },
     "execution_count": 17,
     "metadata": {},
     "output_type": "execute_result"
    }
   ],
   "source": [
    "√6 #\\sqrt + [TAB]"
   ]
  },
  {
   "cell_type": "code",
   "execution_count": 19,
   "id": "0b948168-007f-436b-83f6-ef0999614f26",
   "metadata": {},
   "outputs": [],
   "source": [
    "α = 6;"
   ]
  },
  {
   "cell_type": "code",
   "execution_count": null,
   "id": "3b1621c6-c948-4e8a-a09e-ea23a6073857",
   "metadata": {},
   "outputs": [],
   "source": [
    "println_show(x);"
   ]
  },
  {
   "cell_type": "code",
   "execution_count": null,
   "id": "af2626cf-42fb-43fa-a78e-e2a513b9c5cf",
   "metadata": {},
   "outputs": [],
   "source": [
    "println_show( √α) #why not?"
   ]
  },
  {
   "cell_type": "code",
   "execution_count": null,
   "id": "7e49e601-8c3c-49a6-a043-e937faabfb0d",
   "metadata": {},
   "outputs": [],
   "source": [
    "\"\"\"\n",
    "It shows both the name of x and it's value, like `x = 17`.\n",
    "\"\"\"\n",
    "function println_show(x)\n",
    "\n",
    "end"
   ]
  },
  {
   "cell_type": "code",
   "execution_count": null,
   "id": "491a68e5-04c2-49b6-bfec-3b4ff39274c2",
   "metadata": {},
   "outputs": [],
   "source": [
    "y = 20\n",
    "println_show(y)"
   ]
  },
  {
   "cell_type": "code",
   "execution_count": 20,
   "id": "6465cff2-066b-42d7-b445-4ab3b6804d33",
   "metadata": {},
   "outputs": [
    {
     "name": "stdout",
     "output_type": "stream",
     "text": [
      "√α = 2.449489742783178\n"
     ]
    }
   ],
   "source": [
    "@show √α;"
   ]
  },
  {
   "cell_type": "code",
   "execution_count": 23,
   "id": "0b2f086d-e66b-4f7e-a756-65040d2bcf5f",
   "metadata": {},
   "outputs": [
    {
     "name": "stdout",
     "output_type": "stream",
     "text": [
      "√α = 2.449489742783178\n"
     ]
    }
   ],
   "source": [
    "@show(√α); #function style invokation"
   ]
  },
  {
   "cell_type": "code",
   "execution_count": 24,
   "id": "bbc71970-6bdb-400d-9fd8-ff47b5669a39",
   "metadata": {},
   "outputs": [
    {
     "ename": "LoadError",
     "evalue": "DomainError with -1.0:\nsqrt was called with a negative real argument but will only return a complex result if called with a complex argument. Try sqrt(Complex(x)).",
     "output_type": "error",
     "traceback": [
      "DomainError with -1.0:\nsqrt was called with a negative real argument but will only return a complex result if called with a complex argument. Try sqrt(Complex(x)).",
      "",
      "Stacktrace:",
      " [1] throw_complex_domainerror(f::Symbol, x::Float64)",
      "   @ Base.Math ./math.jl:33",
      " [2] sqrt",
      "   @ ./math.jl:608 [inlined]",
      " [3] sqrt(x::Int64)",
      "   @ Base.Math ./math.jl:1531",
      " [4] top-level scope",
      "   @ In[24]:1"
     ]
    }
   ],
   "source": [
    "sqrt(-1)"
   ]
  },
  {
   "cell_type": "code",
   "execution_count": 25,
   "id": "e3d0ba49-e8ad-4f0d-901d-56cc3665a673",
   "metadata": {},
   "outputs": [
    {
     "data": {
      "text/html": [
       "# 19 methods for generic function <b>sqrt</b> from \u001b[90mBase\u001b[39m:<ul><li> sqrt(x::<b>BigInt</b>) in Base.MPFR at <a href=\"https://github.com/JuliaLang/julia/tree/760b2e5b7396f9cc0da5efce0cadd5d1974c4069/base/mpfr.jl#L703\" target=\"_blank\">mpfr.jl:703</a></li> <li> sqrt(a::<b>Float16</b>) in Base.Math at <a href=\"https://github.com/JuliaLang/julia/tree/760b2e5b7396f9cc0da5efce0cadd5d1974c4069/base/math.jl#L1511\" target=\"_blank\">math.jl:1511</a></li> <li> sqrt(::<b>Missing</b>) in Base.Math at <a href=\"https://github.com/JuliaLang/julia/tree/760b2e5b7396f9cc0da5efce0cadd5d1974c4069/base/math.jl#L1533\" target=\"_blank\">math.jl:1533</a></li> <li> sqrt(x::<b>BigFloat</b>) in Base.MPFR at <a href=\"https://github.com/JuliaLang/julia/tree/760b2e5b7396f9cc0da5efce0cadd5d1974c4069/base/mpfr.jl#L695\" target=\"_blank\">mpfr.jl:695</a></li> <li> sqrt(a::<b>ComplexF16</b>) in Base.Math at <a href=\"https://github.com/JuliaLang/julia/tree/760b2e5b7396f9cc0da5efce0cadd5d1974c4069/base/math.jl#L1512\" target=\"_blank\">math.jl:1512</a></li> <li> sqrt(D::<b>LinearAlgebra.Diagonal</b>) in LinearAlgebra at <a href=\"file:///Users/julia/.julia/scratchspaces/a66863c6-20e8-4ff4-8a62-49f30b1f605e/agent-cache/default-honeycrisp-HL2F7YQ3XH.0/build/default-honeycrisp-HL2F7YQ3XH-0/julialang/julia-release-1-dot-11/usr/share/julia/stdlib/v1.11/LinearAlgebra/src/diagonal.jl\" target=\"_blank\">/Users/uqjnazar/.julia/juliaup/julia-1.11.5+0.aarch64.apple.darwin14/share/julia/stdlib/v1.11/LinearAlgebra/src/diagonal.jl:802</a></li> <li> sqrt(A::<b>LinearAlgebra.UnitUpperTriangular{T, S} where S<:AbstractMatrix{T}</b>)<i> where T</i> in LinearAlgebra at <a href=\"file:///Users/julia/.julia/scratchspaces/a66863c6-20e8-4ff4-8a62-49f30b1f605e/agent-cache/default-honeycrisp-HL2F7YQ3XH.0/build/default-honeycrisp-HL2F7YQ3XH-0/julialang/julia-release-1-dot-11/usr/share/julia/stdlib/v1.11/LinearAlgebra/src/triangular.jl\" target=\"_blank\">/Users/uqjnazar/.julia/juliaup/julia-1.11.5+0.aarch64.apple.darwin14/share/julia/stdlib/v1.11/LinearAlgebra/src/triangular.jl:2392</a></li> <li> sqrt(J::<b>LinearAlgebra.UniformScaling</b>) in LinearAlgebra at <a href=\"file:///Users/julia/.julia/scratchspaces/a66863c6-20e8-4ff4-8a62-49f30b1f605e/agent-cache/default-honeycrisp-HL2F7YQ3XH.0/build/default-honeycrisp-HL2F7YQ3XH-0/julialang/julia-release-1-dot-11/usr/share/julia/stdlib/v1.11/LinearAlgebra/src/uniformscaling.jl\" target=\"_blank\">/Users/uqjnazar/.julia/juliaup/julia-1.11.5+0.aarch64.apple.darwin14/share/julia/stdlib/v1.11/LinearAlgebra/src/uniformscaling.jl:173</a></li> <li> sqrt(z::<b>Complex</b>) in Base at <a href=\"https://github.com/JuliaLang/julia/tree/760b2e5b7396f9cc0da5efce0cadd5d1974c4069/base/complex.jl#L530\" target=\"_blank\">complex.jl:530</a></li> <li> sqrt(A::<b>LinearAlgebra.UpperTriangular</b>) in LinearAlgebra at <a href=\"file:///Users/julia/.julia/scratchspaces/a66863c6-20e8-4ff4-8a62-49f30b1f605e/agent-cache/default-honeycrisp-HL2F7YQ3XH.0/build/default-honeycrisp-HL2F7YQ3XH-0/julialang/julia-release-1-dot-11/usr/share/julia/stdlib/v1.11/LinearAlgebra/src/triangular.jl\" target=\"_blank\">/Users/uqjnazar/.julia/juliaup/julia-1.11.5+0.aarch64.apple.darwin14/share/julia/stdlib/v1.11/LinearAlgebra/src/triangular.jl:2391</a></li> <li> sqrt(x::<b>Union{Float32, Float64}</b>) in Base.Math at <a href=\"https://github.com/JuliaLang/julia/tree/760b2e5b7396f9cc0da5efce0cadd5d1974c4069/base/math.jl#L607\" target=\"_blank\">math.jl:607</a></li> <li> sqrt(x::<b>Real</b>) in Base.Math at <a href=\"https://github.com/JuliaLang/julia/tree/760b2e5b7396f9cc0da5efce0cadd5d1974c4069/base/math.jl#L1528\" target=\"_blank\">math.jl:1528</a></li> <li> sqrt(A::<b>LinearAlgebra.Transpose{T, <:AbstractMatrix} where T</b>) in LinearAlgebra at <a href=\"file:///Users/julia/.julia/scratchspaces/a66863c6-20e8-4ff4-8a62-49f30b1f605e/agent-cache/default-honeycrisp-HL2F7YQ3XH.0/build/default-honeycrisp-HL2F7YQ3XH-0/julialang/julia-release-1-dot-11/usr/share/julia/stdlib/v1.11/LinearAlgebra/src/dense.jl\" target=\"_blank\">/Users/uqjnazar/.julia/juliaup/julia-1.11.5+0.aarch64.apple.darwin14/share/julia/stdlib/v1.11/LinearAlgebra/src/dense.jl:936</a></li> <li> sqrt(A::<b>LinearAlgebra.Adjoint{T, <:AbstractMatrix} where T</b>) in LinearAlgebra at <a href=\"file:///Users/julia/.julia/scratchspaces/a66863c6-20e8-4ff4-8a62-49f30b1f605e/agent-cache/default-honeycrisp-HL2F7YQ3XH.0/build/default-honeycrisp-HL2F7YQ3XH-0/julialang/julia-release-1-dot-11/usr/share/julia/stdlib/v1.11/LinearAlgebra/src/dense.jl\" target=\"_blank\">/Users/uqjnazar/.julia/juliaup/julia-1.11.5+0.aarch64.apple.darwin14/share/julia/stdlib/v1.11/LinearAlgebra/src/dense.jl:935</a></li> <li> sqrt(A::<b>LinearAlgebra.UnitLowerTriangular</b>) in LinearAlgebra at <a href=\"file:///Users/julia/.julia/scratchspaces/a66863c6-20e8-4ff4-8a62-49f30b1f605e/agent-cache/default-honeycrisp-HL2F7YQ3XH.0/build/default-honeycrisp-HL2F7YQ3XH-0/julialang/julia-release-1-dot-11/usr/share/julia/stdlib/v1.11/LinearAlgebra/src/triangular.jl\" target=\"_blank\">/Users/uqjnazar/.julia/juliaup/julia-1.11.5+0.aarch64.apple.darwin14/share/julia/stdlib/v1.11/LinearAlgebra/src/triangular.jl:2411</a></li> <li> sqrt(A::<b>LinearAlgebra.LowerTriangular</b>) in LinearAlgebra at <a href=\"file:///Users/julia/.julia/scratchspaces/a66863c6-20e8-4ff4-8a62-49f30b1f605e/agent-cache/default-honeycrisp-HL2F7YQ3XH.0/build/default-honeycrisp-HL2F7YQ3XH-0/julialang/julia-release-1-dot-11/usr/share/julia/stdlib/v1.11/LinearAlgebra/src/triangular.jl\" target=\"_blank\">/Users/uqjnazar/.julia/juliaup/julia-1.11.5+0.aarch64.apple.darwin14/share/julia/stdlib/v1.11/LinearAlgebra/src/triangular.jl:2410</a></li> <li> sqrt(A::<b>LinearAlgebra.Hermitian{T, S} where S<:(AbstractMatrix{<:T})</b>; <i>rtol</i>)<i> where T<:Complex</i> in LinearAlgebra at <a href=\"file:///Users/julia/.julia/scratchspaces/a66863c6-20e8-4ff4-8a62-49f30b1f605e/agent-cache/default-honeycrisp-HL2F7YQ3XH.0/build/default-honeycrisp-HL2F7YQ3XH-0/julialang/julia-release-1-dot-11/usr/share/julia/stdlib/v1.11/LinearAlgebra/src/symmetric.jl\" target=\"_blank\">/Users/uqjnazar/.julia/juliaup/julia-1.11.5+0.aarch64.apple.darwin14/share/julia/stdlib/v1.11/LinearAlgebra/src/symmetric.jl:823</a></li> <li> sqrt(A::<b>Union{LinearAlgebra.Hermitian{T, S}, LinearAlgebra.Symmetric{T, S}} where S</b>; <i>rtol</i>)<i> where T<:Real</i> in LinearAlgebra at <a href=\"file:///Users/julia/.julia/scratchspaces/a66863c6-20e8-4ff4-8a62-49f30b1f605e/agent-cache/default-honeycrisp-HL2F7YQ3XH.0/build/default-honeycrisp-HL2F7YQ3XH-0/julialang/julia-release-1-dot-11/usr/share/julia/stdlib/v1.11/LinearAlgebra/src/symmetric.jl\" target=\"_blank\">/Users/uqjnazar/.julia/juliaup/julia-1.11.5+0.aarch64.apple.darwin14/share/julia/stdlib/v1.11/LinearAlgebra/src/symmetric.jl:812</a></li> <li> sqrt(A::<b>AbstractMatrix{T}</b>)<i> where T<:Union{Real, Complex}</i> in LinearAlgebra at <a href=\"file:///Users/julia/.julia/scratchspaces/a66863c6-20e8-4ff4-8a62-49f30b1f605e/agent-cache/default-honeycrisp-HL2F7YQ3XH.0/build/default-honeycrisp-HL2F7YQ3XH-0/julialang/julia-release-1-dot-11/usr/share/julia/stdlib/v1.11/LinearAlgebra/src/dense.jl\" target=\"_blank\">/Users/uqjnazar/.julia/juliaup/julia-1.11.5+0.aarch64.apple.darwin14/share/julia/stdlib/v1.11/LinearAlgebra/src/dense.jl:905</a></li> </ul>"
      ],
      "text/plain": [
       "# 19 methods for generic function \"sqrt\" from \u001b[90mBase\u001b[39m:\n",
       "  [1] sqrt(\u001b[90mx\u001b[39m::\u001b[1mBigInt\u001b[22m)\n",
       "\u001b[90m     @\u001b[39m \u001b[90mBase.MPFR\u001b[39m \u001b[90m\u001b[4mmpfr.jl:703\u001b[24m\u001b[39m\n",
       "  [2] sqrt(\u001b[90ma\u001b[39m::\u001b[1mFloat16\u001b[22m)\n",
       "\u001b[90m     @\u001b[39m \u001b[90mBase.Math\u001b[39m \u001b[90m\u001b[4mmath.jl:1511\u001b[24m\u001b[39m\n",
       "  [3] sqrt(::\u001b[1mMissing\u001b[22m)\n",
       "\u001b[90m     @\u001b[39m \u001b[90mBase.Math\u001b[39m \u001b[90m\u001b[4mmath.jl:1533\u001b[24m\u001b[39m\n",
       "  [4] sqrt(\u001b[90mx\u001b[39m::\u001b[1mBigFloat\u001b[22m)\n",
       "\u001b[90m     @\u001b[39m \u001b[90mBase.MPFR\u001b[39m \u001b[90m\u001b[4mmpfr.jl:695\u001b[24m\u001b[39m\n",
       "  [5] sqrt(\u001b[90ma\u001b[39m::\u001b[1mComplexF16\u001b[22m)\n",
       "\u001b[90m     @\u001b[39m \u001b[90mBase.Math\u001b[39m \u001b[90m\u001b[4mmath.jl:1512\u001b[24m\u001b[39m\n",
       "  [6] sqrt(\u001b[90mD\u001b[39m::\u001b[1mLinearAlgebra.Diagonal\u001b[22m)\n",
       "\u001b[90m     @\u001b[39m \u001b[32mLinearAlgebra\u001b[39m \u001b[90m~/.julia/juliaup/julia-1.11.5+0.aarch64.apple.darwin14/share/julia/stdlib/v1.11/LinearAlgebra/src/\u001b[39m\u001b[90m\u001b[4mdiagonal.jl:802\u001b[24m\u001b[39m\n",
       "  [7] sqrt(\u001b[90mA\u001b[39m::\u001b[1mLinearAlgebra.UnitUpperTriangular\u001b[22m\u001b[0m{T, S} where S<:AbstractMatrix{T}) where T\n",
       "\u001b[90m     @\u001b[39m \u001b[32mLinearAlgebra\u001b[39m \u001b[90m~/.julia/juliaup/julia-1.11.5+0.aarch64.apple.darwin14/share/julia/stdlib/v1.11/LinearAlgebra/src/\u001b[39m\u001b[90m\u001b[4mtriangular.jl:2392\u001b[24m\u001b[39m\n",
       "  [8] sqrt(\u001b[90mJ\u001b[39m::\u001b[1mLinearAlgebra.UniformScaling\u001b[22m)\n",
       "\u001b[90m     @\u001b[39m \u001b[32mLinearAlgebra\u001b[39m \u001b[90m~/.julia/juliaup/julia-1.11.5+0.aarch64.apple.darwin14/share/julia/stdlib/v1.11/LinearAlgebra/src/\u001b[39m\u001b[90m\u001b[4muniformscaling.jl:173\u001b[24m\u001b[39m\n",
       "  [9] sqrt(\u001b[90mz\u001b[39m::\u001b[1mComplex\u001b[22m)\n",
       "\u001b[90m     @\u001b[39m \u001b[90m\u001b[4mcomplex.jl:530\u001b[24m\u001b[39m\n",
       " [10] sqrt(\u001b[90mA\u001b[39m::\u001b[1mLinearAlgebra.UpperTriangular\u001b[22m)\n",
       "\u001b[90m     @\u001b[39m \u001b[32mLinearAlgebra\u001b[39m \u001b[90m~/.julia/juliaup/julia-1.11.5+0.aarch64.apple.darwin14/share/julia/stdlib/v1.11/LinearAlgebra/src/\u001b[39m\u001b[90m\u001b[4mtriangular.jl:2391\u001b[24m\u001b[39m\n",
       " [11] sqrt(\u001b[90mx\u001b[39m::\u001b[1mUnion\u001b[22m\u001b[0m{Float32, Float64})\n",
       "\u001b[90m     @\u001b[39m \u001b[90mBase.Math\u001b[39m \u001b[90m\u001b[4mmath.jl:607\u001b[24m\u001b[39m\n",
       " [12] sqrt(\u001b[90mx\u001b[39m::\u001b[1mReal\u001b[22m)\n",
       "\u001b[90m     @\u001b[39m \u001b[90mBase.Math\u001b[39m \u001b[90m\u001b[4mmath.jl:1528\u001b[24m\u001b[39m\n",
       " [13] sqrt(\u001b[90mA\u001b[39m::\u001b[1mLinearAlgebra.Transpose\u001b[22m\u001b[0m{T, <:AbstractMatrix} where T)\n",
       "\u001b[90m     @\u001b[39m \u001b[32mLinearAlgebra\u001b[39m \u001b[90m~/.julia/juliaup/julia-1.11.5+0.aarch64.apple.darwin14/share/julia/stdlib/v1.11/LinearAlgebra/src/\u001b[39m\u001b[90m\u001b[4mdense.jl:936\u001b[24m\u001b[39m\n",
       " [14] sqrt(\u001b[90mA\u001b[39m::\u001b[1mLinearAlgebra.Adjoint\u001b[22m\u001b[0m{T, <:AbstractMatrix} where T)\n",
       "\u001b[90m     @\u001b[39m \u001b[32mLinearAlgebra\u001b[39m \u001b[90m~/.julia/juliaup/julia-1.11.5+0.aarch64.apple.darwin14/share/julia/stdlib/v1.11/LinearAlgebra/src/\u001b[39m\u001b[90m\u001b[4mdense.jl:935\u001b[24m\u001b[39m\n",
       " [15] sqrt(\u001b[90mA\u001b[39m::\u001b[1mLinearAlgebra.UnitLowerTriangular\u001b[22m)\n",
       "\u001b[90m     @\u001b[39m \u001b[32mLinearAlgebra\u001b[39m \u001b[90m~/.julia/juliaup/julia-1.11.5+0.aarch64.apple.darwin14/share/julia/stdlib/v1.11/LinearAlgebra/src/\u001b[39m\u001b[90m\u001b[4mtriangular.jl:2411\u001b[24m\u001b[39m\n",
       " [16] sqrt(\u001b[90mA\u001b[39m::\u001b[1mLinearAlgebra.LowerTriangular\u001b[22m)\n",
       "\u001b[90m     @\u001b[39m \u001b[32mLinearAlgebra\u001b[39m \u001b[90m~/.julia/juliaup/julia-1.11.5+0.aarch64.apple.darwin14/share/julia/stdlib/v1.11/LinearAlgebra/src/\u001b[39m\u001b[90m\u001b[4mtriangular.jl:2410\u001b[24m\u001b[39m\n",
       " [17] sqrt(\u001b[90mA\u001b[39m::\u001b[1mLinearAlgebra.Hermitian\u001b[22m\u001b[0m{T, S} where S<:(AbstractMatrix{<:T}); rtol) where T<:Complex\n",
       "\u001b[90m     @\u001b[39m \u001b[32mLinearAlgebra\u001b[39m \u001b[90m~/.julia/juliaup/julia-1.11.5+0.aarch64.apple.darwin14/share/julia/stdlib/v1.11/LinearAlgebra/src/\u001b[39m\u001b[90m\u001b[4msymmetric.jl:823\u001b[24m\u001b[39m\n",
       " [18] sqrt(\u001b[90mA\u001b[39m::\u001b[1mUnion\u001b[22m\u001b[0m{LinearAlgebra.Hermitian{T, S}, LinearAlgebra.Symmetric{T, S}} where S; rtol) where T<:Real\n",
       "\u001b[90m     @\u001b[39m \u001b[32mLinearAlgebra\u001b[39m \u001b[90m~/.julia/juliaup/julia-1.11.5+0.aarch64.apple.darwin14/share/julia/stdlib/v1.11/LinearAlgebra/src/\u001b[39m\u001b[90m\u001b[4msymmetric.jl:812\u001b[24m\u001b[39m\n",
       " [19] sqrt(\u001b[90mA\u001b[39m::\u001b[1mAbstractMatrix\u001b[22m\u001b[0m{T}) where T<:Union{Real, Complex}\n",
       "\u001b[90m     @\u001b[39m \u001b[32mLinearAlgebra\u001b[39m \u001b[90m~/.julia/juliaup/julia-1.11.5+0.aarch64.apple.darwin14/share/julia/stdlib/v1.11/LinearAlgebra/src/\u001b[39m\u001b[90m\u001b[4mdense.jl:905\u001b[24m\u001b[39m"
      ]
     },
     "execution_count": 25,
     "metadata": {},
     "output_type": "execute_result"
    }
   ],
   "source": [
    "methods(sqrt)"
   ]
  },
  {
   "cell_type": "code",
   "execution_count": 26,
   "id": "f4c847dd-dd5b-4978-82e6-5fe8273c3308",
   "metadata": {},
   "outputs": [
    {
     "ename": "LoadError",
     "evalue": "MethodError: no method matching sqrt(::String)\nThe function `sqrt` exists, but no method is defined for this combination of argument types.\n\n\u001b[0mClosest candidates are:\n\u001b[0m  sqrt(\u001b[91m::BigInt\u001b[39m)\n\u001b[0m\u001b[90m   @\u001b[39m \u001b[90mBase\u001b[39m \u001b[90m\u001b[4mmpfr.jl:703\u001b[24m\u001b[39m\n\u001b[0m  sqrt(\u001b[91m::Float16\u001b[39m)\n\u001b[0m\u001b[90m   @\u001b[39m \u001b[90mBase\u001b[39m \u001b[90m\u001b[4mmath.jl:1511\u001b[24m\u001b[39m\n\u001b[0m  sqrt(\u001b[91m::Missing\u001b[39m)\n\u001b[0m\u001b[90m   @\u001b[39m \u001b[90mBase\u001b[39m \u001b[90m\u001b[4mmath.jl:1533\u001b[24m\u001b[39m\n\u001b[0m  ...\n",
     "output_type": "error",
     "traceback": [
      "MethodError: no method matching sqrt(::String)\nThe function `sqrt` exists, but no method is defined for this combination of argument types.\n\n\u001b[0mClosest candidates are:\n\u001b[0m  sqrt(\u001b[91m::BigInt\u001b[39m)\n\u001b[0m\u001b[90m   @\u001b[39m \u001b[90mBase\u001b[39m \u001b[90m\u001b[4mmpfr.jl:703\u001b[24m\u001b[39m\n\u001b[0m  sqrt(\u001b[91m::Float16\u001b[39m)\n\u001b[0m\u001b[90m   @\u001b[39m \u001b[90mBase\u001b[39m \u001b[90m\u001b[4mmath.jl:1511\u001b[24m\u001b[39m\n\u001b[0m  sqrt(\u001b[91m::Missing\u001b[39m)\n\u001b[0m\u001b[90m   @\u001b[39m \u001b[90mBase\u001b[39m \u001b[90m\u001b[4mmath.jl:1533\u001b[24m\u001b[39m\n\u001b[0m  ...\n",
      "",
      "Stacktrace:",
      " [1] top-level scope",
      "   @ In[26]:1"
     ]
    }
   ],
   "source": [
    "sqrt(\"2\")"
   ]
  },
  {
   "cell_type": "code",
   "execution_count": 31,
   "id": "7385a282-a077-4d57-b6ec-a94ceca2334c",
   "metadata": {},
   "outputs": [
    {
     "data": {
      "text/plain": [
       "779962238560129617"
      ]
     },
     "execution_count": 31,
     "metadata": {},
     "output_type": "execute_result"
    }
   ],
   "source": [
    "rand(Int)"
   ]
  },
  {
   "cell_type": "code",
   "execution_count": 32,
   "id": "fed1afac-f8df-4ea8-883e-e898e1c8fc38",
   "metadata": {},
   "outputs": [
    {
     "data": {
      "text/plain": [
       "0x64"
      ]
     },
     "execution_count": 32,
     "metadata": {},
     "output_type": "execute_result"
    }
   ],
   "source": [
    "rand(UInt8)"
   ]
  },
  {
   "cell_type": "code",
   "execution_count": 34,
   "id": "86a73b32-cc73-48c0-91fd-7df5915f6480",
   "metadata": {},
   "outputs": [
    {
     "data": {
      "text/plain": [
       "0.8734590912889167"
      ]
     },
     "execution_count": 34,
     "metadata": {},
     "output_type": "execute_result"
    }
   ],
   "source": [
    "rand(Float64)"
   ]
  },
  {
   "cell_type": "code",
   "execution_count": 35,
   "id": "0ebaac0b-acf3-48fd-a33b-1ab0dc96c2b0",
   "metadata": {},
   "outputs": [
    {
     "data": {
      "text/plain": [
       "0.9185198567105016"
      ]
     },
     "execution_count": 35,
     "metadata": {},
     "output_type": "execute_result"
    }
   ],
   "source": [
    "rand()"
   ]
  },
  {
   "cell_type": "code",
   "execution_count": 29,
   "id": "810f155e-efde-495d-93db-8fe84712d280",
   "metadata": {},
   "outputs": [
    {
     "data": {
      "text/plain": [
       "2.3"
      ]
     },
     "execution_count": 29,
     "metadata": {},
     "output_type": "execute_result"
    }
   ],
   "source": [
    "parse(Float64,\"2.3\")"
   ]
  },
  {
   "cell_type": "code",
   "execution_count": 30,
   "id": "f40aaa57-baf4-42ca-8183-60b934633993",
   "metadata": {},
   "outputs": [
    {
     "ename": "LoadError",
     "evalue": "ArgumentError: cannot parse \"x2.3\" as Float64",
     "output_type": "error",
     "traceback": [
      "ArgumentError: cannot parse \"x2.3\" as Float64",
      "",
      "Stacktrace:",
      " [1] _parse_failure(T::Type, s::String, startpos::Int64, endpos::Int64)",
      "   @ Base ./parse.jl:388",
      " [2] #tryparse_internal#621",
      "   @ ./parse.jl:384 [inlined]",
      " [3] tryparse_internal",
      "   @ ./parse.jl:381 [inlined]",
      " [4] parse(::Type{Float64}, s::String)",
      "   @ Base ./parse.jl:394",
      " [5] top-level scope",
      "   @ In[30]:1"
     ]
    }
   ],
   "source": [
    "parse(Float64,\"x2.3\")"
   ]
  },
  {
   "cell_type": "code",
   "execution_count": 27,
   "id": "279555f5-c048-4516-b26a-96360e74ce48",
   "metadata": {},
   "outputs": [
    {
     "name": "stdout",
     "output_type": "stream",
     "text": [
      "search: \u001b[0m\u001b[1mp\u001b[22m\u001b[0m\u001b[1ma\u001b[22m\u001b[0m\u001b[1mr\u001b[22m\u001b[0m\u001b[1ms\u001b[22m\u001b[0m\u001b[1me\u001b[22m try\u001b[0m\u001b[1mp\u001b[22m\u001b[0m\u001b[1ma\u001b[22m\u001b[0m\u001b[1mr\u001b[22m\u001b[0m\u001b[1ms\u001b[22m\u001b[0m\u001b[1me\u001b[22m \u001b[0m\u001b[1mp\u001b[22m\u001b[0m\u001b[1ma\u001b[22mi\u001b[0m\u001b[1mr\u001b[22m\u001b[0m\u001b[1ms\u001b[22m Base \u001b[0m\u001b[1mp\u001b[22m\u001b[0m\u001b[1ma\u001b[22m\u001b[0m\u001b[1mr\u001b[22ment falses\n",
      "\n"
     ]
    },
    {
     "data": {
      "text/latex": [
       "\\begin{verbatim}\n",
       "parse(type, str; base)\n",
       "\\end{verbatim}\n",
       "Parse a string as a number. For \\texttt{Integer} types, a base can be specified (the default is 10). For floating-point types, the string is parsed as a decimal floating-point number.  \\texttt{Complex} types are parsed from decimal strings of the form \\texttt{\"R±Iim\"} as a \\texttt{Complex(R,I)} of the requested type; \\texttt{\"i\"} or \\texttt{\"j\"} can also be used instead of \\texttt{\"im\"}, and \\texttt{\"R\"} or \\texttt{\"Iim\"} are also permitted. If the string does not contain a valid number, an error is raised.\n",
       "\n",
       "\\begin{quote}\n",
       "\\textbf{compat}\n",
       "\n",
       "Julia 1.1\n",
       "\n",
       "\\texttt{parse(Bool, str)} requires at least Julia 1.1.\n",
       "\n",
       "\\end{quote}\n",
       "\\section{Examples}\n",
       "\\begin{verbatim}\n",
       "julia> parse(Int, \"1234\")\n",
       "1234\n",
       "\n",
       "julia> parse(Int, \"1234\", base = 5)\n",
       "194\n",
       "\n",
       "julia> parse(Int, \"afc\", base = 16)\n",
       "2812\n",
       "\n",
       "julia> parse(Float64, \"1.2e-3\")\n",
       "0.0012\n",
       "\n",
       "julia> parse(Complex{Float64}, \"3.2e-1 + 4.5im\")\n",
       "0.32 + 4.5im\n",
       "\\end{verbatim}\n",
       "\\rule{\\textwidth}{1pt}\n",
       "\\begin{verbatim}\n",
       "parse(::Type{Platform}, triplet::AbstractString)\n",
       "\\end{verbatim}\n",
       "Parses a string platform triplet back into a \\texttt{Platform} object.\n",
       "\n",
       "\\rule{\\textwidth}{1pt}\n",
       "\\begin{verbatim}\n",
       "parse(::Type{SimpleColor}, rgb::String)\n",
       "\\end{verbatim}\n",
       "An analogue of \\texttt{tryparse(SimpleColor, rgb::String)} (which see), that raises an error instead of returning \\texttt{nothing}.\n",
       "\n"
      ],
      "text/markdown": [
       "```\n",
       "parse(type, str; base)\n",
       "```\n",
       "\n",
       "Parse a string as a number. For `Integer` types, a base can be specified (the default is 10). For floating-point types, the string is parsed as a decimal floating-point number.  `Complex` types are parsed from decimal strings of the form `\"R±Iim\"` as a `Complex(R,I)` of the requested type; `\"i\"` or `\"j\"` can also be used instead of `\"im\"`, and `\"R\"` or `\"Iim\"` are also permitted. If the string does not contain a valid number, an error is raised.\n",
       "\n",
       "!!! compat \"Julia 1.1\"\n",
       "    `parse(Bool, str)` requires at least Julia 1.1.\n",
       "\n",
       "\n",
       "# Examples\n",
       "\n",
       "```jldoctest\n",
       "julia> parse(Int, \"1234\")\n",
       "1234\n",
       "\n",
       "julia> parse(Int, \"1234\", base = 5)\n",
       "194\n",
       "\n",
       "julia> parse(Int, \"afc\", base = 16)\n",
       "2812\n",
       "\n",
       "julia> parse(Float64, \"1.2e-3\")\n",
       "0.0012\n",
       "\n",
       "julia> parse(Complex{Float64}, \"3.2e-1 + 4.5im\")\n",
       "0.32 + 4.5im\n",
       "```\n",
       "\n",
       "---\n",
       "\n",
       "```\n",
       "parse(::Type{Platform}, triplet::AbstractString)\n",
       "```\n",
       "\n",
       "Parses a string platform triplet back into a `Platform` object.\n",
       "\n",
       "---\n",
       "\n",
       "```\n",
       "parse(::Type{SimpleColor}, rgb::String)\n",
       "```\n",
       "\n",
       "An analogue of `tryparse(SimpleColor, rgb::String)` (which see), that raises an error instead of returning `nothing`.\n"
      ],
      "text/plain": [
       "\u001b[36m  parse(type, str; base)\u001b[39m\n",
       "\n",
       "  Parse a string as a number. For \u001b[36mInteger\u001b[39m types, a base can be specified (the\n",
       "  default is 10). For floating-point types, the string is parsed as a decimal\n",
       "  floating-point number. \u001b[36mComplex\u001b[39m types are parsed from decimal strings of the\n",
       "  form \u001b[36m\"R±Iim\"\u001b[39m as a \u001b[36mComplex(R,I)\u001b[39m of the requested type; \u001b[36m\"i\"\u001b[39m or \u001b[36m\"j\"\u001b[39m can also be\n",
       "  used instead of \u001b[36m\"im\"\u001b[39m, and \u001b[36m\"R\"\u001b[39m or \u001b[36m\"Iim\"\u001b[39m are also permitted. If the string\n",
       "  does not contain a valid number, an error is raised.\n",
       "\n",
       "\u001b[39m\u001b[1m  │ \u001b[22m\u001b[39m\u001b[1mJulia 1.1\u001b[22m\n",
       "\u001b[39m\u001b[1m  │\u001b[22m\n",
       "\u001b[39m\u001b[1m  │\u001b[22m  \u001b[36mparse(Bool, str)\u001b[39m requires at least Julia 1.1.\n",
       "\n",
       "\u001b[1m  Examples\u001b[22m\n",
       "\u001b[1m  ≡≡≡≡≡≡≡≡\u001b[22m\n",
       "\n",
       "\u001b[36m  julia> parse(Int, \"1234\")\u001b[39m\n",
       "\u001b[36m  1234\u001b[39m\n",
       "\u001b[36m  \u001b[39m\n",
       "\u001b[36m  julia> parse(Int, \"1234\", base = 5)\u001b[39m\n",
       "\u001b[36m  194\u001b[39m\n",
       "\u001b[36m  \u001b[39m\n",
       "\u001b[36m  julia> parse(Int, \"afc\", base = 16)\u001b[39m\n",
       "\u001b[36m  2812\u001b[39m\n",
       "\u001b[36m  \u001b[39m\n",
       "\u001b[36m  julia> parse(Float64, \"1.2e-3\")\u001b[39m\n",
       "\u001b[36m  0.0012\u001b[39m\n",
       "\u001b[36m  \u001b[39m\n",
       "\u001b[36m  julia> parse(Complex{Float64}, \"3.2e-1 + 4.5im\")\u001b[39m\n",
       "\u001b[36m  0.32 + 4.5im\u001b[39m\n",
       "\n",
       "  ────────────────────────────────────────────────────────────────────────────\n",
       "\n",
       "\u001b[36m  parse(::Type{Platform}, triplet::AbstractString)\u001b[39m\n",
       "\n",
       "  Parses a string platform triplet back into a \u001b[36mPlatform\u001b[39m object.\n",
       "\n",
       "  ────────────────────────────────────────────────────────────────────────────\n",
       "\n",
       "\u001b[36m  parse(::Type{SimpleColor}, rgb::String)\u001b[39m\n",
       "\n",
       "  An analogue of \u001b[36mtryparse(SimpleColor, rgb::String)\u001b[39m (which see), that raises\n",
       "  an error instead of returning \u001b[36mnothing\u001b[39m."
      ]
     },
     "execution_count": 27,
     "metadata": {},
     "output_type": "execute_result"
    }
   ],
   "source": [
    "?parse"
   ]
  },
  {
   "cell_type": "code",
   "execution_count": null,
   "id": "b961efc9-f07d-4e40-a0c7-4df0fc471246",
   "metadata": {},
   "outputs": [],
   "source": [
    "import Base: sqrt #import is \"kindof like using\""
   ]
  },
  {
   "cell_type": "code",
   "execution_count": 36,
   "id": "8f93225a-afad-4d2d-afb8-fa0b206468f4",
   "metadata": {},
   "outputs": [],
   "source": [
    "function Base.sqrt(s::String)\n",
    "    num_value = parse(Float64, s)\n",
    "    return √num_value\n",
    "end"
   ]
  },
  {
   "cell_type": "code",
   "execution_count": 37,
   "id": "06bca090-f9ed-4acb-ad65-b647d6cc215a",
   "metadata": {},
   "outputs": [
    {
     "data": {
      "text/plain": [
       "20"
      ]
     },
     "execution_count": 37,
     "metadata": {},
     "output_type": "execute_result"
    }
   ],
   "source": [
    "methods(sqrt) |> length"
   ]
  },
  {
   "cell_type": "code",
   "execution_count": 38,
   "id": "4eb8b3ab-ff9e-487c-953a-0fe98dbb9c91",
   "metadata": {},
   "outputs": [
    {
     "data": {
      "text/html": [
       "# 20 methods for generic function <b>sqrt</b> from \u001b[90mBase\u001b[39m:<ul><li> sqrt(x::<b>BigInt</b>) in Base.MPFR at <a href=\"https://github.com/JuliaLang/julia/tree/760b2e5b7396f9cc0da5efce0cadd5d1974c4069/base/mpfr.jl#L703\" target=\"_blank\">mpfr.jl:703</a></li> <li> sqrt(a::<b>Float16</b>) in Base.Math at <a href=\"https://github.com/JuliaLang/julia/tree/760b2e5b7396f9cc0da5efce0cadd5d1974c4069/base/math.jl#L1511\" target=\"_blank\">math.jl:1511</a></li> <li> sqrt(::<b>Missing</b>) in Base.Math at <a href=\"https://github.com/JuliaLang/julia/tree/760b2e5b7396f9cc0da5efce0cadd5d1974c4069/base/math.jl#L1533\" target=\"_blank\">math.jl:1533</a></li> <li> sqrt(x::<b>BigFloat</b>) in Base.MPFR at <a href=\"https://github.com/JuliaLang/julia/tree/760b2e5b7396f9cc0da5efce0cadd5d1974c4069/base/mpfr.jl#L695\" target=\"_blank\">mpfr.jl:695</a></li> <li> sqrt(a::<b>ComplexF16</b>) in Base.Math at <a href=\"https://github.com/JuliaLang/julia/tree/760b2e5b7396f9cc0da5efce0cadd5d1974c4069/base/math.jl#L1512\" target=\"_blank\">math.jl:1512</a></li> <li> sqrt(s::<b>String</b>) in Main at In[36]:1</li> <li> sqrt(D::<b>LinearAlgebra.Diagonal</b>) in LinearAlgebra at <a href=\"file:///Users/julia/.julia/scratchspaces/a66863c6-20e8-4ff4-8a62-49f30b1f605e/agent-cache/default-honeycrisp-HL2F7YQ3XH.0/build/default-honeycrisp-HL2F7YQ3XH-0/julialang/julia-release-1-dot-11/usr/share/julia/stdlib/v1.11/LinearAlgebra/src/diagonal.jl\" target=\"_blank\">/Users/uqjnazar/.julia/juliaup/julia-1.11.5+0.aarch64.apple.darwin14/share/julia/stdlib/v1.11/LinearAlgebra/src/diagonal.jl:802</a></li> <li> sqrt(A::<b>LinearAlgebra.UnitUpperTriangular{T, S} where S<:AbstractMatrix{T}</b>)<i> where T</i> in LinearAlgebra at <a href=\"file:///Users/julia/.julia/scratchspaces/a66863c6-20e8-4ff4-8a62-49f30b1f605e/agent-cache/default-honeycrisp-HL2F7YQ3XH.0/build/default-honeycrisp-HL2F7YQ3XH-0/julialang/julia-release-1-dot-11/usr/share/julia/stdlib/v1.11/LinearAlgebra/src/triangular.jl\" target=\"_blank\">/Users/uqjnazar/.julia/juliaup/julia-1.11.5+0.aarch64.apple.darwin14/share/julia/stdlib/v1.11/LinearAlgebra/src/triangular.jl:2392</a></li> <li> sqrt(J::<b>LinearAlgebra.UniformScaling</b>) in LinearAlgebra at <a href=\"file:///Users/julia/.julia/scratchspaces/a66863c6-20e8-4ff4-8a62-49f30b1f605e/agent-cache/default-honeycrisp-HL2F7YQ3XH.0/build/default-honeycrisp-HL2F7YQ3XH-0/julialang/julia-release-1-dot-11/usr/share/julia/stdlib/v1.11/LinearAlgebra/src/uniformscaling.jl\" target=\"_blank\">/Users/uqjnazar/.julia/juliaup/julia-1.11.5+0.aarch64.apple.darwin14/share/julia/stdlib/v1.11/LinearAlgebra/src/uniformscaling.jl:173</a></li> <li> sqrt(z::<b>Complex</b>) in Base at <a href=\"https://github.com/JuliaLang/julia/tree/760b2e5b7396f9cc0da5efce0cadd5d1974c4069/base/complex.jl#L530\" target=\"_blank\">complex.jl:530</a></li> <li> sqrt(A::<b>LinearAlgebra.UpperTriangular</b>) in LinearAlgebra at <a href=\"file:///Users/julia/.julia/scratchspaces/a66863c6-20e8-4ff4-8a62-49f30b1f605e/agent-cache/default-honeycrisp-HL2F7YQ3XH.0/build/default-honeycrisp-HL2F7YQ3XH-0/julialang/julia-release-1-dot-11/usr/share/julia/stdlib/v1.11/LinearAlgebra/src/triangular.jl\" target=\"_blank\">/Users/uqjnazar/.julia/juliaup/julia-1.11.5+0.aarch64.apple.darwin14/share/julia/stdlib/v1.11/LinearAlgebra/src/triangular.jl:2391</a></li> <li> sqrt(x::<b>Union{Float32, Float64}</b>) in Base.Math at <a href=\"https://github.com/JuliaLang/julia/tree/760b2e5b7396f9cc0da5efce0cadd5d1974c4069/base/math.jl#L607\" target=\"_blank\">math.jl:607</a></li> <li> sqrt(x::<b>Real</b>) in Base.Math at <a href=\"https://github.com/JuliaLang/julia/tree/760b2e5b7396f9cc0da5efce0cadd5d1974c4069/base/math.jl#L1528\" target=\"_blank\">math.jl:1528</a></li> <li> sqrt(A::<b>LinearAlgebra.Transpose{T, <:AbstractMatrix} where T</b>) in LinearAlgebra at <a href=\"file:///Users/julia/.julia/scratchspaces/a66863c6-20e8-4ff4-8a62-49f30b1f605e/agent-cache/default-honeycrisp-HL2F7YQ3XH.0/build/default-honeycrisp-HL2F7YQ3XH-0/julialang/julia-release-1-dot-11/usr/share/julia/stdlib/v1.11/LinearAlgebra/src/dense.jl\" target=\"_blank\">/Users/uqjnazar/.julia/juliaup/julia-1.11.5+0.aarch64.apple.darwin14/share/julia/stdlib/v1.11/LinearAlgebra/src/dense.jl:936</a></li> <li> sqrt(A::<b>LinearAlgebra.Adjoint{T, <:AbstractMatrix} where T</b>) in LinearAlgebra at <a href=\"file:///Users/julia/.julia/scratchspaces/a66863c6-20e8-4ff4-8a62-49f30b1f605e/agent-cache/default-honeycrisp-HL2F7YQ3XH.0/build/default-honeycrisp-HL2F7YQ3XH-0/julialang/julia-release-1-dot-11/usr/share/julia/stdlib/v1.11/LinearAlgebra/src/dense.jl\" target=\"_blank\">/Users/uqjnazar/.julia/juliaup/julia-1.11.5+0.aarch64.apple.darwin14/share/julia/stdlib/v1.11/LinearAlgebra/src/dense.jl:935</a></li> <li> sqrt(A::<b>LinearAlgebra.UnitLowerTriangular</b>) in LinearAlgebra at <a href=\"file:///Users/julia/.julia/scratchspaces/a66863c6-20e8-4ff4-8a62-49f30b1f605e/agent-cache/default-honeycrisp-HL2F7YQ3XH.0/build/default-honeycrisp-HL2F7YQ3XH-0/julialang/julia-release-1-dot-11/usr/share/julia/stdlib/v1.11/LinearAlgebra/src/triangular.jl\" target=\"_blank\">/Users/uqjnazar/.julia/juliaup/julia-1.11.5+0.aarch64.apple.darwin14/share/julia/stdlib/v1.11/LinearAlgebra/src/triangular.jl:2411</a></li> <li> sqrt(A::<b>LinearAlgebra.LowerTriangular</b>) in LinearAlgebra at <a href=\"file:///Users/julia/.julia/scratchspaces/a66863c6-20e8-4ff4-8a62-49f30b1f605e/agent-cache/default-honeycrisp-HL2F7YQ3XH.0/build/default-honeycrisp-HL2F7YQ3XH-0/julialang/julia-release-1-dot-11/usr/share/julia/stdlib/v1.11/LinearAlgebra/src/triangular.jl\" target=\"_blank\">/Users/uqjnazar/.julia/juliaup/julia-1.11.5+0.aarch64.apple.darwin14/share/julia/stdlib/v1.11/LinearAlgebra/src/triangular.jl:2410</a></li> <li> sqrt(A::<b>LinearAlgebra.Hermitian{T, S} where S<:(AbstractMatrix{<:T})</b>; <i>rtol</i>)<i> where T<:Complex</i> in LinearAlgebra at <a href=\"file:///Users/julia/.julia/scratchspaces/a66863c6-20e8-4ff4-8a62-49f30b1f605e/agent-cache/default-honeycrisp-HL2F7YQ3XH.0/build/default-honeycrisp-HL2F7YQ3XH-0/julialang/julia-release-1-dot-11/usr/share/julia/stdlib/v1.11/LinearAlgebra/src/symmetric.jl\" target=\"_blank\">/Users/uqjnazar/.julia/juliaup/julia-1.11.5+0.aarch64.apple.darwin14/share/julia/stdlib/v1.11/LinearAlgebra/src/symmetric.jl:823</a></li> <li> sqrt(A::<b>Union{LinearAlgebra.Hermitian{T, S}, LinearAlgebra.Symmetric{T, S}} where S</b>; <i>rtol</i>)<i> where T<:Real</i> in LinearAlgebra at <a href=\"file:///Users/julia/.julia/scratchspaces/a66863c6-20e8-4ff4-8a62-49f30b1f605e/agent-cache/default-honeycrisp-HL2F7YQ3XH.0/build/default-honeycrisp-HL2F7YQ3XH-0/julialang/julia-release-1-dot-11/usr/share/julia/stdlib/v1.11/LinearAlgebra/src/symmetric.jl\" target=\"_blank\">/Users/uqjnazar/.julia/juliaup/julia-1.11.5+0.aarch64.apple.darwin14/share/julia/stdlib/v1.11/LinearAlgebra/src/symmetric.jl:812</a></li> <li> sqrt(A::<b>AbstractMatrix{T}</b>)<i> where T<:Union{Real, Complex}</i> in LinearAlgebra at <a href=\"file:///Users/julia/.julia/scratchspaces/a66863c6-20e8-4ff4-8a62-49f30b1f605e/agent-cache/default-honeycrisp-HL2F7YQ3XH.0/build/default-honeycrisp-HL2F7YQ3XH-0/julialang/julia-release-1-dot-11/usr/share/julia/stdlib/v1.11/LinearAlgebra/src/dense.jl\" target=\"_blank\">/Users/uqjnazar/.julia/juliaup/julia-1.11.5+0.aarch64.apple.darwin14/share/julia/stdlib/v1.11/LinearAlgebra/src/dense.jl:905</a></li> </ul>"
      ],
      "text/plain": [
       "# 20 methods for generic function \"sqrt\" from \u001b[90mBase\u001b[39m:\n",
       "  [1] sqrt(\u001b[90mx\u001b[39m::\u001b[1mBigInt\u001b[22m)\n",
       "\u001b[90m     @\u001b[39m \u001b[90mBase.MPFR\u001b[39m \u001b[90m\u001b[4mmpfr.jl:703\u001b[24m\u001b[39m\n",
       "  [2] sqrt(\u001b[90ma\u001b[39m::\u001b[1mFloat16\u001b[22m)\n",
       "\u001b[90m     @\u001b[39m \u001b[90mBase.Math\u001b[39m \u001b[90m\u001b[4mmath.jl:1511\u001b[24m\u001b[39m\n",
       "  [3] sqrt(::\u001b[1mMissing\u001b[22m)\n",
       "\u001b[90m     @\u001b[39m \u001b[90mBase.Math\u001b[39m \u001b[90m\u001b[4mmath.jl:1533\u001b[24m\u001b[39m\n",
       "  [4] sqrt(\u001b[90mx\u001b[39m::\u001b[1mBigFloat\u001b[22m)\n",
       "\u001b[90m     @\u001b[39m \u001b[90mBase.MPFR\u001b[39m \u001b[90m\u001b[4mmpfr.jl:695\u001b[24m\u001b[39m\n",
       "  [5] sqrt(\u001b[90ma\u001b[39m::\u001b[1mComplexF16\u001b[22m)\n",
       "\u001b[90m     @\u001b[39m \u001b[90mBase.Math\u001b[39m \u001b[90m\u001b[4mmath.jl:1512\u001b[24m\u001b[39m\n",
       "  [6] sqrt(\u001b[90ms\u001b[39m::\u001b[1mString\u001b[22m)\n",
       "\u001b[90m     @\u001b[39m \u001b[35mMain\u001b[39m \u001b[90m\u001b[4mIn[36]:1\u001b[24m\u001b[39m\n",
       "  [7] sqrt(\u001b[90mD\u001b[39m::\u001b[1mLinearAlgebra.Diagonal\u001b[22m)\n",
       "\u001b[90m     @\u001b[39m \u001b[32mLinearAlgebra\u001b[39m \u001b[90m~/.julia/juliaup/julia-1.11.5+0.aarch64.apple.darwin14/share/julia/stdlib/v1.11/LinearAlgebra/src/\u001b[39m\u001b[90m\u001b[4mdiagonal.jl:802\u001b[24m\u001b[39m\n",
       "  [8] sqrt(\u001b[90mA\u001b[39m::\u001b[1mLinearAlgebra.UnitUpperTriangular\u001b[22m\u001b[0m{T, S} where S<:AbstractMatrix{T}) where T\n",
       "\u001b[90m     @\u001b[39m \u001b[32mLinearAlgebra\u001b[39m \u001b[90m~/.julia/juliaup/julia-1.11.5+0.aarch64.apple.darwin14/share/julia/stdlib/v1.11/LinearAlgebra/src/\u001b[39m\u001b[90m\u001b[4mtriangular.jl:2392\u001b[24m\u001b[39m\n",
       "  [9] sqrt(\u001b[90mJ\u001b[39m::\u001b[1mLinearAlgebra.UniformScaling\u001b[22m)\n",
       "\u001b[90m     @\u001b[39m \u001b[32mLinearAlgebra\u001b[39m \u001b[90m~/.julia/juliaup/julia-1.11.5+0.aarch64.apple.darwin14/share/julia/stdlib/v1.11/LinearAlgebra/src/\u001b[39m\u001b[90m\u001b[4muniformscaling.jl:173\u001b[24m\u001b[39m\n",
       " [10] sqrt(\u001b[90mz\u001b[39m::\u001b[1mComplex\u001b[22m)\n",
       "\u001b[90m     @\u001b[39m \u001b[90m\u001b[4mcomplex.jl:530\u001b[24m\u001b[39m\n",
       " [11] sqrt(\u001b[90mA\u001b[39m::\u001b[1mLinearAlgebra.UpperTriangular\u001b[22m)\n",
       "\u001b[90m     @\u001b[39m \u001b[32mLinearAlgebra\u001b[39m \u001b[90m~/.julia/juliaup/julia-1.11.5+0.aarch64.apple.darwin14/share/julia/stdlib/v1.11/LinearAlgebra/src/\u001b[39m\u001b[90m\u001b[4mtriangular.jl:2391\u001b[24m\u001b[39m\n",
       " [12] sqrt(\u001b[90mx\u001b[39m::\u001b[1mUnion\u001b[22m\u001b[0m{Float32, Float64})\n",
       "\u001b[90m     @\u001b[39m \u001b[90mBase.Math\u001b[39m \u001b[90m\u001b[4mmath.jl:607\u001b[24m\u001b[39m\n",
       " [13] sqrt(\u001b[90mx\u001b[39m::\u001b[1mReal\u001b[22m)\n",
       "\u001b[90m     @\u001b[39m \u001b[90mBase.Math\u001b[39m \u001b[90m\u001b[4mmath.jl:1528\u001b[24m\u001b[39m\n",
       " [14] sqrt(\u001b[90mA\u001b[39m::\u001b[1mLinearAlgebra.Transpose\u001b[22m\u001b[0m{T, <:AbstractMatrix} where T)\n",
       "\u001b[90m     @\u001b[39m \u001b[32mLinearAlgebra\u001b[39m \u001b[90m~/.julia/juliaup/julia-1.11.5+0.aarch64.apple.darwin14/share/julia/stdlib/v1.11/LinearAlgebra/src/\u001b[39m\u001b[90m\u001b[4mdense.jl:936\u001b[24m\u001b[39m\n",
       " [15] sqrt(\u001b[90mA\u001b[39m::\u001b[1mLinearAlgebra.Adjoint\u001b[22m\u001b[0m{T, <:AbstractMatrix} where T)\n",
       "\u001b[90m     @\u001b[39m \u001b[32mLinearAlgebra\u001b[39m \u001b[90m~/.julia/juliaup/julia-1.11.5+0.aarch64.apple.darwin14/share/julia/stdlib/v1.11/LinearAlgebra/src/\u001b[39m\u001b[90m\u001b[4mdense.jl:935\u001b[24m\u001b[39m\n",
       " [16] sqrt(\u001b[90mA\u001b[39m::\u001b[1mLinearAlgebra.UnitLowerTriangular\u001b[22m)\n",
       "\u001b[90m     @\u001b[39m \u001b[32mLinearAlgebra\u001b[39m \u001b[90m~/.julia/juliaup/julia-1.11.5+0.aarch64.apple.darwin14/share/julia/stdlib/v1.11/LinearAlgebra/src/\u001b[39m\u001b[90m\u001b[4mtriangular.jl:2411\u001b[24m\u001b[39m\n",
       " [17] sqrt(\u001b[90mA\u001b[39m::\u001b[1mLinearAlgebra.LowerTriangular\u001b[22m)\n",
       "\u001b[90m     @\u001b[39m \u001b[32mLinearAlgebra\u001b[39m \u001b[90m~/.julia/juliaup/julia-1.11.5+0.aarch64.apple.darwin14/share/julia/stdlib/v1.11/LinearAlgebra/src/\u001b[39m\u001b[90m\u001b[4mtriangular.jl:2410\u001b[24m\u001b[39m\n",
       " [18] sqrt(\u001b[90mA\u001b[39m::\u001b[1mLinearAlgebra.Hermitian\u001b[22m\u001b[0m{T, S} where S<:(AbstractMatrix{<:T}); rtol) where T<:Complex\n",
       "\u001b[90m     @\u001b[39m \u001b[32mLinearAlgebra\u001b[39m \u001b[90m~/.julia/juliaup/julia-1.11.5+0.aarch64.apple.darwin14/share/julia/stdlib/v1.11/LinearAlgebra/src/\u001b[39m\u001b[90m\u001b[4msymmetric.jl:823\u001b[24m\u001b[39m\n",
       " [19] sqrt(\u001b[90mA\u001b[39m::\u001b[1mUnion\u001b[22m\u001b[0m{LinearAlgebra.Hermitian{T, S}, LinearAlgebra.Symmetric{T, S}} where S; rtol) where T<:Real\n",
       "\u001b[90m     @\u001b[39m \u001b[32mLinearAlgebra\u001b[39m \u001b[90m~/.julia/juliaup/julia-1.11.5+0.aarch64.apple.darwin14/share/julia/stdlib/v1.11/LinearAlgebra/src/\u001b[39m\u001b[90m\u001b[4msymmetric.jl:812\u001b[24m\u001b[39m\n",
       " [20] sqrt(\u001b[90mA\u001b[39m::\u001b[1mAbstractMatrix\u001b[22m\u001b[0m{T}) where T<:Union{Real, Complex}\n",
       "\u001b[90m     @\u001b[39m \u001b[32mLinearAlgebra\u001b[39m \u001b[90m~/.julia/juliaup/julia-1.11.5+0.aarch64.apple.darwin14/share/julia/stdlib/v1.11/LinearAlgebra/src/\u001b[39m\u001b[90m\u001b[4mdense.jl:905\u001b[24m\u001b[39m"
      ]
     },
     "execution_count": 38,
     "metadata": {},
     "output_type": "execute_result"
    }
   ],
   "source": [
    "methods(sqrt)"
   ]
  },
  {
   "cell_type": "code",
   "execution_count": 39,
   "id": "4349bffd-b234-4073-a35f-3620123c78d0",
   "metadata": {},
   "outputs": [
    {
     "data": {
      "text/plain": [
       "1.772004514666935"
      ]
     },
     "execution_count": 39,
     "metadata": {},
     "output_type": "execute_result"
    }
   ],
   "source": [
    "sqrt(\"3.14\")"
   ]
  },
  {
   "cell_type": "code",
   "execution_count": 45,
   "id": "ca668e2c-7b17-4fc0-a2ee-5a7a0bce53b6",
   "metadata": {},
   "outputs": [
    {
     "data": {
      "text/plain": [
       "\"My dog is 7 years old\""
      ]
     },
     "execution_count": 45,
     "metadata": {},
     "output_type": "execute_result"
    }
   ],
   "source": [
    "x = 5\n",
    "\"My dog is $(x+2) years old\""
   ]
  },
  {
   "cell_type": "code",
   "execution_count": 46,
   "id": "8de24768-2ea5-4e99-9808-e4da6901fb9a",
   "metadata": {},
   "outputs": [
    {
     "data": {
      "text/plain": [
       "1.7724538509055159"
      ]
     },
     "execution_count": 46,
     "metadata": {},
     "output_type": "execute_result"
    }
   ],
   "source": [
    "sqrt(\"$(Float64(π))\") #Anti-societal"
   ]
  },
  {
   "cell_type": "code",
   "execution_count": 47,
   "id": "b2b26699-ef7a-4d4e-a382-5482f004a085",
   "metadata": {},
   "outputs": [
    {
     "ename": "LoadError",
     "evalue": "DomainError with -1.0:\nsqrt was called with a negative real argument but will only return a complex result if called with a complex argument. Try sqrt(Complex(x)).",
     "output_type": "error",
     "traceback": [
      "DomainError with -1.0:\nsqrt was called with a negative real argument but will only return a complex result if called with a complex argument. Try sqrt(Complex(x)).",
      "",
      "Stacktrace:",
      " [1] throw_complex_domainerror(f::Symbol, x::Float64)",
      "   @ Base.Math ./math.jl:33",
      " [2] sqrt",
      "   @ ./math.jl:608 [inlined]",
      " [3] sqrt(x::Int64)",
      "   @ Base.Math ./math.jl:1531",
      " [4] top-level scope",
      "   @ In[47]:1"
     ]
    }
   ],
   "source": [
    "sqrt(-1)"
   ]
  },
  {
   "cell_type": "code",
   "execution_count": 48,
   "id": "defccabd-a347-4355-a29a-d85414c3e114",
   "metadata": {},
   "outputs": [
    {
     "data": {
      "text/plain": [
       "-1 + 0im"
      ]
     },
     "execution_count": 48,
     "metadata": {},
     "output_type": "execute_result"
    }
   ],
   "source": [
    "Complex(-1)"
   ]
  },
  {
   "cell_type": "code",
   "execution_count": 49,
   "id": "48e60558-e7d7-4e4b-bc8c-91e84fc5cff2",
   "metadata": {},
   "outputs": [
    {
     "data": {
      "text/plain": [
       "Complex{Int64}"
      ]
     },
     "execution_count": 49,
     "metadata": {},
     "output_type": "execute_result"
    }
   ],
   "source": [
    "typeof(ans)"
   ]
  },
  {
   "cell_type": "code",
   "execution_count": 50,
   "id": "04048bf6-eafc-44b7-805d-8799e2969991",
   "metadata": {},
   "outputs": [
    {
     "data": {
      "text/plain": [
       "0.0 + 1.0im"
      ]
     },
     "execution_count": 50,
     "metadata": {},
     "output_type": "execute_result"
    }
   ],
   "source": [
    "sqrt(Complex(-1))"
   ]
  },
  {
   "cell_type": "code",
   "execution_count": 53,
   "id": "1d71ce75-64dc-4163-9b9f-343a7454d446",
   "metadata": {},
   "outputs": [
    {
     "data": {
      "text/plain": [
       "-1 + 0im"
      ]
     },
     "execution_count": 53,
     "metadata": {},
     "output_type": "execute_result"
    }
   ],
   "source": [
    "num = im^2"
   ]
  },
  {
   "cell_type": "code",
   "execution_count": 55,
   "id": "70f1e6fc-4087-4c66-b7d1-986b467bd631",
   "metadata": {},
   "outputs": [
    {
     "data": {
      "text/plain": [
       "-1"
      ]
     },
     "execution_count": 55,
     "metadata": {},
     "output_type": "execute_result"
    }
   ],
   "source": [
    "real(num)"
   ]
  },
  {
   "cell_type": "code",
   "execution_count": 56,
   "id": "cbdb35fe-fdb0-41be-93fb-5f8b80aa6a53",
   "metadata": {},
   "outputs": [
    {
     "data": {
      "text/plain": [
       "0"
      ]
     },
     "execution_count": 56,
     "metadata": {},
     "output_type": "execute_result"
    }
   ],
   "source": [
    "imag(num)"
   ]
  },
  {
   "cell_type": "code",
   "execution_count": 57,
   "id": "059ceb4b-4155-49da-82bb-1f663aea6351",
   "metadata": {},
   "outputs": [
    {
     "data": {
      "text/html": [
       "sqrt(x::<b>Real</b>) in Base.Math at <a href=\"https://github.com/JuliaLang/julia/tree/760b2e5b7396f9cc0da5efce0cadd5d1974c4069/base/math.jl#L1528\" target=\"_blank\">math.jl:1528</a>"
      ],
      "text/plain": [
       "sqrt(\u001b[90mx\u001b[39m::\u001b[1mReal\u001b[22m)\n",
       "\u001b[90m     @\u001b[39m \u001b[90mBase.Math\u001b[39m \u001b[90m\u001b[4mmath.jl:1528\u001b[24m\u001b[39m"
      ]
     },
     "execution_count": 57,
     "metadata": {},
     "output_type": "execute_result"
    }
   ],
   "source": [
    "@which sqrt(-1)"
   ]
  },
  {
   "cell_type": "code",
   "execution_count": 58,
   "id": "82f530ce-167a-42b2-8c7b-739add9e0a86",
   "metadata": {},
   "outputs": [
    {
     "data": {
      "text/html": [
       "sqrt(z::<b>Complex</b>) in Base at <a href=\"https://github.com/JuliaLang/julia/tree/760b2e5b7396f9cc0da5efce0cadd5d1974c4069/base/complex.jl#L530\" target=\"_blank\">complex.jl:530</a>"
      ],
      "text/plain": [
       "sqrt(\u001b[90mz\u001b[39m::\u001b[1mComplex\u001b[22m)\n",
       "\u001b[90m     @\u001b[39m \u001b[90mBase\u001b[39m \u001b[90m\u001b[4mcomplex.jl:530\u001b[24m\u001b[39m"
      ]
     },
     "execution_count": 58,
     "metadata": {},
     "output_type": "execute_result"
    }
   ],
   "source": [
    "@which sqrt(-1 + 0im)"
   ]
  },
  {
   "cell_type": "code",
   "execution_count": 59,
   "id": "599dafc6-f571-4442-961d-7b93ff1d77ea",
   "metadata": {},
   "outputs": [
    {
     "data": {
      "text/plain": [
       "10-element Vector{Float64}:\n",
       " 1.0\n",
       " 1.4142135623730951\n",
       " 1.7320508075688772\n",
       " 2.0\n",
       " 2.23606797749979\n",
       " 2.449489742783178\n",
       " 2.6457513110645907\n",
       " 2.8284271247461903\n",
       " 3.0\n",
       " 3.1622776601683795"
      ]
     },
     "execution_count": 59,
     "metadata": {},
     "output_type": "execute_result"
    }
   ],
   "source": [
    "data = [√i for i in 1:10]"
   ]
  },
  {
   "cell_type": "markdown",
   "id": "698aaf04-ea64-40ec-a2fa-0e21b54752c4",
   "metadata": {},
   "source": [
    "## Exercise.... let's find the perfect squares between 0 and 100"
   ]
  },
  {
   "cell_type": "code",
   "execution_count": 79,
   "id": "08368d99-0fed-4122-bbd2-c6b648131ec3",
   "metadata": {},
   "outputs": [
    {
     "data": {
      "text/plain": [
       "100-element Vector{Tuple{Int64, Float64}}:\n",
       " (1, 1.0)\n",
       " (2, 1.4142135623730951)\n",
       " (3, 1.7320508075688772)\n",
       " (4, 2.0)\n",
       " (5, 2.23606797749979)\n",
       " (6, 2.449489742783178)\n",
       " (7, 2.6457513110645907)\n",
       " (8, 2.8284271247461903)\n",
       " (9, 3.0)\n",
       " (10, 3.1622776601683795)\n",
       " (11, 3.3166247903554)\n",
       " (12, 3.4641016151377544)\n",
       " (13, 3.605551275463989)\n",
       " ⋮\n",
       " (89, 9.433981132056603)\n",
       " (90, 9.486832980505138)\n",
       " (91, 9.539392014169456)\n",
       " (92, 9.591663046625438)\n",
       " (93, 9.643650760992955)\n",
       " (94, 9.695359714832659)\n",
       " (95, 9.746794344808963)\n",
       " (96, 9.797958971132712)\n",
       " (97, 9.848857801796104)\n",
       " (98, 9.899494936611665)\n",
       " (99, 9.9498743710662)\n",
       " (100, 10.0)"
      ]
     },
     "execution_count": 79,
     "metadata": {},
     "output_type": "execute_result"
    }
   ],
   "source": [
    "data = [(i,√i) for i in 1:100]"
   ]
  },
  {
   "cell_type": "code",
   "execution_count": 65,
   "id": "9142723d-c192-4c88-9e15-bc76f0f3424d",
   "metadata": {},
   "outputs": [
    {
     "data": {
      "text/plain": [
       "(55, 7.416198487095663)"
      ]
     },
     "execution_count": 65,
     "metadata": {},
     "output_type": "execute_result"
    }
   ],
   "source": [
    "data[55]"
   ]
  },
  {
   "cell_type": "code",
   "execution_count": 66,
   "id": "37452ee4-3731-4bf2-adc8-c763ef1b21b0",
   "metadata": {},
   "outputs": [
    {
     "data": {
      "text/plain": [
       "Vector{Tuple{Int64, Float64}}\u001b[90m (alias for \u001b[39m\u001b[90mArray{Tuple{Int64, Float64}, 1}\u001b[39m\u001b[90m)\u001b[39m"
      ]
     },
     "execution_count": 66,
     "metadata": {},
     "output_type": "execute_result"
    }
   ],
   "source": [
    "typeof(data)"
   ]
  },
  {
   "cell_type": "code",
   "execution_count": 67,
   "id": "9e1cb2b1-b42f-42b6-9817-dcd5bf01f8b4",
   "metadata": {},
   "outputs": [
    {
     "data": {
      "text/plain": [
       "7.416198487095663"
      ]
     },
     "execution_count": 67,
     "metadata": {},
     "output_type": "execute_result"
    }
   ],
   "source": [
    "data[55][2]"
   ]
  },
  {
   "cell_type": "code",
   "execution_count": 68,
   "id": "e297d7ec-da79-48b7-9afb-1e8342cc0bf6",
   "metadata": {},
   "outputs": [],
   "source": [
    "# How do I know that 7.0 is a \"whole number\"?"
   ]
  },
  {
   "cell_type": "code",
   "execution_count": 69,
   "id": "4f98010a-3a74-478b-a50c-032aa21f5a3d",
   "metadata": {},
   "outputs": [
    {
     "data": {
      "text/plain": [
       "7.0"
      ]
     },
     "execution_count": 69,
     "metadata": {},
     "output_type": "execute_result"
    }
   ],
   "source": [
    "floor(7.4)"
   ]
  },
  {
   "cell_type": "code",
   "execution_count": 70,
   "id": "f10a0468-8cfa-4404-81b7-a2ac4acc9e3f",
   "metadata": {},
   "outputs": [
    {
     "data": {
      "text/plain": [
       "false"
      ]
     },
     "execution_count": 70,
     "metadata": {},
     "output_type": "execute_result"
    }
   ],
   "source": [
    "floor(7.4) == 7.4"
   ]
  },
  {
   "cell_type": "code",
   "execution_count": 71,
   "id": "851cdf51-4c9e-45eb-a062-f56cce568f02",
   "metadata": {},
   "outputs": [
    {
     "data": {
      "text/plain": [
       "true"
      ]
     },
     "execution_count": 71,
     "metadata": {},
     "output_type": "execute_result"
    }
   ],
   "source": [
    "floor(7.0) == 7.0"
   ]
  },
  {
   "cell_type": "code",
   "execution_count": null,
   "id": "e0014f10-2051-483e-9638-7972af52f24b",
   "metadata": {},
   "outputs": [],
   "source": []
  },
  {
   "cell_type": "markdown",
   "id": "2919f330-1570-42e2-9adc-b38be9c644f8",
   "metadata": {},
   "source": [
    "#### Kevin's starting point"
   ]
  },
  {
   "cell_type": "code",
   "execution_count": 73,
   "id": "94e57cd6-db0a-4600-b651-cbed7580578d",
   "metadata": {},
   "outputs": [
    {
     "data": {
      "text/plain": [
       "Any[]"
      ]
     },
     "execution_count": 73,
     "metadata": {},
     "output_type": "execute_result"
    }
   ],
   "source": [
    "vec = [] # empty array"
   ]
  },
  {
   "cell_type": "code",
   "execution_count": 75,
   "id": "bec6bd39-c2b9-481b-a6d7-b30b3675b4c0",
   "metadata": {},
   "outputs": [
    {
     "ename": "LoadError",
     "evalue": "BoundsError: attempt to access 0-element Vector{Any} at index [1]",
     "output_type": "error",
     "traceback": [
      "BoundsError: attempt to access 0-element Vector{Any} at index [1]",
      "",
      "Stacktrace:",
      " [1] throw_boundserror(A::Vector{Any}, I::Tuple{Int64})",
      "   @ Base ./essentials.jl:14",
      " [2] setindex!(A::Vector{Any}, x::Any, i::Int64)",
      "   @ Base ./essentials.jl:922",
      " [3] top-level scope",
      "   @ ./In[75]:2"
     ]
    }
   ],
   "source": [
    "for i in 1:5\n",
    "    vec[i] = i^2 #throws an out of bounds\n",
    "end"
   ]
  },
  {
   "cell_type": "code",
   "execution_count": 78,
   "id": "800f4dcd-2124-4f57-b476-c5e3c4c226a9",
   "metadata": {},
   "outputs": [
    {
     "data": {
      "text/plain": [
       "5-element Vector{Any}:\n",
       "  1\n",
       "  4\n",
       "  9\n",
       " 16\n",
       " 25"
      ]
     },
     "execution_count": 78,
     "metadata": {},
     "output_type": "execute_result"
    }
   ],
   "source": [
    "vec = []\n",
    "for i in 1:5\n",
    "    push!(vec, i^2) # appends/pushes to the end of the vector\n",
    "end\n",
    "vec"
   ]
  },
  {
   "cell_type": "code",
   "execution_count": 85,
   "id": "864fbc6a-1808-4eb7-aca9-0a0cd8b29a6b",
   "metadata": {},
   "outputs": [
    {
     "data": {
      "text/plain": [
       "10-element Vector{Any}:\n",
       "   1\n",
       "   4\n",
       "   9\n",
       "  16\n",
       "  25\n",
       "  36\n",
       "  49\n",
       "  64\n",
       "  81\n",
       " 100"
      ]
     },
     "execution_count": 85,
     "metadata": {},
     "output_type": "execute_result"
    }
   ],
   "source": [
    "perfect_squares = [] #will put values of perfect squares\n",
    "for x in data\n",
    "    if floor(x[2]) == x[2]  #if it is a perfect square\n",
    "        push!(perfect_squares, x[1])\n",
    "    end\n",
    "end\n",
    "perfect_squares"
   ]
  },
  {
   "cell_type": "markdown",
   "id": "0e7b41ed-1366-44f8-92a2-90c3c62cfc41",
   "metadata": {},
   "source": [
    "#####  Pedro's attempt"
   ]
  },
  {
   "cell_type": "markdown",
   "id": "9a02307e-4289-4108-8736-d1a01678d857",
   "metadata": {},
   "source": [
    "The broadcast operator \".\""
   ]
  },
  {
   "cell_type": "code",
   "execution_count": 87,
   "id": "963c8969-ba2d-4c3f-adf2-eb08bf4a6ed4",
   "metadata": {},
   "outputs": [
    {
     "data": {
      "text/plain": [
       "f (generic function with 1 method)"
      ]
     },
     "execution_count": 87,
     "metadata": {},
     "output_type": "execute_result"
    }
   ],
   "source": [
    "f(x) = x + 3"
   ]
  },
  {
   "cell_type": "code",
   "execution_count": 89,
   "id": "3a6fb691-63c8-4d55-9d73-942a956d4f32",
   "metadata": {},
   "outputs": [],
   "source": [
    "my_array = [10,20,30];"
   ]
  },
  {
   "cell_type": "code",
   "execution_count": 91,
   "id": "8e193c08-c0d5-4143-8228-a13f1301c6ce",
   "metadata": {},
   "outputs": [
    {
     "data": {
      "text/plain": [
       "3-element Vector{Int64}:\n",
       " 13\n",
       " 23\n",
       " 33"
      ]
     },
     "execution_count": 91,
     "metadata": {},
     "output_type": "execute_result"
    }
   ],
   "source": [
    "map(f, my_array)"
   ]
  },
  {
   "cell_type": "code",
   "execution_count": 92,
   "id": "51cfc62a-1fbe-4756-ac64-bf45855834fc",
   "metadata": {},
   "outputs": [
    {
     "data": {
      "text/plain": [
       "3-element Vector{Int64}:\n",
       " 13\n",
       " 23\n",
       " 33"
      ]
     },
     "execution_count": 92,
     "metadata": {},
     "output_type": "execute_result"
    }
   ],
   "source": [
    "f.(my_array) #broadcast operator"
   ]
  },
  {
   "cell_type": "code",
   "execution_count": 93,
   "id": "aab592fa-badc-488e-b87a-da412e2e6613",
   "metadata": {},
   "outputs": [
    {
     "data": {
      "text/plain": [
       "3-element Vector{Int64}:\n",
       " 1000\n",
       " 2000\n",
       " 3000"
      ]
     },
     "execution_count": 93,
     "metadata": {},
     "output_type": "execute_result"
    }
   ],
   "source": [
    "100*my_array"
   ]
  },
  {
   "cell_type": "code",
   "execution_count": 94,
   "id": "b7fae361-4fb5-427f-b45b-f303996c436e",
   "metadata": {},
   "outputs": [
    {
     "ename": "LoadError",
     "evalue": "MethodError: no method matching +(::Vector{Int64}, ::Int64)\nFor element-wise addition, use broadcasting with dot syntax: array .+ scalar\nThe function `+` exists, but no method is defined for this combination of argument types.\n\n\u001b[0mClosest candidates are:\n\u001b[0m  +(::Any, ::Any, \u001b[91m::Any\u001b[39m, \u001b[91m::Any...\u001b[39m)\n\u001b[0m\u001b[90m   @\u001b[39m \u001b[90mBase\u001b[39m \u001b[90m\u001b[4moperators.jl:596\u001b[24m\u001b[39m\n\u001b[0m  +(\u001b[91m::Missing\u001b[39m, ::Number)\n\u001b[0m\u001b[90m   @\u001b[39m \u001b[90mBase\u001b[39m \u001b[90m\u001b[4mmissing.jl:123\u001b[24m\u001b[39m\n\u001b[0m  +(\u001b[91m::Complex{Bool}\u001b[39m, ::Real)\n\u001b[0m\u001b[90m   @\u001b[39m \u001b[90mBase\u001b[39m \u001b[90m\u001b[4mcomplex.jl:323\u001b[24m\u001b[39m\n\u001b[0m  ...\n",
     "output_type": "error",
     "traceback": [
      "MethodError: no method matching +(::Vector{Int64}, ::Int64)\nFor element-wise addition, use broadcasting with dot syntax: array .+ scalar\nThe function `+` exists, but no method is defined for this combination of argument types.\n\n\u001b[0mClosest candidates are:\n\u001b[0m  +(::Any, ::Any, \u001b[91m::Any\u001b[39m, \u001b[91m::Any...\u001b[39m)\n\u001b[0m\u001b[90m   @\u001b[39m \u001b[90mBase\u001b[39m \u001b[90m\u001b[4moperators.jl:596\u001b[24m\u001b[39m\n\u001b[0m  +(\u001b[91m::Missing\u001b[39m, ::Number)\n\u001b[0m\u001b[90m   @\u001b[39m \u001b[90mBase\u001b[39m \u001b[90m\u001b[4mmissing.jl:123\u001b[24m\u001b[39m\n\u001b[0m  +(\u001b[91m::Complex{Bool}\u001b[39m, ::Real)\n\u001b[0m\u001b[90m   @\u001b[39m \u001b[90mBase\u001b[39m \u001b[90m\u001b[4mcomplex.jl:323\u001b[24m\u001b[39m\n\u001b[0m  ...\n",
      "",
      "Stacktrace:",
      " [1] top-level scope",
      "   @ In[94]:1"
     ]
    }
   ],
   "source": [
    "my_array + 100"
   ]
  },
  {
   "cell_type": "code",
   "execution_count": 96,
   "id": "eedbdf19-2325-4afc-88b4-d9295af2e5cd",
   "metadata": {},
   "outputs": [
    {
     "data": {
      "text/plain": [
       "3-element Vector{Int64}:\n",
       " 110\n",
       " 120\n",
       " 130"
      ]
     },
     "execution_count": 96,
     "metadata": {},
     "output_type": "execute_result"
    }
   ],
   "source": [
    "my_array .+ 100 #broadcasting the + function"
   ]
  },
  {
   "cell_type": "code",
   "execution_count": 97,
   "id": "59a24554-0fd2-4de1-a154-7cf1053af22e",
   "metadata": {},
   "outputs": [
    {
     "ename": "LoadError",
     "evalue": "MethodError: no method matching ^(::Vector{Int64}, ::Int64)\nThe function `^` exists, but no method is defined for this combination of argument types.\n\n\u001b[0mClosest candidates are:\n\u001b[0m  ^(\u001b[91m::Regex\u001b[39m, ::Integer)\n\u001b[0m\u001b[90m   @\u001b[39m \u001b[90mBase\u001b[39m \u001b[90m\u001b[4mregex.jl:901\u001b[24m\u001b[39m\n\u001b[0m  ^(\u001b[91m::Float64\u001b[39m, ::Integer)\n\u001b[0m\u001b[90m   @\u001b[39m \u001b[90mBase\u001b[39m \u001b[90m\u001b[4mmath.jl:1197\u001b[24m\u001b[39m\n\u001b[0m  ^(\u001b[91m::Missing\u001b[39m, ::Integer)\n\u001b[0m\u001b[90m   @\u001b[39m \u001b[90mBase\u001b[39m \u001b[90m\u001b[4mmissing.jl:155\u001b[24m\u001b[39m\n\u001b[0m  ...\n",
     "output_type": "error",
     "traceback": [
      "MethodError: no method matching ^(::Vector{Int64}, ::Int64)\nThe function `^` exists, but no method is defined for this combination of argument types.\n\n\u001b[0mClosest candidates are:\n\u001b[0m  ^(\u001b[91m::Regex\u001b[39m, ::Integer)\n\u001b[0m\u001b[90m   @\u001b[39m \u001b[90mBase\u001b[39m \u001b[90m\u001b[4mregex.jl:901\u001b[24m\u001b[39m\n\u001b[0m  ^(\u001b[91m::Float64\u001b[39m, ::Integer)\n\u001b[0m\u001b[90m   @\u001b[39m \u001b[90mBase\u001b[39m \u001b[90m\u001b[4mmath.jl:1197\u001b[24m\u001b[39m\n\u001b[0m  ^(\u001b[91m::Missing\u001b[39m, ::Integer)\n\u001b[0m\u001b[90m   @\u001b[39m \u001b[90mBase\u001b[39m \u001b[90m\u001b[4mmissing.jl:155\u001b[24m\u001b[39m\n\u001b[0m  ...\n",
      "",
      "Stacktrace:",
      " [1] literal_pow(f::typeof(^), x::Vector{Int64}, ::Val{2})",
      "   @ Base ./intfuncs.jl:389",
      " [2] top-level scope",
      "   @ In[97]:1"
     ]
    }
   ],
   "source": [
    "my_array^2"
   ]
  },
  {
   "cell_type": "code",
   "execution_count": 98,
   "id": "77824f99-54a3-4124-abf4-0aac415ef553",
   "metadata": {},
   "outputs": [
    {
     "data": {
      "text/plain": [
       "3-element Vector{Int64}:\n",
       " 100\n",
       " 400\n",
       " 900"
      ]
     },
     "execution_count": 98,
     "metadata": {},
     "output_type": "execute_result"
    }
   ],
   "source": [
    "my_array.^2"
   ]
  },
  {
   "cell_type": "code",
   "execution_count": 90,
   "id": "a38d7f71-36fc-4506-b0ca-f18663ffc924",
   "metadata": {},
   "outputs": [
    {
     "ename": "LoadError",
     "evalue": "MethodError: no method matching +(::Vector{Int64}, ::Int64)\nFor element-wise addition, use broadcasting with dot syntax: array .+ scalar\nThe function `+` exists, but no method is defined for this combination of argument types.\n\n\u001b[0mClosest candidates are:\n\u001b[0m  +(::Any, ::Any, \u001b[91m::Any\u001b[39m, \u001b[91m::Any...\u001b[39m)\n\u001b[0m\u001b[90m   @\u001b[39m \u001b[90mBase\u001b[39m \u001b[90m\u001b[4moperators.jl:596\u001b[24m\u001b[39m\n\u001b[0m  +(\u001b[91m::Missing\u001b[39m, ::Number)\n\u001b[0m\u001b[90m   @\u001b[39m \u001b[90mBase\u001b[39m \u001b[90m\u001b[4mmissing.jl:123\u001b[24m\u001b[39m\n\u001b[0m  +(\u001b[91m::Complex{Bool}\u001b[39m, ::Real)\n\u001b[0m\u001b[90m   @\u001b[39m \u001b[90mBase\u001b[39m \u001b[90m\u001b[4mcomplex.jl:323\u001b[24m\u001b[39m\n\u001b[0m  ...\n",
     "output_type": "error",
     "traceback": [
      "MethodError: no method matching +(::Vector{Int64}, ::Int64)\nFor element-wise addition, use broadcasting with dot syntax: array .+ scalar\nThe function `+` exists, but no method is defined for this combination of argument types.\n\n\u001b[0mClosest candidates are:\n\u001b[0m  +(::Any, ::Any, \u001b[91m::Any\u001b[39m, \u001b[91m::Any...\u001b[39m)\n\u001b[0m\u001b[90m   @\u001b[39m \u001b[90mBase\u001b[39m \u001b[90m\u001b[4moperators.jl:596\u001b[24m\u001b[39m\n\u001b[0m  +(\u001b[91m::Missing\u001b[39m, ::Number)\n\u001b[0m\u001b[90m   @\u001b[39m \u001b[90mBase\u001b[39m \u001b[90m\u001b[4mmissing.jl:123\u001b[24m\u001b[39m\n\u001b[0m  +(\u001b[91m::Complex{Bool}\u001b[39m, ::Real)\n\u001b[0m\u001b[90m   @\u001b[39m \u001b[90mBase\u001b[39m \u001b[90m\u001b[4mcomplex.jl:323\u001b[24m\u001b[39m\n\u001b[0m  ...\n",
      "",
      "Stacktrace:",
      " [1] f(x::Vector{Int64})",
      "   @ Main ./In[87]:1",
      " [2] top-level scope",
      "   @ In[90]:1"
     ]
    }
   ],
   "source": [
    "f(my_array)"
   ]
  },
  {
   "cell_type": "markdown",
   "id": "bd46f62c-5e67-441e-959a-a79683a882d6",
   "metadata": {},
   "source": [
    "### A solution:"
   ]
  },
  {
   "cell_type": "code",
   "execution_count": 101,
   "id": "1efe00e4-0e39-474d-8127-af8c585ef38c",
   "metadata": {},
   "outputs": [
    {
     "ename": "LoadError",
     "evalue": "MethodError: no method matching sqrt(::UnitRange{Int64})\nThe function `sqrt` exists, but no method is defined for this combination of argument types.\n\n\u001b[0mClosest candidates are:\n\u001b[0m  sqrt(\u001b[91m::BigInt\u001b[39m)\n\u001b[0m\u001b[90m   @\u001b[39m \u001b[90mBase\u001b[39m \u001b[90m\u001b[4mmpfr.jl:703\u001b[24m\u001b[39m\n\u001b[0m  sqrt(\u001b[91m::Float16\u001b[39m)\n\u001b[0m\u001b[90m   @\u001b[39m \u001b[90mBase\u001b[39m \u001b[90m\u001b[4mmath.jl:1511\u001b[24m\u001b[39m\n\u001b[0m  sqrt(\u001b[91m::Missing\u001b[39m)\n\u001b[0m\u001b[90m   @\u001b[39m \u001b[90mBase\u001b[39m \u001b[90m\u001b[4mmath.jl:1533\u001b[24m\u001b[39m\n\u001b[0m  ...\n",
     "output_type": "error",
     "traceback": [
      "MethodError: no method matching sqrt(::UnitRange{Int64})\nThe function `sqrt` exists, but no method is defined for this combination of argument types.\n\n\u001b[0mClosest candidates are:\n\u001b[0m  sqrt(\u001b[91m::BigInt\u001b[39m)\n\u001b[0m\u001b[90m   @\u001b[39m \u001b[90mBase\u001b[39m \u001b[90m\u001b[4mmpfr.jl:703\u001b[24m\u001b[39m\n\u001b[0m  sqrt(\u001b[91m::Float16\u001b[39m)\n\u001b[0m\u001b[90m   @\u001b[39m \u001b[90mBase\u001b[39m \u001b[90m\u001b[4mmath.jl:1511\u001b[24m\u001b[39m\n\u001b[0m  sqrt(\u001b[91m::Missing\u001b[39m)\n\u001b[0m\u001b[90m   @\u001b[39m \u001b[90mBase\u001b[39m \u001b[90m\u001b[4mmath.jl:1533\u001b[24m\u001b[39m\n\u001b[0m  ...\n",
      "",
      "Stacktrace:",
      " [1] top-level scope",
      "   @ In[101]:1"
     ]
    }
   ],
   "source": [
    "sqrt(1:100)"
   ]
  },
  {
   "cell_type": "code",
   "execution_count": 100,
   "id": "dee2ef80-432e-415c-80d3-c0a3a1037d19",
   "metadata": {},
   "outputs": [
    {
     "data": {
      "text/plain": [
       "UnitRange{Int64}"
      ]
     },
     "execution_count": 100,
     "metadata": {},
     "output_type": "execute_result"
    }
   ],
   "source": [
    "typeof(1:100)"
   ]
  },
  {
   "cell_type": "code",
   "execution_count": 99,
   "id": "9fa26999-c7f3-4d73-bb22-aa5da2a133cf",
   "metadata": {},
   "outputs": [
    {
     "data": {
      "text/plain": [
       "100-element Vector{Float64}:\n",
       "  1.0\n",
       "  1.4142135623730951\n",
       "  1.7320508075688772\n",
       "  2.0\n",
       "  2.23606797749979\n",
       "  2.449489742783178\n",
       "  2.6457513110645907\n",
       "  2.8284271247461903\n",
       "  3.0\n",
       "  3.1622776601683795\n",
       "  3.3166247903554\n",
       "  3.4641016151377544\n",
       "  3.605551275463989\n",
       "  ⋮\n",
       "  9.433981132056603\n",
       "  9.486832980505138\n",
       "  9.539392014169456\n",
       "  9.591663046625438\n",
       "  9.643650760992955\n",
       "  9.695359714832659\n",
       "  9.746794344808963\n",
       "  9.797958971132712\n",
       "  9.848857801796104\n",
       "  9.899494936611665\n",
       "  9.9498743710662\n",
       " 10.0"
      ]
     },
     "execution_count": 99,
     "metadata": {},
     "output_type": "execute_result"
    }
   ],
   "source": [
    "sqrt.(1:100)  # like [sqrt(i) for in 1:100]"
   ]
  },
  {
   "cell_type": "code",
   "execution_count": 103,
   "id": "beb6522f-57ad-4800-9496-770b65b817cf",
   "metadata": {},
   "outputs": [
    {
     "data": {
      "text/plain": [
       "false"
      ]
     },
     "execution_count": 103,
     "metadata": {},
     "output_type": "execute_result"
    }
   ],
   "source": [
    "[2.0, 3.0] === [2, 3]"
   ]
  },
  {
   "cell_type": "code",
   "execution_count": 102,
   "id": "1da635a9-0e82-47d0-af11-3b5d09991d48",
   "metadata": {},
   "outputs": [
    {
     "data": {
      "text/plain": [
       "true"
      ]
     },
     "execution_count": 102,
     "metadata": {},
     "output_type": "execute_result"
    }
   ],
   "source": [
    "[2.0, 3.0] == [2, 3]"
   ]
  },
  {
   "cell_type": "code",
   "execution_count": 104,
   "id": "aae19b15-5c18-4455-95ae-a3798a0305a7",
   "metadata": {},
   "outputs": [
    {
     "data": {
      "text/plain": [
       "false"
      ]
     },
     "execution_count": 104,
     "metadata": {},
     "output_type": "execute_result"
    }
   ],
   "source": [
    "[2.0, 3.0] == [2.0, 3.1]"
   ]
  },
  {
   "cell_type": "code",
   "execution_count": 109,
   "id": "2d1a19ff-1b34-4fbf-9287-eb9bd3266031",
   "metadata": {},
   "outputs": [
    {
     "data": {
      "text/plain": [
       "10000000-element BitVector:\n",
       " 0\n",
       " 0\n",
       " 0\n",
       " 0\n",
       " 0\n",
       " 0\n",
       " 0\n",
       " 0\n",
       " 0\n",
       " 0\n",
       " 0\n",
       " 0\n",
       " 0\n",
       " ⋮\n",
       " 0\n",
       " 0\n",
       " 0\n",
       " 0\n",
       " 0\n",
       " 1\n",
       " 1\n",
       " 0\n",
       " 0\n",
       " 0\n",
       " 1\n",
       " 0"
      ]
     },
     "execution_count": 109,
     "metadata": {},
     "output_type": "execute_result"
    }
   ],
   "source": [
    "big_bit_vec = (rand(1:3, 10^7) .== rand(1:3, 10^7))"
   ]
  },
  {
   "cell_type": "code",
   "execution_count": 112,
   "id": "83805ace-f1ec-46c5-883e-e0e033079591",
   "metadata": {},
   "outputs": [
    {
     "data": {
      "text/plain": [
       "7.0"
      ]
     },
     "execution_count": 112,
     "metadata": {},
     "output_type": "execute_result"
    }
   ],
   "source": [
    "log10(sizeof(big_bit_vec)*8)"
   ]
  },
  {
   "cell_type": "code",
   "execution_count": 120,
   "id": "c2953232-2011-45c8-992c-48178a722ceb",
   "metadata": {},
   "outputs": [
    {
     "data": {
      "text/plain": [
       "3-element BitVector:\n",
       " 1\n",
       " 0\n",
       " 1"
      ]
     },
     "execution_count": 120,
     "metadata": {},
     "output_type": "execute_result"
    }
   ],
   "source": [
    "bit_ans = [2.0, 3.0, 4.0] .== [2.0, 3.1, 4.0]"
   ]
  },
  {
   "cell_type": "code",
   "execution_count": 113,
   "id": "7b14a344-44de-4d37-ac33-e8f52d0b7133",
   "metadata": {},
   "outputs": [
    {
     "data": {
      "text/plain": [
       "3-element Vector{Int64}:\n",
       " 10\n",
       " 20\n",
       " 30"
      ]
     },
     "execution_count": 113,
     "metadata": {},
     "output_type": "execute_result"
    }
   ],
   "source": [
    "my_array"
   ]
  },
  {
   "cell_type": "code",
   "execution_count": 121,
   "id": "96b8503e-0384-4819-9985-e02c81f58997",
   "metadata": {},
   "outputs": [
    {
     "data": {
      "text/plain": [
       "2-element Vector{Int64}:\n",
       " 10\n",
       " 30"
      ]
     },
     "execution_count": 121,
     "metadata": {},
     "output_type": "execute_result"
    }
   ],
   "source": [
    "my_array[bit_ans]"
   ]
  },
  {
   "cell_type": "code",
   "execution_count": 122,
   "id": "25ff0490-a17e-4bfc-a979-cfd087947dc6",
   "metadata": {},
   "outputs": [
    {
     "data": {
      "text/plain": [
       "100-element BitVector:\n",
       " 1\n",
       " 0\n",
       " 0\n",
       " 1\n",
       " 0\n",
       " 0\n",
       " 0\n",
       " 0\n",
       " 1\n",
       " 0\n",
       " 0\n",
       " 0\n",
       " 0\n",
       " ⋮\n",
       " 0\n",
       " 0\n",
       " 0\n",
       " 0\n",
       " 0\n",
       " 0\n",
       " 0\n",
       " 0\n",
       " 0\n",
       " 0\n",
       " 0\n",
       " 1"
      ]
     },
     "execution_count": 122,
     "metadata": {},
     "output_type": "execute_result"
    }
   ],
   "source": [
    "sqrt.(1:100) .== floor.(sqrt.(1:100))"
   ]
  },
  {
   "cell_type": "code",
   "execution_count": 124,
   "id": "cb6b8f8a-2f9a-4a1f-b982-fe394d1d2475",
   "metadata": {},
   "outputs": [
    {
     "data": {
      "text/plain": [
       "10-element Vector{Int64}:\n",
       "   1\n",
       "   4\n",
       "   9\n",
       "  16\n",
       "  25\n",
       "  36\n",
       "  49\n",
       "  64\n",
       "  81\n",
       " 100"
      ]
     },
     "execution_count": 124,
     "metadata": {},
     "output_type": "execute_result"
    }
   ],
   "source": [
    "(1:100)[sqrt.(1:100) .== floor.(sqrt.(1:100))]\n",
    " "
   ]
  },
  {
   "cell_type": "code",
   "execution_count": 125,
   "id": "f7c1482a-9a85-424d-b8ca-73f4c15da65a",
   "metadata": {},
   "outputs": [
    {
     "data": {
      "text/plain": [
       "8"
      ]
     },
     "execution_count": 125,
     "metadata": {},
     "output_type": "execute_result"
    }
   ],
   "source": [
    "sizeof(Int64)"
   ]
  },
  {
   "cell_type": "code",
   "execution_count": 127,
   "id": "f6ca54e0-7f50-41c8-a104-189e2b28387b",
   "metadata": {},
   "outputs": [
    {
     "data": {
      "text/plain": [
       "8"
      ]
     },
     "execution_count": 127,
     "metadata": {},
     "output_type": "execute_result"
    }
   ],
   "source": [
    "sizeof(53535)"
   ]
  },
  {
   "cell_type": "code",
   "execution_count": 128,
   "id": "ae89dfdb-e8ec-4a53-b455-5404ee64e392",
   "metadata": {},
   "outputs": [
    {
     "name": "stdout",
     "output_type": "stream",
     "text": [
      "search: \u001b[0m\u001b[1mi\u001b[22m\u001b[0m\u001b[1ms\u001b[22m\u001b[0m\u001b[1mb\u001b[22m\u001b[0m\u001b[1mi\u001b[22m\u001b[0m\u001b[1mt\u001b[22m\u001b[0m\u001b[1ms\u001b[22m \u001b[0m\u001b[1mi\u001b[22m\u001b[0m\u001b[1ms\u001b[22m\u001b[0m\u001b[1mb\u001b[22m\u001b[0m\u001b[1mi\u001b[22m\u001b[0m\u001b[1mt\u001b[22m\u001b[0m\u001b[1ms\u001b[22mtype \u001b[0m\u001b[1mi\u001b[22m\u001b[0m\u001b[1ms\u001b[22mqrt \u001b[0m\u001b[1mi\u001b[22m\u001b[0m\u001b[1ms\u001b[22mless \u001b[0m\u001b[1mi\u001b[22m\u001b[0m\u001b[1ms\u001b[22mfile d\u001b[0m\u001b[1mi\u001b[22mgit\u001b[0m\u001b[1ms\u001b[22m \u001b[0m\u001b[1mi\u001b[22m\u001b[0m\u001b[1ms\u001b[22mdir \u001b[0m\u001b[1mi\u001b[22m\u001b[0m\u001b[1ms\u001b[22mfifo \u001b[0m\u001b[1mi\u001b[22m\u001b[0m\u001b[1ms\u001b[22minf \u001b[0m\u001b[1mi\u001b[22m\u001b[0m\u001b[1ms\u001b[22mpath\n",
      "\n"
     ]
    },
    {
     "data": {
      "text/latex": [
       "\\begin{verbatim}\n",
       "isbits(x)\n",
       "\\end{verbatim}\n",
       "Return \\texttt{true} if \\texttt{x} is an instance of an \\href{@ref}{\\texttt{isbitstype}} type.\n",
       "\n"
      ],
      "text/markdown": [
       "```\n",
       "isbits(x)\n",
       "```\n",
       "\n",
       "Return `true` if `x` is an instance of an [`isbitstype`](@ref) type.\n"
      ],
      "text/plain": [
       "\u001b[36m  isbits(x)\u001b[39m\n",
       "\n",
       "  Return \u001b[36mtrue\u001b[39m if \u001b[36mx\u001b[39m is an instance of an \u001b[36misbitstype\u001b[39m type."
      ]
     },
     "execution_count": 128,
     "metadata": {},
     "output_type": "execute_result"
    }
   ],
   "source": [
    "?isbits"
   ]
  },
  {
   "cell_type": "code",
   "execution_count": 131,
   "id": "50bd877c-b3da-47bc-9ab7-7cc59086ce12",
   "metadata": {},
   "outputs": [
    {
     "data": {
      "text/plain": [
       "1:100"
      ]
     },
     "execution_count": 131,
     "metadata": {},
     "output_type": "execute_result"
    }
   ],
   "source": [
    "(1:100) #putting brackets around it"
   ]
  },
  {
   "cell_type": "code",
   "execution_count": 130,
   "id": "bace7bbd-b76d-4a26-96df-10d66aa68df9",
   "metadata": {},
   "outputs": [
    {
     "data": {
      "text/plain": [
       "1:100"
      ]
     },
     "execution_count": 130,
     "metadata": {},
     "output_type": "execute_result"
    }
   ],
   "source": [
    "1:100"
   ]
  },
  {
   "cell_type": "code",
   "execution_count": 133,
   "id": "f6744f5b-0d82-4a42-9fe2-af5ca609689b",
   "metadata": {},
   "outputs": [
    {
     "data": {
      "text/plain": [
       "97"
      ]
     },
     "execution_count": 133,
     "metadata": {},
     "output_type": "execute_result"
    }
   ],
   "source": [
    "(1:100)[97]"
   ]
  },
  {
   "cell_type": "code",
   "execution_count": 134,
   "id": "b67ef951-7ffd-4b7d-82d2-b8f7d5ffbcb3",
   "metadata": {},
   "outputs": [
    {
     "name": "stdout",
     "output_type": "stream",
     "text": [
      "\u001b[90m; Function Signature: sqrt(Float64)\u001b[39m\n",
      "\u001b[90m;  @ math.jl:607 within `sqrt`\u001b[39m\n",
      "\u001b[95mdefine\u001b[39m \u001b[36mdouble\u001b[39m \u001b[93m@julia_sqrt_19724\u001b[39m\u001b[33m(\u001b[39m\u001b[36mdouble\u001b[39m \u001b[0m%\"x::Float64\"\u001b[33m)\u001b[39m \u001b[0m#0 \u001b[33m{\u001b[39m\n",
      "\u001b[91mtop:\u001b[39m\n",
      "\u001b[90m;  @ math.jl:608 within `sqrt`\u001b[39m\n",
      "\u001b[90m; ┌ @ float.jl:618 within `<`\u001b[39m\n",
      "   \u001b[0m%0 \u001b[0m= \u001b[96m\u001b[1mfcmp\u001b[22m\u001b[39m \u001b[96m\u001b[1muge\u001b[22m\u001b[39m \u001b[36mdouble\u001b[39m \u001b[0m%\"x::Float64\"\u001b[0m, \u001b[33m0.000000e+00\u001b[39m\n",
      "\u001b[90m; └\u001b[39m\n",
      "  \u001b[96m\u001b[1mbr\u001b[22m\u001b[39m \u001b[36mi1\u001b[39m \u001b[0m%0\u001b[0m, \u001b[36mlabel\u001b[39m \u001b[91m%L5\u001b[39m\u001b[0m, \u001b[36mlabel\u001b[39m \u001b[91m%L3\u001b[39m\n",
      "\n",
      "\u001b[91mL3:\u001b[39m                                               \u001b[90m; preds = %top\u001b[39m\n",
      "  \u001b[96m\u001b[1mcall\u001b[22m\u001b[39m \u001b[36mvoid\u001b[39m \u001b[93m@j_throw_complex_domainerror_19729\u001b[39m\u001b[33m(\u001b[39m\u001b[95mptr\u001b[39m \u001b[95mnonnull\u001b[39m \u001b[93m@\"jl_sym#sqrt#19730.jit\"\u001b[39m\u001b[0m, \u001b[36mdouble\u001b[39m \u001b[0m%\"x::Float64\"\u001b[33m)\u001b[39m \u001b[0m#10\n",
      "  \u001b[96m\u001b[1munreachable\u001b[22m\u001b[39m\n",
      "\n",
      "\u001b[91mL5:\u001b[39m                                               \u001b[90m; preds = %top\u001b[39m\n",
      "\u001b[90m;  @ math.jl:609 within `sqrt`\u001b[39m\n",
      "  \u001b[0m%1 \u001b[0m= \u001b[96m\u001b[1mcall\u001b[22m\u001b[39m \u001b[36mdouble\u001b[39m \u001b[93m@llvm.sqrt.f64\u001b[39m\u001b[33m(\u001b[39m\u001b[36mdouble\u001b[39m \u001b[0m%\"x::Float64\"\u001b[33m)\u001b[39m\n",
      "  \u001b[96m\u001b[1mret\u001b[22m\u001b[39m \u001b[36mdouble\u001b[39m \u001b[0m%1\n",
      "\u001b[33m}\u001b[39m\n"
     ]
    }
   ],
   "source": [
    "@code_llvm sqrt(2.5)"
   ]
  },
  {
   "cell_type": "code",
   "execution_count": 136,
   "id": "327524a9-1f14-40d9-af2e-4306e41a679d",
   "metadata": {},
   "outputs": [
    {
     "data": {
      "text/plain": [
       "my_alg (generic function with 2 methods)"
      ]
     },
     "execution_count": 136,
     "metadata": {},
     "output_type": "execute_result"
    }
   ],
   "source": [
    "function my_alg(n::Int64)\n",
    "    s = 0\n",
    "    for i in 1:n\n",
    "        s+=i\n",
    "    end\n",
    "    return s\n",
    "end"
   ]
  },
  {
   "cell_type": "code",
   "execution_count": 137,
   "id": "2f02479d-ddfb-4a39-adb9-7270b6181dfa",
   "metadata": {},
   "outputs": [
    {
     "data": {
      "text/plain": [
       "6"
      ]
     },
     "execution_count": 137,
     "metadata": {},
     "output_type": "execute_result"
    }
   ],
   "source": [
    "my_alg(3)"
   ]
  },
  {
   "cell_type": "code",
   "execution_count": 138,
   "id": "07db7f35-9d52-47a3-b788-52ba6f9a27cf",
   "metadata": {},
   "outputs": [
    {
     "name": "stdout",
     "output_type": "stream",
     "text": [
      "\u001b[90m; Function Signature: my_alg(Int64)\u001b[39m\n",
      "\u001b[90m;  @ In[136]:1 within `my_alg`\u001b[39m\n",
      "\u001b[95mdefine\u001b[39m \u001b[36mi64\u001b[39m \u001b[93m@julia_my_alg_19835\u001b[39m\u001b[33m(\u001b[39m\u001b[36mi64\u001b[39m \u001b[95msignext\u001b[39m \u001b[0m%\"n::Int64\"\u001b[33m)\u001b[39m \u001b[0m#0 \u001b[33m{\u001b[39m\n",
      "\u001b[91mtop:\u001b[39m\n",
      "\u001b[90m;  @ In[136]:3 within `my_alg`\u001b[39m\n",
      "\u001b[90m; ┌ @ range.jl:904 within `iterate`\u001b[39m\n",
      "\u001b[90m; │┌ @ range.jl:681 within `isempty`\u001b[39m\n",
      "\u001b[90m; ││┌ @ operators.jl:379 within `>`\u001b[39m\n",
      "\u001b[90m; │││┌ @ int.jl:83 within `<`\u001b[39m\n",
      "      \u001b[0m%0 \u001b[0m= \u001b[96m\u001b[1micmp\u001b[22m\u001b[39m \u001b[96m\u001b[1mslt\u001b[22m\u001b[39m \u001b[36mi64\u001b[39m \u001b[0m%\"n::Int64\"\u001b[0m, \u001b[33m1\u001b[39m\n",
      "\u001b[90m; └└└└\u001b[39m\n",
      "  \u001b[96m\u001b[1mbr\u001b[22m\u001b[39m \u001b[36mi1\u001b[39m \u001b[0m%0\u001b[0m, \u001b[36mlabel\u001b[39m \u001b[91m%L32\u001b[39m\u001b[0m, \u001b[36mlabel\u001b[39m \u001b[91m%L17.preheader\u001b[39m\n",
      "\n",
      "\u001b[91mL17.preheader:\u001b[39m                                    \u001b[90m; preds = %top\u001b[39m\n",
      "\u001b[90m;  @ In[136]:5 within `my_alg`\u001b[39m\n",
      "  \u001b[0m%1 \u001b[0m= \u001b[96m\u001b[1mshl\u001b[22m\u001b[39m \u001b[95mnuw\u001b[39m \u001b[36mi64\u001b[39m \u001b[0m%\"n::Int64\"\u001b[0m, \u001b[33m1\u001b[39m\n",
      "  \u001b[0m%2 \u001b[0m= \u001b[96m\u001b[1madd\u001b[22m\u001b[39m \u001b[95mnsw\u001b[39m \u001b[36mi64\u001b[39m \u001b[0m%\"n::Int64\"\u001b[0m, \u001b[33m-1\u001b[39m\n",
      "  \u001b[0m%3 \u001b[0m= \u001b[96m\u001b[1mzext\u001b[22m\u001b[39m \u001b[36mi64\u001b[39m \u001b[0m%2 \u001b[95mto\u001b[39m \u001b[36mi65\u001b[39m\n",
      "  \u001b[0m%4 \u001b[0m= \u001b[96m\u001b[1madd\u001b[22m\u001b[39m \u001b[95mnsw\u001b[39m \u001b[36mi64\u001b[39m \u001b[0m%\"n::Int64\"\u001b[0m, \u001b[33m-2\u001b[39m\n",
      "  \u001b[0m%5 \u001b[0m= \u001b[96m\u001b[1mzext\u001b[22m\u001b[39m \u001b[36mi64\u001b[39m \u001b[0m%4 \u001b[95mto\u001b[39m \u001b[36mi65\u001b[39m\n",
      "  \u001b[0m%6 \u001b[0m= \u001b[96m\u001b[1mmul\u001b[22m\u001b[39m \u001b[36mi65\u001b[39m \u001b[0m%3\u001b[0m, \u001b[0m%5\n",
      "  \u001b[0m%7 \u001b[0m= \u001b[96m\u001b[1mlshr\u001b[22m\u001b[39m \u001b[36mi65\u001b[39m \u001b[0m%6\u001b[0m, \u001b[33m1\u001b[39m\n",
      "  \u001b[0m%8 \u001b[0m= \u001b[96m\u001b[1mtrunc\u001b[22m\u001b[39m \u001b[36mi65\u001b[39m \u001b[0m%7 \u001b[95mto\u001b[39m \u001b[36mi64\u001b[39m\n",
      "  \u001b[0m%9 \u001b[0m= \u001b[96m\u001b[1madd\u001b[22m\u001b[39m \u001b[36mi64\u001b[39m \u001b[0m%1\u001b[0m, \u001b[0m%8\n",
      "  \u001b[0m%10 \u001b[0m= \u001b[96m\u001b[1madd\u001b[22m\u001b[39m \u001b[36mi64\u001b[39m \u001b[0m%9\u001b[0m, \u001b[33m-1\u001b[39m\n",
      "\u001b[90m;  @ In[136]:6 within `my_alg`\u001b[39m\n",
      "  \u001b[96m\u001b[1mbr\u001b[22m\u001b[39m \u001b[36mlabel\u001b[39m \u001b[91m%L32\u001b[39m\n",
      "\n",
      "\u001b[91mL32:\u001b[39m                                              \u001b[90m; preds = %L17.preheader, %top\u001b[39m\n",
      "  \u001b[0m%value_phi11 \u001b[0m= \u001b[96m\u001b[1mphi\u001b[22m\u001b[39m \u001b[36mi64\u001b[39m \u001b[33m[\u001b[39m \u001b[33m0\u001b[39m\u001b[0m, \u001b[91m%top\u001b[39m \u001b[33m]\u001b[39m\u001b[0m, \u001b[33m[\u001b[39m \u001b[0m%10\u001b[0m, \u001b[91m%L17.preheader\u001b[39m \u001b[33m]\u001b[39m\n",
      "  \u001b[96m\u001b[1mret\u001b[22m\u001b[39m \u001b[36mi64\u001b[39m \u001b[0m%value_phi11\n",
      "\u001b[33m}\u001b[39m\n"
     ]
    }
   ],
   "source": [
    "@code_llvm my_alg(3)"
   ]
  },
  {
   "cell_type": "code",
   "execution_count": 147,
   "id": "551165f2-55b4-40a0-bb35-b0d8540bb298",
   "metadata": {},
   "outputs": [
    {
     "data": {
      "text/plain": [
       "my_func1 (generic function with 1 method)"
      ]
     },
     "execution_count": 147,
     "metadata": {},
     "output_type": "execute_result"
    }
   ],
   "source": [
    "x = 25.1\n",
    "my_func1(x) = x ≤ 25 ? println(\"small\") : println(\"big\")  # ? :  \"trinary operator\""
   ]
  },
  {
   "cell_type": "code",
   "execution_count": 148,
   "id": "773533e2-d40f-4790-95fe-99ed51115766",
   "metadata": {},
   "outputs": [
    {
     "name": "stdout",
     "output_type": "stream",
     "text": [
      "big\n"
     ]
    }
   ],
   "source": [
    "my_func1(x)"
   ]
  },
  {
   "cell_type": "code",
   "execution_count": 152,
   "id": "c3b96690-fc87-4d1d-849a-f4ec81a905cc",
   "metadata": {},
   "outputs": [
    {
     "data": {
      "text/plain": [
       "my_func2 (generic function with 1 method)"
      ]
     },
     "execution_count": 152,
     "metadata": {},
     "output_type": "execute_result"
    }
   ],
   "source": [
    "function my_func2(x)\n",
    "    if x <= 25\n",
    "        println(\"small\")\n",
    "    else\n",
    "        println(\"big\")\n",
    "    end\n",
    "end"
   ]
  },
  {
   "cell_type": "code",
   "execution_count": 153,
   "id": "641e1b20-006d-4c41-8963-59c72975ad18",
   "metadata": {},
   "outputs": [
    {
     "data": {
      "text/plain": [
       "CodeInfo(\n",
       "\u001b[90m1 ─\u001b[39m %1 = x ≤ 25\n",
       "\u001b[90m└──\u001b[39m      goto #3 if not %1\n",
       "\u001b[90m2 ─\u001b[39m %3 = Main.println(\"small\")\n",
       "\u001b[90m└──\u001b[39m      return %3\n",
       "\u001b[90m3 ─\u001b[39m %5 = Main.println(\"big\")\n",
       "\u001b[90m└──\u001b[39m      return %5\n",
       ")"
      ]
     },
     "execution_count": 153,
     "metadata": {},
     "output_type": "execute_result"
    }
   ],
   "source": [
    "@code_lowered my_func1(x)"
   ]
  },
  {
   "cell_type": "code",
   "execution_count": 154,
   "id": "2ec8a645-1827-4e2a-b4de-e7169b591c6d",
   "metadata": {},
   "outputs": [
    {
     "data": {
      "text/plain": [
       "CodeInfo(\n",
       "\u001b[90m1 ─\u001b[39m %1 = x <= 25\n",
       "\u001b[90m└──\u001b[39m      goto #3 if not %1\n",
       "\u001b[90m2 ─\u001b[39m %3 = Main.println(\"small\")\n",
       "\u001b[90m└──\u001b[39m      return %3\n",
       "\u001b[90m3 ─\u001b[39m %5 = Main.println(\"big\")\n",
       "\u001b[90m└──\u001b[39m      return %5\n",
       ")"
      ]
     },
     "execution_count": 154,
     "metadata": {},
     "output_type": "execute_result"
    }
   ],
   "source": [
    "@code_lowered my_func2(x)"
   ]
  },
  {
   "cell_type": "code",
   "execution_count": 155,
   "id": "1fd9da5b-83bd-45b9-b5f1-96a426c5f42b",
   "metadata": {},
   "outputs": [
    {
     "name": "stdout",
     "output_type": "stream",
     "text": [
      "\t\u001b[0m.section\t\u001b[0m__TEXT\u001b[0m,\u001b[0m__text\u001b[0m,\u001b[0mregular\u001b[0m,\u001b[0mpure_instructions\n",
      "\t\u001b[0m.build_version \u001b[0mmacos\u001b[0m, \u001b[33m12\u001b[39m\u001b[0m, \u001b[33m0\u001b[39m\n",
      "\t\u001b[0m.globl\t\u001b[0m_julia_sqrt_21905               \u001b[90m; -- Begin function julia_sqrt_21905\u001b[39m\n",
      "\t\u001b[0m.p2align\t\u001b[33m2\u001b[39m\n",
      "\u001b[91m_julia_sqrt_21905:\u001b[39m                      \u001b[90m; @julia_sqrt_21905\u001b[39m\n",
      "\u001b[90m; Function Signature: sqrt(Float64)\u001b[39m\n",
      "\u001b[90m; ┌ @ math.jl:607 within `sqrt`\u001b[39m\n",
      "\u001b[90m; %bb.0:                                ; %top\u001b[39m\n",
      "\u001b[90m; │ @ math.jl within `sqrt`\u001b[39m\n",
      "\t\u001b[90m;DEBUG_VALUE: sqrt:x <- $d0\u001b[39m\n",
      "\t\u001b[90m;DEBUG_VALUE: sqrt:x <- $d0\u001b[39m\n",
      "\u001b[90m; │ @ math.jl:608 within `sqrt`\u001b[39m\n",
      "\t\u001b[96m\u001b[1mfcmp\u001b[22m\u001b[39m\t\u001b[0md0\u001b[0m, \u001b[33m#0.0\u001b[39m\n",
      "\t\u001b[96m\u001b[1mb.mi\u001b[22m\u001b[39m\t\u001b[91mLBB0_2\u001b[39m\n",
      "\u001b[90m; %bb.1:                                ; %L5\u001b[39m\n",
      "\u001b[90m; │ @ math.jl:609 within `sqrt`\u001b[39m\n",
      "\t\u001b[96m\u001b[1mfsqrt\u001b[22m\u001b[39m\t\u001b[0md0\u001b[0m, \u001b[0md0\n",
      "\t\u001b[96m\u001b[1mret\u001b[22m\u001b[39m\n",
      "\u001b[91mLBB0_2:\u001b[39m                                 \u001b[90m; %L3\u001b[39m\n",
      "\t\u001b[96m\u001b[1mstp\u001b[22m\u001b[39m\t\u001b[0mx29\u001b[0m, \u001b[0mx30\u001b[0m, \u001b[33m[\u001b[39m\u001b[0msp\u001b[0m, \u001b[33m#-16\u001b[39m\u001b[33m]\u001b[39m\u001b[95m!\u001b[39m           \u001b[90m; 16-byte Folded Spill\u001b[39m\n",
      "\u001b[90m; │ @ math.jl:608 within `sqrt`\u001b[39m\n",
      "\u001b[91mLloh0:\u001b[39m\n",
      "\t\u001b[96m\u001b[1madrp\u001b[22m\u001b[39m\t\u001b[0mx0\u001b[0m, \u001b[0m\"l_jl_sym#sqrt#21911.jit\"@PAGE\n",
      "\u001b[91mLloh1:\u001b[39m\n",
      "\t\u001b[96m\u001b[1madd\u001b[22m\u001b[39m\t\u001b[0mx0\u001b[0m, \u001b[0mx0\u001b[0m, \u001b[0m\"l_jl_sym#sqrt#21911.jit\"@PAGEOFF\n",
      "\t\u001b[96m\u001b[1mbl\u001b[22m\u001b[39m\t\u001b[0m_j_throw_complex_domainerror_21910\n",
      "\t\u001b[0m.loh \u001b[0mAdrpAdd\t\u001b[91mLloh0\u001b[39m\u001b[0m, \u001b[91mLloh1\u001b[39m\n",
      "\u001b[90m; └\u001b[39m\n",
      "                                        \u001b[90m; -- End function\u001b[39m\n",
      "\t\u001b[0m.section\t\u001b[0m__DATA\u001b[0m,\u001b[0m__const\n",
      "\t\u001b[0m.p2align\t\u001b[33m3\u001b[39m\u001b[0m, \u001b[33m0x0\u001b[39m                          \u001b[90m; @\"+Core.Float64#21907\"\u001b[39m\n",
      "\u001b[91m\"l_+Core.Float64#21907\":\u001b[39m\n",
      "\t\u001b[0m.quad\t\u001b[0m\"l_+Core.Float64#21907.jit\"\n",
      "\n",
      "\u001b[0m.set \u001b[0m\"l_jl_sym#sqrt#21911.jit\"\u001b[0m, \u001b[33m4381222656\u001b[39m\n",
      "\u001b[0m.set \u001b[0m\"l_+Core.Float64#21907.jit\"\u001b[0m, \u001b[33m5322450160\u001b[39m\n",
      "\u001b[0m.subsections_via_symbols\n"
     ]
    }
   ],
   "source": [
    "@code_native sqrt(2.5)"
   ]
  },
  {
   "cell_type": "markdown",
   "id": "b1f0e8bc-bcff-49c4-81a1-05ba82d46f57",
   "metadata": {},
   "source": [
    "#### Function arguments"
   ]
  },
  {
   "cell_type": "code",
   "execution_count": 156,
   "id": "f332f1d4-58ab-455d-a287-827e44e44194",
   "metadata": {},
   "outputs": [
    {
     "data": {
      "text/plain": [
       "f (generic function with 2 methods)"
      ]
     },
     "execution_count": 156,
     "metadata": {},
     "output_type": "execute_result"
    }
   ],
   "source": [
    "function f()\n",
    "    println(\"hello\")\n",
    "end"
   ]
  },
  {
   "cell_type": "code",
   "execution_count": 157,
   "id": "242cfc00-67ac-4b4a-8ee5-f216255761a4",
   "metadata": {},
   "outputs": [
    {
     "name": "stdout",
     "output_type": "stream",
     "text": [
      "hello\n"
     ]
    }
   ],
   "source": [
    "f()"
   ]
  },
  {
   "cell_type": "code",
   "execution_count": 158,
   "id": "84bc6806-0e42-4b6b-862c-a27232a5d88d",
   "metadata": {},
   "outputs": [
    {
     "data": {
      "text/plain": [
       "f (generic function with 2 methods)"
      ]
     },
     "execution_count": 158,
     "metadata": {},
     "output_type": "execute_result"
    }
   ],
   "source": [
    "function f(x)\n",
    "    println(\"hello $x\")\n",
    "end"
   ]
  },
  {
   "cell_type": "code",
   "execution_count": 159,
   "id": "590b0150-1f15-4c8e-8dd5-e26ceb2f5690",
   "metadata": {},
   "outputs": [
    {
     "name": "stdout",
     "output_type": "stream",
     "text": [
      "hello 2.3\n"
     ]
    }
   ],
   "source": [
    "f(2.3)"
   ]
  },
  {
   "cell_type": "code",
   "execution_count": 160,
   "id": "a7519071-694f-4ec2-926e-7cd045468d65",
   "metadata": {},
   "outputs": [
    {
     "data": {
      "text/plain": [
       "f (generic function with 3 methods)"
      ]
     },
     "execution_count": 160,
     "metadata": {},
     "output_type": "execute_result"
    }
   ],
   "source": [
    "function f(x::Float64)\n",
    "    println(\"hello float $x\")\n",
    "end"
   ]
  },
  {
   "cell_type": "code",
   "execution_count": 161,
   "id": "4e4a3a8f-d0a7-469e-9610-72b86e61ec0d",
   "metadata": {},
   "outputs": [
    {
     "name": "stdout",
     "output_type": "stream",
     "text": [
      "hello float 2.3\n"
     ]
    }
   ],
   "source": [
    "f(2.3)"
   ]
  },
  {
   "cell_type": "code",
   "execution_count": 162,
   "id": "47337a08-bd8e-4333-a32c-75acd0b10586",
   "metadata": {},
   "outputs": [
    {
     "name": "stdout",
     "output_type": "stream",
     "text": [
      "hello 2\n"
     ]
    }
   ],
   "source": [
    "f(2)"
   ]
  },
  {
   "cell_type": "code",
   "execution_count": 165,
   "id": "26ad29f8-1da8-44ae-bc39-db7c8efe1197",
   "metadata": {},
   "outputs": [
    {
     "data": {
      "text/plain": [
       "70"
      ]
     },
     "execution_count": 165,
     "metadata": {},
     "output_type": "execute_result"
    }
   ],
   "source": [
    "z = 7\n",
    "10z"
   ]
  },
  {
   "cell_type": "code",
   "execution_count": 166,
   "id": "017118b0-90d2-45d4-9418-88d7e8faa1ed",
   "metadata": {},
   "outputs": [
    {
     "data": {
      "text/plain": [
       "f (generic function with 4 methods)"
      ]
     },
     "execution_count": 166,
     "metadata": {},
     "output_type": "execute_result"
    }
   ],
   "source": [
    "function f(x1::Real, x2::Real)\n",
    "    return x1 + 10x2 #just summing up\n",
    "end"
   ]
  },
  {
   "cell_type": "code",
   "execution_count": 167,
   "id": "80285286-5ef1-4e64-bec1-8e8a2698a008",
   "metadata": {},
   "outputs": [
    {
     "data": {
      "text/plain": [
       "102.3"
      ]
     },
     "execution_count": 167,
     "metadata": {},
     "output_type": "execute_result"
    }
   ],
   "source": [
    "f(2.3, 10)"
   ]
  },
  {
   "cell_type": "code",
   "execution_count": 168,
   "id": "aff6cd31-ae29-488b-aea8-cdfefe442566",
   "metadata": {},
   "outputs": [
    {
     "data": {
      "text/plain": [
       "33.0"
      ]
     },
     "execution_count": 168,
     "metadata": {},
     "output_type": "execute_result"
    }
   ],
   "source": [
    "f(10, 2.3)"
   ]
  },
  {
   "cell_type": "markdown",
   "id": "d644ccb6-8e1b-4911-a06c-28c8e5201d8d",
   "metadata": {},
   "source": [
    "; is the \"break\" between positional and keyword arguments"
   ]
  },
  {
   "cell_type": "code",
   "execution_count": 177,
   "id": "6ca30fa5-6f6d-4d40-acbf-ae37442ef9e2",
   "metadata": {},
   "outputs": [
    {
     "data": {
      "text/plain": [
       "f (generic function with 5 methods)"
      ]
     },
     "execution_count": 177,
     "metadata": {},
     "output_type": "execute_result"
    }
   ],
   "source": [
    "function f(x1::Real, x2::Real = 10000 ; verbose = false, repeat = 1)\n",
    "    ret_val = x1 + 10x2 #just summing up\n",
    "    if verbose\n",
    "        for _ in 1:repeat\n",
    "            println(ret_val)\n",
    "        end\n",
    "    end\n",
    "    return ret_val\n",
    "end"
   ]
  },
  {
   "cell_type": "code",
   "execution_count": 172,
   "id": "306b2f57-cfcf-4d12-a990-c8fbcefe63c2",
   "metadata": {},
   "outputs": [
    {
     "data": {
      "text/plain": [
       "102.3"
      ]
     },
     "execution_count": 172,
     "metadata": {},
     "output_type": "execute_result"
    }
   ],
   "source": [
    "f(2.3, 10)"
   ]
  },
  {
   "cell_type": "code",
   "execution_count": 174,
   "id": "ced72c4b-c66a-43c2-9546-09ebb1371c95",
   "metadata": {},
   "outputs": [
    {
     "name": "stdout",
     "output_type": "stream",
     "text": [
      "102.3\n"
     ]
    },
    {
     "data": {
      "text/plain": [
       "102.3"
      ]
     },
     "execution_count": 174,
     "metadata": {},
     "output_type": "execute_result"
    }
   ],
   "source": [
    "f(2.3, 10, verbose = true)"
   ]
  },
  {
   "cell_type": "code",
   "execution_count": 175,
   "id": "d16c9711-58f8-4041-bcc5-ab43d033eafe",
   "metadata": {},
   "outputs": [
    {
     "name": "stdout",
     "output_type": "stream",
     "text": [
      "102.3\n"
     ]
    },
    {
     "data": {
      "text/plain": [
       "102.3"
      ]
     },
     "execution_count": 175,
     "metadata": {},
     "output_type": "execute_result"
    }
   ],
   "source": [
    "f(2.3, 10; verbose = true)"
   ]
  },
  {
   "cell_type": "code",
   "execution_count": 176,
   "id": "6cc12528-fd80-44e6-b550-bcfc02fee0a7",
   "metadata": {},
   "outputs": [
    {
     "name": "stdout",
     "output_type": "stream",
     "text": [
      "102.3\n",
      "102.3\n",
      "102.3\n",
      "102.3\n",
      "102.3\n"
     ]
    },
    {
     "data": {
      "text/plain": [
       "102.3"
      ]
     },
     "execution_count": 176,
     "metadata": {},
     "output_type": "execute_result"
    }
   ],
   "source": [
    "f(2.3, 10; verbose = true, repeat = 5)"
   ]
  },
  {
   "cell_type": "code",
   "execution_count": 178,
   "id": "04dc7f1a-ae20-45ad-abba-3875148b212a",
   "metadata": {},
   "outputs": [
    {
     "data": {
      "text/html": [
       "# 5 methods for generic function <b>f</b> from \u001b[35mMain\u001b[39m:<ul><li> f(x::<b>Float64</b>) in Main at In[160]:1</li> <li> f(x1::<b>Real</b>, x2::<b>Real</b>; <i>verbose, repeat</i>) in Main at In[177]:1</li> <li> f(x1::<b>Real</b>; <i>...</i>) in Main at In[177]:1</li> <li> f() in Main at In[156]:1</li> <li> f(x) in Main at In[158]:1</li> </ul>"
      ],
      "text/plain": [
       "# 5 methods for generic function \"f\" from \u001b[35mMain\u001b[39m:\n",
       " [1] f(\u001b[90mx\u001b[39m::\u001b[1mFloat64\u001b[22m)\n",
       "\u001b[90m     @\u001b[39m \u001b[90m\u001b[4mIn[160]:1\u001b[24m\u001b[39m\n",
       " [2] f(\u001b[90mx1\u001b[39m::\u001b[1mReal\u001b[22m, \u001b[90mx2\u001b[39m::\u001b[1mReal\u001b[22m; verbose, repeat)\n",
       "\u001b[90m     @\u001b[39m \u001b[90m\u001b[4mIn[177]:1\u001b[24m\u001b[39m\n",
       " [3] f(\u001b[90mx1\u001b[39m::\u001b[1mReal\u001b[22m; ...)\n",
       "\u001b[90m     @\u001b[39m \u001b[90m\u001b[4mIn[177]:1\u001b[24m\u001b[39m\n",
       " [4] f()\n",
       "\u001b[90m     @\u001b[39m \u001b[90m\u001b[4mIn[156]:1\u001b[24m\u001b[39m\n",
       " [5] f(\u001b[90mx\u001b[39m)\n",
       "\u001b[90m     @\u001b[39m \u001b[90m\u001b[4mIn[158]:1\u001b[24m\u001b[39m"
      ]
     },
     "execution_count": 178,
     "metadata": {},
     "output_type": "execute_result"
    }
   ],
   "source": [
    "methods(f)"
   ]
  },
  {
   "cell_type": "code",
   "execution_count": 184,
   "id": "7b0dd88b-18f8-454a-a826-3e08b3dde26b",
   "metadata": {},
   "outputs": [
    {
     "data": {
      "text/plain": [
       "f (generic function with 5 methods)"
      ]
     },
     "execution_count": 184,
     "metadata": {},
     "output_type": "execute_result"
    }
   ],
   "source": [
    "function f(x1::Real, x2::Real = 10000 ; operator_type, repeat = 1, verbose = false)\n",
    "    ret_val = operator_type(x1, 10x2) #just summing up\n",
    "    if verbose\n",
    "        for _ in 1:repeat\n",
    "            println(ret_val)\n",
    "        end\n",
    "    end\n",
    "    return ret_val\n",
    "end"
   ]
  },
  {
   "cell_type": "code",
   "execution_count": 186,
   "id": "499e2dad-a2cd-44d5-b7d1-f86e5edd6fa9",
   "metadata": {},
   "outputs": [
    {
     "ename": "LoadError",
     "evalue": "UndefKeywordError: keyword argument `operator_type` not assigned",
     "output_type": "error",
     "traceback": [
      "UndefKeywordError: keyword argument `operator_type` not assigned",
      "",
      "Stacktrace:",
      " [1] f(x1::Int64, x2::Int64)",
      "   @ Main ./In[184]:1",
      " [2] top-level scope",
      "   @ In[186]:1"
     ]
    }
   ],
   "source": [
    "f(10, 20)"
   ]
  },
  {
   "cell_type": "code",
   "execution_count": 185,
   "id": "a4da0147-7589-405f-be7b-1d54e662773e",
   "metadata": {},
   "outputs": [
    {
     "data": {
      "text/plain": [
       "210"
      ]
     },
     "execution_count": 185,
     "metadata": {},
     "output_type": "execute_result"
    }
   ],
   "source": [
    "f(10, 20; operator_type=+)"
   ]
  },
  {
   "cell_type": "code",
   "execution_count": 187,
   "id": "274e3ee5-170b-4640-acf9-67b67364c455",
   "metadata": {},
   "outputs": [
    {
     "data": {
      "text/plain": [
       "2000"
      ]
     },
     "execution_count": 187,
     "metadata": {},
     "output_type": "execute_result"
    }
   ],
   "source": [
    "f(10, 20; operator_type=*)"
   ]
  },
  {
   "cell_type": "code",
   "execution_count": 188,
   "id": "fd5d9e80-2ca9-4599-a54a-1418956a7155",
   "metadata": {},
   "outputs": [
    {
     "data": {
      "text/plain": [
       "3535"
      ]
     },
     "execution_count": 188,
     "metadata": {},
     "output_type": "execute_result"
    }
   ],
   "source": [
    "identity(3535)"
   ]
  },
  {
   "cell_type": "code",
   "execution_count": null,
   "id": "c5596214-3453-4e03-8401-4c24a5890028",
   "metadata": {},
   "outputs": [],
   "source": []
  },
  {
   "cell_type": "code",
   "execution_count": 191,
   "id": "3138ffd7-dbc9-47d8-98f4-ea0319831633",
   "metadata": {},
   "outputs": [
    {
     "name": "stdout",
     "output_type": "stream",
     "text": [
      "f(10, 20; operator_type) = 210\n",
      "f(10, 20; operator_type = operator_type) = 210\n"
     ]
    },
    {
     "data": {
      "text/plain": [
       "210"
      ]
     },
     "execution_count": 191,
     "metadata": {},
     "output_type": "execute_result"
    }
   ],
   "source": [
    "operator_type = + \n",
    "@show f(10, 20; operator_type) #same as below\n",
    "@show f(10, 20; operator_type = operator_type)"
   ]
  },
  {
   "cell_type": "code",
   "execution_count": 192,
   "id": "120dbe03-2f46-49da-a7f1-c801dd3672d6",
   "metadata": {},
   "outputs": [],
   "source": [
    "struct MyData\n",
    "    x::Int\n",
    "    y::String\n",
    "end"
   ]
  },
  {
   "cell_type": "code",
   "execution_count": 194,
   "id": "7a72b460-b518-4bf7-a4c6-62d0fde9c40b",
   "metadata": {},
   "outputs": [
    {
     "name": "stdout",
     "output_type": "stream",
     "text": [
      "x = 3\n",
      "x = 4\n",
      "x = 5\n",
      "x = 6\n",
      "x = 7\n",
      "x = 8\n",
      "x = 9\n",
      "x = 10\n",
      "x = 11\n"
     ]
    }
   ],
   "source": [
    "x = 3\n",
    "while true\n",
    "    @show x\n",
    "    if x > 10\n",
    "        break\n",
    "    end\n",
    "    x +=1\n",
    "end"
   ]
  },
  {
   "cell_type": "code",
   "execution_count": 195,
   "id": "422b4724-cde7-48b0-98ad-f2997e83231e",
   "metadata": {},
   "outputs": [
    {
     "data": {
      "text/plain": [
       "true"
      ]
     },
     "execution_count": 195,
     "metadata": {},
     "output_type": "execute_result"
    }
   ],
   "source": [
    "true && true"
   ]
  },
  {
   "cell_type": "code",
   "execution_count": 197,
   "id": "f1c9a597-618b-469e-90eb-c907187f2323",
   "metadata": {},
   "outputs": [
    {
     "data": {
      "text/plain": [
       "false"
      ]
     },
     "execution_count": 197,
     "metadata": {},
     "output_type": "execute_result"
    }
   ],
   "source": [
    "false && true #logical and"
   ]
  },
  {
   "cell_type": "code",
   "execution_count": 203,
   "id": "457e6cc9-a502-4b2c-a04a-3f320390a570",
   "metadata": {},
   "outputs": [
    {
     "name": "stdout",
     "output_type": "stream",
     "text": [
      "Babylonian iterate: 2500.0\n",
      "Babylonian iterate: 1251.0\n",
      "Babylonian iterate: 627.4984012789769\n",
      "Babylonian iterate: 317.7332745349828\n",
      "Babylonian iterate: 166.7348720428981\n",
      "Babylonian iterate: 98.36130004862623\n",
      "Babylonian iterate: 74.59715020033856\n",
      "Babylonian iterate: 70.81191968888325\n",
      "Babylonian iterate: 70.71075049245557\n",
      "Babylonian iterate: 70.71067811869179\n",
      "Babylonian:\t70.71067811869179\n",
      "System:\t\t70.71067811865476\n"
     ]
    }
   ],
   "source": [
    "function bab_sqrt(z ; init_x = z/2, verbose = false, tol = 1e-10)\n",
    "    x = init_x\n",
    "    z < 0 && error(\"hey dude we only do real numbers\")\n",
    "    # if z<0\n",
    "    #   error(\"hey dude we only do real numbers\")\n",
    "    # end\n",
    "    while true\n",
    "        verbose && println(\"Babylonian iterate: $x\") # \"ugly\" but \"neat\" Julia idiom using Lazy evluation\n",
    "        next_x = 0.5*(x + z / x)\n",
    "        abs(next_x - x) < tol && break\n",
    "        x = next_x\n",
    "    end\n",
    "    x\n",
    "end\n",
    "\n",
    "bs, s = bab_sqrt(5000;verbose = true), sqrt(5000)\n",
    "println(\"Babylonian:\\t$bs\\nSystem:\\t\\t$s\")"
   ]
  },
  {
   "cell_type": "code",
   "execution_count": 204,
   "id": "309db106-498e-4e5a-9e1c-c82098d6cbb0",
   "metadata": {},
   "outputs": [
    {
     "data": {
      "text/plain": [
       "true"
      ]
     },
     "execution_count": 204,
     "metadata": {},
     "output_type": "execute_result"
    }
   ],
   "source": [
    "bs ≈ s # \\approx + [TAB]"
   ]
  },
  {
   "cell_type": "code",
   "execution_count": 206,
   "id": "4ac3dcd7-a89f-4c96-ad64-b817d26ca895",
   "metadata": {},
   "outputs": [
    {
     "data": {
      "text/plain": [
       "false"
      ]
     },
     "execution_count": 206,
     "metadata": {},
     "output_type": "execute_result"
    }
   ],
   "source": [
    "bs == s"
   ]
  },
  {
   "cell_type": "code",
   "execution_count": 207,
   "id": "50b52cf4-d88b-4d9a-825c-a11bdb26243d",
   "metadata": {},
   "outputs": [
    {
     "data": {
      "text/plain": [
       "3.703348738781642e-11"
      ]
     },
     "execution_count": 207,
     "metadata": {},
     "output_type": "execute_result"
    }
   ],
   "source": [
    "bs - s"
   ]
  },
  {
   "cell_type": "code",
   "execution_count": 208,
   "id": "b4bcc836-04f2-4f1a-a5fa-e12ed3d6ede6",
   "metadata": {},
   "outputs": [
    {
     "data": {
      "text/plain": [
       "2.220446049250313e-16"
      ]
     },
     "execution_count": 208,
     "metadata": {},
     "output_type": "execute_result"
    }
   ],
   "source": [
    "eps()"
   ]
  },
  {
   "cell_type": "code",
   "execution_count": 209,
   "id": "a1812e04-78ea-4487-acd5-c1ff1c3eef76",
   "metadata": {},
   "outputs": [
    {
     "name": "stdout",
     "output_type": "stream",
     "text": [
      "Babylonian iterate: 2500.0\n",
      "Babylonian iterate: 1251.0\n",
      "Babylonian iterate: 627.4984012789769\n",
      "Babylonian iterate: 317.7332745349828\n",
      "Babylonian iterate: 166.7348720428981\n",
      "Babylonian iterate: 98.36130004862623\n",
      "Babylonian iterate: 74.59715020033856\n",
      "Babylonian iterate: 70.81191968888325\n",
      "Babylonian iterate: 70.71075049245557\n",
      "Babylonian iterate: 70.71067811869179\n",
      "Babylonian iterate: 70.71067811865476\n"
     ]
    },
    {
     "data": {
      "text/plain": [
       "(70.71067811865476, 70.71067811865476)"
      ]
     },
     "execution_count": 209,
     "metadata": {},
     "output_type": "execute_result"
    }
   ],
   "source": [
    "bs, s = bab_sqrt(5000;verbose = true, tol = eps()), sqrt(5000)"
   ]
  },
  {
   "cell_type": "code",
   "execution_count": 211,
   "id": "9e01a00c-65a1-4270-81bb-b3711329f5ce",
   "metadata": {},
   "outputs": [
    {
     "data": {
      "text/plain": [
       "(0.0, true)"
      ]
     },
     "execution_count": 211,
     "metadata": {},
     "output_type": "execute_result"
    }
   ],
   "source": [
    "bs - s, bs==s"
   ]
  },
  {
   "cell_type": "code",
   "execution_count": 205,
   "id": "7c2b1db4-c4e8-4468-8a20-cc2ec9ac0900",
   "metadata": {},
   "outputs": [
    {
     "name": "stdout",
     "output_type": "stream",
     "text": [
      "search: \u001b[0m\u001b[1mi\u001b[22m\u001b[0m\u001b[1ms\u001b[22m\u001b[0m\u001b[1ma\u001b[22m\u001b[0m\u001b[1mp\u001b[22m\u001b[0m\u001b[1mp\u001b[22m\u001b[0m\u001b[1mr\u001b[22m\u001b[0m\u001b[1mo\u001b[22m\u001b[0m\u001b[1mx\u001b[22m \u001b[0m\u001b[1mi\u001b[22m\u001b[0m\u001b[1ms\u001b[22mzero \u001b[0m\u001b[1mi\u001b[22m\u001b[0m\u001b[1ms\u001b[22mperm\n",
      "\n"
     ]
    },
    {
     "data": {
      "text/latex": [
       "\\begin{verbatim}\n",
       "isapprox(x, y; atol::Real=0, rtol::Real=atol>0 ? 0 : √eps, nans::Bool=false[, norm::Function])\n",
       "\\end{verbatim}\n",
       "Inexact equality comparison. Two numbers compare equal if their relative distance \\emph{or} their absolute distance is within tolerance bounds: \\texttt{isapprox} returns \\texttt{true} if \\texttt{norm(x-y) <= max(atol, rtol*max(norm(x), norm(y)))}. The default \\texttt{atol} (absolute tolerance) is zero and the default \\texttt{rtol} (relative tolerance) depends on the types of \\texttt{x} and \\texttt{y}. The keyword argument \\texttt{nans} determines whether or not NaN values are considered equal (defaults to false).\n",
       "\n",
       "For real or complex floating-point values, if an \\texttt{atol > 0} is not specified, \\texttt{rtol} defaults to the square root of \\href{@ref}{\\texttt{eps}} of the type of \\texttt{x} or \\texttt{y}, whichever is bigger (least precise). This corresponds to requiring equality of about half of the significant digits. Otherwise, e.g. for integer arguments or if an \\texttt{atol > 0} is supplied, \\texttt{rtol} defaults to zero.\n",
       "\n",
       "The \\texttt{norm} keyword defaults to \\texttt{abs} for numeric \\texttt{(x,y)} and to \\texttt{LinearAlgebra.norm} for arrays (where an alternative \\texttt{norm} choice is sometimes useful). When \\texttt{x} and \\texttt{y} are arrays, if \\texttt{norm(x-y)} is not finite (i.e. \\texttt{±Inf} or \\texttt{NaN}), the comparison falls back to checking whether all elements of \\texttt{x} and \\texttt{y} are approximately equal component-wise.\n",
       "\n",
       "The binary operator \\texttt{≈} is equivalent to \\texttt{isapprox} with the default arguments, and \\texttt{x ≉ y} is equivalent to \\texttt{!isapprox(x,y)}.\n",
       "\n",
       "Note that \\texttt{x ≈ 0} (i.e., comparing to zero with the default tolerances) is equivalent to \\texttt{x == 0} since the default \\texttt{atol} is \\texttt{0}.  In such cases, you should either supply an appropriate \\texttt{atol} (or use \\texttt{norm(x) ≤ atol}) or rearrange your code (e.g. use \\texttt{x ≈ y} rather than \\texttt{x - y ≈ 0}).   It is not possible to pick a nonzero \\texttt{atol} automatically because it depends on the overall scaling (the \"units\") of your problem: for example, in \\texttt{x - y ≈ 0}, \\texttt{atol=1e-9} is an absurdly small tolerance if \\texttt{x} is the \\href{https://en.wikipedia.org/wiki/Earth_radius}{radius of the Earth} in meters, but an absurdly large tolerance if \\texttt{x} is the \\href{https://en.wikipedia.org/wiki/Bohr_radius}{radius of a Hydrogen atom} in meters.\n",
       "\n",
       "\\begin{quote}\n",
       "\\textbf{compat}\n",
       "\n",
       "Julia 1.6\n",
       "\n",
       "Passing the \\texttt{norm} keyword argument when comparing numeric (non-array) arguments requires Julia 1.6 or later.\n",
       "\n",
       "\\end{quote}\n",
       "\\section{Examples}\n",
       "\\begin{verbatim}\n",
       "julia> isapprox(0.1, 0.15; atol=0.05)\n",
       "true\n",
       "\n",
       "julia> isapprox(0.1, 0.15; rtol=0.34)\n",
       "true\n",
       "\n",
       "julia> isapprox(0.1, 0.15; rtol=0.33)\n",
       "false\n",
       "\n",
       "julia> 0.1 + 1e-10 ≈ 0.1\n",
       "true\n",
       "\n",
       "julia> 1e-10 ≈ 0\n",
       "false\n",
       "\n",
       "julia> isapprox(1e-10, 0, atol=1e-8)\n",
       "true\n",
       "\n",
       "julia> isapprox([10.0^9, 1.0], [10.0^9, 2.0]) # using `norm`\n",
       "true\n",
       "\\end{verbatim}\n",
       "\\rule{\\textwidth}{1pt}\n",
       "\\begin{verbatim}\n",
       "isapprox(x; kwargs...) / ≈(x; kwargs...)\n",
       "\\end{verbatim}\n",
       "Create a function that compares its argument to \\texttt{x} using \\texttt{≈}, i.e. a function equivalent to \\texttt{y -> y ≈ x}.\n",
       "\n",
       "The keyword arguments supported here are the same as those in the 2-argument \\texttt{isapprox}.\n",
       "\n",
       "\\begin{quote}\n",
       "\\textbf{compat}\n",
       "\n",
       "Julia 1.5\n",
       "\n",
       "This method requires Julia 1.5 or later.\n",
       "\n",
       "\\end{quote}\n"
      ],
      "text/markdown": [
       "```\n",
       "isapprox(x, y; atol::Real=0, rtol::Real=atol>0 ? 0 : √eps, nans::Bool=false[, norm::Function])\n",
       "```\n",
       "\n",
       "Inexact equality comparison. Two numbers compare equal if their relative distance *or* their absolute distance is within tolerance bounds: `isapprox` returns `true` if `norm(x-y) <= max(atol, rtol*max(norm(x), norm(y)))`. The default `atol` (absolute tolerance) is zero and the default `rtol` (relative tolerance) depends on the types of `x` and `y`. The keyword argument `nans` determines whether or not NaN values are considered equal (defaults to false).\n",
       "\n",
       "For real or complex floating-point values, if an `atol > 0` is not specified, `rtol` defaults to the square root of [`eps`](@ref) of the type of `x` or `y`, whichever is bigger (least precise). This corresponds to requiring equality of about half of the significant digits. Otherwise, e.g. for integer arguments or if an `atol > 0` is supplied, `rtol` defaults to zero.\n",
       "\n",
       "The `norm` keyword defaults to `abs` for numeric `(x,y)` and to `LinearAlgebra.norm` for arrays (where an alternative `norm` choice is sometimes useful). When `x` and `y` are arrays, if `norm(x-y)` is not finite (i.e. `±Inf` or `NaN`), the comparison falls back to checking whether all elements of `x` and `y` are approximately equal component-wise.\n",
       "\n",
       "The binary operator `≈` is equivalent to `isapprox` with the default arguments, and `x ≉ y` is equivalent to `!isapprox(x,y)`.\n",
       "\n",
       "Note that `x ≈ 0` (i.e., comparing to zero with the default tolerances) is equivalent to `x == 0` since the default `atol` is `0`.  In such cases, you should either supply an appropriate `atol` (or use `norm(x) ≤ atol`) or rearrange your code (e.g. use `x ≈ y` rather than `x - y ≈ 0`).   It is not possible to pick a nonzero `atol` automatically because it depends on the overall scaling (the \"units\") of your problem: for example, in `x - y ≈ 0`, `atol=1e-9` is an absurdly small tolerance if `x` is the [radius of the Earth](https://en.wikipedia.org/wiki/Earth_radius) in meters, but an absurdly large tolerance if `x` is the [radius of a Hydrogen atom](https://en.wikipedia.org/wiki/Bohr_radius) in meters.\n",
       "\n",
       "!!! compat \"Julia 1.6\"\n",
       "    Passing the `norm` keyword argument when comparing numeric (non-array) arguments requires Julia 1.6 or later.\n",
       "\n",
       "\n",
       "# Examples\n",
       "\n",
       "```jldoctest\n",
       "julia> isapprox(0.1, 0.15; atol=0.05)\n",
       "true\n",
       "\n",
       "julia> isapprox(0.1, 0.15; rtol=0.34)\n",
       "true\n",
       "\n",
       "julia> isapprox(0.1, 0.15; rtol=0.33)\n",
       "false\n",
       "\n",
       "julia> 0.1 + 1e-10 ≈ 0.1\n",
       "true\n",
       "\n",
       "julia> 1e-10 ≈ 0\n",
       "false\n",
       "\n",
       "julia> isapprox(1e-10, 0, atol=1e-8)\n",
       "true\n",
       "\n",
       "julia> isapprox([10.0^9, 1.0], [10.0^9, 2.0]) # using `norm`\n",
       "true\n",
       "```\n",
       "\n",
       "---\n",
       "\n",
       "```\n",
       "isapprox(x; kwargs...) / ≈(x; kwargs...)\n",
       "```\n",
       "\n",
       "Create a function that compares its argument to `x` using `≈`, i.e. a function equivalent to `y -> y ≈ x`.\n",
       "\n",
       "The keyword arguments supported here are the same as those in the 2-argument `isapprox`.\n",
       "\n",
       "!!! compat \"Julia 1.5\"\n",
       "    This method requires Julia 1.5 or later.\n",
       "\n"
      ],
      "text/plain": [
       "\u001b[36m  isapprox(x, y; atol::Real=0, rtol::Real=atol>0 ? 0 : √eps, nans::Bool=false[, norm::Function])\u001b[39m\n",
       "\n",
       "  Inexact equality comparison. Two numbers compare equal if their relative\n",
       "  distance \u001b[4mor\u001b[24m their absolute distance is within tolerance bounds: \u001b[36misapprox\u001b[39m\n",
       "  returns \u001b[36mtrue\u001b[39m if \u001b[36mnorm(x-y) <= max(atol, rtol*max(norm(x), norm(y)))\u001b[39m. The\n",
       "  default \u001b[36matol\u001b[39m (absolute tolerance) is zero and the default \u001b[36mrtol\u001b[39m (relative\n",
       "  tolerance) depends on the types of \u001b[36mx\u001b[39m and \u001b[36my\u001b[39m. The keyword argument \u001b[36mnans\u001b[39m\n",
       "  determines whether or not NaN values are considered equal (defaults to\n",
       "  false).\n",
       "\n",
       "  For real or complex floating-point values, if an \u001b[36matol > 0\u001b[39m is not specified,\n",
       "  \u001b[36mrtol\u001b[39m defaults to the square root of \u001b[36meps\u001b[39m of the type of \u001b[36mx\u001b[39m or \u001b[36my\u001b[39m, whichever is\n",
       "  bigger (least precise). This corresponds to requiring equality of about half\n",
       "  of the significant digits. Otherwise, e.g. for integer arguments or if an\n",
       "  \u001b[36matol > 0\u001b[39m is supplied, \u001b[36mrtol\u001b[39m defaults to zero.\n",
       "\n",
       "  The \u001b[36mnorm\u001b[39m keyword defaults to \u001b[36mabs\u001b[39m for numeric \u001b[36m(x,y)\u001b[39m and to \u001b[36mLinearAlgebra.norm\u001b[39m\n",
       "  for arrays (where an alternative \u001b[36mnorm\u001b[39m choice is sometimes useful). When \u001b[36mx\u001b[39m\n",
       "  and \u001b[36my\u001b[39m are arrays, if \u001b[36mnorm(x-y)\u001b[39m is not finite (i.e. \u001b[36m±Inf\u001b[39m or \u001b[36mNaN\u001b[39m), the\n",
       "  comparison falls back to checking whether all elements of \u001b[36mx\u001b[39m and \u001b[36my\u001b[39m are\n",
       "  approximately equal component-wise.\n",
       "\n",
       "  The binary operator \u001b[36m≈\u001b[39m is equivalent to \u001b[36misapprox\u001b[39m with the default arguments,\n",
       "  and \u001b[36mx ≉ y\u001b[39m is equivalent to \u001b[36m!isapprox(x,y)\u001b[39m.\n",
       "\n",
       "  Note that \u001b[36mx ≈ 0\u001b[39m (i.e., comparing to zero with the default tolerances) is\n",
       "  equivalent to \u001b[36mx == 0\u001b[39m since the default \u001b[36matol\u001b[39m is \u001b[36m0\u001b[39m. In such cases, you should\n",
       "  either supply an appropriate \u001b[36matol\u001b[39m (or use \u001b[36mnorm(x) ≤ atol\u001b[39m) or rearrange your\n",
       "  code (e.g. use \u001b[36mx ≈ y\u001b[39m rather than \u001b[36mx - y ≈ 0\u001b[39m). It is not possible to pick a\n",
       "  nonzero \u001b[36matol\u001b[39m automatically because it depends on the overall scaling (the\n",
       "  \"units\") of your problem: for example, in \u001b[36mx - y ≈ 0\u001b[39m, \u001b[36matol=1e-9\u001b[39m is an\n",
       "  absurdly small tolerance if \u001b[36mx\u001b[39m is the radius of the Earth\n",
       "  (https://en.wikipedia.org/wiki/Earth_radius) in meters, but an absurdly\n",
       "  large tolerance if \u001b[36mx\u001b[39m is the radius of a Hydrogen atom\n",
       "  (https://en.wikipedia.org/wiki/Bohr_radius) in meters.\n",
       "\n",
       "\u001b[39m\u001b[1m  │ \u001b[22m\u001b[39m\u001b[1mJulia 1.6\u001b[22m\n",
       "\u001b[39m\u001b[1m  │\u001b[22m\n",
       "\u001b[39m\u001b[1m  │\u001b[22m  Passing the \u001b[36mnorm\u001b[39m keyword argument when comparing numeric\n",
       "\u001b[39m\u001b[1m  │\u001b[22m  (non-array) arguments requires Julia 1.6 or later.\n",
       "\n",
       "\u001b[1m  Examples\u001b[22m\n",
       "\u001b[1m  ≡≡≡≡≡≡≡≡\u001b[22m\n",
       "\n",
       "\u001b[36m  julia> isapprox(0.1, 0.15; atol=0.05)\u001b[39m\n",
       "\u001b[36m  true\u001b[39m\n",
       "\u001b[36m  \u001b[39m\n",
       "\u001b[36m  julia> isapprox(0.1, 0.15; rtol=0.34)\u001b[39m\n",
       "\u001b[36m  true\u001b[39m\n",
       "\u001b[36m  \u001b[39m\n",
       "\u001b[36m  julia> isapprox(0.1, 0.15; rtol=0.33)\u001b[39m\n",
       "\u001b[36m  false\u001b[39m\n",
       "\u001b[36m  \u001b[39m\n",
       "\u001b[36m  julia> 0.1 + 1e-10 ≈ 0.1\u001b[39m\n",
       "\u001b[36m  true\u001b[39m\n",
       "\u001b[36m  \u001b[39m\n",
       "\u001b[36m  julia> 1e-10 ≈ 0\u001b[39m\n",
       "\u001b[36m  false\u001b[39m\n",
       "\u001b[36m  \u001b[39m\n",
       "\u001b[36m  julia> isapprox(1e-10, 0, atol=1e-8)\u001b[39m\n",
       "\u001b[36m  true\u001b[39m\n",
       "\u001b[36m  \u001b[39m\n",
       "\u001b[36m  julia> isapprox([10.0^9, 1.0], [10.0^9, 2.0]) # using `norm`\u001b[39m\n",
       "\u001b[36m  true\u001b[39m\n",
       "\n",
       "  ────────────────────────────────────────────────────────────────────────────\n",
       "\n",
       "\u001b[36m  isapprox(x; kwargs...) / ≈(x; kwargs...)\u001b[39m\n",
       "\n",
       "  Create a function that compares its argument to \u001b[36mx\u001b[39m using \u001b[36m≈\u001b[39m, i.e. a function\n",
       "  equivalent to \u001b[36my -> y ≈ x\u001b[39m.\n",
       "\n",
       "  The keyword arguments supported here are the same as those in the 2-argument\n",
       "  \u001b[36misapprox\u001b[39m.\n",
       "\n",
       "\u001b[39m\u001b[1m  │ \u001b[22m\u001b[39m\u001b[1mJulia 1.5\u001b[22m\n",
       "\u001b[39m\u001b[1m  │\u001b[22m\n",
       "\u001b[39m\u001b[1m  │\u001b[22m  This method requires Julia 1.5 or later."
      ]
     },
     "execution_count": 205,
     "metadata": {},
     "output_type": "execute_result"
    }
   ],
   "source": [
    "?isapprox"
   ]
  },
  {
   "cell_type": "code",
   "execution_count": 199,
   "id": "ce2c1dc5-eab6-453a-a74c-a13bd3074826",
   "metadata": {},
   "outputs": [
    {
     "data": {
      "text/plain": [
       "(3.1622776601683795, 22026.465794806718)"
      ]
     },
     "execution_count": 199,
     "metadata": {},
     "output_type": "execute_result"
    }
   ],
   "source": [
    "x, y = sqrt(10), exp(10)"
   ]
  },
  {
   "cell_type": "code",
   "execution_count": 200,
   "id": "5e479c43-7cd2-478b-9e90-f603dfe9aa02",
   "metadata": {},
   "outputs": [
    {
     "data": {
      "text/plain": [
       "3.1622776601683795"
      ]
     },
     "execution_count": 200,
     "metadata": {},
     "output_type": "execute_result"
    }
   ],
   "source": [
    "x"
   ]
  },
  {
   "cell_type": "code",
   "execution_count": 201,
   "id": "7a22aafd-394f-453d-ada9-e313b18fec4b",
   "metadata": {},
   "outputs": [
    {
     "data": {
      "text/plain": [
       "22026.465794806718"
      ]
     },
     "execution_count": 201,
     "metadata": {},
     "output_type": "execute_result"
    }
   ],
   "source": [
    "y"
   ]
  },
  {
   "cell_type": "code",
   "execution_count": 202,
   "id": "0f23dd90-3113-4dbe-afa0-09c7c8674df5",
   "metadata": {},
   "outputs": [
    {
     "name": "stdout",
     "output_type": "stream",
     "text": [
      "x = 20\n",
      "y = 10\n"
     ]
    }
   ],
   "source": [
    "x = 10\n",
    "y = 20\n",
    "x, y = y, x #switch x and y\n",
    "@show x\n",
    "@show y;"
   ]
  },
  {
   "cell_type": "markdown",
   "id": "6ea86143-3373-48e0-870f-249720604197",
   "metadata": {},
   "source": [
    "#### Newton's method"
   ]
  },
  {
   "cell_type": "code",
   "execution_count": 212,
   "id": "734eb0a4-3fa3-48ff-9298-d5dd42a6a82d",
   "metadata": {},
   "outputs": [
    {
     "name": "stderr",
     "output_type": "stream",
     "text": [
      "\u001b[36m\u001b[1m[ \u001b[22m\u001b[39m\u001b[36m\u001b[1mInfo: \u001b[22m\u001b[39msome info about the computation you did\n"
     ]
    }
   ],
   "source": [
    "@info \"some info about the computation you did\""
   ]
  },
  {
   "cell_type": "code",
   "execution_count": 214,
   "id": "b051ea0e-5d88-4a2c-9166-60632df36fe6",
   "metadata": {},
   "outputs": [
    {
     "name": "stdout",
     "output_type": "stream",
     "text": [
      "my_root2 = 1.4142135623731118\n",
      "√2 = 1.4142135623730951\n"
     ]
    },
    {
     "data": {
      "text/plain": [
       "true"
      ]
     },
     "execution_count": 214,
     "metadata": {},
     "output_type": "execute_result"
    }
   ],
   "source": [
    "\"\"\"\n",
    "Newton's method\n",
    "* First arg is function to find a root of.\n",
    "* Second arg is initial guess.\n",
    "* Third arg is the deriviative function.\n",
    "\"\"\"\n",
    "function newton(f, x_0::Real, der_f; ε = 10e-5, maxiter = 100) #\\varepsilon\n",
    "    x = x_0\n",
    "    x_prev = x + 2ε\n",
    "    iter = 0\n",
    "    while abs(x-x_prev) ≥ ε #\\ge\n",
    "        x_prev = x\n",
    "        x = x - f(x)/der_f(x)\n",
    "        iter += 1\n",
    "        if iter == maxiter \n",
    "            @info \"Maximal number of iterations reached\"\n",
    "            break\n",
    "        end\n",
    "    end\n",
    "    return x\n",
    "end\n",
    "\n",
    "my_root2 = newton((x)->(x^2 - 2), 3, (x)->2x)\n",
    "@show my_root2\n",
    "@show √2\n",
    "√2 ≈ my_root2  #\\approx"
   ]
  },
  {
   "cell_type": "code",
   "execution_count": 226,
   "id": "7e1a3705-f1e0-4c97-b5aa-0936f657e50f",
   "metadata": {},
   "outputs": [
    {
     "data": {
      "text/plain": [
       "f (generic function with 5 methods)"
      ]
     },
     "execution_count": 226,
     "metadata": {},
     "output_type": "execute_result"
    }
   ],
   "source": [
    "f(x) = sqrt(log(sin(exp(cos((x/5)^2)*log(x/5)+x^7))) + 1)-1/2"
   ]
  },
  {
   "cell_type": "code",
   "execution_count": 227,
   "id": "530baa16-1b7f-4a2d-ad38-b3f41f3ebfe7",
   "metadata": {},
   "outputs": [
    {
     "data": {
      "text/html": [
       "# 5 methods for generic function <b>f</b> from \u001b[35mMain\u001b[39m:<ul><li> f(x::<b>Float64</b>) in Main at In[160]:1</li> <li> f(x1::<b>Real</b>, x2::<b>Real</b>; <i>operator_type, repeat, verbose</i>) in Main at In[184]:1</li> <li> f(x1::<b>Real</b>; <i>...</i>) in Main at In[184]:1</li> <li> f() in Main at In[156]:1</li> <li> f(x) in Main at In[226]:1</li> </ul>"
      ],
      "text/plain": [
       "# 5 methods for generic function \"f\" from \u001b[35mMain\u001b[39m:\n",
       " [1] f(\u001b[90mx\u001b[39m::\u001b[1mFloat64\u001b[22m)\n",
       "\u001b[90m     @\u001b[39m \u001b[90m\u001b[4mIn[160]:1\u001b[24m\u001b[39m\n",
       " [2] f(\u001b[90mx1\u001b[39m::\u001b[1mReal\u001b[22m, \u001b[90mx2\u001b[39m::\u001b[1mReal\u001b[22m; operator_type, repeat, verbose)\n",
       "\u001b[90m     @\u001b[39m \u001b[90m\u001b[4mIn[184]:1\u001b[24m\u001b[39m\n",
       " [3] f(\u001b[90mx1\u001b[39m::\u001b[1mReal\u001b[22m; ...)\n",
       "\u001b[90m     @\u001b[39m \u001b[90m\u001b[4mIn[184]:1\u001b[24m\u001b[39m\n",
       " [4] f()\n",
       "\u001b[90m     @\u001b[39m \u001b[90m\u001b[4mIn[156]:1\u001b[24m\u001b[39m\n",
       " [5] f(\u001b[90mx\u001b[39m)\n",
       "\u001b[90m     @\u001b[39m \u001b[90m\u001b[4mIn[226]:1\u001b[24m\u001b[39m"
      ]
     },
     "execution_count": 227,
     "metadata": {},
     "output_type": "execute_result"
    }
   ],
   "source": [
    "methods(f)"
   ]
  },
  {
   "cell_type": "code",
   "execution_count": 217,
   "id": "e344740e-ede1-4564-bcac-a9eb4052d151",
   "metadata": {},
   "outputs": [
    {
     "name": "stderr",
     "output_type": "stream",
     "text": [
      "\u001b[36m\u001b[1m[ \u001b[22m\u001b[39m\u001b[36m\u001b[1mInfo: \u001b[22m\u001b[39mPrecompiling Plots [91a5bcdd-55d7-5caf-9e0b-520d859cae80] (cache misses: wrong dep version loaded (2), wrong source (2))\n",
      "\u001b[36m\u001b[1m[ \u001b[22m\u001b[39m\u001b[36m\u001b[1mInfo: \u001b[22m\u001b[39mPrecompiling IJuliaExt [2f4121a4-3b3a-5ce6-9c5e-1f2673ce168a] (cache misses: wrong dep version loaded (4))\n"
     ]
    }
   ],
   "source": [
    "using Plots"
   ]
  },
  {
   "cell_type": "code",
   "execution_count": 224,
   "id": "e0ad4e18-accf-4977-8ccc-acafdb5975a3",
   "metadata": {},
   "outputs": [
    {
     "data": {
      "image/png": "[encoded data removed]",
      "image/svg+xml": [
       "<?xml version=\"1.0\" encoding=\"utf-8\"?>\n",
       "<svg xmlns=\"http://www.w3.org/2000/svg\" xmlns:xlink=\"http://www.w3.org/1999/xlink\" width=\"600\" height=\"400\" viewBox=\"0 0 2400 1600\">\n",
       "<defs>\n",
       "  <clipPath id=\"clip610\">\n",
       "    <rect x=\"0\" y=\"0\" width=\"2400\" height=\"1600\"/>\n",
       "  </clipPath>\n",
       "</defs>\n",
       "<path clip-path=\"url(#clip610)\" d=\"M0 1600 L2400 1600 L2400 8.88178e-14 L0 8.88178e-14  Z\" fill=\"#ffffff\" fill-rule=\"evenodd\" fill-opacity=\"1\"/>\n",
       "<defs>\n",
       "  <clipPath id=\"clip611\">\n",
       "    <rect x=\"480\" y=\"0\" width=\"1681\" height=\"1600\"/>\n",
       "  </clipPath>\n",
       "</defs>\n",
       "<path clip-path=\"url(#clip610)\" d=\"M140.696 1486.45 L2352.76 1486.45 L2352.76 47.2441 L140.696 47.2441  Z\" fill=\"#ffffff\" fill-rule=\"evenodd\" fill-opacity=\"1\"/>\n",
       "<defs>\n",
       "  <clipPath id=\"clip612\">\n",
       "    <rect x=\"140\" y=\"47\" width=\"2213\" height=\"1440\"/>\n",
       "  </clipPath>\n",
       "</defs>\n",
       "<polyline clip-path=\"url(#clip612)\" style=\"stroke:#000000; stroke-linecap:round; stroke-linejoin:round; stroke-width:2; stroke-opacity:0.1; fill:none\" points=\"411.986,1486.45 411.986,47.2441 \"/>\n",
       "<polyline clip-path=\"url(#clip612)\" style=\"stroke:#000000; stroke-linecap:round; stroke-linejoin:round; stroke-width:2; stroke-opacity:0.1; fill:none\" points=\"829.356,1486.45 829.356,47.2441 \"/>\n",
       "<polyline clip-path=\"url(#clip612)\" style=\"stroke:#000000; stroke-linecap:round; stroke-linejoin:round; stroke-width:2; stroke-opacity:0.1; fill:none\" points=\"1246.73,1486.45 1246.73,47.2441 \"/>\n",
       "<polyline clip-path=\"url(#clip612)\" style=\"stroke:#000000; stroke-linecap:round; stroke-linejoin:round; stroke-width:2; stroke-opacity:0.1; fill:none\" points=\"1664.1,1486.45 1664.1,47.2441 \"/>\n",
       "<polyline clip-path=\"url(#clip612)\" style=\"stroke:#000000; stroke-linecap:round; stroke-linejoin:round; stroke-width:2; stroke-opacity:0.1; fill:none\" points=\"2081.47,1486.45 2081.47,47.2441 \"/>\n",
       "<polyline clip-path=\"url(#clip612)\" style=\"stroke:#000000; stroke-linecap:round; stroke-linejoin:round; stroke-width:2; stroke-opacity:0.1; fill:none\" points=\"140.696,1445.74 2352.76,1445.74 \"/>\n",
       "<polyline clip-path=\"url(#clip612)\" style=\"stroke:#000000; stroke-linecap:round; stroke-linejoin:round; stroke-width:2; stroke-opacity:0.1; fill:none\" points=\"140.696,1174.19 2352.76,1174.19 \"/>\n",
       "<polyline clip-path=\"url(#clip612)\" style=\"stroke:#000000; stroke-linecap:round; stroke-linejoin:round; stroke-width:2; stroke-opacity:0.1; fill:none\" points=\"140.696,902.637 2352.76,902.637 \"/>\n",
       "<polyline clip-path=\"url(#clip612)\" style=\"stroke:#000000; stroke-linecap:round; stroke-linejoin:round; stroke-width:2; stroke-opacity:0.1; fill:none\" points=\"140.696,631.083 2352.76,631.083 \"/>\n",
       "<polyline clip-path=\"url(#clip612)\" style=\"stroke:#000000; stroke-linecap:round; stroke-linejoin:round; stroke-width:2; stroke-opacity:0.1; fill:none\" points=\"140.696,359.53 2352.76,359.53 \"/>\n",
       "<polyline clip-path=\"url(#clip612)\" style=\"stroke:#000000; stroke-linecap:round; stroke-linejoin:round; stroke-width:2; stroke-opacity:0.1; fill:none\" points=\"140.696,87.9763 2352.76,87.9763 \"/>\n",
       "<polyline clip-path=\"url(#clip610)\" style=\"stroke:#000000; stroke-linecap:round; stroke-linejoin:round; stroke-width:4; stroke-opacity:1; fill:none\" points=\"140.696,1486.45 2352.76,1486.45 \"/>\n",
       "<polyline clip-path=\"url(#clip610)\" style=\"stroke:#000000; stroke-linecap:round; stroke-linejoin:round; stroke-width:4; stroke-opacity:1; fill:none\" points=\"411.986,1486.45 411.986,1467.55 \"/>\n",
       "<polyline clip-path=\"url(#clip610)\" style=\"stroke:#000000; stroke-linecap:round; stroke-linejoin:round; stroke-width:4; stroke-opacity:1; fill:none\" points=\"829.356,1486.45 829.356,1467.55 \"/>\n",
       "<polyline clip-path=\"url(#clip610)\" style=\"stroke:#000000; stroke-linecap:round; stroke-linejoin:round; stroke-width:4; stroke-opacity:1; fill:none\" points=\"1246.73,1486.45 1246.73,1467.55 \"/>\n",
       "<polyline clip-path=\"url(#clip610)\" style=\"stroke:#000000; stroke-linecap:round; stroke-linejoin:round; stroke-width:4; stroke-opacity:1; fill:none\" points=\"1664.1,1486.45 1664.1,1467.55 \"/>\n",
       "<polyline clip-path=\"url(#clip610)\" style=\"stroke:#000000; stroke-linecap:round; stroke-linejoin:round; stroke-width:4; stroke-opacity:1; fill:none\" points=\"2081.47,1486.45 2081.47,1467.55 \"/>\n",
       "<path clip-path=\"url(#clip610)\" d=\"M380.887 1532.02 L410.562 1532.02 L410.562 1535.95 L380.887 1535.95 L380.887 1532.02 Z\" fill=\"#000000\" fill-rule=\"nonzero\" fill-opacity=\"1\" /><path clip-path=\"url(#clip610)\" d=\"M433.502 1518.36 L421.697 1536.81 L433.502 1536.81 L433.502 1518.36 M432.275 1514.29 L438.155 1514.29 L438.155 1536.81 L443.085 1536.81 L443.085 1540.7 L438.155 1540.7 L438.155 1548.85 L433.502 1548.85 L433.502 1540.7 L417.9 1540.7 L417.9 1536.19 L432.275 1514.29 Z\" fill=\"#000000\" fill-rule=\"nonzero\" fill-opacity=\"1\" /><path clip-path=\"url(#clip610)\" d=\"M799.298 1532.02 L828.974 1532.02 L828.974 1535.95 L799.298 1535.95 L799.298 1532.02 Z\" fill=\"#000000\" fill-rule=\"nonzero\" fill-opacity=\"1\" /><path clip-path=\"url(#clip610)\" d=\"M843.094 1544.91 L859.414 1544.91 L859.414 1548.85 L837.469 1548.85 L837.469 1544.91 Q840.131 1542.16 844.715 1537.53 Q849.321 1532.88 850.502 1531.53 Q852.747 1529.01 853.627 1527.27 Q854.529 1525.51 854.529 1523.82 Q854.529 1521.07 852.585 1519.33 Q850.664 1517.6 847.562 1517.6 Q845.363 1517.6 842.909 1518.36 Q840.478 1519.13 837.701 1520.68 L837.701 1515.95 Q840.525 1514.82 842.978 1514.24 Q845.432 1513.66 847.469 1513.66 Q852.84 1513.66 856.034 1516.35 Q859.228 1519.03 859.228 1523.52 Q859.228 1525.65 858.418 1527.57 Q857.631 1529.47 855.525 1532.07 Q854.946 1532.74 851.844 1535.95 Q848.742 1539.15 843.094 1544.91 Z\" fill=\"#000000\" fill-rule=\"nonzero\" fill-opacity=\"1\" /><path clip-path=\"url(#clip610)\" d=\"M1246.73 1517.37 Q1243.11 1517.37 1241.29 1520.93 Q1239.48 1524.47 1239.48 1531.6 Q1239.48 1538.71 1241.29 1542.27 Q1243.11 1545.82 1246.73 1545.82 Q1250.36 1545.82 1252.17 1542.27 Q1253.99 1538.71 1253.99 1531.6 Q1253.99 1524.47 1252.17 1520.93 Q1250.36 1517.37 1246.73 1517.37 M1246.73 1513.66 Q1252.54 1513.66 1255.59 1518.27 Q1258.67 1522.85 1258.67 1531.6 Q1258.67 1540.33 1255.59 1544.94 Q1252.54 1549.52 1246.73 1549.52 Q1240.92 1549.52 1237.84 1544.94 Q1234.78 1540.33 1234.78 1531.6 Q1234.78 1522.85 1237.84 1518.27 Q1240.92 1513.66 1246.73 1513.66 Z\" fill=\"#000000\" fill-rule=\"nonzero\" fill-opacity=\"1\" /><path clip-path=\"url(#clip610)\" d=\"M1658.75 1544.91 L1675.07 1544.91 L1675.07 1548.85 L1653.12 1548.85 L1653.12 1544.91 Q1655.79 1542.16 1660.37 1537.53 Q1664.98 1532.88 1666.16 1531.53 Q1668.4 1529.01 1669.28 1527.27 Q1670.18 1525.51 1670.18 1523.82 Q1670.18 1521.07 1668.24 1519.33 Q1666.32 1517.6 1663.22 1517.6 Q1661.02 1517.6 1658.56 1518.36 Q1656.13 1519.13 1653.35 1520.68 L1653.35 1515.95 Q1656.18 1514.82 1658.63 1514.24 Q1661.09 1513.66 1663.12 1513.66 Q1668.49 1513.66 1671.69 1516.35 Q1674.88 1519.03 1674.88 1523.52 Q1674.88 1525.65 1674.07 1527.57 Q1673.29 1529.47 1671.18 1532.07 Q1670.6 1532.74 1667.5 1535.95 Q1664.4 1539.15 1658.75 1544.91 Z\" fill=\"#000000\" fill-rule=\"nonzero\" fill-opacity=\"1\" /><path clip-path=\"url(#clip610)\" d=\"M2084.47 1518.36 L2072.67 1536.81 L2084.47 1536.81 L2084.47 1518.36 M2083.25 1514.29 L2089.13 1514.29 L2089.13 1536.81 L2094.06 1536.81 L2094.06 1540.7 L2089.13 1540.7 L2089.13 1548.85 L2084.47 1548.85 L2084.47 1540.7 L2068.87 1540.7 L2068.87 1536.19 L2083.25 1514.29 Z\" fill=\"#000000\" fill-rule=\"nonzero\" fill-opacity=\"1\" /><polyline clip-path=\"url(#clip610)\" style=\"stroke:#000000; stroke-linecap:round; stroke-linejoin:round; stroke-width:4; stroke-opacity:1; fill:none\" points=\"140.696,1486.45 140.696,47.2441 \"/>\n",
       "<polyline clip-path=\"url(#clip610)\" style=\"stroke:#000000; stroke-linecap:round; stroke-linejoin:round; stroke-width:4; stroke-opacity:1; fill:none\" points=\"140.696,1445.74 159.593,1445.74 \"/>\n",
       "<polyline clip-path=\"url(#clip610)\" style=\"stroke:#000000; stroke-linecap:round; stroke-linejoin:round; stroke-width:4; stroke-opacity:1; fill:none\" points=\"140.696,1174.19 159.593,1174.19 \"/>\n",
       "<polyline clip-path=\"url(#clip610)\" style=\"stroke:#000000; stroke-linecap:round; stroke-linejoin:round; stroke-width:4; stroke-opacity:1; fill:none\" points=\"140.696,902.637 159.593,902.637 \"/>\n",
       "<polyline clip-path=\"url(#clip610)\" style=\"stroke:#000000; stroke-linecap:round; stroke-linejoin:round; stroke-width:4; stroke-opacity:1; fill:none\" points=\"140.696,631.083 159.593,631.083 \"/>\n",
       "<polyline clip-path=\"url(#clip610)\" style=\"stroke:#000000; stroke-linecap:round; stroke-linejoin:round; stroke-width:4; stroke-opacity:1; fill:none\" points=\"140.696,359.53 159.593,359.53 \"/>\n",
       "<polyline clip-path=\"url(#clip610)\" style=\"stroke:#000000; stroke-linecap:round; stroke-linejoin:round; stroke-width:4; stroke-opacity:1; fill:none\" points=\"140.696,87.9763 159.593,87.9763 \"/>\n",
       "<path clip-path=\"url(#clip610)\" d=\"M92.7512 1431.54 Q89.1401 1431.54 87.3114 1435.11 Q85.5058 1438.65 85.5058 1445.78 Q85.5058 1452.88 87.3114 1456.45 Q89.1401 1459.99 92.7512 1459.99 Q96.3854 1459.99 98.1909 1456.45 Q100.02 1452.88 100.02 1445.78 Q100.02 1438.65 98.1909 1435.11 Q96.3854 1431.54 92.7512 1431.54 M92.7512 1427.84 Q98.5613 1427.84 101.617 1432.45 Q104.696 1437.03 104.696 1445.78 Q104.696 1454.51 101.617 1459.11 Q98.5613 1463.69 92.7512 1463.69 Q86.941 1463.69 83.8623 1459.11 Q80.8068 1454.51 80.8068 1445.78 Q80.8068 1437.03 83.8623 1432.45 Q86.941 1427.84 92.7512 1427.84 Z\" fill=\"#000000\" fill-rule=\"nonzero\" fill-opacity=\"1\" /><path clip-path=\"url(#clip610)\" d=\"M83.7929 1156.91 L102.149 1156.91 L102.149 1160.85 L88.0753 1160.85 L88.0753 1169.32 Q89.0938 1168.97 90.1123 1168.81 Q91.1308 1168.62 92.1493 1168.62 Q97.9363 1168.62 101.316 1171.79 Q104.696 1174.97 104.696 1180.38 Q104.696 1185.96 101.223 1189.06 Q97.7511 1192.14 91.4317 1192.14 Q89.2558 1192.14 86.9873 1191.77 Q84.7419 1191.4 82.3346 1190.66 L82.3346 1185.96 Q84.4179 1187.1 86.6401 1187.65 Q88.8623 1188.21 91.3391 1188.21 Q95.3437 1188.21 97.6817 1186.1 Q100.02 1183.99 100.02 1180.38 Q100.02 1176.77 97.6817 1174.66 Q95.3437 1172.56 91.3391 1172.56 Q89.4641 1172.56 87.5892 1172.97 Q85.7373 1173.39 83.7929 1174.27 L83.7929 1156.91 Z\" fill=\"#000000\" fill-rule=\"nonzero\" fill-opacity=\"1\" /><path clip-path=\"url(#clip610)\" d=\"M53.3995 915.982 L61.0384 915.982 L61.0384 889.616 L52.7282 891.283 L52.7282 887.023 L60.9921 885.357 L65.668 885.357 L65.668 915.982 L73.3068 915.982 L73.3068 919.917 L53.3995 919.917 L53.3995 915.982 Z\" fill=\"#000000\" fill-rule=\"nonzero\" fill-opacity=\"1\" /><path clip-path=\"url(#clip610)\" d=\"M92.7512 888.435 Q89.1401 888.435 87.3114 892 Q85.5058 895.542 85.5058 902.671 Q85.5058 909.778 87.3114 913.343 Q89.1401 916.884 92.7512 916.884 Q96.3854 916.884 98.1909 913.343 Q100.02 909.778 100.02 902.671 Q100.02 895.542 98.1909 892 Q96.3854 888.435 92.7512 888.435 M92.7512 884.732 Q98.5613 884.732 101.617 889.338 Q104.696 893.921 104.696 902.671 Q104.696 911.398 101.617 916.005 Q98.5613 920.588 92.7512 920.588 Q86.941 920.588 83.8623 916.005 Q80.8068 911.398 80.8068 902.671 Q80.8068 893.921 83.8623 889.338 Q86.941 884.732 92.7512 884.732 Z\" fill=\"#000000\" fill-rule=\"nonzero\" fill-opacity=\"1\" /><path clip-path=\"url(#clip610)\" d=\"M54.3949 644.428 L62.0337 644.428 L62.0337 618.062 L53.7236 619.729 L53.7236 615.47 L61.9874 613.803 L66.6633 613.803 L66.6633 644.428 L74.3022 644.428 L74.3022 648.363 L54.3949 648.363 L54.3949 644.428 Z\" fill=\"#000000\" fill-rule=\"nonzero\" fill-opacity=\"1\" /><path clip-path=\"url(#clip610)\" d=\"M83.7929 613.803 L102.149 613.803 L102.149 617.738 L88.0753 617.738 L88.0753 626.211 Q89.0938 625.863 90.1123 625.701 Q91.1308 625.516 92.1493 625.516 Q97.9363 625.516 101.316 628.687 Q104.696 631.859 104.696 637.275 Q104.696 642.854 101.223 645.956 Q97.7511 649.035 91.4317 649.035 Q89.2558 649.035 86.9873 648.664 Q84.7419 648.294 82.3346 647.553 L82.3346 642.854 Q84.4179 643.988 86.6401 644.544 Q88.8623 645.099 91.3391 645.099 Q95.3437 645.099 97.6817 642.993 Q100.02 640.886 100.02 637.275 Q100.02 633.664 97.6817 631.558 Q95.3437 629.451 91.3391 629.451 Q89.4641 629.451 87.5892 629.868 Q85.7373 630.285 83.7929 631.164 L83.7929 613.803 Z\" fill=\"#000000\" fill-rule=\"nonzero\" fill-opacity=\"1\" /><path clip-path=\"url(#clip610)\" d=\"M56.6171 372.875 L72.9365 372.875 L72.9365 376.81 L50.9921 376.81 L50.9921 372.875 Q53.6541 370.12 58.2375 365.49 Q62.8439 360.838 64.0245 359.495 Q66.2698 356.972 67.1494 355.236 Q68.0522 353.477 68.0522 351.787 Q68.0522 349.032 66.1078 347.296 Q64.1865 345.56 61.0847 345.56 Q58.8856 345.56 56.4319 346.324 Q54.0014 347.088 51.2236 348.639 L51.2236 343.916 Q54.0477 342.782 56.5014 342.203 Q58.955 341.625 60.9921 341.625 Q66.3624 341.625 69.5568 344.31 Q72.7513 346.995 72.7513 351.486 Q72.7513 353.615 71.9411 355.537 Q71.1541 357.435 69.0476 360.027 Q68.4689 360.699 65.367 363.916 Q62.2652 367.111 56.6171 372.875 Z\" fill=\"#000000\" fill-rule=\"nonzero\" fill-opacity=\"1\" /><path clip-path=\"url(#clip610)\" d=\"M92.7512 345.328 Q89.1401 345.328 87.3114 348.893 Q85.5058 352.435 85.5058 359.564 Q85.5058 366.671 87.3114 370.236 Q89.1401 373.777 92.7512 373.777 Q96.3854 373.777 98.1909 370.236 Q100.02 366.671 100.02 359.564 Q100.02 352.435 98.1909 348.893 Q96.3854 345.328 92.7512 345.328 M92.7512 341.625 Q98.5613 341.625 101.617 346.231 Q104.696 350.815 104.696 359.564 Q104.696 368.291 101.617 372.898 Q98.5613 377.481 92.7512 377.481 Q86.941 377.481 83.8623 372.898 Q80.8068 368.291 80.8068 359.564 Q80.8068 350.815 83.8623 346.231 Q86.941 341.625 92.7512 341.625 Z\" fill=\"#000000\" fill-rule=\"nonzero\" fill-opacity=\"1\" /><path clip-path=\"url(#clip610)\" d=\"M57.6125 101.321 L73.9318 101.321 L73.9318 105.256 L51.9875 105.256 L51.9875 101.321 Q54.6495 98.5665 59.2328 93.9369 Q63.8393 89.2841 65.0198 87.9416 Q67.2652 85.4184 68.1448 83.6823 Q69.0476 81.9231 69.0476 80.2333 Q69.0476 77.4786 67.1032 75.7425 Q65.1819 74.0064 62.08 74.0064 Q59.881 74.0064 57.4273 74.7703 Q54.9967 75.5342 52.219 77.0851 L52.219 72.3629 Q55.043 71.2287 57.4967 70.65 Q59.9504 70.0713 61.9874 70.0713 Q67.3578 70.0713 70.5522 72.7565 Q73.7466 75.4416 73.7466 79.9323 Q73.7466 82.062 72.9365 83.9832 Q72.1494 85.8814 70.0429 88.474 Q69.4642 89.1453 66.3624 92.3628 Q63.2606 95.5573 57.6125 101.321 Z\" fill=\"#000000\" fill-rule=\"nonzero\" fill-opacity=\"1\" /><path clip-path=\"url(#clip610)\" d=\"M83.7929 70.6963 L102.149 70.6963 L102.149 74.6314 L88.0753 74.6314 L88.0753 83.1036 Q89.0938 82.7564 90.1123 82.5944 Q91.1308 82.4092 92.1493 82.4092 Q97.9363 82.4092 101.316 85.5805 Q104.696 88.7517 104.696 94.1684 Q104.696 99.747 101.223 102.849 Q97.7511 105.928 91.4317 105.928 Q89.2558 105.928 86.9873 105.557 Q84.7419 105.187 82.3346 104.446 L82.3346 99.747 Q84.4179 100.881 86.6401 101.437 Q88.8623 101.992 91.3391 101.992 Q95.3437 101.992 97.6817 99.8859 Q100.02 97.7795 100.02 94.1684 Q100.02 90.5573 97.6817 88.4508 Q95.3437 86.3443 91.3391 86.3443 Q89.4641 86.3443 87.5892 86.761 Q85.7373 87.1777 83.7929 88.0573 L83.7929 70.6963 Z\" fill=\"#000000\" fill-rule=\"nonzero\" fill-opacity=\"1\" /><polyline clip-path=\"url(#clip612)\" style=\"stroke:#009af9; stroke-linecap:round; stroke-linejoin:round; stroke-width:4; stroke-opacity:1; fill:none\" points=\"203.301,87.9763 214.073,115.866 224.845,143.466 256.39,222.628 287.936,299.307 319.481,373.504 351.026,445.219 380.376,509.714 409.726,572.061 429.396,612.642 449.066,652.258 468.735,690.91 488.405,728.596 520.912,788.761 553.419,846.292 583.647,897.424 613.875,946.277 651.821,1004.38 689.768,1058.89 723.806,1104.73 757.844,1147.68 777.325,1170.96 796.805,1193.29 816.286,1214.68 835.767,1235.12 864.89,1263.92 894.014,1290.6 931.264,1321.64 968.513,1349.21 1002.51,1371.37 1036.51,1390.63 1055.86,1400.31 1075.2,1409.05 1094.55,1416.86 1113.9,1423.74 1144.57,1432.73 1175.24,1439.37 1213.35,1444.35 1251.46,1445.72 1280.64,1444.31 1309.83,1440.78 1330.4,1437.01 1350.97,1432.19 1371.55,1426.31 1392.12,1419.38 1422.87,1407.05 1453.61,1392.36 1488.58,1372.79 1523.55,1350.18 1558.18,1324.77 1592.81,1296.37 1630.91,1261.68 1669,1223.36 1698.1,1191.65 1727.21,1157.84 1763.93,1112.15 1800.65,1063.09 1834.62,1014.73 1868.58,963.485 1903.61,907.625 1938.64,848.704 1974.14,785.857 2009.65,719.866 2046.72,647.604 2083.8,571.913 2113,509.874 2142.21,445.707 2175.46,370.053 2208.72,291.64 2241.97,210.469 2275.23,126.539 2278.96,116.951 2282.69,107.327 2286.42,97.6691 2290.15,87.9763 \"/>\n",
       "<path clip-path=\"url(#clip610)\" d=\"M2005.38 1438.47 L2279.02 1438.47 L2279.02 1334.79 L2005.38 1334.79  Z\" fill=\"#ffffff\" fill-rule=\"evenodd\" fill-opacity=\"1\"/>\n",
       "<polyline clip-path=\"url(#clip610)\" style=\"stroke:#000000; stroke-linecap:round; stroke-linejoin:round; stroke-width:4; stroke-opacity:1; fill:none\" points=\"2005.38,1438.47 2279.02,1438.47 2279.02,1334.79 2005.38,1334.79 2005.38,1438.47 \"/>\n",
       "<polyline clip-path=\"url(#clip610)\" style=\"stroke:#009af9; stroke-linecap:round; stroke-linejoin:round; stroke-width:4; stroke-opacity:1; fill:none\" points=\"2029.96,1386.63 2177.43,1386.63 \"/>\n",
       "<path clip-path=\"url(#clip610)\" d=\"M2215.85 1406.32 Q2214.05 1410.95 2212.34 1412.36 Q2210.62 1413.78 2207.75 1413.78 L2204.35 1413.78 L2204.35 1410.21 L2206.85 1410.21 Q2208.61 1410.21 2209.58 1409.38 Q2210.55 1408.54 2211.73 1405.44 L2212.5 1403.5 L2202.01 1377.99 L2206.53 1377.99 L2214.63 1398.27 L2222.73 1377.99 L2227.24 1377.99 L2215.85 1406.32 Z\" fill=\"#000000\" fill-rule=\"nonzero\" fill-opacity=\"1\" /><path clip-path=\"url(#clip610)\" d=\"M2234.53 1399.98 L2242.17 1399.98 L2242.17 1373.61 L2233.86 1375.28 L2233.86 1371.02 L2242.13 1369.35 L2246.8 1369.35 L2246.8 1399.98 L2254.44 1399.98 L2254.44 1403.91 L2234.53 1403.91 L2234.53 1399.98 Z\" fill=\"#000000\" fill-rule=\"nonzero\" fill-opacity=\"1\" /></svg>\n"
      ],
      "text/html": [
       "<?xml version=\"1.0\" encoding=\"utf-8\"?>\n",
       "<svg xmlns=\"http://www.w3.org/2000/svg\" xmlns:xlink=\"http://www.w3.org/1999/xlink\" width=\"600\" height=\"400\" viewBox=\"0 0 2400 1600\">\n",
       "<defs>\n",
       "  <clipPath id=\"clip660\">\n",
       "    <rect x=\"0\" y=\"0\" width=\"2400\" height=\"1600\"/>\n",
       "  </clipPath>\n",
       "</defs>\n",
       "<path clip-path=\"url(#clip660)\" d=\"M0 1600 L2400 1600 L2400 8.88178e-14 L0 8.88178e-14  Z\" fill=\"#ffffff\" fill-rule=\"evenodd\" fill-opacity=\"1\"/>\n",
       "<defs>\n",
       "  <clipPath id=\"clip661\">\n",
       "    <rect x=\"480\" y=\"0\" width=\"1681\" height=\"1600\"/>\n",
       "  </clipPath>\n",
       "</defs>\n",
       "<path clip-path=\"url(#clip660)\" d=\"M140.696 1486.45 L2352.76 1486.45 L2352.76 47.2441 L140.696 47.2441  Z\" fill=\"#ffffff\" fill-rule=\"evenodd\" fill-opacity=\"1\"/>\n",
       "<defs>\n",
       "  <clipPath id=\"clip662\">\n",
       "    <rect x=\"140\" y=\"47\" width=\"2213\" height=\"1440\"/>\n",
       "  </clipPath>\n",
       "</defs>\n",
       "<polyline clip-path=\"url(#clip662)\" style=\"stroke:#000000; stroke-linecap:round; stroke-linejoin:round; stroke-width:2; stroke-opacity:0.1; fill:none\" points=\"411.986,1486.45 411.986,47.2441 \"/>\n",
       "<polyline clip-path=\"url(#clip662)\" style=\"stroke:#000000; stroke-linecap:round; stroke-linejoin:round; stroke-width:2; stroke-opacity:0.1; fill:none\" points=\"829.356,1486.45 829.356,47.2441 \"/>\n",
       "<polyline clip-path=\"url(#clip662)\" style=\"stroke:#000000; stroke-linecap:round; stroke-linejoin:round; stroke-width:2; stroke-opacity:0.1; fill:none\" points=\"1246.73,1486.45 1246.73,47.2441 \"/>\n",
       "<polyline clip-path=\"url(#clip662)\" style=\"stroke:#000000; stroke-linecap:round; stroke-linejoin:round; stroke-width:2; stroke-opacity:0.1; fill:none\" points=\"1664.1,1486.45 1664.1,47.2441 \"/>\n",
       "<polyline clip-path=\"url(#clip662)\" style=\"stroke:#000000; stroke-linecap:round; stroke-linejoin:round; stroke-width:2; stroke-opacity:0.1; fill:none\" points=\"2081.47,1486.45 2081.47,47.2441 \"/>\n",
       "<polyline clip-path=\"url(#clip662)\" style=\"stroke:#000000; stroke-linecap:round; stroke-linejoin:round; stroke-width:2; stroke-opacity:0.1; fill:none\" points=\"140.696,1445.74 2352.76,1445.74 \"/>\n",
       "<polyline clip-path=\"url(#clip662)\" style=\"stroke:#000000; stroke-linecap:round; stroke-linejoin:round; stroke-width:2; stroke-opacity:0.1; fill:none\" points=\"140.696,1174.19 2352.76,1174.19 \"/>\n",
       "<polyline clip-path=\"url(#clip662)\" style=\"stroke:#000000; stroke-linecap:round; stroke-linejoin:round; stroke-width:2; stroke-opacity:0.1; fill:none\" points=\"140.696,902.637 2352.76,902.637 \"/>\n",
       "<polyline clip-path=\"url(#clip662)\" style=\"stroke:#000000; stroke-linecap:round; stroke-linejoin:round; stroke-width:2; stroke-opacity:0.1; fill:none\" points=\"140.696,631.083 2352.76,631.083 \"/>\n",
       "<polyline clip-path=\"url(#clip662)\" style=\"stroke:#000000; stroke-linecap:round; stroke-linejoin:round; stroke-width:2; stroke-opacity:0.1; fill:none\" points=\"140.696,359.53 2352.76,359.53 \"/>\n",
       "<polyline clip-path=\"url(#clip662)\" style=\"stroke:#000000; stroke-linecap:round; stroke-linejoin:round; stroke-width:2; stroke-opacity:0.1; fill:none\" points=\"140.696,87.9763 2352.76,87.9763 \"/>\n",
       "<polyline clip-path=\"url(#clip660)\" style=\"stroke:#000000; stroke-linecap:round; stroke-linejoin:round; stroke-width:4; stroke-opacity:1; fill:none\" points=\"140.696,1486.45 2352.76,1486.45 \"/>\n",
       "<polyline clip-path=\"url(#clip660)\" style=\"stroke:#000000; stroke-linecap:round; stroke-linejoin:round; stroke-width:4; stroke-opacity:1; fill:none\" points=\"411.986,1486.45 411.986,1467.55 \"/>\n",
       "<polyline clip-path=\"url(#clip660)\" style=\"stroke:#000000; stroke-linecap:round; stroke-linejoin:round; stroke-width:4; stroke-opacity:1; fill:none\" points=\"829.356,1486.45 829.356,1467.55 \"/>\n",
       "<polyline clip-path=\"url(#clip660)\" style=\"stroke:#000000; stroke-linecap:round; stroke-linejoin:round; stroke-width:4; stroke-opacity:1; fill:none\" points=\"1246.73,1486.45 1246.73,1467.55 \"/>\n",
       "<polyline clip-path=\"url(#clip660)\" style=\"stroke:#000000; stroke-linecap:round; stroke-linejoin:round; stroke-width:4; stroke-opacity:1; fill:none\" points=\"1664.1,1486.45 1664.1,1467.55 \"/>\n",
       "<polyline clip-path=\"url(#clip660)\" style=\"stroke:#000000; stroke-linecap:round; stroke-linejoin:round; stroke-width:4; stroke-opacity:1; fill:none\" points=\"2081.47,1486.45 2081.47,1467.55 \"/>\n",
       "<path clip-path=\"url(#clip660)\" d=\"M380.887 1532.02 L410.562 1532.02 L410.562 1535.95 L380.887 1535.95 L380.887 1532.02 Z\" fill=\"#000000\" fill-rule=\"nonzero\" fill-opacity=\"1\" /><path clip-path=\"url(#clip660)\" d=\"M433.502 1518.36 L421.697 1536.81 L433.502 1536.81 L433.502 1518.36 M432.275 1514.29 L438.155 1514.29 L438.155 1536.81 L443.085 1536.81 L443.085 1540.7 L438.155 1540.7 L438.155 1548.85 L433.502 1548.85 L433.502 1540.7 L417.9 1540.7 L417.9 1536.19 L432.275 1514.29 Z\" fill=\"#000000\" fill-rule=\"nonzero\" fill-opacity=\"1\" /><path clip-path=\"url(#clip660)\" d=\"M799.298 1532.02 L828.974 1532.02 L828.974 1535.95 L799.298 1535.95 L799.298 1532.02 Z\" fill=\"#000000\" fill-rule=\"nonzero\" fill-opacity=\"1\" /><path clip-path=\"url(#clip660)\" d=\"M843.094 1544.91 L859.414 1544.91 L859.414 1548.85 L837.469 1548.85 L837.469 1544.91 Q840.131 1542.16 844.715 1537.53 Q849.321 1532.88 850.502 1531.53 Q852.747 1529.01 853.627 1527.27 Q854.529 1525.51 854.529 1523.82 Q854.529 1521.07 852.585 1519.33 Q850.664 1517.6 847.562 1517.6 Q845.363 1517.6 842.909 1518.36 Q840.478 1519.13 837.701 1520.68 L837.701 1515.95 Q840.525 1514.82 842.978 1514.24 Q845.432 1513.66 847.469 1513.66 Q852.84 1513.66 856.034 1516.35 Q859.228 1519.03 859.228 1523.52 Q859.228 1525.65 858.418 1527.57 Q857.631 1529.47 855.525 1532.07 Q854.946 1532.74 851.844 1535.95 Q848.742 1539.15 843.094 1544.91 Z\" fill=\"#000000\" fill-rule=\"nonzero\" fill-opacity=\"1\" /><path clip-path=\"url(#clip660)\" d=\"M1246.73 1517.37 Q1243.11 1517.37 1241.29 1520.93 Q1239.48 1524.47 1239.48 1531.6 Q1239.48 1538.71 1241.29 1542.27 Q1243.11 1545.82 1246.73 1545.82 Q1250.36 1545.82 1252.17 1542.27 Q1253.99 1538.71 1253.99 1531.6 Q1253.99 1524.47 1252.17 1520.93 Q1250.36 1517.37 1246.73 1517.37 M1246.73 1513.66 Q1252.54 1513.66 1255.59 1518.27 Q1258.67 1522.85 1258.67 1531.6 Q1258.67 1540.33 1255.59 1544.94 Q1252.54 1549.52 1246.73 1549.52 Q1240.92 1549.52 1237.84 1544.94 Q1234.78 1540.33 1234.78 1531.6 Q1234.78 1522.85 1237.84 1518.27 Q1240.92 1513.66 1246.73 1513.66 Z\" fill=\"#000000\" fill-rule=\"nonzero\" fill-opacity=\"1\" /><path clip-path=\"url(#clip660)\" d=\"M1658.75 1544.91 L1675.07 1544.91 L1675.07 1548.85 L1653.12 1548.85 L1653.12 1544.91 Q1655.79 1542.16 1660.37 1537.53 Q1664.98 1532.88 1666.16 1531.53 Q1668.4 1529.01 1669.28 1527.27 Q1670.18 1525.51 1670.18 1523.82 Q1670.18 1521.07 1668.24 1519.33 Q1666.32 1517.6 1663.22 1517.6 Q1661.02 1517.6 1658.56 1518.36 Q1656.13 1519.13 1653.35 1520.68 L1653.35 1515.95 Q1656.18 1514.82 1658.63 1514.24 Q1661.09 1513.66 1663.12 1513.66 Q1668.49 1513.66 1671.69 1516.35 Q1674.88 1519.03 1674.88 1523.52 Q1674.88 1525.65 1674.07 1527.57 Q1673.29 1529.47 1671.18 1532.07 Q1670.6 1532.74 1667.5 1535.95 Q1664.4 1539.15 1658.75 1544.91 Z\" fill=\"#000000\" fill-rule=\"nonzero\" fill-opacity=\"1\" /><path clip-path=\"url(#clip660)\" d=\"M2084.47 1518.36 L2072.67 1536.81 L2084.47 1536.81 L2084.47 1518.36 M2083.25 1514.29 L2089.13 1514.29 L2089.13 1536.81 L2094.06 1536.81 L2094.06 1540.7 L2089.13 1540.7 L2089.13 1548.85 L2084.47 1548.85 L2084.47 1540.7 L2068.87 1540.7 L2068.87 1536.19 L2083.25 1514.29 Z\" fill=\"#000000\" fill-rule=\"nonzero\" fill-opacity=\"1\" /><polyline clip-path=\"url(#clip660)\" style=\"stroke:#000000; stroke-linecap:round; stroke-linejoin:round; stroke-width:4; stroke-opacity:1; fill:none\" points=\"140.696,1486.45 140.696,47.2441 \"/>\n",
       "<polyline clip-path=\"url(#clip660)\" style=\"stroke:#000000; stroke-linecap:round; stroke-linejoin:round; stroke-width:4; stroke-opacity:1; fill:none\" points=\"140.696,1445.74 159.593,1445.74 \"/>\n",
       "<polyline clip-path=\"url(#clip660)\" style=\"stroke:#000000; stroke-linecap:round; stroke-linejoin:round; stroke-width:4; stroke-opacity:1; fill:none\" points=\"140.696,1174.19 159.593,1174.19 \"/>\n",
       "<polyline clip-path=\"url(#clip660)\" style=\"stroke:#000000; stroke-linecap:round; stroke-linejoin:round; stroke-width:4; stroke-opacity:1; fill:none\" points=\"140.696,902.637 159.593,902.637 \"/>\n",
       "<polyline clip-path=\"url(#clip660)\" style=\"stroke:#000000; stroke-linecap:round; stroke-linejoin:round; stroke-width:4; stroke-opacity:1; fill:none\" points=\"140.696,631.083 159.593,631.083 \"/>\n",
       "<polyline clip-path=\"url(#clip660)\" style=\"stroke:#000000; stroke-linecap:round; stroke-linejoin:round; stroke-width:4; stroke-opacity:1; fill:none\" points=\"140.696,359.53 159.593,359.53 \"/>\n",
       "<polyline clip-path=\"url(#clip660)\" style=\"stroke:#000000; stroke-linecap:round; stroke-linejoin:round; stroke-width:4; stroke-opacity:1; fill:none\" points=\"140.696,87.9763 159.593,87.9763 \"/>\n",
       "<path clip-path=\"url(#clip660)\" d=\"M92.7512 1431.54 Q89.1401 1431.54 87.3114 1435.11 Q85.5058 1438.65 85.5058 1445.78 Q85.5058 1452.88 87.3114 1456.45 Q89.1401 1459.99 92.7512 1459.99 Q96.3854 1459.99 98.1909 1456.45 Q100.02 1452.88 100.02 1445.78 Q100.02 1438.65 98.1909 1435.11 Q96.3854 1431.54 92.7512 1431.54 M92.7512 1427.84 Q98.5613 1427.84 101.617 1432.45 Q104.696 1437.03 104.696 1445.78 Q104.696 1454.51 101.617 1459.11 Q98.5613 1463.69 92.7512 1463.69 Q86.941 1463.69 83.8623 1459.11 Q80.8068 1454.51 80.8068 1445.78 Q80.8068 1437.03 83.8623 1432.45 Q86.941 1427.84 92.7512 1427.84 Z\" fill=\"#000000\" fill-rule=\"nonzero\" fill-opacity=\"1\" /><path clip-path=\"url(#clip660)\" d=\"M83.7929 1156.91 L102.149 1156.91 L102.149 1160.85 L88.0753 1160.85 L88.0753 1169.32 Q89.0938 1168.97 90.1123 1168.81 Q91.1308 1168.62 92.1493 1168.62 Q97.9363 1168.62 101.316 1171.79 Q104.696 1174.97 104.696 1180.38 Q104.696 1185.96 101.223 1189.06 Q97.7511 1192.14 91.4317 1192.14 Q89.2558 1192.14 86.9873 1191.77 Q84.7419 1191.4 82.3346 1190.66 L82.3346 1185.96 Q84.4179 1187.1 86.6401 1187.65 Q88.8623 1188.21 91.3391 1188.21 Q95.3437 1188.21 97.6817 1186.1 Q100.02 1183.99 100.02 1180.38 Q100.02 1176.77 97.6817 1174.66 Q95.3437 1172.56 91.3391 1172.56 Q89.4641 1172.56 87.5892 1172.97 Q85.7373 1173.39 83.7929 1174.27 L83.7929 1156.91 Z\" fill=\"#000000\" fill-rule=\"nonzero\" fill-opacity=\"1\" /><path clip-path=\"url(#clip660)\" d=\"M53.3995 915.982 L61.0384 915.982 L61.0384 889.616 L52.7282 891.283 L52.7282 887.023 L60.9921 885.357 L65.668 885.357 L65.668 915.982 L73.3068 915.982 L73.3068 919.917 L53.3995 919.917 L53.3995 915.982 Z\" fill=\"#000000\" fill-rule=\"nonzero\" fill-opacity=\"1\" /><path clip-path=\"url(#clip660)\" d=\"M92.7512 888.435 Q89.1401 888.435 87.3114 892 Q85.5058 895.542 85.5058 902.671 Q85.5058 909.778 87.3114 913.343 Q89.1401 916.884 92.7512 916.884 Q96.3854 916.884 98.1909 913.343 Q100.02 909.778 100.02 902.671 Q100.02 895.542 98.1909 892 Q96.3854 888.435 92.7512 888.435 M92.7512 884.732 Q98.5613 884.732 101.617 889.338 Q104.696 893.921 104.696 902.671 Q104.696 911.398 101.617 916.005 Q98.5613 920.588 92.7512 920.588 Q86.941 920.588 83.8623 916.005 Q80.8068 911.398 80.8068 902.671 Q80.8068 893.921 83.8623 889.338 Q86.941 884.732 92.7512 884.732 Z\" fill=\"#000000\" fill-rule=\"nonzero\" fill-opacity=\"1\" /><path clip-path=\"url(#clip660)\" d=\"M54.3949 644.428 L62.0337 644.428 L62.0337 618.062 L53.7236 619.729 L53.7236 615.47 L61.9874 613.803 L66.6633 613.803 L66.6633 644.428 L74.3022 644.428 L74.3022 648.363 L54.3949 648.363 L54.3949 644.428 Z\" fill=\"#000000\" fill-rule=\"nonzero\" fill-opacity=\"1\" /><path clip-path=\"url(#clip660)\" d=\"M83.7929 613.803 L102.149 613.803 L102.149 617.738 L88.0753 617.738 L88.0753 626.211 Q89.0938 625.863 90.1123 625.701 Q91.1308 625.516 92.1493 625.516 Q97.9363 625.516 101.316 628.687 Q104.696 631.859 104.696 637.275 Q104.696 642.854 101.223 645.956 Q97.7511 649.035 91.4317 649.035 Q89.2558 649.035 86.9873 648.664 Q84.7419 648.294 82.3346 647.553 L82.3346 642.854 Q84.4179 643.988 86.6401 644.544 Q88.8623 645.099 91.3391 645.099 Q95.3437 645.099 97.6817 642.993 Q100.02 640.886 100.02 637.275 Q100.02 633.664 97.6817 631.558 Q95.3437 629.451 91.3391 629.451 Q89.4641 629.451 87.5892 629.868 Q85.7373 630.285 83.7929 631.164 L83.7929 613.803 Z\" fill=\"#000000\" fill-rule=\"nonzero\" fill-opacity=\"1\" /><path clip-path=\"url(#clip660)\" d=\"M56.6171 372.875 L72.9365 372.875 L72.9365 376.81 L50.9921 376.81 L50.9921 372.875 Q53.6541 370.12 58.2375 365.49 Q62.8439 360.838 64.0245 359.495 Q66.2698 356.972 67.1494 355.236 Q68.0522 353.477 68.0522 351.787 Q68.0522 349.032 66.1078 347.296 Q64.1865 345.56 61.0847 345.56 Q58.8856 345.56 56.4319 346.324 Q54.0014 347.088 51.2236 348.639 L51.2236 343.916 Q54.0477 342.782 56.5014 342.203 Q58.955 341.625 60.9921 341.625 Q66.3624 341.625 69.5568 344.31 Q72.7513 346.995 72.7513 351.486 Q72.7513 353.615 71.9411 355.537 Q71.1541 357.435 69.0476 360.027 Q68.4689 360.699 65.367 363.916 Q62.2652 367.111 56.6171 372.875 Z\" fill=\"#000000\" fill-rule=\"nonzero\" fill-opacity=\"1\" /><path clip-path=\"url(#clip660)\" d=\"M92.7512 345.328 Q89.1401 345.328 87.3114 348.893 Q85.5058 352.435 85.5058 359.564 Q85.5058 366.671 87.3114 370.236 Q89.1401 373.777 92.7512 373.777 Q96.3854 373.777 98.1909 370.236 Q100.02 366.671 100.02 359.564 Q100.02 352.435 98.1909 348.893 Q96.3854 345.328 92.7512 345.328 M92.7512 341.625 Q98.5613 341.625 101.617 346.231 Q104.696 350.815 104.696 359.564 Q104.696 368.291 101.617 372.898 Q98.5613 377.481 92.7512 377.481 Q86.941 377.481 83.8623 372.898 Q80.8068 368.291 80.8068 359.564 Q80.8068 350.815 83.8623 346.231 Q86.941 341.625 92.7512 341.625 Z\" fill=\"#000000\" fill-rule=\"nonzero\" fill-opacity=\"1\" /><path clip-path=\"url(#clip660)\" d=\"M57.6125 101.321 L73.9318 101.321 L73.9318 105.256 L51.9875 105.256 L51.9875 101.321 Q54.6495 98.5665 59.2328 93.9369 Q63.8393 89.2841 65.0198 87.9416 Q67.2652 85.4184 68.1448 83.6823 Q69.0476 81.9231 69.0476 80.2333 Q69.0476 77.4786 67.1032 75.7425 Q65.1819 74.0064 62.08 74.0064 Q59.881 74.0064 57.4273 74.7703 Q54.9967 75.5342 52.219 77.0851 L52.219 72.3629 Q55.043 71.2287 57.4967 70.65 Q59.9504 70.0713 61.9874 70.0713 Q67.3578 70.0713 70.5522 72.7565 Q73.7466 75.4416 73.7466 79.9323 Q73.7466 82.062 72.9365 83.9832 Q72.1494 85.8814 70.0429 88.474 Q69.4642 89.1453 66.3624 92.3628 Q63.2606 95.5573 57.6125 101.321 Z\" fill=\"#000000\" fill-rule=\"nonzero\" fill-opacity=\"1\" /><path clip-path=\"url(#clip660)\" d=\"M83.7929 70.6963 L102.149 70.6963 L102.149 74.6314 L88.0753 74.6314 L88.0753 83.1036 Q89.0938 82.7564 90.1123 82.5944 Q91.1308 82.4092 92.1493 82.4092 Q97.9363 82.4092 101.316 85.5805 Q104.696 88.7517 104.696 94.1684 Q104.696 99.747 101.223 102.849 Q97.7511 105.928 91.4317 105.928 Q89.2558 105.928 86.9873 105.557 Q84.7419 105.187 82.3346 104.446 L82.3346 99.747 Q84.4179 100.881 86.6401 101.437 Q88.8623 101.992 91.3391 101.992 Q95.3437 101.992 97.6817 99.8859 Q100.02 97.7795 100.02 94.1684 Q100.02 90.5573 97.6817 88.4508 Q95.3437 86.3443 91.3391 86.3443 Q89.4641 86.3443 87.5892 86.761 Q85.7373 87.1777 83.7929 88.0573 L83.7929 70.6963 Z\" fill=\"#000000\" fill-rule=\"nonzero\" fill-opacity=\"1\" /><polyline clip-path=\"url(#clip662)\" style=\"stroke:#009af9; stroke-linecap:round; stroke-linejoin:round; stroke-width:4; stroke-opacity:1; fill:none\" points=\"203.301,87.9763 214.073,115.866 224.845,143.466 256.39,222.628 287.936,299.307 319.481,373.504 351.026,445.219 380.376,509.714 409.726,572.061 429.396,612.642 449.066,652.258 468.735,690.91 488.405,728.596 520.912,788.761 553.419,846.292 583.647,897.424 613.875,946.277 651.821,1004.38 689.768,1058.89 723.806,1104.73 757.844,1147.68 777.325,1170.96 796.805,1193.29 816.286,1214.68 835.767,1235.12 864.89,1263.92 894.014,1290.6 931.264,1321.64 968.513,1349.21 1002.51,1371.37 1036.51,1390.63 1055.86,1400.31 1075.2,1409.05 1094.55,1416.86 1113.9,1423.74 1144.57,1432.73 1175.24,1439.37 1213.35,1444.35 1251.46,1445.72 1280.64,1444.31 1309.83,1440.78 1330.4,1437.01 1350.97,1432.19 1371.55,1426.31 1392.12,1419.38 1422.87,1407.05 1453.61,1392.36 1488.58,1372.79 1523.55,1350.18 1558.18,1324.77 1592.81,1296.37 1630.91,1261.68 1669,1223.36 1698.1,1191.65 1727.21,1157.84 1763.93,1112.15 1800.65,1063.09 1834.62,1014.73 1868.58,963.485 1903.61,907.625 1938.64,848.704 1974.14,785.857 2009.65,719.866 2046.72,647.604 2083.8,571.913 2113,509.874 2142.21,445.707 2175.46,370.053 2208.72,291.64 2241.97,210.469 2275.23,126.539 2278.96,116.951 2282.69,107.327 2286.42,97.6691 2290.15,87.9763 \"/>\n",
       "<path clip-path=\"url(#clip660)\" d=\"M2005.38 1438.47 L2279.02 1438.47 L2279.02 1334.79 L2005.38 1334.79  Z\" fill=\"#ffffff\" fill-rule=\"evenodd\" fill-opacity=\"1\"/>\n",
       "<polyline clip-path=\"url(#clip660)\" style=\"stroke:#000000; stroke-linecap:round; stroke-linejoin:round; stroke-width:4; stroke-opacity:1; fill:none\" points=\"2005.38,1438.47 2279.02,1438.47 2279.02,1334.79 2005.38,1334.79 2005.38,1438.47 \"/>\n",
       "<polyline clip-path=\"url(#clip660)\" style=\"stroke:#009af9; stroke-linecap:round; stroke-linejoin:round; stroke-width:4; stroke-opacity:1; fill:none\" points=\"2029.96,1386.63 2177.43,1386.63 \"/>\n",
       "<path clip-path=\"url(#clip660)\" d=\"M2215.85 1406.32 Q2214.05 1410.95 2212.34 1412.36 Q2210.62 1413.78 2207.75 1413.78 L2204.35 1413.78 L2204.35 1410.21 L2206.85 1410.21 Q2208.61 1410.21 2209.58 1409.38 Q2210.55 1408.54 2211.73 1405.44 L2212.5 1403.5 L2202.01 1377.99 L2206.53 1377.99 L2214.63 1398.27 L2222.73 1377.99 L2227.24 1377.99 L2215.85 1406.32 Z\" fill=\"#000000\" fill-rule=\"nonzero\" fill-opacity=\"1\" /><path clip-path=\"url(#clip660)\" d=\"M2234.53 1399.98 L2242.17 1399.98 L2242.17 1373.61 L2233.86 1375.28 L2233.86 1371.02 L2242.13 1369.35 L2246.8 1369.35 L2246.8 1399.98 L2254.44 1399.98 L2254.44 1403.91 L2234.53 1403.91 L2234.53 1399.98 Z\" fill=\"#000000\" fill-rule=\"nonzero\" fill-opacity=\"1\" /></svg>\n"
      ]
     },
     "execution_count": 224,
     "metadata": {},
     "output_type": "execute_result"
    }
   ],
   "source": [
    "plot((x)->x^2)"
   ]
  },
  {
   "cell_type": "code",
   "execution_count": 225,
   "id": "66f92420-6d87-4684-88ea-3898879a35a3",
   "metadata": {},
   "outputs": [
    {
     "ename": "LoadError",
     "evalue": "UndefKeywordError: keyword argument `operator_type` not assigned",
     "output_type": "error",
     "traceback": [
      "UndefKeywordError: keyword argument `operator_type` not assigned",
      "",
      "Stacktrace:",
      " [1] f(x1::Int64, x2::Int64)",
      "   @ Main ./In[184]:1",
      " [2] top-level scope",
      "   @ In[225]:1"
     ]
    }
   ],
   "source": [
    "f(24)"
   ]
  },
  {
   "cell_type": "code",
   "execution_count": 229,
   "id": "023e8f60-da0c-4fb2-b2d1-b5316753466f",
   "metadata": {},
   "outputs": [
    {
     "data": {
      "text/plain": [
       "g (generic function with 1 method)"
      ]
     },
     "execution_count": 229,
     "metadata": {},
     "output_type": "execute_result"
    }
   ],
   "source": [
    "g(x) = sqrt(log(sin(exp(cos((x/5)^2)*log(x/5)+x^7))) + 1)-1/2"
   ]
  },
  {
   "cell_type": "code",
   "execution_count": 232,
   "id": "dfb16ec7-fa1f-412b-ab45-84cf34e6eca9",
   "metadata": {},
   "outputs": [
    {
     "data": {
      "image/png": "[encoded data removed]",
      "image/svg+xml": [
       "<?xml version=\"1.0\" encoding=\"utf-8\"?>\n",
       "<svg xmlns=\"http://www.w3.org/2000/svg\" xmlns:xlink=\"http://www.w3.org/1999/xlink\" width=\"600\" height=\"400\" viewBox=\"0 0 2400 1600\">\n",
       "<defs>\n",
       "  <clipPath id=\"clip880\">\n",
       "    <rect x=\"0\" y=\"0\" width=\"2400\" height=\"1600\"/>\n",
       "  </clipPath>\n",
       "</defs>\n",
       "<path clip-path=\"url(#clip880)\" d=\"M0 1600 L2400 1600 L2400 8.88178e-14 L0 8.88178e-14  Z\" fill=\"#ffffff\" fill-rule=\"evenodd\" fill-opacity=\"1\"/>\n",
       "<defs>\n",
       "  <clipPath id=\"clip881\">\n",
       "    <rect x=\"480\" y=\"0\" width=\"1681\" height=\"1600\"/>\n",
       "  </clipPath>\n",
       "</defs>\n",
       "<path clip-path=\"url(#clip880)\" d=\"M257.69 1423.18 L2352.76 1423.18 L2352.76 47.2441 L257.69 47.2441  Z\" fill=\"#ffffff\" fill-rule=\"evenodd\" fill-opacity=\"1\"/>\n",
       "<defs>\n",
       "  <clipPath id=\"clip882\">\n",
       "    <rect x=\"257\" y=\"47\" width=\"2096\" height=\"1377\"/>\n",
       "  </clipPath>\n",
       "</defs>\n",
       "<polyline clip-path=\"url(#clip882)\" style=\"stroke:#000000; stroke-linecap:round; stroke-linejoin:round; stroke-width:2; stroke-opacity:0.1; fill:none\" points=\"467.197,1423.18 467.197,47.2441 \"/>\n",
       "<polyline clip-path=\"url(#clip882)\" style=\"stroke:#000000; stroke-linecap:round; stroke-linejoin:round; stroke-width:2; stroke-opacity:0.1; fill:none\" points=\"886.21,1423.18 886.21,47.2441 \"/>\n",
       "<polyline clip-path=\"url(#clip882)\" style=\"stroke:#000000; stroke-linecap:round; stroke-linejoin:round; stroke-width:2; stroke-opacity:0.1; fill:none\" points=\"1305.22,1423.18 1305.22,47.2441 \"/>\n",
       "<polyline clip-path=\"url(#clip882)\" style=\"stroke:#000000; stroke-linecap:round; stroke-linejoin:round; stroke-width:2; stroke-opacity:0.1; fill:none\" points=\"1724.24,1423.18 1724.24,47.2441 \"/>\n",
       "<polyline clip-path=\"url(#clip882)\" style=\"stroke:#000000; stroke-linecap:round; stroke-linejoin:round; stroke-width:2; stroke-opacity:0.1; fill:none\" points=\"2143.25,1423.18 2143.25,47.2441 \"/>\n",
       "<polyline clip-path=\"url(#clip882)\" style=\"stroke:#000000; stroke-linecap:round; stroke-linejoin:round; stroke-width:2; stroke-opacity:0.1; fill:none\" points=\"257.69,1418.28 2352.76,1418.28 \"/>\n",
       "<polyline clip-path=\"url(#clip882)\" style=\"stroke:#000000; stroke-linecap:round; stroke-linejoin:round; stroke-width:2; stroke-opacity:0.1; fill:none\" points=\"257.69,1062.86 2352.76,1062.86 \"/>\n",
       "<polyline clip-path=\"url(#clip882)\" style=\"stroke:#000000; stroke-linecap:round; stroke-linejoin:round; stroke-width:2; stroke-opacity:0.1; fill:none\" points=\"257.69,707.452 2352.76,707.452 \"/>\n",
       "<polyline clip-path=\"url(#clip882)\" style=\"stroke:#000000; stroke-linecap:round; stroke-linejoin:round; stroke-width:2; stroke-opacity:0.1; fill:none\" points=\"257.69,352.04 2352.76,352.04 \"/>\n",
       "<polyline clip-path=\"url(#clip880)\" style=\"stroke:#000000; stroke-linecap:round; stroke-linejoin:round; stroke-width:4; stroke-opacity:1; fill:none\" points=\"257.69,1423.18 2352.76,1423.18 \"/>\n",
       "<polyline clip-path=\"url(#clip880)\" style=\"stroke:#000000; stroke-linecap:round; stroke-linejoin:round; stroke-width:4; stroke-opacity:1; fill:none\" points=\"467.197,1423.18 467.197,1404.28 \"/>\n",
       "<polyline clip-path=\"url(#clip880)\" style=\"stroke:#000000; stroke-linecap:round; stroke-linejoin:round; stroke-width:4; stroke-opacity:1; fill:none\" points=\"886.21,1423.18 886.21,1404.28 \"/>\n",
       "<polyline clip-path=\"url(#clip880)\" style=\"stroke:#000000; stroke-linecap:round; stroke-linejoin:round; stroke-width:4; stroke-opacity:1; fill:none\" points=\"1305.22,1423.18 1305.22,1404.28 \"/>\n",
       "<polyline clip-path=\"url(#clip880)\" style=\"stroke:#000000; stroke-linecap:round; stroke-linejoin:round; stroke-width:4; stroke-opacity:1; fill:none\" points=\"1724.24,1423.18 1724.24,1404.28 \"/>\n",
       "<polyline clip-path=\"url(#clip880)\" style=\"stroke:#000000; stroke-linecap:round; stroke-linejoin:round; stroke-width:4; stroke-opacity:1; fill:none\" points=\"2143.25,1423.18 2143.25,1404.28 \"/>\n",
       "<path clip-path=\"url(#clip880)\" d=\"M429.419 1454.1 Q425.808 1454.1 423.979 1457.66 Q422.174 1461.2 422.174 1468.33 Q422.174 1475.44 423.979 1479.01 Q425.808 1482.55 429.419 1482.55 Q433.053 1482.55 434.859 1479.01 Q436.688 1475.44 436.688 1468.33 Q436.688 1461.2 434.859 1457.66 Q433.053 1454.1 429.419 1454.1 M429.419 1450.39 Q435.229 1450.39 438.285 1455 Q441.364 1459.58 441.364 1468.33 Q441.364 1477.06 438.285 1481.67 Q435.229 1486.25 429.419 1486.25 Q423.609 1486.25 420.53 1481.67 Q417.475 1477.06 417.475 1468.33 Q417.475 1459.58 420.53 1455 Q423.609 1450.39 429.419 1450.39 Z\" fill=\"#000000\" fill-rule=\"nonzero\" fill-opacity=\"1\" /><path clip-path=\"url(#clip880)\" d=\"M449.581 1479.7 L454.465 1479.7 L454.465 1485.58 L449.581 1485.58 L449.581 1479.7 Z\" fill=\"#000000\" fill-rule=\"nonzero\" fill-opacity=\"1\" /><path clip-path=\"url(#clip880)\" d=\"M464.789 1484.86 L464.789 1480.6 Q466.549 1481.44 468.354 1481.88 Q470.16 1482.32 471.896 1482.32 Q476.525 1482.32 478.956 1479.21 Q481.41 1476.09 481.757 1469.75 Q480.414 1471.74 478.354 1472.8 Q476.294 1473.87 473.794 1473.87 Q468.609 1473.87 465.576 1470.74 Q462.567 1467.59 462.567 1462.15 Q462.567 1456.83 465.715 1453.61 Q468.863 1450.39 474.095 1450.39 Q480.09 1450.39 483.238 1455 Q486.41 1459.58 486.41 1468.33 Q486.41 1476.51 482.521 1481.39 Q478.655 1486.25 472.104 1486.25 Q470.345 1486.25 468.539 1485.9 Q466.734 1485.56 464.789 1484.86 M474.095 1470.21 Q477.243 1470.21 479.072 1468.06 Q480.923 1465.9 480.923 1462.15 Q480.923 1458.43 479.072 1456.27 Q477.243 1454.1 474.095 1454.1 Q470.947 1454.1 469.095 1456.27 Q467.266 1458.43 467.266 1462.15 Q467.266 1465.9 469.095 1468.06 Q470.947 1470.21 474.095 1470.21 Z\" fill=\"#000000\" fill-rule=\"nonzero\" fill-opacity=\"1\" /><path clip-path=\"url(#clip880)\" d=\"M505.391 1466.44 Q502.243 1466.44 500.391 1468.59 Q498.562 1470.74 498.562 1474.49 Q498.562 1478.22 500.391 1480.39 Q502.243 1482.55 505.391 1482.55 Q508.539 1482.55 510.368 1480.39 Q512.22 1478.22 512.22 1474.49 Q512.22 1470.74 510.368 1468.59 Q508.539 1466.44 505.391 1466.44 M514.673 1451.78 L514.673 1456.04 Q512.914 1455.21 511.109 1454.77 Q509.326 1454.33 507.567 1454.33 Q502.937 1454.33 500.484 1457.45 Q498.053 1460.58 497.706 1466.9 Q499.072 1464.89 501.132 1463.82 Q503.192 1462.73 505.669 1462.73 Q510.877 1462.73 513.886 1465.9 Q516.919 1469.05 516.919 1474.49 Q516.919 1479.82 513.771 1483.03 Q510.622 1486.25 505.391 1486.25 Q499.396 1486.25 496.224 1481.67 Q493.053 1477.06 493.053 1468.33 Q493.053 1460.14 496.942 1455.28 Q500.831 1450.39 507.382 1450.39 Q509.141 1450.39 510.923 1450.74 Q512.729 1451.09 514.673 1451.78 Z\" fill=\"#000000\" fill-rule=\"nonzero\" fill-opacity=\"1\" /><path clip-path=\"url(#clip880)\" d=\"M848.56 1454.1 Q844.949 1454.1 843.12 1457.66 Q841.314 1461.2 841.314 1468.33 Q841.314 1475.44 843.12 1479.01 Q844.949 1482.55 848.56 1482.55 Q852.194 1482.55 853.999 1479.01 Q855.828 1475.44 855.828 1468.33 Q855.828 1461.2 853.999 1457.66 Q852.194 1454.1 848.56 1454.1 M848.56 1450.39 Q854.37 1450.39 857.425 1455 Q860.504 1459.58 860.504 1468.33 Q860.504 1477.06 857.425 1481.67 Q854.37 1486.25 848.56 1486.25 Q842.749 1486.25 839.671 1481.67 Q836.615 1477.06 836.615 1468.33 Q836.615 1459.58 839.671 1455 Q842.749 1450.39 848.56 1450.39 Z\" fill=\"#000000\" fill-rule=\"nonzero\" fill-opacity=\"1\" /><path clip-path=\"url(#clip880)\" d=\"M868.722 1479.7 L873.606 1479.7 L873.606 1485.58 L868.722 1485.58 L868.722 1479.7 Z\" fill=\"#000000\" fill-rule=\"nonzero\" fill-opacity=\"1\" /><path clip-path=\"url(#clip880)\" d=\"M883.93 1484.86 L883.93 1480.6 Q885.689 1481.44 887.495 1481.88 Q889.3 1482.32 891.036 1482.32 Q895.666 1482.32 898.096 1479.21 Q900.55 1476.09 900.897 1469.75 Q899.555 1471.74 897.495 1472.8 Q895.434 1473.87 892.934 1473.87 Q887.749 1473.87 884.717 1470.74 Q881.708 1467.59 881.708 1462.15 Q881.708 1456.83 884.856 1453.61 Q888.004 1450.39 893.235 1450.39 Q899.231 1450.39 902.379 1455 Q905.55 1459.58 905.55 1468.33 Q905.55 1476.51 901.661 1481.39 Q897.795 1486.25 891.245 1486.25 Q889.485 1486.25 887.68 1485.9 Q885.874 1485.56 883.93 1484.86 M893.235 1470.21 Q896.383 1470.21 898.212 1468.06 Q900.064 1465.9 900.064 1462.15 Q900.064 1458.43 898.212 1456.27 Q896.383 1454.1 893.235 1454.1 Q890.087 1454.1 888.235 1456.27 Q886.407 1458.43 886.407 1462.15 Q886.407 1465.9 888.235 1468.06 Q890.087 1470.21 893.235 1470.21 Z\" fill=\"#000000\" fill-rule=\"nonzero\" fill-opacity=\"1\" /><path clip-path=\"url(#clip880)\" d=\"M923.953 1469.17 Q920.619 1469.17 918.698 1470.95 Q916.8 1472.73 916.8 1475.86 Q916.8 1478.98 918.698 1480.77 Q920.619 1482.55 923.953 1482.55 Q927.286 1482.55 929.207 1480.77 Q931.129 1478.96 931.129 1475.86 Q931.129 1472.73 929.207 1470.95 Q927.309 1469.17 923.953 1469.17 M919.277 1467.18 Q916.268 1466.44 914.578 1464.38 Q912.911 1462.32 912.911 1459.35 Q912.911 1455.21 915.851 1452.8 Q918.814 1450.39 923.953 1450.39 Q929.115 1450.39 932.055 1452.8 Q934.994 1455.21 934.994 1459.35 Q934.994 1462.32 933.305 1464.38 Q931.638 1466.44 928.652 1467.18 Q932.031 1467.96 933.906 1470.26 Q935.805 1472.55 935.805 1475.86 Q935.805 1480.88 932.726 1483.57 Q929.67 1486.25 923.953 1486.25 Q918.235 1486.25 915.156 1483.57 Q912.101 1480.88 912.101 1475.86 Q912.101 1472.55 913.999 1470.26 Q915.897 1467.96 919.277 1467.18 M917.564 1459.79 Q917.564 1462.48 919.231 1463.98 Q920.92 1465.49 923.953 1465.49 Q926.962 1465.49 928.652 1463.98 Q930.365 1462.48 930.365 1459.79 Q930.365 1457.11 928.652 1455.6 Q926.962 1454.1 923.953 1454.1 Q920.92 1454.1 919.231 1455.6 Q917.564 1457.11 917.564 1459.79 Z\" fill=\"#000000\" fill-rule=\"nonzero\" fill-opacity=\"1\" /><path clip-path=\"url(#clip880)\" d=\"M1257.3 1481.64 L1264.93 1481.64 L1264.93 1455.28 L1256.62 1456.95 L1256.62 1452.69 L1264.89 1451.02 L1269.56 1451.02 L1269.56 1481.64 L1277.2 1481.64 L1277.2 1485.58 L1257.3 1485.58 L1257.3 1481.64 Z\" fill=\"#000000\" fill-rule=\"nonzero\" fill-opacity=\"1\" /><path clip-path=\"url(#clip880)\" d=\"M1286.65 1479.7 L1291.53 1479.7 L1291.53 1485.58 L1286.65 1485.58 L1286.65 1479.7 Z\" fill=\"#000000\" fill-rule=\"nonzero\" fill-opacity=\"1\" /><path clip-path=\"url(#clip880)\" d=\"M1311.72 1454.1 Q1308.1 1454.1 1306.28 1457.66 Q1304.47 1461.2 1304.47 1468.33 Q1304.47 1475.44 1306.28 1479.01 Q1308.1 1482.55 1311.72 1482.55 Q1315.35 1482.55 1317.16 1479.01 Q1318.98 1475.44 1318.98 1468.33 Q1318.98 1461.2 1317.16 1457.66 Q1315.35 1454.1 1311.72 1454.1 M1311.72 1450.39 Q1317.53 1450.39 1320.58 1455 Q1323.66 1459.58 1323.66 1468.33 Q1323.66 1477.06 1320.58 1481.67 Q1317.53 1486.25 1311.72 1486.25 Q1305.91 1486.25 1302.83 1481.67 Q1299.77 1477.06 1299.77 1468.33 Q1299.77 1459.58 1302.83 1455 Q1305.91 1450.39 1311.72 1450.39 Z\" fill=\"#000000\" fill-rule=\"nonzero\" fill-opacity=\"1\" /><path clip-path=\"url(#clip880)\" d=\"M1341.88 1454.1 Q1338.27 1454.1 1336.44 1457.66 Q1334.63 1461.2 1334.63 1468.33 Q1334.63 1475.44 1336.44 1479.01 Q1338.27 1482.55 1341.88 1482.55 Q1345.51 1482.55 1347.32 1479.01 Q1349.15 1475.44 1349.15 1468.33 Q1349.15 1461.2 1347.32 1457.66 Q1345.51 1454.1 1341.88 1454.1 M1341.88 1450.39 Q1347.69 1450.39 1350.74 1455 Q1353.82 1459.58 1353.82 1468.33 Q1353.82 1477.06 1350.74 1481.67 Q1347.69 1486.25 1341.88 1486.25 Q1336.07 1486.25 1332.99 1481.67 Q1329.93 1477.06 1329.93 1468.33 Q1329.93 1459.58 1332.99 1455 Q1336.07 1450.39 1341.88 1450.39 Z\" fill=\"#000000\" fill-rule=\"nonzero\" fill-opacity=\"1\" /><path clip-path=\"url(#clip880)\" d=\"M1677.11 1481.64 L1684.75 1481.64 L1684.75 1455.28 L1676.44 1456.95 L1676.44 1452.69 L1684.7 1451.02 L1689.38 1451.02 L1689.38 1481.64 L1697.01 1481.64 L1697.01 1485.58 L1677.11 1485.58 L1677.11 1481.64 Z\" fill=\"#000000\" fill-rule=\"nonzero\" fill-opacity=\"1\" /><path clip-path=\"url(#clip880)\" d=\"M1706.46 1479.7 L1711.34 1479.7 L1711.34 1485.58 L1706.46 1485.58 L1706.46 1479.7 Z\" fill=\"#000000\" fill-rule=\"nonzero\" fill-opacity=\"1\" /><path clip-path=\"url(#clip880)\" d=\"M1731.53 1454.1 Q1727.92 1454.1 1726.09 1457.66 Q1724.28 1461.2 1724.28 1468.33 Q1724.28 1475.44 1726.09 1479.01 Q1727.92 1482.55 1731.53 1482.55 Q1735.16 1482.55 1736.97 1479.01 Q1738.8 1475.44 1738.8 1468.33 Q1738.8 1461.2 1736.97 1457.66 Q1735.16 1454.1 1731.53 1454.1 M1731.53 1450.39 Q1737.34 1450.39 1740.39 1455 Q1743.47 1459.58 1743.47 1468.33 Q1743.47 1477.06 1740.39 1481.67 Q1737.34 1486.25 1731.53 1486.25 Q1725.72 1486.25 1722.64 1481.67 Q1719.58 1477.06 1719.58 1468.33 Q1719.58 1459.58 1722.64 1455 Q1725.72 1450.39 1731.53 1450.39 Z\" fill=\"#000000\" fill-rule=\"nonzero\" fill-opacity=\"1\" /><path clip-path=\"url(#clip880)\" d=\"M1755.72 1481.64 L1772.04 1481.64 L1772.04 1485.58 L1750.09 1485.58 L1750.09 1481.64 Q1752.75 1478.89 1757.34 1474.26 Q1761.94 1469.61 1763.12 1468.27 Q1765.37 1465.74 1766.25 1464.01 Q1767.15 1462.25 1767.15 1460.56 Q1767.15 1457.8 1765.21 1456.07 Q1763.29 1454.33 1760.19 1454.33 Q1757.99 1454.33 1755.53 1455.09 Q1753.1 1455.86 1750.32 1457.41 L1750.32 1452.69 Q1753.15 1451.55 1755.6 1450.97 Q1758.06 1450.39 1760.09 1450.39 Q1765.46 1450.39 1768.66 1453.08 Q1771.85 1455.77 1771.85 1460.26 Q1771.85 1462.39 1771.04 1464.31 Q1770.25 1466.2 1768.15 1468.8 Q1767.57 1469.47 1764.47 1472.69 Q1761.37 1475.88 1755.72 1481.64 Z\" fill=\"#000000\" fill-rule=\"nonzero\" fill-opacity=\"1\" /><path clip-path=\"url(#clip880)\" d=\"M2095.08 1481.64 L2102.72 1481.64 L2102.72 1455.28 L2094.41 1456.95 L2094.41 1452.69 L2102.67 1451.02 L2107.35 1451.02 L2107.35 1481.64 L2114.99 1481.64 L2114.99 1485.58 L2095.08 1485.58 L2095.08 1481.64 Z\" fill=\"#000000\" fill-rule=\"nonzero\" fill-opacity=\"1\" /><path clip-path=\"url(#clip880)\" d=\"M2124.43 1479.7 L2129.31 1479.7 L2129.31 1485.58 L2124.43 1485.58 L2124.43 1479.7 Z\" fill=\"#000000\" fill-rule=\"nonzero\" fill-opacity=\"1\" /><path clip-path=\"url(#clip880)\" d=\"M2149.5 1454.1 Q2145.89 1454.1 2144.06 1457.66 Q2142.25 1461.2 2142.25 1468.33 Q2142.25 1475.44 2144.06 1479.01 Q2145.89 1482.55 2149.5 1482.55 Q2153.13 1482.55 2154.94 1479.01 Q2156.77 1475.44 2156.77 1468.33 Q2156.77 1461.2 2154.94 1457.66 Q2153.13 1454.1 2149.5 1454.1 M2149.5 1450.39 Q2155.31 1450.39 2158.36 1455 Q2161.44 1459.58 2161.44 1468.33 Q2161.44 1477.06 2158.36 1481.67 Q2155.31 1486.25 2149.5 1486.25 Q2143.69 1486.25 2140.61 1481.67 Q2137.55 1477.06 2137.55 1468.33 Q2137.55 1459.58 2140.61 1455 Q2143.69 1450.39 2149.5 1450.39 Z\" fill=\"#000000\" fill-rule=\"nonzero\" fill-opacity=\"1\" /><path clip-path=\"url(#clip880)\" d=\"M2182.51 1455.09 L2170.7 1473.54 L2182.51 1473.54 L2182.51 1455.09 M2181.28 1451.02 L2187.16 1451.02 L2187.16 1473.54 L2192.09 1473.54 L2192.09 1477.43 L2187.16 1477.43 L2187.16 1485.58 L2182.51 1485.58 L2182.51 1477.43 L2166.91 1477.43 L2166.91 1472.92 L2181.28 1451.02 Z\" fill=\"#000000\" fill-rule=\"nonzero\" fill-opacity=\"1\" /><path clip-path=\"url(#clip880)\" d=\"M1321.84 1532.4 L1308.95 1549.74 L1322.51 1568.04 L1315.6 1568.04 L1305.22 1554.04 L1294.85 1568.04 L1287.94 1568.04 L1301.79 1549.39 L1289.12 1532.4 L1296.02 1532.4 L1305.48 1545.1 L1314.93 1532.4 L1321.84 1532.4 Z\" fill=\"#000000\" fill-rule=\"nonzero\" fill-opacity=\"1\" /><polyline clip-path=\"url(#clip880)\" style=\"stroke:#000000; stroke-linecap:round; stroke-linejoin:round; stroke-width:4; stroke-opacity:1; fill:none\" points=\"257.69,1423.18 257.69,47.2441 \"/>\n",
       "<polyline clip-path=\"url(#clip880)\" style=\"stroke:#000000; stroke-linecap:round; stroke-linejoin:round; stroke-width:4; stroke-opacity:1; fill:none\" points=\"257.69,1418.28 276.588,1418.28 \"/>\n",
       "<polyline clip-path=\"url(#clip880)\" style=\"stroke:#000000; stroke-linecap:round; stroke-linejoin:round; stroke-width:4; stroke-opacity:1; fill:none\" points=\"257.69,1062.86 276.588,1062.86 \"/>\n",
       "<polyline clip-path=\"url(#clip880)\" style=\"stroke:#000000; stroke-linecap:round; stroke-linejoin:round; stroke-width:4; stroke-opacity:1; fill:none\" points=\"257.69,707.452 276.588,707.452 \"/>\n",
       "<polyline clip-path=\"url(#clip880)\" style=\"stroke:#000000; stroke-linecap:round; stroke-linejoin:round; stroke-width:4; stroke-opacity:1; fill:none\" points=\"257.69,352.04 276.588,352.04 \"/>\n",
       "<path clip-path=\"url(#clip880)\" d=\"M114.26 1418.73 L143.936 1418.73 L143.936 1422.66 L114.26 1422.66 L114.26 1418.73 Z\" fill=\"#000000\" fill-rule=\"nonzero\" fill-opacity=\"1\" /><path clip-path=\"url(#clip880)\" d=\"M164.028 1404.08 Q160.417 1404.08 158.589 1407.64 Q156.783 1411.18 156.783 1418.31 Q156.783 1425.42 158.589 1428.98 Q160.417 1432.52 164.028 1432.52 Q167.663 1432.52 169.468 1428.98 Q171.297 1425.42 171.297 1418.31 Q171.297 1411.18 169.468 1407.64 Q167.663 1404.08 164.028 1404.08 M164.028 1400.37 Q169.839 1400.37 172.894 1404.98 Q175.973 1409.56 175.973 1418.31 Q175.973 1427.04 172.894 1431.64 Q169.839 1436.23 164.028 1436.23 Q158.218 1436.23 155.14 1431.64 Q152.084 1427.04 152.084 1418.31 Q152.084 1409.56 155.14 1404.98 Q158.218 1400.37 164.028 1400.37 Z\" fill=\"#000000\" fill-rule=\"nonzero\" fill-opacity=\"1\" /><path clip-path=\"url(#clip880)\" d=\"M184.19 1429.68 L189.075 1429.68 L189.075 1435.56 L184.19 1435.56 L184.19 1429.68 Z\" fill=\"#000000\" fill-rule=\"nonzero\" fill-opacity=\"1\" /><path clip-path=\"url(#clip880)\" d=\"M212.107 1405.07 L200.301 1423.52 L212.107 1423.52 L212.107 1405.07 M210.88 1401 L216.76 1401 L216.76 1423.52 L221.69 1423.52 L221.69 1427.41 L216.76 1427.41 L216.76 1435.56 L212.107 1435.56 L212.107 1427.41 L196.505 1427.41 L196.505 1422.89 L210.88 1401 Z\" fill=\"#000000\" fill-rule=\"nonzero\" fill-opacity=\"1\" /><path clip-path=\"url(#clip880)\" d=\"M116.343 1063.32 L146.019 1063.32 L146.019 1067.25 L116.343 1067.25 L116.343 1063.32 Z\" fill=\"#000000\" fill-rule=\"nonzero\" fill-opacity=\"1\" /><path clip-path=\"url(#clip880)\" d=\"M166.112 1048.66 Q162.501 1048.66 160.672 1052.23 Q158.866 1055.77 158.866 1062.9 Q158.866 1070.01 160.672 1073.57 Q162.501 1077.11 166.112 1077.11 Q169.746 1077.11 171.552 1073.57 Q173.38 1070.01 173.38 1062.9 Q173.38 1055.77 171.552 1052.23 Q169.746 1048.66 166.112 1048.66 M166.112 1044.96 Q171.922 1044.96 174.977 1049.57 Q178.056 1054.15 178.056 1062.9 Q178.056 1071.63 174.977 1076.23 Q171.922 1080.82 166.112 1080.82 Q160.302 1080.82 157.223 1076.23 Q154.167 1071.63 154.167 1062.9 Q154.167 1054.15 157.223 1049.57 Q160.302 1044.96 166.112 1044.96 Z\" fill=\"#000000\" fill-rule=\"nonzero\" fill-opacity=\"1\" /><path clip-path=\"url(#clip880)\" d=\"M186.274 1074.26 L191.158 1074.26 L191.158 1080.14 L186.274 1080.14 L186.274 1074.26 Z\" fill=\"#000000\" fill-rule=\"nonzero\" fill-opacity=\"1\" /><path clip-path=\"url(#clip880)\" d=\"M205.371 1076.21 L221.69 1076.21 L221.69 1080.14 L199.746 1080.14 L199.746 1076.21 Q202.408 1073.45 206.991 1068.83 Q211.598 1064.17 212.778 1062.83 Q215.024 1060.31 215.903 1058.57 Q216.806 1056.81 216.806 1055.12 Q216.806 1052.37 214.861 1050.63 Q212.94 1048.89 209.838 1048.89 Q207.639 1048.89 205.186 1049.66 Q202.755 1050.42 199.977 1051.97 L199.977 1047.25 Q202.801 1046.12 205.255 1045.54 Q207.709 1044.96 209.746 1044.96 Q215.116 1044.96 218.311 1047.64 Q221.505 1050.33 221.505 1054.82 Q221.505 1056.95 220.695 1058.87 Q219.908 1060.77 217.801 1063.36 Q217.223 1064.03 214.121 1067.25 Q211.019 1070.45 205.371 1076.21 Z\" fill=\"#000000\" fill-rule=\"nonzero\" fill-opacity=\"1\" /><path clip-path=\"url(#clip880)\" d=\"M164.515 693.251 Q160.903 693.251 159.075 696.816 Q157.269 700.358 157.269 707.487 Q157.269 714.594 159.075 718.158 Q160.903 721.7 164.515 721.7 Q168.149 721.7 169.954 718.158 Q171.783 714.594 171.783 707.487 Q171.783 700.358 169.954 696.816 Q168.149 693.251 164.515 693.251 M164.515 689.547 Q170.325 689.547 173.38 694.154 Q176.459 698.737 176.459 707.487 Q176.459 716.214 173.38 720.82 Q170.325 725.404 164.515 725.404 Q158.704 725.404 155.626 720.82 Q152.57 716.214 152.57 707.487 Q152.57 698.737 155.626 694.154 Q158.704 689.547 164.515 689.547 Z\" fill=\"#000000\" fill-rule=\"nonzero\" fill-opacity=\"1\" /><path clip-path=\"url(#clip880)\" d=\"M184.676 718.853 L189.561 718.853 L189.561 724.732 L184.676 724.732 L184.676 718.853 Z\" fill=\"#000000\" fill-rule=\"nonzero\" fill-opacity=\"1\" /><path clip-path=\"url(#clip880)\" d=\"M209.746 693.251 Q206.135 693.251 204.306 696.816 Q202.5 700.358 202.5 707.487 Q202.5 714.594 204.306 718.158 Q206.135 721.7 209.746 721.7 Q213.38 721.7 215.186 718.158 Q217.014 714.594 217.014 707.487 Q217.014 700.358 215.186 696.816 Q213.38 693.251 209.746 693.251 M209.746 689.547 Q215.556 689.547 218.611 694.154 Q221.69 698.737 221.69 707.487 Q221.69 716.214 218.611 720.82 Q215.556 725.404 209.746 725.404 Q203.936 725.404 200.857 720.82 Q197.801 716.214 197.801 707.487 Q197.801 698.737 200.857 694.154 Q203.936 689.547 209.746 689.547 Z\" fill=\"#000000\" fill-rule=\"nonzero\" fill-opacity=\"1\" /><path clip-path=\"url(#clip880)\" d=\"M166.112 337.839 Q162.501 337.839 160.672 341.404 Q158.866 344.945 158.866 352.075 Q158.866 359.181 160.672 362.746 Q162.501 366.288 166.112 366.288 Q169.746 366.288 171.552 362.746 Q173.38 359.181 173.38 352.075 Q173.38 344.945 171.552 341.404 Q169.746 337.839 166.112 337.839 M166.112 334.135 Q171.922 334.135 174.977 338.742 Q178.056 343.325 178.056 352.075 Q178.056 360.802 174.977 365.408 Q171.922 369.992 166.112 369.992 Q160.302 369.992 157.223 365.408 Q154.167 360.802 154.167 352.075 Q154.167 343.325 157.223 338.742 Q160.302 334.135 166.112 334.135 Z\" fill=\"#000000\" fill-rule=\"nonzero\" fill-opacity=\"1\" /><path clip-path=\"url(#clip880)\" d=\"M186.274 363.441 L191.158 363.441 L191.158 369.32 L186.274 369.32 L186.274 363.441 Z\" fill=\"#000000\" fill-rule=\"nonzero\" fill-opacity=\"1\" /><path clip-path=\"url(#clip880)\" d=\"M205.371 365.385 L221.69 365.385 L221.69 369.32 L199.746 369.32 L199.746 365.385 Q202.408 362.631 206.991 358.001 Q211.598 353.348 212.778 352.006 Q215.024 349.482 215.903 347.746 Q216.806 345.987 216.806 344.297 Q216.806 341.543 214.861 339.807 Q212.94 338.07 209.838 338.07 Q207.639 338.07 205.186 338.834 Q202.755 339.598 199.977 341.149 L199.977 336.427 Q202.801 335.293 205.255 334.714 Q207.709 334.135 209.746 334.135 Q215.116 334.135 218.311 336.82 Q221.505 339.506 221.505 343.996 Q221.505 346.126 220.695 348.047 Q219.908 349.945 217.801 352.538 Q217.223 353.209 214.121 356.427 Q211.019 359.621 205.371 365.385 Z\" fill=\"#000000\" fill-rule=\"nonzero\" fill-opacity=\"1\" /><path clip-path=\"url(#clip880)\" d=\"M14.479 765.163 L19.3487 765.163 L19.3487 770.764 Q19.3487 773.915 20.6219 775.157 Q21.895 776.366 25.2052 776.366 L28.3562 776.366 L28.3562 766.722 L32.9077 766.722 L32.9077 776.366 L64.0042 776.366 L64.0042 782.255 L32.9077 782.255 L32.9077 787.856 L28.3562 787.856 L28.3562 782.255 L25.8736 782.255 Q19.9216 782.255 17.2162 779.485 Q14.479 776.716 14.479 770.701 L14.479 765.163 Z\" fill=\"#000000\" fill-rule=\"nonzero\" fill-opacity=\"1\" /><path clip-path=\"url(#clip880)\" d=\"M14.5426 746.193 Q21.8632 750.458 29.0246 752.527 Q36.186 754.596 43.5384 754.596 Q50.8908 754.596 58.1159 752.527 Q65.3091 750.426 72.5979 746.193 L72.5979 751.285 Q65.1182 756.06 57.8931 758.447 Q50.668 760.802 43.5384 760.802 Q36.4406 760.802 29.2474 758.447 Q22.0542 756.091 14.5426 751.285 L14.5426 746.193 Z\" fill=\"#000000\" fill-rule=\"nonzero\" fill-opacity=\"1\" /><path clip-path=\"url(#clip880)\" d=\"M28.3562 705.198 L45.7028 718.088 L64.0042 704.529 L64.0042 711.436 L49.9996 721.812 L64.0042 732.188 L64.0042 739.095 L45.3526 725.25 L28.3562 737.917 L28.3562 731.011 L41.0558 721.558 L28.3562 712.104 L28.3562 705.198 Z\" fill=\"#000000\" fill-rule=\"nonzero\" fill-opacity=\"1\" /><path clip-path=\"url(#clip880)\" d=\"M14.5426 697.177 L14.5426 692.084 Q22.0542 687.31 29.2474 684.955 Q36.4406 682.568 43.5384 682.568 Q50.668 682.568 57.8931 684.955 Q65.1182 687.31 72.5979 692.084 L72.5979 697.177 Q65.3091 692.944 58.1159 690.875 Q50.8908 688.774 43.5384 688.774 Q36.186 688.774 29.0246 690.875 Q21.8632 692.944 14.5426 697.177 Z\" fill=\"#000000\" fill-rule=\"nonzero\" fill-opacity=\"1\" /><polyline clip-path=\"url(#clip882)\" style=\"stroke:#009af9; stroke-linecap:round; stroke-linejoin:round; stroke-width:4; stroke-opacity:1; fill:none\" points=\"257.69,1384.24 263.097,1373.17 268.505,1362.62 273.912,1352.51 279.319,1342.79 295.154,1316.22 310.989,1291.88 326.823,1269.28 342.658,1248.08 358.493,1228.03 374.328,1208.96 390.162,1190.72 405.997,1173.22 435.462,1142.3 464.928,1113.19 504.422,1076.48 543.917,1041.92 576.552,1014.72 609.186,988.569 639.533,965.079 669.88,942.297 746.072,887.776 814.417,841.59 892.646,791.295 951.123,755.212 1025.92,710.673 1094.18,671.404 1171.87,628.112 1233.46,594.737 1309.98,554.319 1368.57,524.08 1451.19,482.412 1512.93,451.959 1583.14,417.991 1652.67,385.011 1729.16,349.45 1787.59,322.778 1861.33,289.713 1929.53,259.71 1999.86,229.345 2071.15,199.17 2145.59,168.318 2204.23,144.499 2337.77,91.9314 2352.76,86.1857 \"/>\n",
       "</svg>\n"
      ],
      "text/html": [
       "<?xml version=\"1.0\" encoding=\"utf-8\"?>\n",
       "<svg xmlns=\"http://www.w3.org/2000/svg\" xmlns:xlink=\"http://www.w3.org/1999/xlink\" width=\"600\" height=\"400\" viewBox=\"0 0 2400 1600\">\n",
       "<defs>\n",
       "  <clipPath id=\"clip930\">\n",
       "    <rect x=\"0\" y=\"0\" width=\"2400\" height=\"1600\"/>\n",
       "  </clipPath>\n",
       "</defs>\n",
       "<path clip-path=\"url(#clip930)\" d=\"M0 1600 L2400 1600 L2400 8.88178e-14 L0 8.88178e-14  Z\" fill=\"#ffffff\" fill-rule=\"evenodd\" fill-opacity=\"1\"/>\n",
       "<defs>\n",
       "  <clipPath id=\"clip931\">\n",
       "    <rect x=\"480\" y=\"0\" width=\"1681\" height=\"1600\"/>\n",
       "  </clipPath>\n",
       "</defs>\n",
       "<path clip-path=\"url(#clip930)\" d=\"M257.69 1423.18 L2352.76 1423.18 L2352.76 47.2441 L257.69 47.2441  Z\" fill=\"#ffffff\" fill-rule=\"evenodd\" fill-opacity=\"1\"/>\n",
       "<defs>\n",
       "  <clipPath id=\"clip932\">\n",
       "    <rect x=\"257\" y=\"47\" width=\"2096\" height=\"1377\"/>\n",
       "  </clipPath>\n",
       "</defs>\n",
       "<polyline clip-path=\"url(#clip932)\" style=\"stroke:#000000; stroke-linecap:round; stroke-linejoin:round; stroke-width:2; stroke-opacity:0.1; fill:none\" points=\"467.197,1423.18 467.197,47.2441 \"/>\n",
       "<polyline clip-path=\"url(#clip932)\" style=\"stroke:#000000; stroke-linecap:round; stroke-linejoin:round; stroke-width:2; stroke-opacity:0.1; fill:none\" points=\"886.21,1423.18 886.21,47.2441 \"/>\n",
       "<polyline clip-path=\"url(#clip932)\" style=\"stroke:#000000; stroke-linecap:round; stroke-linejoin:round; stroke-width:2; stroke-opacity:0.1; fill:none\" points=\"1305.22,1423.18 1305.22,47.2441 \"/>\n",
       "<polyline clip-path=\"url(#clip932)\" style=\"stroke:#000000; stroke-linecap:round; stroke-linejoin:round; stroke-width:2; stroke-opacity:0.1; fill:none\" points=\"1724.24,1423.18 1724.24,47.2441 \"/>\n",
       "<polyline clip-path=\"url(#clip932)\" style=\"stroke:#000000; stroke-linecap:round; stroke-linejoin:round; stroke-width:2; stroke-opacity:0.1; fill:none\" points=\"2143.25,1423.18 2143.25,47.2441 \"/>\n",
       "<polyline clip-path=\"url(#clip932)\" style=\"stroke:#000000; stroke-linecap:round; stroke-linejoin:round; stroke-width:2; stroke-opacity:0.1; fill:none\" points=\"257.69,1418.28 2352.76,1418.28 \"/>\n",
       "<polyline clip-path=\"url(#clip932)\" style=\"stroke:#000000; stroke-linecap:round; stroke-linejoin:round; stroke-width:2; stroke-opacity:0.1; fill:none\" points=\"257.69,1062.86 2352.76,1062.86 \"/>\n",
       "<polyline clip-path=\"url(#clip932)\" style=\"stroke:#000000; stroke-linecap:round; stroke-linejoin:round; stroke-width:2; stroke-opacity:0.1; fill:none\" points=\"257.69,707.452 2352.76,707.452 \"/>\n",
       "<polyline clip-path=\"url(#clip932)\" style=\"stroke:#000000; stroke-linecap:round; stroke-linejoin:round; stroke-width:2; stroke-opacity:0.1; fill:none\" points=\"257.69,352.04 2352.76,352.04 \"/>\n",
       "<polyline clip-path=\"url(#clip930)\" style=\"stroke:#000000; stroke-linecap:round; stroke-linejoin:round; stroke-width:4; stroke-opacity:1; fill:none\" points=\"257.69,1423.18 2352.76,1423.18 \"/>\n",
       "<polyline clip-path=\"url(#clip930)\" style=\"stroke:#000000; stroke-linecap:round; stroke-linejoin:round; stroke-width:4; stroke-opacity:1; fill:none\" points=\"467.197,1423.18 467.197,1404.28 \"/>\n",
       "<polyline clip-path=\"url(#clip930)\" style=\"stroke:#000000; stroke-linecap:round; stroke-linejoin:round; stroke-width:4; stroke-opacity:1; fill:none\" points=\"886.21,1423.18 886.21,1404.28 \"/>\n",
       "<polyline clip-path=\"url(#clip930)\" style=\"stroke:#000000; stroke-linecap:round; stroke-linejoin:round; stroke-width:4; stroke-opacity:1; fill:none\" points=\"1305.22,1423.18 1305.22,1404.28 \"/>\n",
       "<polyline clip-path=\"url(#clip930)\" style=\"stroke:#000000; stroke-linecap:round; stroke-linejoin:round; stroke-width:4; stroke-opacity:1; fill:none\" points=\"1724.24,1423.18 1724.24,1404.28 \"/>\n",
       "<polyline clip-path=\"url(#clip930)\" style=\"stroke:#000000; stroke-linecap:round; stroke-linejoin:round; stroke-width:4; stroke-opacity:1; fill:none\" points=\"2143.25,1423.18 2143.25,1404.28 \"/>\n",
       "<path clip-path=\"url(#clip930)\" d=\"M429.419 1454.1 Q425.808 1454.1 423.979 1457.66 Q422.174 1461.2 422.174 1468.33 Q422.174 1475.44 423.979 1479.01 Q425.808 1482.55 429.419 1482.55 Q433.053 1482.55 434.859 1479.01 Q436.688 1475.44 436.688 1468.33 Q436.688 1461.2 434.859 1457.66 Q433.053 1454.1 429.419 1454.1 M429.419 1450.39 Q435.229 1450.39 438.285 1455 Q441.364 1459.58 441.364 1468.33 Q441.364 1477.06 438.285 1481.67 Q435.229 1486.25 429.419 1486.25 Q423.609 1486.25 420.53 1481.67 Q417.475 1477.06 417.475 1468.33 Q417.475 1459.58 420.53 1455 Q423.609 1450.39 429.419 1450.39 Z\" fill=\"#000000\" fill-rule=\"nonzero\" fill-opacity=\"1\" /><path clip-path=\"url(#clip930)\" d=\"M449.581 1479.7 L454.465 1479.7 L454.465 1485.58 L449.581 1485.58 L449.581 1479.7 Z\" fill=\"#000000\" fill-rule=\"nonzero\" fill-opacity=\"1\" /><path clip-path=\"url(#clip930)\" d=\"M464.789 1484.86 L464.789 1480.6 Q466.549 1481.44 468.354 1481.88 Q470.16 1482.32 471.896 1482.32 Q476.525 1482.32 478.956 1479.21 Q481.41 1476.09 481.757 1469.75 Q480.414 1471.74 478.354 1472.8 Q476.294 1473.87 473.794 1473.87 Q468.609 1473.87 465.576 1470.74 Q462.567 1467.59 462.567 1462.15 Q462.567 1456.83 465.715 1453.61 Q468.863 1450.39 474.095 1450.39 Q480.09 1450.39 483.238 1455 Q486.41 1459.58 486.41 1468.33 Q486.41 1476.51 482.521 1481.39 Q478.655 1486.25 472.104 1486.25 Q470.345 1486.25 468.539 1485.9 Q466.734 1485.56 464.789 1484.86 M474.095 1470.21 Q477.243 1470.21 479.072 1468.06 Q480.923 1465.9 480.923 1462.15 Q480.923 1458.43 479.072 1456.27 Q477.243 1454.1 474.095 1454.1 Q470.947 1454.1 469.095 1456.27 Q467.266 1458.43 467.266 1462.15 Q467.266 1465.9 469.095 1468.06 Q470.947 1470.21 474.095 1470.21 Z\" fill=\"#000000\" fill-rule=\"nonzero\" fill-opacity=\"1\" /><path clip-path=\"url(#clip930)\" d=\"M505.391 1466.44 Q502.243 1466.44 500.391 1468.59 Q498.562 1470.74 498.562 1474.49 Q498.562 1478.22 500.391 1480.39 Q502.243 1482.55 505.391 1482.55 Q508.539 1482.55 510.368 1480.39 Q512.22 1478.22 512.22 1474.49 Q512.22 1470.74 510.368 1468.59 Q508.539 1466.44 505.391 1466.44 M514.673 1451.78 L514.673 1456.04 Q512.914 1455.21 511.109 1454.77 Q509.326 1454.33 507.567 1454.33 Q502.937 1454.33 500.484 1457.45 Q498.053 1460.58 497.706 1466.9 Q499.072 1464.89 501.132 1463.82 Q503.192 1462.73 505.669 1462.73 Q510.877 1462.73 513.886 1465.9 Q516.919 1469.05 516.919 1474.49 Q516.919 1479.82 513.771 1483.03 Q510.622 1486.25 505.391 1486.25 Q499.396 1486.25 496.224 1481.67 Q493.053 1477.06 493.053 1468.33 Q493.053 1460.14 496.942 1455.28 Q500.831 1450.39 507.382 1450.39 Q509.141 1450.39 510.923 1450.74 Q512.729 1451.09 514.673 1451.78 Z\" fill=\"#000000\" fill-rule=\"nonzero\" fill-opacity=\"1\" /><path clip-path=\"url(#clip930)\" d=\"M848.56 1454.1 Q844.949 1454.1 843.12 1457.66 Q841.314 1461.2 841.314 1468.33 Q841.314 1475.44 843.12 1479.01 Q844.949 1482.55 848.56 1482.55 Q852.194 1482.55 853.999 1479.01 Q855.828 1475.44 855.828 1468.33 Q855.828 1461.2 853.999 1457.66 Q852.194 1454.1 848.56 1454.1 M848.56 1450.39 Q854.37 1450.39 857.425 1455 Q860.504 1459.58 860.504 1468.33 Q860.504 1477.06 857.425 1481.67 Q854.37 1486.25 848.56 1486.25 Q842.749 1486.25 839.671 1481.67 Q836.615 1477.06 836.615 1468.33 Q836.615 1459.58 839.671 1455 Q842.749 1450.39 848.56 1450.39 Z\" fill=\"#000000\" fill-rule=\"nonzero\" fill-opacity=\"1\" /><path clip-path=\"url(#clip930)\" d=\"M868.722 1479.7 L873.606 1479.7 L873.606 1485.58 L868.722 1485.58 L868.722 1479.7 Z\" fill=\"#000000\" fill-rule=\"nonzero\" fill-opacity=\"1\" /><path clip-path=\"url(#clip930)\" d=\"M883.93 1484.86 L883.93 1480.6 Q885.689 1481.44 887.495 1481.88 Q889.3 1482.32 891.036 1482.32 Q895.666 1482.32 898.096 1479.21 Q900.55 1476.09 900.897 1469.75 Q899.555 1471.74 897.495 1472.8 Q895.434 1473.87 892.934 1473.87 Q887.749 1473.87 884.717 1470.74 Q881.708 1467.59 881.708 1462.15 Q881.708 1456.83 884.856 1453.61 Q888.004 1450.39 893.235 1450.39 Q899.231 1450.39 902.379 1455 Q905.55 1459.58 905.55 1468.33 Q905.55 1476.51 901.661 1481.39 Q897.795 1486.25 891.245 1486.25 Q889.485 1486.25 887.68 1485.9 Q885.874 1485.56 883.93 1484.86 M893.235 1470.21 Q896.383 1470.21 898.212 1468.06 Q900.064 1465.9 900.064 1462.15 Q900.064 1458.43 898.212 1456.27 Q896.383 1454.1 893.235 1454.1 Q890.087 1454.1 888.235 1456.27 Q886.407 1458.43 886.407 1462.15 Q886.407 1465.9 888.235 1468.06 Q890.087 1470.21 893.235 1470.21 Z\" fill=\"#000000\" fill-rule=\"nonzero\" fill-opacity=\"1\" /><path clip-path=\"url(#clip930)\" d=\"M923.953 1469.17 Q920.619 1469.17 918.698 1470.95 Q916.8 1472.73 916.8 1475.86 Q916.8 1478.98 918.698 1480.77 Q920.619 1482.55 923.953 1482.55 Q927.286 1482.55 929.207 1480.77 Q931.129 1478.96 931.129 1475.86 Q931.129 1472.73 929.207 1470.95 Q927.309 1469.17 923.953 1469.17 M919.277 1467.18 Q916.268 1466.44 914.578 1464.38 Q912.911 1462.32 912.911 1459.35 Q912.911 1455.21 915.851 1452.8 Q918.814 1450.39 923.953 1450.39 Q929.115 1450.39 932.055 1452.8 Q934.994 1455.21 934.994 1459.35 Q934.994 1462.32 933.305 1464.38 Q931.638 1466.44 928.652 1467.18 Q932.031 1467.96 933.906 1470.26 Q935.805 1472.55 935.805 1475.86 Q935.805 1480.88 932.726 1483.57 Q929.67 1486.25 923.953 1486.25 Q918.235 1486.25 915.156 1483.57 Q912.101 1480.88 912.101 1475.86 Q912.101 1472.55 913.999 1470.26 Q915.897 1467.96 919.277 1467.18 M917.564 1459.79 Q917.564 1462.48 919.231 1463.98 Q920.92 1465.49 923.953 1465.49 Q926.962 1465.49 928.652 1463.98 Q930.365 1462.48 930.365 1459.79 Q930.365 1457.11 928.652 1455.6 Q926.962 1454.1 923.953 1454.1 Q920.92 1454.1 919.231 1455.6 Q917.564 1457.11 917.564 1459.79 Z\" fill=\"#000000\" fill-rule=\"nonzero\" fill-opacity=\"1\" /><path clip-path=\"url(#clip930)\" d=\"M1257.3 1481.64 L1264.93 1481.64 L1264.93 1455.28 L1256.62 1456.95 L1256.62 1452.69 L1264.89 1451.02 L1269.56 1451.02 L1269.56 1481.64 L1277.2 1481.64 L1277.2 1485.58 L1257.3 1485.58 L1257.3 1481.64 Z\" fill=\"#000000\" fill-rule=\"nonzero\" fill-opacity=\"1\" /><path clip-path=\"url(#clip930)\" d=\"M1286.65 1479.7 L1291.53 1479.7 L1291.53 1485.58 L1286.65 1485.58 L1286.65 1479.7 Z\" fill=\"#000000\" fill-rule=\"nonzero\" fill-opacity=\"1\" /><path clip-path=\"url(#clip930)\" d=\"M1311.72 1454.1 Q1308.1 1454.1 1306.28 1457.66 Q1304.47 1461.2 1304.47 1468.33 Q1304.47 1475.44 1306.28 1479.01 Q1308.1 1482.55 1311.72 1482.55 Q1315.35 1482.55 1317.16 1479.01 Q1318.98 1475.44 1318.98 1468.33 Q1318.98 1461.2 1317.16 1457.66 Q1315.35 1454.1 1311.72 1454.1 M1311.72 1450.39 Q1317.53 1450.39 1320.58 1455 Q1323.66 1459.58 1323.66 1468.33 Q1323.66 1477.06 1320.58 1481.67 Q1317.53 1486.25 1311.72 1486.25 Q1305.91 1486.25 1302.83 1481.67 Q1299.77 1477.06 1299.77 1468.33 Q1299.77 1459.58 1302.83 1455 Q1305.91 1450.39 1311.72 1450.39 Z\" fill=\"#000000\" fill-rule=\"nonzero\" fill-opacity=\"1\" /><path clip-path=\"url(#clip930)\" d=\"M1341.88 1454.1 Q1338.27 1454.1 1336.44 1457.66 Q1334.63 1461.2 1334.63 1468.33 Q1334.63 1475.44 1336.44 1479.01 Q1338.27 1482.55 1341.88 1482.55 Q1345.51 1482.55 1347.32 1479.01 Q1349.15 1475.44 1349.15 1468.33 Q1349.15 1461.2 1347.32 1457.66 Q1345.51 1454.1 1341.88 1454.1 M1341.88 1450.39 Q1347.69 1450.39 1350.74 1455 Q1353.82 1459.58 1353.82 1468.33 Q1353.82 1477.06 1350.74 1481.67 Q1347.69 1486.25 1341.88 1486.25 Q1336.07 1486.25 1332.99 1481.67 Q1329.93 1477.06 1329.93 1468.33 Q1329.93 1459.58 1332.99 1455 Q1336.07 1450.39 1341.88 1450.39 Z\" fill=\"#000000\" fill-rule=\"nonzero\" fill-opacity=\"1\" /><path clip-path=\"url(#clip930)\" d=\"M1677.11 1481.64 L1684.75 1481.64 L1684.75 1455.28 L1676.44 1456.95 L1676.44 1452.69 L1684.7 1451.02 L1689.38 1451.02 L1689.38 1481.64 L1697.01 1481.64 L1697.01 1485.58 L1677.11 1485.58 L1677.11 1481.64 Z\" fill=\"#000000\" fill-rule=\"nonzero\" fill-opacity=\"1\" /><path clip-path=\"url(#clip930)\" d=\"M1706.46 1479.7 L1711.34 1479.7 L1711.34 1485.58 L1706.46 1485.58 L1706.46 1479.7 Z\" fill=\"#000000\" fill-rule=\"nonzero\" fill-opacity=\"1\" /><path clip-path=\"url(#clip930)\" d=\"M1731.53 1454.1 Q1727.92 1454.1 1726.09 1457.66 Q1724.28 1461.2 1724.28 1468.33 Q1724.28 1475.44 1726.09 1479.01 Q1727.92 1482.55 1731.53 1482.55 Q1735.16 1482.55 1736.97 1479.01 Q1738.8 1475.44 1738.8 1468.33 Q1738.8 1461.2 1736.97 1457.66 Q1735.16 1454.1 1731.53 1454.1 M1731.53 1450.39 Q1737.34 1450.39 1740.39 1455 Q1743.47 1459.58 1743.47 1468.33 Q1743.47 1477.06 1740.39 1481.67 Q1737.34 1486.25 1731.53 1486.25 Q1725.72 1486.25 1722.64 1481.67 Q1719.58 1477.06 1719.58 1468.33 Q1719.58 1459.58 1722.64 1455 Q1725.72 1450.39 1731.53 1450.39 Z\" fill=\"#000000\" fill-rule=\"nonzero\" fill-opacity=\"1\" /><path clip-path=\"url(#clip930)\" d=\"M1755.72 1481.64 L1772.04 1481.64 L1772.04 1485.58 L1750.09 1485.58 L1750.09 1481.64 Q1752.75 1478.89 1757.34 1474.26 Q1761.94 1469.61 1763.12 1468.27 Q1765.37 1465.74 1766.25 1464.01 Q1767.15 1462.25 1767.15 1460.56 Q1767.15 1457.8 1765.21 1456.07 Q1763.29 1454.33 1760.19 1454.33 Q1757.99 1454.33 1755.53 1455.09 Q1753.1 1455.86 1750.32 1457.41 L1750.32 1452.69 Q1753.15 1451.55 1755.6 1450.97 Q1758.06 1450.39 1760.09 1450.39 Q1765.46 1450.39 1768.66 1453.08 Q1771.85 1455.77 1771.85 1460.26 Q1771.85 1462.39 1771.04 1464.31 Q1770.25 1466.2 1768.15 1468.8 Q1767.57 1469.47 1764.47 1472.69 Q1761.37 1475.88 1755.72 1481.64 Z\" fill=\"#000000\" fill-rule=\"nonzero\" fill-opacity=\"1\" /><path clip-path=\"url(#clip930)\" d=\"M2095.08 1481.64 L2102.72 1481.64 L2102.72 1455.28 L2094.41 1456.95 L2094.41 1452.69 L2102.67 1451.02 L2107.35 1451.02 L2107.35 1481.64 L2114.99 1481.64 L2114.99 1485.58 L2095.08 1485.58 L2095.08 1481.64 Z\" fill=\"#000000\" fill-rule=\"nonzero\" fill-opacity=\"1\" /><path clip-path=\"url(#clip930)\" d=\"M2124.43 1479.7 L2129.31 1479.7 L2129.31 1485.58 L2124.43 1485.58 L2124.43 1479.7 Z\" fill=\"#000000\" fill-rule=\"nonzero\" fill-opacity=\"1\" /><path clip-path=\"url(#clip930)\" d=\"M2149.5 1454.1 Q2145.89 1454.1 2144.06 1457.66 Q2142.25 1461.2 2142.25 1468.33 Q2142.25 1475.44 2144.06 1479.01 Q2145.89 1482.55 2149.5 1482.55 Q2153.13 1482.55 2154.94 1479.01 Q2156.77 1475.44 2156.77 1468.33 Q2156.77 1461.2 2154.94 1457.66 Q2153.13 1454.1 2149.5 1454.1 M2149.5 1450.39 Q2155.31 1450.39 2158.36 1455 Q2161.44 1459.58 2161.44 1468.33 Q2161.44 1477.06 2158.36 1481.67 Q2155.31 1486.25 2149.5 1486.25 Q2143.69 1486.25 2140.61 1481.67 Q2137.55 1477.06 2137.55 1468.33 Q2137.55 1459.58 2140.61 1455 Q2143.69 1450.39 2149.5 1450.39 Z\" fill=\"#000000\" fill-rule=\"nonzero\" fill-opacity=\"1\" /><path clip-path=\"url(#clip930)\" d=\"M2182.51 1455.09 L2170.7 1473.54 L2182.51 1473.54 L2182.51 1455.09 M2181.28 1451.02 L2187.16 1451.02 L2187.16 1473.54 L2192.09 1473.54 L2192.09 1477.43 L2187.16 1477.43 L2187.16 1485.58 L2182.51 1485.58 L2182.51 1477.43 L2166.91 1477.43 L2166.91 1472.92 L2181.28 1451.02 Z\" fill=\"#000000\" fill-rule=\"nonzero\" fill-opacity=\"1\" /><path clip-path=\"url(#clip930)\" d=\"M1321.84 1532.4 L1308.95 1549.74 L1322.51 1568.04 L1315.6 1568.04 L1305.22 1554.04 L1294.85 1568.04 L1287.94 1568.04 L1301.79 1549.39 L1289.12 1532.4 L1296.02 1532.4 L1305.48 1545.1 L1314.93 1532.4 L1321.84 1532.4 Z\" fill=\"#000000\" fill-rule=\"nonzero\" fill-opacity=\"1\" /><polyline clip-path=\"url(#clip930)\" style=\"stroke:#000000; stroke-linecap:round; stroke-linejoin:round; stroke-width:4; stroke-opacity:1; fill:none\" points=\"257.69,1423.18 257.69,47.2441 \"/>\n",
       "<polyline clip-path=\"url(#clip930)\" style=\"stroke:#000000; stroke-linecap:round; stroke-linejoin:round; stroke-width:4; stroke-opacity:1; fill:none\" points=\"257.69,1418.28 276.588,1418.28 \"/>\n",
       "<polyline clip-path=\"url(#clip930)\" style=\"stroke:#000000; stroke-linecap:round; stroke-linejoin:round; stroke-width:4; stroke-opacity:1; fill:none\" points=\"257.69,1062.86 276.588,1062.86 \"/>\n",
       "<polyline clip-path=\"url(#clip930)\" style=\"stroke:#000000; stroke-linecap:round; stroke-linejoin:round; stroke-width:4; stroke-opacity:1; fill:none\" points=\"257.69,707.452 276.588,707.452 \"/>\n",
       "<polyline clip-path=\"url(#clip930)\" style=\"stroke:#000000; stroke-linecap:round; stroke-linejoin:round; stroke-width:4; stroke-opacity:1; fill:none\" points=\"257.69,352.04 276.588,352.04 \"/>\n",
       "<path clip-path=\"url(#clip930)\" d=\"M114.26 1418.73 L143.936 1418.73 L143.936 1422.66 L114.26 1422.66 L114.26 1418.73 Z\" fill=\"#000000\" fill-rule=\"nonzero\" fill-opacity=\"1\" /><path clip-path=\"url(#clip930)\" d=\"M164.028 1404.08 Q160.417 1404.08 158.589 1407.64 Q156.783 1411.18 156.783 1418.31 Q156.783 1425.42 158.589 1428.98 Q160.417 1432.52 164.028 1432.52 Q167.663 1432.52 169.468 1428.98 Q171.297 1425.42 171.297 1418.31 Q171.297 1411.18 169.468 1407.64 Q167.663 1404.08 164.028 1404.08 M164.028 1400.37 Q169.839 1400.37 172.894 1404.98 Q175.973 1409.56 175.973 1418.31 Q175.973 1427.04 172.894 1431.64 Q169.839 1436.23 164.028 1436.23 Q158.218 1436.23 155.14 1431.64 Q152.084 1427.04 152.084 1418.31 Q152.084 1409.56 155.14 1404.98 Q158.218 1400.37 164.028 1400.37 Z\" fill=\"#000000\" fill-rule=\"nonzero\" fill-opacity=\"1\" /><path clip-path=\"url(#clip930)\" d=\"M184.19 1429.68 L189.075 1429.68 L189.075 1435.56 L184.19 1435.56 L184.19 1429.68 Z\" fill=\"#000000\" fill-rule=\"nonzero\" fill-opacity=\"1\" /><path clip-path=\"url(#clip930)\" d=\"M212.107 1405.07 L200.301 1423.52 L212.107 1423.52 L212.107 1405.07 M210.88 1401 L216.76 1401 L216.76 1423.52 L221.69 1423.52 L221.69 1427.41 L216.76 1427.41 L216.76 1435.56 L212.107 1435.56 L212.107 1427.41 L196.505 1427.41 L196.505 1422.89 L210.88 1401 Z\" fill=\"#000000\" fill-rule=\"nonzero\" fill-opacity=\"1\" /><path clip-path=\"url(#clip930)\" d=\"M116.343 1063.32 L146.019 1063.32 L146.019 1067.25 L116.343 1067.25 L116.343 1063.32 Z\" fill=\"#000000\" fill-rule=\"nonzero\" fill-opacity=\"1\" /><path clip-path=\"url(#clip930)\" d=\"M166.112 1048.66 Q162.501 1048.66 160.672 1052.23 Q158.866 1055.77 158.866 1062.9 Q158.866 1070.01 160.672 1073.57 Q162.501 1077.11 166.112 1077.11 Q169.746 1077.11 171.552 1073.57 Q173.38 1070.01 173.38 1062.9 Q173.38 1055.77 171.552 1052.23 Q169.746 1048.66 166.112 1048.66 M166.112 1044.96 Q171.922 1044.96 174.977 1049.57 Q178.056 1054.15 178.056 1062.9 Q178.056 1071.63 174.977 1076.23 Q171.922 1080.82 166.112 1080.82 Q160.302 1080.82 157.223 1076.23 Q154.167 1071.63 154.167 1062.9 Q154.167 1054.15 157.223 1049.57 Q160.302 1044.96 166.112 1044.96 Z\" fill=\"#000000\" fill-rule=\"nonzero\" fill-opacity=\"1\" /><path clip-path=\"url(#clip930)\" d=\"M186.274 1074.26 L191.158 1074.26 L191.158 1080.14 L186.274 1080.14 L186.274 1074.26 Z\" fill=\"#000000\" fill-rule=\"nonzero\" fill-opacity=\"1\" /><path clip-path=\"url(#clip930)\" d=\"M205.371 1076.21 L221.69 1076.21 L221.69 1080.14 L199.746 1080.14 L199.746 1076.21 Q202.408 1073.45 206.991 1068.83 Q211.598 1064.17 212.778 1062.83 Q215.024 1060.31 215.903 1058.57 Q216.806 1056.81 216.806 1055.12 Q216.806 1052.37 214.861 1050.63 Q212.94 1048.89 209.838 1048.89 Q207.639 1048.89 205.186 1049.66 Q202.755 1050.42 199.977 1051.97 L199.977 1047.25 Q202.801 1046.12 205.255 1045.54 Q207.709 1044.96 209.746 1044.96 Q215.116 1044.96 218.311 1047.64 Q221.505 1050.33 221.505 1054.82 Q221.505 1056.95 220.695 1058.87 Q219.908 1060.77 217.801 1063.36 Q217.223 1064.03 214.121 1067.25 Q211.019 1070.45 205.371 1076.21 Z\" fill=\"#000000\" fill-rule=\"nonzero\" fill-opacity=\"1\" /><path clip-path=\"url(#clip930)\" d=\"M164.515 693.251 Q160.903 693.251 159.075 696.816 Q157.269 700.358 157.269 707.487 Q157.269 714.594 159.075 718.158 Q160.903 721.7 164.515 721.7 Q168.149 721.7 169.954 718.158 Q171.783 714.594 171.783 707.487 Q171.783 700.358 169.954 696.816 Q168.149 693.251 164.515 693.251 M164.515 689.547 Q170.325 689.547 173.38 694.154 Q176.459 698.737 176.459 707.487 Q176.459 716.214 173.38 720.82 Q170.325 725.404 164.515 725.404 Q158.704 725.404 155.626 720.82 Q152.57 716.214 152.57 707.487 Q152.57 698.737 155.626 694.154 Q158.704 689.547 164.515 689.547 Z\" fill=\"#000000\" fill-rule=\"nonzero\" fill-opacity=\"1\" /><path clip-path=\"url(#clip930)\" d=\"M184.676 718.853 L189.561 718.853 L189.561 724.732 L184.676 724.732 L184.676 718.853 Z\" fill=\"#000000\" fill-rule=\"nonzero\" fill-opacity=\"1\" /><path clip-path=\"url(#clip930)\" d=\"M209.746 693.251 Q206.135 693.251 204.306 696.816 Q202.5 700.358 202.5 707.487 Q202.5 714.594 204.306 718.158 Q206.135 721.7 209.746 721.7 Q213.38 721.7 215.186 718.158 Q217.014 714.594 217.014 707.487 Q217.014 700.358 215.186 696.816 Q213.38 693.251 209.746 693.251 M209.746 689.547 Q215.556 689.547 218.611 694.154 Q221.69 698.737 221.69 707.487 Q221.69 716.214 218.611 720.82 Q215.556 725.404 209.746 725.404 Q203.936 725.404 200.857 720.82 Q197.801 716.214 197.801 707.487 Q197.801 698.737 200.857 694.154 Q203.936 689.547 209.746 689.547 Z\" fill=\"#000000\" fill-rule=\"nonzero\" fill-opacity=\"1\" /><path clip-path=\"url(#clip930)\" d=\"M166.112 337.839 Q162.501 337.839 160.672 341.404 Q158.866 344.945 158.866 352.075 Q158.866 359.181 160.672 362.746 Q162.501 366.288 166.112 366.288 Q169.746 366.288 171.552 362.746 Q173.38 359.181 173.38 352.075 Q173.38 344.945 171.552 341.404 Q169.746 337.839 166.112 337.839 M166.112 334.135 Q171.922 334.135 174.977 338.742 Q178.056 343.325 178.056 352.075 Q178.056 360.802 174.977 365.408 Q171.922 369.992 166.112 369.992 Q160.302 369.992 157.223 365.408 Q154.167 360.802 154.167 352.075 Q154.167 343.325 157.223 338.742 Q160.302 334.135 166.112 334.135 Z\" fill=\"#000000\" fill-rule=\"nonzero\" fill-opacity=\"1\" /><path clip-path=\"url(#clip930)\" d=\"M186.274 363.441 L191.158 363.441 L191.158 369.32 L186.274 369.32 L186.274 363.441 Z\" fill=\"#000000\" fill-rule=\"nonzero\" fill-opacity=\"1\" /><path clip-path=\"url(#clip930)\" d=\"M205.371 365.385 L221.69 365.385 L221.69 369.32 L199.746 369.32 L199.746 365.385 Q202.408 362.631 206.991 358.001 Q211.598 353.348 212.778 352.006 Q215.024 349.482 215.903 347.746 Q216.806 345.987 216.806 344.297 Q216.806 341.543 214.861 339.807 Q212.94 338.07 209.838 338.07 Q207.639 338.07 205.186 338.834 Q202.755 339.598 199.977 341.149 L199.977 336.427 Q202.801 335.293 205.255 334.714 Q207.709 334.135 209.746 334.135 Q215.116 334.135 218.311 336.82 Q221.505 339.506 221.505 343.996 Q221.505 346.126 220.695 348.047 Q219.908 349.945 217.801 352.538 Q217.223 353.209 214.121 356.427 Q211.019 359.621 205.371 365.385 Z\" fill=\"#000000\" fill-rule=\"nonzero\" fill-opacity=\"1\" /><path clip-path=\"url(#clip930)\" d=\"M14.479 765.163 L19.3487 765.163 L19.3487 770.764 Q19.3487 773.915 20.6219 775.157 Q21.895 776.366 25.2052 776.366 L28.3562 776.366 L28.3562 766.722 L32.9077 766.722 L32.9077 776.366 L64.0042 776.366 L64.0042 782.255 L32.9077 782.255 L32.9077 787.856 L28.3562 787.856 L28.3562 782.255 L25.8736 782.255 Q19.9216 782.255 17.2162 779.485 Q14.479 776.716 14.479 770.701 L14.479 765.163 Z\" fill=\"#000000\" fill-rule=\"nonzero\" fill-opacity=\"1\" /><path clip-path=\"url(#clip930)\" d=\"M14.5426 746.193 Q21.8632 750.458 29.0246 752.527 Q36.186 754.596 43.5384 754.596 Q50.8908 754.596 58.1159 752.527 Q65.3091 750.426 72.5979 746.193 L72.5979 751.285 Q65.1182 756.06 57.8931 758.447 Q50.668 760.802 43.5384 760.802 Q36.4406 760.802 29.2474 758.447 Q22.0542 756.091 14.5426 751.285 L14.5426 746.193 Z\" fill=\"#000000\" fill-rule=\"nonzero\" fill-opacity=\"1\" /><path clip-path=\"url(#clip930)\" d=\"M28.3562 705.198 L45.7028 718.088 L64.0042 704.529 L64.0042 711.436 L49.9996 721.812 L64.0042 732.188 L64.0042 739.095 L45.3526 725.25 L28.3562 737.917 L28.3562 731.011 L41.0558 721.558 L28.3562 712.104 L28.3562 705.198 Z\" fill=\"#000000\" fill-rule=\"nonzero\" fill-opacity=\"1\" /><path clip-path=\"url(#clip930)\" d=\"M14.5426 697.177 L14.5426 692.084 Q22.0542 687.31 29.2474 684.955 Q36.4406 682.568 43.5384 682.568 Q50.668 682.568 57.8931 684.955 Q65.1182 687.31 72.5979 692.084 L72.5979 697.177 Q65.3091 692.944 58.1159 690.875 Q50.8908 688.774 43.5384 688.774 Q36.186 688.774 29.0246 690.875 Q21.8632 692.944 14.5426 697.177 Z\" fill=\"#000000\" fill-rule=\"nonzero\" fill-opacity=\"1\" /><polyline clip-path=\"url(#clip932)\" style=\"stroke:#009af9; stroke-linecap:round; stroke-linejoin:round; stroke-width:4; stroke-opacity:1; fill:none\" points=\"257.69,1384.24 263.097,1373.17 268.505,1362.62 273.912,1352.51 279.319,1342.79 295.154,1316.22 310.989,1291.88 326.823,1269.28 342.658,1248.08 358.493,1228.03 374.328,1208.96 390.162,1190.72 405.997,1173.22 435.462,1142.3 464.928,1113.19 504.422,1076.48 543.917,1041.92 576.552,1014.72 609.186,988.569 639.533,965.079 669.88,942.297 746.072,887.776 814.417,841.59 892.646,791.295 951.123,755.212 1025.92,710.673 1094.18,671.404 1171.87,628.112 1233.46,594.737 1309.98,554.319 1368.57,524.08 1451.19,482.412 1512.93,451.959 1583.14,417.991 1652.67,385.011 1729.16,349.45 1787.59,322.778 1861.33,289.713 1929.53,259.71 1999.86,229.345 2071.15,199.17 2145.59,168.318 2204.23,144.499 2337.77,91.9314 2352.76,86.1857 \"/>\n",
       "</svg>\n"
      ]
     },
     "execution_count": 232,
     "metadata": {},
     "output_type": "execute_result"
    }
   ],
   "source": [
    "plot(g, xlim=(0.95,1.05), \n",
    "      xlabel = \"x\", \n",
    "      ylabel=\"f(x)\", \n",
    "      label=false)"
   ]
  },
  {
   "cell_type": "markdown",
   "id": "43e56291-2e67-4ec9-b933-74ee17c66f74",
   "metadata": {},
   "source": [
    "See Section 4.4 of https://deeplearningmath.org/ for AutoDiff"
   ]
  },
  {
   "cell_type": "code",
   "execution_count": 233,
   "id": "1eb013ea-14cd-474a-8a8c-e88c312f1fe4",
   "metadata": {},
   "outputs": [
    {
     "name": "stderr",
     "output_type": "stream",
     "text": [
      "\u001b[36m\u001b[1m[ \u001b[22m\u001b[39m\u001b[36m\u001b[1mInfo: \u001b[22m\u001b[39mPrecompiling SpecialFunctionsExt [997ecda8-951a-5f50-90ea-61382e97704b] (cache misses: wrong dep version loaded (6))\n"
     ]
    }
   ],
   "source": [
    "using ForwardDiff: derivative"
   ]
  },
  {
   "cell_type": "code",
   "execution_count": 234,
   "id": "a6065bf7-927c-432a-9f52-b9a5c05d4271",
   "metadata": {},
   "outputs": [
    {
     "name": "stdout",
     "output_type": "stream",
     "text": [
      "search: co\u001b[0m\u001b[1md\u001b[22m\u001b[0m\u001b[1me\u001b[22m_native @co\u001b[0m\u001b[1md\u001b[22m\u001b[0m\u001b[1me\u001b[22m_native\n",
      "\n"
     ]
    },
    {
     "data": {
      "text/latex": [
       "\\begin{verbatim}\n",
       "ForwardDiff.derivative(f, x::Real)\n",
       "\\end{verbatim}\n",
       "Return \\texttt{df/dx} evaluated at \\texttt{x}, assuming \\texttt{f} is called as \\texttt{f(x)}.\n",
       "\n",
       "This method assumes that \\texttt{isa(f(x), Union\\{Real,AbstractArray\\})}.\n",
       "\n",
       "\\rule{\\textwidth}{1pt}\n",
       "\\begin{verbatim}\n",
       "ForwardDiff.derivative(f!, y::AbstractArray, x::Real, cfg::DerivativeConfig = DerivativeConfig(f!, y, x), check=Val{true}())\n",
       "\\end{verbatim}\n",
       "Return \\texttt{df!/dx} evaluated at \\texttt{x}, assuming \\texttt{f!} is called as \\texttt{f!(y, x)} where the result is stored in \\texttt{y}.\n",
       "\n",
       "Set \\texttt{check} to \\texttt{Val\\{false\\}()} to disable tag checking. This can lead to perturbation confusion, so should be used with care.\n",
       "\n"
      ],
      "text/markdown": [
       "```\n",
       "ForwardDiff.derivative(f, x::Real)\n",
       "```\n",
       "\n",
       "Return `df/dx` evaluated at `x`, assuming `f` is called as `f(x)`.\n",
       "\n",
       "This method assumes that `isa(f(x), Union{Real,AbstractArray})`.\n",
       "\n",
       "---\n",
       "\n",
       "```\n",
       "ForwardDiff.derivative(f!, y::AbstractArray, x::Real, cfg::DerivativeConfig = DerivativeConfig(f!, y, x), check=Val{true}())\n",
       "```\n",
       "\n",
       "Return `df!/dx` evaluated at `x`, assuming `f!` is called as `f!(y, x)` where the result is stored in `y`.\n",
       "\n",
       "Set `check` to `Val{false}()` to disable tag checking. This can lead to perturbation confusion, so should be used with care.\n"
      ],
      "text/plain": [
       "\u001b[36m  ForwardDiff.derivative(f, x::Real)\u001b[39m\n",
       "\n",
       "  Return \u001b[36mdf/dx\u001b[39m evaluated at \u001b[36mx\u001b[39m, assuming \u001b[36mf\u001b[39m is called as \u001b[36mf(x)\u001b[39m.\n",
       "\n",
       "  This method assumes that \u001b[36misa(f(x), Union{Real,AbstractArray})\u001b[39m.\n",
       "\n",
       "  ────────────────────────────────────────────────────────────────────────────\n",
       "\n",
       "\u001b[36m  ForwardDiff.derivative(f!, y::AbstractArray, x::Real, cfg::DerivativeConfig = DerivativeConfig(f!, y, x), check=Val{true}())\u001b[39m\n",
       "\n",
       "  Return \u001b[36mdf!/dx\u001b[39m evaluated at \u001b[36mx\u001b[39m, assuming \u001b[36mf!\u001b[39m is called as \u001b[36mf!(y, x)\u001b[39m where the\n",
       "  result is stored in \u001b[36my\u001b[39m.\n",
       "\n",
       "  Set \u001b[36mcheck\u001b[39m to \u001b[36mVal{false}()\u001b[39m to disable tag checking. This can lead to\n",
       "  perturbation confusion, so should be used with care."
      ]
     },
     "execution_count": 234,
     "metadata": {},
     "output_type": "execute_result"
    }
   ],
   "source": [
    "? derivative"
   ]
  },
  {
   "cell_type": "markdown",
   "id": "cfcf48b4-5e8d-4a53-a312-a9002575b550",
   "metadata": {},
   "source": [
    "$$\n",
    "h(x) = x^2 + x\n",
    "$$"
   ]
  },
  {
   "cell_type": "markdown",
   "id": "aedc9665-830e-4fb5-aad2-5bf9d161524a",
   "metadata": {},
   "source": [
    "$$\n",
    "h'(x) = 2x + 1\n",
    "$$"
   ]
  },
  {
   "cell_type": "code",
   "execution_count": 236,
   "id": "b8c7baba-f7ba-436e-b11b-76ad7b7448ac",
   "metadata": {},
   "outputs": [
    {
     "data": {
      "text/plain": [
       "h (generic function with 1 method)"
      ]
     },
     "execution_count": 236,
     "metadata": {},
     "output_type": "execute_result"
    }
   ],
   "source": [
    "h(x) = x^2 + x"
   ]
  },
  {
   "cell_type": "code",
   "execution_count": 237,
   "id": "9e7914e2-dfa2-4529-b903-605434fd05e1",
   "metadata": {},
   "outputs": [
    {
     "data": {
      "text/plain": [
       "12"
      ]
     },
     "execution_count": 237,
     "metadata": {},
     "output_type": "execute_result"
    }
   ],
   "source": [
    "h(3)"
   ]
  },
  {
   "cell_type": "code",
   "execution_count": 238,
   "id": "3929ab81-e54d-4151-8eae-a510bdb57412",
   "metadata": {},
   "outputs": [
    {
     "data": {
      "text/plain": [
       "7"
      ]
     },
     "execution_count": 238,
     "metadata": {},
     "output_type": "execute_result"
    }
   ],
   "source": [
    "derivative(h, 3)"
   ]
  },
  {
   "cell_type": "code",
   "execution_count": 243,
   "id": "957df3ed-aca2-4dc3-ac70-a4607f2481da",
   "metadata": {},
   "outputs": [
    {
     "data": {
      "text/plain": [
       "g (generic function with 1 method)"
      ]
     },
     "execution_count": 243,
     "metadata": {},
     "output_type": "execute_result"
    }
   ],
   "source": [
    "g(x) = sqrt(log(sin(exp(cos((x/5)^2)*log(x/5)+x^7))) + 1)-1/2"
   ]
  },
  {
   "cell_type": "code",
   "execution_count": 250,
   "id": "d97e210c-b654-416b-b9b0-9903c2a848e7",
   "metadata": {},
   "outputs": [
    {
     "data": {
      "text/plain": [
       "(24.744628268450505, 24.74462879131778)"
      ]
     },
     "execution_count": 250,
     "metadata": {},
     "output_type": "execute_result"
    }
   ],
   "source": [
    "using ForwardDiff: derivative\n",
    "auto_der = derivative(g, 0.95)\n",
    "\n",
    "δ_val = 0.000001\n",
    "numer_der = (g(0.95+δ_val) - g(0.95-δ_val))/(2δ_val)\n",
    "auto_der, numer_der"
   ]
  },
  {
   "cell_type": "markdown",
   "id": "be554fb2-6f9b-4704-8993-ddf76839c23b",
   "metadata": {},
   "source": [
    "**Kernal restarted here because 'f' is polluting things**"
   ]
  },
  {
   "cell_type": "code",
   "execution_count": 1,
   "id": "4532c932-3ee6-4754-a881-c6a47b01c52b",
   "metadata": {},
   "outputs": [],
   "source": [
    "using ForwardDiff: derivative"
   ]
  },
  {
   "cell_type": "code",
   "execution_count": 3,
   "id": "8ced2f59-dfd2-4e09-be71-a3bcccdc5a5a",
   "metadata": {},
   "outputs": [],
   "source": [
    "using Plots"
   ]
  },
  {
   "cell_type": "code",
   "execution_count": 7,
   "id": "5d0849fb-e419-4313-80a7-912ebc5b5fa5",
   "metadata": {},
   "outputs": [],
   "source": [
    "f(x) = sqrt(log(sin(exp(cos((x/5)^2)*log(x/5)+x^7))) + 1)-1/2;"
   ]
  },
  {
   "cell_type": "code",
   "execution_count": 8,
   "id": "21e8f3b4-bf12-42b1-8205-d5943aacecaf",
   "metadata": {},
   "outputs": [
    {
     "name": "stdout",
     "output_type": "stream",
     "text": [
      "Found root: 0.9869317059681162\n"
     ]
    },
    {
     "data": {
      "image/png": "[encoded data removed]",
      "image/svg+xml": [
       "<?xml version=\"1.0\" encoding=\"utf-8\"?>\n",
       "<svg xmlns=\"http://www.w3.org/2000/svg\" xmlns:xlink=\"http://www.w3.org/1999/xlink\" width=\"600\" height=\"400\" viewBox=\"0 0 2400 1600\">\n",
       "<defs>\n",
       "  <clipPath id=\"clip710\">\n",
       "    <rect x=\"0\" y=\"0\" width=\"2400\" height=\"1600\"/>\n",
       "  </clipPath>\n",
       "</defs>\n",
       "<path clip-path=\"url(#clip710)\" d=\"M0 1600 L2400 1600 L2400 8.88178e-14 L0 8.88178e-14  Z\" fill=\"#ffffff\" fill-rule=\"evenodd\" fill-opacity=\"1\"/>\n",
       "<defs>\n",
       "  <clipPath id=\"clip711\">\n",
       "    <rect x=\"480\" y=\"0\" width=\"1681\" height=\"1600\"/>\n",
       "  </clipPath>\n",
       "</defs>\n",
       "<path clip-path=\"url(#clip710)\" d=\"M257.69 1423.18 L2352.76 1423.18 L2352.76 47.2441 L257.69 47.2441  Z\" fill=\"#ffffff\" fill-rule=\"evenodd\" fill-opacity=\"1\"/>\n",
       "<defs>\n",
       "  <clipPath id=\"clip712\">\n",
       "    <rect x=\"257\" y=\"47\" width=\"2096\" height=\"1377\"/>\n",
       "  </clipPath>\n",
       "</defs>\n",
       "<polyline clip-path=\"url(#clip712)\" style=\"stroke:#000000; stroke-linecap:round; stroke-linejoin:round; stroke-width:2; stroke-opacity:0.1; fill:none\" points=\"467.197,1423.18 467.197,47.2441 \"/>\n",
       "<polyline clip-path=\"url(#clip712)\" style=\"stroke:#000000; stroke-linecap:round; stroke-linejoin:round; stroke-width:2; stroke-opacity:0.1; fill:none\" points=\"886.21,1423.18 886.21,47.2441 \"/>\n",
       "<polyline clip-path=\"url(#clip712)\" style=\"stroke:#000000; stroke-linecap:round; stroke-linejoin:round; stroke-width:2; stroke-opacity:0.1; fill:none\" points=\"1305.22,1423.18 1305.22,47.2441 \"/>\n",
       "<polyline clip-path=\"url(#clip712)\" style=\"stroke:#000000; stroke-linecap:round; stroke-linejoin:round; stroke-width:2; stroke-opacity:0.1; fill:none\" points=\"1724.24,1423.18 1724.24,47.2441 \"/>\n",
       "<polyline clip-path=\"url(#clip712)\" style=\"stroke:#000000; stroke-linecap:round; stroke-linejoin:round; stroke-width:2; stroke-opacity:0.1; fill:none\" points=\"2143.25,1423.18 2143.25,47.2441 \"/>\n",
       "<polyline clip-path=\"url(#clip712)\" style=\"stroke:#000000; stroke-linecap:round; stroke-linejoin:round; stroke-width:2; stroke-opacity:0.1; fill:none\" points=\"257.69,1418.28 2352.76,1418.28 \"/>\n",
       "<polyline clip-path=\"url(#clip712)\" style=\"stroke:#000000; stroke-linecap:round; stroke-linejoin:round; stroke-width:2; stroke-opacity:0.1; fill:none\" points=\"257.69,1062.86 2352.76,1062.86 \"/>\n",
       "<polyline clip-path=\"url(#clip712)\" style=\"stroke:#000000; stroke-linecap:round; stroke-linejoin:round; stroke-width:2; stroke-opacity:0.1; fill:none\" points=\"257.69,707.452 2352.76,707.452 \"/>\n",
       "<polyline clip-path=\"url(#clip712)\" style=\"stroke:#000000; stroke-linecap:round; stroke-linejoin:round; stroke-width:2; stroke-opacity:0.1; fill:none\" points=\"257.69,352.04 2352.76,352.04 \"/>\n",
       "<polyline clip-path=\"url(#clip710)\" style=\"stroke:#000000; stroke-linecap:round; stroke-linejoin:round; stroke-width:4; stroke-opacity:1; fill:none\" points=\"257.69,1423.18 2352.76,1423.18 \"/>\n",
       "<polyline clip-path=\"url(#clip710)\" style=\"stroke:#000000; stroke-linecap:round; stroke-linejoin:round; stroke-width:4; stroke-opacity:1; fill:none\" points=\"467.197,1423.18 467.197,1404.28 \"/>\n",
       "<polyline clip-path=\"url(#clip710)\" style=\"stroke:#000000; stroke-linecap:round; stroke-linejoin:round; stroke-width:4; stroke-opacity:1; fill:none\" points=\"886.21,1423.18 886.21,1404.28 \"/>\n",
       "<polyline clip-path=\"url(#clip710)\" style=\"stroke:#000000; stroke-linecap:round; stroke-linejoin:round; stroke-width:4; stroke-opacity:1; fill:none\" points=\"1305.22,1423.18 1305.22,1404.28 \"/>\n",
       "<polyline clip-path=\"url(#clip710)\" style=\"stroke:#000000; stroke-linecap:round; stroke-linejoin:round; stroke-width:4; stroke-opacity:1; fill:none\" points=\"1724.24,1423.18 1724.24,1404.28 \"/>\n",
       "<polyline clip-path=\"url(#clip710)\" style=\"stroke:#000000; stroke-linecap:round; stroke-linejoin:round; stroke-width:4; stroke-opacity:1; fill:none\" points=\"2143.25,1423.18 2143.25,1404.28 \"/>\n",
       "<path clip-path=\"url(#clip710)\" d=\"M429.419 1454.1 Q425.808 1454.1 423.979 1457.66 Q422.174 1461.2 422.174 1468.33 Q422.174 1475.44 423.979 1479.01 Q425.808 1482.55 429.419 1482.55 Q433.053 1482.55 434.859 1479.01 Q436.688 1475.44 436.688 1468.33 Q436.688 1461.2 434.859 1457.66 Q433.053 1454.1 429.419 1454.1 M429.419 1450.39 Q435.229 1450.39 438.285 1455 Q441.364 1459.58 441.364 1468.33 Q441.364 1477.06 438.285 1481.67 Q435.229 1486.25 429.419 1486.25 Q423.609 1486.25 420.53 1481.67 Q417.475 1477.06 417.475 1468.33 Q417.475 1459.58 420.53 1455 Q423.609 1450.39 429.419 1450.39 Z\" fill=\"#000000\" fill-rule=\"nonzero\" fill-opacity=\"1\" /><path clip-path=\"url(#clip710)\" d=\"M449.581 1479.7 L454.465 1479.7 L454.465 1485.58 L449.581 1485.58 L449.581 1479.7 Z\" fill=\"#000000\" fill-rule=\"nonzero\" fill-opacity=\"1\" /><path clip-path=\"url(#clip710)\" d=\"M464.789 1484.86 L464.789 1480.6 Q466.549 1481.44 468.354 1481.88 Q470.16 1482.32 471.896 1482.32 Q476.525 1482.32 478.956 1479.21 Q481.41 1476.09 481.757 1469.75 Q480.414 1471.74 478.354 1472.8 Q476.294 1473.87 473.794 1473.87 Q468.609 1473.87 465.576 1470.74 Q462.567 1467.59 462.567 1462.15 Q462.567 1456.83 465.715 1453.61 Q468.863 1450.39 474.095 1450.39 Q480.09 1450.39 483.238 1455 Q486.41 1459.58 486.41 1468.33 Q486.41 1476.51 482.521 1481.39 Q478.655 1486.25 472.104 1486.25 Q470.345 1486.25 468.539 1485.9 Q466.734 1485.56 464.789 1484.86 M474.095 1470.21 Q477.243 1470.21 479.072 1468.06 Q480.923 1465.9 480.923 1462.15 Q480.923 1458.43 479.072 1456.27 Q477.243 1454.1 474.095 1454.1 Q470.947 1454.1 469.095 1456.27 Q467.266 1458.43 467.266 1462.15 Q467.266 1465.9 469.095 1468.06 Q470.947 1470.21 474.095 1470.21 Z\" fill=\"#000000\" fill-rule=\"nonzero\" fill-opacity=\"1\" /><path clip-path=\"url(#clip710)\" d=\"M505.391 1466.44 Q502.243 1466.44 500.391 1468.59 Q498.562 1470.74 498.562 1474.49 Q498.562 1478.22 500.391 1480.39 Q502.243 1482.55 505.391 1482.55 Q508.539 1482.55 510.368 1480.39 Q512.22 1478.22 512.22 1474.49 Q512.22 1470.74 510.368 1468.59 Q508.539 1466.44 505.391 1466.44 M514.673 1451.78 L514.673 1456.04 Q512.914 1455.21 511.109 1454.77 Q509.326 1454.33 507.567 1454.33 Q502.937 1454.33 500.484 1457.45 Q498.053 1460.58 497.706 1466.9 Q499.072 1464.89 501.132 1463.82 Q503.192 1462.73 505.669 1462.73 Q510.877 1462.73 513.886 1465.9 Q516.919 1469.05 516.919 1474.49 Q516.919 1479.82 513.771 1483.03 Q510.622 1486.25 505.391 1486.25 Q499.396 1486.25 496.224 1481.67 Q493.053 1477.06 493.053 1468.33 Q493.053 1460.14 496.942 1455.28 Q500.831 1450.39 507.382 1450.39 Q509.141 1450.39 510.923 1450.74 Q512.729 1451.09 514.673 1451.78 Z\" fill=\"#000000\" fill-rule=\"nonzero\" fill-opacity=\"1\" /><path clip-path=\"url(#clip710)\" d=\"M848.56 1454.1 Q844.949 1454.1 843.12 1457.66 Q841.314 1461.2 841.314 1468.33 Q841.314 1475.44 843.12 1479.01 Q844.949 1482.55 848.56 1482.55 Q852.194 1482.55 853.999 1479.01 Q855.828 1475.44 855.828 1468.33 Q855.828 1461.2 853.999 1457.66 Q852.194 1454.1 848.56 1454.1 M848.56 1450.39 Q854.37 1450.39 857.425 1455 Q860.504 1459.58 860.504 1468.33 Q860.504 1477.06 857.425 1481.67 Q854.37 1486.25 848.56 1486.25 Q842.749 1486.25 839.671 1481.67 Q836.615 1477.06 836.615 1468.33 Q836.615 1459.58 839.671 1455 Q842.749 1450.39 848.56 1450.39 Z\" fill=\"#000000\" fill-rule=\"nonzero\" fill-opacity=\"1\" /><path clip-path=\"url(#clip710)\" d=\"M868.722 1479.7 L873.606 1479.7 L873.606 1485.58 L868.722 1485.58 L868.722 1479.7 Z\" fill=\"#000000\" fill-rule=\"nonzero\" fill-opacity=\"1\" /><path clip-path=\"url(#clip710)\" d=\"M883.93 1484.86 L883.93 1480.6 Q885.689 1481.44 887.495 1481.88 Q889.3 1482.32 891.036 1482.32 Q895.666 1482.32 898.096 1479.21 Q900.55 1476.09 900.897 1469.75 Q899.555 1471.74 897.495 1472.8 Q895.434 1473.87 892.934 1473.87 Q887.749 1473.87 884.717 1470.74 Q881.708 1467.59 881.708 1462.15 Q881.708 1456.83 884.856 1453.61 Q888.004 1450.39 893.235 1450.39 Q899.231 1450.39 902.379 1455 Q905.55 1459.58 905.55 1468.33 Q905.55 1476.51 901.661 1481.39 Q897.795 1486.25 891.245 1486.25 Q889.485 1486.25 887.68 1485.9 Q885.874 1485.56 883.93 1484.86 M893.235 1470.21 Q896.383 1470.21 898.212 1468.06 Q900.064 1465.9 900.064 1462.15 Q900.064 1458.43 898.212 1456.27 Q896.383 1454.1 893.235 1454.1 Q890.087 1454.1 888.235 1456.27 Q886.407 1458.43 886.407 1462.15 Q886.407 1465.9 888.235 1468.06 Q890.087 1470.21 893.235 1470.21 Z\" fill=\"#000000\" fill-rule=\"nonzero\" fill-opacity=\"1\" /><path clip-path=\"url(#clip710)\" d=\"M923.953 1469.17 Q920.619 1469.17 918.698 1470.95 Q916.8 1472.73 916.8 1475.86 Q916.8 1478.98 918.698 1480.77 Q920.619 1482.55 923.953 1482.55 Q927.286 1482.55 929.207 1480.77 Q931.129 1478.96 931.129 1475.86 Q931.129 1472.73 929.207 1470.95 Q927.309 1469.17 923.953 1469.17 M919.277 1467.18 Q916.268 1466.44 914.578 1464.38 Q912.911 1462.32 912.911 1459.35 Q912.911 1455.21 915.851 1452.8 Q918.814 1450.39 923.953 1450.39 Q929.115 1450.39 932.055 1452.8 Q934.994 1455.21 934.994 1459.35 Q934.994 1462.32 933.305 1464.38 Q931.638 1466.44 928.652 1467.18 Q932.031 1467.96 933.906 1470.26 Q935.805 1472.55 935.805 1475.86 Q935.805 1480.88 932.726 1483.57 Q929.67 1486.25 923.953 1486.25 Q918.235 1486.25 915.156 1483.57 Q912.101 1480.88 912.101 1475.86 Q912.101 1472.55 913.999 1470.26 Q915.897 1467.96 919.277 1467.18 M917.564 1459.79 Q917.564 1462.48 919.231 1463.98 Q920.92 1465.49 923.953 1465.49 Q926.962 1465.49 928.652 1463.98 Q930.365 1462.48 930.365 1459.79 Q930.365 1457.11 928.652 1455.6 Q926.962 1454.1 923.953 1454.1 Q920.92 1454.1 919.231 1455.6 Q917.564 1457.11 917.564 1459.79 Z\" fill=\"#000000\" fill-rule=\"nonzero\" fill-opacity=\"1\" /><path clip-path=\"url(#clip710)\" d=\"M1257.3 1481.64 L1264.93 1481.64 L1264.93 1455.28 L1256.62 1456.95 L1256.62 1452.69 L1264.89 1451.02 L1269.56 1451.02 L1269.56 1481.64 L1277.2 1481.64 L1277.2 1485.58 L1257.3 1485.58 L1257.3 1481.64 Z\" fill=\"#000000\" fill-rule=\"nonzero\" fill-opacity=\"1\" /><path clip-path=\"url(#clip710)\" d=\"M1286.65 1479.7 L1291.53 1479.7 L1291.53 1485.58 L1286.65 1485.58 L1286.65 1479.7 Z\" fill=\"#000000\" fill-rule=\"nonzero\" fill-opacity=\"1\" /><path clip-path=\"url(#clip710)\" d=\"M1311.72 1454.1 Q1308.1 1454.1 1306.28 1457.66 Q1304.47 1461.2 1304.47 1468.33 Q1304.47 1475.44 1306.28 1479.01 Q1308.1 1482.55 1311.72 1482.55 Q1315.35 1482.55 1317.16 1479.01 Q1318.98 1475.44 1318.98 1468.33 Q1318.98 1461.2 1317.16 1457.66 Q1315.35 1454.1 1311.72 1454.1 M1311.72 1450.39 Q1317.53 1450.39 1320.58 1455 Q1323.66 1459.58 1323.66 1468.33 Q1323.66 1477.06 1320.58 1481.67 Q1317.53 1486.25 1311.72 1486.25 Q1305.91 1486.25 1302.83 1481.67 Q1299.77 1477.06 1299.77 1468.33 Q1299.77 1459.58 1302.83 1455 Q1305.91 1450.39 1311.72 1450.39 Z\" fill=\"#000000\" fill-rule=\"nonzero\" fill-opacity=\"1\" /><path clip-path=\"url(#clip710)\" d=\"M1341.88 1454.1 Q1338.27 1454.1 1336.44 1457.66 Q1334.63 1461.2 1334.63 1468.33 Q1334.63 1475.44 1336.44 1479.01 Q1338.27 1482.55 1341.88 1482.55 Q1345.51 1482.55 1347.32 1479.01 Q1349.15 1475.44 1349.15 1468.33 Q1349.15 1461.2 1347.32 1457.66 Q1345.51 1454.1 1341.88 1454.1 M1341.88 1450.39 Q1347.69 1450.39 1350.74 1455 Q1353.82 1459.58 1353.82 1468.33 Q1353.82 1477.06 1350.74 1481.67 Q1347.69 1486.25 1341.88 1486.25 Q1336.07 1486.25 1332.99 1481.67 Q1329.93 1477.06 1329.93 1468.33 Q1329.93 1459.58 1332.99 1455 Q1336.07 1450.39 1341.88 1450.39 Z\" fill=\"#000000\" fill-rule=\"nonzero\" fill-opacity=\"1\" /><path clip-path=\"url(#clip710)\" d=\"M1677.11 1481.64 L1684.75 1481.64 L1684.75 1455.28 L1676.44 1456.95 L1676.44 1452.69 L1684.7 1451.02 L1689.38 1451.02 L1689.38 1481.64 L1697.01 1481.64 L1697.01 1485.58 L1677.11 1485.58 L1677.11 1481.64 Z\" fill=\"#000000\" fill-rule=\"nonzero\" fill-opacity=\"1\" /><path clip-path=\"url(#clip710)\" d=\"M1706.46 1479.7 L1711.34 1479.7 L1711.34 1485.58 L1706.46 1485.58 L1706.46 1479.7 Z\" fill=\"#000000\" fill-rule=\"nonzero\" fill-opacity=\"1\" /><path clip-path=\"url(#clip710)\" d=\"M1731.53 1454.1 Q1727.92 1454.1 1726.09 1457.66 Q1724.28 1461.2 1724.28 1468.33 Q1724.28 1475.44 1726.09 1479.01 Q1727.92 1482.55 1731.53 1482.55 Q1735.16 1482.55 1736.97 1479.01 Q1738.8 1475.44 1738.8 1468.33 Q1738.8 1461.2 1736.97 1457.66 Q1735.16 1454.1 1731.53 1454.1 M1731.53 1450.39 Q1737.34 1450.39 1740.39 1455 Q1743.47 1459.58 1743.47 1468.33 Q1743.47 1477.06 1740.39 1481.67 Q1737.34 1486.25 1731.53 1486.25 Q1725.72 1486.25 1722.64 1481.67 Q1719.58 1477.06 1719.58 1468.33 Q1719.58 1459.58 1722.64 1455 Q1725.72 1450.39 1731.53 1450.39 Z\" fill=\"#000000\" fill-rule=\"nonzero\" fill-opacity=\"1\" /><path clip-path=\"url(#clip710)\" d=\"M1755.72 1481.64 L1772.04 1481.64 L1772.04 1485.58 L1750.09 1485.58 L1750.09 1481.64 Q1752.75 1478.89 1757.34 1474.26 Q1761.94 1469.61 1763.12 1468.27 Q1765.37 1465.74 1766.25 1464.01 Q1767.15 1462.25 1767.15 1460.56 Q1767.15 1457.8 1765.21 1456.07 Q1763.29 1454.33 1760.19 1454.33 Q1757.99 1454.33 1755.53 1455.09 Q1753.1 1455.86 1750.32 1457.41 L1750.32 1452.69 Q1753.15 1451.55 1755.6 1450.97 Q1758.06 1450.39 1760.09 1450.39 Q1765.46 1450.39 1768.66 1453.08 Q1771.85 1455.77 1771.85 1460.26 Q1771.85 1462.39 1771.04 1464.31 Q1770.25 1466.2 1768.15 1468.8 Q1767.57 1469.47 1764.47 1472.69 Q1761.37 1475.88 1755.72 1481.64 Z\" fill=\"#000000\" fill-rule=\"nonzero\" fill-opacity=\"1\" /><path clip-path=\"url(#clip710)\" d=\"M2095.08 1481.64 L2102.72 1481.64 L2102.72 1455.28 L2094.41 1456.95 L2094.41 1452.69 L2102.67 1451.02 L2107.35 1451.02 L2107.35 1481.64 L2114.99 1481.64 L2114.99 1485.58 L2095.08 1485.58 L2095.08 1481.64 Z\" fill=\"#000000\" fill-rule=\"nonzero\" fill-opacity=\"1\" /><path clip-path=\"url(#clip710)\" d=\"M2124.43 1479.7 L2129.31 1479.7 L2129.31 1485.58 L2124.43 1485.58 L2124.43 1479.7 Z\" fill=\"#000000\" fill-rule=\"nonzero\" fill-opacity=\"1\" /><path clip-path=\"url(#clip710)\" d=\"M2149.5 1454.1 Q2145.89 1454.1 2144.06 1457.66 Q2142.25 1461.2 2142.25 1468.33 Q2142.25 1475.44 2144.06 1479.01 Q2145.89 1482.55 2149.5 1482.55 Q2153.13 1482.55 2154.94 1479.01 Q2156.77 1475.44 2156.77 1468.33 Q2156.77 1461.2 2154.94 1457.66 Q2153.13 1454.1 2149.5 1454.1 M2149.5 1450.39 Q2155.31 1450.39 2158.36 1455 Q2161.44 1459.58 2161.44 1468.33 Q2161.44 1477.06 2158.36 1481.67 Q2155.31 1486.25 2149.5 1486.25 Q2143.69 1486.25 2140.61 1481.67 Q2137.55 1477.06 2137.55 1468.33 Q2137.55 1459.58 2140.61 1455 Q2143.69 1450.39 2149.5 1450.39 Z\" fill=\"#000000\" fill-rule=\"nonzero\" fill-opacity=\"1\" /><path clip-path=\"url(#clip710)\" d=\"M2182.51 1455.09 L2170.7 1473.54 L2182.51 1473.54 L2182.51 1455.09 M2181.28 1451.02 L2187.16 1451.02 L2187.16 1473.54 L2192.09 1473.54 L2192.09 1477.43 L2187.16 1477.43 L2187.16 1485.58 L2182.51 1485.58 L2182.51 1477.43 L2166.91 1477.43 L2166.91 1472.92 L2181.28 1451.02 Z\" fill=\"#000000\" fill-rule=\"nonzero\" fill-opacity=\"1\" /><path clip-path=\"url(#clip710)\" d=\"M1321.84 1532.4 L1308.95 1549.74 L1322.51 1568.04 L1315.6 1568.04 L1305.22 1554.04 L1294.85 1568.04 L1287.94 1568.04 L1301.79 1549.39 L1289.12 1532.4 L1296.02 1532.4 L1305.48 1545.1 L1314.93 1532.4 L1321.84 1532.4 Z\" fill=\"#000000\" fill-rule=\"nonzero\" fill-opacity=\"1\" /><polyline clip-path=\"url(#clip710)\" style=\"stroke:#000000; stroke-linecap:round; stroke-linejoin:round; stroke-width:4; stroke-opacity:1; fill:none\" points=\"257.69,1423.18 257.69,47.2441 \"/>\n",
       "<polyline clip-path=\"url(#clip710)\" style=\"stroke:#000000; stroke-linecap:round; stroke-linejoin:round; stroke-width:4; stroke-opacity:1; fill:none\" points=\"257.69,1418.28 276.588,1418.28 \"/>\n",
       "<polyline clip-path=\"url(#clip710)\" style=\"stroke:#000000; stroke-linecap:round; stroke-linejoin:round; stroke-width:4; stroke-opacity:1; fill:none\" points=\"257.69,1062.86 276.588,1062.86 \"/>\n",
       "<polyline clip-path=\"url(#clip710)\" style=\"stroke:#000000; stroke-linecap:round; stroke-linejoin:round; stroke-width:4; stroke-opacity:1; fill:none\" points=\"257.69,707.452 276.588,707.452 \"/>\n",
       "<polyline clip-path=\"url(#clip710)\" style=\"stroke:#000000; stroke-linecap:round; stroke-linejoin:round; stroke-width:4; stroke-opacity:1; fill:none\" points=\"257.69,352.04 276.588,352.04 \"/>\n",
       "<path clip-path=\"url(#clip710)\" d=\"M114.26 1418.73 L143.936 1418.73 L143.936 1422.66 L114.26 1422.66 L114.26 1418.73 Z\" fill=\"#000000\" fill-rule=\"nonzero\" fill-opacity=\"1\" /><path clip-path=\"url(#clip710)\" d=\"M164.028 1404.08 Q160.417 1404.08 158.589 1407.64 Q156.783 1411.18 156.783 1418.31 Q156.783 1425.42 158.589 1428.98 Q160.417 1432.52 164.028 1432.52 Q167.663 1432.52 169.468 1428.98 Q171.297 1425.42 171.297 1418.31 Q171.297 1411.18 169.468 1407.64 Q167.663 1404.08 164.028 1404.08 M164.028 1400.37 Q169.839 1400.37 172.894 1404.98 Q175.973 1409.56 175.973 1418.31 Q175.973 1427.04 172.894 1431.64 Q169.839 1436.23 164.028 1436.23 Q158.218 1436.23 155.14 1431.64 Q152.084 1427.04 152.084 1418.31 Q152.084 1409.56 155.14 1404.98 Q158.218 1400.37 164.028 1400.37 Z\" fill=\"#000000\" fill-rule=\"nonzero\" fill-opacity=\"1\" /><path clip-path=\"url(#clip710)\" d=\"M184.19 1429.68 L189.075 1429.68 L189.075 1435.56 L184.19 1435.56 L184.19 1429.68 Z\" fill=\"#000000\" fill-rule=\"nonzero\" fill-opacity=\"1\" /><path clip-path=\"url(#clip710)\" d=\"M212.107 1405.07 L200.301 1423.52 L212.107 1423.52 L212.107 1405.07 M210.88 1401 L216.76 1401 L216.76 1423.52 L221.69 1423.52 L221.69 1427.41 L216.76 1427.41 L216.76 1435.56 L212.107 1435.56 L212.107 1427.41 L196.505 1427.41 L196.505 1422.89 L210.88 1401 Z\" fill=\"#000000\" fill-rule=\"nonzero\" fill-opacity=\"1\" /><path clip-path=\"url(#clip710)\" d=\"M116.343 1063.32 L146.019 1063.32 L146.019 1067.25 L116.343 1067.25 L116.343 1063.32 Z\" fill=\"#000000\" fill-rule=\"nonzero\" fill-opacity=\"1\" /><path clip-path=\"url(#clip710)\" d=\"M166.112 1048.66 Q162.501 1048.66 160.672 1052.23 Q158.866 1055.77 158.866 1062.9 Q158.866 1070.01 160.672 1073.57 Q162.501 1077.11 166.112 1077.11 Q169.746 1077.11 171.552 1073.57 Q173.38 1070.01 173.38 1062.9 Q173.38 1055.77 171.552 1052.23 Q169.746 1048.66 166.112 1048.66 M166.112 1044.96 Q171.922 1044.96 174.977 1049.57 Q178.056 1054.15 178.056 1062.9 Q178.056 1071.63 174.977 1076.23 Q171.922 1080.82 166.112 1080.82 Q160.302 1080.82 157.223 1076.23 Q154.167 1071.63 154.167 1062.9 Q154.167 1054.15 157.223 1049.57 Q160.302 1044.96 166.112 1044.96 Z\" fill=\"#000000\" fill-rule=\"nonzero\" fill-opacity=\"1\" /><path clip-path=\"url(#clip710)\" d=\"M186.274 1074.26 L191.158 1074.26 L191.158 1080.14 L186.274 1080.14 L186.274 1074.26 Z\" fill=\"#000000\" fill-rule=\"nonzero\" fill-opacity=\"1\" /><path clip-path=\"url(#clip710)\" d=\"M205.371 1076.21 L221.69 1076.21 L221.69 1080.14 L199.746 1080.14 L199.746 1076.21 Q202.408 1073.45 206.991 1068.83 Q211.598 1064.17 212.778 1062.83 Q215.024 1060.31 215.903 1058.57 Q216.806 1056.81 216.806 1055.12 Q216.806 1052.37 214.861 1050.63 Q212.94 1048.89 209.838 1048.89 Q207.639 1048.89 205.186 1049.66 Q202.755 1050.42 199.977 1051.97 L199.977 1047.25 Q202.801 1046.12 205.255 1045.54 Q207.709 1044.96 209.746 1044.96 Q215.116 1044.96 218.311 1047.64 Q221.505 1050.33 221.505 1054.82 Q221.505 1056.95 220.695 1058.87 Q219.908 1060.77 217.801 1063.36 Q217.223 1064.03 214.121 1067.25 Q211.019 1070.45 205.371 1076.21 Z\" fill=\"#000000\" fill-rule=\"nonzero\" fill-opacity=\"1\" /><path clip-path=\"url(#clip710)\" d=\"M164.515 693.251 Q160.903 693.251 159.075 696.816 Q157.269 700.358 157.269 707.487 Q157.269 714.594 159.075 718.158 Q160.903 721.7 164.515 721.7 Q168.149 721.7 169.954 718.158 Q171.783 714.594 171.783 707.487 Q171.783 700.358 169.954 696.816 Q168.149 693.251 164.515 693.251 M164.515 689.547 Q170.325 689.547 173.38 694.154 Q176.459 698.737 176.459 707.487 Q176.459 716.214 173.38 720.82 Q170.325 725.404 164.515 725.404 Q158.704 725.404 155.626 720.82 Q152.57 716.214 152.57 707.487 Q152.57 698.737 155.626 694.154 Q158.704 689.547 164.515 689.547 Z\" fill=\"#000000\" fill-rule=\"nonzero\" fill-opacity=\"1\" /><path clip-path=\"url(#clip710)\" d=\"M184.676 718.853 L189.561 718.853 L189.561 724.732 L184.676 724.732 L184.676 718.853 Z\" fill=\"#000000\" fill-rule=\"nonzero\" fill-opacity=\"1\" /><path clip-path=\"url(#clip710)\" d=\"M209.746 693.251 Q206.135 693.251 204.306 696.816 Q202.5 700.358 202.5 707.487 Q202.5 714.594 204.306 718.158 Q206.135 721.7 209.746 721.7 Q213.38 721.7 215.186 718.158 Q217.014 714.594 217.014 707.487 Q217.014 700.358 215.186 696.816 Q213.38 693.251 209.746 693.251 M209.746 689.547 Q215.556 689.547 218.611 694.154 Q221.69 698.737 221.69 707.487 Q221.69 716.214 218.611 720.82 Q215.556 725.404 209.746 725.404 Q203.936 725.404 200.857 720.82 Q197.801 716.214 197.801 707.487 Q197.801 698.737 200.857 694.154 Q203.936 689.547 209.746 689.547 Z\" fill=\"#000000\" fill-rule=\"nonzero\" fill-opacity=\"1\" /><path clip-path=\"url(#clip710)\" d=\"M166.112 337.839 Q162.501 337.839 160.672 341.404 Q158.866 344.945 158.866 352.075 Q158.866 359.181 160.672 362.746 Q162.501 366.288 166.112 366.288 Q169.746 366.288 171.552 362.746 Q173.38 359.181 173.38 352.075 Q173.38 344.945 171.552 341.404 Q169.746 337.839 166.112 337.839 M166.112 334.135 Q171.922 334.135 174.977 338.742 Q178.056 343.325 178.056 352.075 Q178.056 360.802 174.977 365.408 Q171.922 369.992 166.112 369.992 Q160.302 369.992 157.223 365.408 Q154.167 360.802 154.167 352.075 Q154.167 343.325 157.223 338.742 Q160.302 334.135 166.112 334.135 Z\" fill=\"#000000\" fill-rule=\"nonzero\" fill-opacity=\"1\" /><path clip-path=\"url(#clip710)\" d=\"M186.274 363.441 L191.158 363.441 L191.158 369.32 L186.274 369.32 L186.274 363.441 Z\" fill=\"#000000\" fill-rule=\"nonzero\" fill-opacity=\"1\" /><path clip-path=\"url(#clip710)\" d=\"M205.371 365.385 L221.69 365.385 L221.69 369.32 L199.746 369.32 L199.746 365.385 Q202.408 362.631 206.991 358.001 Q211.598 353.348 212.778 352.006 Q215.024 349.482 215.903 347.746 Q216.806 345.987 216.806 344.297 Q216.806 341.543 214.861 339.807 Q212.94 338.07 209.838 338.07 Q207.639 338.07 205.186 338.834 Q202.755 339.598 199.977 341.149 L199.977 336.427 Q202.801 335.293 205.255 334.714 Q207.709 334.135 209.746 334.135 Q215.116 334.135 218.311 336.82 Q221.505 339.506 221.505 343.996 Q221.505 346.126 220.695 348.047 Q219.908 349.945 217.801 352.538 Q217.223 353.209 214.121 356.427 Q211.019 359.621 205.371 365.385 Z\" fill=\"#000000\" fill-rule=\"nonzero\" fill-opacity=\"1\" /><path clip-path=\"url(#clip710)\" d=\"M14.479 765.163 L19.3487 765.163 L19.3487 770.764 Q19.3487 773.915 20.6219 775.157 Q21.895 776.366 25.2052 776.366 L28.3562 776.366 L28.3562 766.722 L32.9077 766.722 L32.9077 776.366 L64.0042 776.366 L64.0042 782.255 L32.9077 782.255 L32.9077 787.856 L28.3562 787.856 L28.3562 782.255 L25.8736 782.255 Q19.9216 782.255 17.2162 779.485 Q14.479 776.716 14.479 770.701 L14.479 765.163 Z\" fill=\"#000000\" fill-rule=\"nonzero\" fill-opacity=\"1\" /><path clip-path=\"url(#clip710)\" d=\"M14.5426 746.193 Q21.8632 750.458 29.0246 752.527 Q36.186 754.596 43.5384 754.596 Q50.8908 754.596 58.1159 752.527 Q65.3091 750.426 72.5979 746.193 L72.5979 751.285 Q65.1182 756.06 57.8931 758.447 Q50.668 760.802 43.5384 760.802 Q36.4406 760.802 29.2474 758.447 Q22.0542 756.091 14.5426 751.285 L14.5426 746.193 Z\" fill=\"#000000\" fill-rule=\"nonzero\" fill-opacity=\"1\" /><path clip-path=\"url(#clip710)\" d=\"M28.3562 705.198 L45.7028 718.088 L64.0042 704.529 L64.0042 711.436 L49.9996 721.812 L64.0042 732.188 L64.0042 739.095 L45.3526 725.25 L28.3562 737.917 L28.3562 731.011 L41.0558 721.558 L28.3562 712.104 L28.3562 705.198 Z\" fill=\"#000000\" fill-rule=\"nonzero\" fill-opacity=\"1\" /><path clip-path=\"url(#clip710)\" d=\"M14.5426 697.177 L14.5426 692.084 Q22.0542 687.31 29.2474 684.955 Q36.4406 682.568 43.5384 682.568 Q50.668 682.568 57.8931 684.955 Q65.1182 687.31 72.5979 692.084 L72.5979 697.177 Q65.3091 692.944 58.1159 690.875 Q50.8908 688.774 43.5384 688.774 Q36.186 688.774 29.0246 690.875 Q21.8632 692.944 14.5426 697.177 Z\" fill=\"#000000\" fill-rule=\"nonzero\" fill-opacity=\"1\" /><polyline clip-path=\"url(#clip712)\" style=\"stroke:#009af9; stroke-linecap:round; stroke-linejoin:round; stroke-width:4; stroke-opacity:1; fill:none\" points=\"257.69,1384.24 263.097,1373.17 268.505,1362.62 273.912,1352.51 279.319,1342.79 295.154,1316.22 310.989,1291.88 326.823,1269.28 342.658,1248.08 358.493,1228.03 374.328,1208.96 390.162,1190.72 405.997,1173.22 435.462,1142.3 464.928,1113.19 504.422,1076.48 543.917,1041.92 576.552,1014.72 609.186,988.569 639.533,965.079 669.88,942.297 746.072,887.776 814.417,841.59 892.646,791.295 951.123,755.212 1025.92,710.673 1094.18,671.404 1171.87,628.112 1233.46,594.737 1309.98,554.319 1368.57,524.08 1451.19,482.412 1512.93,451.959 1583.14,417.991 1652.67,385.011 1729.16,349.45 1787.59,322.778 1861.33,289.713 1929.53,259.71 1999.86,229.345 2071.15,199.17 2145.59,168.318 2204.23,144.499 2337.77,91.9314 2352.76,86.1857 \"/>\n",
       "<circle clip-path=\"url(#clip712)\" cx=\"1031.43\" cy=\"707.452\" r=\"14.4\" fill=\"#ff0000\" fill-rule=\"evenodd\" fill-opacity=\"1\" stroke=\"#000000\" stroke-opacity=\"1\" stroke-width=\"3.2\"/>\n",
       "<path clip-path=\"url(#clip710)\" d=\"M327.526 196.789 L786.429 196.789 L786.429 93.1086 L327.526 93.1086  Z\" fill=\"#ffffff\" fill-rule=\"evenodd\" fill-opacity=\"1\"/>\n",
       "<polyline clip-path=\"url(#clip710)\" style=\"stroke:#000000; stroke-linecap:round; stroke-linejoin:round; stroke-width:4; stroke-opacity:1; fill:none\" points=\"327.526,196.789 786.429,196.789 786.429,93.1086 327.526,93.1086 327.526,196.789 \"/>\n",
       "<circle clip-path=\"url(#clip710)\" cx=\"420.64\" cy=\"144.949\" r=\"20.48\" fill=\"#ff0000\" fill-rule=\"evenodd\" fill-opacity=\"1\" stroke=\"#000000\" stroke-opacity=\"1\" stroke-width=\"4.55111\"/>\n",
       "<path clip-path=\"url(#clip710)\" d=\"M530.143 146.025 Q531.647 146.534 533.059 148.201 Q534.494 149.868 535.93 152.784 L540.675 162.229 L535.652 162.229 L531.23 153.363 Q529.518 149.891 527.897 148.756 Q526.3 147.622 523.522 147.622 L518.43 147.622 L518.43 162.229 L513.754 162.229 L513.754 127.669 L524.309 127.669 Q530.235 127.669 533.152 130.145 Q536.068 132.622 536.068 137.622 Q536.068 140.886 534.541 143.039 Q533.036 145.192 530.143 146.025 M518.43 131.511 L518.43 143.78 L524.309 143.78 Q527.689 143.78 529.402 142.229 Q531.138 140.655 531.138 137.622 Q531.138 134.59 529.402 133.062 Q527.689 131.511 524.309 131.511 L518.43 131.511 Z\" fill=\"#000000\" fill-rule=\"nonzero\" fill-opacity=\"1\" /><path clip-path=\"url(#clip710)\" d=\"M554.425 139.289 Q550.999 139.289 549.008 141.974 Q547.017 144.636 547.017 149.289 Q547.017 153.942 548.985 156.627 Q550.976 159.289 554.425 159.289 Q557.828 159.289 559.818 156.604 Q561.809 153.918 561.809 149.289 Q561.809 144.682 559.818 141.997 Q557.828 139.289 554.425 139.289 M554.425 135.678 Q559.98 135.678 563.152 139.289 Q566.323 142.9 566.323 149.289 Q566.323 155.655 563.152 159.289 Q559.98 162.9 554.425 162.9 Q548.846 162.9 545.675 159.289 Q542.527 155.655 542.527 149.289 Q542.527 142.9 545.675 139.289 Q548.846 135.678 554.425 135.678 Z\" fill=\"#000000\" fill-rule=\"nonzero\" fill-opacity=\"1\" /><path clip-path=\"url(#clip710)\" d=\"M583.429 139.289 Q580.003 139.289 578.013 141.974 Q576.022 144.636 576.022 149.289 Q576.022 153.942 577.989 156.627 Q579.98 159.289 583.429 159.289 Q586.832 159.289 588.823 156.604 Q590.814 153.918 590.814 149.289 Q590.814 144.682 588.823 141.997 Q586.832 139.289 583.429 139.289 M583.429 135.678 Q588.985 135.678 592.156 139.289 Q595.327 142.9 595.327 149.289 Q595.327 155.655 592.156 159.289 Q588.985 162.9 583.429 162.9 Q577.851 162.9 574.679 159.289 Q571.531 155.655 571.531 149.289 Q571.531 142.9 574.679 139.289 Q577.851 135.678 583.429 135.678 Z\" fill=\"#000000\" fill-rule=\"nonzero\" fill-opacity=\"1\" /><path clip-path=\"url(#clip710)\" d=\"M606.6 128.942 L606.6 136.303 L615.374 136.303 L615.374 139.613 L606.6 139.613 L606.6 153.687 Q606.6 156.858 607.457 157.761 Q608.337 158.664 610.999 158.664 L615.374 158.664 L615.374 162.229 L610.999 162.229 Q606.068 162.229 604.193 160.4 Q602.318 158.548 602.318 153.687 L602.318 139.613 L599.193 139.613 L599.193 136.303 L602.318 136.303 L602.318 128.942 L606.6 128.942 Z\" fill=\"#000000\" fill-rule=\"nonzero\" fill-opacity=\"1\" /><path clip-path=\"url(#clip710)\" d=\"M649.17 126.21 L649.17 129.752 L645.096 129.752 Q642.804 129.752 641.901 130.678 Q641.022 131.604 641.022 134.011 L641.022 136.303 L648.035 136.303 L648.035 139.613 L641.022 139.613 L641.022 162.229 L636.739 162.229 L636.739 139.613 L632.665 139.613 L632.665 136.303 L636.739 136.303 L636.739 134.497 Q636.739 130.169 638.753 128.201 Q640.767 126.21 645.142 126.21 L649.17 126.21 Z\" fill=\"#000000\" fill-rule=\"nonzero\" fill-opacity=\"1\" /><path clip-path=\"url(#clip710)\" d=\"M662.781 139.289 Q659.355 139.289 657.364 141.974 Q655.373 144.636 655.373 149.289 Q655.373 153.942 657.341 156.627 Q659.332 159.289 662.781 159.289 Q666.183 159.289 668.174 156.604 Q670.165 153.918 670.165 149.289 Q670.165 144.682 668.174 141.997 Q666.183 139.289 662.781 139.289 M662.781 135.678 Q668.336 135.678 671.508 139.289 Q674.679 142.9 674.679 149.289 Q674.679 155.655 671.508 159.289 Q668.336 162.9 662.781 162.9 Q657.202 162.9 654.031 159.289 Q650.883 155.655 650.883 149.289 Q650.883 142.9 654.031 139.289 Q657.202 135.678 662.781 135.678 Z\" fill=\"#000000\" fill-rule=\"nonzero\" fill-opacity=\"1\" /><path clip-path=\"url(#clip710)\" d=\"M681.299 151.997 L681.299 136.303 L685.558 136.303 L685.558 151.835 Q685.558 155.516 686.994 157.368 Q688.429 159.196 691.299 159.196 Q694.748 159.196 696.739 156.997 Q698.753 154.798 698.753 151.002 L698.753 136.303 L703.012 136.303 L703.012 162.229 L698.753 162.229 L698.753 158.247 Q697.202 160.608 695.142 161.766 Q693.105 162.9 690.396 162.9 Q685.929 162.9 683.614 160.122 Q681.299 157.344 681.299 151.997 M692.017 135.678 L692.017 135.678 Z\" fill=\"#000000\" fill-rule=\"nonzero\" fill-opacity=\"1\" /><path clip-path=\"url(#clip710)\" d=\"M733.336 146.581 L733.336 162.229 L729.077 162.229 L729.077 146.719 Q729.077 143.039 727.641 141.21 Q726.206 139.382 723.336 139.382 Q719.887 139.382 717.896 141.581 Q715.905 143.78 715.905 147.576 L715.905 162.229 L711.623 162.229 L711.623 136.303 L715.905 136.303 L715.905 140.331 Q717.433 137.993 719.493 136.835 Q721.577 135.678 724.285 135.678 Q728.753 135.678 731.044 138.456 Q733.336 141.21 733.336 146.581 Z\" fill=\"#000000\" fill-rule=\"nonzero\" fill-opacity=\"1\" /><path clip-path=\"url(#clip710)\" d=\"M758.891 140.238 L758.891 126.21 L763.151 126.21 L763.151 162.229 L758.891 162.229 L758.891 158.34 Q757.549 160.655 755.489 161.789 Q753.452 162.9 750.581 162.9 Q745.882 162.9 742.919 159.15 Q739.979 155.4 739.979 149.289 Q739.979 143.178 742.919 139.428 Q745.882 135.678 750.581 135.678 Q753.452 135.678 755.489 136.812 Q757.549 137.923 758.891 140.238 M744.377 149.289 Q744.377 153.988 746.299 156.673 Q748.243 159.335 751.623 159.335 Q755.002 159.335 756.947 156.673 Q758.891 153.988 758.891 149.289 Q758.891 144.59 756.947 141.928 Q755.002 139.243 751.623 139.243 Q748.243 139.243 746.299 141.928 Q744.377 144.59 744.377 149.289 Z\" fill=\"#000000\" fill-rule=\"nonzero\" fill-opacity=\"1\" /></svg>\n"
      ],
      "text/html": [
       "<?xml version=\"1.0\" encoding=\"utf-8\"?>\n",
       "<svg xmlns=\"http://www.w3.org/2000/svg\" xmlns:xlink=\"http://www.w3.org/1999/xlink\" width=\"600\" height=\"400\" viewBox=\"0 0 2400 1600\">\n",
       "<defs>\n",
       "  <clipPath id=\"clip760\">\n",
       "    <rect x=\"0\" y=\"0\" width=\"2400\" height=\"1600\"/>\n",
       "  </clipPath>\n",
       "</defs>\n",
       "<path clip-path=\"url(#clip760)\" d=\"M0 1600 L2400 1600 L2400 8.88178e-14 L0 8.88178e-14  Z\" fill=\"#ffffff\" fill-rule=\"evenodd\" fill-opacity=\"1\"/>\n",
       "<defs>\n",
       "  <clipPath id=\"clip761\">\n",
       "    <rect x=\"480\" y=\"0\" width=\"1681\" height=\"1600\"/>\n",
       "  </clipPath>\n",
       "</defs>\n",
       "<path clip-path=\"url(#clip760)\" d=\"M257.69 1423.18 L2352.76 1423.18 L2352.76 47.2441 L257.69 47.2441  Z\" fill=\"#ffffff\" fill-rule=\"evenodd\" fill-opacity=\"1\"/>\n",
       "<defs>\n",
       "  <clipPath id=\"clip762\">\n",
       "    <rect x=\"257\" y=\"47\" width=\"2096\" height=\"1377\"/>\n",
       "  </clipPath>\n",
       "</defs>\n",
       "<polyline clip-path=\"url(#clip762)\" style=\"stroke:#000000; stroke-linecap:round; stroke-linejoin:round; stroke-width:2; stroke-opacity:0.1; fill:none\" points=\"467.197,1423.18 467.197,47.2441 \"/>\n",
       "<polyline clip-path=\"url(#clip762)\" style=\"stroke:#000000; stroke-linecap:round; stroke-linejoin:round; stroke-width:2; stroke-opacity:0.1; fill:none\" points=\"886.21,1423.18 886.21,47.2441 \"/>\n",
       "<polyline clip-path=\"url(#clip762)\" style=\"stroke:#000000; stroke-linecap:round; stroke-linejoin:round; stroke-width:2; stroke-opacity:0.1; fill:none\" points=\"1305.22,1423.18 1305.22,47.2441 \"/>\n",
       "<polyline clip-path=\"url(#clip762)\" style=\"stroke:#000000; stroke-linecap:round; stroke-linejoin:round; stroke-width:2; stroke-opacity:0.1; fill:none\" points=\"1724.24,1423.18 1724.24,47.2441 \"/>\n",
       "<polyline clip-path=\"url(#clip762)\" style=\"stroke:#000000; stroke-linecap:round; stroke-linejoin:round; stroke-width:2; stroke-opacity:0.1; fill:none\" points=\"2143.25,1423.18 2143.25,47.2441 \"/>\n",
       "<polyline clip-path=\"url(#clip762)\" style=\"stroke:#000000; stroke-linecap:round; stroke-linejoin:round; stroke-width:2; stroke-opacity:0.1; fill:none\" points=\"257.69,1418.28 2352.76,1418.28 \"/>\n",
       "<polyline clip-path=\"url(#clip762)\" style=\"stroke:#000000; stroke-linecap:round; stroke-linejoin:round; stroke-width:2; stroke-opacity:0.1; fill:none\" points=\"257.69,1062.86 2352.76,1062.86 \"/>\n",
       "<polyline clip-path=\"url(#clip762)\" style=\"stroke:#000000; stroke-linecap:round; stroke-linejoin:round; stroke-width:2; stroke-opacity:0.1; fill:none\" points=\"257.69,707.452 2352.76,707.452 \"/>\n",
       "<polyline clip-path=\"url(#clip762)\" style=\"stroke:#000000; stroke-linecap:round; stroke-linejoin:round; stroke-width:2; stroke-opacity:0.1; fill:none\" points=\"257.69,352.04 2352.76,352.04 \"/>\n",
       "<polyline clip-path=\"url(#clip760)\" style=\"stroke:#000000; stroke-linecap:round; stroke-linejoin:round; stroke-width:4; stroke-opacity:1; fill:none\" points=\"257.69,1423.18 2352.76,1423.18 \"/>\n",
       "<polyline clip-path=\"url(#clip760)\" style=\"stroke:#000000; stroke-linecap:round; stroke-linejoin:round; stroke-width:4; stroke-opacity:1; fill:none\" points=\"467.197,1423.18 467.197,1404.28 \"/>\n",
       "<polyline clip-path=\"url(#clip760)\" style=\"stroke:#000000; stroke-linecap:round; stroke-linejoin:round; stroke-width:4; stroke-opacity:1; fill:none\" points=\"886.21,1423.18 886.21,1404.28 \"/>\n",
       "<polyline clip-path=\"url(#clip760)\" style=\"stroke:#000000; stroke-linecap:round; stroke-linejoin:round; stroke-width:4; stroke-opacity:1; fill:none\" points=\"1305.22,1423.18 1305.22,1404.28 \"/>\n",
       "<polyline clip-path=\"url(#clip760)\" style=\"stroke:#000000; stroke-linecap:round; stroke-linejoin:round; stroke-width:4; stroke-opacity:1; fill:none\" points=\"1724.24,1423.18 1724.24,1404.28 \"/>\n",
       "<polyline clip-path=\"url(#clip760)\" style=\"stroke:#000000; stroke-linecap:round; stroke-linejoin:round; stroke-width:4; stroke-opacity:1; fill:none\" points=\"2143.25,1423.18 2143.25,1404.28 \"/>\n",
       "<path clip-path=\"url(#clip760)\" d=\"M429.419 1454.1 Q425.808 1454.1 423.979 1457.66 Q422.174 1461.2 422.174 1468.33 Q422.174 1475.44 423.979 1479.01 Q425.808 1482.55 429.419 1482.55 Q433.053 1482.55 434.859 1479.01 Q436.688 1475.44 436.688 1468.33 Q436.688 1461.2 434.859 1457.66 Q433.053 1454.1 429.419 1454.1 M429.419 1450.39 Q435.229 1450.39 438.285 1455 Q441.364 1459.58 441.364 1468.33 Q441.364 1477.06 438.285 1481.67 Q435.229 1486.25 429.419 1486.25 Q423.609 1486.25 420.53 1481.67 Q417.475 1477.06 417.475 1468.33 Q417.475 1459.58 420.53 1455 Q423.609 1450.39 429.419 1450.39 Z\" fill=\"#000000\" fill-rule=\"nonzero\" fill-opacity=\"1\" /><path clip-path=\"url(#clip760)\" d=\"M449.581 1479.7 L454.465 1479.7 L454.465 1485.58 L449.581 1485.58 L449.581 1479.7 Z\" fill=\"#000000\" fill-rule=\"nonzero\" fill-opacity=\"1\" /><path clip-path=\"url(#clip760)\" d=\"M464.789 1484.86 L464.789 1480.6 Q466.549 1481.44 468.354 1481.88 Q470.16 1482.32 471.896 1482.32 Q476.525 1482.32 478.956 1479.21 Q481.41 1476.09 481.757 1469.75 Q480.414 1471.74 478.354 1472.8 Q476.294 1473.87 473.794 1473.87 Q468.609 1473.87 465.576 1470.74 Q462.567 1467.59 462.567 1462.15 Q462.567 1456.83 465.715 1453.61 Q468.863 1450.39 474.095 1450.39 Q480.09 1450.39 483.238 1455 Q486.41 1459.58 486.41 1468.33 Q486.41 1476.51 482.521 1481.39 Q478.655 1486.25 472.104 1486.25 Q470.345 1486.25 468.539 1485.9 Q466.734 1485.56 464.789 1484.86 M474.095 1470.21 Q477.243 1470.21 479.072 1468.06 Q480.923 1465.9 480.923 1462.15 Q480.923 1458.43 479.072 1456.27 Q477.243 1454.1 474.095 1454.1 Q470.947 1454.1 469.095 1456.27 Q467.266 1458.43 467.266 1462.15 Q467.266 1465.9 469.095 1468.06 Q470.947 1470.21 474.095 1470.21 Z\" fill=\"#000000\" fill-rule=\"nonzero\" fill-opacity=\"1\" /><path clip-path=\"url(#clip760)\" d=\"M505.391 1466.44 Q502.243 1466.44 500.391 1468.59 Q498.562 1470.74 498.562 1474.49 Q498.562 1478.22 500.391 1480.39 Q502.243 1482.55 505.391 1482.55 Q508.539 1482.55 510.368 1480.39 Q512.22 1478.22 512.22 1474.49 Q512.22 1470.74 510.368 1468.59 Q508.539 1466.44 505.391 1466.44 M514.673 1451.78 L514.673 1456.04 Q512.914 1455.21 511.109 1454.77 Q509.326 1454.33 507.567 1454.33 Q502.937 1454.33 500.484 1457.45 Q498.053 1460.58 497.706 1466.9 Q499.072 1464.89 501.132 1463.82 Q503.192 1462.73 505.669 1462.73 Q510.877 1462.73 513.886 1465.9 Q516.919 1469.05 516.919 1474.49 Q516.919 1479.82 513.771 1483.03 Q510.622 1486.25 505.391 1486.25 Q499.396 1486.25 496.224 1481.67 Q493.053 1477.06 493.053 1468.33 Q493.053 1460.14 496.942 1455.28 Q500.831 1450.39 507.382 1450.39 Q509.141 1450.39 510.923 1450.74 Q512.729 1451.09 514.673 1451.78 Z\" fill=\"#000000\" fill-rule=\"nonzero\" fill-opacity=\"1\" /><path clip-path=\"url(#clip760)\" d=\"M848.56 1454.1 Q844.949 1454.1 843.12 1457.66 Q841.314 1461.2 841.314 1468.33 Q841.314 1475.44 843.12 1479.01 Q844.949 1482.55 848.56 1482.55 Q852.194 1482.55 853.999 1479.01 Q855.828 1475.44 855.828 1468.33 Q855.828 1461.2 853.999 1457.66 Q852.194 1454.1 848.56 1454.1 M848.56 1450.39 Q854.37 1450.39 857.425 1455 Q860.504 1459.58 860.504 1468.33 Q860.504 1477.06 857.425 1481.67 Q854.37 1486.25 848.56 1486.25 Q842.749 1486.25 839.671 1481.67 Q836.615 1477.06 836.615 1468.33 Q836.615 1459.58 839.671 1455 Q842.749 1450.39 848.56 1450.39 Z\" fill=\"#000000\" fill-rule=\"nonzero\" fill-opacity=\"1\" /><path clip-path=\"url(#clip760)\" d=\"M868.722 1479.7 L873.606 1479.7 L873.606 1485.58 L868.722 1485.58 L868.722 1479.7 Z\" fill=\"#000000\" fill-rule=\"nonzero\" fill-opacity=\"1\" /><path clip-path=\"url(#clip760)\" d=\"M883.93 1484.86 L883.93 1480.6 Q885.689 1481.44 887.495 1481.88 Q889.3 1482.32 891.036 1482.32 Q895.666 1482.32 898.096 1479.21 Q900.55 1476.09 900.897 1469.75 Q899.555 1471.74 897.495 1472.8 Q895.434 1473.87 892.934 1473.87 Q887.749 1473.87 884.717 1470.74 Q881.708 1467.59 881.708 1462.15 Q881.708 1456.83 884.856 1453.61 Q888.004 1450.39 893.235 1450.39 Q899.231 1450.39 902.379 1455 Q905.55 1459.58 905.55 1468.33 Q905.55 1476.51 901.661 1481.39 Q897.795 1486.25 891.245 1486.25 Q889.485 1486.25 887.68 1485.9 Q885.874 1485.56 883.93 1484.86 M893.235 1470.21 Q896.383 1470.21 898.212 1468.06 Q900.064 1465.9 900.064 1462.15 Q900.064 1458.43 898.212 1456.27 Q896.383 1454.1 893.235 1454.1 Q890.087 1454.1 888.235 1456.27 Q886.407 1458.43 886.407 1462.15 Q886.407 1465.9 888.235 1468.06 Q890.087 1470.21 893.235 1470.21 Z\" fill=\"#000000\" fill-rule=\"nonzero\" fill-opacity=\"1\" /><path clip-path=\"url(#clip760)\" d=\"M923.953 1469.17 Q920.619 1469.17 918.698 1470.95 Q916.8 1472.73 916.8 1475.86 Q916.8 1478.98 918.698 1480.77 Q920.619 1482.55 923.953 1482.55 Q927.286 1482.55 929.207 1480.77 Q931.129 1478.96 931.129 1475.86 Q931.129 1472.73 929.207 1470.95 Q927.309 1469.17 923.953 1469.17 M919.277 1467.18 Q916.268 1466.44 914.578 1464.38 Q912.911 1462.32 912.911 1459.35 Q912.911 1455.21 915.851 1452.8 Q918.814 1450.39 923.953 1450.39 Q929.115 1450.39 932.055 1452.8 Q934.994 1455.21 934.994 1459.35 Q934.994 1462.32 933.305 1464.38 Q931.638 1466.44 928.652 1467.18 Q932.031 1467.96 933.906 1470.26 Q935.805 1472.55 935.805 1475.86 Q935.805 1480.88 932.726 1483.57 Q929.67 1486.25 923.953 1486.25 Q918.235 1486.25 915.156 1483.57 Q912.101 1480.88 912.101 1475.86 Q912.101 1472.55 913.999 1470.26 Q915.897 1467.96 919.277 1467.18 M917.564 1459.79 Q917.564 1462.48 919.231 1463.98 Q920.92 1465.49 923.953 1465.49 Q926.962 1465.49 928.652 1463.98 Q930.365 1462.48 930.365 1459.79 Q930.365 1457.11 928.652 1455.6 Q926.962 1454.1 923.953 1454.1 Q920.92 1454.1 919.231 1455.6 Q917.564 1457.11 917.564 1459.79 Z\" fill=\"#000000\" fill-rule=\"nonzero\" fill-opacity=\"1\" /><path clip-path=\"url(#clip760)\" d=\"M1257.3 1481.64 L1264.93 1481.64 L1264.93 1455.28 L1256.62 1456.95 L1256.62 1452.69 L1264.89 1451.02 L1269.56 1451.02 L1269.56 1481.64 L1277.2 1481.64 L1277.2 1485.58 L1257.3 1485.58 L1257.3 1481.64 Z\" fill=\"#000000\" fill-rule=\"nonzero\" fill-opacity=\"1\" /><path clip-path=\"url(#clip760)\" d=\"M1286.65 1479.7 L1291.53 1479.7 L1291.53 1485.58 L1286.65 1485.58 L1286.65 1479.7 Z\" fill=\"#000000\" fill-rule=\"nonzero\" fill-opacity=\"1\" /><path clip-path=\"url(#clip760)\" d=\"M1311.72 1454.1 Q1308.1 1454.1 1306.28 1457.66 Q1304.47 1461.2 1304.47 1468.33 Q1304.47 1475.44 1306.28 1479.01 Q1308.1 1482.55 1311.72 1482.55 Q1315.35 1482.55 1317.16 1479.01 Q1318.98 1475.44 1318.98 1468.33 Q1318.98 1461.2 1317.16 1457.66 Q1315.35 1454.1 1311.72 1454.1 M1311.72 1450.39 Q1317.53 1450.39 1320.58 1455 Q1323.66 1459.58 1323.66 1468.33 Q1323.66 1477.06 1320.58 1481.67 Q1317.53 1486.25 1311.72 1486.25 Q1305.91 1486.25 1302.83 1481.67 Q1299.77 1477.06 1299.77 1468.33 Q1299.77 1459.58 1302.83 1455 Q1305.91 1450.39 1311.72 1450.39 Z\" fill=\"#000000\" fill-rule=\"nonzero\" fill-opacity=\"1\" /><path clip-path=\"url(#clip760)\" d=\"M1341.88 1454.1 Q1338.27 1454.1 1336.44 1457.66 Q1334.63 1461.2 1334.63 1468.33 Q1334.63 1475.44 1336.44 1479.01 Q1338.27 1482.55 1341.88 1482.55 Q1345.51 1482.55 1347.32 1479.01 Q1349.15 1475.44 1349.15 1468.33 Q1349.15 1461.2 1347.32 1457.66 Q1345.51 1454.1 1341.88 1454.1 M1341.88 1450.39 Q1347.69 1450.39 1350.74 1455 Q1353.82 1459.58 1353.82 1468.33 Q1353.82 1477.06 1350.74 1481.67 Q1347.69 1486.25 1341.88 1486.25 Q1336.07 1486.25 1332.99 1481.67 Q1329.93 1477.06 1329.93 1468.33 Q1329.93 1459.58 1332.99 1455 Q1336.07 1450.39 1341.88 1450.39 Z\" fill=\"#000000\" fill-rule=\"nonzero\" fill-opacity=\"1\" /><path clip-path=\"url(#clip760)\" d=\"M1677.11 1481.64 L1684.75 1481.64 L1684.75 1455.28 L1676.44 1456.95 L1676.44 1452.69 L1684.7 1451.02 L1689.38 1451.02 L1689.38 1481.64 L1697.01 1481.64 L1697.01 1485.58 L1677.11 1485.58 L1677.11 1481.64 Z\" fill=\"#000000\" fill-rule=\"nonzero\" fill-opacity=\"1\" /><path clip-path=\"url(#clip760)\" d=\"M1706.46 1479.7 L1711.34 1479.7 L1711.34 1485.58 L1706.46 1485.58 L1706.46 1479.7 Z\" fill=\"#000000\" fill-rule=\"nonzero\" fill-opacity=\"1\" /><path clip-path=\"url(#clip760)\" d=\"M1731.53 1454.1 Q1727.92 1454.1 1726.09 1457.66 Q1724.28 1461.2 1724.28 1468.33 Q1724.28 1475.44 1726.09 1479.01 Q1727.92 1482.55 1731.53 1482.55 Q1735.16 1482.55 1736.97 1479.01 Q1738.8 1475.44 1738.8 1468.33 Q1738.8 1461.2 1736.97 1457.66 Q1735.16 1454.1 1731.53 1454.1 M1731.53 1450.39 Q1737.34 1450.39 1740.39 1455 Q1743.47 1459.58 1743.47 1468.33 Q1743.47 1477.06 1740.39 1481.67 Q1737.34 1486.25 1731.53 1486.25 Q1725.72 1486.25 1722.64 1481.67 Q1719.58 1477.06 1719.58 1468.33 Q1719.58 1459.58 1722.64 1455 Q1725.72 1450.39 1731.53 1450.39 Z\" fill=\"#000000\" fill-rule=\"nonzero\" fill-opacity=\"1\" /><path clip-path=\"url(#clip760)\" d=\"M1755.72 1481.64 L1772.04 1481.64 L1772.04 1485.58 L1750.09 1485.58 L1750.09 1481.64 Q1752.75 1478.89 1757.34 1474.26 Q1761.94 1469.61 1763.12 1468.27 Q1765.37 1465.74 1766.25 1464.01 Q1767.15 1462.25 1767.15 1460.56 Q1767.15 1457.8 1765.21 1456.07 Q1763.29 1454.33 1760.19 1454.33 Q1757.99 1454.33 1755.53 1455.09 Q1753.1 1455.86 1750.32 1457.41 L1750.32 1452.69 Q1753.15 1451.55 1755.6 1450.97 Q1758.06 1450.39 1760.09 1450.39 Q1765.46 1450.39 1768.66 1453.08 Q1771.85 1455.77 1771.85 1460.26 Q1771.85 1462.39 1771.04 1464.31 Q1770.25 1466.2 1768.15 1468.8 Q1767.57 1469.47 1764.47 1472.69 Q1761.37 1475.88 1755.72 1481.64 Z\" fill=\"#000000\" fill-rule=\"nonzero\" fill-opacity=\"1\" /><path clip-path=\"url(#clip760)\" d=\"M2095.08 1481.64 L2102.72 1481.64 L2102.72 1455.28 L2094.41 1456.95 L2094.41 1452.69 L2102.67 1451.02 L2107.35 1451.02 L2107.35 1481.64 L2114.99 1481.64 L2114.99 1485.58 L2095.08 1485.58 L2095.08 1481.64 Z\" fill=\"#000000\" fill-rule=\"nonzero\" fill-opacity=\"1\" /><path clip-path=\"url(#clip760)\" d=\"M2124.43 1479.7 L2129.31 1479.7 L2129.31 1485.58 L2124.43 1485.58 L2124.43 1479.7 Z\" fill=\"#000000\" fill-rule=\"nonzero\" fill-opacity=\"1\" /><path clip-path=\"url(#clip760)\" d=\"M2149.5 1454.1 Q2145.89 1454.1 2144.06 1457.66 Q2142.25 1461.2 2142.25 1468.33 Q2142.25 1475.44 2144.06 1479.01 Q2145.89 1482.55 2149.5 1482.55 Q2153.13 1482.55 2154.94 1479.01 Q2156.77 1475.44 2156.77 1468.33 Q2156.77 1461.2 2154.94 1457.66 Q2153.13 1454.1 2149.5 1454.1 M2149.5 1450.39 Q2155.31 1450.39 2158.36 1455 Q2161.44 1459.58 2161.44 1468.33 Q2161.44 1477.06 2158.36 1481.67 Q2155.31 1486.25 2149.5 1486.25 Q2143.69 1486.25 2140.61 1481.67 Q2137.55 1477.06 2137.55 1468.33 Q2137.55 1459.58 2140.61 1455 Q2143.69 1450.39 2149.5 1450.39 Z\" fill=\"#000000\" fill-rule=\"nonzero\" fill-opacity=\"1\" /><path clip-path=\"url(#clip760)\" d=\"M2182.51 1455.09 L2170.7 1473.54 L2182.51 1473.54 L2182.51 1455.09 M2181.28 1451.02 L2187.16 1451.02 L2187.16 1473.54 L2192.09 1473.54 L2192.09 1477.43 L2187.16 1477.43 L2187.16 1485.58 L2182.51 1485.58 L2182.51 1477.43 L2166.91 1477.43 L2166.91 1472.92 L2181.28 1451.02 Z\" fill=\"#000000\" fill-rule=\"nonzero\" fill-opacity=\"1\" /><path clip-path=\"url(#clip760)\" d=\"M1321.84 1532.4 L1308.95 1549.74 L1322.51 1568.04 L1315.6 1568.04 L1305.22 1554.04 L1294.85 1568.04 L1287.94 1568.04 L1301.79 1549.39 L1289.12 1532.4 L1296.02 1532.4 L1305.48 1545.1 L1314.93 1532.4 L1321.84 1532.4 Z\" fill=\"#000000\" fill-rule=\"nonzero\" fill-opacity=\"1\" /><polyline clip-path=\"url(#clip760)\" style=\"stroke:#000000; stroke-linecap:round; stroke-linejoin:round; stroke-width:4; stroke-opacity:1; fill:none\" points=\"257.69,1423.18 257.69,47.2441 \"/>\n",
       "<polyline clip-path=\"url(#clip760)\" style=\"stroke:#000000; stroke-linecap:round; stroke-linejoin:round; stroke-width:4; stroke-opacity:1; fill:none\" points=\"257.69,1418.28 276.588,1418.28 \"/>\n",
       "<polyline clip-path=\"url(#clip760)\" style=\"stroke:#000000; stroke-linecap:round; stroke-linejoin:round; stroke-width:4; stroke-opacity:1; fill:none\" points=\"257.69,1062.86 276.588,1062.86 \"/>\n",
       "<polyline clip-path=\"url(#clip760)\" style=\"stroke:#000000; stroke-linecap:round; stroke-linejoin:round; stroke-width:4; stroke-opacity:1; fill:none\" points=\"257.69,707.452 276.588,707.452 \"/>\n",
       "<polyline clip-path=\"url(#clip760)\" style=\"stroke:#000000; stroke-linecap:round; stroke-linejoin:round; stroke-width:4; stroke-opacity:1; fill:none\" points=\"257.69,352.04 276.588,352.04 \"/>\n",
       "<path clip-path=\"url(#clip760)\" d=\"M114.26 1418.73 L143.936 1418.73 L143.936 1422.66 L114.26 1422.66 L114.26 1418.73 Z\" fill=\"#000000\" fill-rule=\"nonzero\" fill-opacity=\"1\" /><path clip-path=\"url(#clip760)\" d=\"M164.028 1404.08 Q160.417 1404.08 158.589 1407.64 Q156.783 1411.18 156.783 1418.31 Q156.783 1425.42 158.589 1428.98 Q160.417 1432.52 164.028 1432.52 Q167.663 1432.52 169.468 1428.98 Q171.297 1425.42 171.297 1418.31 Q171.297 1411.18 169.468 1407.64 Q167.663 1404.08 164.028 1404.08 M164.028 1400.37 Q169.839 1400.37 172.894 1404.98 Q175.973 1409.56 175.973 1418.31 Q175.973 1427.04 172.894 1431.64 Q169.839 1436.23 164.028 1436.23 Q158.218 1436.23 155.14 1431.64 Q152.084 1427.04 152.084 1418.31 Q152.084 1409.56 155.14 1404.98 Q158.218 1400.37 164.028 1400.37 Z\" fill=\"#000000\" fill-rule=\"nonzero\" fill-opacity=\"1\" /><path clip-path=\"url(#clip760)\" d=\"M184.19 1429.68 L189.075 1429.68 L189.075 1435.56 L184.19 1435.56 L184.19 1429.68 Z\" fill=\"#000000\" fill-rule=\"nonzero\" fill-opacity=\"1\" /><path clip-path=\"url(#clip760)\" d=\"M212.107 1405.07 L200.301 1423.52 L212.107 1423.52 L212.107 1405.07 M210.88 1401 L216.76 1401 L216.76 1423.52 L221.69 1423.52 L221.69 1427.41 L216.76 1427.41 L216.76 1435.56 L212.107 1435.56 L212.107 1427.41 L196.505 1427.41 L196.505 1422.89 L210.88 1401 Z\" fill=\"#000000\" fill-rule=\"nonzero\" fill-opacity=\"1\" /><path clip-path=\"url(#clip760)\" d=\"M116.343 1063.32 L146.019 1063.32 L146.019 1067.25 L116.343 1067.25 L116.343 1063.32 Z\" fill=\"#000000\" fill-rule=\"nonzero\" fill-opacity=\"1\" /><path clip-path=\"url(#clip760)\" d=\"M166.112 1048.66 Q162.501 1048.66 160.672 1052.23 Q158.866 1055.77 158.866 1062.9 Q158.866 1070.01 160.672 1073.57 Q162.501 1077.11 166.112 1077.11 Q169.746 1077.11 171.552 1073.57 Q173.38 1070.01 173.38 1062.9 Q173.38 1055.77 171.552 1052.23 Q169.746 1048.66 166.112 1048.66 M166.112 1044.96 Q171.922 1044.96 174.977 1049.57 Q178.056 1054.15 178.056 1062.9 Q178.056 1071.63 174.977 1076.23 Q171.922 1080.82 166.112 1080.82 Q160.302 1080.82 157.223 1076.23 Q154.167 1071.63 154.167 1062.9 Q154.167 1054.15 157.223 1049.57 Q160.302 1044.96 166.112 1044.96 Z\" fill=\"#000000\" fill-rule=\"nonzero\" fill-opacity=\"1\" /><path clip-path=\"url(#clip760)\" d=\"M186.274 1074.26 L191.158 1074.26 L191.158 1080.14 L186.274 1080.14 L186.274 1074.26 Z\" fill=\"#000000\" fill-rule=\"nonzero\" fill-opacity=\"1\" /><path clip-path=\"url(#clip760)\" d=\"M205.371 1076.21 L221.69 1076.21 L221.69 1080.14 L199.746 1080.14 L199.746 1076.21 Q202.408 1073.45 206.991 1068.83 Q211.598 1064.17 212.778 1062.83 Q215.024 1060.31 215.903 1058.57 Q216.806 1056.81 216.806 1055.12 Q216.806 1052.37 214.861 1050.63 Q212.94 1048.89 209.838 1048.89 Q207.639 1048.89 205.186 1049.66 Q202.755 1050.42 199.977 1051.97 L199.977 1047.25 Q202.801 1046.12 205.255 1045.54 Q207.709 1044.96 209.746 1044.96 Q215.116 1044.96 218.311 1047.64 Q221.505 1050.33 221.505 1054.82 Q221.505 1056.95 220.695 1058.87 Q219.908 1060.77 217.801 1063.36 Q217.223 1064.03 214.121 1067.25 Q211.019 1070.45 205.371 1076.21 Z\" fill=\"#000000\" fill-rule=\"nonzero\" fill-opacity=\"1\" /><path clip-path=\"url(#clip760)\" d=\"M164.515 693.251 Q160.903 693.251 159.075 696.816 Q157.269 700.358 157.269 707.487 Q157.269 714.594 159.075 718.158 Q160.903 721.7 164.515 721.7 Q168.149 721.7 169.954 718.158 Q171.783 714.594 171.783 707.487 Q171.783 700.358 169.954 696.816 Q168.149 693.251 164.515 693.251 M164.515 689.547 Q170.325 689.547 173.38 694.154 Q176.459 698.737 176.459 707.487 Q176.459 716.214 173.38 720.82 Q170.325 725.404 164.515 725.404 Q158.704 725.404 155.626 720.82 Q152.57 716.214 152.57 707.487 Q152.57 698.737 155.626 694.154 Q158.704 689.547 164.515 689.547 Z\" fill=\"#000000\" fill-rule=\"nonzero\" fill-opacity=\"1\" /><path clip-path=\"url(#clip760)\" d=\"M184.676 718.853 L189.561 718.853 L189.561 724.732 L184.676 724.732 L184.676 718.853 Z\" fill=\"#000000\" fill-rule=\"nonzero\" fill-opacity=\"1\" /><path clip-path=\"url(#clip760)\" d=\"M209.746 693.251 Q206.135 693.251 204.306 696.816 Q202.5 700.358 202.5 707.487 Q202.5 714.594 204.306 718.158 Q206.135 721.7 209.746 721.7 Q213.38 721.7 215.186 718.158 Q217.014 714.594 217.014 707.487 Q217.014 700.358 215.186 696.816 Q213.38 693.251 209.746 693.251 M209.746 689.547 Q215.556 689.547 218.611 694.154 Q221.69 698.737 221.69 707.487 Q221.69 716.214 218.611 720.82 Q215.556 725.404 209.746 725.404 Q203.936 725.404 200.857 720.82 Q197.801 716.214 197.801 707.487 Q197.801 698.737 200.857 694.154 Q203.936 689.547 209.746 689.547 Z\" fill=\"#000000\" fill-rule=\"nonzero\" fill-opacity=\"1\" /><path clip-path=\"url(#clip760)\" d=\"M166.112 337.839 Q162.501 337.839 160.672 341.404 Q158.866 344.945 158.866 352.075 Q158.866 359.181 160.672 362.746 Q162.501 366.288 166.112 366.288 Q169.746 366.288 171.552 362.746 Q173.38 359.181 173.38 352.075 Q173.38 344.945 171.552 341.404 Q169.746 337.839 166.112 337.839 M166.112 334.135 Q171.922 334.135 174.977 338.742 Q178.056 343.325 178.056 352.075 Q178.056 360.802 174.977 365.408 Q171.922 369.992 166.112 369.992 Q160.302 369.992 157.223 365.408 Q154.167 360.802 154.167 352.075 Q154.167 343.325 157.223 338.742 Q160.302 334.135 166.112 334.135 Z\" fill=\"#000000\" fill-rule=\"nonzero\" fill-opacity=\"1\" /><path clip-path=\"url(#clip760)\" d=\"M186.274 363.441 L191.158 363.441 L191.158 369.32 L186.274 369.32 L186.274 363.441 Z\" fill=\"#000000\" fill-rule=\"nonzero\" fill-opacity=\"1\" /><path clip-path=\"url(#clip760)\" d=\"M205.371 365.385 L221.69 365.385 L221.69 369.32 L199.746 369.32 L199.746 365.385 Q202.408 362.631 206.991 358.001 Q211.598 353.348 212.778 352.006 Q215.024 349.482 215.903 347.746 Q216.806 345.987 216.806 344.297 Q216.806 341.543 214.861 339.807 Q212.94 338.07 209.838 338.07 Q207.639 338.07 205.186 338.834 Q202.755 339.598 199.977 341.149 L199.977 336.427 Q202.801 335.293 205.255 334.714 Q207.709 334.135 209.746 334.135 Q215.116 334.135 218.311 336.82 Q221.505 339.506 221.505 343.996 Q221.505 346.126 220.695 348.047 Q219.908 349.945 217.801 352.538 Q217.223 353.209 214.121 356.427 Q211.019 359.621 205.371 365.385 Z\" fill=\"#000000\" fill-rule=\"nonzero\" fill-opacity=\"1\" /><path clip-path=\"url(#clip760)\" d=\"M14.479 765.163 L19.3487 765.163 L19.3487 770.764 Q19.3487 773.915 20.6219 775.157 Q21.895 776.366 25.2052 776.366 L28.3562 776.366 L28.3562 766.722 L32.9077 766.722 L32.9077 776.366 L64.0042 776.366 L64.0042 782.255 L32.9077 782.255 L32.9077 787.856 L28.3562 787.856 L28.3562 782.255 L25.8736 782.255 Q19.9216 782.255 17.2162 779.485 Q14.479 776.716 14.479 770.701 L14.479 765.163 Z\" fill=\"#000000\" fill-rule=\"nonzero\" fill-opacity=\"1\" /><path clip-path=\"url(#clip760)\" d=\"M14.5426 746.193 Q21.8632 750.458 29.0246 752.527 Q36.186 754.596 43.5384 754.596 Q50.8908 754.596 58.1159 752.527 Q65.3091 750.426 72.5979 746.193 L72.5979 751.285 Q65.1182 756.06 57.8931 758.447 Q50.668 760.802 43.5384 760.802 Q36.4406 760.802 29.2474 758.447 Q22.0542 756.091 14.5426 751.285 L14.5426 746.193 Z\" fill=\"#000000\" fill-rule=\"nonzero\" fill-opacity=\"1\" /><path clip-path=\"url(#clip760)\" d=\"M28.3562 705.198 L45.7028 718.088 L64.0042 704.529 L64.0042 711.436 L49.9996 721.812 L64.0042 732.188 L64.0042 739.095 L45.3526 725.25 L28.3562 737.917 L28.3562 731.011 L41.0558 721.558 L28.3562 712.104 L28.3562 705.198 Z\" fill=\"#000000\" fill-rule=\"nonzero\" fill-opacity=\"1\" /><path clip-path=\"url(#clip760)\" d=\"M14.5426 697.177 L14.5426 692.084 Q22.0542 687.31 29.2474 684.955 Q36.4406 682.568 43.5384 682.568 Q50.668 682.568 57.8931 684.955 Q65.1182 687.31 72.5979 692.084 L72.5979 697.177 Q65.3091 692.944 58.1159 690.875 Q50.8908 688.774 43.5384 688.774 Q36.186 688.774 29.0246 690.875 Q21.8632 692.944 14.5426 697.177 Z\" fill=\"#000000\" fill-rule=\"nonzero\" fill-opacity=\"1\" /><polyline clip-path=\"url(#clip762)\" style=\"stroke:#009af9; stroke-linecap:round; stroke-linejoin:round; stroke-width:4; stroke-opacity:1; fill:none\" points=\"257.69,1384.24 263.097,1373.17 268.505,1362.62 273.912,1352.51 279.319,1342.79 295.154,1316.22 310.989,1291.88 326.823,1269.28 342.658,1248.08 358.493,1228.03 374.328,1208.96 390.162,1190.72 405.997,1173.22 435.462,1142.3 464.928,1113.19 504.422,1076.48 543.917,1041.92 576.552,1014.72 609.186,988.569 639.533,965.079 669.88,942.297 746.072,887.776 814.417,841.59 892.646,791.295 951.123,755.212 1025.92,710.673 1094.18,671.404 1171.87,628.112 1233.46,594.737 1309.98,554.319 1368.57,524.08 1451.19,482.412 1512.93,451.959 1583.14,417.991 1652.67,385.011 1729.16,349.45 1787.59,322.778 1861.33,289.713 1929.53,259.71 1999.86,229.345 2071.15,199.17 2145.59,168.318 2204.23,144.499 2337.77,91.9314 2352.76,86.1857 \"/>\n",
       "<circle clip-path=\"url(#clip762)\" cx=\"1031.43\" cy=\"707.452\" r=\"14.4\" fill=\"#ff0000\" fill-rule=\"evenodd\" fill-opacity=\"1\" stroke=\"#000000\" stroke-opacity=\"1\" stroke-width=\"3.2\"/>\n",
       "<path clip-path=\"url(#clip760)\" d=\"M327.526 196.789 L786.429 196.789 L786.429 93.1086 L327.526 93.1086  Z\" fill=\"#ffffff\" fill-rule=\"evenodd\" fill-opacity=\"1\"/>\n",
       "<polyline clip-path=\"url(#clip760)\" style=\"stroke:#000000; stroke-linecap:round; stroke-linejoin:round; stroke-width:4; stroke-opacity:1; fill:none\" points=\"327.526,196.789 786.429,196.789 786.429,93.1086 327.526,93.1086 327.526,196.789 \"/>\n",
       "<circle clip-path=\"url(#clip760)\" cx=\"420.64\" cy=\"144.949\" r=\"20.48\" fill=\"#ff0000\" fill-rule=\"evenodd\" fill-opacity=\"1\" stroke=\"#000000\" stroke-opacity=\"1\" stroke-width=\"4.55111\"/>\n",
       "<path clip-path=\"url(#clip760)\" d=\"M530.143 146.025 Q531.647 146.534 533.059 148.201 Q534.494 149.868 535.93 152.784 L540.675 162.229 L535.652 162.229 L531.23 153.363 Q529.518 149.891 527.897 148.756 Q526.3 147.622 523.522 147.622 L518.43 147.622 L518.43 162.229 L513.754 162.229 L513.754 127.669 L524.309 127.669 Q530.235 127.669 533.152 130.145 Q536.068 132.622 536.068 137.622 Q536.068 140.886 534.541 143.039 Q533.036 145.192 530.143 146.025 M518.43 131.511 L518.43 143.78 L524.309 143.78 Q527.689 143.78 529.402 142.229 Q531.138 140.655 531.138 137.622 Q531.138 134.59 529.402 133.062 Q527.689 131.511 524.309 131.511 L518.43 131.511 Z\" fill=\"#000000\" fill-rule=\"nonzero\" fill-opacity=\"1\" /><path clip-path=\"url(#clip760)\" d=\"M554.425 139.289 Q550.999 139.289 549.008 141.974 Q547.017 144.636 547.017 149.289 Q547.017 153.942 548.985 156.627 Q550.976 159.289 554.425 159.289 Q557.828 159.289 559.818 156.604 Q561.809 153.918 561.809 149.289 Q561.809 144.682 559.818 141.997 Q557.828 139.289 554.425 139.289 M554.425 135.678 Q559.98 135.678 563.152 139.289 Q566.323 142.9 566.323 149.289 Q566.323 155.655 563.152 159.289 Q559.98 162.9 554.425 162.9 Q548.846 162.9 545.675 159.289 Q542.527 155.655 542.527 149.289 Q542.527 142.9 545.675 139.289 Q548.846 135.678 554.425 135.678 Z\" fill=\"#000000\" fill-rule=\"nonzero\" fill-opacity=\"1\" /><path clip-path=\"url(#clip760)\" d=\"M583.429 139.289 Q580.003 139.289 578.013 141.974 Q576.022 144.636 576.022 149.289 Q576.022 153.942 577.989 156.627 Q579.98 159.289 583.429 159.289 Q586.832 159.289 588.823 156.604 Q590.814 153.918 590.814 149.289 Q590.814 144.682 588.823 141.997 Q586.832 139.289 583.429 139.289 M583.429 135.678 Q588.985 135.678 592.156 139.289 Q595.327 142.9 595.327 149.289 Q595.327 155.655 592.156 159.289 Q588.985 162.9 583.429 162.9 Q577.851 162.9 574.679 159.289 Q571.531 155.655 571.531 149.289 Q571.531 142.9 574.679 139.289 Q577.851 135.678 583.429 135.678 Z\" fill=\"#000000\" fill-rule=\"nonzero\" fill-opacity=\"1\" /><path clip-path=\"url(#clip760)\" d=\"M606.6 128.942 L606.6 136.303 L615.374 136.303 L615.374 139.613 L606.6 139.613 L606.6 153.687 Q606.6 156.858 607.457 157.761 Q608.337 158.664 610.999 158.664 L615.374 158.664 L615.374 162.229 L610.999 162.229 Q606.068 162.229 604.193 160.4 Q602.318 158.548 602.318 153.687 L602.318 139.613 L599.193 139.613 L599.193 136.303 L602.318 136.303 L602.318 128.942 L606.6 128.942 Z\" fill=\"#000000\" fill-rule=\"nonzero\" fill-opacity=\"1\" /><path clip-path=\"url(#clip760)\" d=\"M649.17 126.21 L649.17 129.752 L645.096 129.752 Q642.804 129.752 641.901 130.678 Q641.022 131.604 641.022 134.011 L641.022 136.303 L648.035 136.303 L648.035 139.613 L641.022 139.613 L641.022 162.229 L636.739 162.229 L636.739 139.613 L632.665 139.613 L632.665 136.303 L636.739 136.303 L636.739 134.497 Q636.739 130.169 638.753 128.201 Q640.767 126.21 645.142 126.21 L649.17 126.21 Z\" fill=\"#000000\" fill-rule=\"nonzero\" fill-opacity=\"1\" /><path clip-path=\"url(#clip760)\" d=\"M662.781 139.289 Q659.355 139.289 657.364 141.974 Q655.373 144.636 655.373 149.289 Q655.373 153.942 657.341 156.627 Q659.332 159.289 662.781 159.289 Q666.183 159.289 668.174 156.604 Q670.165 153.918 670.165 149.289 Q670.165 144.682 668.174 141.997 Q666.183 139.289 662.781 139.289 M662.781 135.678 Q668.336 135.678 671.508 139.289 Q674.679 142.9 674.679 149.289 Q674.679 155.655 671.508 159.289 Q668.336 162.9 662.781 162.9 Q657.202 162.9 654.031 159.289 Q650.883 155.655 650.883 149.289 Q650.883 142.9 654.031 139.289 Q657.202 135.678 662.781 135.678 Z\" fill=\"#000000\" fill-rule=\"nonzero\" fill-opacity=\"1\" /><path clip-path=\"url(#clip760)\" d=\"M681.299 151.997 L681.299 136.303 L685.558 136.303 L685.558 151.835 Q685.558 155.516 686.994 157.368 Q688.429 159.196 691.299 159.196 Q694.748 159.196 696.739 156.997 Q698.753 154.798 698.753 151.002 L698.753 136.303 L703.012 136.303 L703.012 162.229 L698.753 162.229 L698.753 158.247 Q697.202 160.608 695.142 161.766 Q693.105 162.9 690.396 162.9 Q685.929 162.9 683.614 160.122 Q681.299 157.344 681.299 151.997 M692.017 135.678 L692.017 135.678 Z\" fill=\"#000000\" fill-rule=\"nonzero\" fill-opacity=\"1\" /><path clip-path=\"url(#clip760)\" d=\"M733.336 146.581 L733.336 162.229 L729.077 162.229 L729.077 146.719 Q729.077 143.039 727.641 141.21 Q726.206 139.382 723.336 139.382 Q719.887 139.382 717.896 141.581 Q715.905 143.78 715.905 147.576 L715.905 162.229 L711.623 162.229 L711.623 136.303 L715.905 136.303 L715.905 140.331 Q717.433 137.993 719.493 136.835 Q721.577 135.678 724.285 135.678 Q728.753 135.678 731.044 138.456 Q733.336 141.21 733.336 146.581 Z\" fill=\"#000000\" fill-rule=\"nonzero\" fill-opacity=\"1\" /><path clip-path=\"url(#clip760)\" d=\"M758.891 140.238 L758.891 126.21 L763.151 126.21 L763.151 162.229 L758.891 162.229 L758.891 158.34 Q757.549 160.655 755.489 161.789 Q753.452 162.9 750.581 162.9 Q745.882 162.9 742.919 159.15 Q739.979 155.4 739.979 149.289 Q739.979 143.178 742.919 139.428 Q745.882 135.678 750.581 135.678 Q753.452 135.678 755.489 136.812 Q757.549 137.923 758.891 140.238 M744.377 149.289 Q744.377 153.988 746.299 156.673 Q748.243 159.335 751.623 159.335 Q755.002 159.335 756.947 156.673 Q758.891 153.988 758.891 149.289 Q758.891 144.59 756.947 141.928 Q755.002 139.243 751.623 139.243 Q748.243 139.243 746.299 141.928 Q744.377 144.59 744.377 149.289 Z\" fill=\"#000000\" fill-rule=\"nonzero\" fill-opacity=\"1\" /></svg>\n"
      ]
     },
     "execution_count": 8,
     "metadata": {},
     "output_type": "execute_result"
    }
   ],
   "source": [
    "function newton(f, \n",
    "                x_0::Real, \n",
    "                der_f  = (x)->derivative(f, x) #positional argument with default value that depends on the first argument\n",
    "                ; \n",
    "                ε = 10e-8, \n",
    "                maxiter = 100)\n",
    "    x = x_0\n",
    "    x_prev = x + 2ε\n",
    "    iter = 0\n",
    "    while abs(x-x_prev) ≥ ε\n",
    "        x_prev = x\n",
    "        x = x - f(x)/der_f(x)\n",
    "        iter += 1\n",
    "        if iter == maxiter \n",
    "            @info \"Maximal number of iterations reached\"\n",
    "            break\n",
    "        end\n",
    "    end\n",
    "    return x\n",
    "end\n",
    "\n",
    "root_point = newton(f,0.95)\n",
    "println(\"Found root: $root_point\")\n",
    "plot(f,xlim=(0.95,1.05), xlabel = \"x\", ylabel=\"f(x)\", label=false)\n",
    "scatter!([root_point], [0], color=:red, marker=:circle, label=\"Root found\")"
   ]
  },
  {
   "cell_type": "markdown",
   "id": "7453faf8-64b3-4f2d-9a32-70af00c7d12f",
   "metadata": {},
   "source": [
    "##### Exercise (not too hard), add a horizonal black thick line for the x-axis "
   ]
  },
  {
   "cell_type": "markdown",
   "id": "2ec05a7a-4b97-42b2-a8bf-df530816567f",
   "metadata": {},
   "source": [
    "#### Continuing with 6.2"
   ]
  },
  {
   "cell_type": "code",
   "execution_count": 9,
   "id": "0204a72a-0894-455e-b11f-61f05a5b9d02",
   "metadata": {},
   "outputs": [
    {
     "data": {
      "text/plain": [
       "Float32"
      ]
     },
     "execution_count": 9,
     "metadata": {},
     "output_type": "execute_result"
    }
   ],
   "source": [
    "Float32"
   ]
  },
  {
   "cell_type": "code",
   "execution_count": 10,
   "id": "24475964-6eff-45a9-9045-7a15abc6b8ee",
   "metadata": {},
   "outputs": [
    {
     "data": {
      "text/html": [
       "# 93 methods for type constructor:<ul><li> Float32(::<b>Irrational{:mad_constant}</b>) in StatsBase at <a href=\"file:///Users/uqjnazar/.julia/juliaup/julia-1.11.5+0.aarch64.apple.darwin14/share/julia/base/irrationals.jl\" target=\"_blank\">irrationals.jl:252</a></li> <li> Float32(::<b>Irrational{:SQRT_HALF}</b>) in Random at <a href=\"file:///Users/uqjnazar/.julia/juliaup/julia-1.11.5+0.aarch64.apple.darwin14/share/julia/base/irrationals.jl\" target=\"_blank\">irrationals.jl:252</a></li> <li> Float32(::<b>Irrational{:catalan}</b>) in Base.MathConstants at <a href=\"https://github.com/JuliaLang/julia/tree/760b2e5b7396f9cc0da5efce0cadd5d1974c4069/base/irrationals.jl#L252\" target=\"_blank\">irrationals.jl:252</a></li> <li> Float32(::<b>Irrational{:φ}</b>) in Base.MathConstants at <a href=\"https://github.com/JuliaLang/julia/tree/760b2e5b7396f9cc0da5efce0cadd5d1974c4069/base/irrationals.jl#L252\" target=\"_blank\">irrationals.jl:252</a></li> <li> Float32(::<b>Irrational{:γ}</b>) in Base.MathConstants at <a href=\"https://github.com/JuliaLang/julia/tree/760b2e5b7396f9cc0da5efce0cadd5d1974c4069/base/irrationals.jl#L252\" target=\"_blank\">irrationals.jl:252</a></li> <li> Float32(::<b>Irrational{:ℯ}</b>) in Base.MathConstants at <a href=\"https://github.com/JuliaLang/julia/tree/760b2e5b7396f9cc0da5efce0cadd5d1974c4069/base/irrationals.jl#L252\" target=\"_blank\">irrationals.jl:252</a></li> <li> Float32(::<b>Irrational{:π}</b>) in Base.MathConstants at <a href=\"https://github.com/JuliaLang/julia/tree/760b2e5b7396f9cc0da5efce0cadd5d1974c4069/base/irrationals.jl#L252\" target=\"_blank\">irrationals.jl:252</a></li> <li> Float32(::<b>IrrationalConstants.Sqrtπ</b>) in IrrationalConstants at <a href=\"file:///Users/uqjnazar/.julia/packages/IrrationalConstants/lWTip/src/macro.jl\" target=\"_blank\">/Users/uqjnazar/.julia/packages/IrrationalConstants/lWTip/src/macro.jl:132</a></li> <li> Float32(x::<b>UInt8</b>) in Base at <a href=\"https://github.com/JuliaLang/julia/tree/760b2e5b7396f9cc0da5efce0cadd5d1974c4069/base/float.jl#L245\" target=\"_blank\">float.jl:245</a></li> <li> Float32(::<b>IrrationalConstants.Twoπ</b>) in IrrationalConstants at <a href=\"file:///Users/uqjnazar/.julia/packages/IrrationalConstants/lWTip/src/macro.jl\" target=\"_blank\">/Users/uqjnazar/.julia/packages/IrrationalConstants/lWTip/src/macro.jl:132</a></li> <li> Float32(::<b>IrrationalConstants.Quartπ</b>) in IrrationalConstants at <a href=\"file:///Users/uqjnazar/.julia/packages/IrrationalConstants/lWTip/src/macro.jl\" target=\"_blank\">/Users/uqjnazar/.julia/packages/IrrationalConstants/lWTip/src/macro.jl:132</a></li> <li> Float32(::<b>IrrationalConstants.Inv2π</b>) in IrrationalConstants at <a href=\"file:///Users/uqjnazar/.julia/packages/IrrationalConstants/lWTip/src/macro.jl\" target=\"_blank\">/Users/uqjnazar/.julia/packages/IrrationalConstants/lWTip/src/macro.jl:132</a></li> <li> Float32(::<b>IrrationalConstants.Invsqrt2</b>) in IrrationalConstants at <a href=\"file:///Users/uqjnazar/.julia/packages/IrrationalConstants/lWTip/src/macro.jl\" target=\"_blank\">/Users/uqjnazar/.julia/packages/IrrationalConstants/lWTip/src/macro.jl:132</a></li> <li> Float32(::<b>IrrationalConstants.Log2π</b>) in IrrationalConstants at <a href=\"file:///Users/uqjnazar/.julia/packages/IrrationalConstants/lWTip/src/macro.jl\" target=\"_blank\">/Users/uqjnazar/.julia/packages/IrrationalConstants/lWTip/src/macro.jl:132</a></li> <li> Float32(::<b>IrrationalConstants.Log4π</b>) in IrrationalConstants at <a href=\"file:///Users/uqjnazar/.julia/packages/IrrationalConstants/lWTip/src/macro.jl\" target=\"_blank\">/Users/uqjnazar/.julia/packages/IrrationalConstants/lWTip/src/macro.jl:132</a></li> <li> Float32(::<b>IrrationalConstants.Invπ</b>) in IrrationalConstants at <a href=\"file:///Users/uqjnazar/.julia/packages/IrrationalConstants/lWTip/src/macro.jl\" target=\"_blank\">/Users/uqjnazar/.julia/packages/IrrationalConstants/lWTip/src/macro.jl:132</a></li> <li> Float32(x::<b>Float64</b>) in Base at <a href=\"https://github.com/JuliaLang/julia/tree/760b2e5b7396f9cc0da5efce0cadd5d1974c4069/base/float.jl#L338\" target=\"_blank\">float.jl:338</a></li> <li> Float32(x::<b>UInt32</b>) in Base at <a href=\"https://github.com/JuliaLang/julia/tree/760b2e5b7396f9cc0da5efce0cadd5d1974c4069/base/float.jl#L245\" target=\"_blank\">float.jl:245</a></li> <li> Float32(x::<b>Float16</b>) in Base at <a href=\"https://github.com/JuliaLang/julia/tree/760b2e5b7396f9cc0da5efce0cadd5d1974c4069/base/float.jl#L340\" target=\"_blank\">float.jl:340</a></li> <li> Float32(::<b>IrrationalConstants.Sqrt3</b>) in IrrationalConstants at <a href=\"file:///Users/uqjnazar/.julia/packages/IrrationalConstants/lWTip/src/macro.jl\" target=\"_blank\">/Users/uqjnazar/.julia/packages/IrrationalConstants/lWTip/src/macro.jl:132</a></li> <li> Float32(::<b>IrrationalConstants.Logten</b>) in IrrationalConstants at <a href=\"file:///Users/uqjnazar/.julia/packages/IrrationalConstants/lWTip/src/macro.jl\" target=\"_blank\">/Users/uqjnazar/.julia/packages/IrrationalConstants/lWTip/src/macro.jl:132</a></li> <li> Float32(::<b>IrrationalConstants.Fourπ</b>) in IrrationalConstants at <a href=\"file:///Users/uqjnazar/.julia/packages/IrrationalConstants/lWTip/src/macro.jl\" target=\"_blank\">/Users/uqjnazar/.julia/packages/IrrationalConstants/lWTip/src/macro.jl:132</a></li> <li> Float32(::<b>IrrationalConstants.Logπ</b>) in IrrationalConstants at <a href=\"file:///Users/uqjnazar/.julia/packages/IrrationalConstants/lWTip/src/macro.jl\" target=\"_blank\">/Users/uqjnazar/.julia/packages/IrrationalConstants/lWTip/src/macro.jl:132</a></li> <li> Float32(::<b>IrrationalConstants.Sqrthalfπ</b>) in IrrationalConstants at <a href=\"file:///Users/uqjnazar/.julia/packages/IrrationalConstants/lWTip/src/macro.jl\" target=\"_blank\">/Users/uqjnazar/.julia/packages/IrrationalConstants/lWTip/src/macro.jl:132</a></li> <li> Float32(x::<b>Int64</b>) in Base at <a href=\"https://github.com/JuliaLang/julia/tree/760b2e5b7396f9cc0da5efce0cadd5d1974c4069/base/float.jl#L239\" target=\"_blank\">float.jl:239</a></li> <li> Float32(x::<b>Int16</b>) in Base at <a href=\"https://github.com/JuliaLang/julia/tree/760b2e5b7396f9cc0da5efce0cadd5d1974c4069/base/float.jl#L239\" target=\"_blank\">float.jl:239</a></li> <li> Float32(::<b>IrrationalConstants.Sqrt2</b>) in IrrationalConstants at <a href=\"file:///Users/uqjnazar/.julia/packages/IrrationalConstants/lWTip/src/macro.jl\" target=\"_blank\">/Users/uqjnazar/.julia/packages/IrrationalConstants/lWTip/src/macro.jl:132</a></li> <li> Float32(x::<b>UInt16</b>) in Base at <a href=\"https://github.com/JuliaLang/julia/tree/760b2e5b7396f9cc0da5efce0cadd5d1974c4069/base/float.jl#L245\" target=\"_blank\">float.jl:245</a></li> <li> Float32(::<b>IrrationalConstants.Inv4π</b>) in IrrationalConstants at <a href=\"file:///Users/uqjnazar/.julia/packages/IrrationalConstants/lWTip/src/macro.jl\" target=\"_blank\">/Users/uqjnazar/.julia/packages/IrrationalConstants/lWTip/src/macro.jl:132</a></li> <li> Float32(x::<b>Int8</b>) in Base at <a href=\"https://github.com/JuliaLang/julia/tree/760b2e5b7396f9cc0da5efce0cadd5d1974c4069/base/float.jl#L239\" target=\"_blank\">float.jl:239</a></li> <li> Float32(::<b>IrrationalConstants.Invsqrtπ</b>) in IrrationalConstants at <a href=\"file:///Users/uqjnazar/.julia/packages/IrrationalConstants/lWTip/src/macro.jl\" target=\"_blank\">/Users/uqjnazar/.julia/packages/IrrationalConstants/lWTip/src/macro.jl:132</a></li> <li> Float32(::<b>IrrationalConstants.Invsqrt2π</b>) in IrrationalConstants at <a href=\"file:///Users/uqjnazar/.julia/packages/IrrationalConstants/lWTip/src/macro.jl\" target=\"_blank\">/Users/uqjnazar/.julia/packages/IrrationalConstants/lWTip/src/macro.jl:132</a></li> <li> Float32(::<b>IrrationalConstants.Halfπ</b>) in IrrationalConstants at <a href=\"file:///Users/uqjnazar/.julia/packages/IrrationalConstants/lWTip/src/macro.jl\" target=\"_blank\">/Users/uqjnazar/.julia/packages/IrrationalConstants/lWTip/src/macro.jl:132</a></li> <li> Float32(::<b>IrrationalConstants.Logtwo</b>) in IrrationalConstants at <a href=\"file:///Users/uqjnazar/.julia/packages/IrrationalConstants/lWTip/src/macro.jl\" target=\"_blank\">/Users/uqjnazar/.julia/packages/IrrationalConstants/lWTip/src/macro.jl:132</a></li> <li> Float32(::<b>IrrationalConstants.Loghalf</b>) in IrrationalConstants at <a href=\"file:///Users/uqjnazar/.julia/packages/IrrationalConstants/lWTip/src/macro.jl\" target=\"_blank\">/Users/uqjnazar/.julia/packages/IrrationalConstants/lWTip/src/macro.jl:132</a></li> <li> Float32(x::<b>Bool</b>) in Base at <a href=\"https://github.com/JuliaLang/julia/tree/760b2e5b7396f9cc0da5efce0cadd5d1974c4069/base/float.jl#L245\" target=\"_blank\">float.jl:245</a></li> <li> Float32(x::<b>Int128</b>) in Base at <a href=\"https://github.com/JuliaLang/julia/tree/760b2e5b7396f9cc0da5efce0cadd5d1974c4069/base/float.jl#L316\" target=\"_blank\">float.jl:316</a></li> <li> Float32(x::<b>Int32</b>) in Base at <a href=\"https://github.com/JuliaLang/julia/tree/760b2e5b7396f9cc0da5efce0cadd5d1974c4069/base/float.jl#L239\" target=\"_blank\">float.jl:239</a></li> <li> Float32(::<b>IrrationalConstants.Twoinvπ</b>) in IrrationalConstants at <a href=\"file:///Users/uqjnazar/.julia/packages/IrrationalConstants/lWTip/src/macro.jl\" target=\"_blank\">/Users/uqjnazar/.julia/packages/IrrationalConstants/lWTip/src/macro.jl:132</a></li> <li> Float32(::<b>IrrationalConstants.Sqrt2π</b>) in IrrationalConstants at <a href=\"file:///Users/uqjnazar/.julia/packages/IrrationalConstants/lWTip/src/macro.jl\" target=\"_blank\">/Users/uqjnazar/.julia/packages/IrrationalConstants/lWTip/src/macro.jl:132</a></li> <li> Float32(n::<b>BigInt</b>) in Base.GMP at <a href=\"https://github.com/JuliaLang/julia/tree/760b2e5b7396f9cc0da5efce0cadd5d1974c4069/base/gmp.jl#L471\" target=\"_blank\">gmp.jl:471</a></li> <li> Float32(x::<b>BigInt</b>, ::<b>RoundingMode{:Nearest}</b>) in Base.GMP at <a href=\"https://github.com/JuliaLang/julia/tree/760b2e5b7396f9cc0da5efce0cadd5d1974c4069/base/gmp.jl#L431\" target=\"_blank\">gmp.jl:431</a></li> <li> Float32(x::<b>UInt64</b>) in Base at <a href=\"https://github.com/JuliaLang/julia/tree/760b2e5b7396f9cc0da5efce0cadd5d1974c4069/base/float.jl#L245\" target=\"_blank\">float.jl:245</a></li> <li> Float32(::<b>IrrationalConstants.Sqrt4π</b>) in IrrationalConstants at <a href=\"file:///Users/uqjnazar/.julia/packages/IrrationalConstants/lWTip/src/macro.jl\" target=\"_blank\">/Users/uqjnazar/.julia/packages/IrrationalConstants/lWTip/src/macro.jl:132</a></li> <li> Float32(x::<b>BigFloat</b>, r::<b>Base.MPFR.MPFRRoundingMode</b>) in Base.MPFR at <a href=\"https://github.com/JuliaLang/julia/tree/760b2e5b7396f9cc0da5efce0cadd5d1974c4069/base/mpfr.jl#L465\" target=\"_blank\">mpfr.jl:465</a></li> <li> Float32(x::<b>BigFloat</b>) in Base.MPFR at <a href=\"https://github.com/JuliaLang/julia/tree/760b2e5b7396f9cc0da5efce0cadd5d1974c4069/base/mpfr.jl#L465\" target=\"_blank\">mpfr.jl:465</a></li> <li> Float32(x::<b>BigFloat</b>, r::<b>RoundingMode</b>) in Base.MPFR at <a href=\"https://github.com/JuliaLang/julia/tree/760b2e5b7396f9cc0da5efce0cadd5d1974c4069/base/mpfr.jl#L468\" target=\"_blank\">mpfr.jl:468</a></li> <li> Float32(x::<b>UInt128</b>) in Base at <a href=\"https://github.com/JuliaLang/julia/tree/760b2e5b7396f9cc0da5efce0cadd5d1974c4069/base/float.jl#L302\" target=\"_blank\">float.jl:302</a></li> <li> Float32(::<b>IrrationalConstants.Fourinvπ</b>) in IrrationalConstants at <a href=\"file:///Users/uqjnazar/.julia/packages/IrrationalConstants/lWTip/src/macro.jl\" target=\"_blank\">/Users/uqjnazar/.julia/packages/IrrationalConstants/lWTip/src/macro.jl:132</a></li> <li> Float32(x::<b>Rational{<:Union{Int128, UInt128}}</b>) in Base at <a href=\"https://github.com/JuliaLang/julia/tree/760b2e5b7396f9cc0da5efce0cadd5d1974c4069/base/rational.jl#L165\" target=\"_blank\">rational.jl:165</a></li> <li> Float32(x::<b>FixedPointNumbers.Fixed{T, f}</b>)<i> where {T, f}</i> in FixedPointNumbers at <a href=\"file:///Users/uqjnazar/.julia/packages/FixedPointNumbers/Dn4hv/src/fixed.jl\" target=\"_blank\">/Users/uqjnazar/.julia/packages/FixedPointNumbers/Dn4hv/src/fixed.jl:111</a></li> <li> Float32(x::<b>FixedPointNumbers.Normed{UInt8, f}</b>)<i> where f</i> in FixedPointNumbers at <a href=\"file:///Users/uqjnazar/.julia/packages/FixedPointNumbers/Dn4hv/src/normed.jl\" target=\"_blank\">/Users/uqjnazar/.julia/packages/FixedPointNumbers/Dn4hv/src/normed.jl:147</a></li> <li> Float32(x::<b>FixedPointNumbers.Normed{UInt16, f}</b>)<i> where f</i> in FixedPointNumbers at <a href=\"file:///Users/uqjnazar/.julia/packages/FixedPointNumbers/Dn4hv/src/normed.jl\" target=\"_blank\">/Users/uqjnazar/.julia/packages/FixedPointNumbers/Dn4hv/src/normed.jl:158</a></li> <li> Float32(x::<b>FixedPointNumbers.Normed{UInt32, f}</b>)<i> where f</i> in FixedPointNumbers at <a href=\"file:///Users/uqjnazar/.julia/packages/FixedPointNumbers/Dn4hv/src/normed.jl\" target=\"_blank\">/Users/uqjnazar/.julia/packages/FixedPointNumbers/Dn4hv/src/normed.jl:170</a></li> <li> Float32(x::<b>FixedPointNumbers.Normed{Ti, f}</b>)<i> where {Ti<:Union{UInt128, UInt64}, f}</i> in FixedPointNumbers at <a href=\"file:///Users/uqjnazar/.julia/packages/FixedPointNumbers/Dn4hv/src/normed.jl\" target=\"_blank\">/Users/uqjnazar/.julia/packages/FixedPointNumbers/Dn4hv/src/normed.jl:184</a></li> <li> (::<b>Type{var\"#231#T\"}</b>)(x::<b>IrrationalConstants.Sqrt2</b>, r::<b>RoundingMode</b>)<i> where var\"#231#T\"<:Union{Float32, Float64}</i> in IrrationalConstants at <a href=\"file:///Users/uqjnazar/.julia/packages/IrrationalConstants/lWTip/src/macro.jl\" target=\"_blank\">/Users/uqjnazar/.julia/packages/IrrationalConstants/lWTip/src/macro.jl:151</a></li> <li> (::<b>Type{var\"#277#T\"}</b>)(x::<b>IrrationalConstants.Sqrtπ</b>, r::<b>RoundingMode</b>)<i> where var\"#277#T\"<:Union{Float32, Float64}</i> in IrrationalConstants at <a href=\"file:///Users/uqjnazar/.julia/packages/IrrationalConstants/lWTip/src/macro.jl\" target=\"_blank\">/Users/uqjnazar/.julia/packages/IrrationalConstants/lWTip/src/macro.jl:151</a></li> <li> (::<b>Type{var\"#369#T\"}</b>)(x::<b>IrrationalConstants.Invsqrt2</b>, r::<b>RoundingMode</b>)<i> where var\"#369#T\"<:Union{Float32, Float64}</i> in IrrationalConstants at <a href=\"file:///Users/uqjnazar/.julia/packages/IrrationalConstants/lWTip/src/macro.jl\" target=\"_blank\">/Users/uqjnazar/.julia/packages/IrrationalConstants/lWTip/src/macro.jl:151</a></li> <li> (::<b>Type{var\"#22#T\"}</b>)(x::<b>IrrationalConstants.Twoπ</b>, r::<b>RoundingMode</b>)<i> where var\"#22#T\"<:Union{Float32, Float64}</i> in IrrationalConstants at <a href=\"file:///Users/uqjnazar/.julia/packages/IrrationalConstants/lWTip/src/macro.jl\" target=\"_blank\">/Users/uqjnazar/.julia/packages/IrrationalConstants/lWTip/src/macro.jl:151</a></li> <li> (::<b>Type{var\"#93#T\"}</b>)(x::<b>IrrationalConstants.Quartπ</b>, r::<b>RoundingMode</b>)<i> where var\"#93#T\"<:Union{Float32, Float64}</i> in IrrationalConstants at <a href=\"file:///Users/uqjnazar/.julia/packages/IrrationalConstants/lWTip/src/macro.jl\" target=\"_blank\">/Users/uqjnazar/.julia/packages/IrrationalConstants/lWTip/src/macro.jl:151</a></li> <li> (::<b>Type{var\"#185#T\"}</b>)(x::<b>IrrationalConstants.Inv2π</b>, r::<b>RoundingMode</b>)<i> where var\"#185#T\"<:Union{Float32, Float64}</i> in IrrationalConstants at <a href=\"file:///Users/uqjnazar/.julia/packages/IrrationalConstants/lWTip/src/macro.jl\" target=\"_blank\">/Users/uqjnazar/.julia/packages/IrrationalConstants/lWTip/src/macro.jl:151</a></li> <li> (::<b>Type{var\"#208#T\"}</b>)(x::<b>IrrationalConstants.Inv4π</b>, r::<b>RoundingMode</b>)<i> where var\"#208#T\"<:Union{Float32, Float64}</i> in IrrationalConstants at <a href=\"file:///Users/uqjnazar/.julia/packages/IrrationalConstants/lWTip/src/macro.jl\" target=\"_blank\">/Users/uqjnazar/.julia/packages/IrrationalConstants/lWTip/src/macro.jl:151</a></li> <li> (::<b>Type{var\"#392#T\"}</b>)(x::<b>IrrationalConstants.Invsqrtπ</b>, r::<b>RoundingMode</b>)<i> where var\"#392#T\"<:Union{Float32, Float64}</i> in IrrationalConstants at <a href=\"file:///Users/uqjnazar/.julia/packages/IrrationalConstants/lWTip/src/macro.jl\" target=\"_blank\">/Users/uqjnazar/.julia/packages/IrrationalConstants/lWTip/src/macro.jl:151</a></li> <li> (::<b>Type{var\"#415#T\"}</b>)(x::<b>IrrationalConstants.Invsqrt2π</b>, r::<b>RoundingMode</b>)<i> where var\"#415#T\"<:Union{Float32, Float64}</i> in IrrationalConstants at <a href=\"file:///Users/uqjnazar/.julia/packages/IrrationalConstants/lWTip/src/macro.jl\" target=\"_blank\">/Users/uqjnazar/.julia/packages/IrrationalConstants/lWTip/src/macro.jl:151</a></li> <li> (::<b>Type{var\"#533#T\"}</b>)(x::<b>IrrationalConstants.Log2π</b>, r::<b>RoundingMode</b>)<i> where var\"#533#T\"<:Union{Float32, Float64}</i> in IrrationalConstants at <a href=\"file:///Users/uqjnazar/.julia/packages/IrrationalConstants/lWTip/src/macro.jl\" target=\"_blank\">/Users/uqjnazar/.julia/packages/IrrationalConstants/lWTip/src/macro.jl:151</a></li> <li> (::<b>Type{var\"#70#T\"}</b>)(x::<b>IrrationalConstants.Halfπ</b>, r::<b>RoundingMode</b>)<i> where var\"#70#T\"<:Union{Float32, Float64}</i> in IrrationalConstants at <a href=\"file:///Users/uqjnazar/.julia/packages/IrrationalConstants/lWTip/src/macro.jl\" target=\"_blank\">/Users/uqjnazar/.julia/packages/IrrationalConstants/lWTip/src/macro.jl:151</a></li> <li> (::<b>Type{var\"#463#T\"}</b>)(x::<b>IrrationalConstants.Logtwo</b>, r::<b>RoundingMode</b>)<i> where var\"#463#T\"<:Union{Float32, Float64}</i> in IrrationalConstants at <a href=\"file:///Users/uqjnazar/.julia/packages/IrrationalConstants/lWTip/src/macro.jl\" target=\"_blank\">/Users/uqjnazar/.julia/packages/IrrationalConstants/lWTip/src/macro.jl:151</a></li> <li> (::<b>Type{var\"#556#T\"}</b>)(x::<b>IrrationalConstants.Log4π</b>, r::<b>RoundingMode</b>)<i> where var\"#556#T\"<:Union{Float32, Float64}</i> in IrrationalConstants at <a href=\"file:///Users/uqjnazar/.julia/packages/IrrationalConstants/lWTip/src/macro.jl\" target=\"_blank\">/Users/uqjnazar/.julia/packages/IrrationalConstants/lWTip/src/macro.jl:151</a></li> <li> (::<b>Type{var\"#438#T\"}</b>)(x::<b>IrrationalConstants.Loghalf</b>, r::<b>RoundingMode</b>)<i> where var\"#438#T\"<:Union{Float32, Float64}</i> in IrrationalConstants at <a href=\"file:///Users/uqjnazar/.julia/packages/IrrationalConstants/lWTip/src/macro.jl\" target=\"_blank\">/Users/uqjnazar/.julia/packages/IrrationalConstants/lWTip/src/macro.jl:151</a></li> <li> (::<b>Type{var\"#116#T\"}</b>)(x::<b>IrrationalConstants.Invπ</b>, r::<b>RoundingMode</b>)<i> where var\"#116#T\"<:Union{Float32, Float64}</i> in IrrationalConstants at <a href=\"file:///Users/uqjnazar/.julia/packages/IrrationalConstants/lWTip/src/macro.jl\" target=\"_blank\">/Users/uqjnazar/.julia/packages/IrrationalConstants/lWTip/src/macro.jl:151</a></li> <li> (::<b>Type{var\"#254#T\"}</b>)(x::<b>IrrationalConstants.Sqrt3</b>, r::<b>RoundingMode</b>)<i> where var\"#254#T\"<:Union{Float32, Float64}</i> in IrrationalConstants at <a href=\"file:///Users/uqjnazar/.julia/packages/IrrationalConstants/lWTip/src/macro.jl\" target=\"_blank\">/Users/uqjnazar/.julia/packages/IrrationalConstants/lWTip/src/macro.jl:151</a></li> <li> (::<b>Type{var\"#487#T\"}</b>)(x::<b>IrrationalConstants.Logten</b>, r::<b>RoundingMode</b>)<i> where var\"#487#T\"<:Union{Float32, Float64}</i> in IrrationalConstants at <a href=\"file:///Users/uqjnazar/.julia/packages/IrrationalConstants/lWTip/src/macro.jl\" target=\"_blank\">/Users/uqjnazar/.julia/packages/IrrationalConstants/lWTip/src/macro.jl:151</a></li> <li> (::<b>Type{var\"#139#T\"}</b>)(x::<b>IrrationalConstants.Twoinvπ</b>, r::<b>RoundingMode</b>)<i> where var\"#139#T\"<:Union{Float32, Float64}</i> in IrrationalConstants at <a href=\"file:///Users/uqjnazar/.julia/packages/IrrationalConstants/lWTip/src/macro.jl\" target=\"_blank\">/Users/uqjnazar/.julia/packages/IrrationalConstants/lWTip/src/macro.jl:151</a></li> <li> (::<b>Type{var\"#47#T\"}</b>)(x::<b>IrrationalConstants.Fourπ</b>, r::<b>RoundingMode</b>)<i> where var\"#47#T\"<:Union{Float32, Float64}</i> in IrrationalConstants at <a href=\"file:///Users/uqjnazar/.julia/packages/IrrationalConstants/lWTip/src/macro.jl\" target=\"_blank\">/Users/uqjnazar/.julia/packages/IrrationalConstants/lWTip/src/macro.jl:151</a></li> <li> (::<b>Type{T}</b>)(n::<b>BigInt</b>, ::<b>RoundingMode{:ToZero}</b>)<i> where T<:Union{Float16, Float32}</i> in Base.GMP at <a href=\"https://github.com/JuliaLang/julia/tree/760b2e5b7396f9cc0da5efce0cadd5d1974c4069/base/gmp.jl#L389\" target=\"_blank\">gmp.jl:389</a></li> <li> (::<b>Type{T}</b>)(n::<b>BigInt</b>, ::<b>RoundingMode{:Down}</b>)<i> where T<:Union{Float16, Float32, Float64}</i> in Base.GMP at <a href=\"https://github.com/JuliaLang/julia/tree/760b2e5b7396f9cc0da5efce0cadd5d1974c4069/base/gmp.jl#L393\" target=\"_blank\">gmp.jl:393</a></li> <li> (::<b>Type{T}</b>)(n::<b>BigInt</b>, ::<b>RoundingMode{:Up}</b>)<i> where T<:Union{Float16, Float32, Float64}</i> in Base.GMP at <a href=\"https://github.com/JuliaLang/julia/tree/760b2e5b7396f9cc0da5efce0cadd5d1974c4069/base/gmp.jl#L397\" target=\"_blank\">gmp.jl:397</a></li> <li> (::<b>Type{var\"#300#T\"}</b>)(x::<b>IrrationalConstants.Sqrt2π</b>, r::<b>RoundingMode</b>)<i> where var\"#300#T\"<:Union{Float32, Float64}</i> in IrrationalConstants at <a href=\"file:///Users/uqjnazar/.julia/packages/IrrationalConstants/lWTip/src/macro.jl\" target=\"_blank\">/Users/uqjnazar/.julia/packages/IrrationalConstants/lWTip/src/macro.jl:151</a></li> <li> (::<b>Type{var\"#323#T\"}</b>)(x::<b>IrrationalConstants.Sqrt4π</b>, r::<b>RoundingMode</b>)<i> where var\"#323#T\"<:Union{Float32, Float64}</i> in IrrationalConstants at <a href=\"file:///Users/uqjnazar/.julia/packages/IrrationalConstants/lWTip/src/macro.jl\" target=\"_blank\">/Users/uqjnazar/.julia/packages/IrrationalConstants/lWTip/src/macro.jl:151</a></li> <li> (::<b>Type{var\"#346#T\"}</b>)(x::<b>IrrationalConstants.Sqrthalfπ</b>, r::<b>RoundingMode</b>)<i> where var\"#346#T\"<:Union{Float32, Float64}</i> in IrrationalConstants at <a href=\"file:///Users/uqjnazar/.julia/packages/IrrationalConstants/lWTip/src/macro.jl\" target=\"_blank\">/Users/uqjnazar/.julia/packages/IrrationalConstants/lWTip/src/macro.jl:151</a></li> <li> (::<b>Type{var\"#162#T\"}</b>)(x::<b>IrrationalConstants.Fourinvπ</b>, r::<b>RoundingMode</b>)<i> where var\"#162#T\"<:Union{Float32, Float64}</i> in IrrationalConstants at <a href=\"file:///Users/uqjnazar/.julia/packages/IrrationalConstants/lWTip/src/macro.jl\" target=\"_blank\">/Users/uqjnazar/.julia/packages/IrrationalConstants/lWTip/src/macro.jl:151</a></li> <li> (::<b>Type{var\"#510#T\"}</b>)(x::<b>IrrationalConstants.Logπ</b>, r::<b>RoundingMode</b>)<i> where var\"#510#T\"<:Union{Float32, Float64}</i> in IrrationalConstants at <a href=\"file:///Users/uqjnazar/.julia/packages/IrrationalConstants/lWTip/src/macro.jl\" target=\"_blank\">/Users/uqjnazar/.julia/packages/IrrationalConstants/lWTip/src/macro.jl:151</a></li> <li> (::<b>Type{T}</b>)(x::<b>Union{Irrational{:π}, Irrational{:ℯ}, Irrational{:γ}, Irrational{:φ}, Irrational{:catalan}}</b>, r::<b>RoundingMode</b>)<i> where T<:Union{Float32, Float64}</i> in Base.MathConstants at <a href=\"https://github.com/JuliaLang/julia/tree/760b2e5b7396f9cc0da5efce0cadd5d1974c4069/base/mathconstants.jl#L29\" target=\"_blank\">mathconstants.jl:29</a></li> <li> (::<b>Type{T}</b>)(x::<b>AbstractIrrational</b>, r::<b>RoundingMode</b>)<i> where T<:Union{Float32, Float64}</i> in Base at <a href=\"https://github.com/JuliaLang/julia/tree/760b2e5b7396f9cc0da5efce0cadd5d1974c4069/base/irrationals.jl#L86\" target=\"_blank\">irrationals.jl:86</a></li> <li> (::<b>Type{T}</b>)(x::<b>Real</b>, r::<b>RoundingMode</b>)<i> where T<:AbstractFloat</i> in Base.Rounding at <a href=\"https://github.com/JuliaLang/julia/tree/760b2e5b7396f9cc0da5efce0cadd5d1974c4069/base/rounding.jl#L265\" target=\"_blank\">rounding.jl:265</a></li> <li> (::<b>Type{T}</b>)(x::<b>Rational{S}</b>)<i> where {S, T<:AbstractFloat}</i> in Base at <a href=\"https://github.com/JuliaLang/julia/tree/760b2e5b7396f9cc0da5efce0cadd5d1974c4069/base/rational.jl#L155\" target=\"_blank\">rational.jl:155</a></li> <li> (::<b>Type{Tf}</b>)(x::<b>FixedPointNumbers.Fixed{T, f}</b>)<i> where {Tf<:AbstractFloat, T, f}</i> in FixedPointNumbers at <a href=\"file:///Users/uqjnazar/.julia/packages/FixedPointNumbers/Dn4hv/src/fixed.jl\" target=\"_blank\">/Users/uqjnazar/.julia/packages/FixedPointNumbers/Dn4hv/src/fixed.jl:109</a></li> <li> (::<b>Type{T}</b>)(x::<b>FixedPointNumbers.Normed</b>)<i> where T<:AbstractFloat</i> in FixedPointNumbers at <a href=\"file:///Users/uqjnazar/.julia/packages/FixedPointNumbers/Dn4hv/src/normed.jl\" target=\"_blank\">/Users/uqjnazar/.julia/packages/FixedPointNumbers/Dn4hv/src/normed.jl:131</a></li> <li> (::<b>Type{T}</b>)(x::<b>Colorant{T, 1} where T</b>)<i> where T<:Real</i> in ColorTypes at <a href=\"file:///Users/uqjnazar/.julia/packages/ColorTypes/L7biZ/src/conversions.jl\" target=\"_blank\">/Users/uqjnazar/.julia/packages/ColorTypes/L7biZ/src/conversions.jl:112</a></li> <li> (::<b>Type{T}</b>)(z::<b>Complex</b>)<i> where T<:Real</i> in Base at <a href=\"https://github.com/JuliaLang/julia/tree/760b2e5b7396f9cc0da5efce0cadd5d1974c4069/base/complex.jl#L44\" target=\"_blank\">complex.jl:44</a></li> <li> (::<b>Type{T}</b>)(x::<b>Base.TwicePrecision</b>)<i> where T<:Number</i> in Base at <a href=\"https://github.com/JuliaLang/julia/tree/760b2e5b7396f9cc0da5efce0cadd5d1974c4069/base/twiceprecision.jl#L265\" target=\"_blank\">twiceprecision.jl:265</a></li> <li> (::<b>Type{T}</b>)(x::<b>T</b>)<i> where T<:Number</i> in Core at <a href=\"file:///Users/uqjnazar/.julia/juliaup/julia-1.11.5+0.aarch64.apple.darwin14/share/julia/base/boot.jl\" target=\"_blank\">boot.jl:900</a></li> <li> (::<b>Type{T}</b>)(x::<b>AbstractChar</b>)<i> where T<:Union{AbstractChar, Number}</i> in Base at <a href=\"https://github.com/JuliaLang/julia/tree/760b2e5b7396f9cc0da5efce0cadd5d1974c4069/base/char.jl#L50\" target=\"_blank\">char.jl:50</a></li> </ul>"
      ],
      "text/plain": [
       "# 93 methods for type constructor:\n",
       "  [1] Float32(::\u001b[1mIrrational\u001b[22m\u001b[0m{:mad_constant})\n",
       "\u001b[90m     @\u001b[39m \u001b[35mStatsBase\u001b[39m \u001b[90m\u001b[4mirrationals.jl:252\u001b[24m\u001b[39m\n",
       "  [2] Float32(::\u001b[1mIrrational\u001b[22m\u001b[0m{:SQRT_HALF})\n",
       "\u001b[90m     @\u001b[39m \u001b[36mRandom\u001b[39m \u001b[90m\u001b[4mirrationals.jl:252\u001b[24m\u001b[39m\n",
       "  [3] Float32(::\u001b[1mIrrational\u001b[22m\u001b[0m{:catalan})\n",
       "\u001b[90m     @\u001b[39m \u001b[90mBase.MathConstants\u001b[39m \u001b[90m\u001b[4mirrationals.jl:252\u001b[24m\u001b[39m\n",
       "  [4] Float32(::\u001b[1mIrrational\u001b[22m\u001b[0m{:φ})\n",
       "\u001b[90m     @\u001b[39m \u001b[90mBase.MathConstants\u001b[39m \u001b[90m\u001b[4mirrationals.jl:252\u001b[24m\u001b[39m\n",
       "  [5] Float32(::\u001b[1mIrrational\u001b[22m\u001b[0m{:γ})\n",
       "\u001b[90m     @\u001b[39m \u001b[90mBase.MathConstants\u001b[39m \u001b[90m\u001b[4mirrationals.jl:252\u001b[24m\u001b[39m\n",
       "  [6] Float32(::\u001b[1mIrrational\u001b[22m\u001b[0m{:ℯ})\n",
       "\u001b[90m     @\u001b[39m \u001b[90mBase.MathConstants\u001b[39m \u001b[90m\u001b[4mirrationals.jl:252\u001b[24m\u001b[39m\n",
       "  [7] Float32(::\u001b[1mIrrational\u001b[22m\u001b[0m{:π})\n",
       "\u001b[90m     @\u001b[39m \u001b[90mBase.MathConstants\u001b[39m \u001b[90m\u001b[4mirrationals.jl:252\u001b[24m\u001b[39m\n",
       "  [8] Float32(::\u001b[1mIrrationalConstants.Sqrtπ\u001b[22m)\n",
       "\u001b[90m     @\u001b[39m \u001b[32mIrrationalConstants\u001b[39m \u001b[90m~/.julia/packages/IrrationalConstants/lWTip/src/\u001b[39m\u001b[90m\u001b[4mmacro.jl:132\u001b[24m\u001b[39m\n",
       "  [9] Float32(\u001b[90mx\u001b[39m::\u001b[1mUInt8\u001b[22m)\n",
       "\u001b[90m     @\u001b[39m \u001b[90mBase\u001b[39m \u001b[90m\u001b[4mfloat.jl:245\u001b[24m\u001b[39m\n",
       " [10] Float32(::\u001b[1mIrrationalConstants.Twoπ\u001b[22m)\n",
       "\u001b[90m     @\u001b[39m \u001b[32mIrrationalConstants\u001b[39m \u001b[90m~/.julia/packages/IrrationalConstants/lWTip/src/\u001b[39m\u001b[90m\u001b[4mmacro.jl:132\u001b[24m\u001b[39m\n",
       " [11] Float32(::\u001b[1mIrrationalConstants.Quartπ\u001b[22m)\n",
       "\u001b[90m     @\u001b[39m \u001b[32mIrrationalConstants\u001b[39m \u001b[90m~/.julia/packages/IrrationalConstants/lWTip/src/\u001b[39m\u001b[90m\u001b[4mmacro.jl:132\u001b[24m\u001b[39m\n",
       " [12] Float32(::\u001b[1mIrrationalConstants.Inv2π\u001b[22m)\n",
       "\u001b[90m     @\u001b[39m \u001b[32mIrrationalConstants\u001b[39m \u001b[90m~/.julia/packages/IrrationalConstants/lWTip/src/\u001b[39m\u001b[90m\u001b[4mmacro.jl:132\u001b[24m\u001b[39m\n",
       " [13] Float32(::\u001b[1mIrrationalConstants.Invsqrt2\u001b[22m)\n",
       "\u001b[90m     @\u001b[39m \u001b[32mIrrationalConstants\u001b[39m \u001b[90m~/.julia/packages/IrrationalConstants/lWTip/src/\u001b[39m\u001b[90m\u001b[4mmacro.jl:132\u001b[24m\u001b[39m\n",
       " [14] Float32(::\u001b[1mIrrationalConstants.Log2π\u001b[22m)\n",
       "\u001b[90m     @\u001b[39m \u001b[32mIrrationalConstants\u001b[39m \u001b[90m~/.julia/packages/IrrationalConstants/lWTip/src/\u001b[39m\u001b[90m\u001b[4mmacro.jl:132\u001b[24m\u001b[39m\n",
       " [15] Float32(::\u001b[1mIrrationalConstants.Log4π\u001b[22m)\n",
       "\u001b[90m     @\u001b[39m \u001b[32mIrrationalConstants\u001b[39m \u001b[90m~/.julia/packages/IrrationalConstants/lWTip/src/\u001b[39m\u001b[90m\u001b[4mmacro.jl:132\u001b[24m\u001b[39m\n",
       " [16] Float32(::\u001b[1mIrrationalConstants.Invπ\u001b[22m)\n",
       "\u001b[90m     @\u001b[39m \u001b[32mIrrationalConstants\u001b[39m \u001b[90m~/.julia/packages/IrrationalConstants/lWTip/src/\u001b[39m\u001b[90m\u001b[4mmacro.jl:132\u001b[24m\u001b[39m\n",
       " [17] Float32(\u001b[90mx\u001b[39m::\u001b[1mFloat64\u001b[22m)\n",
       "\u001b[90m     @\u001b[39m \u001b[90mBase\u001b[39m \u001b[90m\u001b[4mfloat.jl:338\u001b[24m\u001b[39m\n",
       " [18] Float32(\u001b[90mx\u001b[39m::\u001b[1mUInt32\u001b[22m)\n",
       "\u001b[90m     @\u001b[39m \u001b[90mBase\u001b[39m \u001b[90m\u001b[4mfloat.jl:245\u001b[24m\u001b[39m\n",
       " [19] Float32(\u001b[90mx\u001b[39m::\u001b[1mFloat16\u001b[22m)\n",
       "\u001b[90m     @\u001b[39m \u001b[90mBase\u001b[39m \u001b[90m\u001b[4mfloat.jl:340\u001b[24m\u001b[39m\n",
       " [20] Float32(::\u001b[1mIrrationalConstants.Sqrt3\u001b[22m)\n",
       "\u001b[90m     @\u001b[39m \u001b[32mIrrationalConstants\u001b[39m \u001b[90m~/.julia/packages/IrrationalConstants/lWTip/src/\u001b[39m\u001b[90m\u001b[4mmacro.jl:132\u001b[24m\u001b[39m\n",
       " [21] Float32(::\u001b[1mIrrationalConstants.Logten\u001b[22m)\n",
       "\u001b[90m     @\u001b[39m \u001b[32mIrrationalConstants\u001b[39m \u001b[90m~/.julia/packages/IrrationalConstants/lWTip/src/\u001b[39m\u001b[90m\u001b[4mmacro.jl:132\u001b[24m\u001b[39m\n",
       " [22] Float32(::\u001b[1mIrrationalConstants.Fourπ\u001b[22m)\n",
       "\u001b[90m     @\u001b[39m \u001b[32mIrrationalConstants\u001b[39m \u001b[90m~/.julia/packages/IrrationalConstants/lWTip/src/\u001b[39m\u001b[90m\u001b[4mmacro.jl:132\u001b[24m\u001b[39m\n",
       " [23] Float32(::\u001b[1mIrrationalConstants.Logπ\u001b[22m)\n",
       "\u001b[90m     @\u001b[39m \u001b[32mIrrationalConstants\u001b[39m \u001b[90m~/.julia/packages/IrrationalConstants/lWTip/src/\u001b[39m\u001b[90m\u001b[4mmacro.jl:132\u001b[24m\u001b[39m\n",
       " [24] Float32(::\u001b[1mIrrationalConstants.Sqrthalfπ\u001b[22m)\n",
       "\u001b[90m     @\u001b[39m \u001b[32mIrrationalConstants\u001b[39m \u001b[90m~/.julia/packages/IrrationalConstants/lWTip/src/\u001b[39m\u001b[90m\u001b[4mmacro.jl:132\u001b[24m\u001b[39m\n",
       " [25] Float32(\u001b[90mx\u001b[39m::\u001b[1mInt64\u001b[22m)\n",
       "\u001b[90m     @\u001b[39m \u001b[90mBase\u001b[39m \u001b[90m\u001b[4mfloat.jl:239\u001b[24m\u001b[39m\n",
       " [26] Float32(\u001b[90mx\u001b[39m::\u001b[1mInt16\u001b[22m)\n",
       "\u001b[90m     @\u001b[39m \u001b[90mBase\u001b[39m \u001b[90m\u001b[4mfloat.jl:239\u001b[24m\u001b[39m\n",
       " [27] Float32(::\u001b[1mIrrationalConstants.Sqrt2\u001b[22m)\n",
       "\u001b[90m     @\u001b[39m \u001b[32mIrrationalConstants\u001b[39m \u001b[90m~/.julia/packages/IrrationalConstants/lWTip/src/\u001b[39m\u001b[90m\u001b[4mmacro.jl:132\u001b[24m\u001b[39m\n",
       " [28] Float32(\u001b[90mx\u001b[39m::\u001b[1mUInt16\u001b[22m)\n",
       "\u001b[90m     @\u001b[39m \u001b[90mBase\u001b[39m \u001b[90m\u001b[4mfloat.jl:245\u001b[24m\u001b[39m\n",
       " [29] Float32(::\u001b[1mIrrationalConstants.Inv4π\u001b[22m)\n",
       "\u001b[90m     @\u001b[39m \u001b[32mIrrationalConstants\u001b[39m \u001b[90m~/.julia/packages/IrrationalConstants/lWTip/src/\u001b[39m\u001b[90m\u001b[4mmacro.jl:132\u001b[24m\u001b[39m\n",
       " [30] Float32(\u001b[90mx\u001b[39m::\u001b[1mInt8\u001b[22m)\n",
       "\u001b[90m     @\u001b[39m \u001b[90mBase\u001b[39m \u001b[90m\u001b[4mfloat.jl:239\u001b[24m\u001b[39m\n",
       " [31] Float32(::\u001b[1mIrrationalConstants.Invsqrtπ\u001b[22m)\n",
       "\u001b[90m     @\u001b[39m \u001b[32mIrrationalConstants\u001b[39m \u001b[90m~/.julia/packages/IrrationalConstants/lWTip/src/\u001b[39m\u001b[90m\u001b[4mmacro.jl:132\u001b[24m\u001b[39m\n",
       " [32] Float32(::\u001b[1mIrrationalConstants.Invsqrt2π\u001b[22m)\n",
       "\u001b[90m     @\u001b[39m \u001b[32mIrrationalConstants\u001b[39m \u001b[90m~/.julia/packages/IrrationalConstants/lWTip/src/\u001b[39m\u001b[90m\u001b[4mmacro.jl:132\u001b[24m\u001b[39m\n",
       " [33] Float32(::\u001b[1mIrrationalConstants.Halfπ\u001b[22m)\n",
       "\u001b[90m     @\u001b[39m \u001b[32mIrrationalConstants\u001b[39m \u001b[90m~/.julia/packages/IrrationalConstants/lWTip/src/\u001b[39m\u001b[90m\u001b[4mmacro.jl:132\u001b[24m\u001b[39m\n",
       " [34] Float32(::\u001b[1mIrrationalConstants.Logtwo\u001b[22m)\n",
       "\u001b[90m     @\u001b[39m \u001b[32mIrrationalConstants\u001b[39m \u001b[90m~/.julia/packages/IrrationalConstants/lWTip/src/\u001b[39m\u001b[90m\u001b[4mmacro.jl:132\u001b[24m\u001b[39m\n",
       " [35] Float32(::\u001b[1mIrrationalConstants.Loghalf\u001b[22m)\n",
       "\u001b[90m     @\u001b[39m \u001b[32mIrrationalConstants\u001b[39m \u001b[90m~/.julia/packages/IrrationalConstants/lWTip/src/\u001b[39m\u001b[90m\u001b[4mmacro.jl:132\u001b[24m\u001b[39m\n",
       " [36] Float32(\u001b[90mx\u001b[39m::\u001b[1mBool\u001b[22m)\n",
       "\u001b[90m     @\u001b[39m \u001b[90mBase\u001b[39m \u001b[90m\u001b[4mfloat.jl:245\u001b[24m\u001b[39m\n",
       " [37] Float32(\u001b[90mx\u001b[39m::\u001b[1mInt128\u001b[22m)\n",
       "\u001b[90m     @\u001b[39m \u001b[90mBase\u001b[39m \u001b[90m\u001b[4mfloat.jl:316\u001b[24m\u001b[39m\n",
       " [38] Float32(\u001b[90mx\u001b[39m::\u001b[1mInt32\u001b[22m)\n",
       "\u001b[90m     @\u001b[39m \u001b[90mBase\u001b[39m \u001b[90m\u001b[4mfloat.jl:239\u001b[24m\u001b[39m\n",
       " [39] Float32(::\u001b[1mIrrationalConstants.Twoinvπ\u001b[22m)\n",
       "\u001b[90m     @\u001b[39m \u001b[32mIrrationalConstants\u001b[39m \u001b[90m~/.julia/packages/IrrationalConstants/lWTip/src/\u001b[39m\u001b[90m\u001b[4mmacro.jl:132\u001b[24m\u001b[39m\n",
       " [40] Float32(::\u001b[1mIrrationalConstants.Sqrt2π\u001b[22m)\n",
       "\u001b[90m     @\u001b[39m \u001b[32mIrrationalConstants\u001b[39m \u001b[90m~/.julia/packages/IrrationalConstants/lWTip/src/\u001b[39m\u001b[90m\u001b[4mmacro.jl:132\u001b[24m\u001b[39m\n",
       " [41] Float32(\u001b[90mn\u001b[39m::\u001b[1mBigInt\u001b[22m)\n",
       "\u001b[90m     @\u001b[39m \u001b[90mBase.GMP\u001b[39m \u001b[90m\u001b[4mgmp.jl:471\u001b[24m\u001b[39m\n",
       " [42] Float32(\u001b[90mx\u001b[39m::\u001b[1mBigInt\u001b[22m, ::\u001b[1mRoundingMode\u001b[22m\u001b[0m{:Nearest})\n",
       "\u001b[90m     @\u001b[39m \u001b[90mBase.GMP\u001b[39m \u001b[90m\u001b[4mgmp.jl:431\u001b[24m\u001b[39m\n",
       " [43] Float32(\u001b[90mx\u001b[39m::\u001b[1mUInt64\u001b[22m)\n",
       "\u001b[90m     @\u001b[39m \u001b[90mBase\u001b[39m \u001b[90m\u001b[4mfloat.jl:245\u001b[24m\u001b[39m\n",
       " [44] Float32(::\u001b[1mIrrationalConstants.Sqrt4π\u001b[22m)\n",
       "\u001b[90m     @\u001b[39m \u001b[32mIrrationalConstants\u001b[39m \u001b[90m~/.julia/packages/IrrationalConstants/lWTip/src/\u001b[39m\u001b[90m\u001b[4mmacro.jl:132\u001b[24m\u001b[39m\n",
       " [45] Float32(\u001b[90mx\u001b[39m::\u001b[1mBigFloat\u001b[22m, \u001b[90mr\u001b[39m::\u001b[1mBase.MPFR.MPFRRoundingMode\u001b[22m)\n",
       "\u001b[90m     @\u001b[39m \u001b[90mBase.MPFR\u001b[39m \u001b[90m\u001b[4mmpfr.jl:465\u001b[24m\u001b[39m\n",
       " [46] Float32(\u001b[90mx\u001b[39m::\u001b[1mBigFloat\u001b[22m)\n",
       "\u001b[90m     @\u001b[39m \u001b[90mBase.MPFR\u001b[39m \u001b[90m\u001b[4mmpfr.jl:465\u001b[24m\u001b[39m\n",
       " [47] Float32(\u001b[90mx\u001b[39m::\u001b[1mBigFloat\u001b[22m, \u001b[90mr\u001b[39m::\u001b[1mRoundingMode\u001b[22m)\n",
       "\u001b[90m     @\u001b[39m \u001b[90mBase.MPFR\u001b[39m \u001b[90m\u001b[4mmpfr.jl:468\u001b[24m\u001b[39m\n",
       " [48] Float32(\u001b[90mx\u001b[39m::\u001b[1mUInt128\u001b[22m)\n",
       "\u001b[90m     @\u001b[39m \u001b[90mBase\u001b[39m \u001b[90m\u001b[4mfloat.jl:302\u001b[24m\u001b[39m\n",
       " [49] Float32(::\u001b[1mIrrationalConstants.Fourinvπ\u001b[22m)\n",
       "\u001b[90m     @\u001b[39m \u001b[32mIrrationalConstants\u001b[39m \u001b[90m~/.julia/packages/IrrationalConstants/lWTip/src/\u001b[39m\u001b[90m\u001b[4mmacro.jl:132\u001b[24m\u001b[39m\n",
       " [50] Float32(\u001b[90mx\u001b[39m::\u001b[1mRational\u001b[22m\u001b[0m{<:Union{Int128, UInt128}})\n",
       "\u001b[90m     @\u001b[39m \u001b[90mBase\u001b[39m \u001b[90m\u001b[4mrational.jl:165\u001b[24m\u001b[39m\n",
       " [51] Float32(\u001b[90mx\u001b[39m::\u001b[1mFixedPointNumbers.Fixed\u001b[22m\u001b[0m{T, f}) where {T, f}\n",
       "\u001b[90m     @\u001b[39m \u001b[33mFixedPointNumbers\u001b[39m \u001b[90m~/.julia/packages/FixedPointNumbers/Dn4hv/src/\u001b[39m\u001b[90m\u001b[4mfixed.jl:111\u001b[24m\u001b[39m\n",
       " [52] Float32(\u001b[90mx\u001b[39m::\u001b[1mFixedPointNumbers.Normed\u001b[22m\u001b[0m{UInt8, f}) where f\n",
       "\u001b[90m     @\u001b[39m \u001b[33mFixedPointNumbers\u001b[39m \u001b[90m~/.julia/packages/FixedPointNumbers/Dn4hv/src/\u001b[39m\u001b[90m\u001b[4mnormed.jl:147\u001b[24m\u001b[39m\n",
       " [53] Float32(\u001b[90mx\u001b[39m::\u001b[1mFixedPointNumbers.Normed\u001b[22m\u001b[0m{UInt16, f}) where f\n",
       "\u001b[90m     @\u001b[39m \u001b[33mFixedPointNumbers\u001b[39m \u001b[90m~/.julia/packages/FixedPointNumbers/Dn4hv/src/\u001b[39m\u001b[90m\u001b[4mnormed.jl:158\u001b[24m\u001b[39m\n",
       " [54] Float32(\u001b[90mx\u001b[39m::\u001b[1mFixedPointNumbers.Normed\u001b[22m\u001b[0m{UInt32, f}) where f\n",
       "\u001b[90m     @\u001b[39m \u001b[33mFixedPointNumbers\u001b[39m \u001b[90m~/.julia/packages/FixedPointNumbers/Dn4hv/src/\u001b[39m\u001b[90m\u001b[4mnormed.jl:170\u001b[24m\u001b[39m\n",
       " [55] Float32(\u001b[90mx\u001b[39m::\u001b[1mFixedPointNumbers.Normed\u001b[22m\u001b[0m{Ti, f}) where {Ti<:Union{UInt128, UInt64}, f}\n",
       "\u001b[90m     @\u001b[39m \u001b[33mFixedPointNumbers\u001b[39m \u001b[90m~/.julia/packages/FixedPointNumbers/Dn4hv/src/\u001b[39m\u001b[90m\u001b[4mnormed.jl:184\u001b[24m\u001b[39m\n",
       " [56] (::Type{var\"#231#T\"})(\u001b[90mx\u001b[39m::\u001b[1mIrrationalConstants.Sqrt2\u001b[22m, \u001b[90mr\u001b[39m::\u001b[1mRoundingMode\u001b[22m) where var\"#231#T\"<:Union{Float32, Float64}\n",
       "\u001b[90m     @\u001b[39m \u001b[90m~/.julia/packages/IrrationalConstants/lWTip/src/\u001b[39m\u001b[90m\u001b[4mmacro.jl:151\u001b[24m\u001b[39m\n",
       " [57] (::Type{var\"#277#T\"})(\u001b[90mx\u001b[39m::\u001b[1mIrrationalConstants.Sqrtπ\u001b[22m, \u001b[90mr\u001b[39m::\u001b[1mRoundingMode\u001b[22m) where var\"#277#T\"<:Union{Float32, Float64}\n",
       "\u001b[90m     @\u001b[39m \u001b[90m~/.julia/packages/IrrationalConstants/lWTip/src/\u001b[39m\u001b[90m\u001b[4mmacro.jl:151\u001b[24m\u001b[39m\n",
       " [58] (::Type{var\"#369#T\"})(\u001b[90mx\u001b[39m::\u001b[1mIrrationalConstants.Invsqrt2\u001b[22m, \u001b[90mr\u001b[39m::\u001b[1mRoundingMode\u001b[22m) where var\"#369#T\"<:Union{Float32, Float64}\n",
       "\u001b[90m     @\u001b[39m \u001b[90m~/.julia/packages/IrrationalConstants/lWTip/src/\u001b[39m\u001b[90m\u001b[4mmacro.jl:151\u001b[24m\u001b[39m\n",
       " [59] (::Type{var\"#22#T\"})(\u001b[90mx\u001b[39m::\u001b[1mIrrationalConstants.Twoπ\u001b[22m, \u001b[90mr\u001b[39m::\u001b[1mRoundingMode\u001b[22m) where var\"#22#T\"<:Union{Float32, Float64}\n",
       "\u001b[90m     @\u001b[39m \u001b[90m~/.julia/packages/IrrationalConstants/lWTip/src/\u001b[39m\u001b[90m\u001b[4mmacro.jl:151\u001b[24m\u001b[39m\n",
       " [60] (::Type{var\"#93#T\"})(\u001b[90mx\u001b[39m::\u001b[1mIrrationalConstants.Quartπ\u001b[22m, \u001b[90mr\u001b[39m::\u001b[1mRoundingMode\u001b[22m) where var\"#93#T\"<:Union{Float32, Float64}\n",
       "\u001b[90m     @\u001b[39m \u001b[90m~/.julia/packages/IrrationalConstants/lWTip/src/\u001b[39m\u001b[90m\u001b[4mmacro.jl:151\u001b[24m\u001b[39m\n",
       " [61] (::Type{var\"#185#T\"})(\u001b[90mx\u001b[39m::\u001b[1mIrrationalConstants.Inv2π\u001b[22m, \u001b[90mr\u001b[39m::\u001b[1mRoundingMode\u001b[22m) where var\"#185#T\"<:Union{Float32, Float64}\n",
       "\u001b[90m     @\u001b[39m \u001b[90m~/.julia/packages/IrrationalConstants/lWTip/src/\u001b[39m\u001b[90m\u001b[4mmacro.jl:151\u001b[24m\u001b[39m\n",
       " [62] (::Type{var\"#208#T\"})(\u001b[90mx\u001b[39m::\u001b[1mIrrationalConstants.Inv4π\u001b[22m, \u001b[90mr\u001b[39m::\u001b[1mRoundingMode\u001b[22m) where var\"#208#T\"<:Union{Float32, Float64}\n",
       "\u001b[90m     @\u001b[39m \u001b[90m~/.julia/packages/IrrationalConstants/lWTip/src/\u001b[39m\u001b[90m\u001b[4mmacro.jl:151\u001b[24m\u001b[39m\n",
       " [63] (::Type{var\"#392#T\"})(\u001b[90mx\u001b[39m::\u001b[1mIrrationalConstants.Invsqrtπ\u001b[22m, \u001b[90mr\u001b[39m::\u001b[1mRoundingMode\u001b[22m) where var\"#392#T\"<:Union{Float32, Float64}\n",
       "\u001b[90m     @\u001b[39m \u001b[90m~/.julia/packages/IrrationalConstants/lWTip/src/\u001b[39m\u001b[90m\u001b[4mmacro.jl:151\u001b[24m\u001b[39m\n",
       " [64] (::Type{var\"#415#T\"})(\u001b[90mx\u001b[39m::\u001b[1mIrrationalConstants.Invsqrt2π\u001b[22m, \u001b[90mr\u001b[39m::\u001b[1mRoundingMode\u001b[22m) where var\"#415#T\"<:Union{Float32, Float64}\n",
       "\u001b[90m     @\u001b[39m \u001b[90m~/.julia/packages/IrrationalConstants/lWTip/src/\u001b[39m\u001b[90m\u001b[4mmacro.jl:151\u001b[24m\u001b[39m\n",
       " [65] (::Type{var\"#533#T\"})(\u001b[90mx\u001b[39m::\u001b[1mIrrationalConstants.Log2π\u001b[22m, \u001b[90mr\u001b[39m::\u001b[1mRoundingMode\u001b[22m) where var\"#533#T\"<:Union{Float32, Float64}\n",
       "\u001b[90m     @\u001b[39m \u001b[90m~/.julia/packages/IrrationalConstants/lWTip/src/\u001b[39m\u001b[90m\u001b[4mmacro.jl:151\u001b[24m\u001b[39m\n",
       " [66] (::Type{var\"#70#T\"})(\u001b[90mx\u001b[39m::\u001b[1mIrrationalConstants.Halfπ\u001b[22m, \u001b[90mr\u001b[39m::\u001b[1mRoundingMode\u001b[22m) where var\"#70#T\"<:Union{Float32, Float64}\n",
       "\u001b[90m     @\u001b[39m \u001b[90m~/.julia/packages/IrrationalConstants/lWTip/src/\u001b[39m\u001b[90m\u001b[4mmacro.jl:151\u001b[24m\u001b[39m\n",
       " [67] (::Type{var\"#463#T\"})(\u001b[90mx\u001b[39m::\u001b[1mIrrationalConstants.Logtwo\u001b[22m, \u001b[90mr\u001b[39m::\u001b[1mRoundingMode\u001b[22m) where var\"#463#T\"<:Union{Float32, Float64}\n",
       "\u001b[90m     @\u001b[39m \u001b[90m~/.julia/packages/IrrationalConstants/lWTip/src/\u001b[39m\u001b[90m\u001b[4mmacro.jl:151\u001b[24m\u001b[39m\n",
       " [68] (::Type{var\"#556#T\"})(\u001b[90mx\u001b[39m::\u001b[1mIrrationalConstants.Log4π\u001b[22m, \u001b[90mr\u001b[39m::\u001b[1mRoundingMode\u001b[22m) where var\"#556#T\"<:Union{Float32, Float64}\n",
       "\u001b[90m     @\u001b[39m \u001b[90m~/.julia/packages/IrrationalConstants/lWTip/src/\u001b[39m\u001b[90m\u001b[4mmacro.jl:151\u001b[24m\u001b[39m\n",
       " [69] (::Type{var\"#438#T\"})(\u001b[90mx\u001b[39m::\u001b[1mIrrationalConstants.Loghalf\u001b[22m, \u001b[90mr\u001b[39m::\u001b[1mRoundingMode\u001b[22m) where var\"#438#T\"<:Union{Float32, Float64}\n",
       "\u001b[90m     @\u001b[39m \u001b[90m~/.julia/packages/IrrationalConstants/lWTip/src/\u001b[39m\u001b[90m\u001b[4mmacro.jl:151\u001b[24m\u001b[39m\n",
       " [70] (::Type{var\"#116#T\"})(\u001b[90mx\u001b[39m::\u001b[1mIrrationalConstants.Invπ\u001b[22m, \u001b[90mr\u001b[39m::\u001b[1mRoundingMode\u001b[22m) where var\"#116#T\"<:Union{Float32, Float64}\n",
       "\u001b[90m     @\u001b[39m \u001b[90m~/.julia/packages/IrrationalConstants/lWTip/src/\u001b[39m\u001b[90m\u001b[4mmacro.jl:151\u001b[24m\u001b[39m\n",
       " [71] (::Type{var\"#254#T\"})(\u001b[90mx\u001b[39m::\u001b[1mIrrationalConstants.Sqrt3\u001b[22m, \u001b[90mr\u001b[39m::\u001b[1mRoundingMode\u001b[22m) where var\"#254#T\"<:Union{Float32, Float64}\n",
       "\u001b[90m     @\u001b[39m \u001b[90m~/.julia/packages/IrrationalConstants/lWTip/src/\u001b[39m\u001b[90m\u001b[4mmacro.jl:151\u001b[24m\u001b[39m\n",
       " [72] (::Type{var\"#487#T\"})(\u001b[90mx\u001b[39m::\u001b[1mIrrationalConstants.Logten\u001b[22m, \u001b[90mr\u001b[39m::\u001b[1mRoundingMode\u001b[22m) where var\"#487#T\"<:Union{Float32, Float64}\n",
       "\u001b[90m     @\u001b[39m \u001b[90m~/.julia/packages/IrrationalConstants/lWTip/src/\u001b[39m\u001b[90m\u001b[4mmacro.jl:151\u001b[24m\u001b[39m\n",
       " [73] (::Type{var\"#139#T\"})(\u001b[90mx\u001b[39m::\u001b[1mIrrationalConstants.Twoinvπ\u001b[22m, \u001b[90mr\u001b[39m::\u001b[1mRoundingMode\u001b[22m) where var\"#139#T\"<:Union{Float32, Float64}\n",
       "\u001b[90m     @\u001b[39m \u001b[90m~/.julia/packages/IrrationalConstants/lWTip/src/\u001b[39m\u001b[90m\u001b[4mmacro.jl:151\u001b[24m\u001b[39m\n",
       " [74] (::Type{var\"#47#T\"})(\u001b[90mx\u001b[39m::\u001b[1mIrrationalConstants.Fourπ\u001b[22m, \u001b[90mr\u001b[39m::\u001b[1mRoundingMode\u001b[22m) where var\"#47#T\"<:Union{Float32, Float64}\n",
       "\u001b[90m     @\u001b[39m \u001b[90m~/.julia/packages/IrrationalConstants/lWTip/src/\u001b[39m\u001b[90m\u001b[4mmacro.jl:151\u001b[24m\u001b[39m\n",
       " [75] (::Type{T})(\u001b[90mn\u001b[39m::\u001b[1mBigInt\u001b[22m, ::\u001b[1mRoundingMode\u001b[22m\u001b[0m{:ToZero}) where T<:Union{Float16, Float32}\n",
       "\u001b[90m     @\u001b[39m \u001b[90m\u001b[4mgmp.jl:389\u001b[24m\u001b[39m\n",
       " [76] (::Type{T})(\u001b[90mn\u001b[39m::\u001b[1mBigInt\u001b[22m, ::\u001b[1mRoundingMode\u001b[22m\u001b[0m{:Down}) where T<:Union{Float16, Float32, Float64}\n",
       "\u001b[90m     @\u001b[39m \u001b[90m\u001b[4mgmp.jl:393\u001b[24m\u001b[39m\n",
       " [77] (::Type{T})(\u001b[90mn\u001b[39m::\u001b[1mBigInt\u001b[22m, ::\u001b[1mRoundingMode\u001b[22m\u001b[0m{:Up}) where T<:Union{Float16, Float32, Float64}\n",
       "\u001b[90m     @\u001b[39m \u001b[90m\u001b[4mgmp.jl:397\u001b[24m\u001b[39m\n",
       " [78] (::Type{var\"#300#T\"})(\u001b[90mx\u001b[39m::\u001b[1mIrrationalConstants.Sqrt2π\u001b[22m, \u001b[90mr\u001b[39m::\u001b[1mRoundingMode\u001b[22m) where var\"#300#T\"<:Union{Float32, Float64}\n",
       "\u001b[90m     @\u001b[39m \u001b[90m~/.julia/packages/IrrationalConstants/lWTip/src/\u001b[39m\u001b[90m\u001b[4mmacro.jl:151\u001b[24m\u001b[39m\n",
       " [79] (::Type{var\"#323#T\"})(\u001b[90mx\u001b[39m::\u001b[1mIrrationalConstants.Sqrt4π\u001b[22m, \u001b[90mr\u001b[39m::\u001b[1mRoundingMode\u001b[22m) where var\"#323#T\"<:Union{Float32, Float64}\n",
       "\u001b[90m     @\u001b[39m \u001b[90m~/.julia/packages/IrrationalConstants/lWTip/src/\u001b[39m\u001b[90m\u001b[4mmacro.jl:151\u001b[24m\u001b[39m\n",
       " [80] (::Type{var\"#346#T\"})(\u001b[90mx\u001b[39m::\u001b[1mIrrationalConstants.Sqrthalfπ\u001b[22m, \u001b[90mr\u001b[39m::\u001b[1mRoundingMode\u001b[22m) where var\"#346#T\"<:Union{Float32, Float64}\n",
       "\u001b[90m     @\u001b[39m \u001b[90m~/.julia/packages/IrrationalConstants/lWTip/src/\u001b[39m\u001b[90m\u001b[4mmacro.jl:151\u001b[24m\u001b[39m\n",
       " [81] (::Type{var\"#162#T\"})(\u001b[90mx\u001b[39m::\u001b[1mIrrationalConstants.Fourinvπ\u001b[22m, \u001b[90mr\u001b[39m::\u001b[1mRoundingMode\u001b[22m) where var\"#162#T\"<:Union{Float32, Float64}\n",
       "\u001b[90m     @\u001b[39m \u001b[90m~/.julia/packages/IrrationalConstants/lWTip/src/\u001b[39m\u001b[90m\u001b[4mmacro.jl:151\u001b[24m\u001b[39m\n",
       " [82] (::Type{var\"#510#T\"})(\u001b[90mx\u001b[39m::\u001b[1mIrrationalConstants.Logπ\u001b[22m, \u001b[90mr\u001b[39m::\u001b[1mRoundingMode\u001b[22m) where var\"#510#T\"<:Union{Float32, Float64}\n",
       "\u001b[90m     @\u001b[39m \u001b[90m~/.julia/packages/IrrationalConstants/lWTip/src/\u001b[39m\u001b[90m\u001b[4mmacro.jl:151\u001b[24m\u001b[39m\n",
       " [83] (::Type{T})(\u001b[90mx\u001b[39m::\u001b[1mUnion\u001b[22m\u001b[0m{Irrational{:π}, Irrational{:ℯ}, Irrational{:γ}, Irrational{:φ}, Irrational{:catalan}}, \u001b[90mr\u001b[39m::\u001b[1mRoundingMode\u001b[22m) where T<:Union{Float32, Float64}\n",
       "\u001b[90m     @\u001b[39m \u001b[90m\u001b[4mmathconstants.jl:29\u001b[24m\u001b[39m\n",
       " [84] (::Type{T})(\u001b[90mx\u001b[39m::\u001b[1mAbstractIrrational\u001b[22m, \u001b[90mr\u001b[39m::\u001b[1mRoundingMode\u001b[22m) where T<:Union{Float32, Float64}\n",
       "\u001b[90m     @\u001b[39m \u001b[90m\u001b[4mirrationals.jl:86\u001b[24m\u001b[39m\n",
       " [85] (::Type{T})(\u001b[90mx\u001b[39m::\u001b[1mReal\u001b[22m, \u001b[90mr\u001b[39m::\u001b[1mRoundingMode\u001b[22m) where T<:AbstractFloat\n",
       "\u001b[90m     @\u001b[39m \u001b[90mBase.Rounding\u001b[39m \u001b[90m\u001b[4mrounding.jl:265\u001b[24m\u001b[39m\n",
       " [86] (::Type{T})(\u001b[90mx\u001b[39m::\u001b[1mRational\u001b[22m\u001b[0m{S}) where {S, T<:AbstractFloat}\n",
       "\u001b[90m     @\u001b[39m \u001b[90mBase\u001b[39m \u001b[90m\u001b[4mrational.jl:155\u001b[24m\u001b[39m\n",
       " [87] (::Type{Tf})(\u001b[90mx\u001b[39m::\u001b[1mFixedPointNumbers.Fixed\u001b[22m\u001b[0m{T, f}) where {Tf<:AbstractFloat, T, f}\n",
       "\u001b[90m     @\u001b[39m \u001b[33mFixedPointNumbers\u001b[39m \u001b[90m~/.julia/packages/FixedPointNumbers/Dn4hv/src/\u001b[39m\u001b[90m\u001b[4mfixed.jl:109\u001b[24m\u001b[39m\n",
       " [88] (::Type{T})(\u001b[90mx\u001b[39m::\u001b[1mFixedPointNumbers.Normed\u001b[22m) where T<:AbstractFloat\n",
       "\u001b[90m     @\u001b[39m \u001b[33mFixedPointNumbers\u001b[39m \u001b[90m~/.julia/packages/FixedPointNumbers/Dn4hv/src/\u001b[39m\u001b[90m\u001b[4mnormed.jl:131\u001b[24m\u001b[39m\n",
       " [89] (::Type{T})(\u001b[90mx\u001b[39m::\u001b[1mColorant\u001b[22m\u001b[0m{T, 1} where T) where T<:Real\n",
       "\u001b[90m     @\u001b[39m \u001b[35mColorTypes\u001b[39m \u001b[90m~/.julia/packages/ColorTypes/L7biZ/src/\u001b[39m\u001b[90m\u001b[4mconversions.jl:112\u001b[24m\u001b[39m\n",
       " [90] (::Type{T})(\u001b[90mz\u001b[39m::\u001b[1mComplex\u001b[22m) where T<:Real\n",
       "\u001b[90m     @\u001b[39m \u001b[90mBase\u001b[39m \u001b[90m\u001b[4mcomplex.jl:44\u001b[24m\u001b[39m\n",
       " [91] (::Type{T})(\u001b[90mx\u001b[39m::\u001b[1mBase.TwicePrecision\u001b[22m) where T<:Number\n",
       "\u001b[90m     @\u001b[39m \u001b[90mBase\u001b[39m \u001b[90m\u001b[4mtwiceprecision.jl:265\u001b[24m\u001b[39m\n",
       " [92] (::Type{T})(\u001b[90mx\u001b[39m::\u001b[1mT\u001b[22m) where T<:Number\n",
       "\u001b[90m     @\u001b[39m \u001b[90m\u001b[4mboot.jl:900\u001b[24m\u001b[39m\n",
       " [93] (::Type{T})(\u001b[90mx\u001b[39m::\u001b[1mAbstractChar\u001b[22m) where T<:Union{AbstractChar, Number}\n",
       "\u001b[90m     @\u001b[39m \u001b[90m\u001b[4mchar.jl:50\u001b[24m\u001b[39m"
      ]
     },
     "execution_count": 10,
     "metadata": {},
     "output_type": "execute_result"
    }
   ],
   "source": [
    "methods(Float32)"
   ]
  },
  {
   "cell_type": "code",
   "execution_count": 11,
   "id": "6b944070-1974-49d9-b5fa-b2efc35f3003",
   "metadata": {},
   "outputs": [
    {
     "data": {
      "text/html": [
       "Float32(x::<b>Float64</b>) in Base at <a href=\"https://github.com/JuliaLang/julia/tree/760b2e5b7396f9cc0da5efce0cadd5d1974c4069/base/float.jl#L338\" target=\"_blank\">float.jl:338</a>"
      ],
      "text/plain": [
       "Float32(\u001b[90mx\u001b[39m::\u001b[1mFloat64\u001b[22m)\n",
       "\u001b[90m     @\u001b[39m \u001b[90mBase\u001b[39m \u001b[90m\u001b[4mfloat.jl:338\u001b[24m\u001b[39m"
      ]
     },
     "execution_count": 11,
     "metadata": {},
     "output_type": "execute_result"
    }
   ],
   "source": [
    "@which Float32(2.5)"
   ]
  },
  {
   "cell_type": "code",
   "execution_count": 12,
   "id": "da3cfde0-de52-428a-8e99-81c451d352dc",
   "metadata": {},
   "outputs": [
    {
     "data": {
      "text/html": [
       "Float32(x::<b>Int64</b>) in Base at <a href=\"https://github.com/JuliaLang/julia/tree/760b2e5b7396f9cc0da5efce0cadd5d1974c4069/base/float.jl#L239\" target=\"_blank\">float.jl:239</a>"
      ],
      "text/plain": [
       "Float32(\u001b[90mx\u001b[39m::\u001b[1mInt64\u001b[22m)\n",
       "\u001b[90m     @\u001b[39m \u001b[90mBase\u001b[39m \u001b[90m\u001b[4mfloat.jl:239\u001b[24m\u001b[39m"
      ]
     },
     "execution_count": 12,
     "metadata": {},
     "output_type": "execute_result"
    }
   ],
   "source": [
    "@which Float32(2)"
   ]
  },
  {
   "cell_type": "code",
   "execution_count": 13,
   "id": "86a43005-5b74-4592-8bda-2344f8b51089",
   "metadata": {},
   "outputs": [
    {
     "data": {
      "text/plain": [
       "3-element Vector{Int64}:\n",
       " 1\n",
       " 2\n",
       " 3"
      ]
     },
     "execution_count": 13,
     "metadata": {},
     "output_type": "execute_result"
    }
   ],
   "source": [
    "a = [1,2,3]"
   ]
  },
  {
   "cell_type": "code",
   "execution_count": 14,
   "id": "306765bb-112b-433a-bb8e-da0eb49f3f64",
   "metadata": {},
   "outputs": [
    {
     "data": {
      "text/plain": [
       "3-element Vector{Int64}:\n",
       "  5\n",
       " 10\n",
       " 15"
      ]
     },
     "execution_count": 14,
     "metadata": {},
     "output_type": "execute_result"
    }
   ],
   "source": [
    "5*a"
   ]
  },
  {
   "cell_type": "code",
   "execution_count": 15,
   "id": "b151b792-056e-4f74-8003-c6d1825145e2",
   "metadata": {},
   "outputs": [
    {
     "ename": "LoadError",
     "evalue": "MethodError: no method matching -(::Vector{Int64}, ::Int64)\nFor element-wise subtraction, use broadcasting with dot syntax: array .- scalar\nThe function `-` exists, but no method is defined for this combination of argument types.\n\n\u001b[0mClosest candidates are:\n\u001b[0m  -(\u001b[91m::Missing\u001b[39m, ::Number)\n\u001b[0m\u001b[90m   @\u001b[39m \u001b[90mBase\u001b[39m \u001b[90m\u001b[4mmissing.jl:123\u001b[24m\u001b[39m\n\u001b[0m  -(\u001b[91m::Complex{Bool}\u001b[39m, ::Real)\n\u001b[0m\u001b[90m   @\u001b[39m \u001b[90mBase\u001b[39m \u001b[90m\u001b[4mcomplex.jl:329\u001b[24m\u001b[39m\n\u001b[0m  -(\u001b[91m::Base.CoreLogging.LogLevel\u001b[39m, ::Integer)\n\u001b[0m\u001b[90m   @\u001b[39m \u001b[90mBase\u001b[39m \u001b[90mlogging/\u001b[39m\u001b[90m\u001b[4mlogging.jl:133\u001b[24m\u001b[39m\n\u001b[0m  ...\n",
     "output_type": "error",
     "traceback": [
      "MethodError: no method matching -(::Vector{Int64}, ::Int64)\nFor element-wise subtraction, use broadcasting with dot syntax: array .- scalar\nThe function `-` exists, but no method is defined for this combination of argument types.\n\n\u001b[0mClosest candidates are:\n\u001b[0m  -(\u001b[91m::Missing\u001b[39m, ::Number)\n\u001b[0m\u001b[90m   @\u001b[39m \u001b[90mBase\u001b[39m \u001b[90m\u001b[4mmissing.jl:123\u001b[24m\u001b[39m\n\u001b[0m  -(\u001b[91m::Complex{Bool}\u001b[39m, ::Real)\n\u001b[0m\u001b[90m   @\u001b[39m \u001b[90mBase\u001b[39m \u001b[90m\u001b[4mcomplex.jl:329\u001b[24m\u001b[39m\n\u001b[0m  -(\u001b[91m::Base.CoreLogging.LogLevel\u001b[39m, ::Integer)\n\u001b[0m\u001b[90m   @\u001b[39m \u001b[90mBase\u001b[39m \u001b[90mlogging/\u001b[39m\u001b[90m\u001b[4mlogging.jl:133\u001b[24m\u001b[39m\n\u001b[0m  ...\n",
      "",
      "Stacktrace:",
      " [1] top-level scope",
      "   @ In[15]:1"
     ]
    }
   ],
   "source": [
    "a - 5"
   ]
  },
  {
   "cell_type": "code",
   "execution_count": 16,
   "id": "0a0e3a13-fe62-4579-ab6c-deed9323fc2f",
   "metadata": {},
   "outputs": [
    {
     "data": {
      "text/plain": [
       "3-element Vector{Int64}:\n",
       " -4\n",
       " -3\n",
       " -2"
      ]
     },
     "execution_count": 16,
     "metadata": {},
     "output_type": "execute_result"
    }
   ],
   "source": [
    "a .- 5"
   ]
  },
  {
   "cell_type": "code",
   "execution_count": 17,
   "id": "d0bec863-4c1e-4255-8ca7-807824352db6",
   "metadata": {},
   "outputs": [
    {
     "data": {
      "text/plain": [
       "3-element Vector{Float64}:\n",
       " 0.2\n",
       " 0.4\n",
       " 0.6"
      ]
     },
     "execution_count": 17,
     "metadata": {},
     "output_type": "execute_result"
    }
   ],
   "source": [
    "a / 5"
   ]
  },
  {
   "cell_type": "code",
   "execution_count": 18,
   "id": "a2dfc66a-b1b9-41f2-aaa5-5d4b403e72de",
   "metadata": {},
   "outputs": [
    {
     "data": {
      "text/plain": [
       "3-element Vector{Float64}:\n",
       " 0.2\n",
       " 0.4\n",
       " 0.6000000000000001"
      ]
     },
     "execution_count": 18,
     "metadata": {},
     "output_type": "execute_result"
    }
   ],
   "source": [
    "(1/5)*a"
   ]
  },
  {
   "cell_type": "code",
   "execution_count": 19,
   "id": "9cee8151-9638-4e83-98e0-63a830664ce6",
   "metadata": {},
   "outputs": [
    {
     "data": {
      "text/plain": [
       "3-element Vector{Float64}:\n",
       " 0.2\n",
       " 0.4\n",
       " 0.6000000000000001"
      ]
     },
     "execution_count": 19,
     "metadata": {},
     "output_type": "execute_result"
    }
   ],
   "source": [
    "a*(1/5)"
   ]
  },
  {
   "cell_type": "markdown",
   "id": "0e508a6b-db37-4521-985c-29cdcb244196",
   "metadata": {},
   "source": [
    "## Factorials section"
   ]
  },
  {
   "cell_type": "code",
   "execution_count": 20,
   "id": "17cbd518-a09d-429e-b4ba-d210eb41bfa3",
   "metadata": {},
   "outputs": [
    {
     "data": {
      "text/plain": [
       "f (generic function with 2 methods)"
      ]
     },
     "execution_count": 20,
     "metadata": {},
     "output_type": "execute_result"
    }
   ],
   "source": [
    "f(x,y) = x+y"
   ]
  },
  {
   "cell_type": "code",
   "execution_count": 21,
   "id": "068a5cbc-4c67-4c85-8507-97838a8ee41f",
   "metadata": {},
   "outputs": [
    {
     "ename": "LoadError",
     "evalue": "MethodError: no method matching ^(::Vector{Float64}, ::Int64)\nThe function `^` exists, but no method is defined for this combination of argument types.\n\n\u001b[0mClosest candidates are:\n\u001b[0m  ^(\u001b[91m::Regex\u001b[39m, ::Integer)\n\u001b[0m\u001b[90m   @\u001b[39m \u001b[90mBase\u001b[39m \u001b[90m\u001b[4mregex.jl:901\u001b[24m\u001b[39m\n\u001b[0m  ^(\u001b[91m::Float64\u001b[39m, ::Integer)\n\u001b[0m\u001b[90m   @\u001b[39m \u001b[90mBase\u001b[39m \u001b[90m\u001b[4mmath.jl:1197\u001b[24m\u001b[39m\n\u001b[0m  ^(\u001b[91m::Missing\u001b[39m, ::Integer)\n\u001b[0m\u001b[90m   @\u001b[39m \u001b[90mBase\u001b[39m \u001b[90m\u001b[4mmissing.jl:155\u001b[24m\u001b[39m\n\u001b[0m  ...\n",
     "output_type": "error",
     "traceback": [
      "MethodError: no method matching ^(::Vector{Float64}, ::Int64)\nThe function `^` exists, but no method is defined for this combination of argument types.\n\n\u001b[0mClosest candidates are:\n\u001b[0m  ^(\u001b[91m::Regex\u001b[39m, ::Integer)\n\u001b[0m\u001b[90m   @\u001b[39m \u001b[90mBase\u001b[39m \u001b[90m\u001b[4mregex.jl:901\u001b[24m\u001b[39m\n\u001b[0m  ^(\u001b[91m::Float64\u001b[39m, ::Integer)\n\u001b[0m\u001b[90m   @\u001b[39m \u001b[90mBase\u001b[39m \u001b[90m\u001b[4mmath.jl:1197\u001b[24m\u001b[39m\n\u001b[0m  ^(\u001b[91m::Missing\u001b[39m, ::Integer)\n\u001b[0m\u001b[90m   @\u001b[39m \u001b[90mBase\u001b[39m \u001b[90m\u001b[4mmissing.jl:155\u001b[24m\u001b[39m\n\u001b[0m  ...\n",
      "",
      "Stacktrace:",
      " [1] literal_pow",
      "   @ ./intfuncs.jl:389 [inlined]",
      " [2] f(x::Vector{Int64})",
      "   @ Main ./In[7]:1",
      " [3] top-level scope",
      "   @ In[21]:1"
     ]
    }
   ],
   "source": [
    "f([2,3])"
   ]
  },
  {
   "cell_type": "code",
   "execution_count": 22,
   "id": "bcd26d60-be10-426e-991c-3ae92f680ce8",
   "metadata": {},
   "outputs": [
    {
     "data": {
      "text/plain": [
       "5"
      ]
     },
     "execution_count": 22,
     "metadata": {},
     "output_type": "execute_result"
    }
   ],
   "source": [
    "f([2,3]...) #... is \"splat operator\""
   ]
  },
  {
   "cell_type": "code",
   "execution_count": 23,
   "id": "7aa2964c-8791-4ce9-94b3-039887a80dd5",
   "metadata": {},
   "outputs": [
    {
     "data": {
      "text/html": [
       "# 321 methods for generic function <b>*</b> from \u001b[90mBase\u001b[39m:<ul><li> *(r::<b>Regex</b>) in Base at <a href=\"https://github.com/JuliaLang/julia/tree/760b2e5b7396f9cc0da5efce0cadd5d1974c4069/base/regex.jl#L849\" target=\"_blank\">regex.jl:849</a></li> <li> *(x::<b>Bool</b>, z::<b>Complex{Bool}</b>) in Base at <a href=\"https://github.com/JuliaLang/julia/tree/760b2e5b7396f9cc0da5efce0cadd5d1974c4069/base/complex.jl#L312\" target=\"_blank\">complex.jl:312</a></li> <li> *(x::<b>Bool</b>, y::<b>Bool</b>) in Base at <a href=\"https://github.com/JuliaLang/julia/tree/760b2e5b7396f9cc0da5efce0cadd5d1974c4069/base/bool.jl#L168\" target=\"_blank\">bool.jl:168</a></li> <li> *(x::<b>Bool</b>, d::<b>ForwardDiff.Dual</b>) in ForwardDiff at <a href=\"file:///Users/uqjnazar/.julia/packages/ForwardDiff/Wq9Wb/src/dual.jl\" target=\"_blank\">/Users/uqjnazar/.julia/packages/ForwardDiff/Wq9Wb/src/dual.jl:531</a></li> <li> *(x::<b>Bool</b>, y::<b>AbstractIrrational</b>) in Base at <a href=\"https://github.com/JuliaLang/julia/tree/760b2e5b7396f9cc0da5efce0cadd5d1974c4069/base/irrationals.jl#L181\" target=\"_blank\">irrationals.jl:181</a></li> <li> *(x::<b>Bool</b>, z::<b>Complex</b>) in Base at <a href=\"https://github.com/JuliaLang/julia/tree/760b2e5b7396f9cc0da5efce0cadd5d1974c4069/base/complex.jl#L319\" target=\"_blank\">complex.jl:319</a></li> <li> *(x::<b>Real</b>, z::<b>Complex{Bool}</b>) in Base at <a href=\"https://github.com/JuliaLang/julia/tree/760b2e5b7396f9cc0da5efce0cadd5d1974c4069/base/complex.jl#L330\" target=\"_blank\">complex.jl:330</a></li> <li> *(x::<b>Bool</b>, y::<b>T</b>)<i> where T<:AbstractFloat</i> in Base at <a href=\"https://github.com/JuliaLang/julia/tree/760b2e5b7396f9cc0da5efce0cadd5d1974c4069/base/bool.jl#L179\" target=\"_blank\">bool.jl:179</a></li> <li> *(x::<b>Rational{BigInt}</b>, y::<b>Rational{BigInt}</b>) in Base.GMP.MPQ at <a href=\"https://github.com/JuliaLang/julia/tree/760b2e5b7396f9cc0da5efce0cadd5d1974c4069/base/gmp.jl#L1056\" target=\"_blank\">gmp.jl:1056</a></li> <li> *(::<b>Missing</b>, ::<b>Missing</b>) in Base at <a href=\"https://github.com/JuliaLang/julia/tree/760b2e5b7396f9cc0da5efce0cadd5d1974c4069/base/missing.jl#L122\" target=\"_blank\">missing.jl:122</a></li> <li> *(::<b>Missing</b>) in Base at <a href=\"https://github.com/JuliaLang/julia/tree/760b2e5b7396f9cc0da5efce0cadd5d1974c4069/base/missing.jl#L101\" target=\"_blank\">missing.jl:101</a></li> <li> *(d::<b>Missing</b>, x::<b>Union{AbstractChar, AbstractString}</b>) in Base at <a href=\"https://github.com/JuliaLang/julia/tree/760b2e5b7396f9cc0da5efce0cadd5d1974c4069/base/missing.jl#L174\" target=\"_blank\">missing.jl:174</a></li> <li> *(::<b>Missing</b>, ::<b>Number</b>) in Base at <a href=\"https://github.com/JuliaLang/julia/tree/760b2e5b7396f9cc0da5efce0cadd5d1974c4069/base/missing.jl#L123\" target=\"_blank\">missing.jl:123</a></li> <li> *(m1::<b>Measures.AbsoluteLength</b>, m2::<b>Measures.Length{:pct}</b>) in Plots.PlotMeasures at <a href=\"file:///Users/uqjnazar/.julia/packages/Plots/MR7sb/src/plotmeasures.jl\" target=\"_blank\">/Users/uqjnazar/.julia/packages/Plots/MR7sb/src/plotmeasures.jl:16</a></li> <li> *(z::<b>Complex{Bool}</b>, x::<b>Bool</b>) in Base at <a href=\"https://github.com/JuliaLang/julia/tree/760b2e5b7396f9cc0da5efce0cadd5d1974c4069/base/complex.jl#L313\" target=\"_blank\">complex.jl:313</a></li> <li> *(z::<b>Complex{Bool}</b>, x::<b>Real</b>) in Base at <a href=\"https://github.com/JuliaLang/julia/tree/760b2e5b7396f9cc0da5efce0cadd5d1974c4069/base/complex.jl#L331\" target=\"_blank\">complex.jl:331</a></li> <li> *(z::<b>Complex</b>, x::<b>Bool</b>) in Base at <a href=\"https://github.com/JuliaLang/julia/tree/760b2e5b7396f9cc0da5efce0cadd5d1974c4069/base/complex.jl#L320\" target=\"_blank\">complex.jl:320</a></li> <li> *(c::<b>BigInt</b>, x::<b>BigFloat</b>) in Base.MPFR at <a href=\"https://github.com/JuliaLang/julia/tree/760b2e5b7396f9cc0da5efce0cadd5d1974c4069/base/mpfr.jl#L527\" target=\"_blank\">mpfr.jl:527</a></li> <li> *(a::<b>BigInt</b>, b::<b>BigInt</b>, c::<b>BigInt</b>, d::<b>BigInt</b>, e::<b>BigInt</b>) in Base.GMP at <a href=\"https://github.com/JuliaLang/julia/tree/760b2e5b7396f9cc0da5efce0cadd5d1974c4069/base/gmp.jl#L538\" target=\"_blank\">gmp.jl:538</a></li> <li> *(a::<b>BigInt</b>, b::<b>BigInt</b>, c::<b>BigInt</b>, d::<b>BigInt</b>) in Base.GMP at <a href=\"https://github.com/JuliaLang/julia/tree/760b2e5b7396f9cc0da5efce0cadd5d1974c4069/base/gmp.jl#L537\" target=\"_blank\">gmp.jl:537</a></li> <li> *(a::<b>BigInt</b>, b::<b>BigInt</b>, c::<b>BigInt</b>) in Base.GMP at <a href=\"https://github.com/JuliaLang/julia/tree/760b2e5b7396f9cc0da5efce0cadd5d1974c4069/base/gmp.jl#L536\" target=\"_blank\">gmp.jl:536</a></li> <li> *(x::<b>BigInt</b>, y::<b>BigInt</b>) in Base.GMP at <a href=\"https://github.com/JuliaLang/julia/tree/760b2e5b7396f9cc0da5efce0cadd5d1974c4069/base/gmp.jl#L496\" target=\"_blank\">gmp.jl:496</a></li> <li> *(x::<b>BigInt</b>, c::<b>Union{Int16, Int32, Int64, Int8}</b>) in Base.GMP at <a href=\"https://github.com/JuliaLang/julia/tree/760b2e5b7396f9cc0da5efce0cadd5d1974c4069/base/gmp.jl#L557\" target=\"_blank\">gmp.jl:557</a></li> <li> *(x::<b>BigInt</b>, c::<b>Union{UInt16, UInt32, UInt64, UInt8}</b>) in Base.GMP at <a href=\"https://github.com/JuliaLang/julia/tree/760b2e5b7396f9cc0da5efce0cadd5d1974c4069/base/gmp.jl#L555\" target=\"_blank\">gmp.jl:555</a></li> <li> *(x::<b>BigFloat</b>, c::<b>BigInt</b>) in Base.MPFR at <a href=\"https://github.com/JuliaLang/julia/tree/760b2e5b7396f9cc0da5efce0cadd5d1974c4069/base/mpfr.jl#L522\" target=\"_blank\">mpfr.jl:522</a></li> <li> *(a::<b>BigFloat</b>, b::<b>BigFloat</b>, c::<b>BigFloat</b>, d::<b>BigFloat</b>, e::<b>BigFloat</b>) in Base.MPFR at <a href=\"https://github.com/JuliaLang/julia/tree/760b2e5b7396f9cc0da5efce0cadd5d1974c4069/base/mpfr.jl#L678\" target=\"_blank\">mpfr.jl:678</a></li> <li> *(x::<b>BigFloat</b>, y::<b>BigFloat</b>) in Base.MPFR at <a href=\"https://github.com/JuliaLang/julia/tree/760b2e5b7396f9cc0da5efce0cadd5d1974c4069/base/mpfr.jl#L491\" target=\"_blank\">mpfr.jl:491</a></li> <li> *(a::<b>BigFloat</b>, b::<b>BigFloat</b>, c::<b>BigFloat</b>) in Base.MPFR at <a href=\"https://github.com/JuliaLang/julia/tree/760b2e5b7396f9cc0da5efce0cadd5d1974c4069/base/mpfr.jl#L665\" target=\"_blank\">mpfr.jl:665</a></li> <li> *(a::<b>BigFloat</b>, b::<b>BigFloat</b>, c::<b>BigFloat</b>, d::<b>BigFloat</b>) in Base.MPFR at <a href=\"https://github.com/JuliaLang/julia/tree/760b2e5b7396f9cc0da5efce0cadd5d1974c4069/base/mpfr.jl#L671\" target=\"_blank\">mpfr.jl:671</a></li> <li> *(x::<b>BigFloat</b>, c::<b>Union{UInt16, UInt32, UInt64, UInt8}</b>) in Base.MPFR at <a href=\"https://github.com/JuliaLang/julia/tree/760b2e5b7396f9cc0da5efce0cadd5d1974c4069/base/mpfr.jl#L498\" target=\"_blank\">mpfr.jl:498</a></li> <li> *(x::<b>BigFloat</b>, c::<b>Union{Int16, Int32, Int64, Int8}</b>) in Base.MPFR at <a href=\"https://github.com/JuliaLang/julia/tree/760b2e5b7396f9cc0da5efce0cadd5d1974c4069/base/mpfr.jl#L506\" target=\"_blank\">mpfr.jl:506</a></li> <li> *(x::<b>BigFloat</b>, c::<b>Union{Float16, Float32, Float64}</b>) in Base.MPFR at <a href=\"https://github.com/JuliaLang/julia/tree/760b2e5b7396f9cc0da5efce0cadd5d1974c4069/base/mpfr.jl#L514\" target=\"_blank\">mpfr.jl:514</a></li> <li> *(B::<b>BitMatrix</b>, J::<b>LinearAlgebra.UniformScaling</b>) in LinearAlgebra at <a href=\"file:///Users/julia/.julia/scratchspaces/a66863c6-20e8-4ff4-8a62-49f30b1f605e/agent-cache/default-honeycrisp-HL2F7YQ3XH.0/build/default-honeycrisp-HL2F7YQ3XH-0/julialang/julia-release-1-dot-11/usr/share/julia/stdlib/v1.11/LinearAlgebra/src/uniformscaling.jl\" target=\"_blank\">/Users/uqjnazar/.julia/juliaup/julia-1.11.5+0.aarch64.apple.darwin14/share/julia/stdlib/v1.11/LinearAlgebra/src/uniformscaling.jl:258</a></li> <li> *(::<b>Number</b>, ::<b>Missing</b>) in Base at <a href=\"https://github.com/JuliaLang/julia/tree/760b2e5b7396f9cc0da5efce0cadd5d1974c4069/base/missing.jl#L124\" target=\"_blank\">missing.jl:124</a></li> <li> *(α::<b>Number</b>, β::<b>Number</b>, C::<b>AbstractMatrix</b>, D::<b>AbstractMatrix</b>) in LinearAlgebra at <a href=\"file:///Users/julia/.julia/scratchspaces/a66863c6-20e8-4ff4-8a62-49f30b1f605e/agent-cache/default-honeycrisp-HL2F7YQ3XH.0/build/default-honeycrisp-HL2F7YQ3XH-0/julialang/julia-release-1-dot-11/usr/share/julia/stdlib/v1.11/LinearAlgebra/src/matmul.jl\" target=\"_blank\">/Users/uqjnazar/.julia/juliaup/julia-1.11.5+0.aarch64.apple.darwin14/share/julia/stdlib/v1.11/LinearAlgebra/src/matmul.jl:1181</a></li> <li> *(α::<b>Number</b>, β::<b>Number</b>, C::<b>AbstractMatrix</b>, x::<b>AbstractVector</b>) in LinearAlgebra at <a href=\"file:///Users/julia/.julia/scratchspaces/a66863c6-20e8-4ff4-8a62-49f30b1f605e/agent-cache/default-honeycrisp-HL2F7YQ3XH.0/build/default-honeycrisp-HL2F7YQ3XH-0/julialang/julia-release-1-dot-11/usr/share/julia/stdlib/v1.11/LinearAlgebra/src/matmul.jl\" target=\"_blank\">/Users/uqjnazar/.julia/juliaup/julia-1.11.5+0.aarch64.apple.darwin14/share/julia/stdlib/v1.11/LinearAlgebra/src/matmul.jl:1180</a></li> <li> *(x::<b>Rational</b>, y::<b>Rational</b>) in Base at <a href=\"https://github.com/JuliaLang/julia/tree/760b2e5b7396f9cc0da5efce0cadd5d1974c4069/base/rational.jl#L393\" target=\"_blank\">rational.jl:393</a></li> <li> *(x::<b>AbstractIrrational</b>, y::<b>AbstractIrrational</b>) in Base at <a href=\"https://github.com/JuliaLang/julia/tree/760b2e5b7396f9cc0da5efce0cadd5d1974c4069/base/irrationals.jl#L179\" target=\"_blank\">irrationals.jl:179</a></li> <li> *(c::<b>Union{Int16, Int32, Int64, Int8}</b>, x::<b>BigInt</b>) in Base.GMP at <a href=\"https://github.com/JuliaLang/julia/tree/760b2e5b7396f9cc0da5efce0cadd5d1974c4069/base/gmp.jl#L558\" target=\"_blank\">gmp.jl:558</a></li> <li> *(c::<b>Union{UInt16, UInt32, UInt64, UInt8}</b>, x::<b>BigInt</b>) in Base.GMP at <a href=\"https://github.com/JuliaLang/julia/tree/760b2e5b7396f9cc0da5efce0cadd5d1974c4069/base/gmp.jl#L556\" target=\"_blank\">gmp.jl:556</a></li> <li> *(x::<b>T</b>, y::<b>T</b>)<i> where T<:Union{Int128, UInt128}</i> in Base at <a href=\"https://github.com/JuliaLang/julia/tree/760b2e5b7396f9cc0da5efce0cadd5d1974c4069/base/int.jl#L998\" target=\"_blank\">int.jl:998</a></li> <li> *(x::<b>T</b>, y::<b>T</b>)<i> where T<:Union{Int128, Int16, Int32, Int64, Int8, UInt128, UInt16, UInt32, UInt64, UInt8}</i> in Base at <a href=\"https://github.com/JuliaLang/julia/tree/760b2e5b7396f9cc0da5efce0cadd5d1974c4069/base/int.jl#L88\" target=\"_blank\">int.jl:88</a></li> <li> *(a::<b>Integer</b>, b::<b>Integer</b>) in Base at <a href=\"https://github.com/JuliaLang/julia/tree/760b2e5b7396f9cc0da5efce0cadd5d1974c4069/base/int.jl#L1009\" target=\"_blank\">int.jl:1009</a></li> <li> *(z::<b>Complex</b>, w::<b>Complex</b>) in Base at <a href=\"https://github.com/JuliaLang/julia/tree/760b2e5b7396f9cc0da5efce0cadd5d1974c4069/base/complex.jl#L299\" target=\"_blank\">complex.jl:299</a></li> <li> *(x::<b>FixedPointNumbers.Fixed{T, f}</b>, y::<b>FixedPointNumbers.Fixed{T, f}</b>)<i> where {T, f}</i> in FixedPointNumbers at <a href=\"file:///Users/uqjnazar/.julia/packages/FixedPointNumbers/Dn4hv/src/fixed.jl\" target=\"_blank\">/Users/uqjnazar/.julia/packages/FixedPointNumbers/Dn4hv/src/fixed.jl:100</a></li> <li> *(x::<b>T</b>, y::<b>T</b>)<i> where T<:FixedPointNumbers.Normed</i> in FixedPointNumbers at <a href=\"file:///Users/uqjnazar/.julia/packages/FixedPointNumbers/Dn4hv/src/normed.jl\" target=\"_blank\">/Users/uqjnazar/.julia/packages/FixedPointNumbers/Dn4hv/src/normed.jl:252</a></li> <li> *(x::<b>Rational</b>, y::<b>ForwardDiff.Dual{Ty}</b>)<i> where Ty</i> in ForwardDiff at <a href=\"file:///Users/uqjnazar/.julia/packages/ForwardDiff/Wq9Wb/src/dual.jl\" target=\"_blank\">/Users/uqjnazar/.julia/packages/ForwardDiff/Wq9Wb/src/dual.jl:149</a></li> <li> *(x::<b>Irrational</b>, y::<b>ForwardDiff.Dual{Ty}</b>)<i> where Ty</i> in ForwardDiff at <a href=\"file:///Users/uqjnazar/.julia/packages/ForwardDiff/Wq9Wb/src/dual.jl\" target=\"_blank\">/Users/uqjnazar/.julia/packages/ForwardDiff/Wq9Wb/src/dual.jl:149</a></li> <li> *(x::<b>AbstractFloat</b>, y::<b>ForwardDiff.Dual{Ty}</b>)<i> where Ty</i> in ForwardDiff at <a href=\"file:///Users/uqjnazar/.julia/packages/ForwardDiff/Wq9Wb/src/dual.jl\" target=\"_blank\">/Users/uqjnazar/.julia/packages/ForwardDiff/Wq9Wb/src/dual.jl:149</a></li> <li> *(x::<b>Integer</b>, y::<b>ForwardDiff.Dual{Ty}</b>)<i> where Ty</i> in ForwardDiff at <a href=\"file:///Users/uqjnazar/.julia/packages/ForwardDiff/Wq9Wb/src/dual.jl\" target=\"_blank\">/Users/uqjnazar/.julia/packages/ForwardDiff/Wq9Wb/src/dual.jl:149</a></li> <li> *(d::<b>ForwardDiff.Dual</b>, x::<b>Bool</b>) in ForwardDiff at <a href=\"file:///Users/uqjnazar/.julia/packages/ForwardDiff/Wq9Wb/src/dual.jl\" target=\"_blank\">/Users/uqjnazar/.julia/packages/ForwardDiff/Wq9Wb/src/dual.jl:530</a></li> <li> *(x::<b>ForwardDiff.Dual{Tx}</b>, y::<b>Irrational</b>)<i> where Tx</i> in ForwardDiff at <a href=\"file:///Users/uqjnazar/.julia/packages/ForwardDiff/Wq9Wb/src/dual.jl\" target=\"_blank\">/Users/uqjnazar/.julia/packages/ForwardDiff/Wq9Wb/src/dual.jl:148</a></li> <li> *(x::<b>ForwardDiff.Dual{Txy}</b>, y::<b>ForwardDiff.Dual{Txy}</b>)<i> where Txy</i> in ForwardDiff at <a href=\"file:///Users/uqjnazar/.julia/packages/ForwardDiff/Wq9Wb/src/dual.jl\" target=\"_blank\">/Users/uqjnazar/.julia/packages/ForwardDiff/Wq9Wb/src/dual.jl:143</a></li> <li> *(x::<b>ForwardDiff.Dual{Tx}</b>, y::<b>ForwardDiff.Dual{Ty}</b>)<i> where {Tx, Ty}</i> in ForwardDiff at <a href=\"file:///Users/uqjnazar/.julia/packages/ForwardDiff/Wq9Wb/src/dual.jl\" target=\"_blank\">/Users/uqjnazar/.julia/packages/ForwardDiff/Wq9Wb/src/dual.jl:144</a></li> <li> *(x::<b>ForwardDiff.Dual{Tx}</b>, y::<b>AbstractFloat</b>)<i> where Tx</i> in ForwardDiff at <a href=\"file:///Users/uqjnazar/.julia/packages/ForwardDiff/Wq9Wb/src/dual.jl\" target=\"_blank\">/Users/uqjnazar/.julia/packages/ForwardDiff/Wq9Wb/src/dual.jl:148</a></li> <li> *(x::<b>ForwardDiff.Dual{Tx}</b>, y::<b>Rational</b>)<i> where Tx</i> in ForwardDiff at <a href=\"file:///Users/uqjnazar/.julia/packages/ForwardDiff/Wq9Wb/src/dual.jl\" target=\"_blank\">/Users/uqjnazar/.julia/packages/ForwardDiff/Wq9Wb/src/dual.jl:148</a></li> <li> *(x::<b>ForwardDiff.Dual{Tx}</b>, y::<b>Integer</b>)<i> where Tx</i> in ForwardDiff at <a href=\"file:///Users/uqjnazar/.julia/packages/ForwardDiff/Wq9Wb/src/dual.jl\" target=\"_blank\">/Users/uqjnazar/.julia/packages/ForwardDiff/Wq9Wb/src/dual.jl:148</a></li> <li> *(x::<b>Real</b>, y::<b>ForwardDiff.Dual{Ty}</b>)<i> where Ty</i> in ForwardDiff at <a href=\"file:///Users/uqjnazar/.julia/packages/ForwardDiff/Wq9Wb/src/dual.jl\" target=\"_blank\">/Users/uqjnazar/.julia/packages/ForwardDiff/Wq9Wb/src/dual.jl:149</a></li> <li> *(x::<b>ForwardDiff.Dual{Tx}</b>, y::<b>Real</b>)<i> where Tx</i> in ForwardDiff at <a href=\"file:///Users/uqjnazar/.julia/packages/ForwardDiff/Wq9Wb/src/dual.jl\" target=\"_blank\">/Users/uqjnazar/.julia/packages/ForwardDiff/Wq9Wb/src/dual.jl:148</a></li> <li> *(x::<b>T</b>, y::<b>T</b>)<i> where T<:Union{Float16, Float32, Float64}</i> in Base at <a href=\"https://github.com/JuliaLang/julia/tree/760b2e5b7396f9cc0da5efce0cadd5d1974c4069/base/float.jl#L493\" target=\"_blank\">float.jl:493</a></li> <li> *(x::<b>T</b>, y::<b>T</b>)<i> where T<:Number</i> in Base at <a href=\"https://github.com/JuliaLang/julia/tree/760b2e5b7396f9cc0da5efce0cadd5d1974c4069/base/promotion.jl#L626\" target=\"_blank\">promotion.jl:626</a></li> <li> *(x::<b>Rational</b>, y::<b>Integer</b>) in Base at <a href=\"https://github.com/JuliaLang/julia/tree/760b2e5b7396f9cc0da5efce0cadd5d1974c4069/base/rational.jl#L398\" target=\"_blank\">rational.jl:398</a></li> <li> *(y::<b>AbstractFloat</b>, x::<b>Bool</b>) in Base at <a href=\"https://github.com/JuliaLang/julia/tree/760b2e5b7396f9cc0da5efce0cadd5d1974c4069/base/bool.jl#L182\" target=\"_blank\">bool.jl:182</a></li> <li> *(y::<b>Integer</b>, x::<b>Rational</b>) in Base at <a href=\"https://github.com/JuliaLang/julia/tree/760b2e5b7396f9cc0da5efce0cadd5d1974c4069/base/rational.jl#L402\" target=\"_blank\">rational.jl:402</a></li> <li> *(z::<b>Complex</b>, x::<b>Real</b>) in Base at <a href=\"https://github.com/JuliaLang/julia/tree/760b2e5b7396f9cc0da5efce0cadd5d1974c4069/base/complex.jl#L343\" target=\"_blank\">complex.jl:343</a></li> <li> *(x::<b>Real</b>, z::<b>Complex</b>) in Base at <a href=\"https://github.com/JuliaLang/julia/tree/760b2e5b7396f9cc0da5efce0cadd5d1974c4069/base/complex.jl#L342\" target=\"_blank\">complex.jl:342</a></li> <li> *(c::<b>Union{Float16, Float32, Float64}</b>, x::<b>BigFloat</b>) in Base.MPFR at <a href=\"https://github.com/JuliaLang/julia/tree/760b2e5b7396f9cc0da5efce0cadd5d1974c4069/base/mpfr.jl#L519\" target=\"_blank\">mpfr.jl:519</a></li> <li> *(c::<b>Union{Int16, Int32, Int64, Int8}</b>, x::<b>BigFloat</b>) in Base.MPFR at <a href=\"https://github.com/JuliaLang/julia/tree/760b2e5b7396f9cc0da5efce0cadd5d1974c4069/base/mpfr.jl#L511\" target=\"_blank\">mpfr.jl:511</a></li> <li> *(c::<b>Union{UInt16, UInt32, UInt64, UInt8}</b>, x::<b>BigFloat</b>) in Base.MPFR at <a href=\"https://github.com/JuliaLang/julia/tree/760b2e5b7396f9cc0da5efce0cadd5d1974c4069/base/mpfr.jl#L503\" target=\"_blank\">mpfr.jl:503</a></li> <li> *(x::<b>Number</b>, y::<b>Number</b>) in Base at <a href=\"https://github.com/JuliaLang/julia/tree/760b2e5b7396f9cc0da5efce0cadd5d1974c4069/base/promotion.jl#L430\" target=\"_blank\">promotion.jl:430</a></li> <li> *(x::<b>S</b>, F::<b>LinearAlgebra.Hessenberg{<:Any, <:AbstractMatrix{T}}</b>)<i> where {T, S<:Number}</i> in LinearAlgebra at <a href=\"file:///Users/julia/.julia/scratchspaces/a66863c6-20e8-4ff4-8a62-49f30b1f605e/agent-cache/default-honeycrisp-HL2F7YQ3XH.0/build/default-honeycrisp-HL2F7YQ3XH-0/julialang/julia-release-1-dot-11/usr/share/julia/stdlib/v1.11/LinearAlgebra/src/hessenberg.jl\" target=\"_blank\">/Users/uqjnazar/.julia/juliaup/julia-1.11.5+0.aarch64.apple.darwin14/share/julia/stdlib/v1.11/LinearAlgebra/src/hessenberg.jl:550</a></li> <li> *(x::<b>Number</b>, A::<b>LinearAlgebra.UnitUpperTriangular</b>) in LinearAlgebra at <a href=\"file:///Users/julia/.julia/scratchspaces/a66863c6-20e8-4ff4-8a62-49f30b1f605e/agent-cache/default-honeycrisp-HL2F7YQ3XH.0/build/default-honeycrisp-HL2F7YQ3XH-0/julialang/julia-release-1-dot-11/usr/share/julia/stdlib/v1.11/LinearAlgebra/src/triangular.jl\" target=\"_blank\">/Users/uqjnazar/.julia/juliaup/julia-1.11.5+0.aarch64.apple.darwin14/share/julia/stdlib/v1.11/LinearAlgebra/src/triangular.jl:1119</a></li> <li> *(B::<b>Number</b>, A::<b>LinearAlgebra.SymTridiagonal</b>) in LinearAlgebra at <a href=\"file:///Users/julia/.julia/scratchspaces/a66863c6-20e8-4ff4-8a62-49f30b1f605e/agent-cache/default-honeycrisp-HL2F7YQ3XH.0/build/default-honeycrisp-HL2F7YQ3XH-0/julialang/julia-release-1-dot-11/usr/share/julia/stdlib/v1.11/LinearAlgebra/src/tridiag.jl\" target=\"_blank\">/Users/uqjnazar/.julia/juliaup/julia-1.11.5+0.aarch64.apple.darwin14/share/julia/stdlib/v1.11/LinearAlgebra/src/tridiag.jl:219</a></li> <li> *(x::<b>Number</b>, J::<b>LinearAlgebra.UniformScaling</b>) in LinearAlgebra at <a href=\"file:///Users/julia/.julia/scratchspaces/a66863c6-20e8-4ff4-8a62-49f30b1f605e/agent-cache/default-honeycrisp-HL2F7YQ3XH.0/build/default-honeycrisp-HL2F7YQ3XH-0/julialang/julia-release-1-dot-11/usr/share/julia/stdlib/v1.11/LinearAlgebra/src/uniformscaling.jl\" target=\"_blank\">/Users/uqjnazar/.julia/juliaup/julia-1.11.5+0.aarch64.apple.darwin14/share/julia/stdlib/v1.11/LinearAlgebra/src/uniformscaling.jl:263</a></li> <li> *(x::<b>Number</b>, A::<b>LinearAlgebra.UpperTriangular{<:Any, <:Union{LinearAlgebra.Adjoint{<:Any, <:StridedMatrix{T}}, LinearAlgebra.Transpose{<:Any, <:StridedMatrix{T}}, StridedArray{T, 2}} where T}</b>) in LinearAlgebra at <a href=\"file:///Users/julia/.julia/scratchspaces/a66863c6-20e8-4ff4-8a62-49f30b1f605e/agent-cache/default-honeycrisp-HL2F7YQ3XH.0/build/default-honeycrisp-HL2F7YQ3XH-0/julialang/julia-release-1-dot-11/usr/share/julia/stdlib/v1.11/LinearAlgebra/src/triangular.jl\" target=\"_blank\">/Users/uqjnazar/.julia/juliaup/julia-1.11.5+0.aarch64.apple.darwin14/share/julia/stdlib/v1.11/LinearAlgebra/src/triangular.jl:1113</a></li> <li> *(x::<b>Number</b>, A::<b>LinearAlgebra.UpperTriangular</b>) in LinearAlgebra at <a href=\"file:///Users/julia/.julia/scratchspaces/a66863c6-20e8-4ff4-8a62-49f30b1f605e/agent-cache/default-honeycrisp-HL2F7YQ3XH.0/build/default-honeycrisp-HL2F7YQ3XH-0/julialang/julia-release-1-dot-11/usr/share/julia/stdlib/v1.11/LinearAlgebra/src/triangular.jl\" target=\"_blank\">/Users/uqjnazar/.julia/juliaup/julia-1.11.5+0.aarch64.apple.darwin14/share/julia/stdlib/v1.11/LinearAlgebra/src/triangular.jl:1112</a></li> <li> *(x::<b>Number</b>, A::<b>LinearAlgebra.UnitLowerTriangular</b>) in LinearAlgebra at <a href=\"file:///Users/julia/.julia/scratchspaces/a66863c6-20e8-4ff4-8a62-49f30b1f605e/agent-cache/default-honeycrisp-HL2F7YQ3XH.0/build/default-honeycrisp-HL2F7YQ3XH-0/julialang/julia-release-1-dot-11/usr/share/julia/stdlib/v1.11/LinearAlgebra/src/triangular.jl\" target=\"_blank\">/Users/uqjnazar/.julia/juliaup/julia-1.11.5+0.aarch64.apple.darwin14/share/julia/stdlib/v1.11/LinearAlgebra/src/triangular.jl:1119</a></li> <li> *(B::<b>Number</b>, A::<b>LinearAlgebra.Bidiagonal</b>) in LinearAlgebra at <a href=\"file:///Users/julia/.julia/scratchspaces/a66863c6-20e8-4ff4-8a62-49f30b1f605e/agent-cache/default-honeycrisp-HL2F7YQ3XH.0/build/default-honeycrisp-HL2F7YQ3XH-0/julialang/julia-release-1-dot-11/usr/share/julia/stdlib/v1.11/LinearAlgebra/src/bidiag.jl\" target=\"_blank\">/Users/uqjnazar/.julia/juliaup/julia-1.11.5+0.aarch64.apple.darwin14/share/julia/stdlib/v1.11/LinearAlgebra/src/bidiag.jl:416</a></li> <li> *(x::<b>Number</b>, D::<b>LinearAlgebra.Diagonal</b>) in LinearAlgebra at <a href=\"file:///Users/julia/.julia/scratchspaces/a66863c6-20e8-4ff4-8a62-49f30b1f605e/agent-cache/default-honeycrisp-HL2F7YQ3XH.0/build/default-honeycrisp-HL2F7YQ3XH-0/julialang/julia-release-1-dot-11/usr/share/julia/stdlib/v1.11/LinearAlgebra/src/diagonal.jl\" target=\"_blank\">/Users/uqjnazar/.julia/juliaup/julia-1.11.5+0.aarch64.apple.darwin14/share/julia/stdlib/v1.11/LinearAlgebra/src/diagonal.jl:253</a></li> <li> *(a::<b>Number</b>, b::<b>Measures.Measure</b>) in Measures at <a href=\"file:///Users/uqjnazar/.julia/packages/Measures/PKOxJ/src/operations.jl\" target=\"_blank\">/Users/uqjnazar/.julia/packages/Measures/PKOxJ/src/operations.jl:48</a></li> <li> *(x::<b>Number</b>, A::<b>LinearAlgebra.Symmetric</b>) in LinearAlgebra at <a href=\"file:///Users/julia/.julia/scratchspaces/a66863c6-20e8-4ff4-8a62-49f30b1f605e/agent-cache/default-honeycrisp-HL2F7YQ3XH.0/build/default-honeycrisp-HL2F7YQ3XH-0/julialang/julia-release-1-dot-11/usr/share/julia/stdlib/v1.11/LinearAlgebra/src/symmetric.jl\" target=\"_blank\">/Users/uqjnazar/.julia/juliaup/julia-1.11.5+0.aarch64.apple.darwin14/share/julia/stdlib/v1.11/LinearAlgebra/src/symmetric.jl:579</a></li> <li> *(B::<b>Number</b>, A::<b>LinearAlgebra.Tridiagonal</b>) in LinearAlgebra at <a href=\"file:///Users/julia/.julia/scratchspaces/a66863c6-20e8-4ff4-8a62-49f30b1f605e/agent-cache/default-honeycrisp-HL2F7YQ3XH.0/build/default-honeycrisp-HL2F7YQ3XH-0/julialang/julia-release-1-dot-11/usr/share/julia/stdlib/v1.11/LinearAlgebra/src/tridiag.jl\" target=\"_blank\">/Users/uqjnazar/.julia/juliaup/julia-1.11.5+0.aarch64.apple.darwin14/share/julia/stdlib/v1.11/LinearAlgebra/src/tridiag.jl:788</a></li> <li> *(v::<b>Number</b>, x::<b>Base.TwicePrecision</b>) in Base at <a href=\"https://github.com/JuliaLang/julia/tree/760b2e5b7396f9cc0da5efce0cadd5d1974c4069/base/twiceprecision.jl#L315\" target=\"_blank\">twiceprecision.jl:315</a></li> <li> *(x::<b>Number</b>, H::<b>LinearAlgebra.UpperHessenberg</b>) in LinearAlgebra at <a href=\"file:///Users/julia/.julia/scratchspaces/a66863c6-20e8-4ff4-8a62-49f30b1f605e/agent-cache/default-honeycrisp-HL2F7YQ3XH.0/build/default-honeycrisp-HL2F7YQ3XH-0/julialang/julia-release-1-dot-11/usr/share/julia/stdlib/v1.11/LinearAlgebra/src/hessenberg.jl\" target=\"_blank\">/Users/uqjnazar/.julia/juliaup/julia-1.11.5+0.aarch64.apple.darwin14/share/julia/stdlib/v1.11/LinearAlgebra/src/hessenberg.jl:129</a></li> <li> *(α::<b>Number</b>, vt::<b>Union{LinearAlgebra.Adjoint{T, var\"#s5029\"}, LinearAlgebra.Transpose{T, var\"#s5029\"}} where {T, var\"#s5029\"<:(AbstractVector)}</b>, C::<b>AbstractMatrix</b>, x::<b>AbstractVector</b>) in LinearAlgebra at <a href=\"file:///Users/julia/.julia/scratchspaces/a66863c6-20e8-4ff4-8a62-49f30b1f605e/agent-cache/default-honeycrisp-HL2F7YQ3XH.0/build/default-honeycrisp-HL2F7YQ3XH-0/julialang/julia-release-1-dot-11/usr/share/julia/stdlib/v1.11/LinearAlgebra/src/matmul.jl\" target=\"_blank\">/Users/uqjnazar/.julia/juliaup/julia-1.11.5+0.aarch64.apple.darwin14/share/julia/stdlib/v1.11/LinearAlgebra/src/matmul.jl:1183</a></li> <li> *(α::<b>Number</b>, B::<b>AbstractMatrix</b>, C::<b>AbstractMatrix</b>, x::<b>AbstractVector</b>) in LinearAlgebra at <a href=\"file:///Users/julia/.julia/scratchspaces/a66863c6-20e8-4ff4-8a62-49f30b1f605e/agent-cache/default-honeycrisp-HL2F7YQ3XH.0/build/default-honeycrisp-HL2F7YQ3XH-0/julialang/julia-release-1-dot-11/usr/share/julia/stdlib/v1.11/LinearAlgebra/src/matmul.jl\" target=\"_blank\">/Users/uqjnazar/.julia/juliaup/julia-1.11.5+0.aarch64.apple.darwin14/share/julia/stdlib/v1.11/LinearAlgebra/src/matmul.jl:1182</a></li> <li> *(x::<b>Number</b>, A::<b>LinearAlgebra.LowerTriangular{<:Any, <:Union{LinearAlgebra.Adjoint{<:Any, <:StridedMatrix{T}}, LinearAlgebra.Transpose{<:Any, <:StridedMatrix{T}}, StridedArray{T, 2}} where T}</b>) in LinearAlgebra at <a href=\"file:///Users/julia/.julia/scratchspaces/a66863c6-20e8-4ff4-8a62-49f30b1f605e/agent-cache/default-honeycrisp-HL2F7YQ3XH.0/build/default-honeycrisp-HL2F7YQ3XH-0/julialang/julia-release-1-dot-11/usr/share/julia/stdlib/v1.11/LinearAlgebra/src/triangular.jl\" target=\"_blank\">/Users/uqjnazar/.julia/juliaup/julia-1.11.5+0.aarch64.apple.darwin14/share/julia/stdlib/v1.11/LinearAlgebra/src/triangular.jl:1113</a></li> <li> *(x::<b>Number</b>, A::<b>LinearAlgebra.LowerTriangular</b>) in LinearAlgebra at <a href=\"file:///Users/julia/.julia/scratchspaces/a66863c6-20e8-4ff4-8a62-49f30b1f605e/agent-cache/default-honeycrisp-HL2F7YQ3XH.0/build/default-honeycrisp-HL2F7YQ3XH-0/julialang/julia-release-1-dot-11/usr/share/julia/stdlib/v1.11/LinearAlgebra/src/triangular.jl\" target=\"_blank\">/Users/uqjnazar/.julia/juliaup/julia-1.11.5+0.aarch64.apple.darwin14/share/julia/stdlib/v1.11/LinearAlgebra/src/triangular.jl:1112</a></li> <li> *(a::<b>Number</b>, x::<b>Union{SparseArrays.AbstractCompressedVector{Tv, Ti}, SubArray{Tv, 1, <:SparseArrays.AbstractSparseMatrixCSC{Tv, Ti}, Tuple{Base.Slice{Base.OneTo{Int64}}, Int64}, false}, SubArray{Tv, 1, <:SparseArrays.AbstractSparseVector{Tv, Ti}, Tuple{Base.Slice{Base.OneTo{Int64}}}, false}} where {Tv, Ti}</b>) in SparseArrays at <a href=\"file:///Users/julia/.julia/scratchspaces/a66863c6-20e8-4ff4-8a62-49f30b1f605e/agent-cache/default-honeycrisp-HL2F7YQ3XH.0/build/default-honeycrisp-HL2F7YQ3XH-0/julialang/julia-release-1-dot-11/usr/share/julia/stdlib/v1.11/SparseArrays/src/sparsevector.jl\" target=\"_blank\">/Users/uqjnazar/.julia/juliaup/julia-1.11.5+0.aarch64.apple.darwin14/share/julia/stdlib/v1.11/SparseArrays/src/sparsevector.jl:1758</a></li> <li> *(x::<b>Real</b>, r::<b>StepRangeLen{<:Real, <:Base.TwicePrecision}</b>) in Base at <a href=\"https://github.com/JuliaLang/julia/tree/760b2e5b7396f9cc0da5efce0cadd5d1974c4069/base/twiceprecision.jl#L532\" target=\"_blank\">twiceprecision.jl:532</a></li> <li> *(x::<b>Real</b>, partials::<b>ForwardDiff.Partials{0, V}</b>)<i> where V</i> in ForwardDiff at <a href=\"file:///Users/uqjnazar/.julia/packages/ForwardDiff/Wq9Wb/src/partials.jl\" target=\"_blank\">/Users/uqjnazar/.julia/packages/ForwardDiff/Wq9Wb/src/partials.jl:135</a></li> <li> *(x::<b>Real</b>, partials::<b>ForwardDiff.Partials</b>) in ForwardDiff at <a href=\"file:///Users/uqjnazar/.julia/packages/ForwardDiff/Wq9Wb/src/partials.jl\" target=\"_blank\">/Users/uqjnazar/.julia/packages/ForwardDiff/Wq9Wb/src/partials.jl:83</a></li> <li> *(x::<b>Real</b>, A::<b>LinearAlgebra.Hermitian</b>) in LinearAlgebra at <a href=\"file:///Users/julia/.julia/scratchspaces/a66863c6-20e8-4ff4-8a62-49f30b1f605e/agent-cache/default-honeycrisp-HL2F7YQ3XH.0/build/default-honeycrisp-HL2F7YQ3XH-0/julialang/julia-release-1-dot-11/usr/share/julia/stdlib/v1.11/LinearAlgebra/src/symmetric.jl\" target=\"_blank\">/Users/uqjnazar/.julia/juliaup/julia-1.11.5+0.aarch64.apple.darwin14/share/julia/stdlib/v1.11/LinearAlgebra/src/symmetric.jl:581</a></li> <li> *(A::<b>Number</b>, B::<b>AbstractArray</b>) in Base at <a href=\"https://github.com/JuliaLang/julia/tree/760b2e5b7396f9cc0da5efce0cadd5d1974c4069/base/arraymath.jl#L21\" target=\"_blank\">arraymath.jl:21</a></li> <li> *(α::<b>Number</b>, u::<b>AbstractVector</b>, tv::<b>Union{LinearAlgebra.Adjoint{T, var\"#s5029\"}, LinearAlgebra.Transpose{T, var\"#s5029\"}} where {T, var\"#s5029\"<:(AbstractVector)}</b>) in LinearAlgebra at <a href=\"file:///Users/julia/.julia/scratchspaces/a66863c6-20e8-4ff4-8a62-49f30b1f605e/agent-cache/default-honeycrisp-HL2F7YQ3XH.0/build/default-honeycrisp-HL2F7YQ3XH-0/julialang/julia-release-1-dot-11/usr/share/julia/stdlib/v1.11/LinearAlgebra/src/matmul.jl\" target=\"_blank\">/Users/uqjnazar/.julia/juliaup/julia-1.11.5+0.aarch64.apple.darwin14/share/julia/stdlib/v1.11/LinearAlgebra/src/matmul.jl:1128</a></li> <li> *(a::<b>Number</b>, Q::<b>LinearAlgebra.AbstractQ</b>) in LinearAlgebra at <a href=\"file:///Users/julia/.julia/scratchspaces/a66863c6-20e8-4ff4-8a62-49f30b1f605e/agent-cache/default-honeycrisp-HL2F7YQ3XH.0/build/default-honeycrisp-HL2F7YQ3XH-0/julialang/julia-release-1-dot-11/usr/share/julia/stdlib/v1.11/LinearAlgebra/src/abstractq.jl\" target=\"_blank\">/Users/uqjnazar/.julia/juliaup/julia-1.11.5+0.aarch64.apple.darwin14/share/julia/stdlib/v1.11/LinearAlgebra/src/abstractq.jl:192</a></li> <li> *(a::<b>Number</b>, b::<b>NTuple{N, Measures.Measure} where N</b>) in Measures at <a href=\"file:///Users/uqjnazar/.julia/packages/Measures/PKOxJ/src/point.jl\" target=\"_blank\">/Users/uqjnazar/.julia/packages/Measures/PKOxJ/src/point.jl:19</a></li> <li> *(k::<b>Number</b>, a::<b>Union{LMS, XYZ}</b>) in Colors at <a href=\"file:///Users/uqjnazar/.julia/packages/Colors/itIUE/src/algorithms.jl\" target=\"_blank\">/Users/uqjnazar/.julia/packages/Colors/itIUE/src/algorithms.jl:7</a></li> <li> *(x::<b>Number</b>) in Base at <a href=\"https://github.com/JuliaLang/julia/tree/760b2e5b7396f9cc0da5efce0cadd5d1974c4069/base/operators.jl#L534\" target=\"_blank\">operators.jl:534</a></li> <li> *(F::<b>LinearAlgebra.Hessenberg{<:Any, <:AbstractMatrix{T}}</b>, x::<b>S</b>)<i> where {T, S<:Number}</i> in LinearAlgebra at <a href=\"file:///Users/julia/.julia/scratchspaces/a66863c6-20e8-4ff4-8a62-49f30b1f605e/agent-cache/default-honeycrisp-HL2F7YQ3XH.0/build/default-honeycrisp-HL2F7YQ3XH-0/julialang/julia-release-1-dot-11/usr/share/julia/stdlib/v1.11/LinearAlgebra/src/hessenberg.jl\" target=\"_blank\">/Users/uqjnazar/.julia/juliaup/julia-1.11.5+0.aarch64.apple.darwin14/share/julia/stdlib/v1.11/LinearAlgebra/src/hessenberg.jl:542</a></li> <li> *(A::<b>LinearAlgebra.UnitUpperTriangular</b>, D::<b>LinearAlgebra.Diagonal</b>) in LinearAlgebra at <a href=\"file:///Users/julia/.julia/scratchspaces/a66863c6-20e8-4ff4-8a62-49f30b1f605e/agent-cache/default-honeycrisp-HL2F7YQ3XH.0/build/default-honeycrisp-HL2F7YQ3XH-0/julialang/julia-release-1-dot-11/usr/share/julia/stdlib/v1.11/LinearAlgebra/src/diagonal.jl\" target=\"_blank\">/Users/uqjnazar/.julia/juliaup/julia-1.11.5+0.aarch64.apple.darwin14/share/julia/stdlib/v1.11/LinearAlgebra/src/diagonal.jl:607</a></li> <li> *(A::<b>LinearAlgebra.UnitUpperTriangular</b>, B::<b>LinearAlgebra.UnitUpperTriangular</b>) in LinearAlgebra at <a href=\"file:///Users/julia/.julia/scratchspaces/a66863c6-20e8-4ff4-8a62-49f30b1f605e/agent-cache/default-honeycrisp-HL2F7YQ3XH.0/build/default-honeycrisp-HL2F7YQ3XH-0/julialang/julia-release-1-dot-11/usr/share/julia/stdlib/v1.11/LinearAlgebra/src/triangular.jl\" target=\"_blank\">/Users/uqjnazar/.julia/juliaup/julia-1.11.5+0.aarch64.apple.darwin14/share/julia/stdlib/v1.11/LinearAlgebra/src/triangular.jl:1755</a></li> <li> *(A::<b>LinearAlgebra.UnitUpperTriangular</b>, B::<b>LinearAlgebra.UpperTriangular</b>) in LinearAlgebra at <a href=\"file:///Users/julia/.julia/scratchspaces/a66863c6-20e8-4ff4-8a62-49f30b1f605e/agent-cache/default-honeycrisp-HL2F7YQ3XH.0/build/default-honeycrisp-HL2F7YQ3XH-0/julialang/julia-release-1-dot-11/usr/share/julia/stdlib/v1.11/LinearAlgebra/src/triangular.jl\" target=\"_blank\">/Users/uqjnazar/.julia/juliaup/julia-1.11.5+0.aarch64.apple.darwin14/share/julia/stdlib/v1.11/LinearAlgebra/src/triangular.jl:1753</a></li> <li> *(A::<b>LinearAlgebra.UnitUpperTriangular</b>, x::<b>Number</b>) in LinearAlgebra at <a href=\"file:///Users/julia/.julia/scratchspaces/a66863c6-20e8-4ff4-8a62-49f30b1f605e/agent-cache/default-honeycrisp-HL2F7YQ3XH.0/build/default-honeycrisp-HL2F7YQ3XH-0/julialang/julia-release-1-dot-11/usr/share/julia/stdlib/v1.11/LinearAlgebra/src/triangular.jl\" target=\"_blank\">/Users/uqjnazar/.julia/juliaup/julia-1.11.5+0.aarch64.apple.darwin14/share/julia/stdlib/v1.11/LinearAlgebra/src/triangular.jl:1104</a></li> <li> *(x::<b>RoundingMode</b>, y::<b>ForwardDiff.Dual{Ty}</b>)<i> where Ty</i> in ForwardDiff at <a href=\"file:///Users/uqjnazar/.julia/packages/ForwardDiff/Wq9Wb/src/dual.jl\" target=\"_blank\">/Users/uqjnazar/.julia/packages/ForwardDiff/Wq9Wb/src/dual.jl:149</a></li> <li> *(a::<b>AbstractGray</b>, b::<b>AbstractGray</b>) in ColorVectorSpace at <a href=\"file:///Users/uqjnazar/.julia/packages/ColorVectorSpace/JXxVe/src/ColorVectorSpace.jl\" target=\"_blank\">/Users/uqjnazar/.julia/packages/ColorVectorSpace/JXxVe/src/ColorVectorSpace.jl:320</a></li> <li> *(A::<b>LinearAlgebra.UpperTriangular</b>, D::<b>LinearAlgebra.Diagonal</b>) in LinearAlgebra at <a href=\"file:///Users/julia/.julia/scratchspaces/a66863c6-20e8-4ff4-8a62-49f30b1f605e/agent-cache/default-honeycrisp-HL2F7YQ3XH.0/build/default-honeycrisp-HL2F7YQ3XH-0/julialang/julia-release-1-dot-11/usr/share/julia/stdlib/v1.11/LinearAlgebra/src/diagonal.jl\" target=\"_blank\">/Users/uqjnazar/.julia/juliaup/julia-1.11.5+0.aarch64.apple.darwin14/share/julia/stdlib/v1.11/LinearAlgebra/src/diagonal.jl:606</a></li> <li> *(A::<b>LinearAlgebra.UpperTriangular</b>, B::<b>LinearAlgebra.UnitUpperTriangular</b>) in LinearAlgebra at <a href=\"file:///Users/julia/.julia/scratchspaces/a66863c6-20e8-4ff4-8a62-49f30b1f605e/agent-cache/default-honeycrisp-HL2F7YQ3XH.0/build/default-honeycrisp-HL2F7YQ3XH-0/julialang/julia-release-1-dot-11/usr/share/julia/stdlib/v1.11/LinearAlgebra/src/triangular.jl\" target=\"_blank\">/Users/uqjnazar/.julia/juliaup/julia-1.11.5+0.aarch64.apple.darwin14/share/julia/stdlib/v1.11/LinearAlgebra/src/triangular.jl:1751</a></li> <li> *(A::<b>Union{LinearAlgebra.LowerTriangular{Tv, <:Union{SparseArrays.AbstractSparseMatrixCSC{Tv, Ti}, SubArray{Tv, 2, <:SparseArrays.AbstractSparseMatrixCSC{Tv, Ti}, Tuple{Base.Slice{Base.OneTo{Int64}}, I}} where I<:(AbstractUnitRange{<:Integer})}}, LinearAlgebra.UpperTriangular{Tv, <:Union{SparseArrays.AbstractSparseMatrixCSC{Tv, Ti}, SubArray{Tv, 2, <:SparseArrays.AbstractSparseMatrixCSC{Tv, Ti}, Tuple{Base.Slice{Base.OneTo{Int64}}, I}} where I<:(AbstractUnitRange{<:Integer})}}} where {Tv, Ti}</b>, B::<b>Union{LinearAlgebra.LowerTriangular{Tv, <:Union{SparseArrays.AbstractSparseMatrixCSC{Tv, Ti}, SubArray{Tv, 2, <:SparseArrays.AbstractSparseMatrixCSC{Tv, Ti}, Tuple{Base.Slice{Base.OneTo{Int64}}, I}} where I<:(AbstractUnitRange{<:Integer})}}, LinearAlgebra.UpperTriangular{Tv, <:Union{SparseArrays.AbstractSparseMatrixCSC{Tv, Ti}, SubArray{Tv, 2, <:SparseArrays.AbstractSparseMatrixCSC{Tv, Ti}, Tuple{Base.Slice{Base.OneTo{Int64}}, I}} where I<:(AbstractUnitRange{<:Integer})}}} where {Tv, Ti}</b>) in SparseArrays at <a href=\"file:///Users/julia/.julia/scratchspaces/a66863c6-20e8-4ff4-8a62-49f30b1f605e/agent-cache/default-honeycrisp-HL2F7YQ3XH.0/build/default-honeycrisp-HL2F7YQ3XH-0/julialang/julia-release-1-dot-11/usr/share/julia/stdlib/v1.11/SparseArrays/src/linalg.jl\" target=\"_blank\">/Users/uqjnazar/.julia/juliaup/julia-1.11.5+0.aarch64.apple.darwin14/share/julia/stdlib/v1.11/SparseArrays/src/linalg.jl:202</a></li> <li> *(A::<b>LinearAlgebra.UpperTriangular</b>, B::<b>LinearAlgebra.UpperTriangular</b>) in LinearAlgebra at <a href=\"file:///Users/julia/.julia/scratchspaces/a66863c6-20e8-4ff4-8a62-49f30b1f605e/agent-cache/default-honeycrisp-HL2F7YQ3XH.0/build/default-honeycrisp-HL2F7YQ3XH-0/julialang/julia-release-1-dot-11/usr/share/julia/stdlib/v1.11/LinearAlgebra/src/triangular.jl\" target=\"_blank\">/Users/uqjnazar/.julia/juliaup/julia-1.11.5+0.aarch64.apple.darwin14/share/julia/stdlib/v1.11/LinearAlgebra/src/triangular.jl:1749</a></li> <li> *(A::<b>LinearAlgebra.UpperTriangular{<:Any, <:Union{LinearAlgebra.Adjoint{<:Any, <:StridedMatrix{T}}, LinearAlgebra.Transpose{<:Any, <:StridedMatrix{T}}, StridedArray{T, 2}} where T}</b>, x::<b>Number</b>) in LinearAlgebra at <a href=\"file:///Users/julia/.julia/scratchspaces/a66863c6-20e8-4ff4-8a62-49f30b1f605e/agent-cache/default-honeycrisp-HL2F7YQ3XH.0/build/default-honeycrisp-HL2F7YQ3XH-0/julialang/julia-release-1-dot-11/usr/share/julia/stdlib/v1.11/LinearAlgebra/src/triangular.jl\" target=\"_blank\">/Users/uqjnazar/.julia/juliaup/julia-1.11.5+0.aarch64.apple.darwin14/share/julia/stdlib/v1.11/LinearAlgebra/src/triangular.jl:1098</a></li> <li> *(A::<b>LinearAlgebra.UpperTriangular</b>, x::<b>Number</b>) in LinearAlgebra at <a href=\"file:///Users/julia/.julia/scratchspaces/a66863c6-20e8-4ff4-8a62-49f30b1f605e/agent-cache/default-honeycrisp-HL2F7YQ3XH.0/build/default-honeycrisp-HL2F7YQ3XH-0/julialang/julia-release-1-dot-11/usr/share/julia/stdlib/v1.11/LinearAlgebra/src/triangular.jl\" target=\"_blank\">/Users/uqjnazar/.julia/juliaup/julia-1.11.5+0.aarch64.apple.darwin14/share/julia/stdlib/v1.11/LinearAlgebra/src/triangular.jl:1097</a></li> <li> *(x::<b>LinearAlgebra.Transpose{T, <:AbstractVector} where T</b>, D::<b>LinearAlgebra.Diagonal</b>, y::<b>AbstractVector</b>) in LinearAlgebra at <a href=\"file:///Users/julia/.julia/scratchspaces/a66863c6-20e8-4ff4-8a62-49f30b1f605e/agent-cache/default-honeycrisp-HL2F7YQ3XH.0/build/default-honeycrisp-HL2F7YQ3XH-0/julialang/julia-release-1-dot-11/usr/share/julia/stdlib/v1.11/LinearAlgebra/src/diagonal.jl\" target=\"_blank\">/Users/uqjnazar/.julia/juliaup/julia-1.11.5+0.aarch64.apple.darwin14/share/julia/stdlib/v1.11/LinearAlgebra/src/diagonal.jl:953</a></li> <li> *(u::<b>LinearAlgebra.Transpose{T, <:AbstractVector} where T</b>, v::<b>LinearAlgebra.Transpose{<:Any, <:LinearAlgebra.Adjoint{T, <:AbstractVector} where T}</b>) in LinearAlgebra at <a href=\"file:///Users/julia/.julia/scratchspaces/a66863c6-20e8-4ff4-8a62-49f30b1f605e/agent-cache/default-honeycrisp-HL2F7YQ3XH.0/build/default-honeycrisp-HL2F7YQ3XH-0/julialang/julia-release-1-dot-11/usr/share/julia/stdlib/v1.11/LinearAlgebra/src/adjtrans.jl\" target=\"_blank\">/Users/uqjnazar/.julia/juliaup/julia-1.11.5+0.aarch64.apple.darwin14/share/julia/stdlib/v1.11/LinearAlgebra/src/adjtrans.jl:490</a></li> <li> *(A::<b>Union{LinearAlgebra.Adjoint{var\"#s393\", var\"#s392\"}, LinearAlgebra.Transpose{var\"#s393\", var\"#s392\"}} where {var\"#s393\", var\"#s392\"<:SparseArrays.AbstractSparseMatrixCSC}</b>, B::<b>Union{LinearAlgebra.Adjoint{var\"#s391\", var\"#s390\"}, LinearAlgebra.Transpose{var\"#s391\", var\"#s390\"}} where {var\"#s391\", var\"#s390\"<:SparseArrays.AbstractSparseMatrixCSC}</b>) in SparseArrays at <a href=\"file:///Users/julia/.julia/scratchspaces/a66863c6-20e8-4ff4-8a62-49f30b1f605e/agent-cache/default-honeycrisp-HL2F7YQ3XH.0/build/default-honeycrisp-HL2F7YQ3XH-0/julialang/julia-release-1-dot-11/usr/share/julia/stdlib/v1.11/SparseArrays/src/linalg.jl\" target=\"_blank\">/Users/uqjnazar/.julia/juliaup/julia-1.11.5+0.aarch64.apple.darwin14/share/julia/stdlib/v1.11/SparseArrays/src/linalg.jl:205</a></li> <li> *(u::<b>LinearAlgebra.Transpose{T, <:AbstractVector} where T</b>, v::<b>LinearAlgebra.Adjoint{<:Any, <:LinearAlgebra.Transpose{T, <:AbstractVector} where T}</b>) in LinearAlgebra at <a href=\"file:///Users/julia/.julia/scratchspaces/a66863c6-20e8-4ff4-8a62-49f30b1f605e/agent-cache/default-honeycrisp-HL2F7YQ3XH.0/build/default-honeycrisp-HL2F7YQ3XH-0/julialang/julia-release-1-dot-11/usr/share/julia/stdlib/v1.11/LinearAlgebra/src/adjtrans.jl\" target=\"_blank\">/Users/uqjnazar/.julia/juliaup/julia-1.11.5+0.aarch64.apple.darwin14/share/julia/stdlib/v1.11/LinearAlgebra/src/adjtrans.jl:488</a></li> <li> *(A::<b>Union{LinearAlgebra.Adjoint{<:Any, <:StridedMatrix{var\"#s5029\"}}, LinearAlgebra.Transpose{<:Any, <:StridedMatrix{var\"#s5029\"}}, StridedMatrix{var\"#s5029\"}} where var\"#s5029\"<:Union{Float32, Float64}</b>, B::<b>Union{LinearAlgebra.Adjoint{<:Any, <:StridedMatrix{var\"#s5028\"}}, LinearAlgebra.Transpose{<:Any, <:StridedMatrix{var\"#s5028\"}}} where var\"#s5028\"<:Union{ComplexF64, ComplexF32}</b>) in LinearAlgebra at <a href=\"file:///Users/julia/.julia/scratchspaces/a66863c6-20e8-4ff4-8a62-49f30b1f605e/agent-cache/default-honeycrisp-HL2F7YQ3XH.0/build/default-honeycrisp-HL2F7YQ3XH-0/julialang/julia-release-1-dot-11/usr/share/julia/stdlib/v1.11/LinearAlgebra/src/matmul.jl\" target=\"_blank\">/Users/uqjnazar/.julia/juliaup/julia-1.11.5+0.aarch64.apple.darwin14/share/julia/stdlib/v1.11/LinearAlgebra/src/matmul.jl:158</a></li> <li> *(u::<b>LinearAlgebra.Adjoint{T, <:AbstractVector} where T</b>, v::<b>LinearAlgebra.Transpose{<:Any, <:LinearAlgebra.Adjoint{T, <:AbstractVector} where T}</b>) in LinearAlgebra at <a href=\"file:///Users/julia/.julia/scratchspaces/a66863c6-20e8-4ff4-8a62-49f30b1f605e/agent-cache/default-honeycrisp-HL2F7YQ3XH.0/build/default-honeycrisp-HL2F7YQ3XH-0/julialang/julia-release-1-dot-11/usr/share/julia/stdlib/v1.11/LinearAlgebra/src/adjtrans.jl\" target=\"_blank\">/Users/uqjnazar/.julia/juliaup/julia-1.11.5+0.aarch64.apple.darwin14/share/julia/stdlib/v1.11/LinearAlgebra/src/adjtrans.jl:491</a></li> <li> *(A::<b>Union{LinearAlgebra.Adjoint{<:Any, <:StridedMatrix{var\"#s5029\"}}, LinearAlgebra.Transpose{<:Any, <:StridedMatrix{var\"#s5029\"}}} where var\"#s5029\"<:Union{ComplexF64, ComplexF32}</b>, B::<b>Union{LinearAlgebra.Adjoint{<:Any, <:StridedMatrix{var\"#s5028\"}}, LinearAlgebra.Transpose{<:Any, <:StridedMatrix{var\"#s5028\"}}, StridedMatrix{var\"#s5028\"}} where var\"#s5028\"<:Union{Float32, Float64}</b>) in LinearAlgebra at <a href=\"file:///Users/julia/.julia/scratchspaces/a66863c6-20e8-4ff4-8a62-49f30b1f605e/agent-cache/default-honeycrisp-HL2F7YQ3XH.0/build/default-honeycrisp-HL2F7YQ3XH-0/julialang/julia-release-1-dot-11/usr/share/julia/stdlib/v1.11/LinearAlgebra/src/matmul.jl\" target=\"_blank\">/Users/uqjnazar/.julia/juliaup/julia-1.11.5+0.aarch64.apple.darwin14/share/julia/stdlib/v1.11/LinearAlgebra/src/matmul.jl:143</a></li> <li> *(adjA::<b>LinearAlgebra.Adjoint{<:Any, <:SparseArrays.CHOLMOD.Sparse}</b>, B::<b>VecOrMat</b>) in SparseArrays.CHOLMOD at <a href=\"file:///Users/julia/.julia/scratchspaces/a66863c6-20e8-4ff4-8a62-49f30b1f605e/agent-cache/default-honeycrisp-HL2F7YQ3XH.0/build/default-honeycrisp-HL2F7YQ3XH-0/julialang/julia-release-1-dot-11/usr/share/julia/stdlib/v1.11/SparseArrays/src/solvers/cholmod.jl\" target=\"_blank\">/Users/uqjnazar/.julia/juliaup/julia-1.11.5+0.aarch64.apple.darwin14/share/julia/stdlib/v1.11/SparseArrays/src/solvers/cholmod.jl:1419</a></li> <li> *(u::<b>LinearAlgebra.Adjoint{<:Number, <:AbstractVector}</b>, v::<b>AbstractVector{<:Number}</b>) in LinearAlgebra at <a href=\"file:///Users/julia/.julia/scratchspaces/a66863c6-20e8-4ff4-8a62-49f30b1f605e/agent-cache/default-honeycrisp-HL2F7YQ3XH.0/build/default-honeycrisp-HL2F7YQ3XH-0/julialang/julia-release-1-dot-11/usr/share/julia/stdlib/v1.11/LinearAlgebra/src/adjtrans.jl\" target=\"_blank\">/Users/uqjnazar/.julia/juliaup/julia-1.11.5+0.aarch64.apple.darwin14/share/julia/stdlib/v1.11/LinearAlgebra/src/adjtrans.jl:478</a></li> <li> *(A::<b>Union{LinearAlgebra.Adjoint{var\"#s188\", var\"#s187\"}, LinearAlgebra.Transpose{var\"#s188\", var\"#s187\"}} where {var\"#s188\", var\"#s187\"<:(StridedMatrix{T} where T)}</b>, x::<b>SparseArrays.AbstractSparseVector</b>) in SparseArrays at <a href=\"file:///Users/julia/.julia/scratchspaces/a66863c6-20e8-4ff4-8a62-49f30b1f605e/agent-cache/default-honeycrisp-HL2F7YQ3XH.0/build/default-honeycrisp-HL2F7YQ3XH-0/julialang/julia-release-1-dot-11/usr/share/julia/stdlib/v1.11/SparseArrays/src/sparsevector.jl\" target=\"_blank\">/Users/uqjnazar/.julia/juliaup/julia-1.11.5+0.aarch64.apple.darwin14/share/julia/stdlib/v1.11/SparseArrays/src/sparsevector.jl:1945</a></li> <li> *(u::<b>LinearAlgebra.Transpose{T, <:AbstractVector}</b>, v::<b>AbstractVector{T}</b>)<i> where T<:Real</i> in LinearAlgebra at <a href=\"file:///Users/julia/.julia/scratchspaces/a66863c6-20e8-4ff4-8a62-49f30b1f605e/agent-cache/default-honeycrisp-HL2F7YQ3XH.0/build/default-honeycrisp-HL2F7YQ3XH-0/julialang/julia-release-1-dot-11/usr/share/julia/stdlib/v1.11/LinearAlgebra/src/adjtrans.jl\" target=\"_blank\">/Users/uqjnazar/.julia/juliaup/julia-1.11.5+0.aarch64.apple.darwin14/share/julia/stdlib/v1.11/LinearAlgebra/src/adjtrans.jl:479</a></li> <li> *(transx::<b>LinearAlgebra.Transpose{<:Any, <:StridedVector{T}}</b>, y::<b>StridedVector{T}</b>)<i> where T<:Union{ComplexF64, ComplexF32}</i> in LinearAlgebra at <a href=\"file:///Users/julia/.julia/scratchspaces/a66863c6-20e8-4ff4-8a62-49f30b1f605e/agent-cache/default-honeycrisp-HL2F7YQ3XH.0/build/default-honeycrisp-HL2F7YQ3XH-0/julialang/julia-release-1-dot-11/usr/share/julia/stdlib/v1.11/LinearAlgebra/src/matmul.jl\" target=\"_blank\">/Users/uqjnazar/.julia/juliaup/julia-1.11.5+0.aarch64.apple.darwin14/share/julia/stdlib/v1.11/LinearAlgebra/src/matmul.jl:47</a></li> <li> *(A::<b>Union{LinearAlgebra.Adjoint{<:Any, <:StridedMatrix{T}}, LinearAlgebra.Transpose{<:Any, <:StridedMatrix{T}}, StridedMatrix{T}}</b>, x::<b>StridedVector{S}</b>)<i> where {T<:Union{Float32, Float64, ComplexF64, ComplexF32}, S<:Real}</i> in LinearAlgebra at <a href=\"file:///Users/julia/.julia/scratchspaces/a66863c6-20e8-4ff4-8a62-49f30b1f605e/agent-cache/default-honeycrisp-HL2F7YQ3XH.0/build/default-honeycrisp-HL2F7YQ3XH-0/julialang/julia-release-1-dot-11/usr/share/julia/stdlib/v1.11/LinearAlgebra/src/matmul.jl\" target=\"_blank\">/Users/uqjnazar/.julia/juliaup/julia-1.11.5+0.aarch64.apple.darwin14/share/julia/stdlib/v1.11/LinearAlgebra/src/matmul.jl:53</a></li> <li> *(A::<b>Union{SparseArrays.AbstractSparseMatrixCSC{Tv, Ti}, SubArray{Tv, 2, <:SparseArrays.AbstractSparseMatrixCSC{Tv, Ti}, Tuple{Base.Slice{Base.OneTo{Int64}}, I}} where I<:(AbstractUnitRange{<:Integer}), LinearAlgebra.LowerTriangular{Tv, <:Union{SparseArrays.AbstractSparseMatrixCSC{Tv, Ti}, SubArray{Tv, 2, <:SparseArrays.AbstractSparseMatrixCSC{Tv, Ti}, Tuple{Base.Slice{Base.OneTo{Int64}}, I}} where I<:(AbstractUnitRange{<:Integer})}}, LinearAlgebra.UpperTriangular{Tv, <:Union{SparseArrays.AbstractSparseMatrixCSC{Tv, Ti}, SubArray{Tv, 2, <:SparseArrays.AbstractSparseMatrixCSC{Tv, Ti}, Tuple{Base.Slice{Base.OneTo{Int64}}, I}} where I<:(AbstractUnitRange{<:Integer})}}} where {Tv, Ti}</b>, B::<b>SubArray{Tv, 1, <:SparseArrays.AbstractSparseMatrixCSC{Tv, Ti}, Tuple{Base.Slice{Base.OneTo{Int64}}, Int64}, false} where {Tv, Ti}</b>) in SparseArrays at <a href=\"file:///Users/julia/.julia/scratchspaces/a66863c6-20e8-4ff4-8a62-49f30b1f605e/agent-cache/default-honeycrisp-HL2F7YQ3XH.0/build/default-honeycrisp-HL2F7YQ3XH-0/julialang/julia-release-1-dot-11/usr/share/julia/stdlib/v1.11/SparseArrays/src/linalg.jl\" target=\"_blank\">/Users/uqjnazar/.julia/juliaup/julia-1.11.5+0.aarch64.apple.darwin14/share/julia/stdlib/v1.11/SparseArrays/src/linalg.jl:197</a></li> <li> *(A::<b>Union{SparseArrays.AbstractSparseMatrixCSC{Tv, Ti}, SubArray{Tv, 2, <:SparseArrays.AbstractSparseMatrixCSC{Tv, Ti}, Tuple{Base.Slice{Base.OneTo{Int64}}, I}} where I<:(AbstractUnitRange{<:Integer}), LinearAlgebra.LowerTriangular{Tv, <:Union{SparseArrays.AbstractSparseMatrixCSC{Tv, Ti}, SubArray{Tv, 2, <:SparseArrays.AbstractSparseMatrixCSC{Tv, Ti}, Tuple{Base.Slice{Base.OneTo{Int64}}, I}} where I<:(AbstractUnitRange{<:Integer})}}, LinearAlgebra.UpperTriangular{Tv, <:Union{SparseArrays.AbstractSparseMatrixCSC{Tv, Ti}, SubArray{Tv, 2, <:SparseArrays.AbstractSparseMatrixCSC{Tv, Ti}, Tuple{Base.Slice{Base.OneTo{Int64}}, I}} where I<:(AbstractUnitRange{<:Integer})}}} where {Tv, Ti}</b>, B::<b>SubArray{Tv, 1, <:SparseArrays.AbstractSparseVector{Tv, Ti}, Tuple{Base.Slice{Base.OneTo{Int64}}}, false} where {Tv, Ti}</b>) in SparseArrays at <a href=\"file:///Users/julia/.julia/scratchspaces/a66863c6-20e8-4ff4-8a62-49f30b1f605e/agent-cache/default-honeycrisp-HL2F7YQ3XH.0/build/default-honeycrisp-HL2F7YQ3XH-0/julialang/julia-release-1-dot-11/usr/share/julia/stdlib/v1.11/SparseArrays/src/linalg.jl\" target=\"_blank\">/Users/uqjnazar/.julia/juliaup/julia-1.11.5+0.aarch64.apple.darwin14/share/julia/stdlib/v1.11/SparseArrays/src/linalg.jl:198</a></li> <li> *(xA::<b>Union{LinearAlgebra.Adjoint{var\"#s188\", var\"#s187\"}, LinearAlgebra.Transpose{var\"#s188\", var\"#s187\"}} where {var\"#s188\", var\"#s187\"<:SparseArrays.AbstractSparseMatrixCSC}</b>, x::<b>SparseArrays.AbstractSparseVector</b>) in SparseArrays at <a href=\"file:///Users/julia/.julia/scratchspaces/a66863c6-20e8-4ff4-8a62-49f30b1f605e/agent-cache/default-honeycrisp-HL2F7YQ3XH.0/build/default-honeycrisp-HL2F7YQ3XH-0/julialang/julia-release-1-dot-11/usr/share/julia/stdlib/v1.11/SparseArrays/src/sparsevector.jl\" target=\"_blank\">/Users/uqjnazar/.julia/juliaup/julia-1.11.5+0.aarch64.apple.darwin14/share/julia/stdlib/v1.11/SparseArrays/src/sparsevector.jl:2078</a></li> <li> *(A::<b>Union{LinearAlgebra.Adjoint{<:Any, <:StridedMatrix{var\"#s5029\"}}, LinearAlgebra.Transpose{<:Any, <:StridedMatrix{var\"#s5029\"}}} where var\"#s5029\"<:Union{Float32, Float64}</b>, B::<b>StridedMatrix{var\"#s5028\"} where var\"#s5028\"<:Union{ComplexF64, ComplexF32}</b>) in LinearAlgebra at <a href=\"file:///Users/julia/.julia/scratchspaces/a66863c6-20e8-4ff4-8a62-49f30b1f605e/agent-cache/default-honeycrisp-HL2F7YQ3XH.0/build/default-honeycrisp-HL2F7YQ3XH-0/julialang/julia-release-1-dot-11/usr/share/julia/stdlib/v1.11/LinearAlgebra/src/matmul.jl\" target=\"_blank\">/Users/uqjnazar/.julia/juliaup/julia-1.11.5+0.aarch64.apple.darwin14/share/julia/stdlib/v1.11/LinearAlgebra/src/matmul.jl:157</a></li> <li> *(adjA::<b>LinearAlgebra.Adjoint{<:Any, <:SparseArrays.CHOLMOD.Sparse}</b>, B::<b>SparseArrays.CHOLMOD.Dense</b>) in SparseArrays.CHOLMOD at <a href=\"file:///Users/julia/.julia/scratchspaces/a66863c6-20e8-4ff4-8a62-49f30b1f605e/agent-cache/default-honeycrisp-HL2F7YQ3XH.0/build/default-honeycrisp-HL2F7YQ3XH-0/julialang/julia-release-1-dot-11/usr/share/julia/stdlib/v1.11/SparseArrays/src/solvers/cholmod.jl\" target=\"_blank\">/Users/uqjnazar/.julia/juliaup/julia-1.11.5+0.aarch64.apple.darwin14/share/julia/stdlib/v1.11/SparseArrays/src/solvers/cholmod.jl:1415</a></li> <li> *(A::<b>Union{LinearAlgebra.Adjoint{<:Any, <:StridedMatrix{var\"#s5029\"}}, LinearAlgebra.Transpose{<:Any, <:StridedMatrix{var\"#s5029\"}}, StridedMatrix{var\"#s5029\"}} where var\"#s5029\"<:Union{ComplexF64, ComplexF32}</b>, B::<b>Union{LinearAlgebra.Adjoint{<:Any, <:StridedMatrix{var\"#s5028\"}}, LinearAlgebra.Transpose{<:Any, <:StridedMatrix{var\"#s5028\"}}, StridedMatrix{var\"#s5028\"}} where var\"#s5028\"<:Union{ComplexF64, ComplexF32}</b>) in LinearAlgebra at <a href=\"file:///Users/julia/.julia/scratchspaces/a66863c6-20e8-4ff4-8a62-49f30b1f605e/agent-cache/default-honeycrisp-HL2F7YQ3XH.0/build/default-honeycrisp-HL2F7YQ3XH-0/julialang/julia-release-1-dot-11/usr/share/julia/stdlib/v1.11/LinearAlgebra/src/matmul.jl\" target=\"_blank\">/Users/uqjnazar/.julia/juliaup/julia-1.11.5+0.aarch64.apple.darwin14/share/julia/stdlib/v1.11/LinearAlgebra/src/matmul.jl:128</a></li> <li> *(u::<b>LinearAlgebra.Adjoint{T, <:AbstractVector} where T</b>, v::<b>LinearAlgebra.Adjoint{<:Any, <:LinearAlgebra.Transpose{T, <:AbstractVector} where T}</b>) in LinearAlgebra at <a href=\"file:///Users/julia/.julia/scratchspaces/a66863c6-20e8-4ff4-8a62-49f30b1f605e/agent-cache/default-honeycrisp-HL2F7YQ3XH.0/build/default-honeycrisp-HL2F7YQ3XH-0/julialang/julia-release-1-dot-11/usr/share/julia/stdlib/v1.11/LinearAlgebra/src/adjtrans.jl\" target=\"_blank\">/Users/uqjnazar/.julia/juliaup/julia-1.11.5+0.aarch64.apple.darwin14/share/julia/stdlib/v1.11/LinearAlgebra/src/adjtrans.jl:489</a></li> <li> *(A::<b>Union{LinearAlgebra.Adjoint{<:Any, <:StridedMatrix{var\"#s5029\"}}, LinearAlgebra.Transpose{<:Any, <:StridedMatrix{var\"#s5029\"}}, StridedMatrix{var\"#s5029\"}} where var\"#s5029\"<:Union{Float32, Float64}</b>, B::<b>Union{LinearAlgebra.Adjoint{<:Any, <:StridedMatrix{var\"#s5028\"}}, LinearAlgebra.Transpose{<:Any, <:StridedMatrix{var\"#s5028\"}}, StridedMatrix{var\"#s5028\"}} where var\"#s5028\"<:Union{Float32, Float64}</b>) in LinearAlgebra at <a href=\"file:///Users/julia/.julia/scratchspaces/a66863c6-20e8-4ff4-8a62-49f30b1f605e/agent-cache/default-honeycrisp-HL2F7YQ3XH.0/build/default-honeycrisp-HL2F7YQ3XH-0/julialang/julia-release-1-dot-11/usr/share/julia/stdlib/v1.11/LinearAlgebra/src/matmul.jl\" target=\"_blank\">/Users/uqjnazar/.julia/juliaup/julia-1.11.5+0.aarch64.apple.darwin14/share/julia/stdlib/v1.11/LinearAlgebra/src/matmul.jl:122</a></li> <li> *(A::<b>Union{SparseArrays.AbstractSparseMatrixCSC{Tv, Ti}, SubArray{Tv, 2, <:SparseArrays.AbstractSparseMatrixCSC{Tv, Ti}, Tuple{Base.Slice{Base.OneTo{Int64}}, I}} where I<:(AbstractUnitRange{<:Integer})} where {Tv, Ti}</b>, B::<b>Union{SparseArrays.AbstractSparseMatrixCSC{Tv, Ti}, SubArray{Tv, 2, <:SparseArrays.AbstractSparseMatrixCSC{Tv, Ti}, Tuple{Base.Slice{Base.OneTo{Int64}}, I}} where I<:(AbstractUnitRange{<:Integer})} where {Tv, Ti}</b>) in SparseArrays at <a href=\"file:///Users/julia/.julia/scratchspaces/a66863c6-20e8-4ff4-8a62-49f30b1f605e/agent-cache/default-honeycrisp-HL2F7YQ3XH.0/build/default-honeycrisp-HL2F7YQ3XH-0/julialang/julia-release-1-dot-11/usr/share/julia/stdlib/v1.11/SparseArrays/src/linalg.jl\" target=\"_blank\">/Users/uqjnazar/.julia/juliaup/julia-1.11.5+0.aarch64.apple.darwin14/share/julia/stdlib/v1.11/SparseArrays/src/linalg.jl:199</a></li> <li> *(A::<b>StridedMatrix{var\"#s5029\"} where var\"#s5029\"<:Union{Float32, Float64}</b>, B::<b>StridedMatrix{var\"#s5028\"} where var\"#s5028\"<:Union{ComplexF64, ComplexF32}</b>) in LinearAlgebra at <a href=\"file:///Users/julia/.julia/scratchspaces/a66863c6-20e8-4ff4-8a62-49f30b1f605e/agent-cache/default-honeycrisp-HL2F7YQ3XH.0/build/default-honeycrisp-HL2F7YQ3XH-0/julialang/julia-release-1-dot-11/usr/share/julia/stdlib/v1.11/LinearAlgebra/src/matmul.jl\" target=\"_blank\">/Users/uqjnazar/.julia/juliaup/julia-1.11.5+0.aarch64.apple.darwin14/share/julia/stdlib/v1.11/LinearAlgebra/src/matmul.jl:150</a></li> <li> *(A::<b>StridedMatrix{var\"#s5029\"} where var\"#s5029\"<:Union{ComplexF64, ComplexF32}</b>, B::<b>Union{LinearAlgebra.Adjoint{<:Any, <:StridedMatrix{var\"#s5028\"}}, LinearAlgebra.Transpose{<:Any, <:StridedMatrix{var\"#s5028\"}}, StridedMatrix{var\"#s5028\"}} where var\"#s5028\"<:Union{Float32, Float64}</b>) in LinearAlgebra at <a href=\"file:///Users/julia/.julia/scratchspaces/a66863c6-20e8-4ff4-8a62-49f30b1f605e/agent-cache/default-honeycrisp-HL2F7YQ3XH.0/build/default-honeycrisp-HL2F7YQ3XH-0/julialang/julia-release-1-dot-11/usr/share/julia/stdlib/v1.11/LinearAlgebra/src/matmul.jl\" target=\"_blank\">/Users/uqjnazar/.julia/juliaup/julia-1.11.5+0.aarch64.apple.darwin14/share/julia/stdlib/v1.11/LinearAlgebra/src/matmul.jl:137</a></li> <li> *(A::<b>Union{SparseArrays.AbstractSparseMatrixCSC{Tv, Ti}, SubArray{Tv, 2, <:SparseArrays.AbstractSparseMatrixCSC{Tv, Ti}, Tuple{Base.Slice{Base.OneTo{Int64}}, I}} where I<:(AbstractUnitRange{<:Integer}), LinearAlgebra.LowerTriangular{Tv, <:Union{SparseArrays.AbstractSparseMatrixCSC{Tv, Ti}, SubArray{Tv, 2, <:SparseArrays.AbstractSparseMatrixCSC{Tv, Ti}, Tuple{Base.Slice{Base.OneTo{Int64}}, I}} where I<:(AbstractUnitRange{<:Integer})}}, LinearAlgebra.UpperTriangular{Tv, <:Union{SparseArrays.AbstractSparseMatrixCSC{Tv, Ti}, SubArray{Tv, 2, <:SparseArrays.AbstractSparseMatrixCSC{Tv, Ti}, Tuple{Base.Slice{Base.OneTo{Int64}}, I}} where I<:(AbstractUnitRange{<:Integer})}}} where {Tv, Ti}</b>, B::<b>Union{LinearAlgebra.Adjoint{var\"#s393\", var\"#s392\"}, LinearAlgebra.Transpose{var\"#s393\", var\"#s392\"}} where {var\"#s393\", var\"#s392\"<:SparseArrays.AbstractSparseMatrixCSC}</b>) in SparseArrays at <a href=\"file:///Users/julia/.julia/scratchspaces/a66863c6-20e8-4ff4-8a62-49f30b1f605e/agent-cache/default-honeycrisp-HL2F7YQ3XH.0/build/default-honeycrisp-HL2F7YQ3XH-0/julialang/julia-release-1-dot-11/usr/share/julia/stdlib/v1.11/SparseArrays/src/linalg.jl\" target=\"_blank\">/Users/uqjnazar/.julia/juliaup/julia-1.11.5+0.aarch64.apple.darwin14/share/julia/stdlib/v1.11/SparseArrays/src/linalg.jl:203</a></li> <li> *(A::<b>Union{LinearAlgebra.Adjoint{var\"#s393\", var\"#s392\"}, LinearAlgebra.Transpose{var\"#s393\", var\"#s392\"}} where {var\"#s393\", var\"#s392\"<:SparseArrays.AbstractSparseMatrixCSC}</b>, B::<b>Union{SparseArrays.AbstractSparseMatrixCSC{Tv, Ti}, SubArray{Tv, 2, <:SparseArrays.AbstractSparseMatrixCSC{Tv, Ti}, Tuple{Base.Slice{Base.OneTo{Int64}}, I}} where I<:(AbstractUnitRange{<:Integer}), LinearAlgebra.LowerTriangular{Tv, <:Union{SparseArrays.AbstractSparseMatrixCSC{Tv, Ti}, SubArray{Tv, 2, <:SparseArrays.AbstractSparseMatrixCSC{Tv, Ti}, Tuple{Base.Slice{Base.OneTo{Int64}}, I}} where I<:(AbstractUnitRange{<:Integer})}}, LinearAlgebra.UpperTriangular{Tv, <:Union{SparseArrays.AbstractSparseMatrixCSC{Tv, Ti}, SubArray{Tv, 2, <:SparseArrays.AbstractSparseMatrixCSC{Tv, Ti}, Tuple{Base.Slice{Base.OneTo{Int64}}, I}} where I<:(AbstractUnitRange{<:Integer})}}} where {Tv, Ti}</b>) in SparseArrays at <a href=\"file:///Users/julia/.julia/scratchspaces/a66863c6-20e8-4ff4-8a62-49f30b1f605e/agent-cache/default-honeycrisp-HL2F7YQ3XH.0/build/default-honeycrisp-HL2F7YQ3XH-0/julialang/julia-release-1-dot-11/usr/share/julia/stdlib/v1.11/SparseArrays/src/linalg.jl\" target=\"_blank\">/Users/uqjnazar/.julia/juliaup/julia-1.11.5+0.aarch64.apple.darwin14/share/julia/stdlib/v1.11/SparseArrays/src/linalg.jl:204</a></li> <li> *(x::<b>LinearAlgebra.Transpose{T, <:AbstractVector} where T</b>, A::<b>AbstractMatrix</b>) in LinearAlgebra at <a href=\"file:///Users/julia/.julia/scratchspaces/a66863c6-20e8-4ff4-8a62-49f30b1f605e/agent-cache/default-honeycrisp-HL2F7YQ3XH.0/build/default-honeycrisp-HL2F7YQ3XH-0/julialang/julia-release-1-dot-11/usr/share/julia/stdlib/v1.11/LinearAlgebra/src/matmul.jl\" target=\"_blank\">/Users/uqjnazar/.julia/juliaup/julia-1.11.5+0.aarch64.apple.darwin14/share/julia/stdlib/v1.11/LinearAlgebra/src/matmul.jl:96</a></li> <li> *(B::<b>LinearAlgebra.Bidiagonal</b>, H::<b>LinearAlgebra.UpperHessenberg</b>) in LinearAlgebra at <a href=\"file:///Users/julia/.julia/scratchspaces/a66863c6-20e8-4ff4-8a62-49f30b1f605e/agent-cache/default-honeycrisp-HL2F7YQ3XH.0/build/default-honeycrisp-HL2F7YQ3XH-0/julialang/julia-release-1-dot-11/usr/share/julia/stdlib/v1.11/LinearAlgebra/src/special.jl\" target=\"_blank\">/Users/uqjnazar/.julia/juliaup/julia-1.11.5+0.aarch64.apple.darwin14/share/julia/stdlib/v1.11/LinearAlgebra/src/special.jl:121</a></li> <li> *(A::<b>LinearAlgebra.Bidiagonal</b>, B::<b>Union{LinearAlgebra.LowerTriangular{T, S}, LinearAlgebra.UnitLowerTriangular{T, S}} where {T, S}</b>) in LinearAlgebra at <a href=\"file:///Users/julia/.julia/scratchspaces/a66863c6-20e8-4ff4-8a62-49f30b1f605e/agent-cache/default-honeycrisp-HL2F7YQ3XH.0/build/default-honeycrisp-HL2F7YQ3XH-0/julialang/julia-release-1-dot-11/usr/share/julia/stdlib/v1.11/LinearAlgebra/src/bidiag.jl\" target=\"_blank\">/Users/uqjnazar/.julia/juliaup/julia-1.11.5+0.aarch64.apple.darwin14/share/julia/stdlib/v1.11/LinearAlgebra/src/bidiag.jl:782</a></li> <li> *(A::<b>LinearAlgebra.Bidiagonal</b>, B::<b>Union{LinearAlgebra.UnitUpperTriangular{T, S}, LinearAlgebra.UpperTriangular{T, S}} where {T, S}</b>) in LinearAlgebra at <a href=\"file:///Users/julia/.julia/scratchspaces/a66863c6-20e8-4ff4-8a62-49f30b1f605e/agent-cache/default-honeycrisp-HL2F7YQ3XH.0/build/default-honeycrisp-HL2F7YQ3XH-0/julialang/julia-release-1-dot-11/usr/share/julia/stdlib/v1.11/LinearAlgebra/src/bidiag.jl\" target=\"_blank\">/Users/uqjnazar/.julia/juliaup/julia-1.11.5+0.aarch64.apple.darwin14/share/julia/stdlib/v1.11/LinearAlgebra/src/bidiag.jl:776</a></li> <li> *(A::<b>LinearAlgebra.Bidiagonal</b>, B::<b>Number</b>) in LinearAlgebra at <a href=\"file:///Users/julia/.julia/scratchspaces/a66863c6-20e8-4ff4-8a62-49f30b1f605e/agent-cache/default-honeycrisp-HL2F7YQ3XH.0/build/default-honeycrisp-HL2F7YQ3XH-0/julialang/julia-release-1-dot-11/usr/share/julia/stdlib/v1.11/LinearAlgebra/src/bidiag.jl\" target=\"_blank\">/Users/uqjnazar/.julia/juliaup/julia-1.11.5+0.aarch64.apple.darwin14/share/julia/stdlib/v1.11/LinearAlgebra/src/bidiag.jl:415</a></li> <li> *(A::<b>SparseArrays.AbstractSparseVector</b>, Q::<b>Union{LinearAlgebra.HessenbergQ, LinearAlgebra.QRCompactWYQ, LinearAlgebra.QRPackedQ}</b>) in SparseArrays at <a href=\"file:///Users/julia/.julia/scratchspaces/a66863c6-20e8-4ff4-8a62-49f30b1f605e/agent-cache/default-honeycrisp-HL2F7YQ3XH.0/build/default-honeycrisp-HL2F7YQ3XH-0/julialang/julia-release-1-dot-11/usr/share/julia/stdlib/v1.11/SparseArrays/src/sparsevector.jl\" target=\"_blank\">/Users/uqjnazar/.julia/juliaup/julia-1.11.5+0.aarch64.apple.darwin14/share/julia/stdlib/v1.11/SparseArrays/src/sparsevector.jl:1377</a></li> <li> *(A::<b>SparseArrays.AbstractSparseVector</b>, Q::<b>LinearAlgebra.AdjointQ{<:Any, <:Union{LinearAlgebra.HessenbergQ, LinearAlgebra.QRCompactWYQ, LinearAlgebra.QRPackedQ}}</b>) in SparseArrays at <a href=\"file:///Users/julia/.julia/scratchspaces/a66863c6-20e8-4ff4-8a62-49f30b1f605e/agent-cache/default-honeycrisp-HL2F7YQ3XH.0/build/default-honeycrisp-HL2F7YQ3XH-0/julialang/julia-release-1-dot-11/usr/share/julia/stdlib/v1.11/SparseArrays/src/sparsevector.jl\" target=\"_blank\">/Users/uqjnazar/.julia/juliaup/julia-1.11.5+0.aarch64.apple.darwin14/share/julia/stdlib/v1.11/SparseArrays/src/sparsevector.jl:1378</a></li> <li> *(A::<b>SparseArrays.AbstractSparseVector</b>, Q::<b>LinearAlgebra.AdjointQ{<:Any, <:LinearAlgebra.LQPackedQ}</b>) in SparseArrays at <a href=\"file:///Users/julia/.julia/scratchspaces/a66863c6-20e8-4ff4-8a62-49f30b1f605e/agent-cache/default-honeycrisp-HL2F7YQ3XH.0/build/default-honeycrisp-HL2F7YQ3XH-0/julialang/julia-release-1-dot-11/usr/share/julia/stdlib/v1.11/SparseArrays/src/sparsevector.jl\" target=\"_blank\">/Users/uqjnazar/.julia/juliaup/julia-1.11.5+0.aarch64.apple.darwin14/share/julia/stdlib/v1.11/SparseArrays/src/sparsevector.jl:1378</a></li> <li> *(A::<b>SparseArrays.AbstractSparseVector</b>, Q::<b>LinearAlgebra.LQPackedQ</b>) in SparseArrays at <a href=\"file:///Users/julia/.julia/scratchspaces/a66863c6-20e8-4ff4-8a62-49f30b1f605e/agent-cache/default-honeycrisp-HL2F7YQ3XH.0/build/default-honeycrisp-HL2F7YQ3XH-0/julialang/julia-release-1-dot-11/usr/share/julia/stdlib/v1.11/SparseArrays/src/sparsevector.jl\" target=\"_blank\">/Users/uqjnazar/.julia/juliaup/julia-1.11.5+0.aarch64.apple.darwin14/share/julia/stdlib/v1.11/SparseArrays/src/sparsevector.jl:1377</a></li> <li> *(m1::<b>Measures.Length{:pct}</b>, m2::<b>Measures.AbsoluteLength</b>) in Plots.PlotMeasures at <a href=\"file:///Users/uqjnazar/.julia/packages/Plots/MR7sb/src/plotmeasures.jl\" target=\"_blank\">/Users/uqjnazar/.julia/packages/Plots/MR7sb/src/plotmeasures.jl:17</a></li> <li> *(A::<b>LinearAlgebra.LowerTriangular</b>, D::<b>LinearAlgebra.Diagonal</b>) in LinearAlgebra at <a href=\"file:///Users/julia/.julia/scratchspaces/a66863c6-20e8-4ff4-8a62-49f30b1f605e/agent-cache/default-honeycrisp-HL2F7YQ3XH.0/build/default-honeycrisp-HL2F7YQ3XH-0/julialang/julia-release-1-dot-11/usr/share/julia/stdlib/v1.11/LinearAlgebra/src/diagonal.jl\" target=\"_blank\">/Users/uqjnazar/.julia/juliaup/julia-1.11.5+0.aarch64.apple.darwin14/share/julia/stdlib/v1.11/LinearAlgebra/src/diagonal.jl:606</a></li> <li> *(A::<b>LinearAlgebra.UnitLowerTriangular</b>, D::<b>LinearAlgebra.Diagonal</b>) in LinearAlgebra at <a href=\"file:///Users/julia/.julia/scratchspaces/a66863c6-20e8-4ff4-8a62-49f30b1f605e/agent-cache/default-honeycrisp-HL2F7YQ3XH.0/build/default-honeycrisp-HL2F7YQ3XH-0/julialang/julia-release-1-dot-11/usr/share/julia/stdlib/v1.11/LinearAlgebra/src/diagonal.jl\" target=\"_blank\">/Users/uqjnazar/.julia/juliaup/julia-1.11.5+0.aarch64.apple.darwin14/share/julia/stdlib/v1.11/LinearAlgebra/src/diagonal.jl:607</a></li> <li> *(A::<b>LinearAlgebra.AbstractTriangular</b>, D::<b>LinearAlgebra.Diagonal</b>) in LinearAlgebra at <a href=\"file:///Users/julia/.julia/scratchspaces/a66863c6-20e8-4ff4-8a62-49f30b1f605e/agent-cache/default-honeycrisp-HL2F7YQ3XH.0/build/default-honeycrisp-HL2F7YQ3XH-0/julialang/julia-release-1-dot-11/usr/share/julia/stdlib/v1.11/LinearAlgebra/src/diagonal.jl\" target=\"_blank\">/Users/uqjnazar/.julia/juliaup/julia-1.11.5+0.aarch64.apple.darwin14/share/julia/stdlib/v1.11/LinearAlgebra/src/diagonal.jl:957</a></li> <li> *(a::<b>Measures.Measure</b>, b::<b>Number</b>) in Measures at <a href=\"file:///Users/uqjnazar/.julia/packages/Measures/PKOxJ/src/operations.jl\" target=\"_blank\">/Users/uqjnazar/.julia/packages/Measures/PKOxJ/src/operations.jl:47</a></li> <li> *(A::<b>LinearAlgebra.Symmetric{<:Union{Float32, Float64}, SparseArrays.SparseMatrixCSC{<:Union{Float32, Float64}, Ti}}</b>, B::<b>Union{SparseArrays.SparseMatrixCSC{var\"#s391\", Ti}, SparseArrays.SparseVector{var\"#s391\", Ti}} where var\"#s391\"<:Union{Float32, Float64}</b>)<i> where Ti</i> in SparseArrays.CHOLMOD at <a href=\"file:///Users/julia/.julia/scratchspaces/a66863c6-20e8-4ff4-8a62-49f30b1f605e/agent-cache/default-honeycrisp-HL2F7YQ3XH.0/build/default-honeycrisp-HL2F7YQ3XH-0/julialang/julia-release-1-dot-11/usr/share/julia/stdlib/v1.11/SparseArrays/src/solvers/cholmod.jl\" target=\"_blank\">/Users/uqjnazar/.julia/juliaup/julia-1.11.5+0.aarch64.apple.darwin14/share/julia/stdlib/v1.11/SparseArrays/src/solvers/cholmod.jl:2008</a></li> <li> *(A::<b>LinearAlgebra.Symmetric</b>, x::<b>Number</b>) in LinearAlgebra at <a href=\"file:///Users/julia/.julia/scratchspaces/a66863c6-20e8-4ff4-8a62-49f30b1f605e/agent-cache/default-honeycrisp-HL2F7YQ3XH.0/build/default-honeycrisp-HL2F7YQ3XH-0/julialang/julia-release-1-dot-11/usr/share/julia/stdlib/v1.11/LinearAlgebra/src/symmetric.jl\" target=\"_blank\">/Users/uqjnazar/.julia/juliaup/julia-1.11.5+0.aarch64.apple.darwin14/share/julia/stdlib/v1.11/LinearAlgebra/src/symmetric.jl:578</a></li> <li> *(Q::<b>LinearAlgebra.LQPackedQ</b>, B::<b>SparseArrays.AbstractSparseMatrixCSC</b>) in SparseArrays at <a href=\"file:///Users/julia/.julia/scratchspaces/a66863c6-20e8-4ff4-8a62-49f30b1f605e/agent-cache/default-honeycrisp-HL2F7YQ3XH.0/build/default-honeycrisp-HL2F7YQ3XH-0/julialang/julia-release-1-dot-11/usr/share/julia/stdlib/v1.11/SparseArrays/src/sparsematrix.jl\" target=\"_blank\">/Users/uqjnazar/.julia/juliaup/julia-1.11.5+0.aarch64.apple.darwin14/share/julia/stdlib/v1.11/SparseArrays/src/sparsematrix.jl:491</a></li> <li> *(Q::<b>LinearAlgebra.LQPackedQ</b>, B::<b>Union{LinearAlgebra.Adjoint{var\"#s31\", var\"#s30\"}, LinearAlgebra.Transpose{var\"#s31\", var\"#s30\"}} where {var\"#s31\", var\"#s30\"<:SparseArrays.AbstractSparseMatrixCSC}</b>) in SparseArrays at <a href=\"file:///Users/julia/.julia/scratchspaces/a66863c6-20e8-4ff4-8a62-49f30b1f605e/agent-cache/default-honeycrisp-HL2F7YQ3XH.0/build/default-honeycrisp-HL2F7YQ3XH-0/julialang/julia-release-1-dot-11/usr/share/julia/stdlib/v1.11/SparseArrays/src/sparsematrix.jl\" target=\"_blank\">/Users/uqjnazar/.julia/juliaup/julia-1.11.5+0.aarch64.apple.darwin14/share/julia/stdlib/v1.11/SparseArrays/src/sparsematrix.jl:492</a></li> <li> *(Q::<b>LinearAlgebra.LQPackedQ</b>, B::<b>SparseArrays.AbstractSparseVector</b>) in SparseArrays at <a href=\"file:///Users/julia/.julia/scratchspaces/a66863c6-20e8-4ff4-8a62-49f30b1f605e/agent-cache/default-honeycrisp-HL2F7YQ3XH.0/build/default-honeycrisp-HL2F7YQ3XH-0/julialang/julia-release-1-dot-11/usr/share/julia/stdlib/v1.11/SparseArrays/src/sparsevector.jl\" target=\"_blank\">/Users/uqjnazar/.julia/juliaup/julia-1.11.5+0.aarch64.apple.darwin14/share/julia/stdlib/v1.11/SparseArrays/src/sparsevector.jl:1374</a></li> <li> *(A::<b>LinearAlgebra.Hermitian{<:Union{ComplexF64, ComplexF32}, SparseArrays.SparseMatrixCSC{<:Union{ComplexF64, ComplexF32}, Ti}}</b>, B::<b>Union{SparseArrays.SparseMatrixCSC{var\"#s391\", Ti}, SparseArrays.SparseVector{var\"#s391\", Ti}} where var\"#s391\"<:Union{ComplexF64, ComplexF32}</b>)<i> where Ti</i> in SparseArrays.CHOLMOD at <a href=\"file:///Users/julia/.julia/scratchspaces/a66863c6-20e8-4ff4-8a62-49f30b1f605e/agent-cache/default-honeycrisp-HL2F7YQ3XH.0/build/default-honeycrisp-HL2F7YQ3XH-0/julialang/julia-release-1-dot-11/usr/share/julia/stdlib/v1.11/SparseArrays/src/solvers/cholmod.jl\" target=\"_blank\">/Users/uqjnazar/.julia/juliaup/julia-1.11.5+0.aarch64.apple.darwin14/share/julia/stdlib/v1.11/SparseArrays/src/solvers/cholmod.jl:2010</a></li> <li> *(A::<b>LinearAlgebra.Hermitian{<:Union{Float32, Float64}, SparseArrays.SparseMatrixCSC{<:Union{Float32, Float64}, Ti}}</b>, B::<b>Union{SparseArrays.SparseMatrixCSC{var\"#s391\", Ti}, SparseArrays.SparseVector{var\"#s391\", Ti}} where var\"#s391\"<:Union{Float32, Float64}</b>)<i> where Ti</i> in SparseArrays.CHOLMOD at <a href=\"file:///Users/julia/.julia/scratchspaces/a66863c6-20e8-4ff4-8a62-49f30b1f605e/agent-cache/default-honeycrisp-HL2F7YQ3XH.0/build/default-honeycrisp-HL2F7YQ3XH-0/julialang/julia-release-1-dot-11/usr/share/julia/stdlib/v1.11/SparseArrays/src/solvers/cholmod.jl\" target=\"_blank\">/Users/uqjnazar/.julia/juliaup/julia-1.11.5+0.aarch64.apple.darwin14/share/julia/stdlib/v1.11/SparseArrays/src/solvers/cholmod.jl:2012</a></li> <li> *(A::<b>LinearAlgebra.Hermitian</b>, x::<b>Real</b>) in LinearAlgebra at <a href=\"file:///Users/julia/.julia/scratchspaces/a66863c6-20e8-4ff4-8a62-49f30b1f605e/agent-cache/default-honeycrisp-HL2F7YQ3XH.0/build/default-honeycrisp-HL2F7YQ3XH-0/julialang/julia-release-1-dot-11/usr/share/julia/stdlib/v1.11/LinearAlgebra/src/symmetric.jl\" target=\"_blank\">/Users/uqjnazar/.julia/juliaup/julia-1.11.5+0.aarch64.apple.darwin14/share/julia/stdlib/v1.11/LinearAlgebra/src/symmetric.jl:580</a></li> <li> *(H::<b>LinearAlgebra.UpperHessenberg</b>, B::<b>LinearAlgebra.Bidiagonal</b>) in LinearAlgebra at <a href=\"file:///Users/julia/.julia/scratchspaces/a66863c6-20e8-4ff4-8a62-49f30b1f605e/agent-cache/default-honeycrisp-HL2F7YQ3XH.0/build/default-honeycrisp-HL2F7YQ3XH-0/julialang/julia-release-1-dot-11/usr/share/julia/stdlib/v1.11/LinearAlgebra/src/special.jl\" target=\"_blank\">/Users/uqjnazar/.julia/juliaup/julia-1.11.5+0.aarch64.apple.darwin14/share/julia/stdlib/v1.11/LinearAlgebra/src/special.jl:116</a></li> <li> *(H::<b>LinearAlgebra.UpperHessenberg</b>, U::<b>Union{LinearAlgebra.UnitUpperTriangular{T, S}, LinearAlgebra.UpperTriangular{T, S}} where {T, S}</b>) in LinearAlgebra at <a href=\"file:///Users/julia/.julia/scratchspaces/a66863c6-20e8-4ff4-8a62-49f30b1f605e/agent-cache/default-honeycrisp-HL2F7YQ3XH.0/build/default-honeycrisp-HL2F7YQ3XH-0/julialang/julia-release-1-dot-11/usr/share/julia/stdlib/v1.11/LinearAlgebra/src/hessenberg.jl\" target=\"_blank\">/Users/uqjnazar/.julia/juliaup/julia-1.11.5+0.aarch64.apple.darwin14/share/julia/stdlib/v1.11/LinearAlgebra/src/hessenberg.jl:135</a></li> <li> *(H::<b>LinearAlgebra.UpperHessenberg</b>, x::<b>LinearAlgebra.Diagonal</b>) in LinearAlgebra at <a href=\"file:///Users/julia/.julia/scratchspaces/a66863c6-20e8-4ff4-8a62-49f30b1f605e/agent-cache/default-honeycrisp-HL2F7YQ3XH.0/build/default-honeycrisp-HL2F7YQ3XH-0/julialang/julia-release-1-dot-11/usr/share/julia/stdlib/v1.11/LinearAlgebra/src/hessenberg.jl\" target=\"_blank\">/Users/uqjnazar/.julia/juliaup/julia-1.11.5+0.aarch64.apple.darwin14/share/julia/stdlib/v1.11/LinearAlgebra/src/hessenberg.jl:128</a></li> <li> *(H::<b>LinearAlgebra.UpperHessenberg</b>, x::<b>LinearAlgebra.UniformScaling</b>) in LinearAlgebra at <a href=\"file:///Users/julia/.julia/scratchspaces/a66863c6-20e8-4ff4-8a62-49f30b1f605e/agent-cache/default-honeycrisp-HL2F7YQ3XH.0/build/default-honeycrisp-HL2F7YQ3XH-0/julialang/julia-release-1-dot-11/usr/share/julia/stdlib/v1.11/LinearAlgebra/src/hessenberg.jl\" target=\"_blank\">/Users/uqjnazar/.julia/juliaup/julia-1.11.5+0.aarch64.apple.darwin14/share/julia/stdlib/v1.11/LinearAlgebra/src/hessenberg.jl:128</a></li> <li> *(H::<b>LinearAlgebra.UpperHessenberg</b>, x::<b>Number</b>) in LinearAlgebra at <a href=\"file:///Users/julia/.julia/scratchspaces/a66863c6-20e8-4ff4-8a62-49f30b1f605e/agent-cache/default-honeycrisp-HL2F7YQ3XH.0/build/default-honeycrisp-HL2F7YQ3XH-0/julialang/julia-release-1-dot-11/usr/share/julia/stdlib/v1.11/LinearAlgebra/src/hessenberg.jl\" target=\"_blank\">/Users/uqjnazar/.julia/juliaup/julia-1.11.5+0.aarch64.apple.darwin14/share/julia/stdlib/v1.11/LinearAlgebra/src/hessenberg.jl:128</a></li> <li> *(x::<b>P</b>, y::<b>Real</b>)<i> where P<:Dates.Period</i> in Dates at <a href=\"file:///Users/julia/.julia/scratchspaces/a66863c6-20e8-4ff4-8a62-49f30b1f605e/agent-cache/default-honeycrisp-HL2F7YQ3XH.0/build/default-honeycrisp-HL2F7YQ3XH-0/julialang/julia-release-1-dot-11/usr/share/julia/stdlib/v1.11/Dates/src/periods.jl\" target=\"_blank\">/Users/uqjnazar/.julia/juliaup/julia-1.11.5+0.aarch64.apple.darwin14/share/julia/stdlib/v1.11/Dates/src/periods.jl:90</a></li> <li> *(x::<b>Dates.Period</b>, r::<b>AbstractRange{<:Real}</b>) in Dates at <a href=\"file:///Users/julia/.julia/scratchspaces/a66863c6-20e8-4ff4-8a62-49f30b1f605e/agent-cache/default-honeycrisp-HL2F7YQ3XH.0/build/default-honeycrisp-HL2F7YQ3XH-0/julialang/julia-release-1-dot-11/usr/share/julia/stdlib/v1.11/Dates/src/ranges.jl\" target=\"_blank\">/Users/uqjnazar/.julia/juliaup/julia-1.11.5+0.aarch64.apple.darwin14/share/julia/stdlib/v1.11/Dates/src/ranges.jl:67</a></li> <li> *(A::<b>Dates.Period</b>, B::<b>AbstractArray</b>) in Dates at <a href=\"file:///Users/julia/.julia/scratchspaces/a66863c6-20e8-4ff4-8a62-49f30b1f605e/agent-cache/default-honeycrisp-HL2F7YQ3XH.0/build/default-honeycrisp-HL2F7YQ3XH-0/julialang/julia-release-1-dot-11/usr/share/julia/stdlib/v1.11/Dates/src/periods.jl\" target=\"_blank\">/Users/uqjnazar/.julia/juliaup/julia-1.11.5+0.aarch64.apple.darwin14/share/julia/stdlib/v1.11/Dates/src/periods.jl:93</a></li> <li> *(A::<b>LinearAlgebra.LowerTriangular</b>, B::<b>LinearAlgebra.UnitLowerTriangular</b>) in LinearAlgebra at <a href=\"file:///Users/julia/.julia/scratchspaces/a66863c6-20e8-4ff4-8a62-49f30b1f605e/agent-cache/default-honeycrisp-HL2F7YQ3XH.0/build/default-honeycrisp-HL2F7YQ3XH-0/julialang/julia-release-1-dot-11/usr/share/julia/stdlib/v1.11/LinearAlgebra/src/triangular.jl\" target=\"_blank\">/Users/uqjnazar/.julia/juliaup/julia-1.11.5+0.aarch64.apple.darwin14/share/julia/stdlib/v1.11/LinearAlgebra/src/triangular.jl:1743</a></li> <li> *(A::<b>LinearAlgebra.LowerTriangular</b>, B::<b>LinearAlgebra.LowerTriangular</b>) in LinearAlgebra at <a href=\"file:///Users/julia/.julia/scratchspaces/a66863c6-20e8-4ff4-8a62-49f30b1f605e/agent-cache/default-honeycrisp-HL2F7YQ3XH.0/build/default-honeycrisp-HL2F7YQ3XH-0/julialang/julia-release-1-dot-11/usr/share/julia/stdlib/v1.11/LinearAlgebra/src/triangular.jl\" target=\"_blank\">/Users/uqjnazar/.julia/juliaup/julia-1.11.5+0.aarch64.apple.darwin14/share/julia/stdlib/v1.11/LinearAlgebra/src/triangular.jl:1741</a></li> <li> *(A::<b>LinearAlgebra.LowerTriangular{<:Any, <:Union{LinearAlgebra.Adjoint{<:Any, <:StridedMatrix{T}}, LinearAlgebra.Transpose{<:Any, <:StridedMatrix{T}}, StridedArray{T, 2}} where T}</b>, x::<b>Number</b>) in LinearAlgebra at <a href=\"file:///Users/julia/.julia/scratchspaces/a66863c6-20e8-4ff4-8a62-49f30b1f605e/agent-cache/default-honeycrisp-HL2F7YQ3XH.0/build/default-honeycrisp-HL2F7YQ3XH-0/julialang/julia-release-1-dot-11/usr/share/julia/stdlib/v1.11/LinearAlgebra/src/triangular.jl\" target=\"_blank\">/Users/uqjnazar/.julia/juliaup/julia-1.11.5+0.aarch64.apple.darwin14/share/julia/stdlib/v1.11/LinearAlgebra/src/triangular.jl:1098</a></li> <li> *(A::<b>LinearAlgebra.LowerTriangular</b>, x::<b>Number</b>) in LinearAlgebra at <a href=\"file:///Users/julia/.julia/scratchspaces/a66863c6-20e8-4ff4-8a62-49f30b1f605e/agent-cache/default-honeycrisp-HL2F7YQ3XH.0/build/default-honeycrisp-HL2F7YQ3XH-0/julialang/julia-release-1-dot-11/usr/share/julia/stdlib/v1.11/LinearAlgebra/src/triangular.jl\" target=\"_blank\">/Users/uqjnazar/.julia/juliaup/julia-1.11.5+0.aarch64.apple.darwin14/share/julia/stdlib/v1.11/LinearAlgebra/src/triangular.jl:1097</a></li> <li> *(Q::<b>LinearAlgebra.AbstractQ</b>, P::<b>LinearAlgebra.AbstractQ</b>) in LinearAlgebra at <a href=\"file:///Users/julia/.julia/scratchspaces/a66863c6-20e8-4ff4-8a62-49f30b1f605e/agent-cache/default-honeycrisp-HL2F7YQ3XH.0/build/default-honeycrisp-HL2F7YQ3XH-0/julialang/julia-release-1-dot-11/usr/share/julia/stdlib/v1.11/LinearAlgebra/src/abstractq.jl\" target=\"_blank\">/Users/uqjnazar/.julia/juliaup/julia-1.11.5+0.aarch64.apple.darwin14/share/julia/stdlib/v1.11/LinearAlgebra/src/abstractq.jl:209</a></li> <li> *(Q::<b>SparseArrays.SPQR.QRSparseQ</b>, B::<b>SparseArrays.SparseMatrixCSC</b>) in SparseArrays.SPQR at <a href=\"file:///Users/julia/.julia/scratchspaces/a66863c6-20e8-4ff4-8a62-49f30b1f605e/agent-cache/default-honeycrisp-HL2F7YQ3XH.0/build/default-honeycrisp-HL2F7YQ3XH-0/julialang/julia-release-1-dot-11/usr/share/julia/stdlib/v1.11/SparseArrays/src/solvers/spqr.jl\" target=\"_blank\">/Users/uqjnazar/.julia/juliaup/julia-1.11.5+0.aarch64.apple.darwin14/share/julia/stdlib/v1.11/SparseArrays/src/solvers/spqr.jl:337</a></li> <li> *(Q::<b>SparseArrays.SPQR.QRSparseQ</b>, B::<b>AbstractMatrix</b>) in SparseArrays.SPQR at <a href=\"file:///Users/julia/.julia/scratchspaces/a66863c6-20e8-4ff4-8a62-49f30b1f605e/agent-cache/default-honeycrisp-HL2F7YQ3XH.0/build/default-honeycrisp-HL2F7YQ3XH-0/julialang/julia-release-1-dot-11/usr/share/julia/stdlib/v1.11/SparseArrays/src/solvers/spqr.jl\" target=\"_blank\">/Users/uqjnazar/.julia/juliaup/julia-1.11.5+0.aarch64.apple.darwin14/share/julia/stdlib/v1.11/SparseArrays/src/solvers/spqr.jl:310</a></li> <li> *(Q::<b>LinearAlgebra.AdjointQ{<:Any, <:Union{LinearAlgebra.HessenbergQ, LinearAlgebra.QRCompactWYQ, LinearAlgebra.QRPackedQ}}</b>, B::<b>SparseArrays.AbstractSparseMatrixCSC</b>) in SparseArrays at <a href=\"file:///Users/julia/.julia/scratchspaces/a66863c6-20e8-4ff4-8a62-49f30b1f605e/agent-cache/default-honeycrisp-HL2F7YQ3XH.0/build/default-honeycrisp-HL2F7YQ3XH-0/julialang/julia-release-1-dot-11/usr/share/julia/stdlib/v1.11/SparseArrays/src/sparsematrix.jl\" target=\"_blank\">/Users/uqjnazar/.julia/juliaup/julia-1.11.5+0.aarch64.apple.darwin14/share/julia/stdlib/v1.11/SparseArrays/src/sparsematrix.jl:496</a></li> <li> *(Q::<b>LinearAlgebra.AdjointQ{<:Any, <:LinearAlgebra.LQPackedQ}</b>, B::<b>SparseArrays.AbstractSparseMatrixCSC</b>) in SparseArrays at <a href=\"file:///Users/julia/.julia/scratchspaces/a66863c6-20e8-4ff4-8a62-49f30b1f605e/agent-cache/default-honeycrisp-HL2F7YQ3XH.0/build/default-honeycrisp-HL2F7YQ3XH-0/julialang/julia-release-1-dot-11/usr/share/julia/stdlib/v1.11/SparseArrays/src/sparsematrix.jl\" target=\"_blank\">/Users/uqjnazar/.julia/juliaup/julia-1.11.5+0.aarch64.apple.darwin14/share/julia/stdlib/v1.11/SparseArrays/src/sparsematrix.jl:496</a></li> <li> *(Q::<b>LinearAlgebra.AdjointQ{<:Any, <:Union{LinearAlgebra.HessenbergQ, LinearAlgebra.QRCompactWYQ, LinearAlgebra.QRPackedQ}}</b>, B::<b>Union{LinearAlgebra.Adjoint{var\"#s15\", var\"#s14\"}, LinearAlgebra.Transpose{var\"#s15\", var\"#s14\"}} where {var\"#s15\", var\"#s14\"<:SparseArrays.AbstractSparseMatrixCSC}</b>) in SparseArrays at <a href=\"file:///Users/julia/.julia/scratchspaces/a66863c6-20e8-4ff4-8a62-49f30b1f605e/agent-cache/default-honeycrisp-HL2F7YQ3XH.0/build/default-honeycrisp-HL2F7YQ3XH-0/julialang/julia-release-1-dot-11/usr/share/julia/stdlib/v1.11/SparseArrays/src/sparsematrix.jl\" target=\"_blank\">/Users/uqjnazar/.julia/juliaup/julia-1.11.5+0.aarch64.apple.darwin14/share/julia/stdlib/v1.11/SparseArrays/src/sparsematrix.jl:497</a></li> <li> *(Q::<b>LinearAlgebra.AdjointQ{<:Any, <:LinearAlgebra.LQPackedQ}</b>, B::<b>Union{LinearAlgebra.Adjoint{var\"#s15\", var\"#s14\"}, LinearAlgebra.Transpose{var\"#s15\", var\"#s14\"}} where {var\"#s15\", var\"#s14\"<:SparseArrays.AbstractSparseMatrixCSC}</b>) in SparseArrays at <a href=\"file:///Users/julia/.julia/scratchspaces/a66863c6-20e8-4ff4-8a62-49f30b1f605e/agent-cache/default-honeycrisp-HL2F7YQ3XH.0/build/default-honeycrisp-HL2F7YQ3XH-0/julialang/julia-release-1-dot-11/usr/share/julia/stdlib/v1.11/SparseArrays/src/sparsematrix.jl\" target=\"_blank\">/Users/uqjnazar/.julia/juliaup/julia-1.11.5+0.aarch64.apple.darwin14/share/julia/stdlib/v1.11/SparseArrays/src/sparsematrix.jl:497</a></li> <li> *(Q::<b>Union{LinearAlgebra.HessenbergQ, LinearAlgebra.QRCompactWYQ, LinearAlgebra.QRPackedQ}</b>, B::<b>SparseArrays.AbstractSparseMatrixCSC</b>) in SparseArrays at <a href=\"file:///Users/julia/.julia/scratchspaces/a66863c6-20e8-4ff4-8a62-49f30b1f605e/agent-cache/default-honeycrisp-HL2F7YQ3XH.0/build/default-honeycrisp-HL2F7YQ3XH-0/julialang/julia-release-1-dot-11/usr/share/julia/stdlib/v1.11/SparseArrays/src/sparsematrix.jl\" target=\"_blank\">/Users/uqjnazar/.julia/juliaup/julia-1.11.5+0.aarch64.apple.darwin14/share/julia/stdlib/v1.11/SparseArrays/src/sparsematrix.jl:491</a></li> <li> *(Q::<b>Union{LinearAlgebra.HessenbergQ, LinearAlgebra.QRCompactWYQ, LinearAlgebra.QRPackedQ}</b>, B::<b>Union{LinearAlgebra.Adjoint{var\"#s31\", var\"#s30\"}, LinearAlgebra.Transpose{var\"#s31\", var\"#s30\"}} where {var\"#s31\", var\"#s30\"<:SparseArrays.AbstractSparseMatrixCSC}</b>) in SparseArrays at <a href=\"file:///Users/julia/.julia/scratchspaces/a66863c6-20e8-4ff4-8a62-49f30b1f605e/agent-cache/default-honeycrisp-HL2F7YQ3XH.0/build/default-honeycrisp-HL2F7YQ3XH-0/julialang/julia-release-1-dot-11/usr/share/julia/stdlib/v1.11/SparseArrays/src/sparsematrix.jl\" target=\"_blank\">/Users/uqjnazar/.julia/juliaup/julia-1.11.5+0.aarch64.apple.darwin14/share/julia/stdlib/v1.11/SparseArrays/src/sparsematrix.jl:492</a></li> <li> *(Q::<b>LinearAlgebra.AbstractQ</b>, B::<b>AbstractMatrix</b>) in LinearAlgebra at <a href=\"file:///Users/julia/.julia/scratchspaces/a66863c6-20e8-4ff4-8a62-49f30b1f605e/agent-cache/default-honeycrisp-HL2F7YQ3XH.0/build/default-honeycrisp-HL2F7YQ3XH-0/julialang/julia-release-1-dot-11/usr/share/julia/stdlib/v1.11/LinearAlgebra/src/abstractq.jl\" target=\"_blank\">/Users/uqjnazar/.julia/juliaup/julia-1.11.5+0.aarch64.apple.darwin14/share/julia/stdlib/v1.11/LinearAlgebra/src/abstractq.jl:185</a></li> <li> *(Q::<b>SparseArrays.SPQR.QRSparseQ</b>, b::<b>AbstractVector</b>) in SparseArrays.SPQR at <a href=\"file:///Users/julia/.julia/scratchspaces/a66863c6-20e8-4ff4-8a62-49f30b1f605e/agent-cache/default-honeycrisp-HL2F7YQ3XH.0/build/default-honeycrisp-HL2F7YQ3XH-0/julialang/julia-release-1-dot-11/usr/share/julia/stdlib/v1.11/SparseArrays/src/solvers/spqr.jl\" target=\"_blank\">/Users/uqjnazar/.julia/juliaup/julia-1.11.5+0.aarch64.apple.darwin14/share/julia/stdlib/v1.11/SparseArrays/src/solvers/spqr.jl:298</a></li> <li> *(Q::<b>LinearAlgebra.AdjointQ{<:Any, <:Union{LinearAlgebra.HessenbergQ, LinearAlgebra.QRCompactWYQ, LinearAlgebra.QRPackedQ}}</b>, B::<b>SparseArrays.AbstractSparseVector</b>) in SparseArrays at <a href=\"file:///Users/julia/.julia/scratchspaces/a66863c6-20e8-4ff4-8a62-49f30b1f605e/agent-cache/default-honeycrisp-HL2F7YQ3XH.0/build/default-honeycrisp-HL2F7YQ3XH-0/julialang/julia-release-1-dot-11/usr/share/julia/stdlib/v1.11/SparseArrays/src/sparsevector.jl\" target=\"_blank\">/Users/uqjnazar/.julia/juliaup/julia-1.11.5+0.aarch64.apple.darwin14/share/julia/stdlib/v1.11/SparseArrays/src/sparsevector.jl:1375</a></li> <li> *(Q::<b>LinearAlgebra.AdjointQ{<:Any, <:LinearAlgebra.LQPackedQ}</b>, B::<b>SparseArrays.AbstractSparseVector</b>) in SparseArrays at <a href=\"file:///Users/julia/.julia/scratchspaces/a66863c6-20e8-4ff4-8a62-49f30b1f605e/agent-cache/default-honeycrisp-HL2F7YQ3XH.0/build/default-honeycrisp-HL2F7YQ3XH-0/julialang/julia-release-1-dot-11/usr/share/julia/stdlib/v1.11/SparseArrays/src/sparsevector.jl\" target=\"_blank\">/Users/uqjnazar/.julia/juliaup/julia-1.11.5+0.aarch64.apple.darwin14/share/julia/stdlib/v1.11/SparseArrays/src/sparsevector.jl:1375</a></li> <li> *(Q::<b>Union{LinearAlgebra.HessenbergQ, LinearAlgebra.QRCompactWYQ, LinearAlgebra.QRPackedQ}</b>, B::<b>SparseArrays.AbstractSparseVector</b>) in SparseArrays at <a href=\"file:///Users/julia/.julia/scratchspaces/a66863c6-20e8-4ff4-8a62-49f30b1f605e/agent-cache/default-honeycrisp-HL2F7YQ3XH.0/build/default-honeycrisp-HL2F7YQ3XH-0/julialang/julia-release-1-dot-11/usr/share/julia/stdlib/v1.11/SparseArrays/src/sparsevector.jl\" target=\"_blank\">/Users/uqjnazar/.julia/juliaup/julia-1.11.5+0.aarch64.apple.darwin14/share/julia/stdlib/v1.11/SparseArrays/src/sparsevector.jl:1374</a></li> <li> *(Q::<b>LinearAlgebra.AbstractQ</b>, B::<b>AbstractVector</b>) in LinearAlgebra at <a href=\"file:///Users/julia/.julia/scratchspaces/a66863c6-20e8-4ff4-8a62-49f30b1f605e/agent-cache/default-honeycrisp-HL2F7YQ3XH.0/build/default-honeycrisp-HL2F7YQ3XH-0/julialang/julia-release-1-dot-11/usr/share/julia/stdlib/v1.11/LinearAlgebra/src/abstractq.jl\" target=\"_blank\">/Users/uqjnazar/.julia/juliaup/julia-1.11.5+0.aarch64.apple.darwin14/share/julia/stdlib/v1.11/LinearAlgebra/src/abstractq.jl:180</a></li> <li> *(Q::<b>LinearAlgebra.AbstractQ</b>, b::<b>Number</b>) in LinearAlgebra at <a href=\"file:///Users/julia/.julia/scratchspaces/a66863c6-20e8-4ff4-8a62-49f30b1f605e/agent-cache/default-honeycrisp-HL2F7YQ3XH.0/build/default-honeycrisp-HL2F7YQ3XH-0/julialang/julia-release-1-dot-11/usr/share/julia/stdlib/v1.11/LinearAlgebra/src/abstractq.jl\" target=\"_blank\">/Users/uqjnazar/.julia/juliaup/julia-1.11.5+0.aarch64.apple.darwin14/share/julia/stdlib/v1.11/LinearAlgebra/src/abstractq.jl:176</a></li> <li> *(Q::<b>LinearAlgebra.AbstractQ</b>, J::<b>LinearAlgebra.UniformScaling</b>) in LinearAlgebra at <a href=\"file:///Users/julia/.julia/scratchspaces/a66863c6-20e8-4ff4-8a62-49f30b1f605e/agent-cache/default-honeycrisp-HL2F7YQ3XH.0/build/default-honeycrisp-HL2F7YQ3XH-0/julialang/julia-release-1-dot-11/usr/share/julia/stdlib/v1.11/LinearAlgebra/src/abstractq.jl\" target=\"_blank\">/Users/uqjnazar/.julia/juliaup/julia-1.11.5+0.aarch64.apple.darwin14/share/julia/stdlib/v1.11/LinearAlgebra/src/abstractq.jl:175</a></li> <li> *(Q::<b>LinearAlgebra.AbstractQ{<:Number}</b>) in LinearAlgebra at <a href=\"file:///Users/julia/.julia/scratchspaces/a66863c6-20e8-4ff4-8a62-49f30b1f605e/agent-cache/default-honeycrisp-HL2F7YQ3XH.0/build/default-honeycrisp-HL2F7YQ3XH-0/julialang/julia-release-1-dot-11/usr/share/julia/stdlib/v1.11/LinearAlgebra/src/abstractq.jl\" target=\"_blank\">/Users/uqjnazar/.julia/juliaup/julia-1.11.5+0.aarch64.apple.darwin14/share/julia/stdlib/v1.11/LinearAlgebra/src/abstractq.jl:173</a></li> <li> *(a::<b>Integer</b>, index::<b>CartesianIndex{N}</b>)<i> where N</i> in Base.IteratorsMD at <a href=\"https://github.com/JuliaLang/julia/tree/760b2e5b7396f9cc0da5efce0cadd5d1974c4069/base/multidimensional.jl#L129\" target=\"_blank\">multidimensional.jl:129</a></li> <li> *(r::<b>AbstractRange{<:Real}</b>, x::<b>Dates.Period</b>) in Dates at <a href=\"file:///Users/julia/.julia/scratchspaces/a66863c6-20e8-4ff4-8a62-49f30b1f605e/agent-cache/default-honeycrisp-HL2F7YQ3XH.0/build/default-honeycrisp-HL2F7YQ3XH-0/julialang/julia-release-1-dot-11/usr/share/julia/stdlib/v1.11/Dates/src/ranges.jl\" target=\"_blank\">/Users/uqjnazar/.julia/juliaup/julia-1.11.5+0.aarch64.apple.darwin14/share/julia/stdlib/v1.11/Dates/src/ranges.jl:68</a></li> <li> *(A::<b>LinearAlgebra.LQ{TA, S, C} where {S<:AbstractMatrix{TA}, C<:AbstractVector{TA}}</b>, B::<b>AbstractVecOrMat{TB}</b>)<i> where {TA, TB}</i> in LinearAlgebra at <a href=\"file:///Users/julia/.julia/scratchspaces/a66863c6-20e8-4ff4-8a62-49f30b1f605e/agent-cache/default-honeycrisp-HL2F7YQ3XH.0/build/default-honeycrisp-HL2F7YQ3XH-0/julialang/julia-release-1-dot-11/usr/share/julia/stdlib/v1.11/LinearAlgebra/src/lq.jl\" target=\"_blank\">/Users/uqjnazar/.julia/juliaup/julia-1.11.5+0.aarch64.apple.darwin14/share/julia/stdlib/v1.11/LinearAlgebra/src/lq.jl:167</a></li> <li> *(G::<b>LinearAlgebra.Givens{S}</b>, R::<b>LinearAlgebra.Rotation{T}</b>)<i> where {S, T}</i> in LinearAlgebra at <a href=\"file:///Users/julia/.julia/scratchspaces/a66863c6-20e8-4ff4-8a62-49f30b1f605e/agent-cache/default-honeycrisp-HL2F7YQ3XH.0/build/default-honeycrisp-HL2F7YQ3XH-0/julialang/julia-release-1-dot-11/usr/share/julia/stdlib/v1.11/LinearAlgebra/src/givens.jl\" target=\"_blank\">/Users/uqjnazar/.julia/juliaup/julia-1.11.5+0.aarch64.apple.darwin14/share/julia/stdlib/v1.11/LinearAlgebra/src/givens.jl:422</a></li> <li> *(G1::<b>LinearAlgebra.Givens{S}</b>, G2::<b>LinearAlgebra.Givens{T}</b>)<i> where {S, T}</i> in LinearAlgebra at <a href=\"file:///Users/julia/.julia/scratchspaces/a66863c6-20e8-4ff4-8a62-49f30b1f605e/agent-cache/default-honeycrisp-HL2F7YQ3XH.0/build/default-honeycrisp-HL2F7YQ3XH-0/julialang/julia-release-1-dot-11/usr/share/julia/stdlib/v1.11/LinearAlgebra/src/givens.jl\" target=\"_blank\">/Users/uqjnazar/.julia/juliaup/julia-1.11.5+0.aarch64.apple.darwin14/share/julia/stdlib/v1.11/LinearAlgebra/src/givens.jl:415</a></li> <li> *(G::<b>LinearAlgebra.Givens{T}</b>, Gs::<b>LinearAlgebra.Givens{T}...</b>)<i> where T</i> in LinearAlgebra at <a href=\"file:///Users/julia/.julia/scratchspaces/a66863c6-20e8-4ff4-8a62-49f30b1f605e/agent-cache/default-honeycrisp-HL2F7YQ3XH.0/build/default-honeycrisp-HL2F7YQ3XH-0/julialang/julia-release-1-dot-11/usr/share/julia/stdlib/v1.11/LinearAlgebra/src/givens.jl\" target=\"_blank\">/Users/uqjnazar/.julia/juliaup/julia-1.11.5+0.aarch64.apple.darwin14/share/julia/stdlib/v1.11/LinearAlgebra/src/givens.jl:419</a></li> <li> *(A::<b>LinearAlgebra.SymTridiagonal</b>, B::<b>LinearAlgebra.Diagonal</b>) in LinearAlgebra at <a href=\"file:///Users/julia/.julia/scratchspaces/a66863c6-20e8-4ff4-8a62-49f30b1f605e/agent-cache/default-honeycrisp-HL2F7YQ3XH.0/build/default-honeycrisp-HL2F7YQ3XH-0/julialang/julia-release-1-dot-11/usr/share/julia/stdlib/v1.11/LinearAlgebra/src/bidiag.jl\" target=\"_blank\">/Users/uqjnazar/.julia/juliaup/julia-1.11.5+0.aarch64.apple.darwin14/share/julia/stdlib/v1.11/LinearAlgebra/src/bidiag.jl:794</a></li> <li> *(A::<b>LinearAlgebra.SymTridiagonal</b>, B::<b>Number</b>) in LinearAlgebra at <a href=\"file:///Users/julia/.julia/scratchspaces/a66863c6-20e8-4ff4-8a62-49f30b1f605e/agent-cache/default-honeycrisp-HL2F7YQ3XH.0/build/default-honeycrisp-HL2F7YQ3XH-0/julialang/julia-release-1-dot-11/usr/share/julia/stdlib/v1.11/LinearAlgebra/src/tridiag.jl\" target=\"_blank\">/Users/uqjnazar/.julia/juliaup/julia-1.11.5+0.aarch64.apple.darwin14/share/julia/stdlib/v1.11/LinearAlgebra/src/tridiag.jl:218</a></li> <li> *(J::<b>LinearAlgebra.UniformScaling</b>, Q::<b>LinearAlgebra.AbstractQ</b>) in LinearAlgebra at <a href=\"file:///Users/julia/.julia/scratchspaces/a66863c6-20e8-4ff4-8a62-49f30b1f605e/agent-cache/default-honeycrisp-HL2F7YQ3XH.0/build/default-honeycrisp-HL2F7YQ3XH-0/julialang/julia-release-1-dot-11/usr/share/julia/stdlib/v1.11/LinearAlgebra/src/abstractq.jl\" target=\"_blank\">/Users/uqjnazar/.julia/juliaup/julia-1.11.5+0.aarch64.apple.darwin14/share/julia/stdlib/v1.11/LinearAlgebra/src/abstractq.jl:191</a></li> <li> *(x::<b>LinearAlgebra.UniformScaling</b>, H::<b>LinearAlgebra.UpperHessenberg</b>) in LinearAlgebra at <a href=\"file:///Users/julia/.julia/scratchspaces/a66863c6-20e8-4ff4-8a62-49f30b1f605e/agent-cache/default-honeycrisp-HL2F7YQ3XH.0/build/default-honeycrisp-HL2F7YQ3XH-0/julialang/julia-release-1-dot-11/usr/share/julia/stdlib/v1.11/LinearAlgebra/src/hessenberg.jl\" target=\"_blank\">/Users/uqjnazar/.julia/juliaup/julia-1.11.5+0.aarch64.apple.darwin14/share/julia/stdlib/v1.11/LinearAlgebra/src/hessenberg.jl:129</a></li> <li> *(J::<b>LinearAlgebra.UniformScaling</b>, x::<b>Number</b>) in LinearAlgebra at <a href=\"file:///Users/julia/.julia/scratchspaces/a66863c6-20e8-4ff4-8a62-49f30b1f605e/agent-cache/default-honeycrisp-HL2F7YQ3XH.0/build/default-honeycrisp-HL2F7YQ3XH-0/julialang/julia-release-1-dot-11/usr/share/julia/stdlib/v1.11/LinearAlgebra/src/uniformscaling.jl\" target=\"_blank\">/Users/uqjnazar/.julia/juliaup/julia-1.11.5+0.aarch64.apple.darwin14/share/julia/stdlib/v1.11/LinearAlgebra/src/uniformscaling.jl:264</a></li> <li> *(J::<b>LinearAlgebra.UniformScaling</b>, B::<b>BitMatrix</b>) in LinearAlgebra at <a href=\"file:///Users/julia/.julia/scratchspaces/a66863c6-20e8-4ff4-8a62-49f30b1f605e/agent-cache/default-honeycrisp-HL2F7YQ3XH.0/build/default-honeycrisp-HL2F7YQ3XH-0/julialang/julia-release-1-dot-11/usr/share/julia/stdlib/v1.11/LinearAlgebra/src/uniformscaling.jl\" target=\"_blank\">/Users/uqjnazar/.julia/juliaup/julia-1.11.5+0.aarch64.apple.darwin14/share/julia/stdlib/v1.11/LinearAlgebra/src/uniformscaling.jl:259</a></li> <li> *(J::<b>LinearAlgebra.UniformScaling</b>, A::<b>AbstractVecOrMat</b>) in LinearAlgebra at <a href=\"file:///Users/julia/.julia/scratchspaces/a66863c6-20e8-4ff4-8a62-49f30b1f605e/agent-cache/default-honeycrisp-HL2F7YQ3XH.0/build/default-honeycrisp-HL2F7YQ3XH-0/julialang/julia-release-1-dot-11/usr/share/julia/stdlib/v1.11/LinearAlgebra/src/uniformscaling.jl\" target=\"_blank\">/Users/uqjnazar/.julia/juliaup/julia-1.11.5+0.aarch64.apple.darwin14/share/julia/stdlib/v1.11/LinearAlgebra/src/uniformscaling.jl:262</a></li> <li> *(J1::<b>LinearAlgebra.UniformScaling</b>, J2::<b>LinearAlgebra.UniformScaling</b>) in LinearAlgebra at <a href=\"file:///Users/julia/.julia/scratchspaces/a66863c6-20e8-4ff4-8a62-49f30b1f605e/agent-cache/default-honeycrisp-HL2F7YQ3XH.0/build/default-honeycrisp-HL2F7YQ3XH-0/julialang/julia-release-1-dot-11/usr/share/julia/stdlib/v1.11/LinearAlgebra/src/uniformscaling.jl\" target=\"_blank\">/Users/uqjnazar/.julia/juliaup/julia-1.11.5+0.aarch64.apple.darwin14/share/julia/stdlib/v1.11/LinearAlgebra/src/uniformscaling.jl:257</a></li> <li> *(A::<b>LinearAlgebra.UnitLowerTriangular</b>, B::<b>LinearAlgebra.UnitLowerTriangular</b>) in LinearAlgebra at <a href=\"file:///Users/julia/.julia/scratchspaces/a66863c6-20e8-4ff4-8a62-49f30b1f605e/agent-cache/default-honeycrisp-HL2F7YQ3XH.0/build/default-honeycrisp-HL2F7YQ3XH-0/julialang/julia-release-1-dot-11/usr/share/julia/stdlib/v1.11/LinearAlgebra/src/triangular.jl\" target=\"_blank\">/Users/uqjnazar/.julia/juliaup/julia-1.11.5+0.aarch64.apple.darwin14/share/julia/stdlib/v1.11/LinearAlgebra/src/triangular.jl:1747</a></li> <li> *(A::<b>LinearAlgebra.UnitLowerTriangular</b>, B::<b>LinearAlgebra.LowerTriangular</b>) in LinearAlgebra at <a href=\"file:///Users/julia/.julia/scratchspaces/a66863c6-20e8-4ff4-8a62-49f30b1f605e/agent-cache/default-honeycrisp-HL2F7YQ3XH.0/build/default-honeycrisp-HL2F7YQ3XH-0/julialang/julia-release-1-dot-11/usr/share/julia/stdlib/v1.11/LinearAlgebra/src/triangular.jl\" target=\"_blank\">/Users/uqjnazar/.julia/juliaup/julia-1.11.5+0.aarch64.apple.darwin14/share/julia/stdlib/v1.11/LinearAlgebra/src/triangular.jl:1745</a></li> <li> *(A::<b>LinearAlgebra.UnitLowerTriangular</b>, x::<b>Number</b>) in LinearAlgebra at <a href=\"file:///Users/julia/.julia/scratchspaces/a66863c6-20e8-4ff4-8a62-49f30b1f605e/agent-cache/default-honeycrisp-HL2F7YQ3XH.0/build/default-honeycrisp-HL2F7YQ3XH-0/julialang/julia-release-1-dot-11/usr/share/julia/stdlib/v1.11/LinearAlgebra/src/triangular.jl\" target=\"_blank\">/Users/uqjnazar/.julia/juliaup/julia-1.11.5+0.aarch64.apple.darwin14/share/julia/stdlib/v1.11/LinearAlgebra/src/triangular.jl:1104</a></li> <li> *(A::<b>SparseArrays.AbstractSparseMatrixCSC</b>, Q::<b>Union{LinearAlgebra.HessenbergQ, LinearAlgebra.QRCompactWYQ, LinearAlgebra.QRPackedQ}</b>) in SparseArrays at <a href=\"file:///Users/julia/.julia/scratchspaces/a66863c6-20e8-4ff4-8a62-49f30b1f605e/agent-cache/default-honeycrisp-HL2F7YQ3XH.0/build/default-honeycrisp-HL2F7YQ3XH-0/julialang/julia-release-1-dot-11/usr/share/julia/stdlib/v1.11/SparseArrays/src/sparsematrix.jl\" target=\"_blank\">/Users/uqjnazar/.julia/juliaup/julia-1.11.5+0.aarch64.apple.darwin14/share/julia/stdlib/v1.11/SparseArrays/src/sparsematrix.jl:493</a></li> <li> *(A::<b>Union{LinearAlgebra.Adjoint{var\"#s31\", var\"#s30\"}, LinearAlgebra.Transpose{var\"#s31\", var\"#s30\"}} where {var\"#s31\", var\"#s30\"<:SparseArrays.AbstractSparseMatrixCSC}</b>, Q::<b>Union{LinearAlgebra.HessenbergQ, LinearAlgebra.QRCompactWYQ, LinearAlgebra.QRPackedQ}</b>) in SparseArrays at <a href=\"file:///Users/julia/.julia/scratchspaces/a66863c6-20e8-4ff4-8a62-49f30b1f605e/agent-cache/default-honeycrisp-HL2F7YQ3XH.0/build/default-honeycrisp-HL2F7YQ3XH-0/julialang/julia-release-1-dot-11/usr/share/julia/stdlib/v1.11/SparseArrays/src/sparsematrix.jl\" target=\"_blank\">/Users/uqjnazar/.julia/juliaup/julia-1.11.5+0.aarch64.apple.darwin14/share/julia/stdlib/v1.11/SparseArrays/src/sparsematrix.jl:494</a></li> <li> *(A::<b>Union{LinearAlgebra.Adjoint{var\"#s31\", var\"#s30\"}, LinearAlgebra.Transpose{var\"#s31\", var\"#s30\"}} where {var\"#s31\", var\"#s30\"<:SparseArrays.AbstractSparseMatrixCSC}</b>, Q::<b>LinearAlgebra.LQPackedQ</b>) in SparseArrays at <a href=\"file:///Users/julia/.julia/scratchspaces/a66863c6-20e8-4ff4-8a62-49f30b1f605e/agent-cache/default-honeycrisp-HL2F7YQ3XH.0/build/default-honeycrisp-HL2F7YQ3XH-0/julialang/julia-release-1-dot-11/usr/share/julia/stdlib/v1.11/SparseArrays/src/sparsematrix.jl\" target=\"_blank\">/Users/uqjnazar/.julia/juliaup/julia-1.11.5+0.aarch64.apple.darwin14/share/julia/stdlib/v1.11/SparseArrays/src/sparsematrix.jl:494</a></li> <li> *(A::<b>SparseArrays.AbstractSparseMatrixCSC</b>, Q::<b>LinearAlgebra.AdjointQ{<:Any, <:Union{LinearAlgebra.HessenbergQ, LinearAlgebra.QRCompactWYQ, LinearAlgebra.QRPackedQ}}</b>) in SparseArrays at <a href=\"file:///Users/julia/.julia/scratchspaces/a66863c6-20e8-4ff4-8a62-49f30b1f605e/agent-cache/default-honeycrisp-HL2F7YQ3XH.0/build/default-honeycrisp-HL2F7YQ3XH-0/julialang/julia-release-1-dot-11/usr/share/julia/stdlib/v1.11/SparseArrays/src/sparsematrix.jl\" target=\"_blank\">/Users/uqjnazar/.julia/juliaup/julia-1.11.5+0.aarch64.apple.darwin14/share/julia/stdlib/v1.11/SparseArrays/src/sparsematrix.jl:498</a></li> <li> *(A::<b>SparseArrays.AbstractSparseMatrixCSC</b>, Q::<b>LinearAlgebra.AdjointQ{<:Any, <:LinearAlgebra.LQPackedQ}</b>) in SparseArrays at <a href=\"file:///Users/julia/.julia/scratchspaces/a66863c6-20e8-4ff4-8a62-49f30b1f605e/agent-cache/default-honeycrisp-HL2F7YQ3XH.0/build/default-honeycrisp-HL2F7YQ3XH-0/julialang/julia-release-1-dot-11/usr/share/julia/stdlib/v1.11/SparseArrays/src/sparsematrix.jl\" target=\"_blank\">/Users/uqjnazar/.julia/juliaup/julia-1.11.5+0.aarch64.apple.darwin14/share/julia/stdlib/v1.11/SparseArrays/src/sparsematrix.jl:498</a></li> <li> *(A::<b>AbstractMatrix</b>, adjQ::<b>LinearAlgebra.AdjointQ{<:Any, <:SparseArrays.SPQR.QRSparseQ}</b>) in SparseArrays.SPQR at <a href=\"file:///Users/julia/.julia/scratchspaces/a66863c6-20e8-4ff4-8a62-49f30b1f605e/agent-cache/default-honeycrisp-HL2F7YQ3XH.0/build/default-honeycrisp-HL2F7YQ3XH-0/julialang/julia-release-1-dot-11/usr/share/julia/stdlib/v1.11/SparseArrays/src/solvers/spqr.jl\" target=\"_blank\">/Users/uqjnazar/.julia/juliaup/julia-1.11.5+0.aarch64.apple.darwin14/share/julia/stdlib/v1.11/SparseArrays/src/solvers/spqr.jl:322</a></li> <li> *(u::<b>LinearAlgebra.Adjoint{T, <:AbstractVector} where T</b>, Q::<b>LinearAlgebra.AdjointQ{<:Any, <:SparseArrays.SPQR.QRSparseQ}</b>) in SparseArrays.SPQR at <a href=\"file:///Users/julia/.julia/scratchspaces/a66863c6-20e8-4ff4-8a62-49f30b1f605e/agent-cache/default-honeycrisp-HL2F7YQ3XH.0/build/default-honeycrisp-HL2F7YQ3XH-0/julialang/julia-release-1-dot-11/usr/share/julia/stdlib/v1.11/SparseArrays/src/solvers/spqr.jl\" target=\"_blank\">/Users/uqjnazar/.julia/juliaup/julia-1.11.5+0.aarch64.apple.darwin14/share/julia/stdlib/v1.11/SparseArrays/src/solvers/spqr.jl:335</a></li> <li> *(A::<b>Union{LinearAlgebra.Adjoint{var\"#s31\", var\"#s30\"}, LinearAlgebra.Transpose{var\"#s31\", var\"#s30\"}} where {var\"#s31\", var\"#s30\"<:SparseArrays.AbstractSparseMatrixCSC}</b>, Q::<b>LinearAlgebra.AdjointQ{<:Any, <:Union{LinearAlgebra.HessenbergQ, LinearAlgebra.QRCompactWYQ, LinearAlgebra.QRPackedQ}}</b>) in SparseArrays at <a href=\"file:///Users/julia/.julia/scratchspaces/a66863c6-20e8-4ff4-8a62-49f30b1f605e/agent-cache/default-honeycrisp-HL2F7YQ3XH.0/build/default-honeycrisp-HL2F7YQ3XH-0/julialang/julia-release-1-dot-11/usr/share/julia/stdlib/v1.11/SparseArrays/src/sparsematrix.jl\" target=\"_blank\">/Users/uqjnazar/.julia/juliaup/julia-1.11.5+0.aarch64.apple.darwin14/share/julia/stdlib/v1.11/SparseArrays/src/sparsematrix.jl:499</a></li> <li> *(A::<b>Union{LinearAlgebra.Adjoint{var\"#s31\", var\"#s30\"}, LinearAlgebra.Transpose{var\"#s31\", var\"#s30\"}} where {var\"#s31\", var\"#s30\"<:SparseArrays.AbstractSparseMatrixCSC}</b>, Q::<b>LinearAlgebra.AdjointQ{<:Any, <:LinearAlgebra.LQPackedQ}</b>) in SparseArrays at <a href=\"file:///Users/julia/.julia/scratchspaces/a66863c6-20e8-4ff4-8a62-49f30b1f605e/agent-cache/default-honeycrisp-HL2F7YQ3XH.0/build/default-honeycrisp-HL2F7YQ3XH-0/julialang/julia-release-1-dot-11/usr/share/julia/stdlib/v1.11/SparseArrays/src/sparsematrix.jl\" target=\"_blank\">/Users/uqjnazar/.julia/juliaup/julia-1.11.5+0.aarch64.apple.darwin14/share/julia/stdlib/v1.11/SparseArrays/src/sparsematrix.jl:499</a></li> <li> *(u::<b>LinearAlgebra.Adjoint{T, <:AbstractVector} where T</b>, Q::<b>LinearAlgebra.AbstractQ</b>) in LinearAlgebra at <a href=\"file:///Users/julia/.julia/scratchspaces/a66863c6-20e8-4ff4-8a62-49f30b1f605e/agent-cache/default-honeycrisp-HL2F7YQ3XH.0/build/default-honeycrisp-HL2F7YQ3XH-0/julialang/julia-release-1-dot-11/usr/share/julia/stdlib/v1.11/LinearAlgebra/src/abstractq.jl\" target=\"_blank\">/Users/uqjnazar/.julia/juliaup/julia-1.11.5+0.aarch64.apple.darwin14/share/julia/stdlib/v1.11/LinearAlgebra/src/abstractq.jl:206</a></li> <li> *(A::<b>SparseArrays.AbstractSparseMatrixCSC</b>, Q::<b>LinearAlgebra.LQPackedQ</b>) in SparseArrays at <a href=\"file:///Users/julia/.julia/scratchspaces/a66863c6-20e8-4ff4-8a62-49f30b1f605e/agent-cache/default-honeycrisp-HL2F7YQ3XH.0/build/default-honeycrisp-HL2F7YQ3XH-0/julialang/julia-release-1-dot-11/usr/share/julia/stdlib/v1.11/SparseArrays/src/sparsematrix.jl\" target=\"_blank\">/Users/uqjnazar/.julia/juliaup/julia-1.11.5+0.aarch64.apple.darwin14/share/julia/stdlib/v1.11/SparseArrays/src/sparsematrix.jl:493</a></li> <li> *(A::<b>SparseArrays.AbstractSparseMatrixCSC</b>, x::<b>SparseArrays.AbstractSparseVector</b>) in SparseArrays at <a href=\"file:///Users/julia/.julia/scratchspaces/a66863c6-20e8-4ff4-8a62-49f30b1f605e/agent-cache/default-honeycrisp-HL2F7YQ3XH.0/build/default-honeycrisp-HL2F7YQ3XH-0/julialang/julia-release-1-dot-11/usr/share/julia/stdlib/v1.11/SparseArrays/src/sparsevector.jl\" target=\"_blank\">/Users/uqjnazar/.julia/juliaup/julia-1.11.5+0.aarch64.apple.darwin14/share/julia/stdlib/v1.11/SparseArrays/src/sparsevector.jl:2071</a></li> <li> *(a::<b>ColorVectorSpace.RGBRGB</b>, α::<b>Real</b>) in ColorVectorSpace at <a href=\"file:///Users/uqjnazar/.julia/packages/ColorVectorSpace/JXxVe/src/ColorVectorSpace.jl\" target=\"_blank\">/Users/uqjnazar/.julia/packages/ColorVectorSpace/JXxVe/src/ColorVectorSpace.jl:422</a></li> <li> *(p::<b>SpecialFunctions.SimplePoly{S}</b>, q::<b>SpecialFunctions.SimplePoly{T}</b>)<i> where {S, T}</i> in SpecialFunctions at <a href=\"file:///Users/uqjnazar/.julia/packages/SpecialFunctions/mf0qH/src/expint.jl\" target=\"_blank\">/Users/uqjnazar/.julia/packages/SpecialFunctions/mf0qH/src/expint.jl:22</a></li> <li> *(p::<b>SpecialFunctions.SimplePoly</b>, c) in SpecialFunctions at <a href=\"file:///Users/uqjnazar/.julia/packages/SpecialFunctions/mf0qH/src/expint.jl\" target=\"_blank\">/Users/uqjnazar/.julia/packages/SpecialFunctions/mf0qH/src/expint.jl:8</a></li> <li> *(c, p::<b>SpecialFunctions.SimplePoly</b>) in SpecialFunctions at <a href=\"file:///Users/uqjnazar/.julia/packages/SpecialFunctions/mf0qH/src/expint.jl\" target=\"_blank\">/Users/uqjnazar/.julia/packages/SpecialFunctions/mf0qH/src/expint.jl:9</a></li> <li> *(a::<b>NTuple{N, Measures.Measure} where N</b>, b::<b>Number</b>) in Measures at <a href=\"file:///Users/uqjnazar/.julia/packages/Measures/PKOxJ/src/point.jl\" target=\"_blank\">/Users/uqjnazar/.julia/packages/Measures/PKOxJ/src/point.jl:18</a></li> <li> *(A::<b>SparseArrays.CHOLMOD.Sparse</b>, B::<b>SparseArrays.CHOLMOD.Sparse</b>) in SparseArrays.CHOLMOD at <a href=\"file:///Users/julia/.julia/scratchspaces/a66863c6-20e8-4ff4-8a62-49f30b1f605e/agent-cache/default-honeycrisp-HL2F7YQ3XH.0/build/default-honeycrisp-HL2F7YQ3XH-0/julialang/julia-release-1-dot-11/usr/share/julia/stdlib/v1.11/SparseArrays/src/solvers/cholmod.jl\" target=\"_blank\">/Users/uqjnazar/.julia/juliaup/julia-1.11.5+0.aarch64.apple.darwin14/share/julia/stdlib/v1.11/SparseArrays/src/solvers/cholmod.jl:1378</a></li> <li> *(A::<b>SparseArrays.CHOLMOD.Sparse</b>, B::<b>SparseArrays.CHOLMOD.Dense</b>) in SparseArrays.CHOLMOD at <a href=\"file:///Users/julia/.julia/scratchspaces/a66863c6-20e8-4ff4-8a62-49f30b1f605e/agent-cache/default-honeycrisp-HL2F7YQ3XH.0/build/default-honeycrisp-HL2F7YQ3XH-0/julialang/julia-release-1-dot-11/usr/share/julia/stdlib/v1.11/SparseArrays/src/solvers/cholmod.jl\" target=\"_blank\">/Users/uqjnazar/.julia/juliaup/julia-1.11.5+0.aarch64.apple.darwin14/share/julia/stdlib/v1.11/SparseArrays/src/solvers/cholmod.jl:1379</a></li> <li> *(A::<b>SparseArrays.CHOLMOD.Sparse</b>, B::<b>VecOrMat</b>) in SparseArrays.CHOLMOD at <a href=\"file:///Users/julia/.julia/scratchspaces/a66863c6-20e8-4ff4-8a62-49f30b1f605e/agent-cache/default-honeycrisp-HL2F7YQ3XH.0/build/default-honeycrisp-HL2F7YQ3XH-0/julialang/julia-release-1-dot-11/usr/share/julia/stdlib/v1.11/SparseArrays/src/solvers/cholmod.jl\" target=\"_blank\">/Users/uqjnazar/.julia/juliaup/julia-1.11.5+0.aarch64.apple.darwin14/share/julia/stdlib/v1.11/SparseArrays/src/solvers/cholmod.jl:1382</a></li> <li> *(A::<b>SparseArrays.CHOLMOD.Sparse{Tv, Ti}</b>, adjB::<b>LinearAlgebra.Adjoint{Tv, SparseArrays.CHOLMOD.Sparse{Tv, Ti}}</b>)<i> where {Tv<:Union{Float32, Float64}, Ti}</i> in SparseArrays.CHOLMOD at <a href=\"file:///Users/julia/.julia/scratchspaces/a66863c6-20e8-4ff4-8a62-49f30b1f605e/agent-cache/default-honeycrisp-HL2F7YQ3XH.0/build/default-honeycrisp-HL2F7YQ3XH-0/julialang/julia-release-1-dot-11/usr/share/julia/stdlib/v1.11/SparseArrays/src/solvers/cholmod.jl\" target=\"_blank\">/Users/uqjnazar/.julia/juliaup/julia-1.11.5+0.aarch64.apple.darwin14/share/julia/stdlib/v1.11/SparseArrays/src/solvers/cholmod.jl:1384</a></li> <li> *(A::<b>SparseArrays.SparseMatrixCSC</b>, Q::<b>SparseArrays.SPQR.QRSparseQ</b>) in SparseArrays.SPQR at <a href=\"file:///Users/julia/.julia/scratchspaces/a66863c6-20e8-4ff4-8a62-49f30b1f605e/agent-cache/default-honeycrisp-HL2F7YQ3XH.0/build/default-honeycrisp-HL2F7YQ3XH-0/julialang/julia-release-1-dot-11/usr/share/julia/stdlib/v1.11/SparseArrays/src/solvers/spqr.jl\" target=\"_blank\">/Users/uqjnazar/.julia/juliaup/julia-1.11.5+0.aarch64.apple.darwin14/share/julia/stdlib/v1.11/SparseArrays/src/solvers/spqr.jl:338</a></li> <li> *(Da::<b>LinearAlgebra.Diagonal</b>, Db::<b>LinearAlgebra.Diagonal</b>) in LinearAlgebra at <a href=\"file:///Users/julia/.julia/scratchspaces/a66863c6-20e8-4ff4-8a62-49f30b1f605e/agent-cache/default-honeycrisp-HL2F7YQ3XH.0/build/default-honeycrisp-HL2F7YQ3XH-0/julialang/julia-release-1-dot-11/usr/share/julia/stdlib/v1.11/LinearAlgebra/src/diagonal.jl\" target=\"_blank\">/Users/uqjnazar/.julia/juliaup/julia-1.11.5+0.aarch64.apple.darwin14/share/julia/stdlib/v1.11/LinearAlgebra/src/diagonal.jl:288</a></li> <li> *(Da::<b>LinearAlgebra.Diagonal</b>, Db::<b>LinearAlgebra.Diagonal</b>, Dc::<b>LinearAlgebra.Diagonal</b>) in LinearAlgebra at <a href=\"file:///Users/julia/.julia/scratchspaces/a66863c6-20e8-4ff4-8a62-49f30b1f605e/agent-cache/default-honeycrisp-HL2F7YQ3XH.0/build/default-honeycrisp-HL2F7YQ3XH-0/julialang/julia-release-1-dot-11/usr/share/julia/stdlib/v1.11/LinearAlgebra/src/diagonal.jl\" target=\"_blank\">/Users/uqjnazar/.julia/juliaup/julia-1.11.5+0.aarch64.apple.darwin14/share/julia/stdlib/v1.11/LinearAlgebra/src/diagonal.jl:445</a></li> <li> *(D::<b>LinearAlgebra.Diagonal</b>, x::<b>Number</b>) in LinearAlgebra at <a href=\"file:///Users/julia/.julia/scratchspaces/a66863c6-20e8-4ff4-8a62-49f30b1f605e/agent-cache/default-honeycrisp-HL2F7YQ3XH.0/build/default-honeycrisp-HL2F7YQ3XH-0/julialang/julia-release-1-dot-11/usr/share/julia/stdlib/v1.11/LinearAlgebra/src/diagonal.jl\" target=\"_blank\">/Users/uqjnazar/.julia/juliaup/julia-1.11.5+0.aarch64.apple.darwin14/share/julia/stdlib/v1.11/LinearAlgebra/src/diagonal.jl:254</a></li> <li> *(D::<b>LinearAlgebra.Diagonal</b>, A::<b>LinearAlgebra.UnitUpperTriangular</b>) in LinearAlgebra at <a href=\"file:///Users/julia/.julia/scratchspaces/a66863c6-20e8-4ff4-8a62-49f30b1f605e/agent-cache/default-honeycrisp-HL2F7YQ3XH.0/build/default-honeycrisp-HL2F7YQ3XH-0/julialang/julia-release-1-dot-11/usr/share/julia/stdlib/v1.11/LinearAlgebra/src/diagonal.jl\" target=\"_blank\">/Users/uqjnazar/.julia/juliaup/julia-1.11.5+0.aarch64.apple.darwin14/share/julia/stdlib/v1.11/LinearAlgebra/src/diagonal.jl:611</a></li> <li> *(A::<b>LinearAlgebra.Diagonal</b>, B::<b>LinearAlgebra.SymTridiagonal</b>) in LinearAlgebra at <a href=\"file:///Users/julia/.julia/scratchspaces/a66863c6-20e8-4ff4-8a62-49f30b1f605e/agent-cache/default-honeycrisp-HL2F7YQ3XH.0/build/default-honeycrisp-HL2F7YQ3XH-0/julialang/julia-release-1-dot-11/usr/share/julia/stdlib/v1.11/LinearAlgebra/src/bidiag.jl\" target=\"_blank\">/Users/uqjnazar/.julia/juliaup/julia-1.11.5+0.aarch64.apple.darwin14/share/julia/stdlib/v1.11/LinearAlgebra/src/bidiag.jl:788</a></li> <li> *(D::<b>LinearAlgebra.Diagonal</b>, A::<b>LinearAlgebra.UnitLowerTriangular</b>) in LinearAlgebra at <a href=\"file:///Users/julia/.julia/scratchspaces/a66863c6-20e8-4ff4-8a62-49f30b1f605e/agent-cache/default-honeycrisp-HL2F7YQ3XH.0/build/default-honeycrisp-HL2F7YQ3XH-0/julialang/julia-release-1-dot-11/usr/share/julia/stdlib/v1.11/LinearAlgebra/src/diagonal.jl\" target=\"_blank\">/Users/uqjnazar/.julia/juliaup/julia-1.11.5+0.aarch64.apple.darwin14/share/julia/stdlib/v1.11/LinearAlgebra/src/diagonal.jl:611</a></li> <li> *(D::<b>LinearAlgebra.Diagonal</b>, A::<b>LinearAlgebra.UpperTriangular</b>) in LinearAlgebra at <a href=\"file:///Users/julia/.julia/scratchspaces/a66863c6-20e8-4ff4-8a62-49f30b1f605e/agent-cache/default-honeycrisp-HL2F7YQ3XH.0/build/default-honeycrisp-HL2F7YQ3XH-0/julialang/julia-release-1-dot-11/usr/share/julia/stdlib/v1.11/LinearAlgebra/src/diagonal.jl\" target=\"_blank\">/Users/uqjnazar/.julia/juliaup/julia-1.11.5+0.aarch64.apple.darwin14/share/julia/stdlib/v1.11/LinearAlgebra/src/diagonal.jl:610</a></li> <li> *(x::<b>LinearAlgebra.Diagonal</b>, H::<b>LinearAlgebra.UpperHessenberg</b>) in LinearAlgebra at <a href=\"file:///Users/julia/.julia/scratchspaces/a66863c6-20e8-4ff4-8a62-49f30b1f605e/agent-cache/default-honeycrisp-HL2F7YQ3XH.0/build/default-honeycrisp-HL2F7YQ3XH-0/julialang/julia-release-1-dot-11/usr/share/julia/stdlib/v1.11/LinearAlgebra/src/hessenberg.jl\" target=\"_blank\">/Users/uqjnazar/.julia/juliaup/julia-1.11.5+0.aarch64.apple.darwin14/share/julia/stdlib/v1.11/LinearAlgebra/src/hessenberg.jl:129</a></li> <li> *(D::<b>LinearAlgebra.Diagonal</b>, V::<b>AbstractVector</b>) in LinearAlgebra at <a href=\"file:///Users/julia/.julia/scratchspaces/a66863c6-20e8-4ff4-8a62-49f30b1f605e/agent-cache/default-honeycrisp-HL2F7YQ3XH.0/build/default-honeycrisp-HL2F7YQ3XH-0/julialang/julia-release-1-dot-11/usr/share/julia/stdlib/v1.11/LinearAlgebra/src/diagonal.jl\" target=\"_blank\">/Users/uqjnazar/.julia/juliaup/julia-1.11.5+0.aarch64.apple.darwin14/share/julia/stdlib/v1.11/LinearAlgebra/src/diagonal.jl:293</a></li> <li> *(Da::<b>LinearAlgebra.Diagonal</b>, A::<b>AbstractMatrix</b>, Db::<b>LinearAlgebra.Diagonal</b>) in LinearAlgebra at <a href=\"file:///Users/julia/.julia/scratchspaces/a66863c6-20e8-4ff4-8a62-49f30b1f605e/agent-cache/default-honeycrisp-HL2F7YQ3XH.0/build/default-honeycrisp-HL2F7YQ3XH-0/julialang/julia-release-1-dot-11/usr/share/julia/stdlib/v1.11/LinearAlgebra/src/diagonal.jl\" target=\"_blank\">/Users/uqjnazar/.julia/juliaup/julia-1.11.5+0.aarch64.apple.darwin14/share/julia/stdlib/v1.11/LinearAlgebra/src/diagonal.jl:439</a></li> <li> *(D::<b>LinearAlgebra.Diagonal</b>, A::<b>LinearAlgebra.LowerTriangular</b>) in LinearAlgebra at <a href=\"file:///Users/julia/.julia/scratchspaces/a66863c6-20e8-4ff4-8a62-49f30b1f605e/agent-cache/default-honeycrisp-HL2F7YQ3XH.0/build/default-honeycrisp-HL2F7YQ3XH-0/julialang/julia-release-1-dot-11/usr/share/julia/stdlib/v1.11/LinearAlgebra/src/diagonal.jl\" target=\"_blank\">/Users/uqjnazar/.julia/juliaup/julia-1.11.5+0.aarch64.apple.darwin14/share/julia/stdlib/v1.11/LinearAlgebra/src/diagonal.jl:610</a></li> <li> *(D::<b>LinearAlgebra.Diagonal</b>, A::<b>LinearAlgebra.AbstractTriangular</b>) in LinearAlgebra at <a href=\"file:///Users/julia/.julia/scratchspaces/a66863c6-20e8-4ff4-8a62-49f30b1f605e/agent-cache/default-honeycrisp-HL2F7YQ3XH.0/build/default-honeycrisp-HL2F7YQ3XH-0/julialang/julia-release-1-dot-11/usr/share/julia/stdlib/v1.11/LinearAlgebra/src/diagonal.jl\" target=\"_blank\">/Users/uqjnazar/.julia/juliaup/julia-1.11.5+0.aarch64.apple.darwin14/share/julia/stdlib/v1.11/LinearAlgebra/src/diagonal.jl:958</a></li> <li> *(cscheme1::<b>ColorSchemes.ColorScheme</b>, cscheme2::<b>ColorSchemes.ColorScheme</b>) in ColorSchemes at <a href=\"file:///Users/uqjnazar/.julia/packages/ColorSchemes/cpITu/src/ColorSchemes.jl\" target=\"_blank\">/Users/uqjnazar/.julia/packages/ColorSchemes/cpITu/src/ColorSchemes.jl:408</a></li> <li> *(R::<b>LinearAlgebra.AbstractRotation</b>, A::<b>AbstractMatrix</b>) in LinearAlgebra at <a href=\"file:///Users/julia/.julia/scratchspaces/a66863c6-20e8-4ff4-8a62-49f30b1f605e/agent-cache/default-honeycrisp-HL2F7YQ3XH.0/build/default-honeycrisp-HL2F7YQ3XH-0/julialang/julia-release-1-dot-11/usr/share/julia/stdlib/v1.11/LinearAlgebra/src/givens.jl\" target=\"_blank\">/Users/uqjnazar/.julia/juliaup/julia-1.11.5+0.aarch64.apple.darwin14/share/julia/stdlib/v1.11/LinearAlgebra/src/givens.jl:13</a></li> <li> *(R::<b>LinearAlgebra.AbstractRotation</b>, A::<b>AbstractVector</b>) in LinearAlgebra at <a href=\"file:///Users/julia/.julia/scratchspaces/a66863c6-20e8-4ff4-8a62-49f30b1f605e/agent-cache/default-honeycrisp-HL2F7YQ3XH.0/build/default-honeycrisp-HL2F7YQ3XH-0/julialang/julia-release-1-dot-11/usr/share/julia/stdlib/v1.11/LinearAlgebra/src/givens.jl\" target=\"_blank\">/Users/uqjnazar/.julia/juliaup/julia-1.11.5+0.aarch64.apple.darwin14/share/julia/stdlib/v1.11/LinearAlgebra/src/givens.jl:12</a></li> <li> *(A::<b>LinearAlgebra.Tridiagonal</b>, B::<b>Number</b>) in LinearAlgebra at <a href=\"file:///Users/julia/.julia/scratchspaces/a66863c6-20e8-4ff4-8a62-49f30b1f605e/agent-cache/default-honeycrisp-HL2F7YQ3XH.0/build/default-honeycrisp-HL2F7YQ3XH-0/julialang/julia-release-1-dot-11/usr/share/julia/stdlib/v1.11/LinearAlgebra/src/tridiag.jl\" target=\"_blank\">/Users/uqjnazar/.julia/juliaup/julia-1.11.5+0.aarch64.apple.darwin14/share/julia/stdlib/v1.11/LinearAlgebra/src/tridiag.jl:787</a></li> <li> *(R::<b>LinearAlgebra.Rotation{S}</b>, G::<b>LinearAlgebra.Givens{T}</b>)<i> where {S, T}</i> in LinearAlgebra at <a href=\"file:///Users/julia/.julia/scratchspaces/a66863c6-20e8-4ff4-8a62-49f30b1f605e/agent-cache/default-honeycrisp-HL2F7YQ3XH.0/build/default-honeycrisp-HL2F7YQ3XH-0/julialang/julia-release-1-dot-11/usr/share/julia/stdlib/v1.11/LinearAlgebra/src/givens.jl\" target=\"_blank\">/Users/uqjnazar/.julia/juliaup/julia-1.11.5+0.aarch64.apple.darwin14/share/julia/stdlib/v1.11/LinearAlgebra/src/givens.jl:426</a></li> <li> *(x::<b>Base.TwicePrecision{T}</b>, y::<b>Base.TwicePrecision{T}</b>)<i> where T</i> in Base at <a href=\"https://github.com/JuliaLang/julia/tree/760b2e5b7396f9cc0da5efce0cadd5d1974c4069/base/twiceprecision.jl#L317\" target=\"_blank\">twiceprecision.jl:317</a></li> <li> *(x::<b>Base.TwicePrecision</b>, y::<b>Base.TwicePrecision</b>) in Base at <a href=\"https://github.com/JuliaLang/julia/tree/760b2e5b7396f9cc0da5efce0cadd5d1974c4069/base/twiceprecision.jl#L322\" target=\"_blank\">twiceprecision.jl:322</a></li> <li> *(x::<b>Base.TwicePrecision{<:Union{Float16, Float32, Float64}}</b>, v::<b>Integer</b>) in Base at <a href=\"https://github.com/JuliaLang/julia/tree/760b2e5b7396f9cc0da5efce0cadd5d1974c4069/base/twiceprecision.jl#L309\" target=\"_blank\">twiceprecision.jl:309</a></li> <li> *(x::<b>Base.TwicePrecision</b>, v::<b>Number</b>) in Base at <a href=\"https://github.com/JuliaLang/julia/tree/760b2e5b7396f9cc0da5efce0cadd5d1974c4069/base/twiceprecision.jl#L305\" target=\"_blank\">twiceprecision.jl:305</a></li> <li> *(x::<b>Real</b>, ::<b>Type{X}</b>)<i> where X<:FixedPointNumbers.FixedPoint</i> in FixedPointNumbers at <a href=\"file:///Users/uqjnazar/.julia/packages/FixedPointNumbers/Dn4hv/src/FixedPointNumbers.jl\" target=\"_blank\">/Users/uqjnazar/.julia/packages/FixedPointNumbers/Dn4hv/src/FixedPointNumbers.jl:54</a></li> <li> *(α::<b>Real</b>, a::<b>ColorVectorSpace.RGBRGB</b>) in ColorVectorSpace at <a href=\"file:///Users/uqjnazar/.julia/packages/ColorVectorSpace/JXxVe/src/ColorVectorSpace.jl\" target=\"_blank\">/Users/uqjnazar/.julia/packages/ColorVectorSpace/JXxVe/src/ColorVectorSpace.jl:421</a></li> <li> *(y::<b>Real</b>, x::<b>Dates.Period</b>) in Dates at <a href=\"file:///Users/julia/.julia/scratchspaces/a66863c6-20e8-4ff4-8a62-49f30b1f605e/agent-cache/default-honeycrisp-HL2F7YQ3XH.0/build/default-honeycrisp-HL2F7YQ3XH-0/julialang/julia-release-1-dot-11/usr/share/julia/stdlib/v1.11/Dates/src/periods.jl\" target=\"_blank\">/Users/uqjnazar/.julia/juliaup/julia-1.11.5+0.aarch64.apple.darwin14/share/julia/stdlib/v1.11/Dates/src/periods.jl:91</a></li> <li> *(f::<b>Real</b>, c::<b>Union{TransparentColor{C, T}, C} where {T, C<:Union{AbstractGray{T}, AbstractRGB{T}}}</b>) in ColorVectorSpace at <a href=\"file:///Users/uqjnazar/.julia/packages/ColorVectorSpace/JXxVe/src/ColorVectorSpace.jl\" target=\"_blank\">/Users/uqjnazar/.julia/packages/ColorVectorSpace/JXxVe/src/ColorVectorSpace.jl:246</a></li> <li> *(r::<b>StepRangeLen{<:Real, <:Base.TwicePrecision}</b>, x::<b>Real</b>) in Base at <a href=\"https://github.com/JuliaLang/julia/tree/760b2e5b7396f9cc0da5efce0cadd5d1974c4069/base/twiceprecision.jl#L534\" target=\"_blank\">twiceprecision.jl:534</a></li> <li> *(index::<b>CartesianIndex</b>, a::<b>Integer</b>) in Base.IteratorsMD at <a href=\"https://github.com/JuliaLang/julia/tree/760b2e5b7396f9cc0da5efce0cadd5d1974c4069/base/multidimensional.jl#L130\" target=\"_blank\">multidimensional.jl:130</a></li> <li> *(partials::<b>ForwardDiff.Partials{0, V}</b>, x::<b>Real</b>)<i> where V</i> in ForwardDiff at <a href=\"file:///Users/uqjnazar/.julia/packages/ForwardDiff/Wq9Wb/src/partials.jl\" target=\"_blank\">/Users/uqjnazar/.julia/packages/ForwardDiff/Wq9Wb/src/partials.jl:134</a></li> <li> *(partials::<b>ForwardDiff.Partials</b>, x::<b>Real</b>) in ForwardDiff at <a href=\"file:///Users/uqjnazar/.julia/packages/ForwardDiff/Wq9Wb/src/partials.jl\" target=\"_blank\">/Users/uqjnazar/.julia/packages/ForwardDiff/Wq9Wb/src/partials.jl:109</a></li> <li> *(x::<b>Union{SparseArrays.AbstractCompressedVector{Tv, Ti}, SubArray{Tv, 1, <:SparseArrays.AbstractSparseMatrixCSC{Tv, Ti}, Tuple{Base.Slice{Base.OneTo{Int64}}, Int64}, false}, SubArray{Tv, 1, <:SparseArrays.AbstractSparseVector{Tv, Ti}, Tuple{Base.Slice{Base.OneTo{Int64}}}, false}} where {Tv, Ti}</b>, a::<b>Number</b>) in SparseArrays at <a href=\"file:///Users/julia/.julia/scratchspaces/a66863c6-20e8-4ff4-8a62-49f30b1f605e/agent-cache/default-honeycrisp-HL2F7YQ3XH.0/build/default-honeycrisp-HL2F7YQ3XH-0/julialang/julia-release-1-dot-11/usr/share/julia/stdlib/v1.11/SparseArrays/src/sparsevector.jl\" target=\"_blank\">/Users/uqjnazar/.julia/juliaup/julia-1.11.5+0.aarch64.apple.darwin14/share/julia/stdlib/v1.11/SparseArrays/src/sparsevector.jl:1756</a></li> <li> *(X::<b>StridedArray{P}</b>, y::<b>Real</b>)<i> where P<:Dates.Period</i> in Dates at <a href=\"file:///Users/julia/.julia/scratchspaces/a66863c6-20e8-4ff4-8a62-49f30b1f605e/agent-cache/default-honeycrisp-HL2F7YQ3XH.0/build/default-honeycrisp-HL2F7YQ3XH-0/julialang/julia-release-1-dot-11/usr/share/julia/stdlib/v1.11/Dates/src/deprecated.jl\" target=\"_blank\">/Users/uqjnazar/.julia/juliaup/julia-1.11.5+0.aarch64.apple.darwin14/share/julia/stdlib/v1.11/Dates/src/deprecated.jl:44</a></li> <li> *(A::<b>AbstractArray</b>, B::<b>Number</b>) in Base at <a href=\"https://github.com/JuliaLang/julia/tree/760b2e5b7396f9cc0da5efce0cadd5d1974c4069/base/arraymath.jl#L24\" target=\"_blank\">arraymath.jl:24</a></li> <li> *(A::<b>AbstractMatrix</b>, R::<b>LinearAlgebra.AbstractRotation</b>) in LinearAlgebra at <a href=\"file:///Users/julia/.julia/scratchspaces/a66863c6-20e8-4ff4-8a62-49f30b1f605e/agent-cache/default-honeycrisp-HL2F7YQ3XH.0/build/default-honeycrisp-HL2F7YQ3XH-0/julialang/julia-release-1-dot-11/usr/share/julia/stdlib/v1.11/LinearAlgebra/src/givens.jl\" target=\"_blank\">/Users/uqjnazar/.julia/juliaup/julia-1.11.5+0.aarch64.apple.darwin14/share/julia/stdlib/v1.11/LinearAlgebra/src/givens.jl:20</a></li> <li> *(A::<b>AbstractVector</b>, R::<b>LinearAlgebra.AbstractRotation</b>) in LinearAlgebra at <a href=\"file:///Users/julia/.julia/scratchspaces/a66863c6-20e8-4ff4-8a62-49f30b1f605e/agent-cache/default-honeycrisp-HL2F7YQ3XH.0/build/default-honeycrisp-HL2F7YQ3XH-0/julialang/julia-release-1-dot-11/usr/share/julia/stdlib/v1.11/LinearAlgebra/src/givens.jl\" target=\"_blank\">/Users/uqjnazar/.julia/juliaup/julia-1.11.5+0.aarch64.apple.darwin14/share/julia/stdlib/v1.11/LinearAlgebra/src/givens.jl:19</a></li> <li> *(v::<b>AbstractVector</b>, J::<b>LinearAlgebra.UniformScaling</b>) in LinearAlgebra at <a href=\"file:///Users/julia/.julia/scratchspaces/a66863c6-20e8-4ff4-8a62-49f30b1f605e/agent-cache/default-honeycrisp-HL2F7YQ3XH.0/build/default-honeycrisp-HL2F7YQ3XH-0/julialang/julia-release-1-dot-11/usr/share/julia/stdlib/v1.11/LinearAlgebra/src/uniformscaling.jl\" target=\"_blank\">/Users/uqjnazar/.julia/juliaup/julia-1.11.5+0.aarch64.apple.darwin14/share/julia/stdlib/v1.11/LinearAlgebra/src/uniformscaling.jl:261</a></li> <li> *(A::<b>AbstractMatrix</b>, J::<b>LinearAlgebra.UniformScaling</b>) in LinearAlgebra at <a href=\"file:///Users/julia/.julia/scratchspaces/a66863c6-20e8-4ff4-8a62-49f30b1f605e/agent-cache/default-honeycrisp-HL2F7YQ3XH.0/build/default-honeycrisp-HL2F7YQ3XH-0/julialang/julia-release-1-dot-11/usr/share/julia/stdlib/v1.11/LinearAlgebra/src/uniformscaling.jl\" target=\"_blank\">/Users/uqjnazar/.julia/juliaup/julia-1.11.5+0.aarch64.apple.darwin14/share/julia/stdlib/v1.11/LinearAlgebra/src/uniformscaling.jl:260</a></li> <li> *(a::<b>AbstractVector</b>, tB::<b>LinearAlgebra.Transpose{T, <:AbstractMatrix} where T</b>) in LinearAlgebra at <a href=\"file:///Users/julia/.julia/scratchspaces/a66863c6-20e8-4ff4-8a62-49f30b1f605e/agent-cache/default-honeycrisp-HL2F7YQ3XH.0/build/default-honeycrisp-HL2F7YQ3XH-0/julialang/julia-release-1-dot-11/usr/share/julia/stdlib/v1.11/LinearAlgebra/src/matmul.jl\" target=\"_blank\">/Users/uqjnazar/.julia/juliaup/julia-1.11.5+0.aarch64.apple.darwin14/share/julia/stdlib/v1.11/LinearAlgebra/src/matmul.jl:64</a></li> <li> *(u::<b>AbstractVector</b>, v::<b>Union{LinearAlgebra.Adjoint{T, var\"#s5029\"}, LinearAlgebra.Transpose{T, var\"#s5029\"}} where {T, var\"#s5029\"<:(AbstractVector)}</b>) in LinearAlgebra at <a href=\"file:///Users/julia/.julia/scratchspaces/a66863c6-20e8-4ff4-8a62-49f30b1f605e/agent-cache/default-honeycrisp-HL2F7YQ3XH.0/build/default-honeycrisp-HL2F7YQ3XH-0/julialang/julia-release-1-dot-11/usr/share/julia/stdlib/v1.11/LinearAlgebra/src/adjtrans.jl\" target=\"_blank\">/Users/uqjnazar/.julia/juliaup/julia-1.11.5+0.aarch64.apple.darwin14/share/julia/stdlib/v1.11/LinearAlgebra/src/adjtrans.jl:484</a></li> <li> *(a::<b>AbstractVector</b>, adjB::<b>LinearAlgebra.Adjoint{T, <:AbstractMatrix} where T</b>) in LinearAlgebra at <a href=\"file:///Users/julia/.julia/scratchspaces/a66863c6-20e8-4ff4-8a62-49f30b1f605e/agent-cache/default-honeycrisp-HL2F7YQ3XH.0/build/default-honeycrisp-HL2F7YQ3XH-0/julialang/julia-release-1-dot-11/usr/share/julia/stdlib/v1.11/LinearAlgebra/src/matmul.jl\" target=\"_blank\">/Users/uqjnazar/.julia/juliaup/julia-1.11.5+0.aarch64.apple.darwin14/share/julia/stdlib/v1.11/LinearAlgebra/src/matmul.jl:65</a></li> <li> *(A::<b>AbstractArray</b>, B::<b>Dates.Period</b>) in Dates at <a href=\"file:///Users/julia/.julia/scratchspaces/a66863c6-20e8-4ff4-8a62-49f30b1f605e/agent-cache/default-honeycrisp-HL2F7YQ3XH.0/build/default-honeycrisp-HL2F7YQ3XH-0/julialang/julia-release-1-dot-11/usr/share/julia/stdlib/v1.11/Dates/src/periods.jl\" target=\"_blank\">/Users/uqjnazar/.julia/juliaup/julia-1.11.5+0.aarch64.apple.darwin14/share/julia/stdlib/v1.11/Dates/src/periods.jl:94</a></li> <li> *(A::<b>AbstractMatrix</b>, B::<b>AbstractMatrix</b>, γ::<b>Number</b>, δ::<b>Number</b>) in LinearAlgebra at <a href=\"file:///Users/julia/.julia/scratchspaces/a66863c6-20e8-4ff4-8a62-49f30b1f605e/agent-cache/default-honeycrisp-HL2F7YQ3XH.0/build/default-honeycrisp-HL2F7YQ3XH-0/julialang/julia-release-1-dot-11/usr/share/julia/stdlib/v1.11/LinearAlgebra/src/matmul.jl\" target=\"_blank\">/Users/uqjnazar/.julia/juliaup/julia-1.11.5+0.aarch64.apple.darwin14/share/julia/stdlib/v1.11/LinearAlgebra/src/matmul.jl:1188</a></li> <li> *(A::<b>AbstractMatrix</b>, x::<b>AbstractVector</b>, γ::<b>Number</b>, δ::<b>Number</b>) in LinearAlgebra at <a href=\"file:///Users/julia/.julia/scratchspaces/a66863c6-20e8-4ff4-8a62-49f30b1f605e/agent-cache/default-honeycrisp-HL2F7YQ3XH.0/build/default-honeycrisp-HL2F7YQ3XH-0/julialang/julia-release-1-dot-11/usr/share/julia/stdlib/v1.11/LinearAlgebra/src/matmul.jl\" target=\"_blank\">/Users/uqjnazar/.julia/juliaup/julia-1.11.5+0.aarch64.apple.darwin14/share/julia/stdlib/v1.11/LinearAlgebra/src/matmul.jl:1187</a></li> <li> *(A::<b>AbstractMatrix</b>, x::<b>AbstractVector</b>, γ::<b>Number</b>) in LinearAlgebra at <a href=\"file:///Users/julia/.julia/scratchspaces/a66863c6-20e8-4ff4-8a62-49f30b1f605e/agent-cache/default-honeycrisp-HL2F7YQ3XH.0/build/default-honeycrisp-HL2F7YQ3XH-0/julialang/julia-release-1-dot-11/usr/share/julia/stdlib/v1.11/LinearAlgebra/src/matmul.jl\" target=\"_blank\">/Users/uqjnazar/.julia/juliaup/julia-1.11.5+0.aarch64.apple.darwin14/share/julia/stdlib/v1.11/LinearAlgebra/src/matmul.jl:1121</a></li> <li> *(A::<b>AbstractMatrix</b>, B::<b>AbstractMatrix</b>, γ::<b>Number</b>) in LinearAlgebra at <a href=\"file:///Users/julia/.julia/scratchspaces/a66863c6-20e8-4ff4-8a62-49f30b1f605e/agent-cache/default-honeycrisp-HL2F7YQ3XH.0/build/default-honeycrisp-HL2F7YQ3XH-0/julialang/julia-release-1-dot-11/usr/share/julia/stdlib/v1.11/LinearAlgebra/src/matmul.jl\" target=\"_blank\">/Users/uqjnazar/.julia/juliaup/julia-1.11.5+0.aarch64.apple.darwin14/share/julia/stdlib/v1.11/LinearAlgebra/src/matmul.jl:1122</a></li> <li> *(vt::<b>Union{LinearAlgebra.Adjoint{T, var\"#s5029\"}, LinearAlgebra.Transpose{T, var\"#s5029\"}} where {T, var\"#s5029\"<:(AbstractVector)}</b>, B::<b>AbstractMatrix</b>, C::<b>AbstractMatrix</b>, D::<b>AbstractMatrix</b>) in LinearAlgebra at <a href=\"file:///Users/julia/.julia/scratchspaces/a66863c6-20e8-4ff4-8a62-49f30b1f605e/agent-cache/default-honeycrisp-HL2F7YQ3XH.0/build/default-honeycrisp-HL2F7YQ3XH-0/julialang/julia-release-1-dot-11/usr/share/julia/stdlib/v1.11/LinearAlgebra/src/matmul.jl\" target=\"_blank\">/Users/uqjnazar/.julia/juliaup/julia-1.11.5+0.aarch64.apple.darwin14/share/julia/stdlib/v1.11/LinearAlgebra/src/matmul.jl:1194</a></li> <li> *(A::<b>AbstractMatrix</b>, B::<b>AbstractMatrix</b>, C::<b>AbstractMatrix</b>, D::<b>AbstractMatrix</b>) in LinearAlgebra at <a href=\"file:///Users/julia/.julia/scratchspaces/a66863c6-20e8-4ff4-8a62-49f30b1f605e/agent-cache/default-honeycrisp-HL2F7YQ3XH.0/build/default-honeycrisp-HL2F7YQ3XH-0/julialang/julia-release-1-dot-11/usr/share/julia/stdlib/v1.11/LinearAlgebra/src/matmul.jl\" target=\"_blank\">/Users/uqjnazar/.julia/juliaup/julia-1.11.5+0.aarch64.apple.darwin14/share/julia/stdlib/v1.11/LinearAlgebra/src/matmul.jl:1201</a></li> <li> *(vt::<b>Union{LinearAlgebra.Adjoint{T, var\"#s5029\"}, LinearAlgebra.Transpose{T, var\"#s5029\"}} where {T, var\"#s5029\"<:(AbstractVector)}</b>, B::<b>AbstractMatrix</b>, C::<b>AbstractMatrix</b>, δ::<b>Number</b>) in LinearAlgebra at <a href=\"file:///Users/julia/.julia/scratchspaces/a66863c6-20e8-4ff4-8a62-49f30b1f605e/agent-cache/default-honeycrisp-HL2F7YQ3XH.0/build/default-honeycrisp-HL2F7YQ3XH-0/julialang/julia-release-1-dot-11/usr/share/julia/stdlib/v1.11/LinearAlgebra/src/matmul.jl\" target=\"_blank\">/Users/uqjnazar/.julia/juliaup/julia-1.11.5+0.aarch64.apple.darwin14/share/julia/stdlib/v1.11/LinearAlgebra/src/matmul.jl:1191</a></li> <li> *(A::<b>AbstractMatrix</b>, B::<b>AbstractMatrix</b>, C::<b>AbstractMatrix</b>, δ::<b>Number</b>) in LinearAlgebra at <a href=\"file:///Users/julia/.julia/scratchspaces/a66863c6-20e8-4ff4-8a62-49f30b1f605e/agent-cache/default-honeycrisp-HL2F7YQ3XH.0/build/default-honeycrisp-HL2F7YQ3XH-0/julialang/julia-release-1-dot-11/usr/share/julia/stdlib/v1.11/LinearAlgebra/src/matmul.jl\" target=\"_blank\">/Users/uqjnazar/.julia/juliaup/julia-1.11.5+0.aarch64.apple.darwin14/share/julia/stdlib/v1.11/LinearAlgebra/src/matmul.jl:1198</a></li> <li> *(vt::<b>Union{LinearAlgebra.Adjoint{T, var\"#s5029\"}, LinearAlgebra.Transpose{T, var\"#s5029\"}} where {T, var\"#s5029\"<:(AbstractVector)}</b>, B::<b>AbstractMatrix</b>, C::<b>AbstractMatrix</b>, x::<b>AbstractVector</b>) in LinearAlgebra at <a href=\"file:///Users/julia/.julia/scratchspaces/a66863c6-20e8-4ff4-8a62-49f30b1f605e/agent-cache/default-honeycrisp-HL2F7YQ3XH.0/build/default-honeycrisp-HL2F7YQ3XH-0/julialang/julia-release-1-dot-11/usr/share/julia/stdlib/v1.11/LinearAlgebra/src/matmul.jl\" target=\"_blank\">/Users/uqjnazar/.julia/juliaup/julia-1.11.5+0.aarch64.apple.darwin14/share/julia/stdlib/v1.11/LinearAlgebra/src/matmul.jl:1195</a></li> <li> *(A::<b>AbstractMatrix</b>, B::<b>AbstractMatrix</b>, C::<b>AbstractMatrix</b>, x::<b>AbstractVector</b>) in LinearAlgebra at <a href=\"file:///Users/julia/.julia/scratchspaces/a66863c6-20e8-4ff4-8a62-49f30b1f605e/agent-cache/default-honeycrisp-HL2F7YQ3XH.0/build/default-honeycrisp-HL2F7YQ3XH-0/julialang/julia-release-1-dot-11/usr/share/julia/stdlib/v1.11/LinearAlgebra/src/matmul.jl\" target=\"_blank\">/Users/uqjnazar/.julia/juliaup/julia-1.11.5+0.aarch64.apple.darwin14/share/julia/stdlib/v1.11/LinearAlgebra/src/matmul.jl:1193</a></li> <li> *(vt::<b>Union{LinearAlgebra.Adjoint{T, var\"#s5029\"}, LinearAlgebra.Transpose{T, var\"#s5029\"}} where {T, var\"#s5029\"<:(AbstractVector)}</b>, B::<b>AbstractMatrix</b>, x::<b>AbstractVector</b>, δ::<b>Number</b>) in LinearAlgebra at <a href=\"file:///Users/julia/.julia/scratchspaces/a66863c6-20e8-4ff4-8a62-49f30b1f605e/agent-cache/default-honeycrisp-HL2F7YQ3XH.0/build/default-honeycrisp-HL2F7YQ3XH-0/julialang/julia-release-1-dot-11/usr/share/julia/stdlib/v1.11/LinearAlgebra/src/matmul.jl\" target=\"_blank\">/Users/uqjnazar/.julia/juliaup/julia-1.11.5+0.aarch64.apple.darwin14/share/julia/stdlib/v1.11/LinearAlgebra/src/matmul.jl:1190</a></li> <li> *(A::<b>AbstractMatrix</b>, B::<b>AbstractMatrix</b>, x::<b>AbstractVector</b>, δ::<b>Number</b>) in LinearAlgebra at <a href=\"file:///Users/julia/.julia/scratchspaces/a66863c6-20e8-4ff4-8a62-49f30b1f605e/agent-cache/default-honeycrisp-HL2F7YQ3XH.0/build/default-honeycrisp-HL2F7YQ3XH-0/julialang/julia-release-1-dot-11/usr/share/julia/stdlib/v1.11/LinearAlgebra/src/matmul.jl\" target=\"_blank\">/Users/uqjnazar/.julia/juliaup/julia-1.11.5+0.aarch64.apple.darwin14/share/julia/stdlib/v1.11/LinearAlgebra/src/matmul.jl:1189</a></li> <li> *(x::<b>LinearAlgebra.Adjoint{T, <:AbstractVector} where T</b>, D::<b>LinearAlgebra.Diagonal</b>, y::<b>AbstractVector</b>) in LinearAlgebra at <a href=\"file:///Users/julia/.julia/scratchspaces/a66863c6-20e8-4ff4-8a62-49f30b1f605e/agent-cache/default-honeycrisp-HL2F7YQ3XH.0/build/default-honeycrisp-HL2F7YQ3XH-0/julialang/julia-release-1-dot-11/usr/share/julia/stdlib/v1.11/LinearAlgebra/src/diagonal.jl\" target=\"_blank\">/Users/uqjnazar/.julia/juliaup/julia-1.11.5+0.aarch64.apple.darwin14/share/julia/stdlib/v1.11/LinearAlgebra/src/diagonal.jl:952</a></li> <li> *(tu::<b>Union{LinearAlgebra.Adjoint{T, var\"#s5029\"}, LinearAlgebra.Transpose{T, var\"#s5029\"}} where {T, var\"#s5029\"<:(AbstractVector)}</b>, B::<b>Union{LinearAlgebra.Adjoint{T, var\"#s5029\"}, LinearAlgebra.Transpose{T, var\"#s5029\"}} where {T, var\"#s5029\"<:(AbstractMatrix)}</b>, v::<b>AbstractVector</b>) in LinearAlgebra at <a href=\"file:///Users/julia/.julia/scratchspaces/a66863c6-20e8-4ff4-8a62-49f30b1f605e/agent-cache/default-honeycrisp-HL2F7YQ3XH.0/build/default-honeycrisp-HL2F7YQ3XH-0/julialang/julia-release-1-dot-11/usr/share/julia/stdlib/v1.11/LinearAlgebra/src/matmul.jl\" target=\"_blank\">/Users/uqjnazar/.julia/juliaup/julia-1.11.5+0.aarch64.apple.darwin14/share/julia/stdlib/v1.11/LinearAlgebra/src/matmul.jl:1119</a></li> <li> *(tu::<b>Union{LinearAlgebra.Adjoint{T, var\"#s5029\"}, LinearAlgebra.Transpose{T, var\"#s5029\"}} where {T, var\"#s5029\"<:(AbstractVector)}</b>, B::<b>AbstractMatrix</b>, v::<b>AbstractVector</b>) in LinearAlgebra at <a href=\"file:///Users/julia/.julia/scratchspaces/a66863c6-20e8-4ff4-8a62-49f30b1f605e/agent-cache/default-honeycrisp-HL2F7YQ3XH.0/build/default-honeycrisp-HL2F7YQ3XH-0/julialang/julia-release-1-dot-11/usr/share/julia/stdlib/v1.11/LinearAlgebra/src/matmul.jl\" target=\"_blank\">/Users/uqjnazar/.julia/juliaup/julia-1.11.5+0.aarch64.apple.darwin14/share/julia/stdlib/v1.11/LinearAlgebra/src/matmul.jl:1118</a></li> <li> *(A::<b>AbstractMatrix</b>, B::<b>AbstractMatrix</b>, x::<b>AbstractVector</b>) in LinearAlgebra at <a href=\"file:///Users/julia/.julia/scratchspaces/a66863c6-20e8-4ff4-8a62-49f30b1f605e/agent-cache/default-honeycrisp-HL2F7YQ3XH.0/build/default-honeycrisp-HL2F7YQ3XH-0/julialang/julia-release-1-dot-11/usr/share/julia/stdlib/v1.11/LinearAlgebra/src/matmul.jl\" target=\"_blank\">/Users/uqjnazar/.julia/juliaup/julia-1.11.5+0.aarch64.apple.darwin14/share/julia/stdlib/v1.11/LinearAlgebra/src/matmul.jl:1116</a></li> <li> *(tv::<b>Union{LinearAlgebra.Adjoint{T, var\"#s5029\"}, LinearAlgebra.Transpose{T, var\"#s5029\"}} where {T, var\"#s5029\"<:(AbstractVector)}</b>, B::<b>AbstractMatrix</b>, C::<b>AbstractMatrix</b>) in LinearAlgebra at <a href=\"file:///Users/julia/.julia/scratchspaces/a66863c6-20e8-4ff4-8a62-49f30b1f605e/agent-cache/default-honeycrisp-HL2F7YQ3XH.0/build/default-honeycrisp-HL2F7YQ3XH-0/julialang/julia-release-1-dot-11/usr/share/julia/stdlib/v1.11/LinearAlgebra/src/matmul.jl\" target=\"_blank\">/Users/uqjnazar/.julia/juliaup/julia-1.11.5+0.aarch64.apple.darwin14/share/julia/stdlib/v1.11/LinearAlgebra/src/matmul.jl:1133</a></li> <li> *(A::<b>AbstractMatrix</b>, B::<b>AbstractMatrix</b>, C::<b>AbstractMatrix</b>) in LinearAlgebra at <a href=\"file:///Users/julia/.julia/scratchspaces/a66863c6-20e8-4ff4-8a62-49f30b1f605e/agent-cache/default-honeycrisp-HL2F7YQ3XH.0/build/default-honeycrisp-HL2F7YQ3XH-0/julialang/julia-release-1-dot-11/usr/share/julia/stdlib/v1.11/LinearAlgebra/src/matmul.jl\" target=\"_blank\">/Users/uqjnazar/.julia/juliaup/julia-1.11.5+0.aarch64.apple.darwin14/share/julia/stdlib/v1.11/LinearAlgebra/src/matmul.jl:1132</a></li> <li> *(A::<b>Union{SparseArrays.SparseMatrixCSC{var\"#s393\", Ti}, SparseArrays.SparseVector{var\"#s393\", Ti}} where var\"#s393\"<:Union{Float32, Float64}</b>, B::<b>LinearAlgebra.Symmetric{<:Union{Float32, Float64}, SparseArrays.SparseMatrixCSC{<:Union{Float32, Float64}, Ti}}</b>)<i> where Ti</i> in SparseArrays.CHOLMOD at <a href=\"file:///Users/julia/.julia/scratchspaces/a66863c6-20e8-4ff4-8a62-49f30b1f605e/agent-cache/default-honeycrisp-HL2F7YQ3XH.0/build/default-honeycrisp-HL2F7YQ3XH-0/julialang/julia-release-1-dot-11/usr/share/julia/stdlib/v1.11/SparseArrays/src/solvers/cholmod.jl\" target=\"_blank\">/Users/uqjnazar/.julia/juliaup/julia-1.11.5+0.aarch64.apple.darwin14/share/julia/stdlib/v1.11/SparseArrays/src/solvers/cholmod.jl:2015</a></li> <li> *(A::<b>Union{SparseArrays.SparseMatrixCSC{var\"#s393\", Ti}, SparseArrays.SparseVector{var\"#s393\", Ti}} where var\"#s393\"<:Union{ComplexF64, ComplexF32}</b>, B::<b>LinearAlgebra.Hermitian{<:Union{ComplexF64, ComplexF32}, SparseArrays.SparseMatrixCSC{<:Union{ComplexF64, ComplexF32}, Ti}}</b>)<i> where Ti</i> in SparseArrays.CHOLMOD at <a href=\"file:///Users/julia/.julia/scratchspaces/a66863c6-20e8-4ff4-8a62-49f30b1f605e/agent-cache/default-honeycrisp-HL2F7YQ3XH.0/build/default-honeycrisp-HL2F7YQ3XH-0/julialang/julia-release-1-dot-11/usr/share/julia/stdlib/v1.11/SparseArrays/src/solvers/cholmod.jl\" target=\"_blank\">/Users/uqjnazar/.julia/juliaup/julia-1.11.5+0.aarch64.apple.darwin14/share/julia/stdlib/v1.11/SparseArrays/src/solvers/cholmod.jl:2017</a></li> <li> *(A::<b>Union{SparseArrays.SparseMatrixCSC{var\"#s393\", Ti}, SparseArrays.SparseVector{var\"#s393\", Ti}} where var\"#s393\"<:Union{Float32, Float64}</b>, B::<b>LinearAlgebra.Hermitian{<:Union{Float32, Float64}, SparseArrays.SparseMatrixCSC{<:Union{Float32, Float64}, Ti}}</b>)<i> where Ti</i> in SparseArrays.CHOLMOD at <a href=\"file:///Users/julia/.julia/scratchspaces/a66863c6-20e8-4ff4-8a62-49f30b1f605e/agent-cache/default-honeycrisp-HL2F7YQ3XH.0/build/default-honeycrisp-HL2F7YQ3XH-0/julialang/julia-release-1-dot-11/usr/share/julia/stdlib/v1.11/SparseArrays/src/solvers/cholmod.jl\" target=\"_blank\">/Users/uqjnazar/.julia/juliaup/julia-1.11.5+0.aarch64.apple.darwin14/share/julia/stdlib/v1.11/SparseArrays/src/solvers/cholmod.jl:2019</a></li> <li> *(a::<b>AbstractVector</b>, B::<b>AbstractMatrix</b>) in LinearAlgebra at <a href=\"file:///Users/julia/.julia/scratchspaces/a66863c6-20e8-4ff4-8a62-49f30b1f605e/agent-cache/default-honeycrisp-HL2F7YQ3XH.0/build/default-honeycrisp-HL2F7YQ3XH-0/julialang/julia-release-1-dot-11/usr/share/julia/stdlib/v1.11/LinearAlgebra/src/matmul.jl\" target=\"_blank\">/Users/uqjnazar/.julia/juliaup/julia-1.11.5+0.aarch64.apple.darwin14/share/julia/stdlib/v1.11/LinearAlgebra/src/matmul.jl:66</a></li> <li> *(A::<b>Union{SparseArrays.AbstractSparseMatrixCSC{Tv, Ti}, SubArray{Tv, 2, <:SparseArrays.AbstractSparseMatrixCSC{Tv, Ti}, Tuple{Base.Slice{Base.OneTo{Int64}}, I}} where I<:(AbstractUnitRange{<:Integer}), LinearAlgebra.LowerTriangular{Tv, <:Union{SparseArrays.AbstractSparseMatrixCSC{Tv, Ti}, SubArray{Tv, 2, <:SparseArrays.AbstractSparseMatrixCSC{Tv, Ti}, Tuple{Base.Slice{Base.OneTo{Int64}}, I}} where I<:(AbstractUnitRange{<:Integer})}}, LinearAlgebra.UpperTriangular{Tv, <:Union{SparseArrays.AbstractSparseMatrixCSC{Tv, Ti}, SubArray{Tv, 2, <:SparseArrays.AbstractSparseMatrixCSC{Tv, Ti}, Tuple{Base.Slice{Base.OneTo{Int64}}, I}} where I<:(AbstractUnitRange{<:Integer})}}} where {Tv, Ti}</b>, B::<b>SparseArrays.AbstractSparseVector</b>) in SparseArrays at <a href=\"file:///Users/julia/.julia/scratchspaces/a66863c6-20e8-4ff4-8a62-49f30b1f605e/agent-cache/default-honeycrisp-HL2F7YQ3XH.0/build/default-honeycrisp-HL2F7YQ3XH-0/julialang/julia-release-1-dot-11/usr/share/julia/stdlib/v1.11/SparseArrays/src/linalg.jl\" target=\"_blank\">/Users/uqjnazar/.julia/juliaup/julia-1.11.5+0.aarch64.apple.darwin14/share/julia/stdlib/v1.11/SparseArrays/src/linalg.jl:196</a></li> <li> *(A::<b>Union{LinearAlgebra.LowerTriangular{Ta, S} where S<:AbstractMatrix{Ta}, LinearAlgebra.UnitLowerTriangular{Ta, S} where S<:AbstractMatrix{Ta}, LinearAlgebra.UnitUpperTriangular{Ta, S} where S<:AbstractMatrix{Ta}, LinearAlgebra.UpperTriangular{Ta, S} where S<:AbstractMatrix{Ta}, StridedArray{Ta, 2}}</b>, x::<b>SparseArrays.AbstractSparseVector{Tx}</b>)<i> where {Ta, Tx}</i> in SparseArrays at <a href=\"file:///Users/julia/.julia/scratchspaces/a66863c6-20e8-4ff4-8a62-49f30b1f605e/agent-cache/default-honeycrisp-HL2F7YQ3XH.0/build/default-honeycrisp-HL2F7YQ3XH-0/julialang/julia-release-1-dot-11/usr/share/julia/stdlib/v1.11/SparseArrays/src/sparsevector.jl\" target=\"_blank\">/Users/uqjnazar/.julia/juliaup/julia-1.11.5+0.aarch64.apple.darwin14/share/julia/stdlib/v1.11/SparseArrays/src/sparsevector.jl:1854</a></li> <li> *(A::<b>Union{LinearAlgebra.Hermitian{var\"#s188\", var\"#s187\"}, LinearAlgebra.Symmetric{var\"#s188\", var\"#s187\"}} where {var\"#s188\", var\"#s187\"<:(StridedMatrix{T} where T)}</b>, x::<b>SparseArrays.AbstractSparseVector</b>) in SparseArrays at <a href=\"file:///Users/julia/.julia/scratchspaces/a66863c6-20e8-4ff4-8a62-49f30b1f605e/agent-cache/default-honeycrisp-HL2F7YQ3XH.0/build/default-honeycrisp-HL2F7YQ3XH-0/julialang/julia-release-1-dot-11/usr/share/julia/stdlib/v1.11/SparseArrays/src/sparsevector.jl\" target=\"_blank\">/Users/uqjnazar/.julia/juliaup/julia-1.11.5+0.aarch64.apple.darwin14/share/julia/stdlib/v1.11/SparseArrays/src/sparsevector.jl:1954</a></li> <li> *(u::<b>Union{LinearAlgebra.Adjoint{T, var\"#s5029\"}, LinearAlgebra.Transpose{T, var\"#s5029\"}} where {T, var\"#s5029\"<:(AbstractVector)}</b>, v::<b>AbstractVector</b>) in LinearAlgebra at <a href=\"file:///Users/julia/.julia/scratchspaces/a66863c6-20e8-4ff4-8a62-49f30b1f605e/agent-cache/default-honeycrisp-HL2F7YQ3XH.0/build/default-honeycrisp-HL2F7YQ3XH-0/julialang/julia-release-1-dot-11/usr/share/julia/stdlib/v1.11/LinearAlgebra/src/adjtrans.jl\" target=\"_blank\">/Users/uqjnazar/.julia/juliaup/julia-1.11.5+0.aarch64.apple.darwin14/share/julia/stdlib/v1.11/LinearAlgebra/src/adjtrans.jl:480</a></li> <li> *(A::<b>AbstractMatrix{T}</b>, x::<b>AbstractVector{S}</b>)<i> where {T, S}</i> in LinearAlgebra at <a href=\"file:///Users/julia/.julia/scratchspaces/a66863c6-20e8-4ff4-8a62-49f30b1f605e/agent-cache/default-honeycrisp-HL2F7YQ3XH.0/build/default-honeycrisp-HL2F7YQ3XH-0/julialang/julia-release-1-dot-11/usr/share/julia/stdlib/v1.11/LinearAlgebra/src/matmul.jl\" target=\"_blank\">/Users/uqjnazar/.julia/juliaup/julia-1.11.5+0.aarch64.apple.darwin14/share/julia/stdlib/v1.11/LinearAlgebra/src/matmul.jl:58</a></li> <li> *(adjA::<b>LinearAlgebra.Adjoint{<:Any, <:SparseArrays.CHOLMOD.Sparse}</b>, B::<b>SparseArrays.CHOLMOD.Sparse</b>) in SparseArrays.CHOLMOD at <a href=\"file:///Users/julia/.julia/scratchspaces/a66863c6-20e8-4ff4-8a62-49f30b1f605e/agent-cache/default-honeycrisp-HL2F7YQ3XH.0/build/default-honeycrisp-HL2F7YQ3XH-0/julialang/julia-release-1-dot-11/usr/share/julia/stdlib/v1.11/SparseArrays/src/solvers/cholmod.jl\" target=\"_blank\">/Users/uqjnazar/.julia/juliaup/julia-1.11.5+0.aarch64.apple.darwin14/share/julia/stdlib/v1.11/SparseArrays/src/solvers/cholmod.jl:1405</a></li> <li> *(x::<b>LinearAlgebra.Adjoint{T, <:AbstractVector} where T</b>, A::<b>AbstractMatrix</b>) in LinearAlgebra at <a href=\"file:///Users/julia/.julia/scratchspaces/a66863c6-20e8-4ff4-8a62-49f30b1f605e/agent-cache/default-honeycrisp-HL2F7YQ3XH.0/build/default-honeycrisp-HL2F7YQ3XH-0/julialang/julia-release-1-dot-11/usr/share/julia/stdlib/v1.11/LinearAlgebra/src/matmul.jl\" target=\"_blank\">/Users/uqjnazar/.julia/juliaup/julia-1.11.5+0.aarch64.apple.darwin14/share/julia/stdlib/v1.11/LinearAlgebra/src/matmul.jl:95</a></li> <li> *(A::<b>Union{LinearAlgebra.LowerTriangular{Tv, <:Union{SparseArrays.AbstractSparseMatrixCSC{Tv, Ti}, SubArray{Tv, 2, <:SparseArrays.AbstractSparseMatrixCSC{Tv, Ti}, Tuple{Base.Slice{Base.OneTo{Int64}}, I}} where I<:(AbstractUnitRange{<:Integer})}}, LinearAlgebra.UpperTriangular{Tv, <:Union{SparseArrays.AbstractSparseMatrixCSC{Tv, Ti}, SubArray{Tv, 2, <:SparseArrays.AbstractSparseMatrixCSC{Tv, Ti}, Tuple{Base.Slice{Base.OneTo{Int64}}, I}} where I<:(AbstractUnitRange{<:Integer})}}} where {Tv, Ti}</b>, B::<b>Union{SparseArrays.AbstractSparseMatrixCSC{Tv, Ti}, SubArray{Tv, 2, <:SparseArrays.AbstractSparseMatrixCSC{Tv, Ti}, Tuple{Base.Slice{Base.OneTo{Int64}}, I}} where I<:(AbstractUnitRange{<:Integer})} where {Tv, Ti}</b>) in SparseArrays at <a href=\"file:///Users/julia/.julia/scratchspaces/a66863c6-20e8-4ff4-8a62-49f30b1f605e/agent-cache/default-honeycrisp-HL2F7YQ3XH.0/build/default-honeycrisp-HL2F7YQ3XH-0/julialang/julia-release-1-dot-11/usr/share/julia/stdlib/v1.11/SparseArrays/src/linalg.jl\" target=\"_blank\">/Users/uqjnazar/.julia/juliaup/julia-1.11.5+0.aarch64.apple.darwin14/share/julia/stdlib/v1.11/SparseArrays/src/linalg.jl:200</a></li> <li> *(A::<b>Union{SparseArrays.AbstractSparseMatrixCSC{Tv, Ti}, SubArray{Tv, 2, <:SparseArrays.AbstractSparseMatrixCSC{Tv, Ti}, Tuple{Base.Slice{Base.OneTo{Int64}}, I}} where I<:(AbstractUnitRange{<:Integer})} where {Tv, Ti}</b>, B::<b>Union{LinearAlgebra.LowerTriangular{Tv, <:Union{SparseArrays.AbstractSparseMatrixCSC{Tv, Ti}, SubArray{Tv, 2, <:SparseArrays.AbstractSparseMatrixCSC{Tv, Ti}, Tuple{Base.Slice{Base.OneTo{Int64}}, I}} where I<:(AbstractUnitRange{<:Integer})}}, LinearAlgebra.UpperTriangular{Tv, <:Union{SparseArrays.AbstractSparseMatrixCSC{Tv, Ti}, SubArray{Tv, 2, <:SparseArrays.AbstractSparseMatrixCSC{Tv, Ti}, Tuple{Base.Slice{Base.OneTo{Int64}}, I}} where I<:(AbstractUnitRange{<:Integer})}}} where {Tv, Ti}</b>) in SparseArrays at <a href=\"file:///Users/julia/.julia/scratchspaces/a66863c6-20e8-4ff4-8a62-49f30b1f605e/agent-cache/default-honeycrisp-HL2F7YQ3XH.0/build/default-honeycrisp-HL2F7YQ3XH-0/julialang/julia-release-1-dot-11/usr/share/julia/stdlib/v1.11/SparseArrays/src/linalg.jl\" target=\"_blank\">/Users/uqjnazar/.julia/juliaup/julia-1.11.5+0.aarch64.apple.darwin14/share/julia/stdlib/v1.11/SparseArrays/src/linalg.jl:201</a></li> <li> *(U::<b>Union{LinearAlgebra.UnitUpperTriangular{T, S}, LinearAlgebra.UpperTriangular{T, S}} where {T, S}</b>, H::<b>LinearAlgebra.UpperHessenberg</b>) in LinearAlgebra at <a href=\"file:///Users/julia/.julia/scratchspaces/a66863c6-20e8-4ff4-8a62-49f30b1f605e/agent-cache/default-honeycrisp-HL2F7YQ3XH.0/build/default-honeycrisp-HL2F7YQ3XH-0/julialang/julia-release-1-dot-11/usr/share/julia/stdlib/v1.11/LinearAlgebra/src/hessenberg.jl\" target=\"_blank\">/Users/uqjnazar/.julia/juliaup/julia-1.11.5+0.aarch64.apple.darwin14/share/julia/stdlib/v1.11/LinearAlgebra/src/hessenberg.jl:139</a></li> <li> *(A::<b>Union{LinearAlgebra.LowerTriangular{T, S}, LinearAlgebra.UnitLowerTriangular{T, S}} where {T, S}</b>, B::<b>LinearAlgebra.Bidiagonal</b>) in LinearAlgebra at <a href=\"file:///Users/julia/.julia/scratchspaces/a66863c6-20e8-4ff4-8a62-49f30b1f605e/agent-cache/default-honeycrisp-HL2F7YQ3XH.0/build/default-honeycrisp-HL2F7YQ3XH-0/julialang/julia-release-1-dot-11/usr/share/julia/stdlib/v1.11/LinearAlgebra/src/bidiag.jl\" target=\"_blank\">/Users/uqjnazar/.julia/juliaup/julia-1.11.5+0.aarch64.apple.darwin14/share/julia/stdlib/v1.11/LinearAlgebra/src/bidiag.jl:770</a></li> <li> *(A::<b>Union{LinearAlgebra.UnitUpperTriangular{T, S}, LinearAlgebra.UpperTriangular{T, S}} where {T, S}</b>, B::<b>LinearAlgebra.Bidiagonal</b>) in LinearAlgebra at <a href=\"file:///Users/julia/.julia/scratchspaces/a66863c6-20e8-4ff4-8a62-49f30b1f605e/agent-cache/default-honeycrisp-HL2F7YQ3XH.0/build/default-honeycrisp-HL2F7YQ3XH-0/julialang/julia-release-1-dot-11/usr/share/julia/stdlib/v1.11/LinearAlgebra/src/bidiag.jl\" target=\"_blank\">/Users/uqjnazar/.julia/juliaup/julia-1.11.5+0.aarch64.apple.darwin14/share/julia/stdlib/v1.11/LinearAlgebra/src/bidiag.jl:764</a></li> <li> *(A::<b>Union{LinearAlgebra.Hermitian{T, S}, LinearAlgebra.Symmetric{T, S}} where {T, S}</b>, B::<b>Union{LinearAlgebra.Hermitian{T, S}, LinearAlgebra.Symmetric{T, S}} where {T, S}</b>) in LinearAlgebra at <a href=\"file:///Users/julia/.julia/scratchspaces/a66863c6-20e8-4ff4-8a62-49f30b1f605e/agent-cache/default-honeycrisp-HL2F7YQ3XH.0/build/default-honeycrisp-HL2F7YQ3XH-0/julialang/julia-release-1-dot-11/usr/share/julia/stdlib/v1.11/LinearAlgebra/src/symmetric.jl\" target=\"_blank\">/Users/uqjnazar/.julia/juliaup/julia-1.11.5+0.aarch64.apple.darwin14/share/julia/stdlib/v1.11/LinearAlgebra/src/symmetric.jl:548</a></li> <li> *(A::<b>AbstractMatrix</b>, B::<b>AbstractMatrix</b>) in LinearAlgebra at <a href=\"file:///Users/julia/.julia/scratchspaces/a66863c6-20e8-4ff4-8a62-49f30b1f605e/agent-cache/default-honeycrisp-HL2F7YQ3XH.0/build/default-honeycrisp-HL2F7YQ3XH-0/julialang/julia-release-1-dot-11/usr/share/julia/stdlib/v1.11/LinearAlgebra/src/matmul.jl\" target=\"_blank\">/Users/uqjnazar/.julia/juliaup/julia-1.11.5+0.aarch64.apple.darwin14/share/julia/stdlib/v1.11/LinearAlgebra/src/matmul.jl:112</a></li> <li> *(A::<b>AbstractMatrix</b>, Q::<b>LinearAlgebra.AbstractQ</b>) in LinearAlgebra at <a href=\"file:///Users/julia/.julia/scratchspaces/a66863c6-20e8-4ff4-8a62-49f30b1f605e/agent-cache/default-honeycrisp-HL2F7YQ3XH.0/build/default-honeycrisp-HL2F7YQ3XH-0/julialang/julia-release-1-dot-11/usr/share/julia/stdlib/v1.11/LinearAlgebra/src/abstractq.jl\" target=\"_blank\">/Users/uqjnazar/.julia/juliaup/julia-1.11.5+0.aarch64.apple.darwin14/share/julia/stdlib/v1.11/LinearAlgebra/src/abstractq.jl:201</a></li> <li> *(A::<b>AbstractVector</b>, Q::<b>LinearAlgebra.AbstractQ</b>) in LinearAlgebra at <a href=\"file:///Users/julia/.julia/scratchspaces/a66863c6-20e8-4ff4-8a62-49f30b1f605e/agent-cache/default-honeycrisp-HL2F7YQ3XH.0/build/default-honeycrisp-HL2F7YQ3XH-0/julialang/julia-release-1-dot-11/usr/share/julia/stdlib/v1.11/LinearAlgebra/src/abstractq.jl\" target=\"_blank\">/Users/uqjnazar/.julia/juliaup/julia-1.11.5+0.aarch64.apple.darwin14/share/julia/stdlib/v1.11/LinearAlgebra/src/abstractq.jl:196</a></li> <li> *(u::<b>AbstractVector</b>, tv::<b>Union{LinearAlgebra.Adjoint{T, var\"#s5029\"}, LinearAlgebra.Transpose{T, var\"#s5029\"}} where {T, var\"#s5029\"<:(AbstractVector)}</b>, C::<b>AbstractMatrix</b>) in LinearAlgebra at <a href=\"file:///Users/julia/.julia/scratchspaces/a66863c6-20e8-4ff4-8a62-49f30b1f605e/agent-cache/default-honeycrisp-HL2F7YQ3XH.0/build/default-honeycrisp-HL2F7YQ3XH-0/julialang/julia-release-1-dot-11/usr/share/julia/stdlib/v1.11/LinearAlgebra/src/matmul.jl\" target=\"_blank\">/Users/uqjnazar/.julia/juliaup/julia-1.11.5+0.aarch64.apple.darwin14/share/julia/stdlib/v1.11/LinearAlgebra/src/matmul.jl:1130</a></li> <li> *(u::<b>AbstractVector</b>, tv::<b>Union{LinearAlgebra.Adjoint{T, var\"#s5029\"}, LinearAlgebra.Transpose{T, var\"#s5029\"}} where {T, var\"#s5029\"<:(AbstractVector)}</b>, γ::<b>Number</b>) in LinearAlgebra at <a href=\"file:///Users/julia/.julia/scratchspaces/a66863c6-20e8-4ff4-8a62-49f30b1f605e/agent-cache/default-honeycrisp-HL2F7YQ3XH.0/build/default-honeycrisp-HL2F7YQ3XH-0/julialang/julia-release-1-dot-11/usr/share/julia/stdlib/v1.11/LinearAlgebra/src/matmul.jl\" target=\"_blank\">/Users/uqjnazar/.julia/juliaup/julia-1.11.5+0.aarch64.apple.darwin14/share/julia/stdlib/v1.11/LinearAlgebra/src/matmul.jl:1129</a></li> <li> *(x::<b>AbstractMatrix{<:Number}</b>) in Base at <a href=\"https://github.com/JuliaLang/julia/tree/760b2e5b7396f9cc0da5efce0cadd5d1974c4069/base/abstractarraymath.jl#L222\" target=\"_blank\">abstractarraymath.jl:222</a></li> <li> *(x::<b>ForwardDiff.Dual{Tx}</b>, y::<b>RoundingMode</b>)<i> where Tx</i> in ForwardDiff at <a href=\"file:///Users/uqjnazar/.julia/packages/ForwardDiff/Wq9Wb/src/dual.jl\" target=\"_blank\">/Users/uqjnazar/.julia/packages/ForwardDiff/Wq9Wb/src/dual.jl:148</a></li> <li> *(c::<b>Union{TransparentColor{C, T}, C} where {T, C<:Union{AbstractGray{T}, AbstractRGB{T}}}</b>, f::<b>Real</b>) in ColorVectorSpace at <a href=\"file:///Users/uqjnazar/.julia/packages/ColorVectorSpace/JXxVe/src/ColorVectorSpace.jl\" target=\"_blank\">/Users/uqjnazar/.julia/packages/ColorVectorSpace/JXxVe/src/ColorVectorSpace.jl:247</a></li> <li> *(a::<b>Union{LMS, XYZ}</b>, k::<b>Number</b>) in Colors at <a href=\"file:///Users/uqjnazar/.julia/packages/Colors/itIUE/src/algorithms.jl\" target=\"_blank\">/Users/uqjnazar/.julia/packages/Colors/itIUE/src/algorithms.jl:8</a></li> <li> *(α::<b>Union{Real, Complex}</b>, vt::<b>Union{LinearAlgebra.Adjoint{var\"#s5029\", var\"#s50291\"}, LinearAlgebra.Transpose{var\"#s5029\", var\"#s50291\"}} where {var\"#s5029\"<:Union{Real, Complex}, var\"#s50291\"<:(AbstractVector)}</b>, C::<b>AbstractMatrix{<:Union{Real, Complex}}</b>, D::<b>AbstractMatrix{<:Union{Real, Complex}}</b>) in LinearAlgebra at <a href=\"file:///Users/julia/.julia/scratchspaces/a66863c6-20e8-4ff4-8a62-49f30b1f605e/agent-cache/default-honeycrisp-HL2F7YQ3XH.0/build/default-honeycrisp-HL2F7YQ3XH-0/julialang/julia-release-1-dot-11/usr/share/julia/stdlib/v1.11/LinearAlgebra/src/matmul.jl\" target=\"_blank\">/Users/uqjnazar/.julia/juliaup/julia-1.11.5+0.aarch64.apple.darwin14/share/julia/stdlib/v1.11/LinearAlgebra/src/matmul.jl:1184</a></li> <li> *(α::<b>Union{Real, Complex}</b>, B::<b>AbstractMatrix{<:Union{Real, Complex}}</b>, C::<b>AbstractMatrix{<:Union{Real, Complex}}</b>, D::<b>AbstractMatrix{<:Union{Real, Complex}}</b>) in LinearAlgebra at <a href=\"file:///Users/julia/.julia/scratchspaces/a66863c6-20e8-4ff4-8a62-49f30b1f605e/agent-cache/default-honeycrisp-HL2F7YQ3XH.0/build/default-honeycrisp-HL2F7YQ3XH-0/julialang/julia-release-1-dot-11/usr/share/julia/stdlib/v1.11/LinearAlgebra/src/matmul.jl\" target=\"_blank\">/Users/uqjnazar/.julia/juliaup/julia-1.11.5+0.aarch64.apple.darwin14/share/julia/stdlib/v1.11/LinearAlgebra/src/matmul.jl:1199</a></li> <li> *(α::<b>Union{Real, Complex}</b>, B::<b>AbstractMatrix{<:Union{Real, Complex}}</b>, C::<b>AbstractMatrix{<:Union{Real, Complex}}</b>) in LinearAlgebra at <a href=\"file:///Users/julia/.julia/scratchspaces/a66863c6-20e8-4ff4-8a62-49f30b1f605e/agent-cache/default-honeycrisp-HL2F7YQ3XH.0/build/default-honeycrisp-HL2F7YQ3XH-0/julialang/julia-release-1-dot-11/usr/share/julia/stdlib/v1.11/LinearAlgebra/src/matmul.jl\" target=\"_blank\">/Users/uqjnazar/.julia/juliaup/julia-1.11.5+0.aarch64.apple.darwin14/share/julia/stdlib/v1.11/LinearAlgebra/src/matmul.jl:1125</a></li> <li> *(α::<b>Union{Real, Complex}</b>, B::<b>AbstractMatrix{<:Union{Real, Complex}}</b>, C::<b>AbstractVector{<:Union{Real, Complex}}</b>) in LinearAlgebra at <a href=\"file:///Users/julia/.julia/scratchspaces/a66863c6-20e8-4ff4-8a62-49f30b1f605e/agent-cache/default-honeycrisp-HL2F7YQ3XH.0/build/default-honeycrisp-HL2F7YQ3XH-0/julialang/julia-release-1-dot-11/usr/share/julia/stdlib/v1.11/LinearAlgebra/src/matmul.jl\" target=\"_blank\">/Users/uqjnazar/.julia/juliaup/julia-1.11.5+0.aarch64.apple.darwin14/share/julia/stdlib/v1.11/LinearAlgebra/src/matmul.jl:1123</a></li> <li> *(d::<b>Union{AbstractChar, AbstractString}</b>, x::<b>Missing</b>) in Base at <a href=\"https://github.com/JuliaLang/julia/tree/760b2e5b7396f9cc0da5efce0cadd5d1974c4069/base/missing.jl#L175\" target=\"_blank\">missing.jl:175</a></li> <li> *(s1::<b>Union{AbstractChar, AbstractString}</b>, ss::<b>Union{AbstractChar, AbstractString}...</b>) in Base at <a href=\"https://github.com/JuliaLang/julia/tree/760b2e5b7396f9cc0da5efce0cadd5d1974c4069/base/strings/basic.jl#L261\" target=\"_blank\">strings/basic.jl:261</a></li> <li> *(r1::<b>Union{Regex, AbstractChar, AbstractString}</b>, rs::<b>Union{Regex, AbstractChar, AbstractString}...</b>) in Base at <a href=\"https://github.com/JuliaLang/julia/tree/760b2e5b7396f9cc0da5efce0cadd5d1974c4069/base/regex.jl#L828\" target=\"_blank\">regex.jl:828</a></li> <li> *(a, b, c, xs...) in Base at <a href=\"https://github.com/JuliaLang/julia/tree/760b2e5b7396f9cc0da5efce0cadd5d1974c4069/base/operators.jl#L596\" target=\"_blank\">operators.jl:596</a></li> </ul>"
      ],
      "text/plain": [
       "# 321 methods for generic function \"*\" from \u001b[90mBase\u001b[39m:\n",
       "   [1] *(\u001b[90mr\u001b[39m::\u001b[1mRegex\u001b[22m)\n",
       "\u001b[90m     @\u001b[39m \u001b[90m\u001b[4mregex.jl:849\u001b[24m\u001b[39m\n",
       "   [2] *(\u001b[90mx\u001b[39m::\u001b[1mBool\u001b[22m, \u001b[90mz\u001b[39m::\u001b[1mComplex\u001b[22m\u001b[0m{Bool})\n",
       "\u001b[90m     @\u001b[39m \u001b[90m\u001b[4mcomplex.jl:312\u001b[24m\u001b[39m\n",
       "   [3] *(\u001b[90mx\u001b[39m::\u001b[1mBool\u001b[22m, \u001b[90my\u001b[39m::\u001b[1mBool\u001b[22m)\n",
       "\u001b[90m     @\u001b[39m \u001b[90m\u001b[4mbool.jl:168\u001b[24m\u001b[39m\n",
       "   [4] *(\u001b[90mx\u001b[39m::\u001b[1mBool\u001b[22m, \u001b[90md\u001b[39m::\u001b[1mForwardDiff.Dual\u001b[22m)\n",
       "\u001b[90m     @\u001b[39m \u001b[36mForwardDiff\u001b[39m \u001b[90m~/.julia/packages/ForwardDiff/Wq9Wb/src/\u001b[39m\u001b[90m\u001b[4mdual.jl:531\u001b[24m\u001b[39m\n",
       "   [5] *(\u001b[90mx\u001b[39m::\u001b[1mBool\u001b[22m, \u001b[90my\u001b[39m::\u001b[1mAbstractIrrational\u001b[22m)\n",
       "\u001b[90m     @\u001b[39m \u001b[90m\u001b[4mirrationals.jl:181\u001b[24m\u001b[39m\n",
       "   [6] *(\u001b[90mx\u001b[39m::\u001b[1mBool\u001b[22m, \u001b[90mz\u001b[39m::\u001b[1mComplex\u001b[22m)\n",
       "\u001b[90m     @\u001b[39m \u001b[90m\u001b[4mcomplex.jl:319\u001b[24m\u001b[39m\n",
       "   [7] *(\u001b[90mx\u001b[39m::\u001b[1mReal\u001b[22m, \u001b[90mz\u001b[39m::\u001b[1mComplex\u001b[22m\u001b[0m{Bool})\n",
       "\u001b[90m     @\u001b[39m \u001b[90m\u001b[4mcomplex.jl:330\u001b[24m\u001b[39m\n",
       "   [8] *(\u001b[90mx\u001b[39m::\u001b[1mBool\u001b[22m, \u001b[90my\u001b[39m::\u001b[1mT\u001b[22m) where T<:AbstractFloat\n",
       "\u001b[90m     @\u001b[39m \u001b[90m\u001b[4mbool.jl:179\u001b[24m\u001b[39m\n",
       "   [9] *(\u001b[90mx\u001b[39m::\u001b[1mRational\u001b[22m\u001b[0m{BigInt}, \u001b[90my\u001b[39m::\u001b[1mRational\u001b[22m\u001b[0m{BigInt})\n",
       "\u001b[90m     @\u001b[39m \u001b[90mBase.GMP.MPQ\u001b[39m \u001b[90m\u001b[4mgmp.jl:1056\u001b[24m\u001b[39m\n",
       "  [10] *(::\u001b[1mMissing\u001b[22m, ::\u001b[1mMissing\u001b[22m)\n",
       "\u001b[90m     @\u001b[39m \u001b[90m\u001b[4mmissing.jl:122\u001b[24m\u001b[39m\n",
       "  [11] *(::\u001b[1mMissing\u001b[22m)\n",
       "\u001b[90m     @\u001b[39m \u001b[90m\u001b[4mmissing.jl:101\u001b[24m\u001b[39m\n",
       "  [12] *(\u001b[90md\u001b[39m::\u001b[1mMissing\u001b[22m, \u001b[90mx\u001b[39m::\u001b[1mUnion\u001b[22m\u001b[0m{AbstractChar, AbstractString})\n",
       "\u001b[90m     @\u001b[39m \u001b[90m\u001b[4mmissing.jl:174\u001b[24m\u001b[39m\n",
       "  [13] *(::\u001b[1mMissing\u001b[22m, ::\u001b[1mNumber\u001b[22m)\n",
       "\u001b[90m     @\u001b[39m \u001b[90m\u001b[4mmissing.jl:123\u001b[24m\u001b[39m\n",
       "  [14] *(\u001b[90mm1\u001b[39m::\u001b[1mMeasures.AbsoluteLength\u001b[22m, \u001b[90mm2\u001b[39m::\u001b[1mMeasures.Length\u001b[22m\u001b[0m{:pct})\n",
       "\u001b[90m     @\u001b[39m \u001b[33mPlots.PlotMeasures\u001b[39m \u001b[90m~/.julia/packages/Plots/MR7sb/src/\u001b[39m\u001b[90m\u001b[4mplotmeasures.jl:16\u001b[24m\u001b[39m\n",
       "  [15] *(\u001b[90mz\u001b[39m::\u001b[1mComplex\u001b[22m\u001b[0m{Bool}, \u001b[90mx\u001b[39m::\u001b[1mBool\u001b[22m)\n",
       "\u001b[90m     @\u001b[39m \u001b[90m\u001b[4mcomplex.jl:313\u001b[24m\u001b[39m\n",
       "  [16] *(\u001b[90mz\u001b[39m::\u001b[1mComplex\u001b[22m\u001b[0m{Bool}, \u001b[90mx\u001b[39m::\u001b[1mReal\u001b[22m)\n",
       "\u001b[90m     @\u001b[39m \u001b[90m\u001b[4mcomplex.jl:331\u001b[24m\u001b[39m\n",
       "  [17] *(\u001b[90mz\u001b[39m::\u001b[1mComplex\u001b[22m, \u001b[90mx\u001b[39m::\u001b[1mBool\u001b[22m)\n",
       "\u001b[90m     @\u001b[39m \u001b[90m\u001b[4mcomplex.jl:320\u001b[24m\u001b[39m\n",
       "  [18] *(\u001b[90mc\u001b[39m::\u001b[1mBigInt\u001b[22m, \u001b[90mx\u001b[39m::\u001b[1mBigFloat\u001b[22m)\n",
       "\u001b[90m     @\u001b[39m \u001b[90mBase.MPFR\u001b[39m \u001b[90m\u001b[4mmpfr.jl:527\u001b[24m\u001b[39m\n",
       "  [19] *(\u001b[90ma\u001b[39m::\u001b[1mBigInt\u001b[22m, \u001b[90mb\u001b[39m::\u001b[1mBigInt\u001b[22m, \u001b[90mc\u001b[39m::\u001b[1mBigInt\u001b[22m, \u001b[90md\u001b[39m::\u001b[1mBigInt\u001b[22m, \u001b[90me\u001b[39m::\u001b[1mBigInt\u001b[22m)\n",
       "\u001b[90m     @\u001b[39m \u001b[90mBase.GMP\u001b[39m \u001b[90m\u001b[4mgmp.jl:538\u001b[24m\u001b[39m\n",
       "  [20] *(\u001b[90ma\u001b[39m::\u001b[1mBigInt\u001b[22m, \u001b[90mb\u001b[39m::\u001b[1mBigInt\u001b[22m, \u001b[90mc\u001b[39m::\u001b[1mBigInt\u001b[22m, \u001b[90md\u001b[39m::\u001b[1mBigInt\u001b[22m)\n",
       "\u001b[90m     @\u001b[39m \u001b[90mBase.GMP\u001b[39m \u001b[90m\u001b[4mgmp.jl:537\u001b[24m\u001b[39m\n",
       "  [21] *(\u001b[90ma\u001b[39m::\u001b[1mBigInt\u001b[22m, \u001b[90mb\u001b[39m::\u001b[1mBigInt\u001b[22m, \u001b[90mc\u001b[39m::\u001b[1mBigInt\u001b[22m)\n",
       "\u001b[90m     @\u001b[39m \u001b[90mBase.GMP\u001b[39m \u001b[90m\u001b[4mgmp.jl:536\u001b[24m\u001b[39m\n",
       "  [22] *(\u001b[90mx\u001b[39m::\u001b[1mBigInt\u001b[22m, \u001b[90my\u001b[39m::\u001b[1mBigInt\u001b[22m)\n",
       "\u001b[90m     @\u001b[39m \u001b[90mBase.GMP\u001b[39m \u001b[90m\u001b[4mgmp.jl:496\u001b[24m\u001b[39m\n",
       "  [23] *(\u001b[90mx\u001b[39m::\u001b[1mBigInt\u001b[22m, \u001b[90mc\u001b[39m::\u001b[1mUnion\u001b[22m\u001b[0m{Int16, Int32, Int64, Int8})\n",
       "\u001b[90m     @\u001b[39m \u001b[90mBase.GMP\u001b[39m \u001b[90m\u001b[4mgmp.jl:557\u001b[24m\u001b[39m\n",
       "  [24] *(\u001b[90mx\u001b[39m::\u001b[1mBigInt\u001b[22m, \u001b[90mc\u001b[39m::\u001b[1mUnion\u001b[22m\u001b[0m{UInt16, UInt32, UInt64, UInt8})\n",
       "\u001b[90m     @\u001b[39m \u001b[90mBase.GMP\u001b[39m \u001b[90m\u001b[4mgmp.jl:555\u001b[24m\u001b[39m\n",
       "  [25] *(\u001b[90mx\u001b[39m::\u001b[1mBigFloat\u001b[22m, \u001b[90mc\u001b[39m::\u001b[1mBigInt\u001b[22m)\n",
       "\u001b[90m     @\u001b[39m \u001b[90mBase.MPFR\u001b[39m \u001b[90m\u001b[4mmpfr.jl:522\u001b[24m\u001b[39m\n",
       "  [26] *(\u001b[90ma\u001b[39m::\u001b[1mBigFloat\u001b[22m, \u001b[90mb\u001b[39m::\u001b[1mBigFloat\u001b[22m, \u001b[90mc\u001b[39m::\u001b[1mBigFloat\u001b[22m, \u001b[90md\u001b[39m::\u001b[1mBigFloat\u001b[22m, \u001b[90me\u001b[39m::\u001b[1mBigFloat\u001b[22m)\n",
       "\u001b[90m     @\u001b[39m \u001b[90mBase.MPFR\u001b[39m \u001b[90m\u001b[4mmpfr.jl:678\u001b[24m\u001b[39m\n",
       "  [27] *(\u001b[90mx\u001b[39m::\u001b[1mBigFloat\u001b[22m, \u001b[90my\u001b[39m::\u001b[1mBigFloat\u001b[22m)\n",
       "\u001b[90m     @\u001b[39m \u001b[90mBase.MPFR\u001b[39m \u001b[90m\u001b[4mmpfr.jl:491\u001b[24m\u001b[39m\n",
       "  [28] *(\u001b[90ma\u001b[39m::\u001b[1mBigFloat\u001b[22m, \u001b[90mb\u001b[39m::\u001b[1mBigFloat\u001b[22m, \u001b[90mc\u001b[39m::\u001b[1mBigFloat\u001b[22m)\n",
       "\u001b[90m     @\u001b[39m \u001b[90mBase.MPFR\u001b[39m \u001b[90m\u001b[4mmpfr.jl:665\u001b[24m\u001b[39m\n",
       "  [29] *(\u001b[90ma\u001b[39m::\u001b[1mBigFloat\u001b[22m, \u001b[90mb\u001b[39m::\u001b[1mBigFloat\u001b[22m, \u001b[90mc\u001b[39m::\u001b[1mBigFloat\u001b[22m, \u001b[90md\u001b[39m::\u001b[1mBigFloat\u001b[22m)\n",
       "\u001b[90m     @\u001b[39m \u001b[90mBase.MPFR\u001b[39m \u001b[90m\u001b[4mmpfr.jl:671\u001b[24m\u001b[39m\n",
       "  [30] *(\u001b[90mx\u001b[39m::\u001b[1mBigFloat\u001b[22m, \u001b[90mc\u001b[39m::\u001b[1mUnion\u001b[22m\u001b[0m{UInt16, UInt32, UInt64, UInt8})\n",
       "\u001b[90m     @\u001b[39m \u001b[90mBase.MPFR\u001b[39m \u001b[90m\u001b[4mmpfr.jl:498\u001b[24m\u001b[39m\n",
       "  [31] *(\u001b[90mx\u001b[39m::\u001b[1mBigFloat\u001b[22m, \u001b[90mc\u001b[39m::\u001b[1mUnion\u001b[22m\u001b[0m{Int16, Int32, Int64, Int8})\n",
       "\u001b[90m     @\u001b[39m \u001b[90mBase.MPFR\u001b[39m \u001b[90m\u001b[4mmpfr.jl:506\u001b[24m\u001b[39m\n",
       "  [32] *(\u001b[90mx\u001b[39m::\u001b[1mBigFloat\u001b[22m, \u001b[90mc\u001b[39m::\u001b[1mUnion\u001b[22m\u001b[0m{Float16, Float32, Float64})\n",
       "\u001b[90m     @\u001b[39m \u001b[90mBase.MPFR\u001b[39m \u001b[90m\u001b[4mmpfr.jl:514\u001b[24m\u001b[39m\n",
       "  [33] *(\u001b[90mB\u001b[39m::\u001b[1mBitMatrix\u001b[22m, \u001b[90mJ\u001b[39m::\u001b[1mLinearAlgebra.UniformScaling\u001b[22m)\n",
       "\u001b[90m     @\u001b[39m \u001b[35mLinearAlgebra\u001b[39m \u001b[90m~/.julia/juliaup/julia-1.11.5+0.aarch64.apple.darwin14/share/julia/stdlib/v1.11/LinearAlgebra/src/\u001b[39m\u001b[90m\u001b[4muniformscaling.jl:258\u001b[24m\u001b[39m\n",
       "  [34] *(::\u001b[1mNumber\u001b[22m, ::\u001b[1mMissing\u001b[22m)\n",
       "\u001b[90m     @\u001b[39m \u001b[90m\u001b[4mmissing.jl:124\u001b[24m\u001b[39m\n",
       "  [35] *(\u001b[90mα\u001b[39m::\u001b[1mNumber\u001b[22m, \u001b[90mβ\u001b[39m::\u001b[1mNumber\u001b[22m, \u001b[90mC\u001b[39m::\u001b[1mAbstractMatrix\u001b[22m, \u001b[90mD\u001b[39m::\u001b[1mAbstractMatrix\u001b[22m)\n",
       "\u001b[90m     @\u001b[39m \u001b[35mLinearAlgebra\u001b[39m \u001b[90m~/.julia/juliaup/julia-1.11.5+0.aarch64.apple.darwin14/share/julia/stdlib/v1.11/LinearAlgebra/src/\u001b[39m\u001b[90m\u001b[4mmatmul.jl:1181\u001b[24m\u001b[39m\n",
       "  [36] *(\u001b[90mα\u001b[39m::\u001b[1mNumber\u001b[22m, \u001b[90mβ\u001b[39m::\u001b[1mNumber\u001b[22m, \u001b[90mC\u001b[39m::\u001b[1mAbstractMatrix\u001b[22m, \u001b[90mx\u001b[39m::\u001b[1mAbstractVector\u001b[22m)\n",
       "\u001b[90m     @\u001b[39m \u001b[35mLinearAlgebra\u001b[39m \u001b[90m~/.julia/juliaup/julia-1.11.5+0.aarch64.apple.darwin14/share/julia/stdlib/v1.11/LinearAlgebra/src/\u001b[39m\u001b[90m\u001b[4mmatmul.jl:1180\u001b[24m\u001b[39m\n",
       "  [37] *(\u001b[90mx\u001b[39m::\u001b[1mRational\u001b[22m, \u001b[90my\u001b[39m::\u001b[1mRational\u001b[22m)\n",
       "\u001b[90m     @\u001b[39m \u001b[90m\u001b[4mrational.jl:393\u001b[24m\u001b[39m\n",
       "  [38] *(\u001b[90mx\u001b[39m::\u001b[1mAbstractIrrational\u001b[22m, \u001b[90my\u001b[39m::\u001b[1mAbstractIrrational\u001b[22m)\n",
       "\u001b[90m     @\u001b[39m \u001b[90m\u001b[4mirrationals.jl:179\u001b[24m\u001b[39m\n",
       "  [39] *(\u001b[90mc\u001b[39m::\u001b[1mUnion\u001b[22m\u001b[0m{Int16, Int32, Int64, Int8}, \u001b[90mx\u001b[39m::\u001b[1mBigInt\u001b[22m)\n",
       "\u001b[90m     @\u001b[39m \u001b[90mBase.GMP\u001b[39m \u001b[90m\u001b[4mgmp.jl:558\u001b[24m\u001b[39m\n",
       "  [40] *(\u001b[90mc\u001b[39m::\u001b[1mUnion\u001b[22m\u001b[0m{UInt16, UInt32, UInt64, UInt8}, \u001b[90mx\u001b[39m::\u001b[1mBigInt\u001b[22m)\n",
       "\u001b[90m     @\u001b[39m \u001b[90mBase.GMP\u001b[39m \u001b[90m\u001b[4mgmp.jl:556\u001b[24m\u001b[39m\n",
       "  [41] *(\u001b[90mx\u001b[39m::\u001b[1mT\u001b[22m, \u001b[90my\u001b[39m::\u001b[1mT\u001b[22m) where T<:Union{Int128, UInt128}\n",
       "\u001b[90m     @\u001b[39m \u001b[90m\u001b[4mint.jl:998\u001b[24m\u001b[39m\n",
       "  [42] *(\u001b[90mx\u001b[39m::\u001b[1mT\u001b[22m, \u001b[90my\u001b[39m::\u001b[1mT\u001b[22m) where T<:Union{Int128, Int16, Int32, Int64, Int8, UInt128, UInt16, UInt32, UInt64, UInt8}\n",
       "\u001b[90m     @\u001b[39m \u001b[90m\u001b[4mint.jl:88\u001b[24m\u001b[39m\n",
       "  [43] *(\u001b[90ma\u001b[39m::\u001b[1mInteger\u001b[22m, \u001b[90mb\u001b[39m::\u001b[1mInteger\u001b[22m)\n",
       "\u001b[90m     @\u001b[39m \u001b[90m\u001b[4mint.jl:1009\u001b[24m\u001b[39m\n",
       "  [44] *(\u001b[90mz\u001b[39m::\u001b[1mComplex\u001b[22m, \u001b[90mw\u001b[39m::\u001b[1mComplex\u001b[22m)\n",
       "\u001b[90m     @\u001b[39m \u001b[90m\u001b[4mcomplex.jl:299\u001b[24m\u001b[39m\n",
       "  [45] *(\u001b[90mx\u001b[39m::\u001b[1mFixedPointNumbers.Fixed\u001b[22m\u001b[0m{T, f}, \u001b[90my\u001b[39m::\u001b[1mFixedPointNumbers.Fixed\u001b[22m\u001b[0m{T, f}) where {T, f}\n",
       "\u001b[90m     @\u001b[39m \u001b[33mFixedPointNumbers\u001b[39m \u001b[90m~/.julia/packages/FixedPointNumbers/Dn4hv/src/\u001b[39m\u001b[90m\u001b[4mfixed.jl:100\u001b[24m\u001b[39m\n",
       "  [46] *(\u001b[90mx\u001b[39m::\u001b[1mT\u001b[22m, \u001b[90my\u001b[39m::\u001b[1mT\u001b[22m) where T<:FixedPointNumbers.Normed\n",
       "\u001b[90m     @\u001b[39m \u001b[33mFixedPointNumbers\u001b[39m \u001b[90m~/.julia/packages/FixedPointNumbers/Dn4hv/src/\u001b[39m\u001b[90m\u001b[4mnormed.jl:252\u001b[24m\u001b[39m\n",
       "  [47] *(\u001b[90mx\u001b[39m::\u001b[1mRational\u001b[22m, \u001b[90my\u001b[39m::\u001b[1mForwardDiff.Dual\u001b[22m\u001b[0m{Ty}) where Ty\n",
       "\u001b[90m     @\u001b[39m \u001b[36mForwardDiff\u001b[39m \u001b[90m~/.julia/packages/ForwardDiff/Wq9Wb/src/\u001b[39m\u001b[90m\u001b[4mdual.jl:149\u001b[24m\u001b[39m\n",
       "  [48] *(\u001b[90mx\u001b[39m::\u001b[1mIrrational\u001b[22m, \u001b[90my\u001b[39m::\u001b[1mForwardDiff.Dual\u001b[22m\u001b[0m{Ty}) where Ty\n",
       "\u001b[90m     @\u001b[39m \u001b[36mForwardDiff\u001b[39m \u001b[90m~/.julia/packages/ForwardDiff/Wq9Wb/src/\u001b[39m\u001b[90m\u001b[4mdual.jl:149\u001b[24m\u001b[39m\n",
       "  [49] *(\u001b[90mx\u001b[39m::\u001b[1mAbstractFloat\u001b[22m, \u001b[90my\u001b[39m::\u001b[1mForwardDiff.Dual\u001b[22m\u001b[0m{Ty}) where Ty\n",
       "\u001b[90m     @\u001b[39m \u001b[36mForwardDiff\u001b[39m \u001b[90m~/.julia/packages/ForwardDiff/Wq9Wb/src/\u001b[39m\u001b[90m\u001b[4mdual.jl:149\u001b[24m\u001b[39m\n",
       "  [50] *(\u001b[90mx\u001b[39m::\u001b[1mInteger\u001b[22m, \u001b[90my\u001b[39m::\u001b[1mForwardDiff.Dual\u001b[22m\u001b[0m{Ty}) where Ty\n",
       "\u001b[90m     @\u001b[39m \u001b[36mForwardDiff\u001b[39m \u001b[90m~/.julia/packages/ForwardDiff/Wq9Wb/src/\u001b[39m\u001b[90m\u001b[4mdual.jl:149\u001b[24m\u001b[39m\n",
       "  [51] *(\u001b[90md\u001b[39m::\u001b[1mForwardDiff.Dual\u001b[22m, \u001b[90mx\u001b[39m::\u001b[1mBool\u001b[22m)\n",
       "\u001b[90m     @\u001b[39m \u001b[36mForwardDiff\u001b[39m \u001b[90m~/.julia/packages/ForwardDiff/Wq9Wb/src/\u001b[39m\u001b[90m\u001b[4mdual.jl:530\u001b[24m\u001b[39m\n",
       "  [52] *(\u001b[90mx\u001b[39m::\u001b[1mForwardDiff.Dual\u001b[22m\u001b[0m{Tx}, \u001b[90my\u001b[39m::\u001b[1mIrrational\u001b[22m) where Tx\n",
       "\u001b[90m     @\u001b[39m \u001b[36mForwardDiff\u001b[39m \u001b[90m~/.julia/packages/ForwardDiff/Wq9Wb/src/\u001b[39m\u001b[90m\u001b[4mdual.jl:148\u001b[24m\u001b[39m\n",
       "  [53] *(\u001b[90mx\u001b[39m::\u001b[1mForwardDiff.Dual\u001b[22m\u001b[0m{Txy}, \u001b[90my\u001b[39m::\u001b[1mForwardDiff.Dual\u001b[22m\u001b[0m{Txy}) where Txy\n",
       "\u001b[90m     @\u001b[39m \u001b[36mForwardDiff\u001b[39m \u001b[90m~/.julia/packages/ForwardDiff/Wq9Wb/src/\u001b[39m\u001b[90m\u001b[4mdual.jl:143\u001b[24m\u001b[39m\n",
       "  [54] *(\u001b[90mx\u001b[39m::\u001b[1mForwardDiff.Dual\u001b[22m\u001b[0m{Tx}, \u001b[90my\u001b[39m::\u001b[1mForwardDiff.Dual\u001b[22m\u001b[0m{Ty}) where {Tx, Ty}\n",
       "\u001b[90m     @\u001b[39m \u001b[36mForwardDiff\u001b[39m \u001b[90m~/.julia/packages/ForwardDiff/Wq9Wb/src/\u001b[39m\u001b[90m\u001b[4mdual.jl:144\u001b[24m\u001b[39m\n",
       "  [55] *(\u001b[90mx\u001b[39m::\u001b[1mForwardDiff.Dual\u001b[22m\u001b[0m{Tx}, \u001b[90my\u001b[39m::\u001b[1mAbstractFloat\u001b[22m) where Tx\n",
       "\u001b[90m     @\u001b[39m \u001b[36mForwardDiff\u001b[39m \u001b[90m~/.julia/packages/ForwardDiff/Wq9Wb/src/\u001b[39m\u001b[90m\u001b[4mdual.jl:148\u001b[24m\u001b[39m\n",
       "  [56] *(\u001b[90mx\u001b[39m::\u001b[1mForwardDiff.Dual\u001b[22m\u001b[0m{Tx}, \u001b[90my\u001b[39m::\u001b[1mRational\u001b[22m) where Tx\n",
       "\u001b[90m     @\u001b[39m \u001b[36mForwardDiff\u001b[39m \u001b[90m~/.julia/packages/ForwardDiff/Wq9Wb/src/\u001b[39m\u001b[90m\u001b[4mdual.jl:148\u001b[24m\u001b[39m\n",
       "  [57] *(\u001b[90mx\u001b[39m::\u001b[1mForwardDiff.Dual\u001b[22m\u001b[0m{Tx}, \u001b[90my\u001b[39m::\u001b[1mInteger\u001b[22m) where Tx\n",
       "\u001b[90m     @\u001b[39m \u001b[36mForwardDiff\u001b[39m \u001b[90m~/.julia/packages/ForwardDiff/Wq9Wb/src/\u001b[39m\u001b[90m\u001b[4mdual.jl:148\u001b[24m\u001b[39m\n",
       "  [58] *(\u001b[90mx\u001b[39m::\u001b[1mReal\u001b[22m, \u001b[90my\u001b[39m::\u001b[1mForwardDiff.Dual\u001b[22m\u001b[0m{Ty}) where Ty\n",
       "\u001b[90m     @\u001b[39m \u001b[36mForwardDiff\u001b[39m \u001b[90m~/.julia/packages/ForwardDiff/Wq9Wb/src/\u001b[39m\u001b[90m\u001b[4mdual.jl:149\u001b[24m\u001b[39m\n",
       "  [59] *(\u001b[90mx\u001b[39m::\u001b[1mForwardDiff.Dual\u001b[22m\u001b[0m{Tx}, \u001b[90my\u001b[39m::\u001b[1mReal\u001b[22m) where Tx\n",
       "\u001b[90m     @\u001b[39m \u001b[36mForwardDiff\u001b[39m \u001b[90m~/.julia/packages/ForwardDiff/Wq9Wb/src/\u001b[39m\u001b[90m\u001b[4mdual.jl:148\u001b[24m\u001b[39m\n",
       "  [60] *(\u001b[90mx\u001b[39m::\u001b[1mT\u001b[22m, \u001b[90my\u001b[39m::\u001b[1mT\u001b[22m) where T<:Union{Float16, Float32, Float64}\n",
       "\u001b[90m     @\u001b[39m \u001b[90m\u001b[4mfloat.jl:493\u001b[24m\u001b[39m\n",
       "  [61] *(\u001b[90mx\u001b[39m::\u001b[1mT\u001b[22m, \u001b[90my\u001b[39m::\u001b[1mT\u001b[22m) where T<:Number\n",
       "\u001b[90m     @\u001b[39m \u001b[90m\u001b[4mpromotion.jl:626\u001b[24m\u001b[39m\n",
       "  [62] *(\u001b[90mx\u001b[39m::\u001b[1mRational\u001b[22m, \u001b[90my\u001b[39m::\u001b[1mInteger\u001b[22m)\n",
       "\u001b[90m     @\u001b[39m \u001b[90m\u001b[4mrational.jl:398\u001b[24m\u001b[39m\n",
       "  [63] *(\u001b[90my\u001b[39m::\u001b[1mAbstractFloat\u001b[22m, \u001b[90mx\u001b[39m::\u001b[1mBool\u001b[22m)\n",
       "\u001b[90m     @\u001b[39m \u001b[90m\u001b[4mbool.jl:182\u001b[24m\u001b[39m\n",
       "  [64] *(\u001b[90my\u001b[39m::\u001b[1mInteger\u001b[22m, \u001b[90mx\u001b[39m::\u001b[1mRational\u001b[22m)\n",
       "\u001b[90m     @\u001b[39m \u001b[90m\u001b[4mrational.jl:402\u001b[24m\u001b[39m\n",
       "  [65] *(\u001b[90mz\u001b[39m::\u001b[1mComplex\u001b[22m, \u001b[90mx\u001b[39m::\u001b[1mReal\u001b[22m)\n",
       "\u001b[90m     @\u001b[39m \u001b[90m\u001b[4mcomplex.jl:343\u001b[24m\u001b[39m\n",
       "  [66] *(\u001b[90mx\u001b[39m::\u001b[1mReal\u001b[22m, \u001b[90mz\u001b[39m::\u001b[1mComplex\u001b[22m)\n",
       "\u001b[90m     @\u001b[39m \u001b[90m\u001b[4mcomplex.jl:342\u001b[24m\u001b[39m\n",
       "  [67] *(\u001b[90mc\u001b[39m::\u001b[1mUnion\u001b[22m\u001b[0m{Float16, Float32, Float64}, \u001b[90mx\u001b[39m::\u001b[1mBigFloat\u001b[22m)\n",
       "\u001b[90m     @\u001b[39m \u001b[90mBase.MPFR\u001b[39m \u001b[90m\u001b[4mmpfr.jl:519\u001b[24m\u001b[39m\n",
       "  [68] *(\u001b[90mc\u001b[39m::\u001b[1mUnion\u001b[22m\u001b[0m{Int16, Int32, Int64, Int8}, \u001b[90mx\u001b[39m::\u001b[1mBigFloat\u001b[22m)\n",
       "\u001b[90m     @\u001b[39m \u001b[90mBase.MPFR\u001b[39m \u001b[90m\u001b[4mmpfr.jl:511\u001b[24m\u001b[39m\n",
       "  [69] *(\u001b[90mc\u001b[39m::\u001b[1mUnion\u001b[22m\u001b[0m{UInt16, UInt32, UInt64, UInt8}, \u001b[90mx\u001b[39m::\u001b[1mBigFloat\u001b[22m)\n",
       "\u001b[90m     @\u001b[39m \u001b[90mBase.MPFR\u001b[39m \u001b[90m\u001b[4mmpfr.jl:503\u001b[24m\u001b[39m\n",
       "  [70] *(\u001b[90mx\u001b[39m::\u001b[1mNumber\u001b[22m, \u001b[90my\u001b[39m::\u001b[1mNumber\u001b[22m)\n",
       "\u001b[90m     @\u001b[39m \u001b[90m\u001b[4mpromotion.jl:430\u001b[24m\u001b[39m\n",
       "  [71] *(\u001b[90mx\u001b[39m::\u001b[1mS\u001b[22m, \u001b[90mF\u001b[39m::\u001b[1mLinearAlgebra.Hessenberg\u001b[22m\u001b[0m{<:Any, <:AbstractMatrix{T}}) where {T, S<:Number}\n",
       "\u001b[90m     @\u001b[39m \u001b[35mLinearAlgebra\u001b[39m \u001b[90m~/.julia/juliaup/julia-1.11.5+0.aarch64.apple.darwin14/share/julia/stdlib/v1.11/LinearAlgebra/src/\u001b[39m\u001b[90m\u001b[4mhessenberg.jl:550\u001b[24m\u001b[39m\n",
       "  [72] *(\u001b[90mx\u001b[39m::\u001b[1mNumber\u001b[22m, \u001b[90mA\u001b[39m::\u001b[1mLinearAlgebra.UnitUpperTriangular\u001b[22m)\n",
       "\u001b[90m     @\u001b[39m \u001b[35mLinearAlgebra\u001b[39m \u001b[90m~/.julia/juliaup/julia-1.11.5+0.aarch64.apple.darwin14/share/julia/stdlib/v1.11/LinearAlgebra/src/\u001b[39m\u001b[90m\u001b[4mtriangular.jl:1119\u001b[24m\u001b[39m\n",
       "  [73] *(\u001b[90mB\u001b[39m::\u001b[1mNumber\u001b[22m, \u001b[90mA\u001b[39m::\u001b[1mLinearAlgebra.SymTridiagonal\u001b[22m)\n",
       "\u001b[90m     @\u001b[39m \u001b[35mLinearAlgebra\u001b[39m \u001b[90m~/.julia/juliaup/julia-1.11.5+0.aarch64.apple.darwin14/share/julia/stdlib/v1.11/LinearAlgebra/src/\u001b[39m\u001b[90m\u001b[4mtridiag.jl:219\u001b[24m\u001b[39m\n",
       "  [74] *(\u001b[90mx\u001b[39m::\u001b[1mNumber\u001b[22m, \u001b[90mJ\u001b[39m::\u001b[1mLinearAlgebra.UniformScaling\u001b[22m)\n",
       "\u001b[90m     @\u001b[39m \u001b[35mLinearAlgebra\u001b[39m \u001b[90m~/.julia/juliaup/julia-1.11.5+0.aarch64.apple.darwin14/share/julia/stdlib/v1.11/LinearAlgebra/src/\u001b[39m\u001b[90m\u001b[4muniformscaling.jl:263\u001b[24m\u001b[39m\n",
       "  [75] *(\u001b[90mx\u001b[39m::\u001b[1mNumber\u001b[22m, \u001b[90mA\u001b[39m::\u001b[1mLinearAlgebra.UpperTriangular\u001b[22m\u001b[0m{<:Any, <:Union{LinearAlgebra.Adjoint{<:Any, <:StridedMatrix{T}}, LinearAlgebra.Transpose{<:Any, <:StridedMatrix{T}}, StridedArray{T, 2}} where T})\n",
       "\u001b[90m     @\u001b[39m \u001b[35mLinearAlgebra\u001b[39m \u001b[90m~/.julia/juliaup/julia-1.11.5+0.aarch64.apple.darwin14/share/julia/stdlib/v1.11/LinearAlgebra/src/\u001b[39m\u001b[90m\u001b[4mtriangular.jl:1113\u001b[24m\u001b[39m\n",
       "  [76] *(\u001b[90mx\u001b[39m::\u001b[1mNumber\u001b[22m, \u001b[90mA\u001b[39m::\u001b[1mLinearAlgebra.UpperTriangular\u001b[22m)\n",
       "\u001b[90m     @\u001b[39m \u001b[35mLinearAlgebra\u001b[39m \u001b[90m~/.julia/juliaup/julia-1.11.5+0.aarch64.apple.darwin14/share/julia/stdlib/v1.11/LinearAlgebra/src/\u001b[39m\u001b[90m\u001b[4mtriangular.jl:1112\u001b[24m\u001b[39m\n",
       "  [77] *(\u001b[90mx\u001b[39m::\u001b[1mNumber\u001b[22m, \u001b[90mA\u001b[39m::\u001b[1mLinearAlgebra.UnitLowerTriangular\u001b[22m)\n",
       "\u001b[90m     @\u001b[39m \u001b[35mLinearAlgebra\u001b[39m \u001b[90m~/.julia/juliaup/julia-1.11.5+0.aarch64.apple.darwin14/share/julia/stdlib/v1.11/LinearAlgebra/src/\u001b[39m\u001b[90m\u001b[4mtriangular.jl:1119\u001b[24m\u001b[39m\n",
       "  [78] *(\u001b[90mB\u001b[39m::\u001b[1mNumber\u001b[22m, \u001b[90mA\u001b[39m::\u001b[1mLinearAlgebra.Bidiagonal\u001b[22m)\n",
       "\u001b[90m     @\u001b[39m \u001b[35mLinearAlgebra\u001b[39m \u001b[90m~/.julia/juliaup/julia-1.11.5+0.aarch64.apple.darwin14/share/julia/stdlib/v1.11/LinearAlgebra/src/\u001b[39m\u001b[90m\u001b[4mbidiag.jl:416\u001b[24m\u001b[39m\n",
       "  [79] *(\u001b[90mx\u001b[39m::\u001b[1mNumber\u001b[22m, \u001b[90mD\u001b[39m::\u001b[1mLinearAlgebra.Diagonal\u001b[22m)\n",
       "\u001b[90m     @\u001b[39m \u001b[35mLinearAlgebra\u001b[39m \u001b[90m~/.julia/juliaup/julia-1.11.5+0.aarch64.apple.darwin14/share/julia/stdlib/v1.11/LinearAlgebra/src/\u001b[39m\u001b[90m\u001b[4mdiagonal.jl:253\u001b[24m\u001b[39m\n",
       "  [80] *(\u001b[90ma\u001b[39m::\u001b[1mNumber\u001b[22m, \u001b[90mb\u001b[39m::\u001b[1mMeasures.Measure\u001b[22m)\n",
       "\u001b[90m     @\u001b[39m \u001b[32mMeasures\u001b[39m \u001b[90m~/.julia/packages/Measures/PKOxJ/src/\u001b[39m\u001b[90m\u001b[4moperations.jl:48\u001b[24m\u001b[39m\n",
       "  [81] *(\u001b[90mx\u001b[39m::\u001b[1mNumber\u001b[22m, \u001b[90mA\u001b[39m::\u001b[1mLinearAlgebra.Symmetric\u001b[22m)\n",
       "\u001b[90m     @\u001b[39m \u001b[35mLinearAlgebra\u001b[39m \u001b[90m~/.julia/juliaup/julia-1.11.5+0.aarch64.apple.darwin14/share/julia/stdlib/v1.11/LinearAlgebra/src/\u001b[39m\u001b[90m\u001b[4msymmetric.jl:579\u001b[24m\u001b[39m\n",
       "  [82] *(\u001b[90mB\u001b[39m::\u001b[1mNumber\u001b[22m, \u001b[90mA\u001b[39m::\u001b[1mLinearAlgebra.Tridiagonal\u001b[22m)\n",
       "\u001b[90m     @\u001b[39m \u001b[35mLinearAlgebra\u001b[39m \u001b[90m~/.julia/juliaup/julia-1.11.5+0.aarch64.apple.darwin14/share/julia/stdlib/v1.11/LinearAlgebra/src/\u001b[39m\u001b[90m\u001b[4mtridiag.jl:788\u001b[24m\u001b[39m\n",
       "  [83] *(\u001b[90mv\u001b[39m::\u001b[1mNumber\u001b[22m, \u001b[90mx\u001b[39m::\u001b[1mBase.TwicePrecision\u001b[22m)\n",
       "\u001b[90m     @\u001b[39m \u001b[90m\u001b[4mtwiceprecision.jl:315\u001b[24m\u001b[39m\n",
       "  [84] *(\u001b[90mx\u001b[39m::\u001b[1mNumber\u001b[22m, \u001b[90mH\u001b[39m::\u001b[1mLinearAlgebra.UpperHessenberg\u001b[22m)\n",
       "\u001b[90m     @\u001b[39m \u001b[35mLinearAlgebra\u001b[39m \u001b[90m~/.julia/juliaup/julia-1.11.5+0.aarch64.apple.darwin14/share/julia/stdlib/v1.11/LinearAlgebra/src/\u001b[39m\u001b[90m\u001b[4mhessenberg.jl:129\u001b[24m\u001b[39m\n",
       "  [85] *(\u001b[90mα\u001b[39m::\u001b[1mNumber\u001b[22m, \u001b[90mvt\u001b[39m::\u001b[1mUnion\u001b[22m\u001b[0m{LinearAlgebra.Adjoint{T, var\"#s5029\"}, LinearAlgebra.Transpose{T, var\"#s5029\"}} where {T, var\"#s5029\"<:(AbstractVector)}, \u001b[90mC\u001b[39m::\u001b[1mAbstractMatrix\u001b[22m, \u001b[90mx\u001b[39m::\u001b[1mAbstractVector\u001b[22m)\n",
       "\u001b[90m     @\u001b[39m \u001b[35mLinearAlgebra\u001b[39m \u001b[90m~/.julia/juliaup/julia-1.11.5+0.aarch64.apple.darwin14/share/julia/stdlib/v1.11/LinearAlgebra/src/\u001b[39m\u001b[90m\u001b[4mmatmul.jl:1183\u001b[24m\u001b[39m\n",
       "  [86] *(\u001b[90mα\u001b[39m::\u001b[1mNumber\u001b[22m, \u001b[90mB\u001b[39m::\u001b[1mAbstractMatrix\u001b[22m, \u001b[90mC\u001b[39m::\u001b[1mAbstractMatrix\u001b[22m, \u001b[90mx\u001b[39m::\u001b[1mAbstractVector\u001b[22m)\n",
       "\u001b[90m     @\u001b[39m \u001b[35mLinearAlgebra\u001b[39m \u001b[90m~/.julia/juliaup/julia-1.11.5+0.aarch64.apple.darwin14/share/julia/stdlib/v1.11/LinearAlgebra/src/\u001b[39m\u001b[90m\u001b[4mmatmul.jl:1182\u001b[24m\u001b[39m\n",
       "  [87] *(\u001b[90mx\u001b[39m::\u001b[1mNumber\u001b[22m, \u001b[90mA\u001b[39m::\u001b[1mLinearAlgebra.LowerTriangular\u001b[22m\u001b[0m{<:Any, <:Union{LinearAlgebra.Adjoint{<:Any, <:StridedMatrix{T}}, LinearAlgebra.Transpose{<:Any, <:StridedMatrix{T}}, StridedArray{T, 2}} where T})\n",
       "\u001b[90m     @\u001b[39m \u001b[35mLinearAlgebra\u001b[39m \u001b[90m~/.julia/juliaup/julia-1.11.5+0.aarch64.apple.darwin14/share/julia/stdlib/v1.11/LinearAlgebra/src/\u001b[39m\u001b[90m\u001b[4mtriangular.jl:1113\u001b[24m\u001b[39m\n",
       "  [88] *(\u001b[90mx\u001b[39m::\u001b[1mNumber\u001b[22m, \u001b[90mA\u001b[39m::\u001b[1mLinearAlgebra.LowerTriangular\u001b[22m)\n",
       "\u001b[90m     @\u001b[39m \u001b[35mLinearAlgebra\u001b[39m \u001b[90m~/.julia/juliaup/julia-1.11.5+0.aarch64.apple.darwin14/share/julia/stdlib/v1.11/LinearAlgebra/src/\u001b[39m\u001b[90m\u001b[4mtriangular.jl:1112\u001b[24m\u001b[39m\n",
       "  [89] *(\u001b[90ma\u001b[39m::\u001b[1mNumber\u001b[22m, \u001b[90mx\u001b[39m::\u001b[1mUnion\u001b[22m\u001b[0m{SparseArrays.AbstractCompressedVector{Tv, Ti}, SubArray{Tv, 1, <:SparseArrays.AbstractSparseMatrixCSC{Tv, Ti}, Tuple{Base.Slice{Base.OneTo{Int64}}, Int64}, false}, SubArray{Tv, 1, <:SparseArrays.AbstractSparseVector{Tv, Ti}, Tuple{Base.Slice{Base.OneTo{Int64}}}, false}} where {Tv, Ti})\n",
       "\u001b[90m     @\u001b[39m \u001b[35mSparseArrays\u001b[39m \u001b[90m~/.julia/juliaup/julia-1.11.5+0.aarch64.apple.darwin14/share/julia/stdlib/v1.11/SparseArrays/src/\u001b[39m\u001b[90m\u001b[4msparsevector.jl:1758\u001b[24m\u001b[39m\n",
       "  [90] *(\u001b[90mx\u001b[39m::\u001b[1mReal\u001b[22m, \u001b[90mr\u001b[39m::\u001b[1mStepRangeLen\u001b[22m\u001b[0m{<:Real, <:Base.TwicePrecision})\n",
       "\u001b[90m     @\u001b[39m \u001b[90m\u001b[4mtwiceprecision.jl:532\u001b[24m\u001b[39m\n",
       "  [91] *(\u001b[90mx\u001b[39m::\u001b[1mReal\u001b[22m, \u001b[90mpartials\u001b[39m::\u001b[1mForwardDiff.Partials\u001b[22m\u001b[0m{0, V}) where V\n",
       "\u001b[90m     @\u001b[39m \u001b[36mForwardDiff\u001b[39m \u001b[90m~/.julia/packages/ForwardDiff/Wq9Wb/src/\u001b[39m\u001b[90m\u001b[4mpartials.jl:135\u001b[24m\u001b[39m\n",
       "  [92] *(\u001b[90mx\u001b[39m::\u001b[1mReal\u001b[22m, \u001b[90mpartials\u001b[39m::\u001b[1mForwardDiff.Partials\u001b[22m)\n",
       "\u001b[90m     @\u001b[39m \u001b[36mForwardDiff\u001b[39m \u001b[90m~/.julia/packages/ForwardDiff/Wq9Wb/src/\u001b[39m\u001b[90m\u001b[4mpartials.jl:83\u001b[24m\u001b[39m\n",
       "  [93] *(\u001b[90mx\u001b[39m::\u001b[1mReal\u001b[22m, \u001b[90mA\u001b[39m::\u001b[1mLinearAlgebra.Hermitian\u001b[22m)\n",
       "\u001b[90m     @\u001b[39m \u001b[35mLinearAlgebra\u001b[39m \u001b[90m~/.julia/juliaup/julia-1.11.5+0.aarch64.apple.darwin14/share/julia/stdlib/v1.11/LinearAlgebra/src/\u001b[39m\u001b[90m\u001b[4msymmetric.jl:581\u001b[24m\u001b[39m\n",
       "  [94] *(\u001b[90mA\u001b[39m::\u001b[1mNumber\u001b[22m, \u001b[90mB\u001b[39m::\u001b[1mAbstractArray\u001b[22m)\n",
       "\u001b[90m     @\u001b[39m \u001b[90m\u001b[4marraymath.jl:21\u001b[24m\u001b[39m\n",
       "  [95] *(\u001b[90mα\u001b[39m::\u001b[1mNumber\u001b[22m, \u001b[90mu\u001b[39m::\u001b[1mAbstractVector\u001b[22m, \u001b[90mtv\u001b[39m::\u001b[1mUnion\u001b[22m\u001b[0m{LinearAlgebra.Adjoint{T, var\"#s5029\"}, LinearAlgebra.Transpose{T, var\"#s5029\"}} where {T, var\"#s5029\"<:(AbstractVector)})\n",
       "\u001b[90m     @\u001b[39m \u001b[35mLinearAlgebra\u001b[39m \u001b[90m~/.julia/juliaup/julia-1.11.5+0.aarch64.apple.darwin14/share/julia/stdlib/v1.11/LinearAlgebra/src/\u001b[39m\u001b[90m\u001b[4mmatmul.jl:1128\u001b[24m\u001b[39m\n",
       "  [96] *(\u001b[90ma\u001b[39m::\u001b[1mNumber\u001b[22m, \u001b[90mQ\u001b[39m::\u001b[1mLinearAlgebra.AbstractQ\u001b[22m)\n",
       "\u001b[90m     @\u001b[39m \u001b[35mLinearAlgebra\u001b[39m \u001b[90m~/.julia/juliaup/julia-1.11.5+0.aarch64.apple.darwin14/share/julia/stdlib/v1.11/LinearAlgebra/src/\u001b[39m\u001b[90m\u001b[4mabstractq.jl:192\u001b[24m\u001b[39m\n",
       "  [97] *(\u001b[90ma\u001b[39m::\u001b[1mNumber\u001b[22m, \u001b[90mb\u001b[39m::\u001b[1mNTuple\u001b[22m\u001b[0m{N, Measures.Measure} where N)\n",
       "\u001b[90m     @\u001b[39m \u001b[32mMeasures\u001b[39m \u001b[90m~/.julia/packages/Measures/PKOxJ/src/\u001b[39m\u001b[90m\u001b[4mpoint.jl:19\u001b[24m\u001b[39m\n",
       "  [98] *(\u001b[90mk\u001b[39m::\u001b[1mNumber\u001b[22m, \u001b[90ma\u001b[39m::\u001b[1mUnion\u001b[22m\u001b[0m{LMS, XYZ})\n",
       "\u001b[90m     @\u001b[39m \u001b[36mColors\u001b[39m \u001b[90m~/.julia/packages/Colors/itIUE/src/\u001b[39m\u001b[90m\u001b[4malgorithms.jl:7\u001b[24m\u001b[39m\n",
       "  [99] *(\u001b[90mx\u001b[39m::\u001b[1mNumber\u001b[22m)\n",
       "\u001b[90m     @\u001b[39m \u001b[90m\u001b[4moperators.jl:534\u001b[24m\u001b[39m\n",
       " [100] *(\u001b[90mF\u001b[39m::\u001b[1mLinearAlgebra.Hessenberg\u001b[22m\u001b[0m{<:Any, <:AbstractMatrix{T}}, \u001b[90mx\u001b[39m::\u001b[1mS\u001b[22m) where {T, S<:Number}\n",
       "\u001b[90m     @\u001b[39m \u001b[35mLinearAlgebra\u001b[39m \u001b[90m~/.julia/juliaup/julia-1.11.5+0.aarch64.apple.darwin14/share/julia/stdlib/v1.11/LinearAlgebra/src/\u001b[39m\u001b[90m\u001b[4mhessenberg.jl:542\u001b[24m\u001b[39m\n",
       " [101] *(\u001b[90mA\u001b[39m::\u001b[1mLinearAlgebra.UnitUpperTriangular\u001b[22m, \u001b[90mD\u001b[39m::\u001b[1mLinearAlgebra.Diagonal\u001b[22m)\n",
       "\u001b[90m     @\u001b[39m \u001b[35mLinearAlgebra\u001b[39m \u001b[90m~/.julia/juliaup/julia-1.11.5+0.aarch64.apple.darwin14/share/julia/stdlib/v1.11/LinearAlgebra/src/\u001b[39m\u001b[90m\u001b[4mdiagonal.jl:607\u001b[24m\u001b[39m\n",
       " [102] *(\u001b[90mA\u001b[39m::\u001b[1mLinearAlgebra.UnitUpperTriangular\u001b[22m, \u001b[90mB\u001b[39m::\u001b[1mLinearAlgebra.UnitUpperTriangular\u001b[22m)\n",
       "\u001b[90m     @\u001b[39m \u001b[35mLinearAlgebra\u001b[39m \u001b[90m~/.julia/juliaup/julia-1.11.5+0.aarch64.apple.darwin14/share/julia/stdlib/v1.11/LinearAlgebra/src/\u001b[39m\u001b[90m\u001b[4mtriangular.jl:1755\u001b[24m\u001b[39m\n",
       " [103] *(\u001b[90mA\u001b[39m::\u001b[1mLinearAlgebra.UnitUpperTriangular\u001b[22m, \u001b[90mB\u001b[39m::\u001b[1mLinearAlgebra.UpperTriangular\u001b[22m)\n",
       "\u001b[90m     @\u001b[39m \u001b[35mLinearAlgebra\u001b[39m \u001b[90m~/.julia/juliaup/julia-1.11.5+0.aarch64.apple.darwin14/share/julia/stdlib/v1.11/LinearAlgebra/src/\u001b[39m\u001b[90m\u001b[4mtriangular.jl:1753\u001b[24m\u001b[39m\n",
       " [104] *(\u001b[90mA\u001b[39m::\u001b[1mLinearAlgebra.UnitUpperTriangular\u001b[22m, \u001b[90mx\u001b[39m::\u001b[1mNumber\u001b[22m)\n",
       "\u001b[90m     @\u001b[39m \u001b[35mLinearAlgebra\u001b[39m \u001b[90m~/.julia/juliaup/julia-1.11.5+0.aarch64.apple.darwin14/share/julia/stdlib/v1.11/LinearAlgebra/src/\u001b[39m\u001b[90m\u001b[4mtriangular.jl:1104\u001b[24m\u001b[39m\n",
       " [105] *(\u001b[90mx\u001b[39m::\u001b[1mRoundingMode\u001b[22m, \u001b[90my\u001b[39m::\u001b[1mForwardDiff.Dual\u001b[22m\u001b[0m{Ty}) where Ty\n",
       "\u001b[90m     @\u001b[39m \u001b[36mForwardDiff\u001b[39m \u001b[90m~/.julia/packages/ForwardDiff/Wq9Wb/src/\u001b[39m\u001b[90m\u001b[4mdual.jl:149\u001b[24m\u001b[39m\n",
       " [106] *(\u001b[90ma\u001b[39m::\u001b[1mAbstractGray\u001b[22m, \u001b[90mb\u001b[39m::\u001b[1mAbstractGray\u001b[22m)\n",
       "\u001b[90m     @\u001b[39m \u001b[32mColorVectorSpace\u001b[39m \u001b[90m~/.julia/packages/ColorVectorSpace/JXxVe/src/\u001b[39m\u001b[90m\u001b[4mColorVectorSpace.jl:320\u001b[24m\u001b[39m\n",
       " [107] *(\u001b[90mA\u001b[39m::\u001b[1mLinearAlgebra.UpperTriangular\u001b[22m, \u001b[90mD\u001b[39m::\u001b[1mLinearAlgebra.Diagonal\u001b[22m)\n",
       "\u001b[90m     @\u001b[39m \u001b[35mLinearAlgebra\u001b[39m \u001b[90m~/.julia/juliaup/julia-1.11.5+0.aarch64.apple.darwin14/share/julia/stdlib/v1.11/LinearAlgebra/src/\u001b[39m\u001b[90m\u001b[4mdiagonal.jl:606\u001b[24m\u001b[39m\n",
       " [108] *(\u001b[90mA\u001b[39m::\u001b[1mLinearAlgebra.UpperTriangular\u001b[22m, \u001b[90mB\u001b[39m::\u001b[1mLinearAlgebra.UnitUpperTriangular\u001b[22m)\n",
       "\u001b[90m     @\u001b[39m \u001b[35mLinearAlgebra\u001b[39m \u001b[90m~/.julia/juliaup/julia-1.11.5+0.aarch64.apple.darwin14/share/julia/stdlib/v1.11/LinearAlgebra/src/\u001b[39m\u001b[90m\u001b[4mtriangular.jl:1751\u001b[24m\u001b[39m\n",
       " [109] *(\u001b[90mA\u001b[39m::\u001b[1mUnion\u001b[22m\u001b[0m{LinearAlgebra.LowerTriangular{Tv, <:Union{SparseArrays.AbstractSparseMatrixCSC{Tv, Ti}, SubArray{Tv, 2, <:SparseArrays.AbstractSparseMatrixCSC{Tv, Ti}, Tuple{Base.Slice{Base.OneTo{Int64}}, I}} where I<:(AbstractUnitRange{<:Integer})}}, LinearAlgebra.UpperTriangular{Tv, <:Union{SparseArrays.AbstractSparseMatrixCSC{Tv, Ti}, SubArray{Tv, 2, <:SparseArrays.AbstractSparseMatrixCSC{Tv, Ti}, Tuple{Base.Slice{Base.OneTo{Int64}}, I}} where I<:(AbstractUnitRange{<:Integer})}}} where {Tv, Ti}, \u001b[90mB\u001b[39m::\u001b[1mUnion\u001b[22m\u001b[0m{LinearAlgebra.LowerTriangular{Tv, <:Union{SparseArrays.AbstractSparseMatrixCSC{Tv, Ti}, SubArray{Tv, 2, <:SparseArrays.AbstractSparseMatrixCSC{Tv, Ti}, Tuple{Base.Slice{Base.OneTo{Int64}}, I}} where I<:(AbstractUnitRange{<:Integer})}}, LinearAlgebra.UpperTriangular{Tv, <:Union{SparseArrays.AbstractSparseMatrixCSC{Tv, Ti}, SubArray{Tv, 2, <:SparseArrays.AbstractSparseMatrixCSC{Tv, Ti}, Tuple{Base.Slice{Base.OneTo{Int64}}, I}} where I<:(AbstractUnitRange{<:Integer})}}} where {Tv, Ti})\n",
       "\u001b[90m     @\u001b[39m \u001b[35mSparseArrays\u001b[39m \u001b[90m~/.julia/juliaup/julia-1.11.5+0.aarch64.apple.darwin14/share/julia/stdlib/v1.11/SparseArrays/src/\u001b[39m\u001b[90m\u001b[4mlinalg.jl:202\u001b[24m\u001b[39m\n",
       " [110] *(\u001b[90mA\u001b[39m::\u001b[1mLinearAlgebra.UpperTriangular\u001b[22m, \u001b[90mB\u001b[39m::\u001b[1mLinearAlgebra.UpperTriangular\u001b[22m)\n",
       "\u001b[90m     @\u001b[39m \u001b[35mLinearAlgebra\u001b[39m \u001b[90m~/.julia/juliaup/julia-1.11.5+0.aarch64.apple.darwin14/share/julia/stdlib/v1.11/LinearAlgebra/src/\u001b[39m\u001b[90m\u001b[4mtriangular.jl:1749\u001b[24m\u001b[39m\n",
       " [111] *(\u001b[90mA\u001b[39m::\u001b[1mLinearAlgebra.UpperTriangular\u001b[22m\u001b[0m{<:Any, <:Union{LinearAlgebra.Adjoint{<:Any, <:StridedMatrix{T}}, LinearAlgebra.Transpose{<:Any, <:StridedMatrix{T}}, StridedArray{T, 2}} where T}, \u001b[90mx\u001b[39m::\u001b[1mNumber\u001b[22m)\n",
       "\u001b[90m     @\u001b[39m \u001b[35mLinearAlgebra\u001b[39m \u001b[90m~/.julia/juliaup/julia-1.11.5+0.aarch64.apple.darwin14/share/julia/stdlib/v1.11/LinearAlgebra/src/\u001b[39m\u001b[90m\u001b[4mtriangular.jl:1098\u001b[24m\u001b[39m\n",
       " [112] *(\u001b[90mA\u001b[39m::\u001b[1mLinearAlgebra.UpperTriangular\u001b[22m, \u001b[90mx\u001b[39m::\u001b[1mNumber\u001b[22m)\n",
       "\u001b[90m     @\u001b[39m \u001b[35mLinearAlgebra\u001b[39m \u001b[90m~/.julia/juliaup/julia-1.11.5+0.aarch64.apple.darwin14/share/julia/stdlib/v1.11/LinearAlgebra/src/\u001b[39m\u001b[90m\u001b[4mtriangular.jl:1097\u001b[24m\u001b[39m\n",
       " [113] *(\u001b[90mx\u001b[39m::\u001b[1mLinearAlgebra.Transpose\u001b[22m\u001b[0m{T, <:AbstractVector} where T, \u001b[90mD\u001b[39m::\u001b[1mLinearAlgebra.Diagonal\u001b[22m, \u001b[90my\u001b[39m::\u001b[1mAbstractVector\u001b[22m)\n",
       "\u001b[90m     @\u001b[39m \u001b[35mLinearAlgebra\u001b[39m \u001b[90m~/.julia/juliaup/julia-1.11.5+0.aarch64.apple.darwin14/share/julia/stdlib/v1.11/LinearAlgebra/src/\u001b[39m\u001b[90m\u001b[4mdiagonal.jl:953\u001b[24m\u001b[39m\n",
       " [114] *(\u001b[90mu\u001b[39m::\u001b[1mLinearAlgebra.Transpose\u001b[22m\u001b[0m{T, <:AbstractVector} where T, \u001b[90mv\u001b[39m::\u001b[1mLinearAlgebra.Transpose\u001b[22m\u001b[0m{<:Any, <:LinearAlgebra.Adjoint{T, <:AbstractVector} where T})\n",
       "\u001b[90m     @\u001b[39m \u001b[35mLinearAlgebra\u001b[39m \u001b[90m~/.julia/juliaup/julia-1.11.5+0.aarch64.apple.darwin14/share/julia/stdlib/v1.11/LinearAlgebra/src/\u001b[39m\u001b[90m\u001b[4madjtrans.jl:490\u001b[24m\u001b[39m\n",
       " [115] *(\u001b[90mA\u001b[39m::\u001b[1mUnion\u001b[22m\u001b[0m{LinearAlgebra.Adjoint{var\"#s393\", var\"#s392\"}, LinearAlgebra.Transpose{var\"#s393\", var\"#s392\"}} where {var\"#s393\", var\"#s392\"<:SparseArrays.AbstractSparseMatrixCSC}, \u001b[90mB\u001b[39m::\u001b[1mUnion\u001b[22m\u001b[0m{LinearAlgebra.Adjoint{var\"#s391\", var\"#s390\"}, LinearAlgebra.Transpose{var\"#s391\", var\"#s390\"}} where {var\"#s391\", var\"#s390\"<:SparseArrays.AbstractSparseMatrixCSC})\n",
       "\u001b[90m     @\u001b[39m \u001b[35mSparseArrays\u001b[39m \u001b[90m~/.julia/juliaup/julia-1.11.5+0.aarch64.apple.darwin14/share/julia/stdlib/v1.11/SparseArrays/src/\u001b[39m\u001b[90m\u001b[4mlinalg.jl:205\u001b[24m\u001b[39m\n",
       " [116] *(\u001b[90mu\u001b[39m::\u001b[1mLinearAlgebra.Transpose\u001b[22m\u001b[0m{T, <:AbstractVector} where T, \u001b[90mv\u001b[39m::\u001b[1mLinearAlgebra.Adjoint\u001b[22m\u001b[0m{<:Any, <:LinearAlgebra.Transpose{T, <:AbstractVector} where T})\n",
       "\u001b[90m     @\u001b[39m \u001b[35mLinearAlgebra\u001b[39m \u001b[90m~/.julia/juliaup/julia-1.11.5+0.aarch64.apple.darwin14/share/julia/stdlib/v1.11/LinearAlgebra/src/\u001b[39m\u001b[90m\u001b[4madjtrans.jl:488\u001b[24m\u001b[39m\n",
       " [117] *(\u001b[90mA\u001b[39m::\u001b[1mUnion\u001b[22m\u001b[0m{LinearAlgebra.Adjoint{<:Any, <:StridedMatrix{var\"#s5029\"}}, LinearAlgebra.Transpose{<:Any, <:StridedMatrix{var\"#s5029\"}}, StridedMatrix{var\"#s5029\"}} where var\"#s5029\"<:Union{Float32, Float64}, \u001b[90mB\u001b[39m::\u001b[1mUnion\u001b[22m\u001b[0m{LinearAlgebra.Adjoint{<:Any, <:StridedMatrix{var\"#s5028\"}}, LinearAlgebra.Transpose{<:Any, <:StridedMatrix{var\"#s5028\"}}} where var\"#s5028\"<:Union{ComplexF64, ComplexF32})\n",
       "\u001b[90m     @\u001b[39m \u001b[35mLinearAlgebra\u001b[39m \u001b[90m~/.julia/juliaup/julia-1.11.5+0.aarch64.apple.darwin14/share/julia/stdlib/v1.11/LinearAlgebra/src/\u001b[39m\u001b[90m\u001b[4mmatmul.jl:158\u001b[24m\u001b[39m\n",
       " [118] *(\u001b[90mu\u001b[39m::\u001b[1mLinearAlgebra.Adjoint\u001b[22m\u001b[0m{T, <:AbstractVector} where T, \u001b[90mv\u001b[39m::\u001b[1mLinearAlgebra.Transpose\u001b[22m\u001b[0m{<:Any, <:LinearAlgebra.Adjoint{T, <:AbstractVector} where T})\n",
       "\u001b[90m     @\u001b[39m \u001b[35mLinearAlgebra\u001b[39m \u001b[90m~/.julia/juliaup/julia-1.11.5+0.aarch64.apple.darwin14/share/julia/stdlib/v1.11/LinearAlgebra/src/\u001b[39m\u001b[90m\u001b[4madjtrans.jl:491\u001b[24m\u001b[39m\n",
       " [119] *(\u001b[90mA\u001b[39m::\u001b[1mUnion\u001b[22m\u001b[0m{LinearAlgebra.Adjoint{<:Any, <:StridedMatrix{var\"#s5029\"}}, LinearAlgebra.Transpose{<:Any, <:StridedMatrix{var\"#s5029\"}}} where var\"#s5029\"<:Union{ComplexF64, ComplexF32}, \u001b[90mB\u001b[39m::\u001b[1mUnion\u001b[22m\u001b[0m{LinearAlgebra.Adjoint{<:Any, <:StridedMatrix{var\"#s5028\"}}, LinearAlgebra.Transpose{<:Any, <:StridedMatrix{var\"#s5028\"}}, StridedMatrix{var\"#s5028\"}} where var\"#s5028\"<:Union{Float32, Float64})\n",
       "\u001b[90m     @\u001b[39m \u001b[35mLinearAlgebra\u001b[39m \u001b[90m~/.julia/juliaup/julia-1.11.5+0.aarch64.apple.darwin14/share/julia/stdlib/v1.11/LinearAlgebra/src/\u001b[39m\u001b[90m\u001b[4mmatmul.jl:143\u001b[24m\u001b[39m\n",
       " [120] *(\u001b[90madjA\u001b[39m::\u001b[1mLinearAlgebra.Adjoint\u001b[22m\u001b[0m{<:Any, <:SparseArrays.CHOLMOD.Sparse}, \u001b[90mB\u001b[39m::\u001b[1mVecOrMat\u001b[22m)\n",
       "\u001b[90m     @\u001b[39m \u001b[35mSparseArrays.CHOLMOD\u001b[39m \u001b[90m~/.julia/juliaup/julia-1.11.5+0.aarch64.apple.darwin14/share/julia/stdlib/v1.11/SparseArrays/src/solvers/\u001b[39m\u001b[90m\u001b[4mcholmod.jl:1419\u001b[24m\u001b[39m\n",
       " [121] *(\u001b[90mu\u001b[39m::\u001b[1mLinearAlgebra.Adjoint\u001b[22m\u001b[0m{<:Number, <:AbstractVector}, \u001b[90mv\u001b[39m::\u001b[1mAbstractVector\u001b[22m\u001b[0m{<:Number})\n",
       "\u001b[90m     @\u001b[39m \u001b[35mLinearAlgebra\u001b[39m \u001b[90m~/.julia/juliaup/julia-1.11.5+0.aarch64.apple.darwin14/share/julia/stdlib/v1.11/LinearAlgebra/src/\u001b[39m\u001b[90m\u001b[4madjtrans.jl:478\u001b[24m\u001b[39m\n",
       " [122] *(\u001b[90mA\u001b[39m::\u001b[1mUnion\u001b[22m\u001b[0m{LinearAlgebra.Adjoint{var\"#s188\", var\"#s187\"}, LinearAlgebra.Transpose{var\"#s188\", var\"#s187\"}} where {var\"#s188\", var\"#s187\"<:(StridedMatrix{T} where T)}, \u001b[90mx\u001b[39m::\u001b[1mSparseArrays.AbstractSparseVector\u001b[22m)\n",
       "\u001b[90m     @\u001b[39m \u001b[35mSparseArrays\u001b[39m \u001b[90m~/.julia/juliaup/julia-1.11.5+0.aarch64.apple.darwin14/share/julia/stdlib/v1.11/SparseArrays/src/\u001b[39m\u001b[90m\u001b[4msparsevector.jl:1945\u001b[24m\u001b[39m\n",
       " [123] *(\u001b[90mu\u001b[39m::\u001b[1mLinearAlgebra.Transpose\u001b[22m\u001b[0m{T, <:AbstractVector}, \u001b[90mv\u001b[39m::\u001b[1mAbstractVector\u001b[22m\u001b[0m{T}) where T<:Real\n",
       "\u001b[90m     @\u001b[39m \u001b[35mLinearAlgebra\u001b[39m \u001b[90m~/.julia/juliaup/julia-1.11.5+0.aarch64.apple.darwin14/share/julia/stdlib/v1.11/LinearAlgebra/src/\u001b[39m\u001b[90m\u001b[4madjtrans.jl:479\u001b[24m\u001b[39m\n",
       " [124] *(\u001b[90mtransx\u001b[39m::\u001b[1mLinearAlgebra.Transpose\u001b[22m\u001b[0m{<:Any, <:StridedVector{T}}, \u001b[90my\u001b[39m::\u001b[1mStridedVector\u001b[22m\u001b[0m{T}) where T<:Union{ComplexF64, ComplexF32}\n",
       "\u001b[90m     @\u001b[39m \u001b[35mLinearAlgebra\u001b[39m \u001b[90m~/.julia/juliaup/julia-1.11.5+0.aarch64.apple.darwin14/share/julia/stdlib/v1.11/LinearAlgebra/src/\u001b[39m\u001b[90m\u001b[4mmatmul.jl:47\u001b[24m\u001b[39m\n",
       " [125] *(\u001b[90mA\u001b[39m::\u001b[1mUnion\u001b[22m\u001b[0m{LinearAlgebra.Adjoint{<:Any, <:StridedMatrix{T}}, LinearAlgebra.Transpose{<:Any, <:StridedMatrix{T}}, StridedMatrix{T}}, \u001b[90mx\u001b[39m::\u001b[1mStridedVector\u001b[22m\u001b[0m{S}) where {T<:Union{Float32, Float64, ComplexF64, ComplexF32}, S<:Real}\n",
       "\u001b[90m     @\u001b[39m \u001b[35mLinearAlgebra\u001b[39m \u001b[90m~/.julia/juliaup/julia-1.11.5+0.aarch64.apple.darwin14/share/julia/stdlib/v1.11/LinearAlgebra/src/\u001b[39m\u001b[90m\u001b[4mmatmul.jl:53\u001b[24m\u001b[39m\n",
       " [126] *(\u001b[90mA\u001b[39m::\u001b[1mUnion\u001b[22m\u001b[0m{SparseArrays.AbstractSparseMatrixCSC{Tv, Ti}, SubArray{Tv, 2, <:SparseArrays.AbstractSparseMatrixCSC{Tv, Ti}, Tuple{Base.Slice{Base.OneTo{Int64}}, I}} where I<:(AbstractUnitRange{<:Integer}), LinearAlgebra.LowerTriangular{Tv, <:Union{SparseArrays.AbstractSparseMatrixCSC{Tv, Ti}, SubArray{Tv, 2, <:SparseArrays.AbstractSparseMatrixCSC{Tv, Ti}, Tuple{Base.Slice{Base.OneTo{Int64}}, I}} where I<:(AbstractUnitRange{<:Integer})}}, LinearAlgebra.UpperTriangular{Tv, <:Union{SparseArrays.AbstractSparseMatrixCSC{Tv, Ti}, SubArray{Tv, 2, <:SparseArrays.AbstractSparseMatrixCSC{Tv, Ti}, Tuple{Base.Slice{Base.OneTo{Int64}}, I}} where I<:(AbstractUnitRange{<:Integer})}}} where {Tv, Ti}, \u001b[90mB\u001b[39m::\u001b[1mSubArray\u001b[22m\u001b[0m{Tv, 1, <:SparseArrays.AbstractSparseMatrixCSC{Tv, Ti}, Tuple{Base.Slice{Base.OneTo{Int64}}, Int64}, false} where {Tv, Ti})\n",
       "\u001b[90m     @\u001b[39m \u001b[35mSparseArrays\u001b[39m \u001b[90m~/.julia/juliaup/julia-1.11.5+0.aarch64.apple.darwin14/share/julia/stdlib/v1.11/SparseArrays/src/\u001b[39m\u001b[90m\u001b[4mlinalg.jl:197\u001b[24m\u001b[39m\n",
       " [127] *(\u001b[90mA\u001b[39m::\u001b[1mUnion\u001b[22m\u001b[0m{SparseArrays.AbstractSparseMatrixCSC{Tv, Ti}, SubArray{Tv, 2, <:SparseArrays.AbstractSparseMatrixCSC{Tv, Ti}, Tuple{Base.Slice{Base.OneTo{Int64}}, I}} where I<:(AbstractUnitRange{<:Integer}), LinearAlgebra.LowerTriangular{Tv, <:Union{SparseArrays.AbstractSparseMatrixCSC{Tv, Ti}, SubArray{Tv, 2, <:SparseArrays.AbstractSparseMatrixCSC{Tv, Ti}, Tuple{Base.Slice{Base.OneTo{Int64}}, I}} where I<:(AbstractUnitRange{<:Integer})}}, LinearAlgebra.UpperTriangular{Tv, <:Union{SparseArrays.AbstractSparseMatrixCSC{Tv, Ti}, SubArray{Tv, 2, <:SparseArrays.AbstractSparseMatrixCSC{Tv, Ti}, Tuple{Base.Slice{Base.OneTo{Int64}}, I}} where I<:(AbstractUnitRange{<:Integer})}}} where {Tv, Ti}, \u001b[90mB\u001b[39m::\u001b[1mSubArray\u001b[22m\u001b[0m{Tv, 1, <:SparseArrays.AbstractSparseVector{Tv, Ti}, Tuple{Base.Slice{Base.OneTo{Int64}}}, false} where {Tv, Ti})\n",
       "\u001b[90m     @\u001b[39m \u001b[35mSparseArrays\u001b[39m \u001b[90m~/.julia/juliaup/julia-1.11.5+0.aarch64.apple.darwin14/share/julia/stdlib/v1.11/SparseArrays/src/\u001b[39m\u001b[90m\u001b[4mlinalg.jl:198\u001b[24m\u001b[39m\n",
       " [128] *(\u001b[90mxA\u001b[39m::\u001b[1mUnion\u001b[22m\u001b[0m{LinearAlgebra.Adjoint{var\"#s188\", var\"#s187\"}, LinearAlgebra.Transpose{var\"#s188\", var\"#s187\"}} where {var\"#s188\", var\"#s187\"<:SparseArrays.AbstractSparseMatrixCSC}, \u001b[90mx\u001b[39m::\u001b[1mSparseArrays.AbstractSparseVector\u001b[22m)\n",
       "\u001b[90m     @\u001b[39m \u001b[35mSparseArrays\u001b[39m \u001b[90m~/.julia/juliaup/julia-1.11.5+0.aarch64.apple.darwin14/share/julia/stdlib/v1.11/SparseArrays/src/\u001b[39m\u001b[90m\u001b[4msparsevector.jl:2078\u001b[24m\u001b[39m\n",
       " [129] *(\u001b[90mA\u001b[39m::\u001b[1mUnion\u001b[22m\u001b[0m{LinearAlgebra.Adjoint{<:Any, <:StridedMatrix{var\"#s5029\"}}, LinearAlgebra.Transpose{<:Any, <:StridedMatrix{var\"#s5029\"}}} where var\"#s5029\"<:Union{Float32, Float64}, \u001b[90mB\u001b[39m::\u001b[1mStridedMatrix\u001b[22m\u001b[0m{var\"#s5028\"} where var\"#s5028\"<:Union{ComplexF64, ComplexF32})\n",
       "\u001b[90m     @\u001b[39m \u001b[35mLinearAlgebra\u001b[39m \u001b[90m~/.julia/juliaup/julia-1.11.5+0.aarch64.apple.darwin14/share/julia/stdlib/v1.11/LinearAlgebra/src/\u001b[39m\u001b[90m\u001b[4mmatmul.jl:157\u001b[24m\u001b[39m\n",
       " [130] *(\u001b[90madjA\u001b[39m::\u001b[1mLinearAlgebra.Adjoint\u001b[22m\u001b[0m{<:Any, <:SparseArrays.CHOLMOD.Sparse}, \u001b[90mB\u001b[39m::\u001b[1mSparseArrays.CHOLMOD.Dense\u001b[22m)\n",
       "\u001b[90m     @\u001b[39m \u001b[35mSparseArrays.CHOLMOD\u001b[39m \u001b[90m~/.julia/juliaup/julia-1.11.5+0.aarch64.apple.darwin14/share/julia/stdlib/v1.11/SparseArrays/src/solvers/\u001b[39m\u001b[90m\u001b[4mcholmod.jl:1415\u001b[24m\u001b[39m\n",
       " [131] *(\u001b[90mA\u001b[39m::\u001b[1mUnion\u001b[22m\u001b[0m{LinearAlgebra.Adjoint{<:Any, <:StridedMatrix{var\"#s5029\"}}, LinearAlgebra.Transpose{<:Any, <:StridedMatrix{var\"#s5029\"}}, StridedMatrix{var\"#s5029\"}} where var\"#s5029\"<:Union{ComplexF64, ComplexF32}, \u001b[90mB\u001b[39m::\u001b[1mUnion\u001b[22m\u001b[0m{LinearAlgebra.Adjoint{<:Any, <:StridedMatrix{var\"#s5028\"}}, LinearAlgebra.Transpose{<:Any, <:StridedMatrix{var\"#s5028\"}}, StridedMatrix{var\"#s5028\"}} where var\"#s5028\"<:Union{ComplexF64, ComplexF32})\n",
       "\u001b[90m     @\u001b[39m \u001b[35mLinearAlgebra\u001b[39m \u001b[90m~/.julia/juliaup/julia-1.11.5+0.aarch64.apple.darwin14/share/julia/stdlib/v1.11/LinearAlgebra/src/\u001b[39m\u001b[90m\u001b[4mmatmul.jl:128\u001b[24m\u001b[39m\n",
       " [132] *(\u001b[90mu\u001b[39m::\u001b[1mLinearAlgebra.Adjoint\u001b[22m\u001b[0m{T, <:AbstractVector} where T, \u001b[90mv\u001b[39m::\u001b[1mLinearAlgebra.Adjoint\u001b[22m\u001b[0m{<:Any, <:LinearAlgebra.Transpose{T, <:AbstractVector} where T})\n",
       "\u001b[90m     @\u001b[39m \u001b[35mLinearAlgebra\u001b[39m \u001b[90m~/.julia/juliaup/julia-1.11.5+0.aarch64.apple.darwin14/share/julia/stdlib/v1.11/LinearAlgebra/src/\u001b[39m\u001b[90m\u001b[4madjtrans.jl:489\u001b[24m\u001b[39m\n",
       " [133] *(\u001b[90mA\u001b[39m::\u001b[1mUnion\u001b[22m\u001b[0m{LinearAlgebra.Adjoint{<:Any, <:StridedMatrix{var\"#s5029\"}}, LinearAlgebra.Transpose{<:Any, <:StridedMatrix{var\"#s5029\"}}, StridedMatrix{var\"#s5029\"}} where var\"#s5029\"<:Union{Float32, Float64}, \u001b[90mB\u001b[39m::\u001b[1mUnion\u001b[22m\u001b[0m{LinearAlgebra.Adjoint{<:Any, <:StridedMatrix{var\"#s5028\"}}, LinearAlgebra.Transpose{<:Any, <:StridedMatrix{var\"#s5028\"}}, StridedMatrix{var\"#s5028\"}} where var\"#s5028\"<:Union{Float32, Float64})\n",
       "\u001b[90m     @\u001b[39m \u001b[35mLinearAlgebra\u001b[39m \u001b[90m~/.julia/juliaup/julia-1.11.5+0.aarch64.apple.darwin14/share/julia/stdlib/v1.11/LinearAlgebra/src/\u001b[39m\u001b[90m\u001b[4mmatmul.jl:122\u001b[24m\u001b[39m\n",
       " [134] *(\u001b[90mA\u001b[39m::\u001b[1mUnion\u001b[22m\u001b[0m{SparseArrays.AbstractSparseMatrixCSC{Tv, Ti}, SubArray{Tv, 2, <:SparseArrays.AbstractSparseMatrixCSC{Tv, Ti}, Tuple{Base.Slice{Base.OneTo{Int64}}, I}} where I<:(AbstractUnitRange{<:Integer})} where {Tv, Ti}, \u001b[90mB\u001b[39m::\u001b[1mUnion\u001b[22m\u001b[0m{SparseArrays.AbstractSparseMatrixCSC{Tv, Ti}, SubArray{Tv, 2, <:SparseArrays.AbstractSparseMatrixCSC{Tv, Ti}, Tuple{Base.Slice{Base.OneTo{Int64}}, I}} where I<:(AbstractUnitRange{<:Integer})} where {Tv, Ti})\n",
       "\u001b[90m     @\u001b[39m \u001b[35mSparseArrays\u001b[39m \u001b[90m~/.julia/juliaup/julia-1.11.5+0.aarch64.apple.darwin14/share/julia/stdlib/v1.11/SparseArrays/src/\u001b[39m\u001b[90m\u001b[4mlinalg.jl:199\u001b[24m\u001b[39m\n",
       " [135] *(\u001b[90mA\u001b[39m::\u001b[1mStridedMatrix\u001b[22m\u001b[0m{var\"#s5029\"} where var\"#s5029\"<:Union{Float32, Float64}, \u001b[90mB\u001b[39m::\u001b[1mStridedMatrix\u001b[22m\u001b[0m{var\"#s5028\"} where var\"#s5028\"<:Union{ComplexF64, ComplexF32})\n",
       "\u001b[90m     @\u001b[39m \u001b[35mLinearAlgebra\u001b[39m \u001b[90m~/.julia/juliaup/julia-1.11.5+0.aarch64.apple.darwin14/share/julia/stdlib/v1.11/LinearAlgebra/src/\u001b[39m\u001b[90m\u001b[4mmatmul.jl:150\u001b[24m\u001b[39m\n",
       " [136] *(\u001b[90mA\u001b[39m::\u001b[1mStridedMatrix\u001b[22m\u001b[0m{var\"#s5029\"} where var\"#s5029\"<:Union{ComplexF64, ComplexF32}, \u001b[90mB\u001b[39m::\u001b[1mUnion\u001b[22m\u001b[0m{LinearAlgebra.Adjoint{<:Any, <:StridedMatrix{var\"#s5028\"}}, LinearAlgebra.Transpose{<:Any, <:StridedMatrix{var\"#s5028\"}}, StridedMatrix{var\"#s5028\"}} where var\"#s5028\"<:Union{Float32, Float64})\n",
       "\u001b[90m     @\u001b[39m \u001b[35mLinearAlgebra\u001b[39m \u001b[90m~/.julia/juliaup/julia-1.11.5+0.aarch64.apple.darwin14/share/julia/stdlib/v1.11/LinearAlgebra/src/\u001b[39m\u001b[90m\u001b[4mmatmul.jl:137\u001b[24m\u001b[39m\n",
       " [137] *(\u001b[90mA\u001b[39m::\u001b[1mUnion\u001b[22m\u001b[0m{SparseArrays.AbstractSparseMatrixCSC{Tv, Ti}, SubArray{Tv, 2, <:SparseArrays.AbstractSparseMatrixCSC{Tv, Ti}, Tuple{Base.Slice{Base.OneTo{Int64}}, I}} where I<:(AbstractUnitRange{<:Integer}), LinearAlgebra.LowerTriangular{Tv, <:Union{SparseArrays.AbstractSparseMatrixCSC{Tv, Ti}, SubArray{Tv, 2, <:SparseArrays.AbstractSparseMatrixCSC{Tv, Ti}, Tuple{Base.Slice{Base.OneTo{Int64}}, I}} where I<:(AbstractUnitRange{<:Integer})}}, LinearAlgebra.UpperTriangular{Tv, <:Union{SparseArrays.AbstractSparseMatrixCSC{Tv, Ti}, SubArray{Tv, 2, <:SparseArrays.AbstractSparseMatrixCSC{Tv, Ti}, Tuple{Base.Slice{Base.OneTo{Int64}}, I}} where I<:(AbstractUnitRange{<:Integer})}}} where {Tv, Ti}, \u001b[90mB\u001b[39m::\u001b[1mUnion\u001b[22m\u001b[0m{LinearAlgebra.Adjoint{var\"#s393\", var\"#s392\"}, LinearAlgebra.Transpose{var\"#s393\", var\"#s392\"}} where {var\"#s393\", var\"#s392\"<:SparseArrays.AbstractSparseMatrixCSC})\n",
       "\u001b[90m     @\u001b[39m \u001b[35mSparseArrays\u001b[39m \u001b[90m~/.julia/juliaup/julia-1.11.5+0.aarch64.apple.darwin14/share/julia/stdlib/v1.11/SparseArrays/src/\u001b[39m\u001b[90m\u001b[4mlinalg.jl:203\u001b[24m\u001b[39m\n",
       " [138] *(\u001b[90mA\u001b[39m::\u001b[1mUnion\u001b[22m\u001b[0m{LinearAlgebra.Adjoint{var\"#s393\", var\"#s392\"}, LinearAlgebra.Transpose{var\"#s393\", var\"#s392\"}} where {var\"#s393\", var\"#s392\"<:SparseArrays.AbstractSparseMatrixCSC}, \u001b[90mB\u001b[39m::\u001b[1mUnion\u001b[22m\u001b[0m{SparseArrays.AbstractSparseMatrixCSC{Tv, Ti}, SubArray{Tv, 2, <:SparseArrays.AbstractSparseMatrixCSC{Tv, Ti}, Tuple{Base.Slice{Base.OneTo{Int64}}, I}} where I<:(AbstractUnitRange{<:Integer}), LinearAlgebra.LowerTriangular{Tv, <:Union{SparseArrays.AbstractSparseMatrixCSC{Tv, Ti}, SubArray{Tv, 2, <:SparseArrays.AbstractSparseMatrixCSC{Tv, Ti}, Tuple{Base.Slice{Base.OneTo{Int64}}, I}} where I<:(AbstractUnitRange{<:Integer})}}, LinearAlgebra.UpperTriangular{Tv, <:Union{SparseArrays.AbstractSparseMatrixCSC{Tv, Ti}, SubArray{Tv, 2, <:SparseArrays.AbstractSparseMatrixCSC{Tv, Ti}, Tuple{Base.Slice{Base.OneTo{Int64}}, I}} where I<:(AbstractUnitRange{<:Integer})}}} where {Tv, Ti})\n",
       "\u001b[90m     @\u001b[39m \u001b[35mSparseArrays\u001b[39m \u001b[90m~/.julia/juliaup/julia-1.11.5+0.aarch64.apple.darwin14/share/julia/stdlib/v1.11/SparseArrays/src/\u001b[39m\u001b[90m\u001b[4mlinalg.jl:204\u001b[24m\u001b[39m\n",
       " [139] *(\u001b[90mx\u001b[39m::\u001b[1mLinearAlgebra.Transpose\u001b[22m\u001b[0m{T, <:AbstractVector} where T, \u001b[90mA\u001b[39m::\u001b[1mAbstractMatrix\u001b[22m)\n",
       "\u001b[90m     @\u001b[39m \u001b[35mLinearAlgebra\u001b[39m \u001b[90m~/.julia/juliaup/julia-1.11.5+0.aarch64.apple.darwin14/share/julia/stdlib/v1.11/LinearAlgebra/src/\u001b[39m\u001b[90m\u001b[4mmatmul.jl:96\u001b[24m\u001b[39m\n",
       " [140] *(\u001b[90mB\u001b[39m::\u001b[1mLinearAlgebra.Bidiagonal\u001b[22m, \u001b[90mH\u001b[39m::\u001b[1mLinearAlgebra.UpperHessenberg\u001b[22m)\n",
       "\u001b[90m     @\u001b[39m \u001b[35mLinearAlgebra\u001b[39m \u001b[90m~/.julia/juliaup/julia-1.11.5+0.aarch64.apple.darwin14/share/julia/stdlib/v1.11/LinearAlgebra/src/\u001b[39m\u001b[90m\u001b[4mspecial.jl:121\u001b[24m\u001b[39m\n",
       " [141] *(\u001b[90mA\u001b[39m::\u001b[1mLinearAlgebra.Bidiagonal\u001b[22m, \u001b[90mB\u001b[39m::\u001b[1mUnion\u001b[22m\u001b[0m{LinearAlgebra.LowerTriangular{T, S}, LinearAlgebra.UnitLowerTriangular{T, S}} where {T, S})\n",
       "\u001b[90m     @\u001b[39m \u001b[35mLinearAlgebra\u001b[39m \u001b[90m~/.julia/juliaup/julia-1.11.5+0.aarch64.apple.darwin14/share/julia/stdlib/v1.11/LinearAlgebra/src/\u001b[39m\u001b[90m\u001b[4mbidiag.jl:782\u001b[24m\u001b[39m\n",
       " [142] *(\u001b[90mA\u001b[39m::\u001b[1mLinearAlgebra.Bidiagonal\u001b[22m, \u001b[90mB\u001b[39m::\u001b[1mUnion\u001b[22m\u001b[0m{LinearAlgebra.UnitUpperTriangular{T, S}, LinearAlgebra.UpperTriangular{T, S}} where {T, S})\n",
       "\u001b[90m     @\u001b[39m \u001b[35mLinearAlgebra\u001b[39m \u001b[90m~/.julia/juliaup/julia-1.11.5+0.aarch64.apple.darwin14/share/julia/stdlib/v1.11/LinearAlgebra/src/\u001b[39m\u001b[90m\u001b[4mbidiag.jl:776\u001b[24m\u001b[39m\n",
       " [143] *(\u001b[90mA\u001b[39m::\u001b[1mLinearAlgebra.Bidiagonal\u001b[22m, \u001b[90mB\u001b[39m::\u001b[1mNumber\u001b[22m)\n",
       "\u001b[90m     @\u001b[39m \u001b[35mLinearAlgebra\u001b[39m \u001b[90m~/.julia/juliaup/julia-1.11.5+0.aarch64.apple.darwin14/share/julia/stdlib/v1.11/LinearAlgebra/src/\u001b[39m\u001b[90m\u001b[4mbidiag.jl:415\u001b[24m\u001b[39m\n",
       " [144] *(\u001b[90mA\u001b[39m::\u001b[1mSparseArrays.AbstractSparseVector\u001b[22m, \u001b[90mQ\u001b[39m::\u001b[1mUnion\u001b[22m\u001b[0m{LinearAlgebra.HessenbergQ, LinearAlgebra.QRCompactWYQ, LinearAlgebra.QRPackedQ})\n",
       "\u001b[90m     @\u001b[39m \u001b[35mSparseArrays\u001b[39m \u001b[90m~/.julia/juliaup/julia-1.11.5+0.aarch64.apple.darwin14/share/julia/stdlib/v1.11/SparseArrays/src/\u001b[39m\u001b[90m\u001b[4msparsevector.jl:1377\u001b[24m\u001b[39m\n",
       " [145] *(\u001b[90mA\u001b[39m::\u001b[1mSparseArrays.AbstractSparseVector\u001b[22m, \u001b[90mQ\u001b[39m::\u001b[1mLinearAlgebra.AdjointQ\u001b[22m\u001b[0m{<:Any, <:Union{LinearAlgebra.HessenbergQ, LinearAlgebra.QRCompactWYQ, LinearAlgebra.QRPackedQ}})\n",
       "\u001b[90m     @\u001b[39m \u001b[35mSparseArrays\u001b[39m \u001b[90m~/.julia/juliaup/julia-1.11.5+0.aarch64.apple.darwin14/share/julia/stdlib/v1.11/SparseArrays/src/\u001b[39m\u001b[90m\u001b[4msparsevector.jl:1378\u001b[24m\u001b[39m\n",
       " [146] *(\u001b[90mA\u001b[39m::\u001b[1mSparseArrays.AbstractSparseVector\u001b[22m, \u001b[90mQ\u001b[39m::\u001b[1mLinearAlgebra.AdjointQ\u001b[22m\u001b[0m{<:Any, <:LinearAlgebra.LQPackedQ})\n",
       "\u001b[90m     @\u001b[39m \u001b[35mSparseArrays\u001b[39m \u001b[90m~/.julia/juliaup/julia-1.11.5+0.aarch64.apple.darwin14/share/julia/stdlib/v1.11/SparseArrays/src/\u001b[39m\u001b[90m\u001b[4msparsevector.jl:1378\u001b[24m\u001b[39m\n",
       " [147] *(\u001b[90mA\u001b[39m::\u001b[1mSparseArrays.AbstractSparseVector\u001b[22m, \u001b[90mQ\u001b[39m::\u001b[1mLinearAlgebra.LQPackedQ\u001b[22m)\n",
       "\u001b[90m     @\u001b[39m \u001b[35mSparseArrays\u001b[39m \u001b[90m~/.julia/juliaup/julia-1.11.5+0.aarch64.apple.darwin14/share/julia/stdlib/v1.11/SparseArrays/src/\u001b[39m\u001b[90m\u001b[4msparsevector.jl:1377\u001b[24m\u001b[39m\n",
       " [148] *(\u001b[90mm1\u001b[39m::\u001b[1mMeasures.Length\u001b[22m\u001b[0m{:pct}, \u001b[90mm2\u001b[39m::\u001b[1mMeasures.AbsoluteLength\u001b[22m)\n",
       "\u001b[90m     @\u001b[39m \u001b[33mPlots.PlotMeasures\u001b[39m \u001b[90m~/.julia/packages/Plots/MR7sb/src/\u001b[39m\u001b[90m\u001b[4mplotmeasures.jl:17\u001b[24m\u001b[39m\n",
       " [149] *(\u001b[90mA\u001b[39m::\u001b[1mLinearAlgebra.LowerTriangular\u001b[22m, \u001b[90mD\u001b[39m::\u001b[1mLinearAlgebra.Diagonal\u001b[22m)\n",
       "\u001b[90m     @\u001b[39m \u001b[35mLinearAlgebra\u001b[39m \u001b[90m~/.julia/juliaup/julia-1.11.5+0.aarch64.apple.darwin14/share/julia/stdlib/v1.11/LinearAlgebra/src/\u001b[39m\u001b[90m\u001b[4mdiagonal.jl:606\u001b[24m\u001b[39m\n",
       " [150] *(\u001b[90mA\u001b[39m::\u001b[1mLinearAlgebra.UnitLowerTriangular\u001b[22m, \u001b[90mD\u001b[39m::\u001b[1mLinearAlgebra.Diagonal\u001b[22m)\n",
       "\u001b[90m     @\u001b[39m \u001b[35mLinearAlgebra\u001b[39m \u001b[90m~/.julia/juliaup/julia-1.11.5+0.aarch64.apple.darwin14/share/julia/stdlib/v1.11/LinearAlgebra/src/\u001b[39m\u001b[90m\u001b[4mdiagonal.jl:607\u001b[24m\u001b[39m\n",
       " [151] *(\u001b[90mA\u001b[39m::\u001b[1mLinearAlgebra.AbstractTriangular\u001b[22m, \u001b[90mD\u001b[39m::\u001b[1mLinearAlgebra.Diagonal\u001b[22m)\n",
       "\u001b[90m     @\u001b[39m \u001b[35mLinearAlgebra\u001b[39m \u001b[90m~/.julia/juliaup/julia-1.11.5+0.aarch64.apple.darwin14/share/julia/stdlib/v1.11/LinearAlgebra/src/\u001b[39m\u001b[90m\u001b[4mdiagonal.jl:957\u001b[24m\u001b[39m\n",
       " [152] *(\u001b[90ma\u001b[39m::\u001b[1mMeasures.Measure\u001b[22m, \u001b[90mb\u001b[39m::\u001b[1mNumber\u001b[22m)\n",
       "\u001b[90m     @\u001b[39m \u001b[32mMeasures\u001b[39m \u001b[90m~/.julia/packages/Measures/PKOxJ/src/\u001b[39m\u001b[90m\u001b[4moperations.jl:47\u001b[24m\u001b[39m\n",
       " [153] *(\u001b[90mA\u001b[39m::\u001b[1mLinearAlgebra.Symmetric\u001b[22m\u001b[0m{<:Union{Float32, Float64}, SparseArrays.SparseMatrixCSC{<:Union{Float32, Float64}, Ti}}, \u001b[90mB\u001b[39m::\u001b[1mUnion\u001b[22m\u001b[0m{SparseArrays.SparseMatrixCSC{var\"#s391\", Ti}, SparseArrays.SparseVector{var\"#s391\", Ti}} where var\"#s391\"<:Union{Float32, Float64}) where Ti\n",
       "\u001b[90m     @\u001b[39m \u001b[35mSparseArrays.CHOLMOD\u001b[39m \u001b[90m~/.julia/juliaup/julia-1.11.5+0.aarch64.apple.darwin14/share/julia/stdlib/v1.11/SparseArrays/src/solvers/\u001b[39m\u001b[90m\u001b[4mcholmod.jl:2008\u001b[24m\u001b[39m\n",
       " [154] *(\u001b[90mA\u001b[39m::\u001b[1mLinearAlgebra.Symmetric\u001b[22m, \u001b[90mx\u001b[39m::\u001b[1mNumber\u001b[22m)\n",
       "\u001b[90m     @\u001b[39m \u001b[35mLinearAlgebra\u001b[39m \u001b[90m~/.julia/juliaup/julia-1.11.5+0.aarch64.apple.darwin14/share/julia/stdlib/v1.11/LinearAlgebra/src/\u001b[39m\u001b[90m\u001b[4msymmetric.jl:578\u001b[24m\u001b[39m\n",
       " [155] *(\u001b[90mQ\u001b[39m::\u001b[1mLinearAlgebra.LQPackedQ\u001b[22m, \u001b[90mB\u001b[39m::\u001b[1mSparseArrays.AbstractSparseMatrixCSC\u001b[22m)\n",
       "\u001b[90m     @\u001b[39m \u001b[35mSparseArrays\u001b[39m \u001b[90m~/.julia/juliaup/julia-1.11.5+0.aarch64.apple.darwin14/share/julia/stdlib/v1.11/SparseArrays/src/\u001b[39m\u001b[90m\u001b[4msparsematrix.jl:491\u001b[24m\u001b[39m\n",
       " [156] *(\u001b[90mQ\u001b[39m::\u001b[1mLinearAlgebra.LQPackedQ\u001b[22m, \u001b[90mB\u001b[39m::\u001b[1mUnion\u001b[22m\u001b[0m{LinearAlgebra.Adjoint{var\"#s31\", var\"#s30\"}, LinearAlgebra.Transpose{var\"#s31\", var\"#s30\"}} where {var\"#s31\", var\"#s30\"<:SparseArrays.AbstractSparseMatrixCSC})\n",
       "\u001b[90m     @\u001b[39m \u001b[35mSparseArrays\u001b[39m \u001b[90m~/.julia/juliaup/julia-1.11.5+0.aarch64.apple.darwin14/share/julia/stdlib/v1.11/SparseArrays/src/\u001b[39m\u001b[90m\u001b[4msparsematrix.jl:492\u001b[24m\u001b[39m\n",
       " [157] *(\u001b[90mQ\u001b[39m::\u001b[1mLinearAlgebra.LQPackedQ\u001b[22m, \u001b[90mB\u001b[39m::\u001b[1mSparseArrays.AbstractSparseVector\u001b[22m)\n",
       "\u001b[90m     @\u001b[39m \u001b[35mSparseArrays\u001b[39m \u001b[90m~/.julia/juliaup/julia-1.11.5+0.aarch64.apple.darwin14/share/julia/stdlib/v1.11/SparseArrays/src/\u001b[39m\u001b[90m\u001b[4msparsevector.jl:1374\u001b[24m\u001b[39m\n",
       " [158] *(\u001b[90mA\u001b[39m::\u001b[1mLinearAlgebra.Hermitian\u001b[22m\u001b[0m{<:Union{ComplexF64, ComplexF32}, SparseArrays.SparseMatrixCSC{<:Union{ComplexF64, ComplexF32}, Ti}}, \u001b[90mB\u001b[39m::\u001b[1mUnion\u001b[22m\u001b[0m{SparseArrays.SparseMatrixCSC{var\"#s391\", Ti}, SparseArrays.SparseVector{var\"#s391\", Ti}} where var\"#s391\"<:Union{ComplexF64, ComplexF32}) where Ti\n",
       "\u001b[90m     @\u001b[39m \u001b[35mSparseArrays.CHOLMOD\u001b[39m \u001b[90m~/.julia/juliaup/julia-1.11.5+0.aarch64.apple.darwin14/share/julia/stdlib/v1.11/SparseArrays/src/solvers/\u001b[39m\u001b[90m\u001b[4mcholmod.jl:2010\u001b[24m\u001b[39m\n",
       " [159] *(\u001b[90mA\u001b[39m::\u001b[1mLinearAlgebra.Hermitian\u001b[22m\u001b[0m{<:Union{Float32, Float64}, SparseArrays.SparseMatrixCSC{<:Union{Float32, Float64}, Ti}}, \u001b[90mB\u001b[39m::\u001b[1mUnion\u001b[22m\u001b[0m{SparseArrays.SparseMatrixCSC{var\"#s391\", Ti}, SparseArrays.SparseVector{var\"#s391\", Ti}} where var\"#s391\"<:Union{Float32, Float64}) where Ti\n",
       "\u001b[90m     @\u001b[39m \u001b[35mSparseArrays.CHOLMOD\u001b[39m \u001b[90m~/.julia/juliaup/julia-1.11.5+0.aarch64.apple.darwin14/share/julia/stdlib/v1.11/SparseArrays/src/solvers/\u001b[39m\u001b[90m\u001b[4mcholmod.jl:2012\u001b[24m\u001b[39m\n",
       " [160] *(\u001b[90mA\u001b[39m::\u001b[1mLinearAlgebra.Hermitian\u001b[22m, \u001b[90mx\u001b[39m::\u001b[1mReal\u001b[22m)\n",
       "\u001b[90m     @\u001b[39m \u001b[35mLinearAlgebra\u001b[39m \u001b[90m~/.julia/juliaup/julia-1.11.5+0.aarch64.apple.darwin14/share/julia/stdlib/v1.11/LinearAlgebra/src/\u001b[39m\u001b[90m\u001b[4msymmetric.jl:580\u001b[24m\u001b[39m\n",
       " [161] *(\u001b[90mH\u001b[39m::\u001b[1mLinearAlgebra.UpperHessenberg\u001b[22m, \u001b[90mB\u001b[39m::\u001b[1mLinearAlgebra.Bidiagonal\u001b[22m)\n",
       "\u001b[90m     @\u001b[39m \u001b[35mLinearAlgebra\u001b[39m \u001b[90m~/.julia/juliaup/julia-1.11.5+0.aarch64.apple.darwin14/share/julia/stdlib/v1.11/LinearAlgebra/src/\u001b[39m\u001b[90m\u001b[4mspecial.jl:116\u001b[24m\u001b[39m\n",
       " [162] *(\u001b[90mH\u001b[39m::\u001b[1mLinearAlgebra.UpperHessenberg\u001b[22m, \u001b[90mU\u001b[39m::\u001b[1mUnion\u001b[22m\u001b[0m{LinearAlgebra.UnitUpperTriangular{T, S}, LinearAlgebra.UpperTriangular{T, S}} where {T, S})\n",
       "\u001b[90m     @\u001b[39m \u001b[35mLinearAlgebra\u001b[39m \u001b[90m~/.julia/juliaup/julia-1.11.5+0.aarch64.apple.darwin14/share/julia/stdlib/v1.11/LinearAlgebra/src/\u001b[39m\u001b[90m\u001b[4mhessenberg.jl:135\u001b[24m\u001b[39m\n",
       " [163] *(\u001b[90mH\u001b[39m::\u001b[1mLinearAlgebra.UpperHessenberg\u001b[22m, \u001b[90mx\u001b[39m::\u001b[1mLinearAlgebra.Diagonal\u001b[22m)\n",
       "\u001b[90m     @\u001b[39m \u001b[35mLinearAlgebra\u001b[39m \u001b[90m~/.julia/juliaup/julia-1.11.5+0.aarch64.apple.darwin14/share/julia/stdlib/v1.11/LinearAlgebra/src/\u001b[39m\u001b[90m\u001b[4mhessenberg.jl:128\u001b[24m\u001b[39m\n",
       " [164] *(\u001b[90mH\u001b[39m::\u001b[1mLinearAlgebra.UpperHessenberg\u001b[22m, \u001b[90mx\u001b[39m::\u001b[1mLinearAlgebra.UniformScaling\u001b[22m)\n",
       "\u001b[90m     @\u001b[39m \u001b[35mLinearAlgebra\u001b[39m \u001b[90m~/.julia/juliaup/julia-1.11.5+0.aarch64.apple.darwin14/share/julia/stdlib/v1.11/LinearAlgebra/src/\u001b[39m\u001b[90m\u001b[4mhessenberg.jl:128\u001b[24m\u001b[39m\n",
       " [165] *(\u001b[90mH\u001b[39m::\u001b[1mLinearAlgebra.UpperHessenberg\u001b[22m, \u001b[90mx\u001b[39m::\u001b[1mNumber\u001b[22m)\n",
       "\u001b[90m     @\u001b[39m \u001b[35mLinearAlgebra\u001b[39m \u001b[90m~/.julia/juliaup/julia-1.11.5+0.aarch64.apple.darwin14/share/julia/stdlib/v1.11/LinearAlgebra/src/\u001b[39m\u001b[90m\u001b[4mhessenberg.jl:128\u001b[24m\u001b[39m\n",
       " [166] *(\u001b[90mx\u001b[39m::\u001b[1mP\u001b[22m, \u001b[90my\u001b[39m::\u001b[1mReal\u001b[22m) where P<:Dates.Period\n",
       "\u001b[90m     @\u001b[39m \u001b[33mDates\u001b[39m \u001b[90m~/.julia/juliaup/julia-1.11.5+0.aarch64.apple.darwin14/share/julia/stdlib/v1.11/Dates/src/\u001b[39m\u001b[90m\u001b[4mperiods.jl:90\u001b[24m\u001b[39m\n",
       " [167] *(\u001b[90mx\u001b[39m::\u001b[1mDates.Period\u001b[22m, \u001b[90mr\u001b[39m::\u001b[1mAbstractRange\u001b[22m\u001b[0m{<:Real})\n",
       "\u001b[90m     @\u001b[39m \u001b[33mDates\u001b[39m \u001b[90m~/.julia/juliaup/julia-1.11.5+0.aarch64.apple.darwin14/share/julia/stdlib/v1.11/Dates/src/\u001b[39m\u001b[90m\u001b[4mranges.jl:67\u001b[24m\u001b[39m\n",
       " [168] *(\u001b[90mA\u001b[39m::\u001b[1mDates.Period\u001b[22m, \u001b[90mB\u001b[39m::\u001b[1mAbstractArray\u001b[22m)\n",
       "\u001b[90m     @\u001b[39m \u001b[33mDates\u001b[39m \u001b[90m~/.julia/juliaup/julia-1.11.5+0.aarch64.apple.darwin14/share/julia/stdlib/v1.11/Dates/src/\u001b[39m\u001b[90m\u001b[4mperiods.jl:93\u001b[24m\u001b[39m\n",
       " [169] *(\u001b[90mA\u001b[39m::\u001b[1mLinearAlgebra.LowerTriangular\u001b[22m, \u001b[90mB\u001b[39m::\u001b[1mLinearAlgebra.UnitLowerTriangular\u001b[22m)\n",
       "\u001b[90m     @\u001b[39m \u001b[35mLinearAlgebra\u001b[39m \u001b[90m~/.julia/juliaup/julia-1.11.5+0.aarch64.apple.darwin14/share/julia/stdlib/v1.11/LinearAlgebra/src/\u001b[39m\u001b[90m\u001b[4mtriangular.jl:1743\u001b[24m\u001b[39m\n",
       " [170] *(\u001b[90mA\u001b[39m::\u001b[1mLinearAlgebra.LowerTriangular\u001b[22m, \u001b[90mB\u001b[39m::\u001b[1mLinearAlgebra.LowerTriangular\u001b[22m)\n",
       "\u001b[90m     @\u001b[39m \u001b[35mLinearAlgebra\u001b[39m \u001b[90m~/.julia/juliaup/julia-1.11.5+0.aarch64.apple.darwin14/share/julia/stdlib/v1.11/LinearAlgebra/src/\u001b[39m\u001b[90m\u001b[4mtriangular.jl:1741\u001b[24m\u001b[39m\n",
       " [171] *(\u001b[90mA\u001b[39m::\u001b[1mLinearAlgebra.LowerTriangular\u001b[22m\u001b[0m{<:Any, <:Union{LinearAlgebra.Adjoint{<:Any, <:StridedMatrix{T}}, LinearAlgebra.Transpose{<:Any, <:StridedMatrix{T}}, StridedArray{T, 2}} where T}, \u001b[90mx\u001b[39m::\u001b[1mNumber\u001b[22m)\n",
       "\u001b[90m     @\u001b[39m \u001b[35mLinearAlgebra\u001b[39m \u001b[90m~/.julia/juliaup/julia-1.11.5+0.aarch64.apple.darwin14/share/julia/stdlib/v1.11/LinearAlgebra/src/\u001b[39m\u001b[90m\u001b[4mtriangular.jl:1098\u001b[24m\u001b[39m\n",
       " [172] *(\u001b[90mA\u001b[39m::\u001b[1mLinearAlgebra.LowerTriangular\u001b[22m, \u001b[90mx\u001b[39m::\u001b[1mNumber\u001b[22m)\n",
       "\u001b[90m     @\u001b[39m \u001b[35mLinearAlgebra\u001b[39m \u001b[90m~/.julia/juliaup/julia-1.11.5+0.aarch64.apple.darwin14/share/julia/stdlib/v1.11/LinearAlgebra/src/\u001b[39m\u001b[90m\u001b[4mtriangular.jl:1097\u001b[24m\u001b[39m\n",
       " [173] *(\u001b[90mQ\u001b[39m::\u001b[1mLinearAlgebra.AbstractQ\u001b[22m, \u001b[90mP\u001b[39m::\u001b[1mLinearAlgebra.AbstractQ\u001b[22m)\n",
       "\u001b[90m     @\u001b[39m \u001b[35mLinearAlgebra\u001b[39m \u001b[90m~/.julia/juliaup/julia-1.11.5+0.aarch64.apple.darwin14/share/julia/stdlib/v1.11/LinearAlgebra/src/\u001b[39m\u001b[90m\u001b[4mabstractq.jl:209\u001b[24m\u001b[39m\n",
       " [174] *(\u001b[90mQ\u001b[39m::\u001b[1mSparseArrays.SPQR.QRSparseQ\u001b[22m, \u001b[90mB\u001b[39m::\u001b[1mSparseArrays.SparseMatrixCSC\u001b[22m)\n",
       "\u001b[90m     @\u001b[39m \u001b[35mSparseArrays.SPQR\u001b[39m \u001b[90m~/.julia/juliaup/julia-1.11.5+0.aarch64.apple.darwin14/share/julia/stdlib/v1.11/SparseArrays/src/solvers/\u001b[39m\u001b[90m\u001b[4mspqr.jl:337\u001b[24m\u001b[39m\n",
       " [175] *(\u001b[90mQ\u001b[39m::\u001b[1mSparseArrays.SPQR.QRSparseQ\u001b[22m, \u001b[90mB\u001b[39m::\u001b[1mAbstractMatrix\u001b[22m)\n",
       "\u001b[90m     @\u001b[39m \u001b[35mSparseArrays.SPQR\u001b[39m \u001b[90m~/.julia/juliaup/julia-1.11.5+0.aarch64.apple.darwin14/share/julia/stdlib/v1.11/SparseArrays/src/solvers/\u001b[39m\u001b[90m\u001b[4mspqr.jl:310\u001b[24m\u001b[39m\n",
       " [176] *(\u001b[90mQ\u001b[39m::\u001b[1mLinearAlgebra.AdjointQ\u001b[22m\u001b[0m{<:Any, <:Union{LinearAlgebra.HessenbergQ, LinearAlgebra.QRCompactWYQ, LinearAlgebra.QRPackedQ}}, \u001b[90mB\u001b[39m::\u001b[1mSparseArrays.AbstractSparseMatrixCSC\u001b[22m)\n",
       "\u001b[90m     @\u001b[39m \u001b[35mSparseArrays\u001b[39m \u001b[90m~/.julia/juliaup/julia-1.11.5+0.aarch64.apple.darwin14/share/julia/stdlib/v1.11/SparseArrays/src/\u001b[39m\u001b[90m\u001b[4msparsematrix.jl:496\u001b[24m\u001b[39m\n",
       " [177] *(\u001b[90mQ\u001b[39m::\u001b[1mLinearAlgebra.AdjointQ\u001b[22m\u001b[0m{<:Any, <:LinearAlgebra.LQPackedQ}, \u001b[90mB\u001b[39m::\u001b[1mSparseArrays.AbstractSparseMatrixCSC\u001b[22m)\n",
       "\u001b[90m     @\u001b[39m \u001b[35mSparseArrays\u001b[39m \u001b[90m~/.julia/juliaup/julia-1.11.5+0.aarch64.apple.darwin14/share/julia/stdlib/v1.11/SparseArrays/src/\u001b[39m\u001b[90m\u001b[4msparsematrix.jl:496\u001b[24m\u001b[39m\n",
       " [178] *(\u001b[90mQ\u001b[39m::\u001b[1mLinearAlgebra.AdjointQ\u001b[22m\u001b[0m{<:Any, <:Union{LinearAlgebra.HessenbergQ, LinearAlgebra.QRCompactWYQ, LinearAlgebra.QRPackedQ}}, \u001b[90mB\u001b[39m::\u001b[1mUnion\u001b[22m\u001b[0m{LinearAlgebra.Adjoint{var\"#s15\", var\"#s14\"}, LinearAlgebra.Transpose{var\"#s15\", var\"#s14\"}} where {var\"#s15\", var\"#s14\"<:SparseArrays.AbstractSparseMatrixCSC})\n",
       "\u001b[90m     @\u001b[39m \u001b[35mSparseArrays\u001b[39m \u001b[90m~/.julia/juliaup/julia-1.11.5+0.aarch64.apple.darwin14/share/julia/stdlib/v1.11/SparseArrays/src/\u001b[39m\u001b[90m\u001b[4msparsematrix.jl:497\u001b[24m\u001b[39m\n",
       " [179] *(\u001b[90mQ\u001b[39m::\u001b[1mLinearAlgebra.AdjointQ\u001b[22m\u001b[0m{<:Any, <:LinearAlgebra.LQPackedQ}, \u001b[90mB\u001b[39m::\u001b[1mUnion\u001b[22m\u001b[0m{LinearAlgebra.Adjoint{var\"#s15\", var\"#s14\"}, LinearAlgebra.Transpose{var\"#s15\", var\"#s14\"}} where {var\"#s15\", var\"#s14\"<:SparseArrays.AbstractSparseMatrixCSC})\n",
       "\u001b[90m     @\u001b[39m \u001b[35mSparseArrays\u001b[39m \u001b[90m~/.julia/juliaup/julia-1.11.5+0.aarch64.apple.darwin14/share/julia/stdlib/v1.11/SparseArrays/src/\u001b[39m\u001b[90m\u001b[4msparsematrix.jl:497\u001b[24m\u001b[39m\n",
       " [180] *(\u001b[90mQ\u001b[39m::\u001b[1mUnion\u001b[22m\u001b[0m{LinearAlgebra.HessenbergQ, LinearAlgebra.QRCompactWYQ, LinearAlgebra.QRPackedQ}, \u001b[90mB\u001b[39m::\u001b[1mSparseArrays.AbstractSparseMatrixCSC\u001b[22m)\n",
       "\u001b[90m     @\u001b[39m \u001b[35mSparseArrays\u001b[39m \u001b[90m~/.julia/juliaup/julia-1.11.5+0.aarch64.apple.darwin14/share/julia/stdlib/v1.11/SparseArrays/src/\u001b[39m\u001b[90m\u001b[4msparsematrix.jl:491\u001b[24m\u001b[39m\n",
       " [181] *(\u001b[90mQ\u001b[39m::\u001b[1mUnion\u001b[22m\u001b[0m{LinearAlgebra.HessenbergQ, LinearAlgebra.QRCompactWYQ, LinearAlgebra.QRPackedQ}, \u001b[90mB\u001b[39m::\u001b[1mUnion\u001b[22m\u001b[0m{LinearAlgebra.Adjoint{var\"#s31\", var\"#s30\"}, LinearAlgebra.Transpose{var\"#s31\", var\"#s30\"}} where {var\"#s31\", var\"#s30\"<:SparseArrays.AbstractSparseMatrixCSC})\n",
       "\u001b[90m     @\u001b[39m \u001b[35mSparseArrays\u001b[39m \u001b[90m~/.julia/juliaup/julia-1.11.5+0.aarch64.apple.darwin14/share/julia/stdlib/v1.11/SparseArrays/src/\u001b[39m\u001b[90m\u001b[4msparsematrix.jl:492\u001b[24m\u001b[39m\n",
       " [182] *(\u001b[90mQ\u001b[39m::\u001b[1mLinearAlgebra.AbstractQ\u001b[22m, \u001b[90mB\u001b[39m::\u001b[1mAbstractMatrix\u001b[22m)\n",
       "\u001b[90m     @\u001b[39m \u001b[35mLinearAlgebra\u001b[39m \u001b[90m~/.julia/juliaup/julia-1.11.5+0.aarch64.apple.darwin14/share/julia/stdlib/v1.11/LinearAlgebra/src/\u001b[39m\u001b[90m\u001b[4mabstractq.jl:185\u001b[24m\u001b[39m\n",
       " [183] *(\u001b[90mQ\u001b[39m::\u001b[1mSparseArrays.SPQR.QRSparseQ\u001b[22m, \u001b[90mb\u001b[39m::\u001b[1mAbstractVector\u001b[22m)\n",
       "\u001b[90m     @\u001b[39m \u001b[35mSparseArrays.SPQR\u001b[39m \u001b[90m~/.julia/juliaup/julia-1.11.5+0.aarch64.apple.darwin14/share/julia/stdlib/v1.11/SparseArrays/src/solvers/\u001b[39m\u001b[90m\u001b[4mspqr.jl:298\u001b[24m\u001b[39m\n",
       " [184] *(\u001b[90mQ\u001b[39m::\u001b[1mLinearAlgebra.AdjointQ\u001b[22m\u001b[0m{<:Any, <:Union{LinearAlgebra.HessenbergQ, LinearAlgebra.QRCompactWYQ, LinearAlgebra.QRPackedQ}}, \u001b[90mB\u001b[39m::\u001b[1mSparseArrays.AbstractSparseVector\u001b[22m)\n",
       "\u001b[90m     @\u001b[39m \u001b[35mSparseArrays\u001b[39m \u001b[90m~/.julia/juliaup/julia-1.11.5+0.aarch64.apple.darwin14/share/julia/stdlib/v1.11/SparseArrays/src/\u001b[39m\u001b[90m\u001b[4msparsevector.jl:1375\u001b[24m\u001b[39m\n",
       " [185] *(\u001b[90mQ\u001b[39m::\u001b[1mLinearAlgebra.AdjointQ\u001b[22m\u001b[0m{<:Any, <:LinearAlgebra.LQPackedQ}, \u001b[90mB\u001b[39m::\u001b[1mSparseArrays.AbstractSparseVector\u001b[22m)\n",
       "\u001b[90m     @\u001b[39m \u001b[35mSparseArrays\u001b[39m \u001b[90m~/.julia/juliaup/julia-1.11.5+0.aarch64.apple.darwin14/share/julia/stdlib/v1.11/SparseArrays/src/\u001b[39m\u001b[90m\u001b[4msparsevector.jl:1375\u001b[24m\u001b[39m\n",
       " [186] *(\u001b[90mQ\u001b[39m::\u001b[1mUnion\u001b[22m\u001b[0m{LinearAlgebra.HessenbergQ, LinearAlgebra.QRCompactWYQ, LinearAlgebra.QRPackedQ}, \u001b[90mB\u001b[39m::\u001b[1mSparseArrays.AbstractSparseVector\u001b[22m)\n",
       "\u001b[90m     @\u001b[39m \u001b[35mSparseArrays\u001b[39m \u001b[90m~/.julia/juliaup/julia-1.11.5+0.aarch64.apple.darwin14/share/julia/stdlib/v1.11/SparseArrays/src/\u001b[39m\u001b[90m\u001b[4msparsevector.jl:1374\u001b[24m\u001b[39m\n",
       " [187] *(\u001b[90mQ\u001b[39m::\u001b[1mLinearAlgebra.AbstractQ\u001b[22m, \u001b[90mB\u001b[39m::\u001b[1mAbstractVector\u001b[22m)\n",
       "\u001b[90m     @\u001b[39m \u001b[35mLinearAlgebra\u001b[39m \u001b[90m~/.julia/juliaup/julia-1.11.5+0.aarch64.apple.darwin14/share/julia/stdlib/v1.11/LinearAlgebra/src/\u001b[39m\u001b[90m\u001b[4mabstractq.jl:180\u001b[24m\u001b[39m\n",
       " [188] *(\u001b[90mQ\u001b[39m::\u001b[1mLinearAlgebra.AbstractQ\u001b[22m, \u001b[90mb\u001b[39m::\u001b[1mNumber\u001b[22m)\n",
       "\u001b[90m     @\u001b[39m \u001b[35mLinearAlgebra\u001b[39m \u001b[90m~/.julia/juliaup/julia-1.11.5+0.aarch64.apple.darwin14/share/julia/stdlib/v1.11/LinearAlgebra/src/\u001b[39m\u001b[90m\u001b[4mabstractq.jl:176\u001b[24m\u001b[39m\n",
       " [189] *(\u001b[90mQ\u001b[39m::\u001b[1mLinearAlgebra.AbstractQ\u001b[22m, \u001b[90mJ\u001b[39m::\u001b[1mLinearAlgebra.UniformScaling\u001b[22m)\n",
       "\u001b[90m     @\u001b[39m \u001b[35mLinearAlgebra\u001b[39m \u001b[90m~/.julia/juliaup/julia-1.11.5+0.aarch64.apple.darwin14/share/julia/stdlib/v1.11/LinearAlgebra/src/\u001b[39m\u001b[90m\u001b[4mabstractq.jl:175\u001b[24m\u001b[39m\n",
       " [190] *(\u001b[90mQ\u001b[39m::\u001b[1mLinearAlgebra.AbstractQ\u001b[22m\u001b[0m{<:Number})\n",
       "\u001b[90m     @\u001b[39m \u001b[35mLinearAlgebra\u001b[39m \u001b[90m~/.julia/juliaup/julia-1.11.5+0.aarch64.apple.darwin14/share/julia/stdlib/v1.11/LinearAlgebra/src/\u001b[39m\u001b[90m\u001b[4mabstractq.jl:173\u001b[24m\u001b[39m\n",
       " [191] *(\u001b[90ma\u001b[39m::\u001b[1mInteger\u001b[22m, \u001b[90mindex\u001b[39m::\u001b[1mCartesianIndex\u001b[22m\u001b[0m{N}) where N\n",
       "\u001b[90m     @\u001b[39m \u001b[90mBase.IteratorsMD\u001b[39m \u001b[90m\u001b[4mmultidimensional.jl:129\u001b[24m\u001b[39m\n",
       " [192] *(\u001b[90mr\u001b[39m::\u001b[1mAbstractRange\u001b[22m\u001b[0m{<:Real}, \u001b[90mx\u001b[39m::\u001b[1mDates.Period\u001b[22m)\n",
       "\u001b[90m     @\u001b[39m \u001b[33mDates\u001b[39m \u001b[90m~/.julia/juliaup/julia-1.11.5+0.aarch64.apple.darwin14/share/julia/stdlib/v1.11/Dates/src/\u001b[39m\u001b[90m\u001b[4mranges.jl:68\u001b[24m\u001b[39m\n",
       " [193] *(\u001b[90mA\u001b[39m::\u001b[1mLinearAlgebra.LQ\u001b[22m\u001b[0m{TA, S, C} where {S<:AbstractMatrix{TA}, C<:AbstractVector{TA}}, \u001b[90mB\u001b[39m::\u001b[1mAbstractVecOrMat\u001b[22m\u001b[0m{TB}) where {TA, TB}\n",
       "\u001b[90m     @\u001b[39m \u001b[35mLinearAlgebra\u001b[39m \u001b[90m~/.julia/juliaup/julia-1.11.5+0.aarch64.apple.darwin14/share/julia/stdlib/v1.11/LinearAlgebra/src/\u001b[39m\u001b[90m\u001b[4mlq.jl:167\u001b[24m\u001b[39m\n",
       " [194] *(\u001b[90mG\u001b[39m::\u001b[1mLinearAlgebra.Givens\u001b[22m\u001b[0m{S}, \u001b[90mR\u001b[39m::\u001b[1mLinearAlgebra.Rotation\u001b[22m\u001b[0m{T}) where {S, T}\n",
       "\u001b[90m     @\u001b[39m \u001b[35mLinearAlgebra\u001b[39m \u001b[90m~/.julia/juliaup/julia-1.11.5+0.aarch64.apple.darwin14/share/julia/stdlib/v1.11/LinearAlgebra/src/\u001b[39m\u001b[90m\u001b[4mgivens.jl:422\u001b[24m\u001b[39m\n",
       " [195] *(\u001b[90mG1\u001b[39m::\u001b[1mLinearAlgebra.Givens\u001b[22m\u001b[0m{S}, \u001b[90mG2\u001b[39m::\u001b[1mLinearAlgebra.Givens\u001b[22m\u001b[0m{T}) where {S, T}\n",
       "\u001b[90m     @\u001b[39m \u001b[35mLinearAlgebra\u001b[39m \u001b[90m~/.julia/juliaup/julia-1.11.5+0.aarch64.apple.darwin14/share/julia/stdlib/v1.11/LinearAlgebra/src/\u001b[39m\u001b[90m\u001b[4mgivens.jl:415\u001b[24m\u001b[39m\n",
       " [196] *(\u001b[90mG\u001b[39m::\u001b[1mLinearAlgebra.Givens\u001b[22m\u001b[0m{T}, \u001b[90mGs\u001b[39m::\u001b[1mLinearAlgebra.Givens\u001b[22m\u001b[0m{T}\u001b[1m...\u001b[22m) where T\n",
       "\u001b[90m     @\u001b[39m \u001b[35mLinearAlgebra\u001b[39m \u001b[90m~/.julia/juliaup/julia-1.11.5+0.aarch64.apple.darwin14/share/julia/stdlib/v1.11/LinearAlgebra/src/\u001b[39m\u001b[90m\u001b[4mgivens.jl:419\u001b[24m\u001b[39m\n",
       " [197] *(\u001b[90mA\u001b[39m::\u001b[1mLinearAlgebra.SymTridiagonal\u001b[22m, \u001b[90mB\u001b[39m::\u001b[1mLinearAlgebra.Diagonal\u001b[22m)\n",
       "\u001b[90m     @\u001b[39m \u001b[35mLinearAlgebra\u001b[39m \u001b[90m~/.julia/juliaup/julia-1.11.5+0.aarch64.apple.darwin14/share/julia/stdlib/v1.11/LinearAlgebra/src/\u001b[39m\u001b[90m\u001b[4mbidiag.jl:794\u001b[24m\u001b[39m\n",
       " [198] *(\u001b[90mA\u001b[39m::\u001b[1mLinearAlgebra.SymTridiagonal\u001b[22m, \u001b[90mB\u001b[39m::\u001b[1mNumber\u001b[22m)\n",
       "\u001b[90m     @\u001b[39m \u001b[35mLinearAlgebra\u001b[39m \u001b[90m~/.julia/juliaup/julia-1.11.5+0.aarch64.apple.darwin14/share/julia/stdlib/v1.11/LinearAlgebra/src/\u001b[39m\u001b[90m\u001b[4mtridiag.jl:218\u001b[24m\u001b[39m\n",
       " [199] *(\u001b[90mJ\u001b[39m::\u001b[1mLinearAlgebra.UniformScaling\u001b[22m, \u001b[90mQ\u001b[39m::\u001b[1mLinearAlgebra.AbstractQ\u001b[22m)\n",
       "\u001b[90m     @\u001b[39m \u001b[35mLinearAlgebra\u001b[39m \u001b[90m~/.julia/juliaup/julia-1.11.5+0.aarch64.apple.darwin14/share/julia/stdlib/v1.11/LinearAlgebra/src/\u001b[39m\u001b[90m\u001b[4mabstractq.jl:191\u001b[24m\u001b[39m\n",
       " [200] *(\u001b[90mx\u001b[39m::\u001b[1mLinearAlgebra.UniformScaling\u001b[22m, \u001b[90mH\u001b[39m::\u001b[1mLinearAlgebra.UpperHessenberg\u001b[22m)\n",
       "\u001b[90m     @\u001b[39m \u001b[35mLinearAlgebra\u001b[39m \u001b[90m~/.julia/juliaup/julia-1.11.5+0.aarch64.apple.darwin14/share/julia/stdlib/v1.11/LinearAlgebra/src/\u001b[39m\u001b[90m\u001b[4mhessenberg.jl:129\u001b[24m\u001b[39m\n",
       " [201] *(\u001b[90mJ\u001b[39m::\u001b[1mLinearAlgebra.UniformScaling\u001b[22m, \u001b[90mx\u001b[39m::\u001b[1mNumber\u001b[22m)\n",
       "\u001b[90m     @\u001b[39m \u001b[35mLinearAlgebra\u001b[39m \u001b[90m~/.julia/juliaup/julia-1.11.5+0.aarch64.apple.darwin14/share/julia/stdlib/v1.11/LinearAlgebra/src/\u001b[39m\u001b[90m\u001b[4muniformscaling.jl:264\u001b[24m\u001b[39m\n",
       " [202] *(\u001b[90mJ\u001b[39m::\u001b[1mLinearAlgebra.UniformScaling\u001b[22m, \u001b[90mB\u001b[39m::\u001b[1mBitMatrix\u001b[22m)\n",
       "\u001b[90m     @\u001b[39m \u001b[35mLinearAlgebra\u001b[39m \u001b[90m~/.julia/juliaup/julia-1.11.5+0.aarch64.apple.darwin14/share/julia/stdlib/v1.11/LinearAlgebra/src/\u001b[39m\u001b[90m\u001b[4muniformscaling.jl:259\u001b[24m\u001b[39m\n",
       " [203] *(\u001b[90mJ\u001b[39m::\u001b[1mLinearAlgebra.UniformScaling\u001b[22m, \u001b[90mA\u001b[39m::\u001b[1mAbstractVecOrMat\u001b[22m)\n",
       "\u001b[90m     @\u001b[39m \u001b[35mLinearAlgebra\u001b[39m \u001b[90m~/.julia/juliaup/julia-1.11.5+0.aarch64.apple.darwin14/share/julia/stdlib/v1.11/LinearAlgebra/src/\u001b[39m\u001b[90m\u001b[4muniformscaling.jl:262\u001b[24m\u001b[39m\n",
       " [204] *(\u001b[90mJ1\u001b[39m::\u001b[1mLinearAlgebra.UniformScaling\u001b[22m, \u001b[90mJ2\u001b[39m::\u001b[1mLinearAlgebra.UniformScaling\u001b[22m)\n",
       "\u001b[90m     @\u001b[39m \u001b[35mLinearAlgebra\u001b[39m \u001b[90m~/.julia/juliaup/julia-1.11.5+0.aarch64.apple.darwin14/share/julia/stdlib/v1.11/LinearAlgebra/src/\u001b[39m\u001b[90m\u001b[4muniformscaling.jl:257\u001b[24m\u001b[39m\n",
       " [205] *(\u001b[90mA\u001b[39m::\u001b[1mLinearAlgebra.UnitLowerTriangular\u001b[22m, \u001b[90mB\u001b[39m::\u001b[1mLinearAlgebra.UnitLowerTriangular\u001b[22m)\n",
       "\u001b[90m     @\u001b[39m \u001b[35mLinearAlgebra\u001b[39m \u001b[90m~/.julia/juliaup/julia-1.11.5+0.aarch64.apple.darwin14/share/julia/stdlib/v1.11/LinearAlgebra/src/\u001b[39m\u001b[90m\u001b[4mtriangular.jl:1747\u001b[24m\u001b[39m\n",
       " [206] *(\u001b[90mA\u001b[39m::\u001b[1mLinearAlgebra.UnitLowerTriangular\u001b[22m, \u001b[90mB\u001b[39m::\u001b[1mLinearAlgebra.LowerTriangular\u001b[22m)\n",
       "\u001b[90m     @\u001b[39m \u001b[35mLinearAlgebra\u001b[39m \u001b[90m~/.julia/juliaup/julia-1.11.5+0.aarch64.apple.darwin14/share/julia/stdlib/v1.11/LinearAlgebra/src/\u001b[39m\u001b[90m\u001b[4mtriangular.jl:1745\u001b[24m\u001b[39m\n",
       " [207] *(\u001b[90mA\u001b[39m::\u001b[1mLinearAlgebra.UnitLowerTriangular\u001b[22m, \u001b[90mx\u001b[39m::\u001b[1mNumber\u001b[22m)\n",
       "\u001b[90m     @\u001b[39m \u001b[35mLinearAlgebra\u001b[39m \u001b[90m~/.julia/juliaup/julia-1.11.5+0.aarch64.apple.darwin14/share/julia/stdlib/v1.11/LinearAlgebra/src/\u001b[39m\u001b[90m\u001b[4mtriangular.jl:1104\u001b[24m\u001b[39m\n",
       " [208] *(\u001b[90mA\u001b[39m::\u001b[1mSparseArrays.AbstractSparseMatrixCSC\u001b[22m, \u001b[90mQ\u001b[39m::\u001b[1mUnion\u001b[22m\u001b[0m{LinearAlgebra.HessenbergQ, LinearAlgebra.QRCompactWYQ, LinearAlgebra.QRPackedQ})\n",
       "\u001b[90m     @\u001b[39m \u001b[35mSparseArrays\u001b[39m \u001b[90m~/.julia/juliaup/julia-1.11.5+0.aarch64.apple.darwin14/share/julia/stdlib/v1.11/SparseArrays/src/\u001b[39m\u001b[90m\u001b[4msparsematrix.jl:493\u001b[24m\u001b[39m\n",
       " [209] *(\u001b[90mA\u001b[39m::\u001b[1mUnion\u001b[22m\u001b[0m{LinearAlgebra.Adjoint{var\"#s31\", var\"#s30\"}, LinearAlgebra.Transpose{var\"#s31\", var\"#s30\"}} where {var\"#s31\", var\"#s30\"<:SparseArrays.AbstractSparseMatrixCSC}, \u001b[90mQ\u001b[39m::\u001b[1mUnion\u001b[22m\u001b[0m{LinearAlgebra.HessenbergQ, LinearAlgebra.QRCompactWYQ, LinearAlgebra.QRPackedQ})\n",
       "\u001b[90m     @\u001b[39m \u001b[35mSparseArrays\u001b[39m \u001b[90m~/.julia/juliaup/julia-1.11.5+0.aarch64.apple.darwin14/share/julia/stdlib/v1.11/SparseArrays/src/\u001b[39m\u001b[90m\u001b[4msparsematrix.jl:494\u001b[24m\u001b[39m\n",
       " [210] *(\u001b[90mA\u001b[39m::\u001b[1mUnion\u001b[22m\u001b[0m{LinearAlgebra.Adjoint{var\"#s31\", var\"#s30\"}, LinearAlgebra.Transpose{var\"#s31\", var\"#s30\"}} where {var\"#s31\", var\"#s30\"<:SparseArrays.AbstractSparseMatrixCSC}, \u001b[90mQ\u001b[39m::\u001b[1mLinearAlgebra.LQPackedQ\u001b[22m)\n",
       "\u001b[90m     @\u001b[39m \u001b[35mSparseArrays\u001b[39m \u001b[90m~/.julia/juliaup/julia-1.11.5+0.aarch64.apple.darwin14/share/julia/stdlib/v1.11/SparseArrays/src/\u001b[39m\u001b[90m\u001b[4msparsematrix.jl:494\u001b[24m\u001b[39m\n",
       " [211] *(\u001b[90mA\u001b[39m::\u001b[1mSparseArrays.AbstractSparseMatrixCSC\u001b[22m, \u001b[90mQ\u001b[39m::\u001b[1mLinearAlgebra.AdjointQ\u001b[22m\u001b[0m{<:Any, <:Union{LinearAlgebra.HessenbergQ, LinearAlgebra.QRCompactWYQ, LinearAlgebra.QRPackedQ}})\n",
       "\u001b[90m     @\u001b[39m \u001b[35mSparseArrays\u001b[39m \u001b[90m~/.julia/juliaup/julia-1.11.5+0.aarch64.apple.darwin14/share/julia/stdlib/v1.11/SparseArrays/src/\u001b[39m\u001b[90m\u001b[4msparsematrix.jl:498\u001b[24m\u001b[39m\n",
       " [212] *(\u001b[90mA\u001b[39m::\u001b[1mSparseArrays.AbstractSparseMatrixCSC\u001b[22m, \u001b[90mQ\u001b[39m::\u001b[1mLinearAlgebra.AdjointQ\u001b[22m\u001b[0m{<:Any, <:LinearAlgebra.LQPackedQ})\n",
       "\u001b[90m     @\u001b[39m \u001b[35mSparseArrays\u001b[39m \u001b[90m~/.julia/juliaup/julia-1.11.5+0.aarch64.apple.darwin14/share/julia/stdlib/v1.11/SparseArrays/src/\u001b[39m\u001b[90m\u001b[4msparsematrix.jl:498\u001b[24m\u001b[39m\n",
       " [213] *(\u001b[90mA\u001b[39m::\u001b[1mAbstractMatrix\u001b[22m, \u001b[90madjQ\u001b[39m::\u001b[1mLinearAlgebra.AdjointQ\u001b[22m\u001b[0m{<:Any, <:SparseArrays.SPQR.QRSparseQ})\n",
       "\u001b[90m     @\u001b[39m \u001b[35mSparseArrays.SPQR\u001b[39m \u001b[90m~/.julia/juliaup/julia-1.11.5+0.aarch64.apple.darwin14/share/julia/stdlib/v1.11/SparseArrays/src/solvers/\u001b[39m\u001b[90m\u001b[4mspqr.jl:322\u001b[24m\u001b[39m\n",
       " [214] *(\u001b[90mu\u001b[39m::\u001b[1mLinearAlgebra.Adjoint\u001b[22m\u001b[0m{T, <:AbstractVector} where T, \u001b[90mQ\u001b[39m::\u001b[1mLinearAlgebra.AdjointQ\u001b[22m\u001b[0m{<:Any, <:SparseArrays.SPQR.QRSparseQ})\n",
       "\u001b[90m     @\u001b[39m \u001b[35mSparseArrays.SPQR\u001b[39m \u001b[90m~/.julia/juliaup/julia-1.11.5+0.aarch64.apple.darwin14/share/julia/stdlib/v1.11/SparseArrays/src/solvers/\u001b[39m\u001b[90m\u001b[4mspqr.jl:335\u001b[24m\u001b[39m\n",
       " [215] *(\u001b[90mA\u001b[39m::\u001b[1mUnion\u001b[22m\u001b[0m{LinearAlgebra.Adjoint{var\"#s31\", var\"#s30\"}, LinearAlgebra.Transpose{var\"#s31\", var\"#s30\"}} where {var\"#s31\", var\"#s30\"<:SparseArrays.AbstractSparseMatrixCSC}, \u001b[90mQ\u001b[39m::\u001b[1mLinearAlgebra.AdjointQ\u001b[22m\u001b[0m{<:Any, <:Union{LinearAlgebra.HessenbergQ, LinearAlgebra.QRCompactWYQ, LinearAlgebra.QRPackedQ}})\n",
       "\u001b[90m     @\u001b[39m \u001b[35mSparseArrays\u001b[39m \u001b[90m~/.julia/juliaup/julia-1.11.5+0.aarch64.apple.darwin14/share/julia/stdlib/v1.11/SparseArrays/src/\u001b[39m\u001b[90m\u001b[4msparsematrix.jl:499\u001b[24m\u001b[39m\n",
       " [216] *(\u001b[90mA\u001b[39m::\u001b[1mUnion\u001b[22m\u001b[0m{LinearAlgebra.Adjoint{var\"#s31\", var\"#s30\"}, LinearAlgebra.Transpose{var\"#s31\", var\"#s30\"}} where {var\"#s31\", var\"#s30\"<:SparseArrays.AbstractSparseMatrixCSC}, \u001b[90mQ\u001b[39m::\u001b[1mLinearAlgebra.AdjointQ\u001b[22m\u001b[0m{<:Any, <:LinearAlgebra.LQPackedQ})\n",
       "\u001b[90m     @\u001b[39m \u001b[35mSparseArrays\u001b[39m \u001b[90m~/.julia/juliaup/julia-1.11.5+0.aarch64.apple.darwin14/share/julia/stdlib/v1.11/SparseArrays/src/\u001b[39m\u001b[90m\u001b[4msparsematrix.jl:499\u001b[24m\u001b[39m\n",
       " [217] *(\u001b[90mu\u001b[39m::\u001b[1mLinearAlgebra.Adjoint\u001b[22m\u001b[0m{T, <:AbstractVector} where T, \u001b[90mQ\u001b[39m::\u001b[1mLinearAlgebra.AbstractQ\u001b[22m)\n",
       "\u001b[90m     @\u001b[39m \u001b[35mLinearAlgebra\u001b[39m \u001b[90m~/.julia/juliaup/julia-1.11.5+0.aarch64.apple.darwin14/share/julia/stdlib/v1.11/LinearAlgebra/src/\u001b[39m\u001b[90m\u001b[4mabstractq.jl:206\u001b[24m\u001b[39m\n",
       " [218] *(\u001b[90mA\u001b[39m::\u001b[1mSparseArrays.AbstractSparseMatrixCSC\u001b[22m, \u001b[90mQ\u001b[39m::\u001b[1mLinearAlgebra.LQPackedQ\u001b[22m)\n",
       "\u001b[90m     @\u001b[39m \u001b[35mSparseArrays\u001b[39m \u001b[90m~/.julia/juliaup/julia-1.11.5+0.aarch64.apple.darwin14/share/julia/stdlib/v1.11/SparseArrays/src/\u001b[39m\u001b[90m\u001b[4msparsematrix.jl:493\u001b[24m\u001b[39m\n",
       " [219] *(\u001b[90mA\u001b[39m::\u001b[1mSparseArrays.AbstractSparseMatrixCSC\u001b[22m, \u001b[90mx\u001b[39m::\u001b[1mSparseArrays.AbstractSparseVector\u001b[22m)\n",
       "\u001b[90m     @\u001b[39m \u001b[35mSparseArrays\u001b[39m \u001b[90m~/.julia/juliaup/julia-1.11.5+0.aarch64.apple.darwin14/share/julia/stdlib/v1.11/SparseArrays/src/\u001b[39m\u001b[90m\u001b[4msparsevector.jl:2071\u001b[24m\u001b[39m\n",
       " [220] *(\u001b[90ma\u001b[39m::\u001b[1mColorVectorSpace.RGBRGB\u001b[22m, \u001b[90mα\u001b[39m::\u001b[1mReal\u001b[22m)\n",
       "\u001b[90m     @\u001b[39m \u001b[32mColorVectorSpace\u001b[39m \u001b[90m~/.julia/packages/ColorVectorSpace/JXxVe/src/\u001b[39m\u001b[90m\u001b[4mColorVectorSpace.jl:422\u001b[24m\u001b[39m\n",
       " [221] *(\u001b[90mp\u001b[39m::\u001b[1mSpecialFunctions.SimplePoly\u001b[22m\u001b[0m{S}, \u001b[90mq\u001b[39m::\u001b[1mSpecialFunctions.SimplePoly\u001b[22m\u001b[0m{T}) where {S, T}\n",
       "\u001b[90m     @\u001b[39m \u001b[33mSpecialFunctions\u001b[39m \u001b[90m~/.julia/packages/SpecialFunctions/mf0qH/src/\u001b[39m\u001b[90m\u001b[4mexpint.jl:22\u001b[24m\u001b[39m\n",
       " [222] *(\u001b[90mp\u001b[39m::\u001b[1mSpecialFunctions.SimplePoly\u001b[22m, \u001b[90mc\u001b[39m)\n",
       "\u001b[90m     @\u001b[39m \u001b[33mSpecialFunctions\u001b[39m \u001b[90m~/.julia/packages/SpecialFunctions/mf0qH/src/\u001b[39m\u001b[90m\u001b[4mexpint.jl:8\u001b[24m\u001b[39m\n",
       " [223] *(\u001b[90mc\u001b[39m, \u001b[90mp\u001b[39m::\u001b[1mSpecialFunctions.SimplePoly\u001b[22m)\n",
       "\u001b[90m     @\u001b[39m \u001b[33mSpecialFunctions\u001b[39m \u001b[90m~/.julia/packages/SpecialFunctions/mf0qH/src/\u001b[39m\u001b[90m\u001b[4mexpint.jl:9\u001b[24m\u001b[39m\n",
       " [224] *(\u001b[90ma\u001b[39m::\u001b[1mNTuple\u001b[22m\u001b[0m{N, Measures.Measure} where N, \u001b[90mb\u001b[39m::\u001b[1mNumber\u001b[22m)\n",
       "\u001b[90m     @\u001b[39m \u001b[32mMeasures\u001b[39m \u001b[90m~/.julia/packages/Measures/PKOxJ/src/\u001b[39m\u001b[90m\u001b[4mpoint.jl:18\u001b[24m\u001b[39m\n",
       " [225] *(\u001b[90mA\u001b[39m::\u001b[1mSparseArrays.CHOLMOD.Sparse\u001b[22m, \u001b[90mB\u001b[39m::\u001b[1mSparseArrays.CHOLMOD.Sparse\u001b[22m)\n",
       "\u001b[90m     @\u001b[39m \u001b[35mSparseArrays.CHOLMOD\u001b[39m \u001b[90m~/.julia/juliaup/julia-1.11.5+0.aarch64.apple.darwin14/share/julia/stdlib/v1.11/SparseArrays/src/solvers/\u001b[39m\u001b[90m\u001b[4mcholmod.jl:1378\u001b[24m\u001b[39m\n",
       " [226] *(\u001b[90mA\u001b[39m::\u001b[1mSparseArrays.CHOLMOD.Sparse\u001b[22m, \u001b[90mB\u001b[39m::\u001b[1mSparseArrays.CHOLMOD.Dense\u001b[22m)\n",
       "\u001b[90m     @\u001b[39m \u001b[35mSparseArrays.CHOLMOD\u001b[39m \u001b[90m~/.julia/juliaup/julia-1.11.5+0.aarch64.apple.darwin14/share/julia/stdlib/v1.11/SparseArrays/src/solvers/\u001b[39m\u001b[90m\u001b[4mcholmod.jl:1379\u001b[24m\u001b[39m\n",
       " [227] *(\u001b[90mA\u001b[39m::\u001b[1mSparseArrays.CHOLMOD.Sparse\u001b[22m, \u001b[90mB\u001b[39m::\u001b[1mVecOrMat\u001b[22m)\n",
       "\u001b[90m     @\u001b[39m \u001b[35mSparseArrays.CHOLMOD\u001b[39m \u001b[90m~/.julia/juliaup/julia-1.11.5+0.aarch64.apple.darwin14/share/julia/stdlib/v1.11/SparseArrays/src/solvers/\u001b[39m\u001b[90m\u001b[4mcholmod.jl:1382\u001b[24m\u001b[39m\n",
       " [228] *(\u001b[90mA\u001b[39m::\u001b[1mSparseArrays.CHOLMOD.Sparse\u001b[22m\u001b[0m{Tv, Ti}, \u001b[90madjB\u001b[39m::\u001b[1mLinearAlgebra.Adjoint\u001b[22m\u001b[0m{Tv, SparseArrays.CHOLMOD.Sparse{Tv, Ti}}) where {Tv<:Union{Float32, Float64}, Ti}\n",
       "\u001b[90m     @\u001b[39m \u001b[35mSparseArrays.CHOLMOD\u001b[39m \u001b[90m~/.julia/juliaup/julia-1.11.5+0.aarch64.apple.darwin14/share/julia/stdlib/v1.11/SparseArrays/src/solvers/\u001b[39m\u001b[90m\u001b[4mcholmod.jl:1384\u001b[24m\u001b[39m\n",
       " [229] *(\u001b[90mA\u001b[39m::\u001b[1mSparseArrays.SparseMatrixCSC\u001b[22m, \u001b[90mQ\u001b[39m::\u001b[1mSparseArrays.SPQR.QRSparseQ\u001b[22m)\n",
       "\u001b[90m     @\u001b[39m \u001b[35mSparseArrays.SPQR\u001b[39m \u001b[90m~/.julia/juliaup/julia-1.11.5+0.aarch64.apple.darwin14/share/julia/stdlib/v1.11/SparseArrays/src/solvers/\u001b[39m\u001b[90m\u001b[4mspqr.jl:338\u001b[24m\u001b[39m\n",
       " [230] *(\u001b[90mDa\u001b[39m::\u001b[1mLinearAlgebra.Diagonal\u001b[22m, \u001b[90mDb\u001b[39m::\u001b[1mLinearAlgebra.Diagonal\u001b[22m)\n",
       "\u001b[90m     @\u001b[39m \u001b[35mLinearAlgebra\u001b[39m \u001b[90m~/.julia/juliaup/julia-1.11.5+0.aarch64.apple.darwin14/share/julia/stdlib/v1.11/LinearAlgebra/src/\u001b[39m\u001b[90m\u001b[4mdiagonal.jl:288\u001b[24m\u001b[39m\n",
       " [231] *(\u001b[90mDa\u001b[39m::\u001b[1mLinearAlgebra.Diagonal\u001b[22m, \u001b[90mDb\u001b[39m::\u001b[1mLinearAlgebra.Diagonal\u001b[22m, \u001b[90mDc\u001b[39m::\u001b[1mLinearAlgebra.Diagonal\u001b[22m)\n",
       "\u001b[90m     @\u001b[39m \u001b[35mLinearAlgebra\u001b[39m \u001b[90m~/.julia/juliaup/julia-1.11.5+0.aarch64.apple.darwin14/share/julia/stdlib/v1.11/LinearAlgebra/src/\u001b[39m\u001b[90m\u001b[4mdiagonal.jl:445\u001b[24m\u001b[39m\n",
       " [232] *(\u001b[90mD\u001b[39m::\u001b[1mLinearAlgebra.Diagonal\u001b[22m, \u001b[90mx\u001b[39m::\u001b[1mNumber\u001b[22m)\n",
       "\u001b[90m     @\u001b[39m \u001b[35mLinearAlgebra\u001b[39m \u001b[90m~/.julia/juliaup/julia-1.11.5+0.aarch64.apple.darwin14/share/julia/stdlib/v1.11/LinearAlgebra/src/\u001b[39m\u001b[90m\u001b[4mdiagonal.jl:254\u001b[24m\u001b[39m\n",
       " [233] *(\u001b[90mD\u001b[39m::\u001b[1mLinearAlgebra.Diagonal\u001b[22m, \u001b[90mA\u001b[39m::\u001b[1mLinearAlgebra.UnitUpperTriangular\u001b[22m)\n",
       "\u001b[90m     @\u001b[39m \u001b[35mLinearAlgebra\u001b[39m \u001b[90m~/.julia/juliaup/julia-1.11.5+0.aarch64.apple.darwin14/share/julia/stdlib/v1.11/LinearAlgebra/src/\u001b[39m\u001b[90m\u001b[4mdiagonal.jl:611\u001b[24m\u001b[39m\n",
       " [234] *(\u001b[90mA\u001b[39m::\u001b[1mLinearAlgebra.Diagonal\u001b[22m, \u001b[90mB\u001b[39m::\u001b[1mLinearAlgebra.SymTridiagonal\u001b[22m)\n",
       "\u001b[90m     @\u001b[39m \u001b[35mLinearAlgebra\u001b[39m \u001b[90m~/.julia/juliaup/julia-1.11.5+0.aarch64.apple.darwin14/share/julia/stdlib/v1.11/LinearAlgebra/src/\u001b[39m\u001b[90m\u001b[4mbidiag.jl:788\u001b[24m\u001b[39m\n",
       " [235] *(\u001b[90mD\u001b[39m::\u001b[1mLinearAlgebra.Diagonal\u001b[22m, \u001b[90mA\u001b[39m::\u001b[1mLinearAlgebra.UnitLowerTriangular\u001b[22m)\n",
       "\u001b[90m     @\u001b[39m \u001b[35mLinearAlgebra\u001b[39m \u001b[90m~/.julia/juliaup/julia-1.11.5+0.aarch64.apple.darwin14/share/julia/stdlib/v1.11/LinearAlgebra/src/\u001b[39m\u001b[90m\u001b[4mdiagonal.jl:611\u001b[24m\u001b[39m\n",
       " [236] *(\u001b[90mD\u001b[39m::\u001b[1mLinearAlgebra.Diagonal\u001b[22m, \u001b[90mA\u001b[39m::\u001b[1mLinearAlgebra.UpperTriangular\u001b[22m)\n",
       "\u001b[90m     @\u001b[39m \u001b[35mLinearAlgebra\u001b[39m \u001b[90m~/.julia/juliaup/julia-1.11.5+0.aarch64.apple.darwin14/share/julia/stdlib/v1.11/LinearAlgebra/src/\u001b[39m\u001b[90m\u001b[4mdiagonal.jl:610\u001b[24m\u001b[39m\n",
       " [237] *(\u001b[90mx\u001b[39m::\u001b[1mLinearAlgebra.Diagonal\u001b[22m, \u001b[90mH\u001b[39m::\u001b[1mLinearAlgebra.UpperHessenberg\u001b[22m)\n",
       "\u001b[90m     @\u001b[39m \u001b[35mLinearAlgebra\u001b[39m \u001b[90m~/.julia/juliaup/julia-1.11.5+0.aarch64.apple.darwin14/share/julia/stdlib/v1.11/LinearAlgebra/src/\u001b[39m\u001b[90m\u001b[4mhessenberg.jl:129\u001b[24m\u001b[39m\n",
       " [238] *(\u001b[90mD\u001b[39m::\u001b[1mLinearAlgebra.Diagonal\u001b[22m, \u001b[90mV\u001b[39m::\u001b[1mAbstractVector\u001b[22m)\n",
       "\u001b[90m     @\u001b[39m \u001b[35mLinearAlgebra\u001b[39m \u001b[90m~/.julia/juliaup/julia-1.11.5+0.aarch64.apple.darwin14/share/julia/stdlib/v1.11/LinearAlgebra/src/\u001b[39m\u001b[90m\u001b[4mdiagonal.jl:293\u001b[24m\u001b[39m\n",
       " [239] *(\u001b[90mDa\u001b[39m::\u001b[1mLinearAlgebra.Diagonal\u001b[22m, \u001b[90mA\u001b[39m::\u001b[1mAbstractMatrix\u001b[22m, \u001b[90mDb\u001b[39m::\u001b[1mLinearAlgebra.Diagonal\u001b[22m)\n",
       "\u001b[90m     @\u001b[39m \u001b[35mLinearAlgebra\u001b[39m \u001b[90m~/.julia/juliaup/julia-1.11.5+0.aarch64.apple.darwin14/share/julia/stdlib/v1.11/LinearAlgebra/src/\u001b[39m\u001b[90m\u001b[4mdiagonal.jl:439\u001b[24m\u001b[39m\n",
       " [240] *(\u001b[90mD\u001b[39m::\u001b[1mLinearAlgebra.Diagonal\u001b[22m, \u001b[90mA\u001b[39m::\u001b[1mLinearAlgebra.LowerTriangular\u001b[22m)\n",
       "\u001b[90m     @\u001b[39m \u001b[35mLinearAlgebra\u001b[39m \u001b[90m~/.julia/juliaup/julia-1.11.5+0.aarch64.apple.darwin14/share/julia/stdlib/v1.11/LinearAlgebra/src/\u001b[39m\u001b[90m\u001b[4mdiagonal.jl:610\u001b[24m\u001b[39m\n",
       " [241] *(\u001b[90mD\u001b[39m::\u001b[1mLinearAlgebra.Diagonal\u001b[22m, \u001b[90mA\u001b[39m::\u001b[1mLinearAlgebra.AbstractTriangular\u001b[22m)\n",
       "\u001b[90m     @\u001b[39m \u001b[35mLinearAlgebra\u001b[39m \u001b[90m~/.julia/juliaup/julia-1.11.5+0.aarch64.apple.darwin14/share/julia/stdlib/v1.11/LinearAlgebra/src/\u001b[39m\u001b[90m\u001b[4mdiagonal.jl:958\u001b[24m\u001b[39m\n",
       " [242] *(\u001b[90mcscheme1\u001b[39m::\u001b[1mColorSchemes.ColorScheme\u001b[22m, \u001b[90mcscheme2\u001b[39m::\u001b[1mColorSchemes.ColorScheme\u001b[22m)\n",
       "\u001b[90m     @\u001b[39m \u001b[35mColorSchemes\u001b[39m \u001b[90m~/.julia/packages/ColorSchemes/cpITu/src/\u001b[39m\u001b[90m\u001b[4mColorSchemes.jl:408\u001b[24m\u001b[39m\n",
       " [243] *(\u001b[90mR\u001b[39m::\u001b[1mLinearAlgebra.AbstractRotation\u001b[22m, \u001b[90mA\u001b[39m::\u001b[1mAbstractMatrix\u001b[22m)\n",
       "\u001b[90m     @\u001b[39m \u001b[35mLinearAlgebra\u001b[39m \u001b[90m~/.julia/juliaup/julia-1.11.5+0.aarch64.apple.darwin14/share/julia/stdlib/v1.11/LinearAlgebra/src/\u001b[39m\u001b[90m\u001b[4mgivens.jl:13\u001b[24m\u001b[39m\n",
       " [244] *(\u001b[90mR\u001b[39m::\u001b[1mLinearAlgebra.AbstractRotation\u001b[22m, \u001b[90mA\u001b[39m::\u001b[1mAbstractVector\u001b[22m)\n",
       "\u001b[90m     @\u001b[39m \u001b[35mLinearAlgebra\u001b[39m \u001b[90m~/.julia/juliaup/julia-1.11.5+0.aarch64.apple.darwin14/share/julia/stdlib/v1.11/LinearAlgebra/src/\u001b[39m\u001b[90m\u001b[4mgivens.jl:12\u001b[24m\u001b[39m\n",
       " [245] *(\u001b[90mA\u001b[39m::\u001b[1mLinearAlgebra.Tridiagonal\u001b[22m, \u001b[90mB\u001b[39m::\u001b[1mNumber\u001b[22m)\n",
       "\u001b[90m     @\u001b[39m \u001b[35mLinearAlgebra\u001b[39m \u001b[90m~/.julia/juliaup/julia-1.11.5+0.aarch64.apple.darwin14/share/julia/stdlib/v1.11/LinearAlgebra/src/\u001b[39m\u001b[90m\u001b[4mtridiag.jl:787\u001b[24m\u001b[39m\n",
       " [246] *(\u001b[90mR\u001b[39m::\u001b[1mLinearAlgebra.Rotation\u001b[22m\u001b[0m{S}, \u001b[90mG\u001b[39m::\u001b[1mLinearAlgebra.Givens\u001b[22m\u001b[0m{T}) where {S, T}\n",
       "\u001b[90m     @\u001b[39m \u001b[35mLinearAlgebra\u001b[39m \u001b[90m~/.julia/juliaup/julia-1.11.5+0.aarch64.apple.darwin14/share/julia/stdlib/v1.11/LinearAlgebra/src/\u001b[39m\u001b[90m\u001b[4mgivens.jl:426\u001b[24m\u001b[39m\n",
       " [247] *(\u001b[90mx\u001b[39m::\u001b[1mBase.TwicePrecision\u001b[22m\u001b[0m{T}, \u001b[90my\u001b[39m::\u001b[1mBase.TwicePrecision\u001b[22m\u001b[0m{T}) where T\n",
       "\u001b[90m     @\u001b[39m \u001b[90m\u001b[4mtwiceprecision.jl:317\u001b[24m\u001b[39m\n",
       " [248] *(\u001b[90mx\u001b[39m::\u001b[1mBase.TwicePrecision\u001b[22m, \u001b[90my\u001b[39m::\u001b[1mBase.TwicePrecision\u001b[22m)\n",
       "\u001b[90m     @\u001b[39m \u001b[90m\u001b[4mtwiceprecision.jl:322\u001b[24m\u001b[39m\n",
       " [249] *(\u001b[90mx\u001b[39m::\u001b[1mBase.TwicePrecision\u001b[22m\u001b[0m{<:Union{Float16, Float32, Float64}}, \u001b[90mv\u001b[39m::\u001b[1mInteger\u001b[22m)\n",
       "\u001b[90m     @\u001b[39m \u001b[90m\u001b[4mtwiceprecision.jl:309\u001b[24m\u001b[39m\n",
       " [250] *(\u001b[90mx\u001b[39m::\u001b[1mBase.TwicePrecision\u001b[22m, \u001b[90mv\u001b[39m::\u001b[1mNumber\u001b[22m)\n",
       "\u001b[90m     @\u001b[39m \u001b[90m\u001b[4mtwiceprecision.jl:305\u001b[24m\u001b[39m\n",
       " [251] *(\u001b[90mx\u001b[39m::\u001b[1mReal\u001b[22m, ::\u001b[1mType\u001b[22m\u001b[0m{X}) where X<:FixedPointNumbers.FixedPoint\n",
       "\u001b[90m     @\u001b[39m \u001b[33mFixedPointNumbers\u001b[39m \u001b[90m~/.julia/packages/FixedPointNumbers/Dn4hv/src/\u001b[39m\u001b[90m\u001b[4mFixedPointNumbers.jl:54\u001b[24m\u001b[39m\n",
       " [252] *(\u001b[90mα\u001b[39m::\u001b[1mReal\u001b[22m, \u001b[90ma\u001b[39m::\u001b[1mColorVectorSpace.RGBRGB\u001b[22m)\n",
       "\u001b[90m     @\u001b[39m \u001b[32mColorVectorSpace\u001b[39m \u001b[90m~/.julia/packages/ColorVectorSpace/JXxVe/src/\u001b[39m\u001b[90m\u001b[4mColorVectorSpace.jl:421\u001b[24m\u001b[39m\n",
       " [253] *(\u001b[90my\u001b[39m::\u001b[1mReal\u001b[22m, \u001b[90mx\u001b[39m::\u001b[1mDates.Period\u001b[22m)\n",
       "\u001b[90m     @\u001b[39m \u001b[33mDates\u001b[39m \u001b[90m~/.julia/juliaup/julia-1.11.5+0.aarch64.apple.darwin14/share/julia/stdlib/v1.11/Dates/src/\u001b[39m\u001b[90m\u001b[4mperiods.jl:91\u001b[24m\u001b[39m\n",
       " [254] *(\u001b[90mf\u001b[39m::\u001b[1mReal\u001b[22m, \u001b[90mc\u001b[39m::\u001b[1mUnion\u001b[22m\u001b[0m{TransparentColor{C, T}, C} where {T, C<:Union{AbstractGray{T}, AbstractRGB{T}}})\n",
       "\u001b[90m     @\u001b[39m \u001b[32mColorVectorSpace\u001b[39m \u001b[90m~/.julia/packages/ColorVectorSpace/JXxVe/src/\u001b[39m\u001b[90m\u001b[4mColorVectorSpace.jl:246\u001b[24m\u001b[39m\n",
       " [255] *(\u001b[90mr\u001b[39m::\u001b[1mStepRangeLen\u001b[22m\u001b[0m{<:Real, <:Base.TwicePrecision}, \u001b[90mx\u001b[39m::\u001b[1mReal\u001b[22m)\n",
       "\u001b[90m     @\u001b[39m \u001b[90m\u001b[4mtwiceprecision.jl:534\u001b[24m\u001b[39m\n",
       " [256] *(\u001b[90mindex\u001b[39m::\u001b[1mCartesianIndex\u001b[22m, \u001b[90ma\u001b[39m::\u001b[1mInteger\u001b[22m)\n",
       "\u001b[90m     @\u001b[39m \u001b[90mBase.IteratorsMD\u001b[39m \u001b[90m\u001b[4mmultidimensional.jl:130\u001b[24m\u001b[39m\n",
       " [257] *(\u001b[90mpartials\u001b[39m::\u001b[1mForwardDiff.Partials\u001b[22m\u001b[0m{0, V}, \u001b[90mx\u001b[39m::\u001b[1mReal\u001b[22m) where V\n",
       "\u001b[90m     @\u001b[39m \u001b[36mForwardDiff\u001b[39m \u001b[90m~/.julia/packages/ForwardDiff/Wq9Wb/src/\u001b[39m\u001b[90m\u001b[4mpartials.jl:134\u001b[24m\u001b[39m\n",
       " [258] *(\u001b[90mpartials\u001b[39m::\u001b[1mForwardDiff.Partials\u001b[22m, \u001b[90mx\u001b[39m::\u001b[1mReal\u001b[22m)\n",
       "\u001b[90m     @\u001b[39m \u001b[36mForwardDiff\u001b[39m \u001b[90m~/.julia/packages/ForwardDiff/Wq9Wb/src/\u001b[39m\u001b[90m\u001b[4mpartials.jl:109\u001b[24m\u001b[39m\n",
       " [259] *(\u001b[90mx\u001b[39m::\u001b[1mUnion\u001b[22m\u001b[0m{SparseArrays.AbstractCompressedVector{Tv, Ti}, SubArray{Tv, 1, <:SparseArrays.AbstractSparseMatrixCSC{Tv, Ti}, Tuple{Base.Slice{Base.OneTo{Int64}}, Int64}, false}, SubArray{Tv, 1, <:SparseArrays.AbstractSparseVector{Tv, Ti}, Tuple{Base.Slice{Base.OneTo{Int64}}}, false}} where {Tv, Ti}, \u001b[90ma\u001b[39m::\u001b[1mNumber\u001b[22m)\n",
       "\u001b[90m     @\u001b[39m \u001b[35mSparseArrays\u001b[39m \u001b[90m~/.julia/juliaup/julia-1.11.5+0.aarch64.apple.darwin14/share/julia/stdlib/v1.11/SparseArrays/src/\u001b[39m\u001b[90m\u001b[4msparsevector.jl:1756\u001b[24m\u001b[39m\n",
       " [260] *(\u001b[90mX\u001b[39m::\u001b[1mStridedArray\u001b[22m\u001b[0m{P}, \u001b[90my\u001b[39m::\u001b[1mReal\u001b[22m) where P<:Dates.Period\n",
       "\u001b[90m     @\u001b[39m \u001b[33mDates\u001b[39m \u001b[90m~/.julia/juliaup/julia-1.11.5+0.aarch64.apple.darwin14/share/julia/stdlib/v1.11/Dates/src/\u001b[39m\u001b[90m\u001b[4mdeprecated.jl:44\u001b[24m\u001b[39m\n",
       " [261] *(\u001b[90mA\u001b[39m::\u001b[1mAbstractArray\u001b[22m, \u001b[90mB\u001b[39m::\u001b[1mNumber\u001b[22m)\n",
       "\u001b[90m     @\u001b[39m \u001b[90m\u001b[4marraymath.jl:24\u001b[24m\u001b[39m\n",
       " [262] *(\u001b[90mA\u001b[39m::\u001b[1mAbstractMatrix\u001b[22m, \u001b[90mR\u001b[39m::\u001b[1mLinearAlgebra.AbstractRotation\u001b[22m)\n",
       "\u001b[90m     @\u001b[39m \u001b[35mLinearAlgebra\u001b[39m \u001b[90m~/.julia/juliaup/julia-1.11.5+0.aarch64.apple.darwin14/share/julia/stdlib/v1.11/LinearAlgebra/src/\u001b[39m\u001b[90m\u001b[4mgivens.jl:20\u001b[24m\u001b[39m\n",
       " [263] *(\u001b[90mA\u001b[39m::\u001b[1mAbstractVector\u001b[22m, \u001b[90mR\u001b[39m::\u001b[1mLinearAlgebra.AbstractRotation\u001b[22m)\n",
       "\u001b[90m     @\u001b[39m \u001b[35mLinearAlgebra\u001b[39m \u001b[90m~/.julia/juliaup/julia-1.11.5+0.aarch64.apple.darwin14/share/julia/stdlib/v1.11/LinearAlgebra/src/\u001b[39m\u001b[90m\u001b[4mgivens.jl:19\u001b[24m\u001b[39m\n",
       " [264] *(\u001b[90mv\u001b[39m::\u001b[1mAbstractVector\u001b[22m, \u001b[90mJ\u001b[39m::\u001b[1mLinearAlgebra.UniformScaling\u001b[22m)\n",
       "\u001b[90m     @\u001b[39m \u001b[35mLinearAlgebra\u001b[39m \u001b[90m~/.julia/juliaup/julia-1.11.5+0.aarch64.apple.darwin14/share/julia/stdlib/v1.11/LinearAlgebra/src/\u001b[39m\u001b[90m\u001b[4muniformscaling.jl:261\u001b[24m\u001b[39m\n",
       " [265] *(\u001b[90mA\u001b[39m::\u001b[1mAbstractMatrix\u001b[22m, \u001b[90mJ\u001b[39m::\u001b[1mLinearAlgebra.UniformScaling\u001b[22m)\n",
       "\u001b[90m     @\u001b[39m \u001b[35mLinearAlgebra\u001b[39m \u001b[90m~/.julia/juliaup/julia-1.11.5+0.aarch64.apple.darwin14/share/julia/stdlib/v1.11/LinearAlgebra/src/\u001b[39m\u001b[90m\u001b[4muniformscaling.jl:260\u001b[24m\u001b[39m\n",
       " [266] *(\u001b[90ma\u001b[39m::\u001b[1mAbstractVector\u001b[22m, \u001b[90mtB\u001b[39m::\u001b[1mLinearAlgebra.Transpose\u001b[22m\u001b[0m{T, <:AbstractMatrix} where T)\n",
       "\u001b[90m     @\u001b[39m \u001b[35mLinearAlgebra\u001b[39m \u001b[90m~/.julia/juliaup/julia-1.11.5+0.aarch64.apple.darwin14/share/julia/stdlib/v1.11/LinearAlgebra/src/\u001b[39m\u001b[90m\u001b[4mmatmul.jl:64\u001b[24m\u001b[39m\n",
       " [267] *(\u001b[90mu\u001b[39m::\u001b[1mAbstractVector\u001b[22m, \u001b[90mv\u001b[39m::\u001b[1mUnion\u001b[22m\u001b[0m{LinearAlgebra.Adjoint{T, var\"#s5029\"}, LinearAlgebra.Transpose{T, var\"#s5029\"}} where {T, var\"#s5029\"<:(AbstractVector)})\n",
       "\u001b[90m     @\u001b[39m \u001b[35mLinearAlgebra\u001b[39m \u001b[90m~/.julia/juliaup/julia-1.11.5+0.aarch64.apple.darwin14/share/julia/stdlib/v1.11/LinearAlgebra/src/\u001b[39m\u001b[90m\u001b[4madjtrans.jl:484\u001b[24m\u001b[39m\n",
       " [268] *(\u001b[90ma\u001b[39m::\u001b[1mAbstractVector\u001b[22m, \u001b[90madjB\u001b[39m::\u001b[1mLinearAlgebra.Adjoint\u001b[22m\u001b[0m{T, <:AbstractMatrix} where T)\n",
       "\u001b[90m     @\u001b[39m \u001b[35mLinearAlgebra\u001b[39m \u001b[90m~/.julia/juliaup/julia-1.11.5+0.aarch64.apple.darwin14/share/julia/stdlib/v1.11/LinearAlgebra/src/\u001b[39m\u001b[90m\u001b[4mmatmul.jl:65\u001b[24m\u001b[39m\n",
       " [269] *(\u001b[90mA\u001b[39m::\u001b[1mAbstractArray\u001b[22m, \u001b[90mB\u001b[39m::\u001b[1mDates.Period\u001b[22m)\n",
       "\u001b[90m     @\u001b[39m \u001b[33mDates\u001b[39m \u001b[90m~/.julia/juliaup/julia-1.11.5+0.aarch64.apple.darwin14/share/julia/stdlib/v1.11/Dates/src/\u001b[39m\u001b[90m\u001b[4mperiods.jl:94\u001b[24m\u001b[39m\n",
       " [270] *(\u001b[90mA\u001b[39m::\u001b[1mAbstractMatrix\u001b[22m, \u001b[90mB\u001b[39m::\u001b[1mAbstractMatrix\u001b[22m, \u001b[90mγ\u001b[39m::\u001b[1mNumber\u001b[22m, \u001b[90mδ\u001b[39m::\u001b[1mNumber\u001b[22m)\n",
       "\u001b[90m     @\u001b[39m \u001b[35mLinearAlgebra\u001b[39m \u001b[90m~/.julia/juliaup/julia-1.11.5+0.aarch64.apple.darwin14/share/julia/stdlib/v1.11/LinearAlgebra/src/\u001b[39m\u001b[90m\u001b[4mmatmul.jl:1188\u001b[24m\u001b[39m\n",
       " [271] *(\u001b[90mA\u001b[39m::\u001b[1mAbstractMatrix\u001b[22m, \u001b[90mx\u001b[39m::\u001b[1mAbstractVector\u001b[22m, \u001b[90mγ\u001b[39m::\u001b[1mNumber\u001b[22m, \u001b[90mδ\u001b[39m::\u001b[1mNumber\u001b[22m)\n",
       "\u001b[90m     @\u001b[39m \u001b[35mLinearAlgebra\u001b[39m \u001b[90m~/.julia/juliaup/julia-1.11.5+0.aarch64.apple.darwin14/share/julia/stdlib/v1.11/LinearAlgebra/src/\u001b[39m\u001b[90m\u001b[4mmatmul.jl:1187\u001b[24m\u001b[39m\n",
       " [272] *(\u001b[90mA\u001b[39m::\u001b[1mAbstractMatrix\u001b[22m, \u001b[90mx\u001b[39m::\u001b[1mAbstractVector\u001b[22m, \u001b[90mγ\u001b[39m::\u001b[1mNumber\u001b[22m)\n",
       "\u001b[90m     @\u001b[39m \u001b[35mLinearAlgebra\u001b[39m \u001b[90m~/.julia/juliaup/julia-1.11.5+0.aarch64.apple.darwin14/share/julia/stdlib/v1.11/LinearAlgebra/src/\u001b[39m\u001b[90m\u001b[4mmatmul.jl:1121\u001b[24m\u001b[39m\n",
       " [273] *(\u001b[90mA\u001b[39m::\u001b[1mAbstractMatrix\u001b[22m, \u001b[90mB\u001b[39m::\u001b[1mAbstractMatrix\u001b[22m, \u001b[90mγ\u001b[39m::\u001b[1mNumber\u001b[22m)\n",
       "\u001b[90m     @\u001b[39m \u001b[35mLinearAlgebra\u001b[39m \u001b[90m~/.julia/juliaup/julia-1.11.5+0.aarch64.apple.darwin14/share/julia/stdlib/v1.11/LinearAlgebra/src/\u001b[39m\u001b[90m\u001b[4mmatmul.jl:1122\u001b[24m\u001b[39m\n",
       " [274] *(\u001b[90mvt\u001b[39m::\u001b[1mUnion\u001b[22m\u001b[0m{LinearAlgebra.Adjoint{T, var\"#s5029\"}, LinearAlgebra.Transpose{T, var\"#s5029\"}} where {T, var\"#s5029\"<:(AbstractVector)}, \u001b[90mB\u001b[39m::\u001b[1mAbstractMatrix\u001b[22m, \u001b[90mC\u001b[39m::\u001b[1mAbstractMatrix\u001b[22m, \u001b[90mD\u001b[39m::\u001b[1mAbstractMatrix\u001b[22m)\n",
       "\u001b[90m     @\u001b[39m \u001b[35mLinearAlgebra\u001b[39m \u001b[90m~/.julia/juliaup/julia-1.11.5+0.aarch64.apple.darwin14/share/julia/stdlib/v1.11/LinearAlgebra/src/\u001b[39m\u001b[90m\u001b[4mmatmul.jl:1194\u001b[24m\u001b[39m\n",
       " [275] *(\u001b[90mA\u001b[39m::\u001b[1mAbstractMatrix\u001b[22m, \u001b[90mB\u001b[39m::\u001b[1mAbstractMatrix\u001b[22m, \u001b[90mC\u001b[39m::\u001b[1mAbstractMatrix\u001b[22m, \u001b[90mD\u001b[39m::\u001b[1mAbstractMatrix\u001b[22m)\n",
       "\u001b[90m     @\u001b[39m \u001b[35mLinearAlgebra\u001b[39m \u001b[90m~/.julia/juliaup/julia-1.11.5+0.aarch64.apple.darwin14/share/julia/stdlib/v1.11/LinearAlgebra/src/\u001b[39m\u001b[90m\u001b[4mmatmul.jl:1201\u001b[24m\u001b[39m\n",
       " [276] *(\u001b[90mvt\u001b[39m::\u001b[1mUnion\u001b[22m\u001b[0m{LinearAlgebra.Adjoint{T, var\"#s5029\"}, LinearAlgebra.Transpose{T, var\"#s5029\"}} where {T, var\"#s5029\"<:(AbstractVector)}, \u001b[90mB\u001b[39m::\u001b[1mAbstractMatrix\u001b[22m, \u001b[90mC\u001b[39m::\u001b[1mAbstractMatrix\u001b[22m, \u001b[90mδ\u001b[39m::\u001b[1mNumber\u001b[22m)\n",
       "\u001b[90m     @\u001b[39m \u001b[35mLinearAlgebra\u001b[39m \u001b[90m~/.julia/juliaup/julia-1.11.5+0.aarch64.apple.darwin14/share/julia/stdlib/v1.11/LinearAlgebra/src/\u001b[39m\u001b[90m\u001b[4mmatmul.jl:1191\u001b[24m\u001b[39m\n",
       " [277] *(\u001b[90mA\u001b[39m::\u001b[1mAbstractMatrix\u001b[22m, \u001b[90mB\u001b[39m::\u001b[1mAbstractMatrix\u001b[22m, \u001b[90mC\u001b[39m::\u001b[1mAbstractMatrix\u001b[22m, \u001b[90mδ\u001b[39m::\u001b[1mNumber\u001b[22m)\n",
       "\u001b[90m     @\u001b[39m \u001b[35mLinearAlgebra\u001b[39m \u001b[90m~/.julia/juliaup/julia-1.11.5+0.aarch64.apple.darwin14/share/julia/stdlib/v1.11/LinearAlgebra/src/\u001b[39m\u001b[90m\u001b[4mmatmul.jl:1198\u001b[24m\u001b[39m\n",
       " [278] *(\u001b[90mvt\u001b[39m::\u001b[1mUnion\u001b[22m\u001b[0m{LinearAlgebra.Adjoint{T, var\"#s5029\"}, LinearAlgebra.Transpose{T, var\"#s5029\"}} where {T, var\"#s5029\"<:(AbstractVector)}, \u001b[90mB\u001b[39m::\u001b[1mAbstractMatrix\u001b[22m, \u001b[90mC\u001b[39m::\u001b[1mAbstractMatrix\u001b[22m, \u001b[90mx\u001b[39m::\u001b[1mAbstractVector\u001b[22m)\n",
       "\u001b[90m     @\u001b[39m \u001b[35mLinearAlgebra\u001b[39m \u001b[90m~/.julia/juliaup/julia-1.11.5+0.aarch64.apple.darwin14/share/julia/stdlib/v1.11/LinearAlgebra/src/\u001b[39m\u001b[90m\u001b[4mmatmul.jl:1195\u001b[24m\u001b[39m\n",
       " [279] *(\u001b[90mA\u001b[39m::\u001b[1mAbstractMatrix\u001b[22m, \u001b[90mB\u001b[39m::\u001b[1mAbstractMatrix\u001b[22m, \u001b[90mC\u001b[39m::\u001b[1mAbstractMatrix\u001b[22m, \u001b[90mx\u001b[39m::\u001b[1mAbstractVector\u001b[22m)\n",
       "\u001b[90m     @\u001b[39m \u001b[35mLinearAlgebra\u001b[39m \u001b[90m~/.julia/juliaup/julia-1.11.5+0.aarch64.apple.darwin14/share/julia/stdlib/v1.11/LinearAlgebra/src/\u001b[39m\u001b[90m\u001b[4mmatmul.jl:1193\u001b[24m\u001b[39m\n",
       " [280] *(\u001b[90mvt\u001b[39m::\u001b[1mUnion\u001b[22m\u001b[0m{LinearAlgebra.Adjoint{T, var\"#s5029\"}, LinearAlgebra.Transpose{T, var\"#s5029\"}} where {T, var\"#s5029\"<:(AbstractVector)}, \u001b[90mB\u001b[39m::\u001b[1mAbstractMatrix\u001b[22m, \u001b[90mx\u001b[39m::\u001b[1mAbstractVector\u001b[22m, \u001b[90mδ\u001b[39m::\u001b[1mNumber\u001b[22m)\n",
       "\u001b[90m     @\u001b[39m \u001b[35mLinearAlgebra\u001b[39m \u001b[90m~/.julia/juliaup/julia-1.11.5+0.aarch64.apple.darwin14/share/julia/stdlib/v1.11/LinearAlgebra/src/\u001b[39m\u001b[90m\u001b[4mmatmul.jl:1190\u001b[24m\u001b[39m\n",
       " [281] *(\u001b[90mA\u001b[39m::\u001b[1mAbstractMatrix\u001b[22m, \u001b[90mB\u001b[39m::\u001b[1mAbstractMatrix\u001b[22m, \u001b[90mx\u001b[39m::\u001b[1mAbstractVector\u001b[22m, \u001b[90mδ\u001b[39m::\u001b[1mNumber\u001b[22m)\n",
       "\u001b[90m     @\u001b[39m \u001b[35mLinearAlgebra\u001b[39m \u001b[90m~/.julia/juliaup/julia-1.11.5+0.aarch64.apple.darwin14/share/julia/stdlib/v1.11/LinearAlgebra/src/\u001b[39m\u001b[90m\u001b[4mmatmul.jl:1189\u001b[24m\u001b[39m\n",
       " [282] *(\u001b[90mx\u001b[39m::\u001b[1mLinearAlgebra.Adjoint\u001b[22m\u001b[0m{T, <:AbstractVector} where T, \u001b[90mD\u001b[39m::\u001b[1mLinearAlgebra.Diagonal\u001b[22m, \u001b[90my\u001b[39m::\u001b[1mAbstractVector\u001b[22m)\n",
       "\u001b[90m     @\u001b[39m \u001b[35mLinearAlgebra\u001b[39m \u001b[90m~/.julia/juliaup/julia-1.11.5+0.aarch64.apple.darwin14/share/julia/stdlib/v1.11/LinearAlgebra/src/\u001b[39m\u001b[90m\u001b[4mdiagonal.jl:952\u001b[24m\u001b[39m\n",
       " [283] *(\u001b[90mtu\u001b[39m::\u001b[1mUnion\u001b[22m\u001b[0m{LinearAlgebra.Adjoint{T, var\"#s5029\"}, LinearAlgebra.Transpose{T, var\"#s5029\"}} where {T, var\"#s5029\"<:(AbstractVector)}, \u001b[90mB\u001b[39m::\u001b[1mUnion\u001b[22m\u001b[0m{LinearAlgebra.Adjoint{T, var\"#s5029\"}, LinearAlgebra.Transpose{T, var\"#s5029\"}} where {T, var\"#s5029\"<:(AbstractMatrix)}, \u001b[90mv\u001b[39m::\u001b[1mAbstractVector\u001b[22m)\n",
       "\u001b[90m     @\u001b[39m \u001b[35mLinearAlgebra\u001b[39m \u001b[90m~/.julia/juliaup/julia-1.11.5+0.aarch64.apple.darwin14/share/julia/stdlib/v1.11/LinearAlgebra/src/\u001b[39m\u001b[90m\u001b[4mmatmul.jl:1119\u001b[24m\u001b[39m\n",
       " [284] *(\u001b[90mtu\u001b[39m::\u001b[1mUnion\u001b[22m\u001b[0m{LinearAlgebra.Adjoint{T, var\"#s5029\"}, LinearAlgebra.Transpose{T, var\"#s5029\"}} where {T, var\"#s5029\"<:(AbstractVector)}, \u001b[90mB\u001b[39m::\u001b[1mAbstractMatrix\u001b[22m, \u001b[90mv\u001b[39m::\u001b[1mAbstractVector\u001b[22m)\n",
       "\u001b[90m     @\u001b[39m \u001b[35mLinearAlgebra\u001b[39m \u001b[90m~/.julia/juliaup/julia-1.11.5+0.aarch64.apple.darwin14/share/julia/stdlib/v1.11/LinearAlgebra/src/\u001b[39m\u001b[90m\u001b[4mmatmul.jl:1118\u001b[24m\u001b[39m\n",
       " [285] *(\u001b[90mA\u001b[39m::\u001b[1mAbstractMatrix\u001b[22m, \u001b[90mB\u001b[39m::\u001b[1mAbstractMatrix\u001b[22m, \u001b[90mx\u001b[39m::\u001b[1mAbstractVector\u001b[22m)\n",
       "\u001b[90m     @\u001b[39m \u001b[35mLinearAlgebra\u001b[39m \u001b[90m~/.julia/juliaup/julia-1.11.5+0.aarch64.apple.darwin14/share/julia/stdlib/v1.11/LinearAlgebra/src/\u001b[39m\u001b[90m\u001b[4mmatmul.jl:1116\u001b[24m\u001b[39m\n",
       " [286] *(\u001b[90mtv\u001b[39m::\u001b[1mUnion\u001b[22m\u001b[0m{LinearAlgebra.Adjoint{T, var\"#s5029\"}, LinearAlgebra.Transpose{T, var\"#s5029\"}} where {T, var\"#s5029\"<:(AbstractVector)}, \u001b[90mB\u001b[39m::\u001b[1mAbstractMatrix\u001b[22m, \u001b[90mC\u001b[39m::\u001b[1mAbstractMatrix\u001b[22m)\n",
       "\u001b[90m     @\u001b[39m \u001b[35mLinearAlgebra\u001b[39m \u001b[90m~/.julia/juliaup/julia-1.11.5+0.aarch64.apple.darwin14/share/julia/stdlib/v1.11/LinearAlgebra/src/\u001b[39m\u001b[90m\u001b[4mmatmul.jl:1133\u001b[24m\u001b[39m\n",
       " [287] *(\u001b[90mA\u001b[39m::\u001b[1mAbstractMatrix\u001b[22m, \u001b[90mB\u001b[39m::\u001b[1mAbstractMatrix\u001b[22m, \u001b[90mC\u001b[39m::\u001b[1mAbstractMatrix\u001b[22m)\n",
       "\u001b[90m     @\u001b[39m \u001b[35mLinearAlgebra\u001b[39m \u001b[90m~/.julia/juliaup/julia-1.11.5+0.aarch64.apple.darwin14/share/julia/stdlib/v1.11/LinearAlgebra/src/\u001b[39m\u001b[90m\u001b[4mmatmul.jl:1132\u001b[24m\u001b[39m\n",
       " [288] *(\u001b[90mA\u001b[39m::\u001b[1mUnion\u001b[22m\u001b[0m{SparseArrays.SparseMatrixCSC{var\"#s393\", Ti}, SparseArrays.SparseVector{var\"#s393\", Ti}} where var\"#s393\"<:Union{Float32, Float64}, \u001b[90mB\u001b[39m::\u001b[1mLinearAlgebra.Symmetric\u001b[22m\u001b[0m{<:Union{Float32, Float64}, SparseArrays.SparseMatrixCSC{<:Union{Float32, Float64}, Ti}}) where Ti\n",
       "\u001b[90m     @\u001b[39m \u001b[35mSparseArrays.CHOLMOD\u001b[39m \u001b[90m~/.julia/juliaup/julia-1.11.5+0.aarch64.apple.darwin14/share/julia/stdlib/v1.11/SparseArrays/src/solvers/\u001b[39m\u001b[90m\u001b[4mcholmod.jl:2015\u001b[24m\u001b[39m\n",
       " [289] *(\u001b[90mA\u001b[39m::\u001b[1mUnion\u001b[22m\u001b[0m{SparseArrays.SparseMatrixCSC{var\"#s393\", Ti}, SparseArrays.SparseVector{var\"#s393\", Ti}} where var\"#s393\"<:Union{ComplexF64, ComplexF32}, \u001b[90mB\u001b[39m::\u001b[1mLinearAlgebra.Hermitian\u001b[22m\u001b[0m{<:Union{ComplexF64, ComplexF32}, SparseArrays.SparseMatrixCSC{<:Union{ComplexF64, ComplexF32}, Ti}}) where Ti\n",
       "\u001b[90m     @\u001b[39m \u001b[35mSparseArrays.CHOLMOD\u001b[39m \u001b[90m~/.julia/juliaup/julia-1.11.5+0.aarch64.apple.darwin14/share/julia/stdlib/v1.11/SparseArrays/src/solvers/\u001b[39m\u001b[90m\u001b[4mcholmod.jl:2017\u001b[24m\u001b[39m\n",
       " [290] *(\u001b[90mA\u001b[39m::\u001b[1mUnion\u001b[22m\u001b[0m{SparseArrays.SparseMatrixCSC{var\"#s393\", Ti}, SparseArrays.SparseVector{var\"#s393\", Ti}} where var\"#s393\"<:Union{Float32, Float64}, \u001b[90mB\u001b[39m::\u001b[1mLinearAlgebra.Hermitian\u001b[22m\u001b[0m{<:Union{Float32, Float64}, SparseArrays.SparseMatrixCSC{<:Union{Float32, Float64}, Ti}}) where Ti\n",
       "\u001b[90m     @\u001b[39m \u001b[35mSparseArrays.CHOLMOD\u001b[39m \u001b[90m~/.julia/juliaup/julia-1.11.5+0.aarch64.apple.darwin14/share/julia/stdlib/v1.11/SparseArrays/src/solvers/\u001b[39m\u001b[90m\u001b[4mcholmod.jl:2019\u001b[24m\u001b[39m\n",
       " [291] *(\u001b[90ma\u001b[39m::\u001b[1mAbstractVector\u001b[22m, \u001b[90mB\u001b[39m::\u001b[1mAbstractMatrix\u001b[22m)\n",
       "\u001b[90m     @\u001b[39m \u001b[35mLinearAlgebra\u001b[39m \u001b[90m~/.julia/juliaup/julia-1.11.5+0.aarch64.apple.darwin14/share/julia/stdlib/v1.11/LinearAlgebra/src/\u001b[39m\u001b[90m\u001b[4mmatmul.jl:66\u001b[24m\u001b[39m\n",
       " [292] *(\u001b[90mA\u001b[39m::\u001b[1mUnion\u001b[22m\u001b[0m{SparseArrays.AbstractSparseMatrixCSC{Tv, Ti}, SubArray{Tv, 2, <:SparseArrays.AbstractSparseMatrixCSC{Tv, Ti}, Tuple{Base.Slice{Base.OneTo{Int64}}, I}} where I<:(AbstractUnitRange{<:Integer}), LinearAlgebra.LowerTriangular{Tv, <:Union{SparseArrays.AbstractSparseMatrixCSC{Tv, Ti}, SubArray{Tv, 2, <:SparseArrays.AbstractSparseMatrixCSC{Tv, Ti}, Tuple{Base.Slice{Base.OneTo{Int64}}, I}} where I<:(AbstractUnitRange{<:Integer})}}, LinearAlgebra.UpperTriangular{Tv, <:Union{SparseArrays.AbstractSparseMatrixCSC{Tv, Ti}, SubArray{Tv, 2, <:SparseArrays.AbstractSparseMatrixCSC{Tv, Ti}, Tuple{Base.Slice{Base.OneTo{Int64}}, I}} where I<:(AbstractUnitRange{<:Integer})}}} where {Tv, Ti}, \u001b[90mB\u001b[39m::\u001b[1mSparseArrays.AbstractSparseVector\u001b[22m)\n",
       "\u001b[90m     @\u001b[39m \u001b[35mSparseArrays\u001b[39m \u001b[90m~/.julia/juliaup/julia-1.11.5+0.aarch64.apple.darwin14/share/julia/stdlib/v1.11/SparseArrays/src/\u001b[39m\u001b[90m\u001b[4mlinalg.jl:196\u001b[24m\u001b[39m\n",
       " [293] *(\u001b[90mA\u001b[39m::\u001b[1mUnion\u001b[22m\u001b[0m{LinearAlgebra.LowerTriangular{Ta, S} where S<:AbstractMatrix{Ta}, LinearAlgebra.UnitLowerTriangular{Ta, S} where S<:AbstractMatrix{Ta}, LinearAlgebra.UnitUpperTriangular{Ta, S} where S<:AbstractMatrix{Ta}, LinearAlgebra.UpperTriangular{Ta, S} where S<:AbstractMatrix{Ta}, StridedArray{Ta, 2}}, \u001b[90mx\u001b[39m::\u001b[1mSparseArrays.AbstractSparseVector\u001b[22m\u001b[0m{Tx}) where {Ta, Tx}\n",
       "\u001b[90m     @\u001b[39m \u001b[35mSparseArrays\u001b[39m \u001b[90m~/.julia/juliaup/julia-1.11.5+0.aarch64.apple.darwin14/share/julia/stdlib/v1.11/SparseArrays/src/\u001b[39m\u001b[90m\u001b[4msparsevector.jl:1854\u001b[24m\u001b[39m\n",
       " [294] *(\u001b[90mA\u001b[39m::\u001b[1mUnion\u001b[22m\u001b[0m{LinearAlgebra.Hermitian{var\"#s188\", var\"#s187\"}, LinearAlgebra.Symmetric{var\"#s188\", var\"#s187\"}} where {var\"#s188\", var\"#s187\"<:(StridedMatrix{T} where T)}, \u001b[90mx\u001b[39m::\u001b[1mSparseArrays.AbstractSparseVector\u001b[22m)\n",
       "\u001b[90m     @\u001b[39m \u001b[35mSparseArrays\u001b[39m \u001b[90m~/.julia/juliaup/julia-1.11.5+0.aarch64.apple.darwin14/share/julia/stdlib/v1.11/SparseArrays/src/\u001b[39m\u001b[90m\u001b[4msparsevector.jl:1954\u001b[24m\u001b[39m\n",
       " [295] *(\u001b[90mu\u001b[39m::\u001b[1mUnion\u001b[22m\u001b[0m{LinearAlgebra.Adjoint{T, var\"#s5029\"}, LinearAlgebra.Transpose{T, var\"#s5029\"}} where {T, var\"#s5029\"<:(AbstractVector)}, \u001b[90mv\u001b[39m::\u001b[1mAbstractVector\u001b[22m)\n",
       "\u001b[90m     @\u001b[39m \u001b[35mLinearAlgebra\u001b[39m \u001b[90m~/.julia/juliaup/julia-1.11.5+0.aarch64.apple.darwin14/share/julia/stdlib/v1.11/LinearAlgebra/src/\u001b[39m\u001b[90m\u001b[4madjtrans.jl:480\u001b[24m\u001b[39m\n",
       " [296] *(\u001b[90mA\u001b[39m::\u001b[1mAbstractMatrix\u001b[22m\u001b[0m{T}, \u001b[90mx\u001b[39m::\u001b[1mAbstractVector\u001b[22m\u001b[0m{S}) where {T, S}\n",
       "\u001b[90m     @\u001b[39m \u001b[35mLinearAlgebra\u001b[39m \u001b[90m~/.julia/juliaup/julia-1.11.5+0.aarch64.apple.darwin14/share/julia/stdlib/v1.11/LinearAlgebra/src/\u001b[39m\u001b[90m\u001b[4mmatmul.jl:58\u001b[24m\u001b[39m\n",
       " [297] *(\u001b[90madjA\u001b[39m::\u001b[1mLinearAlgebra.Adjoint\u001b[22m\u001b[0m{<:Any, <:SparseArrays.CHOLMOD.Sparse}, \u001b[90mB\u001b[39m::\u001b[1mSparseArrays.CHOLMOD.Sparse\u001b[22m)\n",
       "\u001b[90m     @\u001b[39m \u001b[35mSparseArrays.CHOLMOD\u001b[39m \u001b[90m~/.julia/juliaup/julia-1.11.5+0.aarch64.apple.darwin14/share/julia/stdlib/v1.11/SparseArrays/src/solvers/\u001b[39m\u001b[90m\u001b[4mcholmod.jl:1405\u001b[24m\u001b[39m\n",
       " [298] *(\u001b[90mx\u001b[39m::\u001b[1mLinearAlgebra.Adjoint\u001b[22m\u001b[0m{T, <:AbstractVector} where T, \u001b[90mA\u001b[39m::\u001b[1mAbstractMatrix\u001b[22m)\n",
       "\u001b[90m     @\u001b[39m \u001b[35mLinearAlgebra\u001b[39m \u001b[90m~/.julia/juliaup/julia-1.11.5+0.aarch64.apple.darwin14/share/julia/stdlib/v1.11/LinearAlgebra/src/\u001b[39m\u001b[90m\u001b[4mmatmul.jl:95\u001b[24m\u001b[39m\n",
       " [299] *(\u001b[90mA\u001b[39m::\u001b[1mUnion\u001b[22m\u001b[0m{LinearAlgebra.LowerTriangular{Tv, <:Union{SparseArrays.AbstractSparseMatrixCSC{Tv, Ti}, SubArray{Tv, 2, <:SparseArrays.AbstractSparseMatrixCSC{Tv, Ti}, Tuple{Base.Slice{Base.OneTo{Int64}}, I}} where I<:(AbstractUnitRange{<:Integer})}}, LinearAlgebra.UpperTriangular{Tv, <:Union{SparseArrays.AbstractSparseMatrixCSC{Tv, Ti}, SubArray{Tv, 2, <:SparseArrays.AbstractSparseMatrixCSC{Tv, Ti}, Tuple{Base.Slice{Base.OneTo{Int64}}, I}} where I<:(AbstractUnitRange{<:Integer})}}} where {Tv, Ti}, \u001b[90mB\u001b[39m::\u001b[1mUnion\u001b[22m\u001b[0m{SparseArrays.AbstractSparseMatrixCSC{Tv, Ti}, SubArray{Tv, 2, <:SparseArrays.AbstractSparseMatrixCSC{Tv, Ti}, Tuple{Base.Slice{Base.OneTo{Int64}}, I}} where I<:(AbstractUnitRange{<:Integer})} where {Tv, Ti})\n",
       "\u001b[90m     @\u001b[39m \u001b[35mSparseArrays\u001b[39m \u001b[90m~/.julia/juliaup/julia-1.11.5+0.aarch64.apple.darwin14/share/julia/stdlib/v1.11/SparseArrays/src/\u001b[39m\u001b[90m\u001b[4mlinalg.jl:200\u001b[24m\u001b[39m\n",
       " [300] *(\u001b[90mA\u001b[39m::\u001b[1mUnion\u001b[22m\u001b[0m{SparseArrays.AbstractSparseMatrixCSC{Tv, Ti}, SubArray{Tv, 2, <:SparseArrays.AbstractSparseMatrixCSC{Tv, Ti}, Tuple{Base.Slice{Base.OneTo{Int64}}, I}} where I<:(AbstractUnitRange{<:Integer})} where {Tv, Ti}, \u001b[90mB\u001b[39m::\u001b[1mUnion\u001b[22m\u001b[0m{LinearAlgebra.LowerTriangular{Tv, <:Union{SparseArrays.AbstractSparseMatrixCSC{Tv, Ti}, SubArray{Tv, 2, <:SparseArrays.AbstractSparseMatrixCSC{Tv, Ti}, Tuple{Base.Slice{Base.OneTo{Int64}}, I}} where I<:(AbstractUnitRange{<:Integer})}}, LinearAlgebra.UpperTriangular{Tv, <:Union{SparseArrays.AbstractSparseMatrixCSC{Tv, Ti}, SubArray{Tv, 2, <:SparseArrays.AbstractSparseMatrixCSC{Tv, Ti}, Tuple{Base.Slice{Base.OneTo{Int64}}, I}} where I<:(AbstractUnitRange{<:Integer})}}} where {Tv, Ti})\n",
       "\u001b[90m     @\u001b[39m \u001b[35mSparseArrays\u001b[39m \u001b[90m~/.julia/juliaup/julia-1.11.5+0.aarch64.apple.darwin14/share/julia/stdlib/v1.11/SparseArrays/src/\u001b[39m\u001b[90m\u001b[4mlinalg.jl:201\u001b[24m\u001b[39m\n",
       " [301] *(\u001b[90mU\u001b[39m::\u001b[1mUnion\u001b[22m\u001b[0m{LinearAlgebra.UnitUpperTriangular{T, S}, LinearAlgebra.UpperTriangular{T, S}} where {T, S}, \u001b[90mH\u001b[39m::\u001b[1mLinearAlgebra.UpperHessenberg\u001b[22m)\n",
       "\u001b[90m     @\u001b[39m \u001b[35mLinearAlgebra\u001b[39m \u001b[90m~/.julia/juliaup/julia-1.11.5+0.aarch64.apple.darwin14/share/julia/stdlib/v1.11/LinearAlgebra/src/\u001b[39m\u001b[90m\u001b[4mhessenberg.jl:139\u001b[24m\u001b[39m\n",
       " [302] *(\u001b[90mA\u001b[39m::\u001b[1mUnion\u001b[22m\u001b[0m{LinearAlgebra.LowerTriangular{T, S}, LinearAlgebra.UnitLowerTriangular{T, S}} where {T, S}, \u001b[90mB\u001b[39m::\u001b[1mLinearAlgebra.Bidiagonal\u001b[22m)\n",
       "\u001b[90m     @\u001b[39m \u001b[35mLinearAlgebra\u001b[39m \u001b[90m~/.julia/juliaup/julia-1.11.5+0.aarch64.apple.darwin14/share/julia/stdlib/v1.11/LinearAlgebra/src/\u001b[39m\u001b[90m\u001b[4mbidiag.jl:770\u001b[24m\u001b[39m\n",
       " [303] *(\u001b[90mA\u001b[39m::\u001b[1mUnion\u001b[22m\u001b[0m{LinearAlgebra.UnitUpperTriangular{T, S}, LinearAlgebra.UpperTriangular{T, S}} where {T, S}, \u001b[90mB\u001b[39m::\u001b[1mLinearAlgebra.Bidiagonal\u001b[22m)\n",
       "\u001b[90m     @\u001b[39m \u001b[35mLinearAlgebra\u001b[39m \u001b[90m~/.julia/juliaup/julia-1.11.5+0.aarch64.apple.darwin14/share/julia/stdlib/v1.11/LinearAlgebra/src/\u001b[39m\u001b[90m\u001b[4mbidiag.jl:764\u001b[24m\u001b[39m\n",
       " [304] *(\u001b[90mA\u001b[39m::\u001b[1mUnion\u001b[22m\u001b[0m{LinearAlgebra.Hermitian{T, S}, LinearAlgebra.Symmetric{T, S}} where {T, S}, \u001b[90mB\u001b[39m::\u001b[1mUnion\u001b[22m\u001b[0m{LinearAlgebra.Hermitian{T, S}, LinearAlgebra.Symmetric{T, S}} where {T, S})\n",
       "\u001b[90m     @\u001b[39m \u001b[35mLinearAlgebra\u001b[39m \u001b[90m~/.julia/juliaup/julia-1.11.5+0.aarch64.apple.darwin14/share/julia/stdlib/v1.11/LinearAlgebra/src/\u001b[39m\u001b[90m\u001b[4msymmetric.jl:548\u001b[24m\u001b[39m\n",
       " [305] *(\u001b[90mA\u001b[39m::\u001b[1mAbstractMatrix\u001b[22m, \u001b[90mB\u001b[39m::\u001b[1mAbstractMatrix\u001b[22m)\n",
       "\u001b[90m     @\u001b[39m \u001b[35mLinearAlgebra\u001b[39m \u001b[90m~/.julia/juliaup/julia-1.11.5+0.aarch64.apple.darwin14/share/julia/stdlib/v1.11/LinearAlgebra/src/\u001b[39m\u001b[90m\u001b[4mmatmul.jl:112\u001b[24m\u001b[39m\n",
       " [306] *(\u001b[90mA\u001b[39m::\u001b[1mAbstractMatrix\u001b[22m, \u001b[90mQ\u001b[39m::\u001b[1mLinearAlgebra.AbstractQ\u001b[22m)\n",
       "\u001b[90m     @\u001b[39m \u001b[35mLinearAlgebra\u001b[39m \u001b[90m~/.julia/juliaup/julia-1.11.5+0.aarch64.apple.darwin14/share/julia/stdlib/v1.11/LinearAlgebra/src/\u001b[39m\u001b[90m\u001b[4mabstractq.jl:201\u001b[24m\u001b[39m\n",
       " [307] *(\u001b[90mA\u001b[39m::\u001b[1mAbstractVector\u001b[22m, \u001b[90mQ\u001b[39m::\u001b[1mLinearAlgebra.AbstractQ\u001b[22m)\n",
       "\u001b[90m     @\u001b[39m \u001b[35mLinearAlgebra\u001b[39m \u001b[90m~/.julia/juliaup/julia-1.11.5+0.aarch64.apple.darwin14/share/julia/stdlib/v1.11/LinearAlgebra/src/\u001b[39m\u001b[90m\u001b[4mabstractq.jl:196\u001b[24m\u001b[39m\n",
       " [308] *(\u001b[90mu\u001b[39m::\u001b[1mAbstractVector\u001b[22m, \u001b[90mtv\u001b[39m::\u001b[1mUnion\u001b[22m\u001b[0m{LinearAlgebra.Adjoint{T, var\"#s5029\"}, LinearAlgebra.Transpose{T, var\"#s5029\"}} where {T, var\"#s5029\"<:(AbstractVector)}, \u001b[90mC\u001b[39m::\u001b[1mAbstractMatrix\u001b[22m)\n",
       "\u001b[90m     @\u001b[39m \u001b[35mLinearAlgebra\u001b[39m \u001b[90m~/.julia/juliaup/julia-1.11.5+0.aarch64.apple.darwin14/share/julia/stdlib/v1.11/LinearAlgebra/src/\u001b[39m\u001b[90m\u001b[4mmatmul.jl:1130\u001b[24m\u001b[39m\n",
       " [309] *(\u001b[90mu\u001b[39m::\u001b[1mAbstractVector\u001b[22m, \u001b[90mtv\u001b[39m::\u001b[1mUnion\u001b[22m\u001b[0m{LinearAlgebra.Adjoint{T, var\"#s5029\"}, LinearAlgebra.Transpose{T, var\"#s5029\"}} where {T, var\"#s5029\"<:(AbstractVector)}, \u001b[90mγ\u001b[39m::\u001b[1mNumber\u001b[22m)\n",
       "\u001b[90m     @\u001b[39m \u001b[35mLinearAlgebra\u001b[39m \u001b[90m~/.julia/juliaup/julia-1.11.5+0.aarch64.apple.darwin14/share/julia/stdlib/v1.11/LinearAlgebra/src/\u001b[39m\u001b[90m\u001b[4mmatmul.jl:1129\u001b[24m\u001b[39m\n",
       " [310] *(\u001b[90mx\u001b[39m::\u001b[1mAbstractMatrix\u001b[22m\u001b[0m{<:Number})\n",
       "\u001b[90m     @\u001b[39m \u001b[90m\u001b[4mabstractarraymath.jl:222\u001b[24m\u001b[39m\n",
       " [311] *(\u001b[90mx\u001b[39m::\u001b[1mForwardDiff.Dual\u001b[22m\u001b[0m{Tx}, \u001b[90my\u001b[39m::\u001b[1mRoundingMode\u001b[22m) where Tx\n",
       "\u001b[90m     @\u001b[39m \u001b[36mForwardDiff\u001b[39m \u001b[90m~/.julia/packages/ForwardDiff/Wq9Wb/src/\u001b[39m\u001b[90m\u001b[4mdual.jl:148\u001b[24m\u001b[39m\n",
       " [312] *(\u001b[90mc\u001b[39m::\u001b[1mUnion\u001b[22m\u001b[0m{TransparentColor{C, T}, C} where {T, C<:Union{AbstractGray{T}, AbstractRGB{T}}}, \u001b[90mf\u001b[39m::\u001b[1mReal\u001b[22m)\n",
       "\u001b[90m     @\u001b[39m \u001b[32mColorVectorSpace\u001b[39m \u001b[90m~/.julia/packages/ColorVectorSpace/JXxVe/src/\u001b[39m\u001b[90m\u001b[4mColorVectorSpace.jl:247\u001b[24m\u001b[39m\n",
       " [313] *(\u001b[90ma\u001b[39m::\u001b[1mUnion\u001b[22m\u001b[0m{LMS, XYZ}, \u001b[90mk\u001b[39m::\u001b[1mNumber\u001b[22m)\n",
       "\u001b[90m     @\u001b[39m \u001b[36mColors\u001b[39m \u001b[90m~/.julia/packages/Colors/itIUE/src/\u001b[39m\u001b[90m\u001b[4malgorithms.jl:8\u001b[24m\u001b[39m\n",
       " [314] *(\u001b[90mα\u001b[39m::\u001b[1mUnion\u001b[22m\u001b[0m{Real, Complex}, \u001b[90mvt\u001b[39m::\u001b[1mUnion\u001b[22m\u001b[0m{LinearAlgebra.Adjoint{var\"#s5029\", var\"#s50291\"}, LinearAlgebra.Transpose{var\"#s5029\", var\"#s50291\"}} where {var\"#s5029\"<:Union{Real, Complex}, var\"#s50291\"<:(AbstractVector)}, \u001b[90mC\u001b[39m::\u001b[1mAbstractMatrix\u001b[22m\u001b[0m{<:Union{Real, Complex}}, \u001b[90mD\u001b[39m::\u001b[1mAbstractMatrix\u001b[22m\u001b[0m{<:Union{Real, Complex}})\n",
       "\u001b[90m     @\u001b[39m \u001b[35mLinearAlgebra\u001b[39m \u001b[90m~/.julia/juliaup/julia-1.11.5+0.aarch64.apple.darwin14/share/julia/stdlib/v1.11/LinearAlgebra/src/\u001b[39m\u001b[90m\u001b[4mmatmul.jl:1184\u001b[24m\u001b[39m\n",
       " [315] *(\u001b[90mα\u001b[39m::\u001b[1mUnion\u001b[22m\u001b[0m{Real, Complex}, \u001b[90mB\u001b[39m::\u001b[1mAbstractMatrix\u001b[22m\u001b[0m{<:Union{Real, Complex}}, \u001b[90mC\u001b[39m::\u001b[1mAbstractMatrix\u001b[22m\u001b[0m{<:Union{Real, Complex}}, \u001b[90mD\u001b[39m::\u001b[1mAbstractMatrix\u001b[22m\u001b[0m{<:Union{Real, Complex}})\n",
       "\u001b[90m     @\u001b[39m \u001b[35mLinearAlgebra\u001b[39m \u001b[90m~/.julia/juliaup/julia-1.11.5+0.aarch64.apple.darwin14/share/julia/stdlib/v1.11/LinearAlgebra/src/\u001b[39m\u001b[90m\u001b[4mmatmul.jl:1199\u001b[24m\u001b[39m\n",
       " [316] *(\u001b[90mα\u001b[39m::\u001b[1mUnion\u001b[22m\u001b[0m{Real, Complex}, \u001b[90mB\u001b[39m::\u001b[1mAbstractMatrix\u001b[22m\u001b[0m{<:Union{Real, Complex}}, \u001b[90mC\u001b[39m::\u001b[1mAbstractMatrix\u001b[22m\u001b[0m{<:Union{Real, Complex}})\n",
       "\u001b[90m     @\u001b[39m \u001b[35mLinearAlgebra\u001b[39m \u001b[90m~/.julia/juliaup/julia-1.11.5+0.aarch64.apple.darwin14/share/julia/stdlib/v1.11/LinearAlgebra/src/\u001b[39m\u001b[90m\u001b[4mmatmul.jl:1125\u001b[24m\u001b[39m\n",
       " [317] *(\u001b[90mα\u001b[39m::\u001b[1mUnion\u001b[22m\u001b[0m{Real, Complex}, \u001b[90mB\u001b[39m::\u001b[1mAbstractMatrix\u001b[22m\u001b[0m{<:Union{Real, Complex}}, \u001b[90mC\u001b[39m::\u001b[1mAbstractVector\u001b[22m\u001b[0m{<:Union{Real, Complex}})\n",
       "\u001b[90m     @\u001b[39m \u001b[35mLinearAlgebra\u001b[39m \u001b[90m~/.julia/juliaup/julia-1.11.5+0.aarch64.apple.darwin14/share/julia/stdlib/v1.11/LinearAlgebra/src/\u001b[39m\u001b[90m\u001b[4mmatmul.jl:1123\u001b[24m\u001b[39m\n",
       " [318] *(\u001b[90md\u001b[39m::\u001b[1mUnion\u001b[22m\u001b[0m{AbstractChar, AbstractString}, \u001b[90mx\u001b[39m::\u001b[1mMissing\u001b[22m)\n",
       "\u001b[90m     @\u001b[39m \u001b[90m\u001b[4mmissing.jl:175\u001b[24m\u001b[39m\n",
       " [319] *(\u001b[90ms1\u001b[39m::\u001b[1mUnion\u001b[22m\u001b[0m{AbstractChar, AbstractString}, \u001b[90mss\u001b[39m::\u001b[1mUnion\u001b[22m\u001b[0m{AbstractChar, AbstractString}\u001b[1m...\u001b[22m)\n",
       "\u001b[90m     @\u001b[39m \u001b[90mstrings/\u001b[39m\u001b[90m\u001b[4mbasic.jl:261\u001b[24m\u001b[39m\n",
       " [320] *(\u001b[90mr1\u001b[39m::\u001b[1mUnion\u001b[22m\u001b[0m{Regex, AbstractChar, AbstractString}, \u001b[90mrs\u001b[39m::\u001b[1mUnion\u001b[22m\u001b[0m{Regex, AbstractChar, AbstractString}\u001b[1m...\u001b[22m)\n",
       "\u001b[90m     @\u001b[39m \u001b[90m\u001b[4mregex.jl:828\u001b[24m\u001b[39m\n",
       " [321] *(\u001b[90ma\u001b[39m, \u001b[90mb\u001b[39m, \u001b[90mc\u001b[39m, \u001b[90mxs...\u001b[39m)\n",
       "\u001b[90m     @\u001b[39m \u001b[90m\u001b[4moperators.jl:596\u001b[24m\u001b[39m"
      ]
     },
     "execution_count": 23,
     "metadata": {},
     "output_type": "execute_result"
    }
   ],
   "source": [
    "methods(*)"
   ]
  },
  {
   "cell_type": "code",
   "execution_count": null,
   "id": "a136d58f-96d8-47a4-82c3-503800f9b6a9",
   "metadata": {},
   "outputs": [],
   "source": []
  }
 ],
 "metadata": {
  "kernelspec": {
   "display_name": "Julia 1.11.5",
   "language": "julia",
   "name": "julia-1.11"
  },
  "language_info": {
   "file_extension": ".jl",
   "mimetype": "application/julia",
   "name": "julia",
   "version": "1.11.5"
  }
 },
 "nbformat": 4,
 "nbformat_minor": 5
}
