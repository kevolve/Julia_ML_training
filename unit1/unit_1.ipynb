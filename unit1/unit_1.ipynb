{
  "cells": [
    {
      "cell_type": "raw",
      "metadata": {},
      "source": [
        "---\n",
        "title: \"Unit 1 - Your first day with the Julia language\"\n",
        "engine: julia\n",
        "---"
      ],
      "id": "30bcaf61"
    },
    {
      "cell_type": "markdown",
      "metadata": {},
      "source": [
        "Welcome to \"your first day\" with the Julia language. Hopefully this unit will also be instructive if this is your second, or third, or 50th day with Julia. Still, we take an approach of zero experience with Julia.\n",
        "\n",
        "We start with installation. We then explore basic Julia code on a simple example. Then after we survey the past and present of Julia we explore all the modes in which you can run Julia. We then move onto the package manager. Every unit has its own **Julia environment** and so does this one. So we explore that environment and more. We then use two simple mathematical stories, square roots, and factorials, as a means to explore some language features and peculiarities. In particular, we wish to explore [Julia types](https://docs.julialang.org/en/v1/manual/types/) and the key property of [Julia multiple dispatch of methods](https://docs.julialang.org/en/v1/manual/methods/). We then close by exploring integration with R and Python.\n",
        "\n",
        "As you work through this unit/day. It is good to keep your work in the `work` folder under `unit1`. Enjoy.\n",
        "\n",
        "# Installation\n",
        "\n",
        "The recommended way to install Julia is using [JuliaUp](https://github.com/JuliaLang/juliaup).\n",
        "This is a small program that maintains multiple isolated Julia versions on your system simultaneously, and also helps update to newer versions as they become available.\n",
        "Do not confuse this with the [package manager](https://docs.julialang.org/en/v1/stdlib/Pkg/), which is used to install packages within Julia.\n",
        "\n",
        "For this course we recommended installing [Visual Studio Code](https://code.visualstudio.com/download), and the [Julia plugin for Visual Studio Code](https://www.julia-vscode.org/).\n",
        "Once you have Julia installed, it's common to add a few packages to your Julia base environment.\n",
        "In our case we install [IJulia.jl](https://github.com/JuliaLang/IJulia.jl) for running Julia within [Jupyter](https://jupyter.org/),\n",
        "[Pluto.jl](https://github.com/fonsp/Pluto.jl) to try out [Pluto notebooks](https://plutojl.org/), [QuartoNotebookRunner.jl](https://github.com/PumasAI/QuartoNotebookRunner.jl) which integrates with [Quarto](https://quarto.org/) to create or update typeset notes like the ones you are currently reading,\n",
        "and [Revise.jl](https://github.com/timholy/Revise.jl) which helps with development.\n",
        "\n",
        "Finally, you may also want to clone this repo and instantiate a separate Julia environment for each unit of the course (we'll walk you through those steps soon).\n",
        "\n",
        "In summary to install Julia and the supporting software, follow these steps.\n",
        "\n",
        "1. Install Julia (and JuliaUp). Follow the instructions in the [Official Julia installation page](https://julialang.org/install/). You'll run a shell script (Mac/Linux) or use the Microsoft store on Windows. Once installed, restart your terminal, after which `juliaup` and `julia` should be available in your terminal. Then try,\n",
        "    a. In the terminal run `juliaup` and you should see a short help listing.\n",
        "    b. In the terminal try `julia` in the command line and you should enter the Julia REPL (Read-Evaluate-Print Loop). You should see a prompt, `julia> ` and try `1+1` and hit ENTER. To exit, hit Ctrl+D, or run the function `exit()`.\n",
        "2. Install [Visual Studio Code](https://code.visualstudio.com/download) if you don't already have it installed.\n",
        "3. Install the [Julia plugin for Visual Studio Code](https://www.julia-vscode.org/). See instructions [here](https://www.julia-vscode.org/docs/dev/gettingstarted/#Installing-the-Julia-extension).\n",
        "4. Install the above mentioned Julia packages into your base environment. You can do this for each of the packages using the package manager as follows.\n",
        "    a. Run `julia` and enter package manager mode by hitting `]`. You should see the prompt change to `(@vX.X) pkg>` where X.X is the julia version you have installed.\n",
        "    b. Type `update` and ENTER to update the list of available packages from the registry.\n",
        "    c. Type `add IJulia` and ENTER to install IJulia.jl. \n",
        "    d. Similarly `add Pluto` to install Pluto.jl. \n",
        "    e. Similarly `add QuartoNotebookRunner` to install QuartoNotebookRunner.jl. In each case you can use TAB to autocomplete (or hit TAB twice to see all available options).\n",
        "    f. Finally `add Revise`.\n",
        "\n",
        "Note that this course was created with Julia version 1.11.5.\n",
        "You can see the version of Julia that you are running when you first run Julia, or by running `versioninfo()` in the Julia REPL.\n",
        "\n",
        "# First steps: Finding the max (loops, functions, variables, plotting)\n",
        "\n",
        "Let's dive directly into some code. Here you can see:\n",
        "\n",
        "* Using a Julia package with the `using` keyword. In this case, we use the `Random` package: one of the standard library packages (that come with Julia).\n",
        "* Creation of a function, with the `function` keyword, and returning a result with the `return` keyword.\n",
        "* A `for` loop.\n",
        "* A conditional (`if`) statement.\n",
        "* A few more core language features. \n"
      ],
      "id": "4642cbc5"
    },
    {
      "cell_type": "code",
      "metadata": {},
      "source": [
        "using Random\n",
        "\n",
        "function find_max(data)\n",
        "    max_value = -Inf\n",
        "    for x ∈ data # You can type ∈ by typing \\in + [TAB]. Could have just used `in` as well\n",
        "        if x > max_value\n",
        "            max_value = x\n",
        "        end\n",
        "    end\n",
        "    return max_value\n",
        "end\n",
        "\n",
        "# by convention, an exclamation mark (!) means that the function mutates objects in-place, in this case, `seed!` mutates the state of the random number generator\n",
        "Random.seed!(0)\n",
        "data = rand(100)\n",
        "max_value = find_max(data)\n",
        "println(\"Found maximal value: $(max_value)\")"
      ],
      "id": "34374a97",
      "execution_count": null,
      "outputs": []
    },
    {
      "cell_type": "markdown",
      "metadata": {},
      "source": [
        "You of course don't need to implement such elementary functions, since most are supplied with the language, for example:\n"
      ],
      "id": "78bde5a8"
    },
    {
      "cell_type": "code",
      "metadata": {},
      "source": [
        "maximum(data)"
      ],
      "id": "7810b99f",
      "execution_count": null,
      "outputs": []
    },
    {
      "cell_type": "markdown",
      "metadata": {},
      "source": [
        "You can get help for a function by typing `? maximum` in the REPL or in Jupyter. \n",
        "\n",
        "Related built-in functions that may be of interest are `findmax`, `argmax`, and `max`. Similarly there are counterparts for `min` in place of max (`minimum`, `findmin`, `argmin`, and `min`). There is also `minmax`, and `extrema`. Look at the help for some of these functions and try some of the examples.  \n",
        "\n",
        "Here is the [control flow section](https://docs.julialang.org/en/v1/manual/control-flow/) in the Julia docs. And just as an example here are the docs for [`maximum`](https://docs.julialang.org/en/v1/base/collections/#Base.maximum).\n",
        "\n",
        "## Some fun probability\n",
        "\n",
        "Let's see how many times we get a new record while scanning for the maximum.\n"
      ],
      "id": "43c7e3a3"
    },
    {
      "cell_type": "code",
      "metadata": {},
      "source": [
        "function find_max(data)\n",
        "    max_value = -Inf\n",
        "    n = 0\n",
        "    for x in data\n",
        "        if x > max_value\n",
        "            n += 1\n",
        "            max_value = x\n",
        "        end\n",
        "    end\n",
        "    return max_value, n # Returns a tuple\n",
        "end\n",
        "\n",
        "max_value, n = find_max(data)\n",
        "println(\"Found maximal value: $(max_value)\")\n",
        "println(\"There were $n records along the way.\")"
      ],
      "id": "b330fdb1",
      "execution_count": null,
      "outputs": []
    },
    {
      "cell_type": "markdown",
      "metadata": {},
      "source": [
        "**If the data is i.i.d., how many times does this happen (on average)?**\n",
        "\n",
        "Denote the number of records for $n$ data points by $X_n$ then,\n",
        "$$\n",
        "X_n = I_1 + I_2 + \\ldots + I_n\n",
        "$$\n",
        "where,\n",
        "$$\n",
        "I_i =\n",
        "\\begin{cases}\n",
        "1 & \\text{if the}~i~\\text{-th data point is a record}, \\\\\n",
        "0 & \\text{otherwise}.\n",
        "\\end{cases}\n",
        "$$\n",
        "Now,\n",
        "$$\n",
        "{\\mathbb E}[X_n] = {\\mathbb E}[I_1] + {\\mathbb E}[I_2] + \\ldots + {\\mathbb E}[I_n]. \n",
        "$$\n",
        "Observe that ${\\mathbb E}[I_i] = {\\mathbb P}(I_i = 1)$ and for statistically independent and identically distributed data points, the probability that the $i$-th datapoint is the maximum of the first $i$ is,\n",
        "$$\n",
        "{\\mathbb P}(I_i = 1) = \\frac{1}{i},\n",
        "$$\n",
        "Hence,\n",
        "$$\n",
        "{\\mathbb E}[X_n] = h_n = \\sum_{i=1}^n \\frac{1}{i},\n",
        "$$\n",
        "the harmonic sum. It is known that\n",
        "$$\n",
        "h_n = \\log(n) + \\gamma + o(1),\n",
        "$$\n",
        "where $\\gamma$ is the [Euler–Mascheroni constant](https://en.wikipedia.org/wiki/Euler%E2%80%93Mascheroni_constant) and $o(1)$ is a term that vanishes as $n \\to \\infty$. That is \n",
        "$$\n",
        "h_n \\approx \\log(n) + \\gamma.\n",
        "$$\n",
        "\n",
        "## Experimenting\n",
        "\n",
        "Let's see it..."
      ],
      "id": "17344aa6"
    },
    {
      "cell_type": "code",
      "metadata": {},
      "source": [
        "# \\gamma + [TAB]\n",
        "println(\"γ = \",Float64(MathConstants.γ))\n",
        "println()\n",
        "\n",
        "# These are one-line function definitions\n",
        "h(n) = sum(1/i for i in 1:n)\n",
        "approx_h(n) = log(n) + MathConstants.γ\n",
        "\n",
        "for n in 1:10\n",
        "    println(n, \"\\t\", round(h(n), digits = 4), \"\\t\\t\", round(approx_h(n), digits = 4) )\n",
        "end\n"
      ],
      "id": "5a4b78db",
      "execution_count": null,
      "outputs": []
    },
    {
      "cell_type": "markdown",
      "metadata": {},
      "source": [
        "Let's plot the error of the approximation as $n$ grows.\n"
      ],
      "id": "de8abc61"
    },
    {
      "cell_type": "code",
      "metadata": {},
      "source": [
        "using Plots\n",
        "err = [h(n) - approx_h(n) for n in 1:20] # This is a comprehension\n",
        "scatter(1:20, err, xticks=1:20, \n",
        "        xlabel=\"n\", ylabel = \"Error\", ylim = (0,0.5), legend=false)"
      ],
      "id": "5b32134d",
      "execution_count": null,
      "outputs": []
    },
    {
      "cell_type": "markdown",
      "metadata": {},
      "source": [
        "Let's verify via a Monte Carlo simulation and also estimate the distribution:\n"
      ],
      "id": "b5913a42"
    },
    {
      "cell_type": "code",
      "metadata": {},
      "source": [
        "using Statistics\n",
        "\n",
        "records = []\n",
        "\n",
        "data_n = 10^2\n",
        "num_sims = 10^5\n",
        "\n",
        "for s in 1:num_sims\n",
        "    Random.seed!(s)\n",
        "    data = rand(data_n)\n",
        "    _, n = find_max(data)\n",
        "    push!(records,n)\n",
        "end\n",
        "\n",
        "approx_value = approx_h(data_n)\n",
        "mc_value = mean(records)\n",
        "\n",
        "println(\"log($data_n) + γ =  $(approx_value), Monte Carlo Estimate: $(mc_value)\")\n",
        "\n",
        "histogram(records, xticks = 1:maximum(records), nbins = maximum(records), \n",
        "                normed=true, xlabel=\"Num Records\", ylabel=\"Probability\", legend=false)"
      ],
      "id": "93726f8f",
      "execution_count": null,
      "outputs": []
    },
    {
      "cell_type": "markdown",
      "metadata": {},
      "source": [
        "# About Julia\n",
        "\n",
        "- **Origins and History**\n",
        "  - [Julia](https://en.wikipedia.org/wiki/Julia_(programming_language)) was conceived in 2009 by Jeff Bezanson, Stefan Karpinski, Viral B. Shah, and Alan Edelman and first publicly released in 2012.\n",
        "  - Born out of a dissatisfaction with existing technical computing languages for scientific and numerical computing.\n",
        "  - Built with the promise to be “as fast as C, as easy as Python, as flexible as Ruby, and as powerful for statistics as R.”\n",
        "\n",
        "- **Core Ideas**\n",
        "  - Designed for high-performance numerical and scientific computing.\n",
        "  - Combines the ease of use of dynamic languages (like Python or R) with performance close to statically-typed, compiled languages (like C and Fortran).\n",
        "  - Uses Just-In-Time (JIT) compilation via LLVM, meaning code is compiled to efficient machine code at runtime.\n",
        "\n",
        "- **Key Benefits**\n",
        "  - **Speed:** Approaches or matches C/Fortran in performance for many tasks. (Sometimes non-optimized generic Julia code compiles to be faster than non-optimized C code.)\n",
        "  - **Multiple Dispatch:** Allows defining function behavior across combinations of argument types, enabling more expressive and extensible code.\n",
        "  - **Rich Ecosystem:** Growing collection of packages for data science, machine learning, optimization, and visualization.\n",
        "  - **Easy Syntax:** Friendly to users familiar with Python, MATLAB, or R.\n",
        "  - **Metaprogramming:** Powerful features like macros for generating and transforming code.\n",
        "  - **Native Parallelism:** Designed with parallel and distributed computing in mind from the start.\n",
        "  - **Interoperability:** Easily calls C, Fortran, and Python libraries for integrating with existing codebases.\n",
        "\n",
        "## Key Julia \"Communities\"\n",
        "\n",
        "**Where to get help**\n",
        "\n",
        "* [The Julia Language Slack](https://julialang.org/slack/)\n",
        "* [Julia Discourse](https://discourse.julialang.org/)\n",
        "\n",
        "**Special Domains (a few examples):**\n",
        "\n",
        "* Operations Research: [JUMP](https://jump.dev/)\n",
        "* Scientific Machine Learning: [SciML](https://sciml.ai/)\n",
        "* Statistics: [Julia Statistics](https://github.com/JuliaStats)\n",
        "* Machine Learning: [Julia ML](https://juliaml.github.io/), [JuliaAI](https://github.com/JuliaAI)\n",
        "* Climate modelling: [CliMA](https://clima.caltech.edu/)\n",
        "* GPUs: [JuliaGPU](https://juliagpu.org/)\n",
        "\n",
        "**Some example Companies that rely on Julia:**\n",
        "\n",
        "* JuliaHub (used to be \"Julia Computing\"): [juliahub.com](https://juliahub.com/)\n",
        "* PumasAI: [pumas.ai](https://pumas.ai/)\n",
        "* Fugro Roames: [case study](https://juliahub.com/industries/case-studies/fugro-roames-ml)\n",
        "* More in Brisbane Australia: [Elara AI](https://elaraai.com/), [PlotLogic](https://www.plotlogic.com/)\n",
        "\n",
        "# Where to run Julia\n",
        "\n",
        "In this course we will probably use [Jupyter notebooks](https://jupyter.org/) because we like them. We'll commit any meaningful computations that we carry out to the [course repo](https://github.com/open-AIMS/Julia_ML_training). Many in the Julia community prefer [Pluto.jl](https://plutojl.org/), and certainly use VS-code (as we do to). Here is a list of key ways to run Julia:\n",
        "\n",
        "## Shell\n",
        "\n",
        "```sh\n",
        "$ echo 'println(\"Hello world!\")' > temp.jl\n",
        "$ julia temp.jl\n",
        "Hello world\n",
        "```\n",
        "\n",
        "Or just\n",
        "\n",
        "```sh\n",
        "$ echo 'println(\"Hello world!\")' | julia\n",
        "Hello world\n",
        "```\n",
        "\n",
        "Try `julia --help` to see options. \n",
        "\n",
        "## The REPL (Read-Evaluate-Print Loop)\n",
        "\n",
        "```\n",
        "shell> julia\n",
        "               _\n",
        "   _       _ _(_)_     |  Documentation: https://docs.julialang.org\n",
        "  (_)     | (_) (_)    |\n",
        "   _ _   _| |_  __ _   |  Type \"?\" for help, \"]?\" for Pkg help.\n",
        "  | | | | | | |/ _` |  |\n",
        "  | | |_| | | | (_| |  |  Version 1.11.5 (2025-04-14)\n",
        " _/ |\\__'_|_|_|\\__'_|  |  Official https://julialang.org/ release\n",
        "|__/                   |\n",
        "\n",
        "julia> \n",
        "```\n",
        "\n",
        "At the prompt:\n",
        "\n",
        "* Hitting `]` changes to package manager mode. \n",
        "* Hitting `;` changes to shell mode.\n",
        "* Hitting `?` changes to help mode.\n",
        "* Hitting `BACKSPACE` changes back to `julia>` mode.\n",
        "\n",
        "Useful function for running code: `include`. Try: `include(\"temp.jl\")`. Related are the `using` and `import` keywords.\n",
        "\n",
        "Here are the [docs](https://docs.julialang.org/en/v1/stdlib/REPL/) for the REPL. Here is a [3 hr Workshop Video](https://www.youtube.com/watch?v=bHLXEUt5KLc) about the Julia REPL (probably a bit longer than most people are willing to spend). The REPL is also configurable and a popular package for \"improving\" it is [OhMyREPL.jl](https://github.com/KristofferC/OhMyREPL.jl). There is also a [RemoteREPL.jl](https://github.com/JuliaWeb/RemoteREPL.jl) package for connecting to a remote Julia process!\n",
        "\n",
        "## Visual Studio Code\n",
        "\n",
        "The Julia extension makes VS Code a great Julia IDE (integrated development environment). Not quite R-Studio, but close.\n",
        "\n",
        "- **Syntax highlighting:** Provides rich syntax highlighting for Julia code.\n",
        "- **Code completion:** Offers IntelliSense, code completion, and signature help.\n",
        "- **Integrated REPL:** Launch and interact with a Julia REPL directly in VS Code.\n",
        "- **Debugger support:** Includes a full-featured debugger with breakpoints, stepping, and variable inspection.\n",
        "- **Plot pane:** View plots and figures inline within the VS Code editor.\n",
        "- **Dataframe preview:** View dataframes (tables).\n",
        "- **Workspace view:** Explore variables, data, and modules in your current environment.\n",
        "- **Environment/project integration:** Works seamlessly with Julia’s package and environment management.\n",
        "- **Notebook support:** Compatible with Jupyter notebooks via the VS Code Jupyter extension.\n",
        "- **Hover/documentation:** View function/type docs and use jump-to-definition.\n",
        "- **Actively maintained:** The extension is regularly updated and supported by the Julia community.\n",
        "\n",
        "**Shortcuts:**\n",
        "\n",
        "- **Start Julia REPL:** `Ctrl+Shift+P` → type and select `Julia: Start REPL`\n",
        "- **Execute active file in REPL:** `Ctrl+Shift+P` → type and select `Julia: Execute File in REPL`\n",
        "- **Send code to REPL:** `Shift+Enter`\n",
        "- **Execute cell or selected lines:** `Alt+Enter`\n",
        "- **Go to definition:** `F12`\n",
        "- **Find references:** `Shift+F12`\n",
        "- **Show documentation (hover):** `Ctrl+K Ctrl+I` (or just hover cursor over symbol)\n",
        "- **Run code cell above/below:** `Ctrl+Alt+Up` / `Ctrl+Alt+Down`\n",
        "- **Set breakpoint (in debug mode):** `F9`\n",
        "- **Step over (in debug mode):** `F10`\n",
        "- **Step into (in debug mode):** `F11`\n",
        "- **Continue (in debug mode):** `F5`\n",
        "\n",
        "This [25 minute tutorial YouTube video](https://www.youtube.com/watch?v=IdhnP00Y1Ks) is slightly dated, but still does a great job to showcase what Julia VS-Code can do.\n",
        "\n",
        "## Jupyter\n",
        "\n",
        "Jupyter has become the standard way in the machine learning community of exploring and communicating ideas via code. \n",
        "The 'J' in \"Jupyter\" actually stands for \"Julia\". \n",
        "The Julia community, however, uses Jupyter a bit less (yet the course instructors are certainly avid users).\n",
        "\n",
        "While the Julia REPL and shell scripts are excellent for development and execution, Jupyter notebooks allow you to combine code, output, visualizations, and narrative text in a single document, in a way that makes interactive exploration easy.\n",
        "\n",
        "To run Julia inside Jupyter, you need the `IJulia` package, and can then run\n",
        "\n",
        "```julia\n",
        "using IJulia\n",
        "notebook()\n",
        "```\n",
        "\n",
        "You will be prompted to install Jupyter, after which you can create new notebooks with the Julia kernel.\n",
        "\n",
        "It's common to activate an environment for the current folder when running in Julia, so you will often find the following code in the first cell of a Jupyter notebook.\n",
        "\n",
        "```julia\n",
        "using Pkg; Pkg.activate(@__DIR__)\n",
        "```\n",
        "\n",
        "## Pluto.jl\n",
        "\n",
        "While both Pluto.jl and Jupyter are interactive notebook environments for Julia, Pluto.jl is fundamentally reactive—changing a variable or a cell instantly updates all dependent cells throughout the notebook, ensuring consistency and minimizing hidden state issues. (In contrast, Jupyter notebooks execute cells in the order chosen by the user, which can sometimes lead to hard-to-debug inconsistencies if cells are run out of order.) Pluto notebooks have a more streamlined, Julia-specific design and promote reproducibility by making cell dependencies explicit, whereas Jupyter offers broader language support and a larger ecosystem of extensions but does not provide the same level of reactive interactivity or strict cell dependency mapping as Pluto.jl.\n",
        "\n",
        "There was even a conference! [PlutoCon2021](https://plutojl.org/plutocon2021/).\n",
        "\n",
        "```\n",
        "julia> using Pluto\n",
        "┌ Info: \n",
        "│   Welcome to Pluto v0.20.8 🎈\n",
        "│   Start a notebook server using:\n",
        "│ \n",
        "│ julia> Pluto.run()\n",
        "│ \n",
        "│   Have a look at the FAQ:\n",
        "│   https://github.com/fonsp/Pluto.jl/wiki\n",
        "└ \n",
        "```\n",
        "\n",
        "## Quarto\n",
        "\n",
        "A modern R-markdown style environment. Used to make this course!  Has good Julia integration. See for example the [Pumas Tutorials](https://tutorials.pumas.ai/) that make extensive use of Quarto.\n",
        "\n",
        "A related legacy framework is [Weave.jl](https://github.com/JunoLab/Weave.jl). For example this [UQ Julia Course](https://courses.smp.uq.edu.au/MATH2504/2024/lectures_html/lecture-unit-1.html) used Weave.jl.\n",
        "\n",
        "## JuliaHub\n",
        "\n",
        "[JuliaHub](https://juliahub.com/), formerly called \"Julia Computing\", is the \"Julia company\" led by the creators of the language. The JuliaHub platform is a cloud based platform where you can run Julia and have access to compute power. For example one of the companies that use Julia, [PumasAI](https://pumas.ai/), have their main Pumas platform hosted on JuliaHub. As a private end user you can also get access to JuliaHub and this may be one way to get (paid) GPU access.\n",
        "\n",
        "Here is a [video](https://www.youtube.com/watch?v=XHsRsllpvqU) showcasing JuliaHub. Also here is a [Pumas Onboarding video](https://www.youtube.com/watch?v=ERfhrnKX4mQ) which can serve as an example of what JuliaHub looks like when integrated for a specific application such as Pumas. \n",
        "\n",
        "## Integrations\n",
        "\n",
        "You can also run Julia through Python and R via their language interfaces. We discuss this method later in this Unit. Note also that JuliaHub provides R-Studio.\n",
        "\n",
        "# The Package Manager\n",
        "\n",
        "Like most other modern languages, Julia comes with a powerful package manager, allowing you to install various libraries and modules for different use cases. Here are the [docs](https://pkgdocs.julialang.org/v1/). This [long YouTube tutorial](https://www.youtube.com/watch?v=uiQpwMQZBTA) also focuses on the Package Manager.\n",
        "\n",
        "There are two ways to use the package manager, via the REPL and using the `Pkg` package.\n",
        "\n",
        "**Installing packages via the REPL**: Start the REPL with `julia`, then type `]` at the `julia>` prompt. This will change the prompt to say `(@vX.X) pkg>` where `vX.X` is the Julia version, indicating that you are in *package management mode*. You can now issue package management commands, such as `add`, `activate`, `instantiate`, etc. Tab works for autocomplete. You can try this out with the `status` command.\n",
        "\n",
        "To exit package management mode and return to the Julia prompt, simply press backspace or `Ctrl+C`.\n",
        "\n",
        "**Installing packages with the `Pkg` package**: Using any of the ways of running Julia outlined in the last chapter, you can manage package dependencies with the `Pkg` package. Again, any commands in the REPL are now available on `Pkg`, for example\n"
      ],
      "id": "7b6b489b"
    },
    {
      "cell_type": "code",
      "metadata": {},
      "source": [
        "using Pkg\n",
        "Pkg.status()"
      ],
      "id": "7e0fe3d6",
      "execution_count": null,
      "outputs": []
    },
    {
      "cell_type": "markdown",
      "metadata": {},
      "source": [
        "## Environment/package management in Julia\n",
        "\n",
        "Like is common with modern languages, Julia's package manager is usually used with isolated *environments* that are self-contained sets of dependencies for your projects. Each project or library has its own environment, managed independent of others, which prevents conflicts (e.g. between different projects that might require different versions of the same package). \n",
        "\n",
        "### The Basics\n",
        "\n",
        "* **Adding Packages:** To add a new package to your current environment, you use the `add` command. For example, to add the `Plots` package:\n",
        "\n",
        "```\n",
        "julia> ]\n",
        "(@vX.X) pkg> add Plots\n",
        "```\n",
        "\n",
        "Or, using the `Pkg` module:\n",
        "\n",
        "```julia\n",
        "using Pkg\n",
        "Pkg.add(\"Plots\")\n",
        "```\n",
        "\n",
        "Julia will download the package and its dependencies, and add them to your environment.\n",
        "\n",
        "* **Removing Packages:** To remove a package:\n",
        "\n",
        "```\n",
        "julia> ]\n",
        "(@vX.X) pkg> rm Plots\n",
        "```\n",
        "\n",
        "Or:\n",
        "\n",
        "```julia\n",
        "using Pkg\n",
        "Pkg.rm(\"Plots\")\n",
        "```\n",
        "\n",
        "* **Updating Packages:** To update all packages in your current environment to their latest compatible versions:\n",
        "\n",
        "```\n",
        "julia> ]\n",
        "(@vX.X) pkg> up\n",
        "```\n",
        "\n",
        "Or:\n",
        "\n",
        "```julia\n",
        "using Pkg\n",
        "Pkg.up()\n",
        "```\n",
        "\n",
        "* **Checking Status:** The `status` command (or `Pkg.status()`) shows you which packages are currently in your environment and their versions.\n",
        "\n",
        "### Environments in Detail\n",
        "\n",
        "When you first start Julia, you are in a default \"global\" environment. However, for serious project work, it's highly recommended to create a dedicated environment for each project. This provides several benefits:\n",
        "\n",
        "1.  **Reproducibility:** Ensures that anyone else working on your project (including you) can easily set up the exact same package versions, guaranteeing that the code runs identically.\n",
        "2.  **Isolation:** Prevents package conflicts. Project A might need `PackageX` version 1.0, while Project B needs `PackageX` version 2.0. Environments allow both to coexist on your system without dependency issues.\n",
        "3.  **Tidyness:** Keeps your global environment tidy, only containing packages you frequently use across many projects.\n",
        "\n",
        "### Creating and Activating Environments\n",
        "\n",
        "To create and activate a new environment for a project, navigate to your project directory in the terminal and then launch Julia:\n",
        "\n",
        "```sh\n",
        "cd MyJuliaProject/\n",
        "julia --project=.\n",
        "```\n",
        "\n",
        "The `--project=.` flag tells Julia to look for an environment in the current directory. If one doesn't exist, it will create one. You'll notice your package manager REPL prompt (enter `]` to switch to this mode) will change to reflect the new environment: `(@MyJuliaProject) pkg>`.\n",
        "\n",
        "Alternatively, within the Julia REPL or a script:\n",
        "\n",
        "```julia\n",
        "using Pkg\n",
        "# Activates an environment in the current directory.\n",
        "# If none exists, it initializes a new one.\n",
        "Pkg.activate(\".\")\n",
        "```\n",
        "\n",
        "Note also the Julia functions `pwd()`, `cd()`, `readdir()`, and the macro `@__DIR__`. You can look a the help for these and related filesystem functions [here](https://docs.julialang.org/en/v1/base/file/). Note also that you can change to shell in the REPL and then change directory via `;`.\n",
        "\n",
        "### `Project.toml` and `Manifest.toml`\n",
        "\n",
        "When you `add` packages to an environment, Julia automatically generates and updates two critical files in the root of your project directory:\n",
        "\n",
        "1. **`Project.toml`**: This file lists your *direct* dependencies and their compatible version ranges. It also contains metadata about your project itself, such as its name, unique identified (UUID), and version. It's concise and human-readable, making it easy to see the high-level requirements of your project.\n",
        "\n",
        "Example `Project.toml`:\n",
        "```toml\n",
        "name = \"MyJuliaProject\"\n",
        "uuid = \"...\"\n",
        "version = \"0.1.0\"\n",
        "\n",
        "[deps]\n",
        "Plots = \"...\"\n",
        "DataFrames = \"...\"\n",
        "```\n",
        "\n",
        "2. **`Manifest.toml`**: This file provides a complete, exact, and reproducible list of *all* dependencies (direct and transitive) used in your project, including their precise versions and cryptographic hashes. It's much longer and more detailed than `Project.toml`. This file is crucial for guaranteeing reproducibility. Due to its verbose and detailed structure, this file is rarely used by humans and you should almost never manipulate it by hand.\n",
        "\n",
        "Example `Manifest.toml` (simplified):\n",
        "\n",
        "```toml\n",
        "[[Plots]]\n",
        "uuid = \"...\"\n",
        "version = \"1.38.6\"\n",
        "git-tree-sha1 = \"...\"\n",
        "\n",
        "[[DataFrames]]\n",
        "uuid = \"...\"\n",
        "version = \"1.6.1\"\n",
        "git-tree-sha1 = \"...\"\n",
        "\n",
        "[[Plots.deps]] # Transitive dependency\n",
        "ColorSchemes = \"...\"\n",
        "...\n",
        "```\n",
        "\n",
        "### Applications vs Libraries (advanced)\n",
        "\n",
        "In Julia, package management differs slightly between applications and libraries. In this context, applications are programs intended to be run directly, whereas libraries are reusable collections of routines made to be embedded within applications.\n",
        "\n",
        "Applications will often include exact dependencies and include both `Project.toml` and `Manifest.toml` in version control systems (such as `git`) to guarantee an exact copy of the same dependencies are included on each installation.\n",
        "\n",
        "Libraries on the other hand are made to work within applications, and so must interoperate with a wider set of other libraries. That is, libraries need to be compatible with more than just one exact version of each of its dependencies (otherwise an application using several libraries would quickly fail to resolve dependencies if they depend on different versions of some transitive dependency). Libraries therefore often omit `Manifest.toml` from version control, and instead track compatibility via the `[compat]` section in `Project.toml`. An example can be found in the [`Project.toml` file of `JuMP.jl`](https://github.com/jump-dev/JuMP.jl/blob/master/Project.toml) (JuMP is a Julia library for mathematical optimization).\n",
        "\n",
        "### Instantiating Environments\n",
        "\n",
        "When you receive a Julia project from someone else (e.g. by cloning it from a Git repository), it should include the `Project.toml` and possibly a `Manifest.toml` file. To set up a compatible environment, you activate the project and then `instantiate` it:\n",
        "\n",
        "```bash\n",
        "cd TheirJuliaProject/\n",
        "julia --project=.\n",
        "```\n",
        "\n",
        "Then, within the Julia REPL:\n",
        "\n",
        "```\n",
        "(@TheirJuliaProject) pkg> instantiate\n",
        "```\n",
        "\n",
        "Or, within a script:\n",
        "\n",
        "```julia\n",
        "using Pkg\n",
        "Pkg.activate(\".\")\n",
        "Pkg.instantiate()\n",
        "```\n",
        "\n",
        "This command will download all necessary packages (and their exact versions if specified in `Manifest.toml`), ensuring that your environment is a replica of the original.\n",
        "\n",
        "### Comparison with Python\n",
        "\n",
        "*If you are not familiar with package management in Python, we recommend skipping this section.*\n",
        "\n",
        "In this section, we briefly compare package management in Julia and Python, so that those familiar with the latter can quickly get up and running in Julia.\n",
        "\n",
        "The core correspondence can be summarized as follows:\n",
        "\n",
        "* **Python Virtual Environments = Julia Environments/Projects:** Python uses `venv` or `conda` for creating isolated environments. In Julia, the concept is directly supported by the built-in package manager and is often referred to simply as an \"environment\" or a \"project.\"\n",
        "* **Activating an environment:** In Python `source venv/bin/activate` = running Julia with `julia --project=.` or `Pkg.activate(\".\")`.\n",
        "* **Dependency Files `requirements.txt` = `Project.toml`:** Python projects commonly use `requirements.txt` to list direct dependencies. Julia uses `Project.toml`.\n",
        "* **Dependency Pinning `pip-compile/lockfiles` = `Manifest.toml`:** Python projects sometimes use `pip-tools` or other addons to `pip` to pin dependencies exactly (e.g. with a `requirements.in` vs `requirements.txt`). Julia `Manifest.toml` which is built into the language.\n",
        "* **Installing individual Dependencies `pip install package` = `Pkg.add(\"package\")`:** In Python, one typically installs dependencies with `pip install package`: however note that this does not automatically list it in `requirements.txt`. In contrast, Julia's `Pkg.add(\"package\")` adds it into `Package.toml`\n",
        "* **Installing project dependencies `source venv/bin/activate && pip install -r requirements.txt` = `Pkg.instantiate()`:** both will install dependencies listed in the dependency file (`requirements.txt` in Python, `Project.toml`/`Manifest.toml` in Julia).\n",
        "\n",
        "In essence, Julia's `Project.toml` and `Manifest.toml` combined with `Pkg.instantiate()` provide a more powerful and built-in mechanism for reproducible environments than the standard `venv` and `requirements.txt` workflow in Python, abstracting away some of the manual steps and providing stronger version locking. This reflects the fact that Julia's package managed is a generation or two newer than the one in Python. There have been advances in package management in Python, such as with the `uv` project, but these are nascent compared to the Julia built-in ecosystem.\n",
        "\n",
        "# Story: Computing Square Roots (multiple dispatch, types, LLVM)\n",
        "\n",
        "Let us now go through a \"story\" which happens to be computation of square roots (not too complex). As we explore this story we'll explore various aspects of the language, and surely get sidetracked as well, all with a goal of finding out more about Julia.\n",
        "\n",
        "The `sqrt` function computes square roots. Look at its help entry via `? sqrt`\n"
      ],
      "id": "cfd3404f"
    },
    {
      "cell_type": "code",
      "metadata": {},
      "source": [
        "sqrt(25)"
      ],
      "id": "01f768ef",
      "execution_count": null,
      "outputs": []
    },
    {
      "cell_type": "markdown",
      "metadata": {},
      "source": [
        "We can also use an alias for `sqrt`:\n"
      ],
      "id": "cdf5f8bc"
    },
    {
      "cell_type": "code",
      "metadata": {},
      "source": [
        "#\\sqrt + [TAB]\n",
        "√25"
      ],
      "id": "9f82ecc8",
      "execution_count": null,
      "outputs": []
    },
    {
      "cell_type": "code",
      "metadata": {},
      "source": [
        "x = sqrt(2)\n",
        "@show x, x^2\n",
        "\n",
        "x = sqrt(2f0) #32 bit float (Float32)\n",
        "@show x, x^2"
      ],
      "id": "d5ffb375",
      "execution_count": null,
      "outputs": []
    },
    {
      "cell_type": "markdown",
      "metadata": {},
      "source": [
        "What if we try $\\sqrt{-1}$?\n"
      ],
      "id": "2aae40bd"
    },
    {
      "cell_type": "code",
      "metadata": {},
      "source": [
        "sqrt(-1)"
      ],
      "id": "09df2734",
      "execution_count": null,
      "outputs": []
    },
    {
      "cell_type": "markdown",
      "metadata": {},
      "source": [
        "But if we give a complex type as input:\n"
      ],
      "id": "05d63879"
    },
    {
      "cell_type": "code",
      "metadata": {},
      "source": [
        "sqrt(Complex(-1))"
      ],
      "id": "b9ec5ef7",
      "execution_count": null,
      "outputs": []
    },
    {
      "cell_type": "markdown",
      "metadata": {},
      "source": [
        "In Julia a **function** (such as `sqrt` or its alias `√`) can have **many methods**:\n"
      ],
      "id": "4b1206d0"
    },
    {
      "cell_type": "code",
      "metadata": {},
      "source": [
        "methods(sqrt)"
      ],
      "id": "0aa188a0",
      "execution_count": null,
      "outputs": []
    },
    {
      "cell_type": "code",
      "metadata": {},
      "source": [
        "using InteractiveUtils\n",
        "@which sqrt(2)"
      ],
      "id": "8a3556be",
      "execution_count": null,
      "outputs": []
    },
    {
      "cell_type": "code",
      "metadata": {},
      "source": [
        "@which sqrt(2.0)"
      ],
      "id": "56fa89a5",
      "execution_count": null,
      "outputs": []
    },
    {
      "cell_type": "code",
      "metadata": {},
      "source": [
        "@which sqrt(π*im) #\\pi + [Tab]"
      ],
      "id": "c3205cfb",
      "execution_count": null,
      "outputs": []
    },
    {
      "cell_type": "markdown",
      "metadata": {},
      "source": [
        "What if we wanted to apply square root to several/many elements together? It is common to use the `.` broadcast operator. Here it is in the [docs](https://docs.julialang.org/en/v1/manual/arrays/#Broadcasting).\n"
      ],
      "id": "c2dcbe2c"
    },
    {
      "cell_type": "code",
      "metadata": {},
      "source": [
        "data = [i^2 for i in 0:10]\n",
        "sqrt.(data) # The \".\" broadcating operator"
      ],
      "id": "cd14529d",
      "execution_count": null,
      "outputs": []
    },
    {
      "cell_type": "code",
      "metadata": {},
      "source": [
        "x = 36\n",
        "@show x^0.5"
      ],
      "id": "4054b55a",
      "execution_count": null,
      "outputs": []
    },
    {
      "cell_type": "markdown",
      "metadata": {},
      "source": [
        "In Julia's source code, in [`math.jl`](https://github.com/JuliaLang/julia/blob/7b64cec5385d9099762ad7449c340eaac4fccb41/base/math.jl#L626) you'll find the following in lines 626-629:\n",
        "\n",
        "```\n",
        "@inline function sqrt(x::Union{Float32,Float64})\n",
        "    x < zero(x) && throw_complex_domainerror(:sqrt, x)\n",
        "    sqrt_llvm(x)\n",
        "end\n",
        "```\n"
      ],
      "id": "e4281912"
    },
    {
      "cell_type": "code",
      "metadata": {},
      "source": [
        "@code_lowered sqrt(2.5)"
      ],
      "id": "9d91a2f8",
      "execution_count": null,
      "outputs": []
    },
    {
      "cell_type": "markdown",
      "metadata": {},
      "source": [
        "Here `sqrt_llvm()` compiles to [Low Level Virtual Machine (LLVM)](https://en.wikipedia.org/wiki/LLVM), so while many functions in Julia are actually implemented in Julia, with square roots it is better to let the underlying compiler infrastructure (LLVM) handle square roots because it knows better how to compile it to machine-dependent assembly code; which is very fast. You can inspect this via the macros `@code_llvm` and `@code_native`.  \n",
        "\n",
        "This will generally look the same on different computer types (LLVM is hardware agnostic):\n"
      ],
      "id": "e6f7de7e"
    },
    {
      "cell_type": "code",
      "metadata": {},
      "source": [
        "@code_llvm sqrt(2.5)"
      ],
      "id": "8bacba2b",
      "execution_count": null,
      "outputs": []
    },
    {
      "cell_type": "markdown",
      "metadata": {},
      "source": [
        "This will look different for different computer types (cpus/architectures):\n"
      ],
      "id": "8c4254cf"
    },
    {
      "cell_type": "code",
      "metadata": {},
      "source": [
        "@code_native sqrt(2.5)"
      ],
      "id": "842e9e11",
      "execution_count": null,
      "outputs": []
    },
    {
      "cell_type": "markdown",
      "metadata": {},
      "source": [
        "However, what if we wanted to do square roots via software? For example,\n"
      ],
      "id": "72aae8f3"
    },
    {
      "cell_type": "code",
      "metadata": {},
      "source": [
        "sqrt(big(10)^100)"
      ],
      "id": "368eb54b",
      "execution_count": null,
      "outputs": []
    },
    {
      "cell_type": "markdown",
      "metadata": {},
      "source": [
        "What are (in principle) some [methods to compute square roots](https://en.wikipedia.org/wiki/Methods_of_computing_square_roots)? Let's look at them and implement them.\n",
        "\n",
        "One method is the [Babylonian algorithm](https://en.wikipedia.org/wiki/Methods_of_computing_square_roots#Babylonian_method): Say we are given a positive real number $z$ and want its square root. We start with an initial guess $x_0$. We then apply the recursive step,\n",
        "\n",
        "$$\n",
        "x_{k+1} = \\frac{1}{2}\\Big(x_k+\\frac{z}{x_k}\\Big).\n",
        "$$\n",
        "That is, at each step the next iterate is the arithmetic mean of the previous iterate, $x_k$, and $z/x_k$. The Babylonian algorithm runs this iteration until convergence (note the default initial guess in this implementation is $z/2$):\n"
      ],
      "id": "a8d0a390"
    },
    {
      "cell_type": "code",
      "metadata": {},
      "source": [
        "function bab_sqrt(z ; init_x = z/2, verbose = false, tol = 1e-10)\n",
        "    x = init_x\n",
        "    while true\n",
        "        verbose && println(\"Babylonian iterate: $x\")\n",
        "        next_x = 0.5*(x + z / x)\n",
        "        abs(next_x - x) < tol && break\n",
        "        x = next_x\n",
        "    end\n",
        "    x\n",
        "end\n",
        "\n",
        "bs, s = bab_sqrt(5000;verbose = true), sqrt(5000)\n",
        "println(\"Babylonian:\\t$bs\\nSystem:\\t\\t$s\")"
      ],
      "id": "bb04dc4d",
      "execution_count": null,
      "outputs": []
    },
    {
      "cell_type": "markdown",
      "metadata": {},
      "source": [
        "## Newton's method\n",
        "\n",
        "We can view the ancient Babylonian method as an application of the more general [Newton's method](https://en.wikipedia.org/wiki/Newton%27s_method) for solving equations. Our goal is to solve $x^2 = z$ where $z$ is given and $x$ is desired. That is define $f(x) = x^2 - z$ and we wish to find the solution of $f(x) = 0$. Newton's method iterates,\n",
        "\n",
        "$$\n",
        "x_{k+1} = x_k - \\frac{f(x_k)}{f'(x_k)},\n",
        "$$\n",
        "\n",
        "based on an affine (linear) approximation of $f(\\cdot)$ at the point $x_k$. Here $f'(\\cdot)$ is the derivative, which in our case is $f'(x) = 2x$. So Newton's iterates for finding the square root are,\n",
        "\n",
        "$$\n",
        "x_{k+1} = x_k - \\frac{x_k^2-z}{2 x_k} = \\frac{x_k}{2} + \\frac{z}{2x_k} = \\frac{1}{2}\\Big(x_k+\\frac{z}{x_k}\\Big).\n",
        "$$\n"
      ],
      "id": "ec6fc256"
    },
    {
      "cell_type": "code",
      "metadata": {},
      "source": [
        "function newton(f, x_0::Real, der_f; ε = 10e-5, maxiter = 100) #\\varepsilon\n",
        "    x = x_0\n",
        "    x_prev = x + 2ε\n",
        "    iter = 0\n",
        "    while abs(x-x_prev) ≥ ε #\\ge\n",
        "        x_prev = x\n",
        "        x = x - f(x)/der_f(x)\n",
        "        iter += 1\n",
        "        if iter == maxiter \n",
        "            @info \"Maximal number of iterations reached\"\n",
        "            break\n",
        "        end\n",
        "    end\n",
        "    return x\n",
        "end\n",
        "\n",
        "my_root2 = newton((x)->(x^2 - 2), 3, (x)->2x)\n",
        "@show my_root2\n",
        "@show √2\n",
        "√2 ≈ my_root2  #\\approx"
      ],
      "id": "26dccf2b",
      "execution_count": null,
      "outputs": []
    },
    {
      "cell_type": "markdown",
      "metadata": {},
      "source": [
        "What if we don't (easily) know the derivative?"
      ],
      "id": "e44b7bd6"
    },
    {
      "cell_type": "code",
      "metadata": {},
      "source": [
        "f(x) = sqrt(log(sin(exp(cos((x/5)^2)*log(x/5)+x^7))) + 1)-1/2\n",
        "plot(f,xlim=(0.95,1.05), xlabel = \"x\", ylabel=\"f(x)\", label=false)"
      ],
      "id": "8ec49794",
      "execution_count": null,
      "outputs": []
    },
    {
      "cell_type": "markdown",
      "metadata": {},
      "source": [
        "Let's use automatic differentiation (see for example Section 4.4 [here](https://deeplearningmath.org/)).\n"
      ],
      "id": "501e7337"
    },
    {
      "cell_type": "code",
      "metadata": {},
      "source": [
        "# import the `derivative` function from the `ForwardDiff` package\n",
        "using ForwardDiff: derivative\n",
        "auto_der = derivative(f, 0.95)\n",
        "\n",
        "h_val = 0.0001\n",
        "numer_der = (f(0.95+h_val) - f(0.95-h_val))/(2h_val)\n",
        "auto_der, numer_der"
      ],
      "id": "1e79eae1",
      "execution_count": null,
      "outputs": []
    },
    {
      "cell_type": "code",
      "metadata": {},
      "source": [
        "function newton(f, \n",
        "                x_0::Real, \n",
        "                der_f  = (x)->derivative(f, x); \n",
        "                ε = 10e-8, \n",
        "                maxiter = 100)\n",
        "    x = x_0\n",
        "    x_prev = x + 2ε\n",
        "    iter = 0\n",
        "    while abs(x-x_prev) ≥ ε\n",
        "        x_prev = x\n",
        "        x = x - f(x)/der_f(x)\n",
        "        iter += 1\n",
        "        if iter == maxiter \n",
        "            @info \"Maximal number of iterations reached\"\n",
        "            break\n",
        "        end\n",
        "    end\n",
        "    return x\n",
        "end\n",
        "\n",
        "root_point = newton(f,0.95)\n",
        "println(\"Found root: $root_point\")\n",
        "plot(f,xlim=(0.95,1.05), xlabel = \"x\", ylabel=\"f(x)\", label=false)\n",
        "scatter!([root_point], [0], color=:red, marker=:circle, label=\"Root found\")"
      ],
      "id": "df53ce2f",
      "execution_count": null,
      "outputs": []
    },
    {
      "cell_type": "markdown",
      "metadata": {},
      "source": [
        "## A bit more on numerics\n",
        "\n",
        "We now focus on floating point numbers (we ignore in this section certain minutiae of subnormal numbers, etc). This is the [double-precision floating-point format](https://en.wikipedia.org/wiki/Double-precision_floating-point_format). Before we get into the details, here are some illustrations on how it is represented in memory:\n"
      ],
      "id": "c367ad2d"
    },
    {
      "cell_type": "code",
      "metadata": {},
      "source": [
        "function pretty_print_float(x::Float64)\n",
        "  bits = bitstring(x)\n",
        "  println(\"Sign: \", bits[1])\n",
        "  println(\"Exponent: \", bits[2:12])\n",
        "  println(\"Significand: \", bits[13:64])\n",
        "end\n",
        "\n",
        "x = 15.324\n",
        "@show typeof(x)\n",
        "@show sizeof(x)\n",
        "@show bitstring(x);\n",
        "pretty_print_float(x)\n",
        "\n",
        "ex = exponent(x)\n",
        "sig = significand(x)\n",
        "@show ex, sig\n",
        "@show 2^ex * sig;"
      ],
      "id": "7178810f",
      "execution_count": null,
      "outputs": []
    },
    {
      "cell_type": "markdown",
      "metadata": {},
      "source": [
        "And this is the [single-precision floating-point format](https://en.wikipedia.org/wiki/Single-precision_floating-point_format):\n"
      ],
      "id": "2c46f7ac"
    },
    {
      "cell_type": "code",
      "metadata": {},
      "source": [
        "function pretty_print_float(x::Float32) #Notice this is a second method of pretty_print_float\n",
        "  bits = bitstring(x)\n",
        "  println(\"Sign: \", bits[1])\n",
        "  println(\"Exponent: \", bits[2:9])\n",
        "  println(\"Significand: \", bits[10:32])\n",
        "end\n",
        "\n",
        "x = 15.324f0\n",
        "@show typeof(x)\n",
        "@show sizeof(x)\n",
        "@show bitstring(x);\n",
        "pretty_print_float(x)\n",
        "\n",
        "ex = exponent(x)\n",
        "sig = significand(x)\n",
        "@show ex, sig\n",
        "@show 2^ex * sig;"
      ],
      "id": "b2a8327c",
      "execution_count": null,
      "outputs": []
    },
    {
      "cell_type": "markdown",
      "metadata": {},
      "source": [
        "We would ideally like to represent any number on the real line ${\\mathbb R}$ via a finite number of bits with the computer. However, this is not possible and any numerical representation of a number $x \\in {\\mathbb R}$ is only approximated via a number $\\tilde{x} \\in {\\mathbb F}$ where ${\\mathbb F}$ is the set of  **floating point numbers**. Each such floating point number is represented as,\n",
        "$$\n",
        "\\tilde{x} = \\pm (1+f) 2^e,\n",
        "$$\n",
        "where $e$ is a (signed) integer called the **exponent** and $1+f$ is the **mantissa** (or **significand**). The value $f$ is represented as,\n",
        "$$\n",
        "f = \\sum_{i=1}^d b_i 2^{-i},\n",
        "$$\n",
        "where $b_i \\in \\{0,1\\}$ and $d$ is a fixed positive integer counting the number of bits used for the mantissa.\n",
        "\n",
        "Hence the mantissa, $1+f$, lies in the range $[1,2)$ and is represented in binary form. By multiplying the equation above by $2^{-d}$ we have,\n",
        "$$\n",
        "f = 2^{-d} \\Big(\\sum_{i=1}^d b_i 2^{d-i} \\Big) = 2^{-d} z.\n",
        "$$\n",
        "Hence $z \\in \\{0,1,2,\\ldots,2^d-1\\}$. This means that between $2^e$ and ending just before $2^e-1$ there are exactly $2^d$ evenly spaced numbers in the set ${\\mathbb F}$.\n",
        "\n",
        "Observe now that the smallest element of ${\\mathbb F}$ that is greater than $1$ is $1+2^{-d}$. This motivates defining [machine epsilon](https://en.wikipedia.org/wiki/Machine_epsilon) as $\\varepsilon_{\\text{mach}} = 2^{-d}$.\n",
        "\n",
        "The [IEEE 754 double precision standard](https://en.wikipedia.org/wiki/Double-precision_floating-point_format) has $d=52$ bits and single precision (`Float32`) has $d=23$ bits. Hence with `Float64` variables we have\n",
        "$$\n",
        "\\varepsilon_{\\text{mach}} = 2^{-52} \\approx 2.2 \\times 10^{-16}.\n",
        "$$\n"
      ],
      "id": "33909ddd"
    },
    {
      "cell_type": "code",
      "metadata": {},
      "source": [
        "@show eps() #Default is for Float64\n",
        "@show eps(Float32)\n",
        "@show eps(Float16)"
      ],
      "id": "9920a80c",
      "execution_count": null,
      "outputs": []
    },
    {
      "cell_type": "code",
      "metadata": {},
      "source": [
        "@show 2^(-52)\n",
        "@show 2^(-23)\n",
        "@show 2^(-10);"
      ],
      "id": "4438867f",
      "execution_count": null,
      "outputs": []
    },
    {
      "cell_type": "markdown",
      "metadata": {},
      "source": [
        "We can suppose there is some (mathematical) function $\\text{fl}: {\\mathbb F} \\to {\\mathbb R}$ where $\\text{fl}(x)$ takes a real number $x$ and maps it to the nearest $\\tilde{x}$ in ${\\mathbb F}$. For positive $x$ it lies in the interval $[2^e,2^{e+1})$ where the spacing between the elements is $2^{e-d}$. Hence $|\\tilde{x} - x| \\le \\frac{1}{2} 2^{e-d}$. We can now consider the relative error between $\\tilde{x}$ and $x$:\n",
        "$$\n",
        "\\frac{|\\tilde{x} - x|}{|x|} \\le \\frac{2^{e-d-1}}{2^e} \\le \\frac{1}{2} \\varepsilon_{\\text{mach}}.\n",
        "$$\n",
        "\n",
        "An equivalent statement states that for any $x \\in {\\mathbb R}$ (within the range of the exponent), there is a $\\varepsilon$ where $|\\varepsilon| \\le \\frac{1}{2} \\varepsilon_{\\text{mach}}$ and,\n",
        "$$\n",
        "\\text{fl}(x) = x (1+ \\varepsilon).\n",
        "$$\n",
        "\n",
        "Here is an example that looks at the irrational square roots of $\\{1,2,3,\\ldots,100\\}$ and estimates the $\\varepsilon$ associated with $\\text{fl}(x)$ for each of these square roots. The example does this for `Float32` values and uses `Float64` as an approximation of the absolute truth. The two black bars are at $\\pm \\frac{1}{2} \\varepsilon_{\\text{mach}}$.\n"
      ],
      "id": "6acb7945"
    },
    {
      "cell_type": "code",
      "metadata": {},
      "source": [
        "non_squares = setdiff(1:100,[i^2 for i in 1:100])\n",
        "x̃ = sqrt.(Float32.(non_squares)) #x + \\tilde + [TAB] \n",
        "x = sqrt.(non_squares) #Lets treat 64 bit as infinite precision\n",
        "ϵ = x̃ ./ x .- 1  #\\epsilon + [TAB]\n",
        "scatter(non_squares,ϵ,legend=false,xlabel = \"Attempt\", ylabel=\"Approximation of ϵ\")\n",
        "plot!([(x)->0.5*eps(Float32) (x)->-0.5eps(Float32)],\n",
        "    c=:black,ylim=(-0.7*eps(Float32), 0.7*eps(Float32)))"
      ],
      "id": "fc35014a",
      "execution_count": null,
      "outputs": []
    },
    {
      "cell_type": "markdown",
      "metadata": {},
      "source": [
        "Going back to `Float64` (double precision) we have 52 bits in the mantissa. $11$ bits for the exponent $e$ and a single sign bit. This makes $64$ bits. There are also some special values:\n"
      ],
      "id": "ef7a1cec"
    },
    {
      "cell_type": "code",
      "metadata": {},
      "source": [
        "bitstring(0/0) #NaN"
      ],
      "id": "3f7375d9",
      "execution_count": null,
      "outputs": []
    },
    {
      "cell_type": "code",
      "metadata": {},
      "source": [
        "bitstring(1/0) #Inf"
      ],
      "id": "bbf60421",
      "execution_count": null,
      "outputs": []
    },
    {
      "cell_type": "code",
      "metadata": {},
      "source": [
        "bitstring(-1/0) #-Inf"
      ],
      "id": "da5c6ab8",
      "execution_count": null,
      "outputs": []
    },
    {
      "cell_type": "markdown",
      "metadata": {},
      "source": [
        "# Story: Computing Factorials (special functions, big numbers, more on types)\n",
        "\n",
        "Let's move to another \"story\", this time factorials.\n",
        "\n",
        "A few basic ways to compute $10! = 1\\cdot 2 \\cdot \\ldots \\cdot 10$:\n"
      ],
      "id": "b7040c1f"
    },
    {
      "cell_type": "code",
      "metadata": {},
      "source": [
        "f_a = factorial(10)\n",
        "@show f_a\n",
        "\n",
        "f_b = *(1:10...)\n",
        "@show f_b\n",
        "\n",
        "f_c = last(accumulate(*,1:10))\n",
        "@show f_c\n",
        "\n",
        "f_d = 1\n",
        "for i in 1:10\n",
        "    f_d *= i\n",
        "end\n",
        "@show f_d;\n",
        "\n",
        "f_e = prod(1:10)\n",
        "@show f_e\n",
        "\n",
        "f_g = round(Int, exp(sum(log.(1:10))))\n",
        "@show f_g;"
      ],
      "id": "7198f612",
      "execution_count": null,
      "outputs": []
    },
    {
      "cell_type": "markdown",
      "metadata": {},
      "source": [
        "Observe that,\n",
        "\n",
        "$$\n",
        "n! = \n",
        "\\begin{cases}\n",
        "n \\cdot (n-1)! & n = 1,2,\\ldots\\\\\n",
        "1 & n = 0.\n",
        "\\end{cases}\n",
        "$$\n",
        "\n",
        "This is a recursive definition. Let's implement it:\n"
      ],
      "id": "18ee6dc4"
    },
    {
      "cell_type": "code",
      "metadata": {},
      "source": [
        "function my_factorial(n)\n",
        "    if n == 0\n",
        "        return 1\n",
        "    else\n",
        "        return n * my_factorial(n-1)\n",
        "    end\n",
        "end\n",
        "\n",
        "my_factorial(10)"
      ],
      "id": "9ca5a2a3",
      "execution_count": null,
      "outputs": []
    },
    {
      "cell_type": "markdown",
      "metadata": {},
      "source": [
        "Here is the same `my_factorial()` function (written compactly).\n"
      ],
      "id": "a6c763e6"
    },
    {
      "cell_type": "code",
      "metadata": {},
      "source": [
        "my_factorial(n) = n == 0 ? 1 : n*my_factorial(n-1)\n",
        "\n",
        "my_factorial(10)"
      ],
      "id": "4c2788d7",
      "execution_count": null,
      "outputs": []
    },
    {
      "cell_type": "markdown",
      "metadata": {},
      "source": [
        "Such compact writing does not change what actually happens under the hood. To see this consider both forms:\n"
      ],
      "id": "b4a988ce"
    },
    {
      "cell_type": "code",
      "metadata": {},
      "source": [
        "my_factorial1(n) = n == 0 ? 1 : n*my_factorial1(n-1)\n",
        "\n",
        "function my_factorial2(n)\n",
        "    if n == 0\n",
        "        return 1\n",
        "    else\n",
        "        return n * my_factorial2(n-1)\n",
        "    end\n",
        "end;"
      ],
      "id": "f6b6d5cf",
      "execution_count": null,
      "outputs": []
    },
    {
      "cell_type": "markdown",
      "metadata": {},
      "source": [
        "Let's use Julia's `@code_lowered` macro to see how Julia parses the code into an intermediate representation (before being further compiled to LLVM). In both forms we get the exact same intermediate form.\n"
      ],
      "id": "283db35f"
    },
    {
      "cell_type": "code",
      "metadata": {},
      "source": [
        "@code_lowered my_factorial1(10)"
      ],
      "id": "b4292159",
      "execution_count": null,
      "outputs": []
    },
    {
      "cell_type": "code",
      "metadata": {},
      "source": [
        "@code_lowered my_factorial2(10)"
      ],
      "id": "b967352e",
      "execution_count": null,
      "outputs": []
    },
    {
      "cell_type": "markdown",
      "metadata": {},
      "source": [
        "How large can factorials we compute be? With `BigInt`, created via `big()`, there is sometimes no limit, but if we wanted to stay within the machine word size, we stay with `Int64` (with Julia `Int` is either `Int32` on \"32 bit machines\" or `Int64` on \"64 bit machines\"). But even 32 bit machines support 64 bit integers (by doubling words).\n",
        "\n",
        "Lets first use [Stirling's approximation](https://en.wikipedia.org/wiki/Stirling%27s_approximation) to get an estimate of the largest factorial we can compute with `UInt64`.\n",
        "\n",
        "$$\n",
        "n! \\sim \\sqrt{2 \\pi} \\, n^{n+\\frac{1}{2}} e^{-n}\n",
        "$$\n"
      ],
      "id": "05c4e7ad"
    },
    {
      "cell_type": "code",
      "metadata": {},
      "source": [
        "stirling(n) = (√(2π*n))*(n/MathConstants.e)^n      \n",
        "\n",
        "#An array of named tuples (note that \"n!\" is just a name)\n",
        "[(  n! = factorial(n), \n",
        "    stirling = stirling(n), \n",
        "    ratio = round(factorial(n)/stirling(n),digits = 5)) \n",
        "    for n in 1:10]"
      ],
      "id": "58ff4df9",
      "execution_count": null,
      "outputs": []
    },
    {
      "cell_type": "markdown",
      "metadata": {},
      "source": [
        "Say want $n$ such taht $n!$ is not larger than,\n"
      ],
      "id": "ad8bc862"
    },
    {
      "cell_type": "code",
      "metadata": {},
      "source": [
        "typemax(UInt64), UInt(2)^64-1, float(typemax(UInt64))"
      ],
      "id": "5fc36718",
      "execution_count": null,
      "outputs": []
    },
    {
      "cell_type": "markdown",
      "metadata": {},
      "source": [
        "See also the documentation about [Integers and Floating-Point Numbers](https://docs.julialang.org/en/v1/manual/integers-and-floating-point-numbers/#Integers-and-Floating-Point-Numbers).\n",
        "\n",
        "\n",
        "\n",
        "That is solve \n",
        "$$\n",
        "\\sqrt{2 \\pi} \\, n^{n+\\frac{1}{2}} e^{-n}  = 2^{64}-1.\n",
        "$$\n",
        "\n",
        "We can do a simple search, but let's use the `Roots.jl` package:\n"
      ],
      "id": "3716710b"
    },
    {
      "cell_type": "code",
      "metadata": {},
      "source": [
        "using Roots\n",
        "stirling_sol = find_zero((x)->stirling(x)-typemax(UInt64), (1,64^64.0))\n",
        "max_n = floor(Int, stirling_sol)\n",
        "stirling_sol, max_n"
      ],
      "id": "99f8f6f1",
      "execution_count": null,
      "outputs": []
    },
    {
      "cell_type": "markdown",
      "metadata": {},
      "source": [
        "Now let's see:\n"
      ],
      "id": "b10a97a5"
    },
    {
      "cell_type": "code",
      "metadata": {},
      "source": [
        "factorial(20) #ok"
      ],
      "id": "faee3080",
      "execution_count": null,
      "outputs": []
    },
    {
      "cell_type": "code",
      "metadata": {},
      "source": [
        "factorial(21) #fails"
      ],
      "id": "09eeaa6c",
      "execution_count": null,
      "outputs": []
    },
    {
      "cell_type": "markdown",
      "metadata": {},
      "source": [
        "Indeed $n=21$ doesn't fit within the 64 bit limit.  However as suggested by the error message, using `big()` can help:\n"
      ],
      "id": "b1f6f024"
    },
    {
      "cell_type": "code",
      "metadata": {},
      "source": [
        "typeof(big(21))"
      ],
      "id": "565923ff",
      "execution_count": null,
      "outputs": []
    },
    {
      "cell_type": "code",
      "metadata": {},
      "source": [
        "factorial(big(21))"
      ],
      "id": "56e6394b",
      "execution_count": null,
      "outputs": []
    },
    {
      "cell_type": "markdown",
      "metadata": {},
      "source": [
        "Just a check:\n"
      ],
      "id": "520840a5"
    },
    {
      "cell_type": "code",
      "metadata": {},
      "source": [
        "factorial(big(21))  == 21*factorial(big(20))"
      ],
      "id": "172c80c5",
      "execution_count": null,
      "outputs": []
    },
    {
      "cell_type": "markdown",
      "metadata": {},
      "source": [
        "With (software) big integers everything goes:\n"
      ],
      "id": "d81e0525"
    },
    {
      "cell_type": "code",
      "metadata": {},
      "source": [
        "n = 10^2\n",
        "big_stuff = factorial(big(n));\n",
        "num_digits = Int(ceil(log10(big_stuff))) \n",
        "println(\"The facotrial of $n has $num_digits decimal digits.\") \n",
        "big_number = factorial(big(n))"
      ],
      "id": "56e6d77d",
      "execution_count": null,
      "outputs": []
    },
    {
      "cell_type": "markdown",
      "metadata": {},
      "source": [
        "Some ways to see this:\n"
      ],
      "id": "27631ce8"
    },
    {
      "cell_type": "code",
      "metadata": {},
      "source": [
        "length(digits(big_number)), length(\"$big_number\")"
      ],
      "id": "91f86ac4",
      "execution_count": null,
      "outputs": []
    },
    {
      "cell_type": "markdown",
      "metadata": {},
      "source": [
        "What about factorials of numbers that aren't positive integers?\n"
      ],
      "id": "ed4ed4db"
    },
    {
      "cell_type": "code",
      "metadata": {},
      "source": [
        "factorial(6.5)"
      ],
      "id": "b2bfa69d",
      "execution_count": null,
      "outputs": []
    },
    {
      "cell_type": "markdown",
      "metadata": {},
      "source": [
        "It's not defined. But you may be looking for the [gamma](https://en.wikipedia.org/wiki/Gamma_function) special function:\n",
        "\n",
        "$$\n",
        "\\Gamma(z)=\\int_{0}^{\\infty} x^{z-1} e^{-x} d x.\n",
        "$$\n"
      ],
      "id": "1aea2d29"
    },
    {
      "cell_type": "code",
      "metadata": {},
      "source": [
        "using SpecialFunctions\n",
        "\n",
        "gamma(6.5)"
      ],
      "id": "bc913642",
      "execution_count": null,
      "outputs": []
    },
    {
      "cell_type": "markdown",
      "metadata": {},
      "source": [
        "To feel more confident this value agrees with the integral definition of $\\Gamma(\\cdot)$; let's compute the integral in a very crude manner (see [Riemann sums](https://en.wikipedia.org/wiki/Riemann_sum)):\n"
      ],
      "id": "80c94d23"
    },
    {
      "cell_type": "code",
      "metadata": {},
      "source": [
        "function my_crude_gamma(z; δ = 0.01, M = 50) #\\delta\n",
        "    integrand(x) = x^(z-1)*exp(-x) \n",
        "    x_grid = 0:δ:M\n",
        "    sum(δ*integrand(x) for x in x_grid)\n",
        "end\n",
        "\n",
        "my_crude_gamma(6.5)"
      ],
      "id": "1b0c112c",
      "execution_count": null,
      "outputs": []
    },
    {
      "cell_type": "markdown",
      "metadata": {},
      "source": [
        "Or let's use a numerical integration package.\n"
      ],
      "id": "502e4259"
    },
    {
      "cell_type": "code",
      "metadata": {},
      "source": [
        "using QuadGK\n",
        "\n",
        "#second output of quadgk is the error estimate, so we just take the first\n",
        "my_better_crude_gamma(z) = quadgk(x -> x^(z-1)*exp(-x), 0 , Inf)[1] \n",
        "\n",
        "my_better_crude_gamma(6.5)"
      ],
      "id": "50c05c30",
      "execution_count": null,
      "outputs": []
    },
    {
      "cell_type": "markdown",
      "metadata": {},
      "source": [
        "Now note that the gamma function is sometimes considered as the continuous version of the factorial because,\n",
        "$$\n",
        "\\begin{aligned}\n",
        "\\Gamma(z+1) &=\\int_{0}^{\\infty} x^{z} e^{-x} d x \\\\\n",
        "&=\\left[-x^{z} e^{-x}\\right]_{0}^{\\infty}+\\int_{0}^{\\infty} z x^{z-1} e^{-x} d x \\\\\n",
        "&=\\lim _{x \\rightarrow \\infty}\\left(-x^{z} e^{-x}\\right)-\\left(-0^{z} e^{-0}\\right)+z \\int_{0}^{\\infty} x^{z-1} e^{-x} d x \\\\\n",
        "&=z \\, \\Gamma(z).\n",
        "\\end{aligned}\n",
        "$$\n",
        "\n",
        "That is, the recursive relationship $\\Gamma(z+1) = z\\Gamma(z)$ holds similarly to $n! = n \\cdot (n-1)!$. Further \n",
        "$$\n",
        "\\Gamma(1) = \\int_0^\\infty e^{-x} \\, dx = 1.\n",
        "$$\n",
        "Hence we see that for integer $z$, $\\Gamma(z) = (z-1)!$ or $n! = \\Gamma(n+1)$. Let's try this.\n"
      ],
      "id": "890570fd"
    },
    {
      "cell_type": "code",
      "metadata": {},
      "source": [
        "using SpecialFunctions\n",
        "[(n = n, n! = factorial(n), Γ = gamma(n+1)) for n in 0:10]"
      ],
      "id": "6e7b3121",
      "execution_count": null,
      "outputs": []
    },
    {
      "cell_type": "markdown",
      "metadata": {},
      "source": [
        "The gamma function can also be extended outside of the positive reals. However, it is not defined at some singularity points.\n"
      ],
      "id": "e2f2cb6b"
    },
    {
      "cell_type": "code",
      "metadata": {},
      "source": [
        "@show gamma(-1.1) #here defined.\n",
        "gamma(-1) #here not defined"
      ],
      "id": "f3ba5ae6",
      "execution_count": null,
      "outputs": []
    },
    {
      "cell_type": "markdown",
      "metadata": {},
      "source": [
        "Here is a plot, excluding some points where it isn't defined\n"
      ],
      "id": "25f8f6fe"
    },
    {
      "cell_type": "code",
      "metadata": {},
      "source": [
        "using Plots, SpecialFunctions\n",
        "\n",
        "z = setdiff(-3:0.001:4, -3:0) #setdifference to remove points where gamma() returns a NaN   \n",
        "plot(z,gamma.(z), ylim=(-7,7),legend=false,xlabel=\"z\",ylabel = \"Γ(z)\")"
      ],
      "id": "f70a1449",
      "execution_count": null,
      "outputs": []
    },
    {
      "cell_type": "markdown",
      "metadata": {},
      "source": [
        "Can also do,\n"
      ],
      "id": "d205fa97"
    },
    {
      "cell_type": "code",
      "metadata": {},
      "source": [
        "gamma(2+3im)"
      ],
      "id": "8ad9aef2",
      "execution_count": null,
      "outputs": []
    },
    {
      "cell_type": "markdown",
      "metadata": {},
      "source": [
        "Related is obviously the Gamma distribution which uses the gamma function as part of the normalizing constant:\n"
      ],
      "id": "340ed755"
    },
    {
      "cell_type": "code",
      "metadata": {},
      "source": [
        "using Distributions\n",
        "\n",
        "d = Gamma(2,5)\n",
        "mean_d = mean(d)\n",
        "plot(x->pdf(d, x), xlim = (0,30), \n",
        "            label = false, \n",
        "            xlabel=\"x\", \n",
        "            ylabel=\"Gamma density\", \n",
        "            fillrange = 0,\n",
        "            alpha=0.5)\n",
        "vline!([mean_d], color=:red, linestyle=:dash, label=\"Mean = $mean_d\")"
      ],
      "id": "0d725314",
      "execution_count": null,
      "outputs": []
    },
    {
      "cell_type": "code",
      "metadata": {},
      "source": [
        "@doc Gamma"
      ],
      "id": "a6f76aaf",
      "execution_count": null,
      "outputs": []
    },
    {
      "cell_type": "markdown",
      "metadata": {},
      "source": [
        "The density is,\n",
        "\n",
        "$$\n",
        "\\frac{x^{\\alpha-1} e^{-x/\\theta}}{\\Gamma(\\alpha) \\theta^\\alpha},\n",
        "$$\n",
        "\n",
        "So in a contrived way we can extract the gamma function back out (e.g. at $x=1$ and $\\theta=1$):\n"
      ],
      "id": "958cf723"
    },
    {
      "cell_type": "code",
      "metadata": {},
      "source": [
        "my_extracted_gamma(z) =  1 / (MathConstants.e *pdf(Gamma(z,1), 1)) \n",
        "my_extracted_gamma(6.5), gamma(6.5)"
      ],
      "id": "d833f73c",
      "execution_count": null,
      "outputs": []
    },
    {
      "cell_type": "markdown",
      "metadata": {},
      "source": [
        "# More on Types\n",
        "\n",
        "Julia has an abstract type hierarchy (a tree). At the top of the tree is the type `Any`, which encompasses every possible value in Julia. All types have a supertype (the supertype of `Any` is `Any`). Types that are not leaves of the tree have subtypes. Some types are **abstract** while others are **concrete**. One particularly distinctive feature of Julia's type system is that concrete types may not subtype each other: all concrete types are final and may only have abstract types as their supertypes.\n"
      ],
      "id": "9d7bd820"
    },
    {
      "cell_type": "code",
      "metadata": {},
      "source": [
        "x = 2.3\n",
        "@show typeof(x)\n",
        "@show supertype(Float64)\n",
        "@show supertype(AbstractFloat)\n",
        "@show supertype(Real)\n",
        "@show supertype(Number)\n",
        "@show supertype(Any);"
      ],
      "id": "ce9d9da4",
      "execution_count": null,
      "outputs": []
    },
    {
      "cell_type": "markdown",
      "metadata": {},
      "source": [
        "The **is a** relationship tells if an expression is of a given type:\n"
      ],
      "id": "fe6d3d72"
    },
    {
      "cell_type": "code",
      "metadata": {},
      "source": [
        "isa(2.3, Number)"
      ],
      "id": "1b38622b",
      "execution_count": null,
      "outputs": []
    },
    {
      "cell_type": "code",
      "metadata": {},
      "source": [
        "isa(2.3, String)"
      ],
      "id": "a1f8e225",
      "execution_count": null,
      "outputs": []
    },
    {
      "cell_type": "code",
      "metadata": {},
      "source": [
        "2.3 isa Float64"
      ],
      "id": "8888691f",
      "execution_count": null,
      "outputs": []
    },
    {
      "cell_type": "markdown",
      "metadata": {},
      "source": [
        "Note that `x isa T` is the same as `typeof(x) <: T`, where we say `<:` as \"is a subtype of\".\n"
      ],
      "id": "873e7693"
    },
    {
      "cell_type": "code",
      "metadata": {},
      "source": [
        "@show Float64 <: Number\n",
        "@show String <: Number;"
      ],
      "id": "3353a5ec",
      "execution_count": null,
      "outputs": []
    },
    {
      "cell_type": "markdown",
      "metadata": {},
      "source": [
        "We can ask whether a given type is abstract or concrete.\n"
      ],
      "id": "19ad96ef"
    },
    {
      "cell_type": "code",
      "metadata": {},
      "source": [
        "@show isabstracttype(Float64)\n",
        "@show isconcretetype(Float64);"
      ],
      "id": "cd7092c5",
      "execution_count": null,
      "outputs": []
    },
    {
      "cell_type": "code",
      "metadata": {},
      "source": [
        "@show isabstracttype(Real)\n",
        "@show isconcretetype(Real);"
      ],
      "id": "728d2577",
      "execution_count": null,
      "outputs": []
    },
    {
      "cell_type": "markdown",
      "metadata": {},
      "source": [
        "Structs with undefined type parameters are not concrete:\n"
      ],
      "id": "507363ce"
    },
    {
      "cell_type": "code",
      "metadata": {},
      "source": [
        "@show isconcretetype(Complex);"
      ],
      "id": "aa638f1f",
      "execution_count": null,
      "outputs": []
    },
    {
      "cell_type": "markdown",
      "metadata": {},
      "source": [
        "Once we provide the type parameters we do get a concrete type:\n"
      ],
      "id": "105e7926"
    },
    {
      "cell_type": "code",
      "metadata": {},
      "source": [
        "@show isconcretetype(Complex{Float64});"
      ],
      "id": "50d8c217",
      "execution_count": null,
      "outputs": []
    },
    {
      "cell_type": "markdown",
      "metadata": {},
      "source": [
        "As mentioned, Julia has a type tree. Let's walk down from `Number`:\n"
      ],
      "id": "1b8abc1c"
    },
    {
      "cell_type": "code",
      "metadata": {},
      "source": [
        "using InteractiveUtils: subtypes\n",
        "\n",
        "function type_and_children(type, prefix = \"\", child_prefix = \"\")\n",
        "    if isconcretetype(type)\n",
        "        @assert isempty(subtypes(type))\n",
        "\n",
        "        println(prefix, type, \": concrete\")\n",
        "    else\n",
        "        println(prefix, type, isabstracttype(type) ? \": abstract\" : \": parameterized\")\n",
        "\n",
        "        children = subtypes(type)\n",
        "        for (i, c) in enumerate(children)\n",
        "            if i == length(children)\n",
        "                type_and_children(c, \"$(child_prefix) └─╴\", \"$(child_prefix)    \")\n",
        "            else\n",
        "                type_and_children(c, \"$(child_prefix) ├─╴\", \"$(child_prefix) │  \")\n",
        "            end \n",
        "        end\n",
        "    end\n",
        "end\n",
        "\n",
        "type_and_children(Number)"
      ],
      "id": "a925c283",
      "execution_count": null,
      "outputs": []
    },
    {
      "cell_type": "markdown",
      "metadata": {},
      "source": [
        "In Julia, you can define abstract types with the `abstract type` keywords:\n",
        "\n",
        "```julia\n",
        "abstract type Number\n",
        "end\n",
        "\n",
        "abstract type Real <: Number\n",
        "end\n",
        "\n",
        "abstract type AbstractFloat <: Real\n",
        "end\n",
        "\n",
        "primitive type Float64 <: AbstractFloat\n",
        "    64\n",
        "end\n",
        "```\n",
        "\n",
        "## Parameterized / generic types\n",
        "\n",
        "We've actually now seen all three types of abstract types in Julia – the `abstract type`s that make up the type tree, the `Union` type, and the parameterized types (abstract `Complex` vs concrete `Complex{Float64}`).\n",
        "\n",
        "Actually `Complex` is a shorthand. It's full type is written like this:\n",
        "\n",
        "```julia\n",
        "Complex{T} where T <: Real\n",
        "```\n",
        "\n",
        "This object is of type `UnionAll`:\n"
      ],
      "id": "ddba5c38"
    },
    {
      "cell_type": "code",
      "metadata": {},
      "source": [
        "typeof(Complex)"
      ],
      "id": "8f9d2c91",
      "execution_count": null,
      "outputs": []
    },
    {
      "cell_type": "markdown",
      "metadata": {},
      "source": [
        "You can read this like \"The abstract type which is the union of the concrete types `Complex{T}` for all possible `T <: Real`\" – hence the shorthand `UnionAll`. Parameterised types can have bounds, like the components of complex numbers being real numbers.\n"
      ],
      "id": "f15b37ed"
    },
    {
      "cell_type": "code",
      "metadata": {},
      "source": [
        "@show Complex{Float64} <: Complex\n",
        "@show isconcretetype(Complex)\n",
        "@show isconcretetype(Complex{Float64});"
      ],
      "id": "9735823e",
      "execution_count": null,
      "outputs": []
    },
    {
      "cell_type": "markdown",
      "metadata": {},
      "source": [
        "Julia is pretty capable at figuring out the subtype (or subset) relationships:\n"
      ],
      "id": "01c4c2a5"
    },
    {
      "cell_type": "code",
      "metadata": {},
      "source": [
        "(Complex{T} where T <: AbstractFloat) <: Complex"
      ],
      "id": "48802b58",
      "execution_count": null,
      "outputs": []
    },
    {
      "cell_type": "markdown",
      "metadata": {},
      "source": [
        "which follow from `AbstractFloat <: Real`.\n",
        "\n",
        "You've seen other `UnionAll` types like `Vector`, `Matrix`, `Set`, `Dict`, etc.\n",
        "\n",
        "Don't worry about this seeming complex – consider this background material!\n",
        "\n",
        "## Union types\n",
        "\n",
        "We saw earlier that Julia has a third abstract type called `Union` which lets you reason about a finite set of (abstract or concrete) types.\n"
      ],
      "id": "692d706c"
    },
    {
      "cell_type": "code",
      "metadata": {},
      "source": [
        "42::Union{Int, Float64}"
      ],
      "id": "bee5ed89",
      "execution_count": null,
      "outputs": []
    },
    {
      "cell_type": "code",
      "metadata": {},
      "source": [
        "3.14::Union{Int, Float64}"
      ],
      "id": "96b056cf",
      "execution_count": null,
      "outputs": []
    },
    {
      "cell_type": "code",
      "metadata": {},
      "source": [
        "\"abc\"::Union{Int, Float64}"
      ],
      "id": "505d2e47",
      "execution_count": null,
      "outputs": []
    },
    {
      "cell_type": "markdown",
      "metadata": {},
      "source": [
        "`Union` can handle an arbitrary number of types, `Union{T1, T2, T3, ...}`.\n",
        "\n",
        "As a special case `Union{T}` is just the same as `T`. We also have `Union{T, T} == T`, etc.\n",
        "\n",
        "The union of no types at all, `Union{}`, is a special builtin type which is the opposite of `Any`. No value can exist with type `Union{}`! Sometimes `Any` is called the \"top\" type and `Union{}` is called the \"bottom\" type. It's used internally by the compiler to rule out impossible situations, but it's not something for you to worry about.\n",
        "\n",
        "You've now seen _every possible concrete type_ and _every possible abstract type_ in all of Julia. You've also looked a functions, methods and multiple dispatch.\n",
        "\n",
        "# Integrating with R and Python\n",
        "\n",
        "In general, Python and R, are each more popular than Julia. Python dominates the machine learning world as well as many other fields. R dominates the statistical analysis world. Yet, packages in both of these languages of rely on low level languages for efficient computation.\n",
        "\n",
        "In some instances Julia may play a role as such a \"low level\" languages, and one can consider creating packages in Julia and wrapping them in Python and R. This is the case with Julia's famous [DifferentialEquations.jl](https://github.com/SciML/DifferentialEquations.jl) package. In R it is wrapped with [diffeqr](https://github.com/SciML/diffeqr) and in Python with [diffeqpy](https://github.com/SciML/diffeqpy). \n",
        "\n",
        "As a side note, we mention that one thing that is keeping Julia from being a very useful \"lower level\" platform is the size of the system runtime binary. A long discussion about this is [here](https://discourse.julialang.org/t/roadmap-for-small-binaries/99266/122). Also, you may find this [video](https://www.youtube.com/watch?v=R0DEG-ddBZA) interesting, as it highlights progress in reducing the binary size. However, Julia binary reduction is still work-in-progress, so stay tuned for developments on this front. Having small binaries may be important for enabling Julia to be easily wrapped within R and Python.\n",
        "\n",
        "Still, even with the current state of affairs, let's see some basic examples of integrations with Python and R. You may also find the [JuliaInterop organization](https://github.com/JuliaInterop) useful.\n",
        "\n",
        "## Starting as R users with diffeqr\n",
        "\n",
        "Let's see a basic example of using the [diffeqr](https://github.com/SciML/diffeqr) R package. \n",
        "\n",
        "Note that on a Mac M2 machine, we actually had trouble getting this package to work with the latest R version, `R-4.5.0-arm64.pkg`. In fact, after some investigation we had to revert to version R version `4.3.3`! This may be a `JuliaCall` issue, an `R` issue, a `diffeqr` issue, or any of the three possibilities. In any case we opened, this [issue](https://github.com/SciML/diffeqr/issues/49) with `diffeqr`. \n",
        "\n",
        "With version `4.3.3` of R installed, and `diffeqr` reintalled in R `install.packages(\"diffeqr\")`, the outputs as appearing in the README of [diffeqr](https://github.com/SciML/diffeqr) are reproduced. \n",
        "\n",
        "First you run (in R):\n",
        "\n",
        "```\n",
        "de <- diffeqr::diffeq_setup()\n",
        "```\n",
        "\n",
        "Now before we do anything ruther look at the [R source code for `diffeq_setup`](https://github.com/SciML/diffeqr/blob/48114db6bd17aeacada3eb7311be153d00bc2913/R/diffeqr.R#L20C1-L33C2). This can give you an indication of the use of the R package, `JuliaCall`. Indeed after you run the above R line (assuming nothing is breaking), you may inspect `de` in R-Studio, by typing `de$`. You'll see a pop-up menu with all of the symbols exposed from DifferentialEquations.jl.\n",
        "\n",
        "Now type:\n",
        "\n",
        "```\n",
        "prob = de$ODEProblem(function(u, p, t) log(2) * u,  10, c(0., 4.))\n",
        "```\n",
        "\n",
        "This creates an ordinary differential equation (ODE) problem, $f'(u) =  \\log(2) u$ with $f(0) = 10$, and a time horizon of $[0,4]$. It is an ODE that should double everytime unit. \n",
        "\n",
        "For example if you type, `prob`, you'll see,\n",
        "\n",
        "```\n",
        "function(u, p, t) log(2) * u\n",
        "Julia Object of type ODEProblem{Float64, Tuple{Float64, Float64}, false, SciMLBase.NullParameters, ODEFunction{false, SciMLBase.AutoSpecialize, RCall.RFunction{RObject{ClosSxp}}, UniformScaling{Bool}, Nothing, Nothing, Nothing, Nothing, Nothing, Nothing, Nothing, Nothing, Nothing, Nothing, Nothing, typeof(SciMLBase.DEFAULT_OBSERVED), Nothing, SymbolicIndexingInterface.SymbolCache{Nothing, Nothing, Nothing}}, Base.Pairs{Symbol, Union{}, Tuple{}, NamedTuple{(), Tuple{}}}, SciMLBase.StandardODEProblem}.\n",
        "ODEProblem{Float64, Tuple{Float64, Float64}, false, SciMLBase.NullParameters, ODEFunction{false, SciMLBase.AutoSpecialize, RCall.RFunction{RObject{ClosSxp}}, UniformScaling{Bool}, Nothing, Nothing, Nothing, Nothing, Nothing, Nothing, Nothing, Nothing, Nothing, Nothing, Nothing, typeof(SciMLBase.DEFAULT_OBSERVED), Nothing, SymbolicIndexingInterface.SymbolCache{Nothing, Nothing, Nothing}}, Base.Pairs{Symbol, Union{}, Tuple{}, NamedTuple{(), Tuple{}}}, SciMLBase.StandardODEProblem}(ODEFunction{false, SciMLBase.AutoSpecialize, RCall.RFunction{RObject{ClosSxp}}, UniformScaling{Bool}, Nothing, Nothing, Nothing, Nothing, Nothing, Nothing, Nothing, Nothing, Nothing, Nothing, Nothing, typeof(SciMLBase.DEFAULT_OBSERVED), Nothing, SymbolicIndexingInterface.SymbolCache{Nothing, Nothing, Nothing}}(RCall.RFunction{RObject{ClosSxp}}(RObject{ClosSxp}\n",
        "), UniformScaling{Bool}(true), nothing, nothing, nothing, nothing, nothing, nothing, nothing, nothing, nothing, nothing, nothing, SciMLBase.DEFAULT_OBSERVED, nothing, SymbolicIndexingInterface.SymbolCache{Nothing, Nothing, Nothing}(nothing, nothing, nothing)), 10.0, (0.0, 4.0), SciMLBase.NullParameters(), Base.Pairs{Symbol, Union{}, Tuple{}, NamedTuple{(), Tuple{}}}(), SciMLBase.StandardODEProblem())\n",
        "```\n",
        "\n",
        "While this may appear like a-lot of junk (it is!), it shows you that there is some \"Julia living in R\".\n",
        "\n",
        "You can now run:\n",
        "\n",
        "```\n",
        "sol = de$solve(prob)\n",
        "```\n",
        "\n",
        "Then when you inspect `sol$t` you get:\n",
        "\n",
        "```\n",
        "[1] 0.0000000 0.1076078 0.4336223 0.9016389 1.4599310 2.1409919 2.9241760 3.8122657 4.0000000\n",
        "```\n",
        "\n",
        "And with `sol$u` you get:\n",
        "\n",
        "```\n",
        "[1]  10.00000  10.77440  13.50620  18.68187  27.50952  44.10650  75.90388 140.47676 159.99933\n",
        "```\n",
        "\n",
        "Note that at time $t=4$ we get that the ODE is at about $160$ as expected.\n",
        "\n",
        "Now see the README of [diffeqr](https://github.com/SciML/diffeqr) fo more interesting examples.\n",
        "\n",
        "## Integration with R\n",
        "\n",
        "Let's see JuliaCall and RCall.jl. Note that an alternative is ofcouse to run Julia, save outputs in JSON files, CSV files, Databases etc..., and read the input from R. And/or vice-versa. \n",
        "\n",
        "### JuliaCall example in R\n",
        "\n",
        "The main tool to invoke Julia from R is the `JuliaCall` R package. See it on [CRAN](https://cran.r-project.org/web/packages/JuliaCall/index.html), or the [`JuliaCall` GitHub repo](https://github.com/JuliaInterop/JuliaCall).\n",
        "\n",
        "Here is an example directly from the README of JuliaCall (this is R code):\n",
        "\n",
        "```\n",
        "library(JuliaCall)\n",
        "julia <- julia_setup()\n",
        "#> Julia version 1.11.1 at location C:\\Users\\lichangcheng\\.julia\\juliaup\\julia-1.11.1+0.x64.w64.mingw32\\bin will be used.\n",
        "#> Loading setup script for JuliaCall...\n",
        "#> Finish loading setup script for JuliaCall.\n",
        "\n",
        "## If you want to use `Julia` at a specific location, you could do the following:\n",
        "## julia_setup(JULIA_HOME = \"the folder that contains Julia binary\").\n",
        "## You can also set JULIA_HOME in command line environment or use `options(...)`.\n",
        "\n",
        "## Different ways of using Julia to calculate sqrt(2)\n",
        "\n",
        "# julia$command(\"a = sqrt(2);\"); julia$eval(\"a\")\n",
        "julia_command(\"a = sqrt(2);\"); julia_eval(\"a\")\n",
        "#> [1] 1.414214\n",
        "julia_eval(\"sqrt(2)\")\n",
        "#> [1] 1.414214\n",
        "julia_call(\"sqrt\", 2)\n",
        "#> [1] 1.414214\n",
        "julia_eval(\"sqrt\")(2)\n",
        "#> [1] 1.414214\n",
        "julia_assign(\"x\", sqrt(2)); julia_eval(\"x\")\n",
        "#> [1] 1.414214\n",
        "julia_assign(\"rsqrt\", sqrt); julia_call(\"rsqrt\", 2)\n",
        "#> [1] 1.414214\n",
        "2 %>J% sqrt\n",
        "#> [1] 1.414214\n",
        "\n",
        "## You can use `julia$exists` as `exists` in R to test\n",
        "## whether a function or name exists in Julia or not\n",
        "\n",
        "julia_exists(\"sqrt\")\n",
        "#> [1] TRUE\n",
        "julia_exists(\"c\")\n",
        "#> [1] FALSE\n",
        "\n",
        "## Functions related to installing and using Julia packages\n",
        "\n",
        "julia_install_package_if_needed(\"Optim\")\n",
        "julia_installed_package(\"Optim\")\n",
        "#> [1] \"1.9.4\"\n",
        "julia_library(\"Optim\")\n",
        "```\n",
        "\n",
        "### RCall.jl example in Julia\n",
        "\n",
        "In Julia the main tool for interfacing with R is [RCall.jl](https://github.com/JuliaInterop/RCall.jl). The key docs are [here](https://juliainterop.github.io/RCall.jl/stable/gettingstarted/). The main tools are the macros `@rput`, `@rget`, and the `R` string macro.\n"
      ],
      "id": "cd2e4a3e"
    },
    {
      "cell_type": "code",
      "metadata": {},
      "source": [
        "#| echo: true\n",
        "#| output: false\n",
        "using CSV, DataFrames, RCall\n",
        "\n",
        "data1 = CSV.read(\"../data/machine1.csv\", header=false, DataFrame)[:,1]\n",
        "data2 = CSV.read(\"../data/machine2.csv\", header=false, DataFrame)[:,1]\n",
        "data3 = CSV.read(\"../data/machine3.csv\", header=false, DataFrame)[:,1]\n",
        "\n",
        "function R_ANOVA(allData)\n",
        "    data = vcat([ [x fill(i, length(x))] for (i, x) in\n",
        "    \t\t\tenumerate(allData) ]...)\n",
        "    df = DataFrame(data, [:Diameter, :MachNo])\n",
        "    @rput df\n",
        "\n",
        "    R\"\"\"\n",
        "    df$MachNo <- as.factor(df$MachNo)\n",
        "    anova <- summary(aov( Diameter ~ MachNo, data=df))\n",
        "    fVal <- anova[[1]][\"F value\"][[1]][1]\n",
        "    pVal <- anova[[1]][\"Pr(>F)\"][[1]][1]\n",
        "    \"\"\"\n",
        "    println(\"R ANOVA f-value: \", @rget fVal)\n",
        "    println(\"R ANOVA p-value: \", @rget pVal)\n",
        "end\n",
        "\n",
        "R_ANOVA([data1, data2, data3])"
      ],
      "id": "c1781df2",
      "execution_count": null,
      "outputs": []
    },
    {
      "cell_type": "markdown",
      "metadata": {},
      "source": [
        "Note that if R is not installed then you will get output like:\n",
        "\n",
        "```\n",
        "[ Info: No R installation found by RCall.jl. Precompilation of RCall and all dependent packages postponed. Importing RCall will fail until an R installation is configured beforehand.\n",
        "```\n",
        "\n",
        "If R is installed you get output like:\n",
        "\n",
        "```\n",
        "R ANOVA f-value: 10.516968568709055\n",
        "R ANOVA p-value: 0.00014236168817139904\n",
        "```\n",
        "\n",
        "## Integration with Python\n",
        "\n",
        "For Python integration both tools exist together in [PythonCall.jl](https://github.com/JuliaPy/PythonCall.jl).\n",
        "This gives the Python package, `juliacall` and the Julia package, `PythonCall.jl`.\n",
        "\n",
        "An earlier tool is [PyCall.jl](https://github.com/JuliaPy/PyCall.jl). For example before [Plots.jl](https://github.com/JuliaPlots/Plots.jl) rose to popularity, plotting in Julia was via [PyPlot.jl](https://github.com/JuliaPy/PyPlot.jl) which wraps Python's [matplotlib](https://matplotlib.org/).\n",
        "\n",
        "See also the [JuliaPy](https://github.com/JuliaPy) organization.\n",
        "\n",
        "### JuliaCall example in Python\n",
        "\n",
        "This [guide](https://juliapy.github.io/PythonCall.jl/stable/juliacall/) presents the gist of using Julia from Python.\n",
        "\n",
        "As a simple example consider the Python file, [python_calling_julia.py](https://github.com/open-AIMS/Julia_ML_training/blob/main/unit1/python_calling_julia.py) which contains,\n",
        "\n",
        "```\n",
        "from juliacall import Main as jl\n",
        "\n",
        "# Run the Julia simulation\n",
        "jl.seval('include(\"simulator.jl\")')\n",
        "result = jl.seval(\"simulate()\")\n",
        "\n",
        "# Process the result in Python\n",
        "print(\"The result from the Julia simulation is: \", result)\n",
        "```\n",
        "\n",
        "Now the idea is that it uses an **efficient** Julia simulator in [simulator.jl](https://github.com/open-AIMS/Julia_ML_training/blob/main/unit1/simulator.jl):\n",
        "\n",
        "```\n",
        "function simulate()\n",
        "    for i in 1:3\n",
        "        sleep(1) #fast heavy julia simulation\n",
        "    end\n",
        "    return 42\n",
        "end\n",
        "```\n",
        "\n",
        "Now after you, `pip install juliacall`, if you try, `python python_calling_julia.py` (in the `unit1` folder), you'll see:\n",
        "\n",
        "```\n",
        "The result from the Julia simulation is:  42\n",
        "```\n",
        "\n",
        "### PythonCall example in Julia\n",
        "\n",
        "The other way around in Julia is via the `PythonCall.jl` package. The [guide](https://juliapy.github.io/PythonCall.jl/stable/pythoncall/) is useful.\n",
        "\n",
        "For example, try the code in the guide:\n",
        "\n",
        "```\n",
        "julia> using PythonCall\n",
        "\n",
        "julia> re = pyimport(\"re\")\n",
        "Python: <module 're' from '[...]/lib/re.py'>\n",
        "\n",
        "julia> words = re.findall(\"[a-zA-Z]+\", \"PythonCall.jl is very useful!\")\n",
        "Python: ['PythonCall', 'jl', 'is', 'very', 'useful']\n",
        "\n",
        "julia> sentence = Py(\" \").join(words)\n",
        "Python: 'PythonCall jl is very useful'\n",
        "\n",
        "julia> pyconvert(String, sentence)\n",
        "\"PythonCall jl is very useful\"\n",
        "```\n",
        "\n",
        "\n",
        "# Additional online resources\n",
        "\n",
        "* See this [Blog post about the package manager](https://jkrumbiegel.com/pages/2022-08-26-pkg-introduction/) by [Julius Krumbiegel\n",
        "](https://github.com/jkrumbiegel).\n",
        "* See this [YouTube video](https://www.youtube.com/watch?v=4YhYHZbpkys) which nicely outlines how Julia compilation works.\n",
        "* Some of the materials in this unit are motivated by a University of Queensland Course, [Programming of Simulation, Analysis, and Learning (Data) Systems](https://courses.smp.uq.edu.au/MATH2504/). The course website for that course contains many more materials of this nature.\n",
        "* Integration with Wolfram Mathematica is via [MathLink.jl](https://github.com/JuliaInterop/MathLink.jl).\n",
        "* Calling C or Fortran directly within Julia is in-built. See the [documentation](https://docs.julialang.org/en/v1/manual/calling-c-and-fortran-code/).\n",
        "* Julia has garbage collection. See the [docs](https://docs.julialang.org/en/v1/devdocs/gc/).\n",
        "\n",
        "# Exercises\n",
        "\n",
        "1. Consider the `sort` and `sort!` functions.\n",
        "    - Read their documentation.\n",
        "    - Consider the `by` and `lt` arguments, and try these on an example.\n",
        "    - What if you try `sort([\"a1\", \"a2\", \"a10\"])`? Is there a nicer way? Look at [NaturalSort.jl](https://github.com/JuliaStrings/NaturalSort.jl), install it, and try it with `sort([\"a1\", \"a2\", \"a10\"], lt=natural)`.\n",
        "1. Compare the following expressions, all of which are the essentially same. For each case investigate how the expression is formed.\n",
        "    - `sqrt.(1:9)`\n",
        "    - `sqrt.(UnitRange(1,9))`\n",
        "    - `sqrt.(collect(1:9))`\n",
        "    - `(1:9).^(1/2)`\n",
        "    - `map(sqrt, 1:9)`\n",
        "    - `map(√, 1:9)`\n",
        "    - `[sqrt(i) for i in 1:9]`\n",
        "    - `sqrt.((1:9...,))`\n",
        "    - `vec(sqrt.(reshape(1:9,3,3)))`\n",
        "    - `sqrt.(values(NamedTuple{Tuple(Symbol.(\"x\", 1:9))}(1:9)))`\n",
        "    - `exp.(log.(1:9)/2)`\n",
        "    - `2 .^(log2.(1:9)/2)`\n",
        "1. We've seen the [QuadGK.jl](https://github.com/JuliaMath/QuadGK.jl) package for 1d numerical integration. Now consider the [HCubature.jl](https://github.com/JuliaMath/HCubature.jl) package for multi-dimensional numerical integration. Try to use this package to compute the integral of `f(x::AbstractVector) = exp(x'x/2)` when `x` is a vector of dimensions, 2, 3, and 4, and the integation is over a truncation of all of Euclidean space. Note: You can verify your answer based on the normalizing constant of a multi-variate Gaussian distribution. \n",
        "1. Read the [Julia documentation about functions](https://docs.julialang.org/en/v1/manual/functions/#man-functions). Try out specific examples presented."
      ],
      "id": "a172f81f"
    }
  ],
  "metadata": {
    "kernelspec": {
      "name": "julia-1.11",
      "language": "julia",
      "display_name": "Julia 1.11.5"
    }
  },
  "nbformat": 4,
  "nbformat_minor": 5
}