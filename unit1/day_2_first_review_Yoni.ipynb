{
 "cells": [
  {
   "cell_type": "markdown",
   "id": "f3b06b74-a25a-41ab-a97a-4ec980edf5ac",
   "metadata": {},
   "source": [
    "# Quick notes in first hours of day 2"
   ]
  },
  {
   "cell_type": "code",
   "execution_count": 15,
   "id": "5fa8d418-c241-4705-9ed7-c1db7e8c9f57",
   "metadata": {},
   "outputs": [],
   "source": [
    "data = ['a','b','c'];"
   ]
  },
  {
   "cell_type": "code",
   "execution_count": 16,
   "id": "85aa1c13-9601-424f-94bc-1ee3646ff499",
   "metadata": {},
   "outputs": [
    {
     "name": "stdout",
     "output_type": "stream",
     "text": [
      "1\ta\n",
      "2\tb\n",
      "3\tc\n"
     ]
    }
   ],
   "source": [
    "for i in 1:length(data)\n",
    "    println(i,\"\\t\", data[i])\n",
    "end"
   ]
  },
  {
   "cell_type": "code",
   "execution_count": 14,
   "id": "8307e7be-c2af-4bd4-899e-61720f599e2a",
   "metadata": {},
   "outputs": [
    {
     "name": "stdout",
     "output_type": "stream",
     "text": [
      "1\ta\n",
      "2\tb\n",
      "3\tc\n"
     ]
    }
   ],
   "source": [
    "for (i,x) in enumerate(['a','b','c'])\n",
    "    println(i,\"\\t\", x)\n",
    "end"
   ]
  },
  {
   "cell_type": "code",
   "execution_count": 2,
   "id": "1f56cc50-1dad-430d-9685-90d4316dd08d",
   "metadata": {},
   "outputs": [],
   "source": [
    "using InteractiveUtils: subtypes\n",
    "\n",
    "function type_and_children(type, prefix = \"\", child_prefix = \"\")\n",
    "    if isconcretetype(type)\n",
    "        @assert isempty(subtypes(type))\n",
    "\n",
    "        println(prefix, type, \": concrete\")\n",
    "    else\n",
    "        println(prefix, type, isabstracttype(type) ? \": abstract\" : \": parameterized\")\n",
    "\n",
    "        children = subtypes(type)\n",
    "        for (i, c) in enumerate(children)\n",
    "            if i == length(children)\n",
    "                type_and_children(c, \"$(child_prefix) └─╴\", \"$(child_prefix)    \")\n",
    "            else\n",
    "                type_and_children(c, \"$(child_prefix) ├─╴\", \"$(child_prefix) │  \")\n",
    "            end \n",
    "        end\n",
    "    end\n",
    "end;"
   ]
  },
  {
   "cell_type": "code",
   "execution_count": 3,
   "id": "b56e13d8-274f-4fe5-8305-e87d616ef1bb",
   "metadata": {},
   "outputs": [
    {
     "data": {
      "text/plain": [
       "3-element Vector{Any}:\n",
       " Base.MultiplicativeInverses.MultiplicativeInverse\n",
       " Complex\n",
       " Real"
      ]
     },
     "execution_count": 3,
     "metadata": {},
     "output_type": "execute_result"
    }
   ],
   "source": [
    "subtypes(Number)"
   ]
  },
  {
   "cell_type": "code",
   "execution_count": 4,
   "id": "bcbb3ce0-c391-4595-9d50-6d22227f8cb8",
   "metadata": {},
   "outputs": [
    {
     "data": {
      "text/plain": [
       "4-element Vector{Any}:\n",
       " AbstractFloat\n",
       " AbstractIrrational\n",
       " Integer\n",
       " Rational"
      ]
     },
     "execution_count": 4,
     "metadata": {},
     "output_type": "execute_result"
    }
   ],
   "source": [
    "subtypes(Real)"
   ]
  },
  {
   "cell_type": "code",
   "execution_count": 6,
   "id": "044bd965-3bab-4c21-96d7-0ec326049ca1",
   "metadata": {},
   "outputs": [
    {
     "data": {
      "text/plain": [
       "false"
      ]
     },
     "execution_count": 6,
     "metadata": {},
     "output_type": "execute_result"
    }
   ],
   "source": [
    "isabstracttype(Rational)"
   ]
  },
  {
   "cell_type": "code",
   "execution_count": 7,
   "id": "06099f66-8afe-4abe-bfe3-95d5ee02cea6",
   "metadata": {},
   "outputs": [
    {
     "data": {
      "text/plain": [
       "true"
      ]
     },
     "execution_count": 7,
     "metadata": {},
     "output_type": "execute_result"
    }
   ],
   "source": [
    "isabstracttype(Integer)"
   ]
  },
  {
   "cell_type": "code",
   "execution_count": 5,
   "id": "017521a8-112b-4a64-99b3-68656adc1355",
   "metadata": {},
   "outputs": [
    {
     "data": {
      "text/plain": [
       "649-element Vector{Any}:\n",
       " AbstractArray\n",
       " AbstractChannel\n",
       " AbstractChar\n",
       " AbstractDict\n",
       " AbstractDisplay\n",
       " AbstractMatch\n",
       " AbstractPattern\n",
       " AbstractSet\n",
       " AbstractString\n",
       " Any\n",
       " Base.ANSIDelimiter\n",
       " Base.ANSIIterator\n",
       " Base.AbstractBroadcasted\n",
       " ⋮\n",
       " Tuple\n",
       " Type\n",
       " TypeVar\n",
       " UndefInitializer\n",
       " Val\n",
       " VecElement\n",
       " VersionNumber\n",
       " WeakRef\n",
       " ZMQ.Context\n",
       " ZMQ.Socket\n",
       " ZMQ.lib.zmq_msg_t\n",
       " ZMQ.lib.zmq_pollitem_t"
      ]
     },
     "execution_count": 5,
     "metadata": {},
     "output_type": "execute_result"
    }
   ],
   "source": [
    "subtypes(Any)"
   ]
  },
  {
   "cell_type": "code",
   "execution_count": 17,
   "id": "3eafe29e-f11e-4b77-8d55-04c85241e678",
   "metadata": {},
   "outputs": [
    {
     "name": "stdout",
     "output_type": "stream",
     "text": [
      "Number: abstract\n",
      " ├─╴Base.MultiplicativeInverses.MultiplicativeInverse: abstract\n",
      " │   ├─╴Base.MultiplicativeInverses.SignedMultiplicativeInverse: parameterized\n",
      " │   └─╴Base.MultiplicativeInverses.UnsignedMultiplicativeInverse: parameterized\n",
      " ├─╴Complex: parameterized\n",
      " └─╴Real: abstract\n",
      "     ├─╴AbstractFloat: abstract\n",
      "     │   ├─╴BigFloat: concrete\n",
      "     │   ├─╴Core.BFloat16: concrete\n",
      "     │   ├─╴Float16: concrete\n",
      "     │   ├─╴Float32: concrete\n",
      "     │   └─╴Float64: concrete\n",
      "     ├─╴AbstractIrrational: abstract\n",
      "     │   └─╴Irrational: parameterized\n",
      "     ├─╴Integer: abstract\n",
      "     │   ├─╴Bool: concrete\n",
      "     │   ├─╴Signed: abstract\n",
      "     │   │   ├─╴BigInt: concrete\n",
      "     │   │   ├─╴Int128: concrete\n",
      "     │   │   ├─╴Int16: concrete\n",
      "     │   │   ├─╴Int32: concrete\n",
      "     │   │   ├─╴Int64: concrete\n",
      "     │   │   └─╴Int8: concrete\n",
      "     │   └─╴Unsigned: abstract\n",
      "     │       ├─╴UInt128: concrete\n",
      "     │       ├─╴UInt16: concrete\n",
      "     │       ├─╴UInt32: concrete\n",
      "     │       ├─╴UInt64: concrete\n",
      "     │       └─╴UInt8: concrete\n",
      "     └─╴Rational: parameterized\n"
     ]
    }
   ],
   "source": [
    "type_and_children(Number)"
   ]
  },
  {
   "cell_type": "code",
   "execution_count": 18,
   "id": "abfaf93c-ed95-465d-853b-e550a60fdf2f",
   "metadata": {},
   "outputs": [
    {
     "data": {
      "text/plain": [
       "(2 + 3im, 2.0 + 3.0im)"
      ]
     },
     "execution_count": 18,
     "metadata": {},
     "output_type": "execute_result"
    }
   ],
   "source": [
    "x = 2 + 3im;\n",
    "y = 2.0 + 3im\n",
    "x, y"
   ]
  },
  {
   "cell_type": "code",
   "execution_count": 19,
   "id": "9d08c92e-03cd-4390-aa7e-f3adb4f9482b",
   "metadata": {},
   "outputs": [
    {
     "data": {
      "text/plain": [
       "(Complex{Int64}, ComplexF64)"
      ]
     },
     "execution_count": 19,
     "metadata": {},
     "output_type": "execute_result"
    }
   ],
   "source": [
    "typeof(x), typeof(y)"
   ]
  },
  {
   "cell_type": "code",
   "execution_count": 20,
   "id": "d7c3ef6e-5fb3-45bc-b7c5-6497a774b416",
   "metadata": {},
   "outputs": [
    {
     "data": {
      "text/plain": [
       "ComplexF64\u001b[90m (alias for \u001b[39m\u001b[90mComplex{Float64}\u001b[39m\u001b[90m)\u001b[39m"
      ]
     },
     "execution_count": 20,
     "metadata": {},
     "output_type": "execute_result"
    }
   ],
   "source": [
    "ComplexF64"
   ]
  },
  {
   "cell_type": "code",
   "execution_count": 21,
   "id": "6519716b-5d9f-4aa4-a285-63e8501a531a",
   "metadata": {},
   "outputs": [
    {
     "data": {
      "text/plain": [
       "1.4142135623730951"
      ]
     },
     "execution_count": 21,
     "metadata": {},
     "output_type": "execute_result"
    }
   ],
   "source": [
    "a = sqrt(2)"
   ]
  },
  {
   "cell_type": "markdown",
   "id": "d830ce3b-b4d0-457a-a77d-51bf90186662",
   "metadata": {},
   "source": [
    "LASSO\n",
    "\n",
    "$$\n",
    "y = \\beta_0 + \\beta_1 x_1 + \\beta_2 x_2 + \\ldots \\beta_p x_p\n",
    "$$"
   ]
  },
  {
   "cell_type": "markdown",
   "id": "3fb7aded-8cd3-4598-a3a8-e6c11e582677",
   "metadata": {},
   "source": [
    "LASSO helps with \"model selection\" in stats"
   ]
  },
  {
   "cell_type": "markdown",
   "id": "7b289131-e577-40d8-9eec-7e7685eedaf5",
   "metadata": {},
   "source": [
    "## Example of RCall.jl"
   ]
  },
  {
   "cell_type": "code",
   "execution_count": 23,
   "id": "47aa456e-6180-48de-b1e1-a9de4b29fb85",
   "metadata": {},
   "outputs": [
    {
     "data": {
      "text/plain": [
       "\"/Users/uqjnazar/git/Julia_ML_training\""
      ]
     },
     "execution_count": 23,
     "metadata": {},
     "output_type": "execute_result"
    }
   ],
   "source": [
    "pwd()"
   ]
  },
  {
   "cell_type": "code",
   "execution_count": 24,
   "id": "0b831187-6d0d-413b-8b72-1ef047a2dc85",
   "metadata": {},
   "outputs": [
    {
     "name": "stderr",
     "output_type": "stream",
     "text": [
      "\u001b[32m\u001b[1m  Activating\u001b[22m\u001b[39m project at `~/git/Julia_ML_training/unit1`\n"
     ]
    }
   ],
   "source": [
    "using Pkg\n",
    "Pkg.activate(\"unit1\")"
   ]
  },
  {
   "cell_type": "code",
   "execution_count": 26,
   "id": "8345394c-4dcc-4a95-b2ee-70617dbb1f40",
   "metadata": {},
   "outputs": [
    {
     "data": {
      "text/plain": [
       "\"/Users/uqjnazar/git/Julia_ML_training/unit1\""
      ]
     },
     "execution_count": 26,
     "metadata": {},
     "output_type": "execute_result"
    }
   ],
   "source": [
    "cd(\"unit1\"); pwd()"
   ]
  },
  {
   "cell_type": "code",
   "execution_count": 31,
   "id": "cb59d801-3fa3-4db4-b179-c18f0cf16a4d",
   "metadata": {},
   "outputs": [
    {
     "name": "stdout",
     "output_type": "stream",
     "text": [
      "R ANOVA f-value: 10.516968568709055\n",
      "R ANOVA p-value: 0.00014236168817139904\n"
     ]
    }
   ],
   "source": [
    "using CSV, DataFrames, RCall\n",
    "\n",
    "data1 = CSV.read(\"../data/machine1.csv\", header=false, DataFrame)[:,1]\n",
    "data2 = CSV.read(\"../data/machine2.csv\", header=false, DataFrame)[:,1]\n",
    "data3 = CSV.read(\"../data/machine3.csv\", header=false, DataFrame)[:,1]\n",
    "\n",
    "function R_ANOVA(allData)\n",
    "    data = vcat([ [x fill(i, length(x))] for (i, x) in\n",
    "                enumerate(allData) ]...)\n",
    "    df = DataFrame(data, [:Diameter, :MachNo])\n",
    "    @rput df\n",
    "\n",
    "    R\"\"\"\n",
    "    df$MachNo <- as.factor(df$MachNo)\n",
    "    anova <- summary(aov( Diameter ~ MachNo, data=df))\n",
    "    fVal <- anova[[1]][\"F value\"][[1]][1]\n",
    "    pVal <- anova[[1]][\"Pr(>F)\"][[1]][1]\n",
    "    \"\"\"\n",
    "    println(\"R ANOVA f-value: \", @rget fVal)\n",
    "    println(\"R ANOVA p-value: \", @rget pVal)\n",
    "end\n",
    "\n",
    "R_ANOVA([data1, data2, data3])"
   ]
  },
  {
   "cell_type": "code",
   "execution_count": 28,
   "id": "1da239c4-b16a-47fc-9415-dd997902def1",
   "metadata": {},
   "outputs": [
    {
     "data": {
      "text/plain": [
       "20-element Vector{Float64}:\n",
       " 53.35674558144255\n",
       " 53.45887516134873\n",
       " 52.282838627926125\n",
       " 52.98746570643515\n",
       " 51.993167774733486\n",
       " 53.373333606198\n",
       " 55.75410538860477\n",
       " 50.279496381439365\n",
       " 53.6359586914001\n",
       " 53.517705831707495\n",
       " 53.70044994508253\n",
       " 54.15592592604583\n",
       " 53.55054914606446\n",
       " 52.37319589109419\n",
       " 53.4900750059897\n",
       " 52.939458524079605\n",
       " 52.16761562743534\n",
       " 50.87140009591033\n",
       " 53.144919157924924\n",
       " 52.09084035473537"
      ]
     },
     "execution_count": 28,
     "metadata": {},
     "output_type": "execute_result"
    }
   ],
   "source": [
    "data1"
   ]
  },
  {
   "cell_type": "code",
   "execution_count": 30,
   "id": "a9b00ea1-d28a-40f4-a0ea-a9b744769b1b",
   "metadata": {},
   "outputs": [
    {
     "name": "stdout",
     "output_type": "stream",
     "text": [
      "search:\n",
      "\n",
      "Couldn't find \u001b[36mR\u001b[39m\n",
      "Perhaps you meant \\, ⊆, ∈, ∩, ), ℯ, ⊻, ∌, ≠, ', $, ∉, }, \", {, (, ∪, ≢, ∘ or ≉\n"
     ]
    },
    {
     "data": {
      "text/latex": [
       "No documentation found.\n",
       "\n",
       "Binding \\texttt{R} does not exist.\n",
       "\n"
      ],
      "text/markdown": [
       "No documentation found.\n",
       "\n",
       "Binding `R` does not exist.\n"
      ],
      "text/plain": [
       "  No documentation found.\n",
       "\n",
       "  Binding \u001b[36mR\u001b[39m does not exist."
      ]
     },
     "execution_count": 30,
     "metadata": {},
     "output_type": "execute_result"
    }
   ],
   "source": [
    "? R"
   ]
  },
  {
   "cell_type": "code",
   "execution_count": 32,
   "id": "40e8eb38-7eba-43ce-b7ca-b4a4d7bff150",
   "metadata": {},
   "outputs": [
    {
     "data": {
      "text/plain": [
       "\"/Users/uqjnazar/git/Julia_ML_training/unit1\""
      ]
     },
     "execution_count": 32,
     "metadata": {},
     "output_type": "execute_result"
    }
   ],
   "source": [
    "pwd()"
   ]
  },
  {
   "cell_type": "code",
   "execution_count": 34,
   "id": "f9302896-91bc-47c4-b687-07f47765f2b4",
   "metadata": {},
   "outputs": [
    {
     "name": "stdout",
     "output_type": "stream",
     "text": [
      "hello\n"
     ]
    }
   ],
   "source": [
    "include(\"work/test.jl\")"
   ]
  },
  {
   "cell_type": "code",
   "execution_count": 37,
   "id": "bfa57ea8-88e4-4b45-9d9c-80a088474742",
   "metadata": {},
   "outputs": [
    {
     "name": "stdout",
     "output_type": "stream",
     "text": [
      "\"calling my_factorial on $(n)\" = \"calling my_factorial on 10\"\n",
      "\"calling my_factorial on $(n)\" = \"calling my_factorial on 9\"\n",
      "\"calling my_factorial on $(n)\" = \"calling my_factorial on 8\"\n",
      "\"calling my_factorial on $(n)\" = \"calling my_factorial on 7\"\n",
      "\"calling my_factorial on $(n)\" = \"calling my_factorial on 6\"\n",
      "\"calling my_factorial on $(n)\" = \"calling my_factorial on 5\"\n",
      "\"calling my_factorial on $(n)\" = \"calling my_factorial on 4\"\n",
      "\"calling my_factorial on $(n)\" = \"calling my_factorial on 3\"\n",
      "\"calling my_factorial on $(n)\" = \"calling my_factorial on 2\"\n",
      "\"calling my_factorial on $(n)\" = \"calling my_factorial on 1\"\n",
      "\"calling my_factorial on $(n)\" = \"calling my_factorial on 0\"\n"
     ]
    },
    {
     "data": {
      "text/plain": [
       "3628800"
      ]
     },
     "execution_count": 37,
     "metadata": {},
     "output_type": "execute_result"
    }
   ],
   "source": [
    "function my_factorial(n)\n",
    "    @show \"calling my_factorial on $n\"\n",
    "    if n == 0\n",
    "        return 1\n",
    "    else\n",
    "        return n * my_factorial(n-1)\n",
    "    end\n",
    "end\n",
    "\n",
    "my_factorial(10)"
   ]
  },
  {
   "cell_type": "code",
   "execution_count": 38,
   "id": "889c03e7-81a0-4727-bdd9-e6d971bef3f2",
   "metadata": {},
   "outputs": [
    {
     "data": {
      "text/plain": [
       "true"
      ]
     },
     "execution_count": 38,
     "metadata": {},
     "output_type": "execute_result"
    }
   ],
   "source": [
    "\"hello\" isa AbstractString"
   ]
  },
  {
   "cell_type": "code",
   "execution_count": 48,
   "id": "94a9bed4-5c53-43f7-b66d-9cc8195504e2",
   "metadata": {},
   "outputs": [
    {
     "data": {
      "text/html": [
       "# 2 methods for generic function <b>split</b> from \u001b[90mBase\u001b[39m:<ul><li> split(str::<b>AbstractString</b>; <i>limit, keepempty</i>) in Base at <a href=\"https://github.com/JuliaLang/julia/tree/760b2e5b7396f9cc0da5efce0cadd5d1974c4069/base/strings/util.jl#L744\" target=\"_blank\">strings/util.jl:744</a></li> <li> split(str::<b>T</b>, splitter; <i>limit, keepempty</i>)<i> where T<:AbstractString</i> in Base at <a href=\"https://github.com/JuliaLang/julia/tree/760b2e5b7396f9cc0da5efce0cadd5d1974c4069/base/strings/util.jl#L737\" target=\"_blank\">strings/util.jl:737</a></li> </ul>"
      ],
      "text/plain": [
       "# 2 methods for generic function \"split\" from \u001b[90mBase\u001b[39m:\n",
       " [1] split(\u001b[90mstr\u001b[39m::\u001b[1mAbstractString\u001b[22m; limit, keepempty)\n",
       "\u001b[90m     @\u001b[39m \u001b[90mstrings/\u001b[39m\u001b[90m\u001b[4mutil.jl:744\u001b[24m\u001b[39m\n",
       " [2] split(\u001b[90mstr\u001b[39m::\u001b[1mT\u001b[22m, \u001b[90msplitter\u001b[39m; limit, keepempty) where T<:AbstractString\n",
       "\u001b[90m     @\u001b[39m \u001b[90mstrings/\u001b[39m\u001b[90m\u001b[4mutil.jl:737\u001b[24m\u001b[39m"
      ]
     },
     "execution_count": 48,
     "metadata": {},
     "output_type": "execute_result"
    }
   ],
   "source": [
    "methods(split)"
   ]
  },
  {
   "cell_type": "code",
   "execution_count": 49,
   "id": "e98bee82-c314-4a1b-9f93-0e5138117096",
   "metadata": {},
   "outputs": [
    {
     "data": {
      "text/plain": [
       "\"hello world\""
      ]
     },
     "execution_count": 49,
     "metadata": {},
     "output_type": "execute_result"
    }
   ],
   "source": [
    "x = String15(\"hello world\")"
   ]
  },
  {
   "cell_type": "code",
   "execution_count": 50,
   "id": "7263c648-48a9-4856-ad04-5206c432f263",
   "metadata": {},
   "outputs": [
    {
     "data": {
      "text/plain": [
       "true"
      ]
     },
     "execution_count": 50,
     "metadata": {},
     "output_type": "execute_result"
    }
   ],
   "source": [
    "x isa AbstractString"
   ]
  },
  {
   "cell_type": "code",
   "execution_count": 51,
   "id": "4fa46681-3409-484f-962f-e284f14f3f2b",
   "metadata": {},
   "outputs": [
    {
     "data": {
      "text/plain": [
       "2-element Vector{SubString{String15}}:\n",
       " \"hello\"\n",
       " \"world\""
      ]
     },
     "execution_count": 51,
     "metadata": {},
     "output_type": "execute_result"
    }
   ],
   "source": [
    "split(x, ' ')"
   ]
  },
  {
   "cell_type": "code",
   "execution_count": 52,
   "id": "00587dd0-defa-48ec-922d-ada03cebdc9f",
   "metadata": {},
   "outputs": [
    {
     "data": {
      "text/plain": [
       "11"
      ]
     },
     "execution_count": 52,
     "metadata": {},
     "output_type": "execute_result"
    }
   ],
   "source": [
    "sizeof(x)"
   ]
  },
  {
   "cell_type": "code",
   "execution_count": 53,
   "id": "267a014c-3fa0-4df6-8194-fe3423bbbc30",
   "metadata": {},
   "outputs": [
    {
     "data": {
      "text/plain": [
       "true"
      ]
     },
     "execution_count": 53,
     "metadata": {},
     "output_type": "execute_result"
    }
   ],
   "source": [
    "isbits(x)"
   ]
  },
  {
   "cell_type": "code",
   "execution_count": 54,
   "id": "1b32c764-9f59-4970-a476-73eede83146b",
   "metadata": {},
   "outputs": [
    {
     "data": {
      "text/plain": [
       "()"
      ]
     },
     "execution_count": 54,
     "metadata": {},
     "output_type": "execute_result"
    }
   ],
   "source": [
    "fieldnames(String15)"
   ]
  },
  {
   "cell_type": "code",
   "execution_count": null,
   "id": "8b9e6250-d917-4a2e-9df2-22a51b34727b",
   "metadata": {},
   "outputs": [],
   "source": []
  }
 ],
 "metadata": {
  "kernelspec": {
   "display_name": "Julia 1.11.5",
   "language": "julia",
   "name": "julia-1.11"
  },
  "language_info": {
   "file_extension": ".jl",
   "mimetype": "application/julia",
   "name": "julia",
   "version": "1.11.5"
  }
 },
 "nbformat": 4,
 "nbformat_minor": 5
}
